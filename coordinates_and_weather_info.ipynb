{
 "cells": [
  {
   "cell_type": "markdown",
   "metadata": {},
   "source": [
    "# Project\n",
    "- 70% des utilisateurs souhaitent plus d'informations à propos de leur destination\n",
    "- Chercher les meilleures villes en fonction de la météo \n",
    "- Proposer des hôtels sur ces villes"
   ]
  },
  {
   "cell_type": "code",
   "execution_count": 1,
   "metadata": {},
   "outputs": [],
   "source": [
    "import requests\n",
    "import json\n",
    "import pandas as pd\n",
    "import os\n",
    "from dotenv import load_dotenv  "
   ]
  },
  {
   "cell_type": "markdown",
   "metadata": {},
   "source": [
    "# Récupération des coordonnées GPS des 35 meilleures villes où voyager en France selon One Week In.com"
   ]
  },
  {
   "cell_type": "markdown",
   "metadata": {},
   "source": [
    "### Test de l'API sur une ville pour voir si l'API renvoie bien quelque chose"
   ]
  },
  {
   "cell_type": "code",
   "execution_count": 2,
   "metadata": {},
   "outputs": [],
   "source": [
    "url = 'https://data.geopf.fr/geocodage/search'"
   ]
  },
  {
   "cell_type": "code",
   "execution_count": 3,
   "metadata": {},
   "outputs": [
    {
     "data": {
      "text/plain": [
       "{'type': 'FeatureCollection',\n",
       " 'features': [{'type': 'Feature',\n",
       "   'geometry': {'type': 'Point', 'coordinates': [5.995538, 45.546586]},\n",
       "   'properties': {'label': 'Mont Saint Michel 73190 Challes-les-Eaux',\n",
       "    'score': 0.946500909090909,\n",
       "    'type': 'locality',\n",
       "    'importance': 0.41151,\n",
       "    'id': '73064_B039',\n",
       "    'banId': 'f67c5810-39e4-4a3d-a92c-89380b8e6ab3',\n",
       "    'name': 'Mont Saint Michel',\n",
       "    'postcode': '73190',\n",
       "    'citycode': '73064',\n",
       "    'x': 933687.63,\n",
       "    'y': 6498554.9,\n",
       "    'city': 'Challes-les-Eaux',\n",
       "    'context': '73, Savoie, Auvergne-Rhône-Alpes',\n",
       "    'locality': 'Mont Saint Michel',\n",
       "    '_type': 'address'}},\n",
       "  {'type': 'Feature',\n",
       "   'geometry': {'type': 'Point', 'coordinates': [-1.538198, 47.243963]},\n",
       "   'properties': {'label': 'Avenue du Mont Saint Michel 44300 Nantes',\n",
       "    'score': 0.6999590909090908,\n",
       "    'id': '44109_5785',\n",
       "    'banId': 'bfc8760b-6503-436a-b194-96398ee4dd18',\n",
       "    'name': 'Avenue du Mont Saint Michel',\n",
       "    'postcode': '44300',\n",
       "    'citycode': '44109',\n",
       "    'x': 356904.59,\n",
       "    'y': 6692490.84,\n",
       "    'city': 'Nantes',\n",
       "    'context': '44, Loire-Atlantique, Pays de la Loire',\n",
       "    'type': 'street',\n",
       "    'importance': 0.69955,\n",
       "    'street': 'Avenue du Mont Saint Michel',\n",
       "    '_type': 'address'}},\n",
       "  {'type': 'Feature',\n",
       "   'geometry': {'type': 'Point', 'coordinates': [5.880527, 45.5847]},\n",
       "   'properties': {'label': 'Rue du Mont-Saint-Michel 73000 Chambéry',\n",
       "    'score': 0.6960299999999999,\n",
       "    'id': '73065_2730',\n",
       "    'banId': '6b5e2784-0aa9-4e9e-81bc-ad488ddea5b8',\n",
       "    'name': 'Rue du Mont-Saint-Michel',\n",
       "    'postcode': '73000',\n",
       "    'citycode': '73065',\n",
       "    'x': 924565.09,\n",
       "    'y': 6502450.91,\n",
       "    'city': 'Chambéry',\n",
       "    'context': '73, Savoie, Auvergne-Rhône-Alpes',\n",
       "    'type': 'street',\n",
       "    'importance': 0.65633,\n",
       "    'street': 'Rue du Mont-Saint-Michel',\n",
       "    '_type': 'address'}},\n",
       "  {'type': 'Feature',\n",
       "   'geometry': {'type': 'Point', 'coordinates': [-0.585062, 48.742556]},\n",
       "   'properties': {'label': 'Rue du Mont Saint Michel 61100 Flers',\n",
       "    'score': 0.6944281818181818,\n",
       "    'id': '61169_0980',\n",
       "    'banId': 'd06878bc-f53f-4d60-b503-62512fcb9720',\n",
       "    'name': 'Rue du Mont Saint Michel',\n",
       "    'postcode': '61100',\n",
       "    'citycode': '61169',\n",
       "    'x': 436465.42,\n",
       "    'y': 6855143.35,\n",
       "    'city': 'Flers',\n",
       "    'context': '61, Orne, Normandie',\n",
       "    'type': 'street',\n",
       "    'importance': 0.63871,\n",
       "    'street': 'Rue du Mont Saint Michel',\n",
       "    '_type': 'address'}},\n",
       "  {'type': 'Feature',\n",
       "   'geometry': {'type': 'Point', 'coordinates': [0.610109, 48.757856]},\n",
       "   'properties': {'label': \"Avenue du Mont Saint Michel 61300 L'Aigle\",\n",
       "    'score': 0.6932445454545454,\n",
       "    'id': '61214_0795',\n",
       "    'banId': 'ff8d25bd-f8cb-4e3d-b607-135d2b860889',\n",
       "    'name': 'Avenue du Mont Saint Michel',\n",
       "    'postcode': '61300',\n",
       "    'citycode': '61214',\n",
       "    'x': 524339.27,\n",
       "    'y': 6853519.42,\n",
       "    'city': \"L'Aigle\",\n",
       "    'context': '61, Orne, Normandie',\n",
       "    'type': 'street',\n",
       "    'importance': 0.62569,\n",
       "    'street': 'Avenue du Mont Saint Michel',\n",
       "    '_type': 'address'}},\n",
       "  {'type': 'Feature',\n",
       "   'geometry': {'type': 'Point', 'coordinates': [-1.62882, 48.186935]},\n",
       "   'properties': {'label': 'Rue du Mont Saint-Michel 35830 Betton',\n",
       "    'score': 0.6928063636363635,\n",
       "    'id': '35024_0087',\n",
       "    'banId': '2adea861-977d-49ec-b764-eea1aeb7affd',\n",
       "    'name': 'Rue du Mont Saint-Michel',\n",
       "    'postcode': '35830',\n",
       "    'citycode': '35024',\n",
       "    'x': 356199.27,\n",
       "    'y': 6797477.34,\n",
       "    'city': 'Betton',\n",
       "    'context': '35, Ille-et-Vilaine, Bretagne',\n",
       "    'type': 'street',\n",
       "    'importance': 0.62087,\n",
       "    'street': 'Rue du Mont Saint-Michel',\n",
       "    '_type': 'address'}},\n",
       "  {'type': 'Feature',\n",
       "   'geometry': {'type': 'Point', 'coordinates': [4.344994, 48.9456]},\n",
       "   'properties': {'label': 'Rue du Mont-Saint-Michel 51000 Châlons-en-Champagne',\n",
       "    'score': 0.6918845454545454,\n",
       "    'id': '51108_2380',\n",
       "    'name': 'Rue du Mont-Saint-Michel',\n",
       "    'postcode': '51000',\n",
       "    'citycode': '51108',\n",
       "    'x': 798513.9,\n",
       "    'y': 6872576.08,\n",
       "    'city': 'Châlons-en-Champagne',\n",
       "    'context': '51, Marne, Grand Est',\n",
       "    'type': 'street',\n",
       "    'importance': 0.61073,\n",
       "    'street': 'Rue du Mont-Saint-Michel',\n",
       "    '_type': 'address'}},\n",
       "  {'type': 'Feature',\n",
       "   'geometry': {'type': 'Point', 'coordinates': [2.313508, 51.012418]},\n",
       "   'properties': {'label': 'Rue du Mont Saint Michel 59760 Grande-Synthe',\n",
       "    'score': 0.691610909090909,\n",
       "    'id': '59271_0479',\n",
       "    'banId': '7128fccc-22ff-4006-80fe-2d54c87bfa12',\n",
       "    'name': 'Rue du Mont Saint Michel',\n",
       "    'postcode': '59760',\n",
       "    'citycode': '59271',\n",
       "    'x': 651716.73,\n",
       "    'y': 7102059,\n",
       "    'city': 'Grande-Synthe',\n",
       "    'context': '59, Nord, Hauts-de-France',\n",
       "    'type': 'street',\n",
       "    'importance': 0.60772,\n",
       "    'street': 'Rue du Mont Saint Michel',\n",
       "    '_type': 'address'}},\n",
       "  {'type': 'Feature',\n",
       "   'geometry': {'type': 'Point', 'coordinates': [-1.471704, 48.965082]},\n",
       "   'properties': {'label': 'Rue du Mont Saint Michel 50660 Quettreville-sur-Sienne',\n",
       "    'score': 0.6893990909090908,\n",
       "    'id': '50419_0075',\n",
       "    'banId': 'c49bbd44-fec3-434d-b183-2f475aa2a16a',\n",
       "    'name': 'Rue du Mont Saint Michel',\n",
       "    'postcode': '50660',\n",
       "    'citycode': '50419',\n",
       "    'oldcitycode': '50419',\n",
       "    'x': 372752.47,\n",
       "    'y': 6883172.16,\n",
       "    'city': 'Quettreville-sur-Sienne',\n",
       "    'oldcity': 'Quettreville-sur-Sienne',\n",
       "    'context': '50, Manche, Normandie',\n",
       "    'type': 'street',\n",
       "    'importance': 0.58339,\n",
       "    'street': 'Rue du Mont Saint Michel',\n",
       "    '_type': 'address'}},\n",
       "  {'type': 'Feature',\n",
       "   'geometry': {'type': 'Point', 'coordinates': [-0.669784, 48.584713]},\n",
       "   'properties': {'label': 'route du mont saint michel 61700 Domfront en Poiraie',\n",
       "    'score': 0.6887836363636363,\n",
       "    'id': '61145_3055',\n",
       "    'banId': '3b689801-0032-4301-9127-bb229e028927',\n",
       "    'name': 'route du mont saint michel',\n",
       "    'postcode': '61700',\n",
       "    'citycode': '61145',\n",
       "    'oldcitycode': '61145',\n",
       "    'x': 429426.75,\n",
       "    'y': 6837899.98,\n",
       "    'city': 'Domfront en Poiraie',\n",
       "    'oldcity': 'Domfront',\n",
       "    'context': '61, Orne, Normandie',\n",
       "    'type': 'street',\n",
       "    'importance': 0.57662,\n",
       "    'street': 'route du mont saint michel',\n",
       "    '_type': 'address'}}]}"
      ]
     },
     "execution_count": 3,
     "metadata": {},
     "output_type": "execute_result"
    }
   ],
   "source": [
    "headers = {\n",
    "    'User-Agent': 'Mozilla/5.0 (Windows NT 10.0; Win64; x64) AppleWebKit/537.36 (KHTML, like Gecko) Chrome/58.0.3029.110 Safari/537.3 ',\n",
    "    \"Accept-Language\": \"fr-FR,fr;q=0.9\"\n",
    "}\n",
    "\n",
    "payload = {\n",
    "    'q': 'Mont Saint Michel', 'France'\n",
    "    'city': 'Mont Saint Michel',\n",
    "    'format': 'json'\n",
    "}\n",
    "\n",
    "response = requests.get(url=url, params=payload, headers=headers)\n",
    "response.json()\n"
   ]
  },
  {
   "cell_type": "markdown",
   "metadata": {},
   "source": [
    "### L'API répond, du coup on extrait les coordonnées GPS des 35 villes "
   ]
  },
  {
   "cell_type": "code",
   "execution_count": 4,
   "metadata": {},
   "outputs": [],
   "source": [
    "# Liste des villes à interroger\n",
    "villes = [\"Mont Saint Michel\",\n",
    "\"St Malo\",\n",
    "\"Bayeux\",\n",
    "\"Le Havre\",\n",
    "\"Rouen\",\n",
    "\"Paris\",\n",
    "\"Amiens\",\n",
    "\"Lille\",\n",
    "\"Strasbourg\",\n",
    "\"Chateau du Haut Koenigsbourg\",\n",
    "\"Colmar\",\n",
    "\"Eguisheim\",\n",
    "\"Besancon\",\n",
    "\"Dijon\",\n",
    "\"Annecy\",\n",
    "\"Grenoble\",\n",
    "\"Lyon\",\n",
    "\"Gorges du Verdon\",\n",
    "\"Bormes les Mimosas\",\n",
    "\"Cassis\",\n",
    "\"Marseille\",\n",
    "\"Aix en Provence\",\n",
    "\"Avignon\",\n",
    "\"Uzes\",\n",
    "\"Nimes\",\n",
    "\"Aigues Mortes\",\n",
    "\"Saintes Maries de la mer\",\n",
    "\"Collioure\",\n",
    "\"Carcassonne\",\n",
    "\"Ariege\",\n",
    "\"Toulouse\",\n",
    "\"Montauban\",\n",
    "\"Biarritz\",\n",
    "\"Bayonne\",\n",
    "\"La Rochelle\"]\n",
    "\n",
    "\n",
    "\n",
    "base_url = \"https://data.geopf.fr/geocodage/search?\"\n",
    "\n",
    "\n",
    "def get_coordinates(ville):\n",
    "    \n",
    "    params = {\n",
    "        'q': ville,\n",
    "        'limit': 1,\n",
    "        'index':'poi'\n",
    "    }\n",
    "    \n",
    "    response = requests.get(base_url, params=params)\n",
    "    \n",
    "    if response.status_code == 200:\n",
    "        data = response.json()\n",
    "        if data['features']:\n",
    "            coordinates = data['features'][0]['geometry']['coordinates']\n",
    "            return coordinates\n",
    "        else:\n",
    "            return None\n",
    "    else:\n",
    "        print(f\"Erreur lors de la requête pour {ville}: {response.status_code}\")\n",
    "        return None\n",
    "\n",
    "\n",
    "results = []\n",
    "for ville in villes:\n",
    "    coordinates = get_coordinates(ville)\n",
    "    if coordinates:\n",
    "        results.append({'Ville': ville, 'Longitude': coordinates[0], 'Latitude': coordinates[1]})\n",
    "    else:\n",
    "        results.append({'Ville': ville, 'Longitude': None, 'Latitude': None})\n"
   ]
  },
  {
   "cell_type": "code",
   "execution_count": 5,
   "metadata": {},
   "outputs": [
    {
     "data": {
      "text/plain": [
       "[5.995538, 45.546586]"
      ]
     },
     "execution_count": 5,
     "metadata": {},
     "output_type": "execute_result"
    }
   ],
   "source": [
    "response.json()['features'][0]['geometry']['coordinates'] #recherche du chemin pour extraire les coordonnées GPS"
   ]
  },
  {
   "cell_type": "markdown",
   "metadata": {},
   "source": [
    "### On met les résultats obtenus dans un dataframe"
   ]
  },
  {
   "cell_type": "code",
   "execution_count": 6,
   "metadata": {},
   "outputs": [
    {
     "data": {
      "text/html": [
       "<div>\n",
       "<style scoped>\n",
       "    .dataframe tbody tr th:only-of-type {\n",
       "        vertical-align: middle;\n",
       "    }\n",
       "\n",
       "    .dataframe tbody tr th {\n",
       "        vertical-align: top;\n",
       "    }\n",
       "\n",
       "    .dataframe thead th {\n",
       "        text-align: right;\n",
       "    }\n",
       "</style>\n",
       "<table border=\"1\" class=\"dataframe\">\n",
       "  <thead>\n",
       "    <tr style=\"text-align: right;\">\n",
       "      <th></th>\n",
       "      <th>Ville</th>\n",
       "      <th>Longitude</th>\n",
       "      <th>Latitude</th>\n",
       "    </tr>\n",
       "  </thead>\n",
       "  <tbody>\n",
       "    <tr>\n",
       "      <th>0</th>\n",
       "      <td>Mont Saint Michel</td>\n",
       "      <td>7.088900</td>\n",
       "      <td>43.849841</td>\n",
       "    </tr>\n",
       "    <tr>\n",
       "      <th>1</th>\n",
       "      <td>St Malo</td>\n",
       "      <td>-2.000385</td>\n",
       "      <td>48.653039</td>\n",
       "    </tr>\n",
       "    <tr>\n",
       "      <th>2</th>\n",
       "      <td>Bayeux</td>\n",
       "      <td>-0.702368</td>\n",
       "      <td>49.277173</td>\n",
       "    </tr>\n",
       "    <tr>\n",
       "      <th>3</th>\n",
       "      <td>Le Havre</td>\n",
       "      <td>0.128407</td>\n",
       "      <td>49.493515</td>\n",
       "    </tr>\n",
       "    <tr>\n",
       "      <th>4</th>\n",
       "      <td>Rouen</td>\n",
       "      <td>1.099092</td>\n",
       "      <td>49.443440</td>\n",
       "    </tr>\n",
       "  </tbody>\n",
       "</table>\n",
       "</div>"
      ],
      "text/plain": [
       "               Ville  Longitude   Latitude\n",
       "0  Mont Saint Michel   7.088900  43.849841\n",
       "1            St Malo  -2.000385  48.653039\n",
       "2             Bayeux  -0.702368  49.277173\n",
       "3           Le Havre   0.128407  49.493515\n",
       "4              Rouen   1.099092  49.443440"
      ]
     },
     "execution_count": 6,
     "metadata": {},
     "output_type": "execute_result"
    }
   ],
   "source": [
    "df = pd.DataFrame(results) # Nous avons bien un dataframe qui contient les 35 villes et leurs coordonnées GPS\n",
    "df.head()"
   ]
  },
  {
   "cell_type": "code",
   "execution_count": 7,
   "metadata": {},
   "outputs": [
    {
     "data": {
      "text/plain": [
       "(35, 3)"
      ]
     },
     "execution_count": 7,
     "metadata": {},
     "output_type": "execute_result"
    }
   ],
   "source": [
    "df.shape # verification des dimensions savoir si on a bien 35 villes "
   ]
  },
  {
   "cell_type": "code",
   "execution_count": 30,
   "metadata": {},
   "outputs": [
    {
     "data": {
      "text/plain": [
       "array(['Mont Saint Michel', 'St Malo', 'Bayeux', 'Le Havre', 'Rouen',\n",
       "       'Paris', 'Amiens', 'Lille', 'Strasbourg',\n",
       "       'Chateau du Haut Koenigsbourg', 'Colmar', 'Eguisheim', 'Besancon',\n",
       "       'Dijon', 'Annecy', 'Grenoble', 'Lyon', 'Gorges du Verdon',\n",
       "       'Bormes les Mimosas', 'Cassis', 'Marseille', 'Aix en Provence',\n",
       "       'Avignon', 'Uzes', 'Nimes', 'Aigues Mortes',\n",
       "       'Saintes Maries de la mer', 'Collioure', 'Carcassonne', 'Ariege',\n",
       "       'Toulouse', 'Montauban', 'Biarritz', 'Bayonne', 'La Rochelle'],\n",
       "      dtype=object)"
      ]
     },
     "execution_count": 30,
     "metadata": {},
     "output_type": "execute_result"
    }
   ],
   "source": [
    "df['Ville'].unique()"
   ]
  },
  {
   "cell_type": "code",
   "execution_count": 8,
   "metadata": {},
   "outputs": [
    {
     "data": {
      "text/plain": [
       "Ville        False\n",
       "Longitude    False\n",
       "Latitude     False\n",
       "dtype: bool"
      ]
     },
     "execution_count": 8,
     "metadata": {},
     "output_type": "execute_result"
    }
   ],
   "source": [
    "df.isnull().any() #verification des valeurs nulles"
   ]
  },
  {
   "cell_type": "markdown",
   "metadata": {},
   "source": [
    "### On double check voir si toutes nos coordonnées GPS se situent bien en France"
   ]
  },
  {
   "cell_type": "code",
   "execution_count": 9,
   "metadata": {},
   "outputs": [
    {
     "data": {
      "application/vnd.plotly.v1+json": {
       "config": {
        "plotlyServerURL": "https://plot.ly"
       },
       "data": [
        {
         "hovertemplate": "Ville=%{text}<br>Latitude=%{lat}<br>Longitude=%{lon}<extra></extra>",
         "lat": [
          43.849841,
          48.653039,
          49.277173,
          49.493515,
          49.44344,
          48.846223,
          49.893548,
          50.634523,
          48.574811,
          48.249581,
          48.116422,
          48.03655,
          47.256814,
          47.326035,
          45.898635,
          45.180525,
          45.767678,
          43.741387,
          43.120819,
          43.213074,
          43.269776,
          43.518436,
          43.943164,
          44.014792,
          43.839648,
          43.55451,
          43.479513,
          42.515405,
          43.209017,
          42.956535,
          43.60766,
          44.022919,
          43.479116,
          43.48541,
          46.157032
         ],
         "legendgroup": "",
         "lon": [
          7.0889,
          -2.000385,
          -0.702368,
          0.128407,
          1.099092,
          2.362203,
          2.292663,
          3.052529,
          7.753827,
          7.344312,
          7.390603,
          7.294224,
          6.021017,
          5.035138,
          6.101282,
          5.725144,
          4.824068,
          6.34617,
          6.34391,
          5.540576,
          5.367037,
          5.38086,
          4.848282,
          4.411618,
          4.351788,
          4.175082,
          4.394262,
          3.075825,
          2.354437,
          1.503476,
          1.437487,
          1.366155,
          -1.564367,
          -1.467888,
          -1.185842
         ],
         "marker": {
          "color": "#636efa",
          "size": 12
         },
         "mode": "markers+text",
         "name": "",
         "showlegend": false,
         "subplot": "mapbox",
         "text": [
          "Mont Saint Michel",
          "St Malo",
          "Bayeux",
          "Le Havre",
          "Rouen",
          "Paris",
          "Amiens",
          "Lille",
          "Strasbourg",
          "Chateau du Haut Koenigsbourg",
          "Colmar",
          "Eguisheim",
          "Besancon",
          "Dijon",
          "Annecy",
          "Grenoble",
          "Lyon",
          "Gorges du Verdon",
          "Bormes les Mimosas",
          "Cassis",
          "Marseille",
          "Aix en Provence",
          "Avignon",
          "Uzes",
          "Nimes",
          "Aigues Mortes",
          "Saintes Maries de la mer",
          "Collioure",
          "Carcassonne",
          "Ariege",
          "Toulouse",
          "Montauban",
          "Biarritz",
          "Bayonne",
          "La Rochelle"
         ],
         "type": "scattermapbox"
        }
       ],
       "layout": {
        "legend": {
         "tracegroupgap": 0
        },
        "mapbox": {
         "center": {
          "lat": 45.70361617142858,
          "lon": 3.6425578285714293
         },
         "domain": {
          "x": [
           0,
           1
          ],
          "y": [
           0,
           1
          ]
         },
         "style": "open-street-map",
         "zoom": 4
        },
        "template": {
         "data": {
          "bar": [
           {
            "error_x": {
             "color": "#2a3f5f"
            },
            "error_y": {
             "color": "#2a3f5f"
            },
            "marker": {
             "line": {
              "color": "#E5ECF6",
              "width": 0.5
             },
             "pattern": {
              "fillmode": "overlay",
              "size": 10,
              "solidity": 0.2
             }
            },
            "type": "bar"
           }
          ],
          "barpolar": [
           {
            "marker": {
             "line": {
              "color": "#E5ECF6",
              "width": 0.5
             },
             "pattern": {
              "fillmode": "overlay",
              "size": 10,
              "solidity": 0.2
             }
            },
            "type": "barpolar"
           }
          ],
          "carpet": [
           {
            "aaxis": {
             "endlinecolor": "#2a3f5f",
             "gridcolor": "white",
             "linecolor": "white",
             "minorgridcolor": "white",
             "startlinecolor": "#2a3f5f"
            },
            "baxis": {
             "endlinecolor": "#2a3f5f",
             "gridcolor": "white",
             "linecolor": "white",
             "minorgridcolor": "white",
             "startlinecolor": "#2a3f5f"
            },
            "type": "carpet"
           }
          ],
          "choropleth": [
           {
            "colorbar": {
             "outlinewidth": 0,
             "ticks": ""
            },
            "type": "choropleth"
           }
          ],
          "contour": [
           {
            "colorbar": {
             "outlinewidth": 0,
             "ticks": ""
            },
            "colorscale": [
             [
              0,
              "#0d0887"
             ],
             [
              0.1111111111111111,
              "#46039f"
             ],
             [
              0.2222222222222222,
              "#7201a8"
             ],
             [
              0.3333333333333333,
              "#9c179e"
             ],
             [
              0.4444444444444444,
              "#bd3786"
             ],
             [
              0.5555555555555556,
              "#d8576b"
             ],
             [
              0.6666666666666666,
              "#ed7953"
             ],
             [
              0.7777777777777778,
              "#fb9f3a"
             ],
             [
              0.8888888888888888,
              "#fdca26"
             ],
             [
              1,
              "#f0f921"
             ]
            ],
            "type": "contour"
           }
          ],
          "contourcarpet": [
           {
            "colorbar": {
             "outlinewidth": 0,
             "ticks": ""
            },
            "type": "contourcarpet"
           }
          ],
          "heatmap": [
           {
            "colorbar": {
             "outlinewidth": 0,
             "ticks": ""
            },
            "colorscale": [
             [
              0,
              "#0d0887"
             ],
             [
              0.1111111111111111,
              "#46039f"
             ],
             [
              0.2222222222222222,
              "#7201a8"
             ],
             [
              0.3333333333333333,
              "#9c179e"
             ],
             [
              0.4444444444444444,
              "#bd3786"
             ],
             [
              0.5555555555555556,
              "#d8576b"
             ],
             [
              0.6666666666666666,
              "#ed7953"
             ],
             [
              0.7777777777777778,
              "#fb9f3a"
             ],
             [
              0.8888888888888888,
              "#fdca26"
             ],
             [
              1,
              "#f0f921"
             ]
            ],
            "type": "heatmap"
           }
          ],
          "heatmapgl": [
           {
            "colorbar": {
             "outlinewidth": 0,
             "ticks": ""
            },
            "colorscale": [
             [
              0,
              "#0d0887"
             ],
             [
              0.1111111111111111,
              "#46039f"
             ],
             [
              0.2222222222222222,
              "#7201a8"
             ],
             [
              0.3333333333333333,
              "#9c179e"
             ],
             [
              0.4444444444444444,
              "#bd3786"
             ],
             [
              0.5555555555555556,
              "#d8576b"
             ],
             [
              0.6666666666666666,
              "#ed7953"
             ],
             [
              0.7777777777777778,
              "#fb9f3a"
             ],
             [
              0.8888888888888888,
              "#fdca26"
             ],
             [
              1,
              "#f0f921"
             ]
            ],
            "type": "heatmapgl"
           }
          ],
          "histogram": [
           {
            "marker": {
             "pattern": {
              "fillmode": "overlay",
              "size": 10,
              "solidity": 0.2
             }
            },
            "type": "histogram"
           }
          ],
          "histogram2d": [
           {
            "colorbar": {
             "outlinewidth": 0,
             "ticks": ""
            },
            "colorscale": [
             [
              0,
              "#0d0887"
             ],
             [
              0.1111111111111111,
              "#46039f"
             ],
             [
              0.2222222222222222,
              "#7201a8"
             ],
             [
              0.3333333333333333,
              "#9c179e"
             ],
             [
              0.4444444444444444,
              "#bd3786"
             ],
             [
              0.5555555555555556,
              "#d8576b"
             ],
             [
              0.6666666666666666,
              "#ed7953"
             ],
             [
              0.7777777777777778,
              "#fb9f3a"
             ],
             [
              0.8888888888888888,
              "#fdca26"
             ],
             [
              1,
              "#f0f921"
             ]
            ],
            "type": "histogram2d"
           }
          ],
          "histogram2dcontour": [
           {
            "colorbar": {
             "outlinewidth": 0,
             "ticks": ""
            },
            "colorscale": [
             [
              0,
              "#0d0887"
             ],
             [
              0.1111111111111111,
              "#46039f"
             ],
             [
              0.2222222222222222,
              "#7201a8"
             ],
             [
              0.3333333333333333,
              "#9c179e"
             ],
             [
              0.4444444444444444,
              "#bd3786"
             ],
             [
              0.5555555555555556,
              "#d8576b"
             ],
             [
              0.6666666666666666,
              "#ed7953"
             ],
             [
              0.7777777777777778,
              "#fb9f3a"
             ],
             [
              0.8888888888888888,
              "#fdca26"
             ],
             [
              1,
              "#f0f921"
             ]
            ],
            "type": "histogram2dcontour"
           }
          ],
          "mesh3d": [
           {
            "colorbar": {
             "outlinewidth": 0,
             "ticks": ""
            },
            "type": "mesh3d"
           }
          ],
          "parcoords": [
           {
            "line": {
             "colorbar": {
              "outlinewidth": 0,
              "ticks": ""
             }
            },
            "type": "parcoords"
           }
          ],
          "pie": [
           {
            "automargin": true,
            "type": "pie"
           }
          ],
          "scatter": [
           {
            "fillpattern": {
             "fillmode": "overlay",
             "size": 10,
             "solidity": 0.2
            },
            "type": "scatter"
           }
          ],
          "scatter3d": [
           {
            "line": {
             "colorbar": {
              "outlinewidth": 0,
              "ticks": ""
             }
            },
            "marker": {
             "colorbar": {
              "outlinewidth": 0,
              "ticks": ""
             }
            },
            "type": "scatter3d"
           }
          ],
          "scattercarpet": [
           {
            "marker": {
             "colorbar": {
              "outlinewidth": 0,
              "ticks": ""
             }
            },
            "type": "scattercarpet"
           }
          ],
          "scattergeo": [
           {
            "marker": {
             "colorbar": {
              "outlinewidth": 0,
              "ticks": ""
             }
            },
            "type": "scattergeo"
           }
          ],
          "scattergl": [
           {
            "marker": {
             "colorbar": {
              "outlinewidth": 0,
              "ticks": ""
             }
            },
            "type": "scattergl"
           }
          ],
          "scattermapbox": [
           {
            "marker": {
             "colorbar": {
              "outlinewidth": 0,
              "ticks": ""
             }
            },
            "type": "scattermapbox"
           }
          ],
          "scatterpolar": [
           {
            "marker": {
             "colorbar": {
              "outlinewidth": 0,
              "ticks": ""
             }
            },
            "type": "scatterpolar"
           }
          ],
          "scatterpolargl": [
           {
            "marker": {
             "colorbar": {
              "outlinewidth": 0,
              "ticks": ""
             }
            },
            "type": "scatterpolargl"
           }
          ],
          "scatterternary": [
           {
            "marker": {
             "colorbar": {
              "outlinewidth": 0,
              "ticks": ""
             }
            },
            "type": "scatterternary"
           }
          ],
          "surface": [
           {
            "colorbar": {
             "outlinewidth": 0,
             "ticks": ""
            },
            "colorscale": [
             [
              0,
              "#0d0887"
             ],
             [
              0.1111111111111111,
              "#46039f"
             ],
             [
              0.2222222222222222,
              "#7201a8"
             ],
             [
              0.3333333333333333,
              "#9c179e"
             ],
             [
              0.4444444444444444,
              "#bd3786"
             ],
             [
              0.5555555555555556,
              "#d8576b"
             ],
             [
              0.6666666666666666,
              "#ed7953"
             ],
             [
              0.7777777777777778,
              "#fb9f3a"
             ],
             [
              0.8888888888888888,
              "#fdca26"
             ],
             [
              1,
              "#f0f921"
             ]
            ],
            "type": "surface"
           }
          ],
          "table": [
           {
            "cells": {
             "fill": {
              "color": "#EBF0F8"
             },
             "line": {
              "color": "white"
             }
            },
            "header": {
             "fill": {
              "color": "#C8D4E3"
             },
             "line": {
              "color": "white"
             }
            },
            "type": "table"
           }
          ]
         },
         "layout": {
          "annotationdefaults": {
           "arrowcolor": "#2a3f5f",
           "arrowhead": 0,
           "arrowwidth": 1
          },
          "autotypenumbers": "strict",
          "coloraxis": {
           "colorbar": {
            "outlinewidth": 0,
            "ticks": ""
           }
          },
          "colorscale": {
           "diverging": [
            [
             0,
             "#8e0152"
            ],
            [
             0.1,
             "#c51b7d"
            ],
            [
             0.2,
             "#de77ae"
            ],
            [
             0.3,
             "#f1b6da"
            ],
            [
             0.4,
             "#fde0ef"
            ],
            [
             0.5,
             "#f7f7f7"
            ],
            [
             0.6,
             "#e6f5d0"
            ],
            [
             0.7,
             "#b8e186"
            ],
            [
             0.8,
             "#7fbc41"
            ],
            [
             0.9,
             "#4d9221"
            ],
            [
             1,
             "#276419"
            ]
           ],
           "sequential": [
            [
             0,
             "#0d0887"
            ],
            [
             0.1111111111111111,
             "#46039f"
            ],
            [
             0.2222222222222222,
             "#7201a8"
            ],
            [
             0.3333333333333333,
             "#9c179e"
            ],
            [
             0.4444444444444444,
             "#bd3786"
            ],
            [
             0.5555555555555556,
             "#d8576b"
            ],
            [
             0.6666666666666666,
             "#ed7953"
            ],
            [
             0.7777777777777778,
             "#fb9f3a"
            ],
            [
             0.8888888888888888,
             "#fdca26"
            ],
            [
             1,
             "#f0f921"
            ]
           ],
           "sequentialminus": [
            [
             0,
             "#0d0887"
            ],
            [
             0.1111111111111111,
             "#46039f"
            ],
            [
             0.2222222222222222,
             "#7201a8"
            ],
            [
             0.3333333333333333,
             "#9c179e"
            ],
            [
             0.4444444444444444,
             "#bd3786"
            ],
            [
             0.5555555555555556,
             "#d8576b"
            ],
            [
             0.6666666666666666,
             "#ed7953"
            ],
            [
             0.7777777777777778,
             "#fb9f3a"
            ],
            [
             0.8888888888888888,
             "#fdca26"
            ],
            [
             1,
             "#f0f921"
            ]
           ]
          },
          "colorway": [
           "#636efa",
           "#EF553B",
           "#00cc96",
           "#ab63fa",
           "#FFA15A",
           "#19d3f3",
           "#FF6692",
           "#B6E880",
           "#FF97FF",
           "#FECB52"
          ],
          "font": {
           "color": "#2a3f5f"
          },
          "geo": {
           "bgcolor": "white",
           "lakecolor": "white",
           "landcolor": "#E5ECF6",
           "showlakes": true,
           "showland": true,
           "subunitcolor": "white"
          },
          "hoverlabel": {
           "align": "left"
          },
          "hovermode": "closest",
          "mapbox": {
           "style": "light"
          },
          "paper_bgcolor": "white",
          "plot_bgcolor": "#E5ECF6",
          "polar": {
           "angularaxis": {
            "gridcolor": "white",
            "linecolor": "white",
            "ticks": ""
           },
           "bgcolor": "#E5ECF6",
           "radialaxis": {
            "gridcolor": "white",
            "linecolor": "white",
            "ticks": ""
           }
          },
          "scene": {
           "xaxis": {
            "backgroundcolor": "#E5ECF6",
            "gridcolor": "white",
            "gridwidth": 2,
            "linecolor": "white",
            "showbackground": true,
            "ticks": "",
            "zerolinecolor": "white"
           },
           "yaxis": {
            "backgroundcolor": "#E5ECF6",
            "gridcolor": "white",
            "gridwidth": 2,
            "linecolor": "white",
            "showbackground": true,
            "ticks": "",
            "zerolinecolor": "white"
           },
           "zaxis": {
            "backgroundcolor": "#E5ECF6",
            "gridcolor": "white",
            "gridwidth": 2,
            "linecolor": "white",
            "showbackground": true,
            "ticks": "",
            "zerolinecolor": "white"
           }
          },
          "shapedefaults": {
           "line": {
            "color": "#2a3f5f"
           }
          },
          "ternary": {
           "aaxis": {
            "gridcolor": "white",
            "linecolor": "white",
            "ticks": ""
           },
           "baxis": {
            "gridcolor": "white",
            "linecolor": "white",
            "ticks": ""
           },
           "bgcolor": "#E5ECF6",
           "caxis": {
            "gridcolor": "white",
            "linecolor": "white",
            "ticks": ""
           }
          },
          "title": {
           "x": 0.05
          },
          "xaxis": {
           "automargin": true,
           "gridcolor": "white",
           "linecolor": "white",
           "ticks": "",
           "title": {
            "standoff": 15
           },
           "zerolinecolor": "white",
           "zerolinewidth": 2
          },
          "yaxis": {
           "automargin": true,
           "gridcolor": "white",
           "linecolor": "white",
           "ticks": "",
           "title": {
            "standoff": 15
           },
           "zerolinecolor": "white",
           "zerolinewidth": 2
          }
         }
        },
        "title": {
         "text": "Verification si mes coordonnées reçues sont bien en France"
        }
       }
      }
     },
     "metadata": {},
     "output_type": "display_data"
    }
   ],
   "source": [
    "import plotly.express as px\n",
    "fig = px.scatter_mapbox(df, lat=\"Latitude\", lon=\"Longitude\", text=\"Ville\",\n",
    "                        zoom=4, \n",
    "                        mapbox_style=\"open-street-map\",\n",
    "                        title=\"Verification si mes coordonnées reçues sont bien en France\")\n",
    "fig.update_traces(marker=dict(size=12))\n",
    "fig.show()"
   ]
  },
  {
   "cell_type": "markdown",
   "metadata": {},
   "source": [
    "# Maintenant que l'on a les coordonnées GPS pour nos 35 villes on va interroger une autre API pour avoir la météo, notamment la température et les précipications en mm de pluie"
   ]
  },
  {
   "cell_type": "markdown",
   "metadata": {},
   "source": [
    "On fait un test de l'API sur une ville voir si l'API répond"
   ]
  },
  {
   "cell_type": "code",
   "execution_count": 54,
   "metadata": {},
   "outputs": [],
   "source": [
    "base_weather_url = 'https://api.open-meteo.com/v1/forecast'\n",
    "load_dotenv()  # Charger les variables d'environnement depuis le fichier .env\n",
    "\n",
    "\n",
    "def get_weather(lon, lat):\n",
    "    #appid = os.getenv('APPID')  # Récupérer l'API key depuis les variables d'environnement\n",
    "    params = {\n",
    "        'latitude': lat,\n",
    "        'longitude': lon,\n",
    "        'timezone': \"Europe/Berlin\",\n",
    "        'timezone_abbreviation': \"CEST\",\n",
    "        'daily': [\"temperature_2m_max\", \"temperature_2m_mean\", \"precipitation_hours\"]\n",
    "    }\n",
    "    \n",
    "    response = requests.get(base_weather_url, params=params)\n",
    "    print(\"Status code:\", response.status_code)\n",
    "    print(\"URL:\", response.url)\n",
    "    print(\"Response:\", response.text)\n",
    "    return response.json() if response.status_code == 200 else None\n",
    "\n"
   ]
  },
  {
   "cell_type": "code",
   "execution_count": 55,
   "metadata": {},
   "outputs": [
    {
     "name": "stdout",
     "output_type": "stream",
     "text": [
      "Status code: 200\n",
      "URL: https://api.open-meteo.com/v1/forecast?latitude=48.653039&longitude=-2.000385&timezone=Europe%2FBerlin&timezone_abbreviation=CEST&daily=temperature_2m_max&daily=temperature_2m_mean&daily=precipitation_hours\n",
      "Response: {\"latitude\":48.65,\"longitude\":-2.0,\"generationtime_ms\":0.2090930938720703,\"utc_offset_seconds\":7200,\"timezone\":\"Europe/Berlin\",\"timezone_abbreviation\":\"GMT+2\",\"elevation\":5.0,\"daily_units\":{\"time\":\"iso8601\",\"temperature_2m_max\":\"°C\",\"temperature_2m_mean\":\"°C\",\"precipitation_hours\":\"h\"},\"daily\":{\"time\":[\"2025-05-05\",\"2025-05-06\",\"2025-05-07\",\"2025-05-08\",\"2025-05-09\",\"2025-05-10\",\"2025-05-11\"],\"temperature_2m_max\":[12.8,14.9,15.7,16.4,19.2,21.5,23.4],\"temperature_2m_mean\":[11.2,12.5,12.9,13.5,14.8,15.7,17.3],\"precipitation_hours\":[0.0,0.0,0.0,0.0,0.0,0.0,0.0]}}\n",
      "{'latitude': 48.65, 'longitude': -2.0, 'generationtime_ms': 0.2090930938720703, 'utc_offset_seconds': 7200, 'timezone': 'Europe/Berlin', 'timezone_abbreviation': 'GMT+2', 'elevation': 5.0, 'daily_units': {'time': 'iso8601', 'temperature_2m_max': '°C', 'temperature_2m_mean': '°C', 'precipitation_hours': 'h'}, 'daily': {'time': ['2025-05-05', '2025-05-06', '2025-05-07', '2025-05-08', '2025-05-09', '2025-05-10', '2025-05-11'], 'temperature_2m_max': [12.8, 14.9, 15.7, 16.4, 19.2, 21.5, 23.4], 'temperature_2m_mean': [11.2, 12.5, 12.9, 13.5, 14.8, 15.7, 17.3], 'precipitation_hours': [0.0, 0.0, 0.0, 0.0, 0.0, 0.0, 0.0]}}\n"
     ]
    }
   ],
   "source": [
    "# Test with the first city\n",
    "test_city = df.iloc[1]\n",
    "weather_data = get_weather(test_city['Longitude'], test_city['Latitude'])\n",
    "print(weather_data)"
   ]
  },
  {
   "cell_type": "markdown",
   "metadata": {},
   "source": [
    "L'API répond, du coup on peut faire la même démarche pour nos 35 villes.\\\n",
    "On boucle sur nos 35 villes souhaitées et on met nos données dans un dataframe pour plus de visibilité"
   ]
  },
  {
   "cell_type": "code",
   "execution_count": 56,
   "metadata": {},
   "outputs": [
    {
     "name": "stdout",
     "output_type": "stream",
     "text": [
      "Status code: 200\n",
      "URL: https://api.open-meteo.com/v1/forecast?latitude=43.849841&longitude=7.0889&timezone=Europe%2FBerlin&timezone_abbreviation=CEST&daily=temperature_2m_max&daily=temperature_2m_mean&daily=precipitation_hours\n",
      "Response: {\"latitude\":43.84,\"longitude\":7.1,\"generationtime_ms\":0.062465667724609375,\"utc_offset_seconds\":7200,\"timezone\":\"Europe/Berlin\",\"timezone_abbreviation\":\"GMT+2\",\"elevation\":615.0,\"daily_units\":{\"time\":\"iso8601\",\"temperature_2m_max\":\"°C\",\"temperature_2m_mean\":\"°C\",\"precipitation_hours\":\"h\"},\"daily\":{\"time\":[\"2025-05-05\",\"2025-05-06\",\"2025-05-07\",\"2025-05-08\",\"2025-05-09\",\"2025-05-10\",\"2025-05-11\"],\"temperature_2m_max\":[15.9,16.5,15.9,14.0,14.7,17.6,16.6],\"temperature_2m_mean\":[13.0,13.2,11.6,10.5,11.1,12.8,13.6],\"precipitation_hours\":[4.0,0.0,3.0,8.0,12.0,0.0,6.0]}}\n",
      "Mont Saint Michel OK (7.0889, 43.849841)\n",
      "Status code: 200\n",
      "URL: https://api.open-meteo.com/v1/forecast?latitude=48.653039&longitude=-2.000385&timezone=Europe%2FBerlin&timezone_abbreviation=CEST&daily=temperature_2m_max&daily=temperature_2m_mean&daily=precipitation_hours\n",
      "Response: {\"latitude\":48.65,\"longitude\":-2.0,\"generationtime_ms\":0.12803077697753906,\"utc_offset_seconds\":7200,\"timezone\":\"Europe/Berlin\",\"timezone_abbreviation\":\"GMT+2\",\"elevation\":5.0,\"daily_units\":{\"time\":\"iso8601\",\"temperature_2m_max\":\"°C\",\"temperature_2m_mean\":\"°C\",\"precipitation_hours\":\"h\"},\"daily\":{\"time\":[\"2025-05-05\",\"2025-05-06\",\"2025-05-07\",\"2025-05-08\",\"2025-05-09\",\"2025-05-10\",\"2025-05-11\"],\"temperature_2m_max\":[12.8,14.9,15.7,16.4,19.2,21.5,23.4],\"temperature_2m_mean\":[11.2,12.5,12.9,13.5,14.8,15.7,17.3],\"precipitation_hours\":[0.0,0.0,0.0,0.0,0.0,0.0,0.0]}}\n",
      "St Malo OK (-2.000385, 48.653039)\n",
      "Status code: 200\n",
      "URL: https://api.open-meteo.com/v1/forecast?latitude=49.277173&longitude=-0.702368&timezone=Europe%2FBerlin&timezone_abbreviation=CEST&daily=temperature_2m_max&daily=temperature_2m_mean&daily=precipitation_hours\n",
      "Response: {\"latitude\":49.28,\"longitude\":-0.70000005,\"generationtime_ms\":0.08094310760498047,\"utc_offset_seconds\":7200,\"timezone\":\"Europe/Berlin\",\"timezone_abbreviation\":\"GMT+2\",\"elevation\":48.0,\"daily_units\":{\"time\":\"iso8601\",\"temperature_2m_max\":\"°C\",\"temperature_2m_mean\":\"°C\",\"precipitation_hours\":\"h\"},\"daily\":{\"time\":[\"2025-05-05\",\"2025-05-06\",\"2025-05-07\",\"2025-05-08\",\"2025-05-09\",\"2025-05-10\",\"2025-05-11\"],\"temperature_2m_max\":[11.1,11.9,12.4,14.7,15.2,18.5,19.1],\"temperature_2m_mean\":[9.7,10.6,10.7,11.7,12.0,13.2,13.8],\"precipitation_hours\":[0.0,0.0,0.0,0.0,0.0,0.0,0.0]}}\n",
      "Bayeux OK (-0.702368, 49.277173)\n",
      "Status code: 200\n",
      "URL: https://api.open-meteo.com/v1/forecast?latitude=49.493515&longitude=0.128407&timezone=Europe%2FBerlin&timezone_abbreviation=CEST&daily=temperature_2m_max&daily=temperature_2m_mean&daily=precipitation_hours\n",
      "Response: {\"latitude\":49.5,\"longitude\":0.119999886,\"generationtime_ms\":0.10764598846435547,\"utc_offset_seconds\":7200,\"timezone\":\"Europe/Berlin\",\"timezone_abbreviation\":\"GMT+2\",\"elevation\":3.0,\"daily_units\":{\"time\":\"iso8601\",\"temperature_2m_max\":\"°C\",\"temperature_2m_mean\":\"°C\",\"precipitation_hours\":\"h\"},\"daily\":{\"time\":[\"2025-05-05\",\"2025-05-06\",\"2025-05-07\",\"2025-05-08\",\"2025-05-09\",\"2025-05-10\",\"2025-05-11\"],\"temperature_2m_max\":[12.3,13.3,13.8,16.1,17.0,19.2,21.0],\"temperature_2m_mean\":[9.8,10.9,11.5,12.6,13.5,14.8,16.1],\"precipitation_hours\":[4.0,0.0,0.0,0.0,0.0,0.0,0.0]}}\n",
      "Le Havre OK (0.128407, 49.493515)\n",
      "Status code: 200\n",
      "URL: https://api.open-meteo.com/v1/forecast?latitude=49.44344&longitude=1.099092&timezone=Europe%2FBerlin&timezone_abbreviation=CEST&daily=temperature_2m_max&daily=temperature_2m_mean&daily=precipitation_hours\n",
      "Response: {\"latitude\":49.44,\"longitude\":1.0999999,\"generationtime_ms\":0.1068115234375,\"utc_offset_seconds\":7200,\"timezone\":\"Europe/Berlin\",\"timezone_abbreviation\":\"GMT+2\",\"elevation\":26.0,\"daily_units\":{\"time\":\"iso8601\",\"temperature_2m_max\":\"°C\",\"temperature_2m_mean\":\"°C\",\"precipitation_hours\":\"h\"},\"daily\":{\"time\":[\"2025-05-05\",\"2025-05-06\",\"2025-05-07\",\"2025-05-08\",\"2025-05-09\",\"2025-05-10\",\"2025-05-11\"],\"temperature_2m_max\":[12.6,15.0,15.6,16.6,16.5,19.1,20.7],\"temperature_2m_mean\":[9.2,10.4,11.6,12.0,12.7,13.7,14.8],\"precipitation_hours\":[0.0,0.0,0.0,0.0,0.0,0.0,0.0]}}\n",
      "Rouen OK (1.099092, 49.44344)\n",
      "Status code: 200\n",
      "URL: https://api.open-meteo.com/v1/forecast?latitude=48.846223&longitude=2.362203&timezone=Europe%2FBerlin&timezone_abbreviation=CEST&daily=temperature_2m_max&daily=temperature_2m_mean&daily=precipitation_hours\n",
      "Response: {\"latitude\":48.84,\"longitude\":2.3599997,\"generationtime_ms\":0.06365776062011719,\"utc_offset_seconds\":7200,\"timezone\":\"Europe/Berlin\",\"timezone_abbreviation\":\"GMT+2\",\"elevation\":34.0,\"daily_units\":{\"time\":\"iso8601\",\"temperature_2m_max\":\"°C\",\"temperature_2m_mean\":\"°C\",\"precipitation_hours\":\"h\"},\"daily\":{\"time\":[\"2025-05-05\",\"2025-05-06\",\"2025-05-07\",\"2025-05-08\",\"2025-05-09\",\"2025-05-10\",\"2025-05-11\"],\"temperature_2m_max\":[14.6,16.2,16.4,16.9,17.9,20.8,22.2],\"temperature_2m_mean\":[11.0,11.7,12.6,12.5,13.7,15.0,16.3],\"precipitation_hours\":[0.0,0.0,0.0,3.0,0.0,0.0,0.0]}}\n",
      "Paris OK (2.362203, 48.846223)\n",
      "Status code: 200\n",
      "URL: https://api.open-meteo.com/v1/forecast?latitude=49.893548&longitude=2.292663&timezone=Europe%2FBerlin&timezone_abbreviation=CEST&daily=temperature_2m_max&daily=temperature_2m_mean&daily=precipitation_hours\n",
      "Response: {\"latitude\":49.9,\"longitude\":2.291,\"generationtime_ms\":0.09799003601074219,\"utc_offset_seconds\":7200,\"timezone\":\"Europe/Berlin\",\"timezone_abbreviation\":\"GMT+2\",\"elevation\":33.0,\"daily_units\":{\"time\":\"iso8601\",\"temperature_2m_max\":\"°C\",\"temperature_2m_mean\":\"°C\",\"precipitation_hours\":\"h\"},\"daily\":{\"time\":[\"2025-05-05\",\"2025-05-06\",\"2025-05-07\",\"2025-05-08\",\"2025-05-09\",\"2025-05-10\",\"2025-05-11\"],\"temperature_2m_max\":[15.3,17.5,18.1,16.9,16.9,19.9,19.5],\"temperature_2m_mean\":[10.5,12.6,12.7,13.1,12.6,13.5,14.8],\"precipitation_hours\":[0.0,0.0,0.0,0.0,0.0,0.0,0.0]}}\n",
      "Amiens OK (2.292663, 49.893548)\n",
      "Status code: 200\n",
      "URL: https://api.open-meteo.com/v1/forecast?latitude=50.634523&longitude=3.052529&timezone=Europe%2FBerlin&timezone_abbreviation=CEST&daily=temperature_2m_max&daily=temperature_2m_mean&daily=precipitation_hours\n",
      "Response: {\"latitude\":50.638,\"longitude\":3.0449998,\"generationtime_ms\":0.04589557647705078,\"utc_offset_seconds\":7200,\"timezone\":\"Europe/Berlin\",\"timezone_abbreviation\":\"GMT+2\",\"elevation\":26.0,\"daily_units\":{\"time\":\"iso8601\",\"temperature_2m_max\":\"°C\",\"temperature_2m_mean\":\"°C\",\"precipitation_hours\":\"h\"},\"daily\":{\"time\":[\"2025-05-05\",\"2025-05-06\",\"2025-05-07\",\"2025-05-08\",\"2025-05-09\",\"2025-05-10\",\"2025-05-11\"],\"temperature_2m_max\":[16.2,16.9,17.0,17.2,17.8,19.8,18.8],\"temperature_2m_mean\":[10.7,11.7,12.6,13.3,13.3,13.9,14.8],\"precipitation_hours\":[0.0,0.0,0.0,0.0,0.0,0.0,0.0]}}\n",
      "Lille OK (3.052529, 50.634523)\n",
      "Status code: 200\n",
      "URL: https://api.open-meteo.com/v1/forecast?latitude=48.574811&longitude=7.753827&timezone=Europe%2FBerlin&timezone_abbreviation=CEST&daily=temperature_2m_max&daily=temperature_2m_mean&daily=precipitation_hours\n",
      "Response: {\"latitude\":48.58,\"longitude\":7.7599998,\"generationtime_ms\":0.07045269012451172,\"utc_offset_seconds\":7200,\"timezone\":\"Europe/Berlin\",\"timezone_abbreviation\":\"GMT+2\",\"elevation\":141.0,\"daily_units\":{\"time\":\"iso8601\",\"temperature_2m_max\":\"°C\",\"temperature_2m_mean\":\"°C\",\"precipitation_hours\":\"h\"},\"daily\":{\"time\":[\"2025-05-05\",\"2025-05-06\",\"2025-05-07\",\"2025-05-08\",\"2025-05-09\",\"2025-05-10\",\"2025-05-11\"],\"temperature_2m_max\":[15.4,16.6,18.3,13.9,15.0,18.6,18.0],\"temperature_2m_mean\":[12.0,12.6,12.6,11.3,11.2,12.7,12.8],\"precipitation_hours\":[1.0,0.0,0.0,11.0,6.0,0.0,0.0]}}\n",
      "Strasbourg OK (7.753827, 48.574811)\n",
      "Status code: 200\n",
      "URL: https://api.open-meteo.com/v1/forecast?latitude=48.249581&longitude=7.344312&timezone=Europe%2FBerlin&timezone_abbreviation=CEST&daily=temperature_2m_max&daily=temperature_2m_mean&daily=precipitation_hours\n",
      "Response: {\"latitude\":48.22,\"longitude\":7.319999,\"generationtime_ms\":0.11432170867919922,\"utc_offset_seconds\":7200,\"timezone\":\"Europe/Berlin\",\"timezone_abbreviation\":\"GMT+2\",\"elevation\":721.0,\"daily_units\":{\"time\":\"iso8601\",\"temperature_2m_max\":\"°C\",\"temperature_2m_mean\":\"°C\",\"precipitation_hours\":\"h\"},\"daily\":{\"time\":[\"2025-05-05\",\"2025-05-06\",\"2025-05-07\",\"2025-05-08\",\"2025-05-09\",\"2025-05-10\",\"2025-05-11\"],\"temperature_2m_max\":[8.7,11.4,11.7,9.3,9.4,13.7,13.7],\"temperature_2m_mean\":[6.8,8.0,8.7,7.4,7.2,9.2,9.9],\"precipitation_hours\":[5.0,0.0,2.0,9.0,3.0,0.0,0.0]}}\n",
      "Chateau du Haut Koenigsbourg OK (7.344312, 48.249581)\n",
      "Status code: 200\n",
      "URL: https://api.open-meteo.com/v1/forecast?latitude=48.116422&longitude=7.390603&timezone=Europe%2FBerlin&timezone_abbreviation=CEST&daily=temperature_2m_max&daily=temperature_2m_mean&daily=precipitation_hours\n",
      "Response: {\"latitude\":48.12,\"longitude\":7.4,\"generationtime_ms\":0.06723403930664062,\"utc_offset_seconds\":7200,\"timezone\":\"Europe/Berlin\",\"timezone_abbreviation\":\"GMT+2\",\"elevation\":183.0,\"daily_units\":{\"time\":\"iso8601\",\"temperature_2m_max\":\"°C\",\"temperature_2m_mean\":\"°C\",\"precipitation_hours\":\"h\"},\"daily\":{\"time\":[\"2025-05-05\",\"2025-05-06\",\"2025-05-07\",\"2025-05-08\",\"2025-05-09\",\"2025-05-10\",\"2025-05-11\"],\"temperature_2m_max\":[12.6,14.9,15.5,12.8,13.7,18.5,18.2],\"temperature_2m_mean\":[10.4,10.8,11.0,10.8,10.8,12.6,12.8],\"precipitation_hours\":[2.0,0.0,2.0,12.0,3.0,0.0,0.0]}}\n",
      "Colmar OK (7.390603, 48.116422)\n",
      "Status code: 200\n",
      "URL: https://api.open-meteo.com/v1/forecast?latitude=48.03655&longitude=7.294224&timezone=Europe%2FBerlin&timezone_abbreviation=CEST&daily=temperature_2m_max&daily=temperature_2m_mean&daily=precipitation_hours\n",
      "Response: {\"latitude\":48.04,\"longitude\":7.2999997,\"generationtime_ms\":0.07855892181396484,\"utc_offset_seconds\":7200,\"timezone\":\"Europe/Berlin\",\"timezone_abbreviation\":\"GMT+2\",\"elevation\":270.0,\"daily_units\":{\"time\":\"iso8601\",\"temperature_2m_max\":\"°C\",\"temperature_2m_mean\":\"°C\",\"precipitation_hours\":\"h\"},\"daily\":{\"time\":[\"2025-05-05\",\"2025-05-06\",\"2025-05-07\",\"2025-05-08\",\"2025-05-09\",\"2025-05-10\",\"2025-05-11\"],\"temperature_2m_max\":[11.6,13.8,14.2,11.7,12.6,17.2,17.3],\"temperature_2m_mean\":[9.8,10.6,10.9,9.9,10.1,11.8,12.5],\"precipitation_hours\":[6.0,0.0,2.0,14.0,0.0,0.0,0.0]}}\n",
      "Eguisheim OK (7.294224, 48.03655)\n",
      "Status code: 200\n",
      "URL: https://api.open-meteo.com/v1/forecast?latitude=47.256814&longitude=6.021017&timezone=Europe%2FBerlin&timezone_abbreviation=CEST&daily=temperature_2m_max&daily=temperature_2m_mean&daily=precipitation_hours\n",
      "Response: {\"latitude\":47.260002,\"longitude\":6.02,\"generationtime_ms\":0.0667572021484375,\"utc_offset_seconds\":7200,\"timezone\":\"Europe/Berlin\",\"timezone_abbreviation\":\"GMT+2\",\"elevation\":325.0,\"daily_units\":{\"time\":\"iso8601\",\"temperature_2m_max\":\"°C\",\"temperature_2m_mean\":\"°C\",\"precipitation_hours\":\"h\"},\"daily\":{\"time\":[\"2025-05-05\",\"2025-05-06\",\"2025-05-07\",\"2025-05-08\",\"2025-05-09\",\"2025-05-10\",\"2025-05-11\"],\"temperature_2m_max\":[11.2,12.5,13.8,13.3,15.2,18.4,19.3],\"temperature_2m_mean\":[9.9,9.7,10.2,10.1,11.4,12.6,12.9],\"precipitation_hours\":[0.0,0.0,2.0,0.0,3.0,0.0,0.0]}}\n",
      "Besancon OK (6.021017, 47.256814)\n",
      "Status code: 200\n",
      "URL: https://api.open-meteo.com/v1/forecast?latitude=47.326035&longitude=5.035138&timezone=Europe%2FBerlin&timezone_abbreviation=CEST&daily=temperature_2m_max&daily=temperature_2m_mean&daily=precipitation_hours\n",
      "Response: {\"latitude\":47.32,\"longitude\":5.0399995,\"generationtime_ms\":0.07450580596923828,\"utc_offset_seconds\":7200,\"timezone\":\"Europe/Berlin\",\"timezone_abbreviation\":\"GMT+2\",\"elevation\":251.0,\"daily_units\":{\"time\":\"iso8601\",\"temperature_2m_max\":\"°C\",\"temperature_2m_mean\":\"°C\",\"precipitation_hours\":\"h\"},\"daily\":{\"time\":[\"2025-05-05\",\"2025-05-06\",\"2025-05-07\",\"2025-05-08\",\"2025-05-09\",\"2025-05-10\",\"2025-05-11\"],\"temperature_2m_max\":[13.3,15.0,16.4,15.1,15.3,19.0,20.1],\"temperature_2m_mean\":[10.9,11.8,12.2,10.6,11.2,12.9,14.1],\"precipitation_hours\":[1.0,0.0,0.0,0.0,3.0,0.0,0.0]}}\n",
      "Dijon OK (5.035138, 47.326035)\n",
      "Status code: 200\n",
      "URL: https://api.open-meteo.com/v1/forecast?latitude=45.898635&longitude=6.101282&timezone=Europe%2FBerlin&timezone_abbreviation=CEST&daily=temperature_2m_max&daily=temperature_2m_mean&daily=precipitation_hours\n",
      "Response: {\"latitude\":45.9,\"longitude\":6.1,\"generationtime_ms\":0.06747245788574219,\"utc_offset_seconds\":7200,\"timezone\":\"Europe/Berlin\",\"timezone_abbreviation\":\"GMT+2\",\"elevation\":525.0,\"daily_units\":{\"time\":\"iso8601\",\"temperature_2m_max\":\"°C\",\"temperature_2m_mean\":\"°C\",\"precipitation_hours\":\"h\"},\"daily\":{\"time\":[\"2025-05-05\",\"2025-05-06\",\"2025-05-07\",\"2025-05-08\",\"2025-05-09\",\"2025-05-10\",\"2025-05-11\"],\"temperature_2m_max\":[11.7,11.9,11.0,12.6,16.8,18.9,20.3],\"temperature_2m_mean\":[10.4,9.4,9.2,9.6,11.8,12.6,12.9],\"precipitation_hours\":[15.0,0.0,12.0,0.0,0.0,0.0,0.0]}}\n",
      "Annecy OK (6.101282, 45.898635)\n",
      "Status code: 200\n",
      "URL: https://api.open-meteo.com/v1/forecast?latitude=45.180525&longitude=5.725144&timezone=Europe%2FBerlin&timezone_abbreviation=CEST&daily=temperature_2m_max&daily=temperature_2m_mean&daily=precipitation_hours\n",
      "Response: {\"latitude\":45.18,\"longitude\":5.72,\"generationtime_ms\":0.06389617919921875,\"utc_offset_seconds\":7200,\"timezone\":\"Europe/Berlin\",\"timezone_abbreviation\":\"GMT+2\",\"elevation\":215.0,\"daily_units\":{\"time\":\"iso8601\",\"temperature_2m_max\":\"°C\",\"temperature_2m_mean\":\"°C\",\"precipitation_hours\":\"h\"},\"daily\":{\"time\":[\"2025-05-05\",\"2025-05-06\",\"2025-05-07\",\"2025-05-08\",\"2025-05-09\",\"2025-05-10\",\"2025-05-11\"],\"temperature_2m_max\":[15.1,14.6,13.7,15.7,19.2,21.3,23.2],\"temperature_2m_mean\":[12.5,12.2,12.2,12.3,14.2,15.2,16.7],\"precipitation_hours\":[10.0,5.0,12.0,0.0,0.0,0.0,0.0]}}\n",
      "Grenoble OK (5.725144, 45.180525)\n",
      "Status code: 200\n",
      "URL: https://api.open-meteo.com/v1/forecast?latitude=45.767678&longitude=4.824068&timezone=Europe%2FBerlin&timezone_abbreviation=CEST&daily=temperature_2m_max&daily=temperature_2m_mean&daily=precipitation_hours\n",
      "Response: {\"latitude\":45.760002,\"longitude\":4.82,\"generationtime_ms\":0.11110305786132812,\"utc_offset_seconds\":7200,\"timezone\":\"Europe/Berlin\",\"timezone_abbreviation\":\"GMT+2\",\"elevation\":161.0,\"daily_units\":{\"time\":\"iso8601\",\"temperature_2m_max\":\"°C\",\"temperature_2m_mean\":\"°C\",\"precipitation_hours\":\"h\"},\"daily\":{\"time\":[\"2025-05-05\",\"2025-05-06\",\"2025-05-07\",\"2025-05-08\",\"2025-05-09\",\"2025-05-10\",\"2025-05-11\"],\"temperature_2m_max\":[12.8,14.6,13.6,16.4,18.8,21.3,22.7],\"temperature_2m_mean\":[11.8,11.7,11.4,12.3,13.0,14.7,15.5],\"precipitation_hours\":[7.0,1.0,14.0,0.0,0.0,0.0,0.0]}}\n",
      "Lyon OK (4.824068, 45.767678)\n",
      "Status code: 200\n",
      "URL: https://api.open-meteo.com/v1/forecast?latitude=43.741387&longitude=6.34617&timezone=Europe%2FBerlin&timezone_abbreviation=CEST&daily=temperature_2m_max&daily=temperature_2m_mean&daily=precipitation_hours\n",
      "Response: {\"latitude\":43.74,\"longitude\":6.36,\"generationtime_ms\":0.06258487701416016,\"utc_offset_seconds\":7200,\"timezone\":\"Europe/Berlin\",\"timezone_abbreviation\":\"GMT+2\",\"elevation\":592.0,\"daily_units\":{\"time\":\"iso8601\",\"temperature_2m_max\":\"°C\",\"temperature_2m_mean\":\"°C\",\"precipitation_hours\":\"h\"},\"daily\":{\"time\":[\"2025-05-05\",\"2025-05-06\",\"2025-05-07\",\"2025-05-08\",\"2025-05-09\",\"2025-05-10\",\"2025-05-11\"],\"temperature_2m_max\":[17.1,16.2,14.9,16.9,15.8,19.5,18.4],\"temperature_2m_mean\":[13.7,11.8,10.6,11.4,11.7,13.2,13.5],\"precipitation_hours\":[2.0,0.0,1.0,0.0,9.0,0.0,3.0]}}\n",
      "Gorges du Verdon OK (6.34617, 43.741387)\n",
      "Status code: 200\n",
      "URL: https://api.open-meteo.com/v1/forecast?latitude=43.120819&longitude=6.34391&timezone=Europe%2FBerlin&timezone_abbreviation=CEST&daily=temperature_2m_max&daily=temperature_2m_mean&daily=precipitation_hours\n",
      "Response: {\"latitude\":43.12,\"longitude\":6.34,\"generationtime_ms\":0.5221366882324219,\"utc_offset_seconds\":7200,\"timezone\":\"Europe/Berlin\",\"timezone_abbreviation\":\"GMT+2\",\"elevation\":79.0,\"daily_units\":{\"time\":\"iso8601\",\"temperature_2m_max\":\"°C\",\"temperature_2m_mean\":\"°C\",\"precipitation_hours\":\"h\"},\"daily\":{\"time\":[\"2025-05-05\",\"2025-05-06\",\"2025-05-07\",\"2025-05-08\",\"2025-05-09\",\"2025-05-10\",\"2025-05-11\"],\"temperature_2m_max\":[21.2,18.7,17.5,19.5,19.0,20.7,20.6],\"temperature_2m_mean\":[16.9,15.0,14.9,15.2,15.7,16.2,16.3],\"precipitation_hours\":[3.0,0.0,0.0,0.0,1.0,0.0,0.0]}}\n",
      "Bormes les Mimosas OK (6.34391, 43.120819)\n",
      "Status code: 200\n",
      "URL: https://api.open-meteo.com/v1/forecast?latitude=43.213074&longitude=5.540576&timezone=Europe%2FBerlin&timezone_abbreviation=CEST&daily=temperature_2m_max&daily=temperature_2m_mean&daily=precipitation_hours\n",
      "Response: {\"latitude\":43.21,\"longitude\":5.539999,\"generationtime_ms\":0.25856494903564453,\"utc_offset_seconds\":7200,\"timezone\":\"Europe/Berlin\",\"timezone_abbreviation\":\"GMT+2\",\"elevation\":22.0,\"daily_units\":{\"time\":\"iso8601\",\"temperature_2m_max\":\"°C\",\"temperature_2m_mean\":\"°C\",\"precipitation_hours\":\"h\"},\"daily\":{\"time\":[\"2025-05-05\",\"2025-05-06\",\"2025-05-07\",\"2025-05-08\",\"2025-05-09\",\"2025-05-10\",\"2025-05-11\"],\"temperature_2m_max\":[20.1,19.0,18.0,20.0,19.5,20.7,20.6],\"temperature_2m_mean\":[16.8,15.3,15.8,14.9,16.5,17.2,17.3],\"precipitation_hours\":[3.0,0.0,3.0,0.0,0.0,0.0,0.0]}}\n",
      "Cassis OK (5.540576, 43.213074)\n",
      "Status code: 200\n",
      "URL: https://api.open-meteo.com/v1/forecast?latitude=43.269776&longitude=5.367037&timezone=Europe%2FBerlin&timezone_abbreviation=CEST&daily=temperature_2m_max&daily=temperature_2m_mean&daily=precipitation_hours\n",
      "Response: {\"latitude\":43.27,\"longitude\":5.369999,\"generationtime_ms\":0.3368854522705078,\"utc_offset_seconds\":7200,\"timezone\":\"Europe/Berlin\",\"timezone_abbreviation\":\"GMT+2\",\"elevation\":32.0,\"daily_units\":{\"time\":\"iso8601\",\"temperature_2m_max\":\"°C\",\"temperature_2m_mean\":\"°C\",\"precipitation_hours\":\"h\"},\"daily\":{\"time\":[\"2025-05-05\",\"2025-05-06\",\"2025-05-07\",\"2025-05-08\",\"2025-05-09\",\"2025-05-10\",\"2025-05-11\"],\"temperature_2m_max\":[19.1,18.0,17.4,20.0,19.5,22.9,22.3],\"temperature_2m_mean\":[16.3,14.9,15.5,14.8,16.4,17.0,16.9],\"precipitation_hours\":[1.0,0.0,3.0,0.0,0.0,0.0,0.0]}}\n",
      "Marseille OK (5.367037, 43.269776)\n",
      "Status code: 200\n",
      "URL: https://api.open-meteo.com/v1/forecast?latitude=43.518436&longitude=5.38086&timezone=Europe%2FBerlin&timezone_abbreviation=CEST&daily=temperature_2m_max&daily=temperature_2m_mean&daily=precipitation_hours\n",
      "Response: {\"latitude\":43.52,\"longitude\":5.3799996,\"generationtime_ms\":0.12385845184326172,\"utc_offset_seconds\":7200,\"timezone\":\"Europe/Berlin\",\"timezone_abbreviation\":\"GMT+2\",\"elevation\":152.0,\"daily_units\":{\"time\":\"iso8601\",\"temperature_2m_max\":\"°C\",\"temperature_2m_mean\":\"°C\",\"precipitation_hours\":\"h\"},\"daily\":{\"time\":[\"2025-05-05\",\"2025-05-06\",\"2025-05-07\",\"2025-05-08\",\"2025-05-09\",\"2025-05-10\",\"2025-05-11\"],\"temperature_2m_max\":[18.3,17.2,17.2,18.8,19.5,22.0,21.3],\"temperature_2m_mean\":[14.8,12.7,12.7,13.3,14.8,15.7,16.1],\"precipitation_hours\":[3.0,0.0,0.0,0.0,6.0,0.0,0.0]}}\n",
      "Aix en Provence OK (5.38086, 43.518436)\n",
      "Status code: 200\n",
      "URL: https://api.open-meteo.com/v1/forecast?latitude=43.943164&longitude=4.848282&timezone=Europe%2FBerlin&timezone_abbreviation=CEST&daily=temperature_2m_max&daily=temperature_2m_mean&daily=precipitation_hours\n",
      "Response: {\"latitude\":43.94,\"longitude\":4.8399997,\"generationtime_ms\":0.0787973403930664,\"utc_offset_seconds\":7200,\"timezone\":\"Europe/Berlin\",\"timezone_abbreviation\":\"GMT+2\",\"elevation\":23.0,\"daily_units\":{\"time\":\"iso8601\",\"temperature_2m_max\":\"°C\",\"temperature_2m_mean\":\"°C\",\"precipitation_hours\":\"h\"},\"daily\":{\"time\":[\"2025-05-05\",\"2025-05-06\",\"2025-05-07\",\"2025-05-08\",\"2025-05-09\",\"2025-05-10\",\"2025-05-11\"],\"temperature_2m_max\":[18.3,18.3,18.5,18.5,21.6,23.8,23.9],\"temperature_2m_mean\":[14.8,13.9,14.4,14.2,15.6,16.5,16.2],\"precipitation_hours\":[5.0,0.0,2.0,0.0,0.0,0.0,0.0]}}\n",
      "Avignon OK (4.848282, 43.943164)\n",
      "Status code: 200\n",
      "URL: https://api.open-meteo.com/v1/forecast?latitude=44.014792&longitude=4.411618&timezone=Europe%2FBerlin&timezone_abbreviation=CEST&daily=temperature_2m_max&daily=temperature_2m_mean&daily=precipitation_hours\n",
      "Response: {\"latitude\":44.02,\"longitude\":4.4199996,\"generationtime_ms\":0.06592273712158203,\"utc_offset_seconds\":7200,\"timezone\":\"Europe/Berlin\",\"timezone_abbreviation\":\"GMT+2\",\"elevation\":140.0,\"daily_units\":{\"time\":\"iso8601\",\"temperature_2m_max\":\"°C\",\"temperature_2m_mean\":\"°C\",\"precipitation_hours\":\"h\"},\"daily\":{\"time\":[\"2025-05-05\",\"2025-05-06\",\"2025-05-07\",\"2025-05-08\",\"2025-05-09\",\"2025-05-10\",\"2025-05-11\"],\"temperature_2m_max\":[18.2,17.2,18.1,17.9,20.2,23.1,22.8],\"temperature_2m_mean\":[14.3,12.9,13.3,12.6,15.3,15.8,16.4],\"precipitation_hours\":[8.0,0.0,0.0,0.0,0.0,0.0,0.0]}}\n",
      "Uzes OK (4.411618, 44.014792)\n",
      "Status code: 200\n",
      "URL: https://api.open-meteo.com/v1/forecast?latitude=43.839648&longitude=4.351788&timezone=Europe%2FBerlin&timezone_abbreviation=CEST&daily=temperature_2m_max&daily=temperature_2m_mean&daily=precipitation_hours\n",
      "Response: {\"latitude\":43.84,\"longitude\":4.36,\"generationtime_ms\":0.08225440979003906,\"utc_offset_seconds\":7200,\"timezone\":\"Europe/Berlin\",\"timezone_abbreviation\":\"GMT+2\",\"elevation\":65.0,\"daily_units\":{\"time\":\"iso8601\",\"temperature_2m_max\":\"°C\",\"temperature_2m_mean\":\"°C\",\"precipitation_hours\":\"h\"},\"daily\":{\"time\":[\"2025-05-05\",\"2025-05-06\",\"2025-05-07\",\"2025-05-08\",\"2025-05-09\",\"2025-05-10\",\"2025-05-11\"],\"temperature_2m_max\":[18.5,17.5,17.8,19.1,20.8,23.7,23.1],\"temperature_2m_mean\":[15.3,13.9,14.3,13.7,15.9,16.4,16.4],\"precipitation_hours\":[7.0,0.0,3.0,0.0,0.0,0.0,0.0]}}\n",
      "Nimes OK (4.351788, 43.839648)\n",
      "Status code: 200\n",
      "URL: https://api.open-meteo.com/v1/forecast?latitude=43.55451&longitude=4.175082&timezone=Europe%2FBerlin&timezone_abbreviation=CEST&daily=temperature_2m_max&daily=temperature_2m_mean&daily=precipitation_hours\n",
      "Response: {\"latitude\":43.56,\"longitude\":4.18,\"generationtime_ms\":0.058770179748535156,\"utc_offset_seconds\":7200,\"timezone\":\"Europe/Berlin\",\"timezone_abbreviation\":\"GMT+2\",\"elevation\":-1.0,\"daily_units\":{\"time\":\"iso8601\",\"temperature_2m_max\":\"°C\",\"temperature_2m_mean\":\"°C\",\"precipitation_hours\":\"h\"},\"daily\":{\"time\":[\"2025-05-05\",\"2025-05-06\",\"2025-05-07\",\"2025-05-08\",\"2025-05-09\",\"2025-05-10\",\"2025-05-11\"],\"temperature_2m_max\":[18.6,18.5,18.0,19.2,20.4,21.8,20.6],\"temperature_2m_mean\":[16.3,15.0,14.9,15.4,16.9,16.9,16.5],\"precipitation_hours\":[8.0,0.0,0.0,0.0,9.0,0.0,0.0]}}\n",
      "Aigues Mortes OK (4.175082, 43.55451)\n",
      "Status code: 200\n",
      "URL: https://api.open-meteo.com/v1/forecast?latitude=43.479513&longitude=4.394262&timezone=Europe%2FBerlin&timezone_abbreviation=CEST&daily=temperature_2m_max&daily=temperature_2m_mean&daily=precipitation_hours\n",
      "Response: {\"latitude\":43.5,\"longitude\":4.4,\"generationtime_ms\":0.10693073272705078,\"utc_offset_seconds\":7200,\"timezone\":\"Europe/Berlin\",\"timezone_abbreviation\":\"GMT+2\",\"elevation\":0.0,\"daily_units\":{\"time\":\"iso8601\",\"temperature_2m_max\":\"°C\",\"temperature_2m_mean\":\"°C\",\"precipitation_hours\":\"h\"},\"daily\":{\"time\":[\"2025-05-05\",\"2025-05-06\",\"2025-05-07\",\"2025-05-08\",\"2025-05-09\",\"2025-05-10\",\"2025-05-11\"],\"temperature_2m_max\":[19.1,18.4,18.0,19.0,20.1,22.7,21.8],\"temperature_2m_mean\":[16.2,15.0,14.8,15.4,16.7,17.3,17.3],\"precipitation_hours\":[4.0,0.0,0.0,0.0,6.0,0.0,0.0]}}\n",
      "Saintes Maries de la mer OK (4.394262, 43.479513)\n",
      "Status code: 200\n",
      "URL: https://api.open-meteo.com/v1/forecast?latitude=42.515405&longitude=3.075825&timezone=Europe%2FBerlin&timezone_abbreviation=CEST&daily=temperature_2m_max&daily=temperature_2m_mean&daily=precipitation_hours\n",
      "Response: {\"latitude\":42.52,\"longitude\":3.08,\"generationtime_ms\":0.2027750015258789,\"utc_offset_seconds\":7200,\"timezone\":\"Europe/Berlin\",\"timezone_abbreviation\":\"GMT+2\",\"elevation\":54.0,\"daily_units\":{\"time\":\"iso8601\",\"temperature_2m_max\":\"°C\",\"temperature_2m_mean\":\"°C\",\"precipitation_hours\":\"h\"},\"daily\":{\"time\":[\"2025-05-05\",\"2025-05-06\",\"2025-05-07\",\"2025-05-08\",\"2025-05-09\",\"2025-05-10\",\"2025-05-11\"],\"temperature_2m_max\":[18.7,17.9,19.2,19.5,17.7,20.1,20.3],\"temperature_2m_mean\":[15.6,14.5,15.4,15.9,15.7,16.7,17.9],\"precipitation_hours\":[2.0,0.0,1.0,7.0,1.0,0.0,0.0]}}\n",
      "Collioure OK (3.075825, 42.515405)\n",
      "Status code: 200\n",
      "URL: https://api.open-meteo.com/v1/forecast?latitude=43.209017&longitude=2.354437&timezone=Europe%2FBerlin&timezone_abbreviation=CEST&daily=temperature_2m_max&daily=temperature_2m_mean&daily=precipitation_hours\n",
      "Response: {\"latitude\":43.21,\"longitude\":2.3499994,\"generationtime_ms\":0.18906593322753906,\"utc_offset_seconds\":7200,\"timezone\":\"Europe/Berlin\",\"timezone_abbreviation\":\"GMT+2\",\"elevation\":109.0,\"daily_units\":{\"time\":\"iso8601\",\"temperature_2m_max\":\"°C\",\"temperature_2m_mean\":\"°C\",\"precipitation_hours\":\"h\"},\"daily\":{\"time\":[\"2025-05-05\",\"2025-05-06\",\"2025-05-07\",\"2025-05-08\",\"2025-05-09\",\"2025-05-10\",\"2025-05-11\"],\"temperature_2m_max\":[16.9,17.2,19.4,22.3,22.6,21.6,21.5],\"temperature_2m_mean\":[14.4,12.9,14.0,16.4,16.9,16.2,17.1],\"precipitation_hours\":[2.0,0.0,2.0,0.0,1.0,0.0,0.0]}}\n",
      "Carcassonne OK (2.354437, 43.209017)\n",
      "Status code: 200\n",
      "URL: https://api.open-meteo.com/v1/forecast?latitude=42.956535&longitude=1.503476&timezone=Europe%2FBerlin&timezone_abbreviation=CEST&daily=temperature_2m_max&daily=temperature_2m_mean&daily=precipitation_hours\n",
      "Response: {\"latitude\":42.97,\"longitude\":1.5,\"generationtime_ms\":0.40400028228759766,\"utc_offset_seconds\":7200,\"timezone\":\"Europe/Berlin\",\"timezone_abbreviation\":\"GMT+2\",\"elevation\":731.0,\"daily_units\":{\"time\":\"iso8601\",\"temperature_2m_max\":\"°C\",\"temperature_2m_mean\":\"°C\",\"precipitation_hours\":\"h\"},\"daily\":{\"time\":[\"2025-05-05\",\"2025-05-06\",\"2025-05-07\",\"2025-05-08\",\"2025-05-09\",\"2025-05-10\",\"2025-05-11\"],\"temperature_2m_max\":[10.8,10.8,12.9,15.1,15.0,19.5,20.4],\"temperature_2m_mean\":[9.4,8.0,9.5,10.3,11.0,12.7,14.2],\"precipitation_hours\":[18.0,11.0,2.0,6.0,6.0,0.0,3.0]}}\n",
      "Ariege OK (1.503476, 42.956535)\n",
      "Status code: 200\n",
      "URL: https://api.open-meteo.com/v1/forecast?latitude=43.60766&longitude=1.437487&timezone=Europe%2FBerlin&timezone_abbreviation=CEST&daily=temperature_2m_max&daily=temperature_2m_mean&daily=precipitation_hours\n",
      "Response: {\"latitude\":43.6,\"longitude\":1.44,\"generationtime_ms\":0.10764598846435547,\"utc_offset_seconds\":7200,\"timezone\":\"Europe/Berlin\",\"timezone_abbreviation\":\"GMT+2\",\"elevation\":145.0,\"daily_units\":{\"time\":\"iso8601\",\"temperature_2m_max\":\"°C\",\"temperature_2m_mean\":\"°C\",\"precipitation_hours\":\"h\"},\"daily\":{\"time\":[\"2025-05-05\",\"2025-05-06\",\"2025-05-07\",\"2025-05-08\",\"2025-05-09\",\"2025-05-10\",\"2025-05-11\"],\"temperature_2m_max\":[17.2,14.4,17.9,19.6,21.5,23.8,24.2],\"temperature_2m_mean\":[14.9,11.8,13.5,14.6,15.8,17.0,17.8],\"precipitation_hours\":[5.0,3.0,2.0,0.0,0.0,0.0,0.0]}}\n",
      "Toulouse OK (1.437487, 43.60766)\n",
      "Status code: 200\n",
      "URL: https://api.open-meteo.com/v1/forecast?latitude=44.022919&longitude=1.366155&timezone=Europe%2FBerlin&timezone_abbreviation=CEST&daily=temperature_2m_max&daily=temperature_2m_mean&daily=precipitation_hours\n",
      "Response: {\"latitude\":44.02,\"longitude\":1.3599997,\"generationtime_ms\":0.15485286712646484,\"utc_offset_seconds\":7200,\"timezone\":\"Europe/Berlin\",\"timezone_abbreviation\":\"GMT+2\",\"elevation\":105.0,\"daily_units\":{\"time\":\"iso8601\",\"temperature_2m_max\":\"°C\",\"temperature_2m_mean\":\"°C\",\"precipitation_hours\":\"h\"},\"daily\":{\"time\":[\"2025-05-05\",\"2025-05-06\",\"2025-05-07\",\"2025-05-08\",\"2025-05-09\",\"2025-05-10\",\"2025-05-11\"],\"temperature_2m_max\":[17.5,14.0,17.6,19.0,21.3,24.2,24.7],\"temperature_2m_mean\":[14.7,11.0,13.0,13.8,14.9,16.9,17.7],\"precipitation_hours\":[3.0,4.0,0.0,0.0,0.0,0.0,0.0]}}\n",
      "Montauban OK (1.366155, 44.022919)\n",
      "Status code: 200\n",
      "URL: https://api.open-meteo.com/v1/forecast?latitude=43.479116&longitude=-1.564367&timezone=Europe%2FBerlin&timezone_abbreviation=CEST&daily=temperature_2m_max&daily=temperature_2m_mean&daily=precipitation_hours\n",
      "Response: {\"latitude\":43.48,\"longitude\":-1.5600004,\"generationtime_ms\":0.13244152069091797,\"utc_offset_seconds\":7200,\"timezone\":\"Europe/Berlin\",\"timezone_abbreviation\":\"GMT+2\",\"elevation\":51.0,\"daily_units\":{\"time\":\"iso8601\",\"temperature_2m_max\":\"°C\",\"temperature_2m_mean\":\"°C\",\"precipitation_hours\":\"h\"},\"daily\":{\"time\":[\"2025-05-05\",\"2025-05-06\",\"2025-05-07\",\"2025-05-08\",\"2025-05-09\",\"2025-05-10\",\"2025-05-11\"],\"temperature_2m_max\":[15.2,14.7,17.1,20.4,16.7,22.6,25.3],\"temperature_2m_mean\":[14.3,13.3,14.6,14.6,14.4,17.7,19.9],\"precipitation_hours\":[6.0,9.0,0.0,0.0,3.0,6.0,9.0]}}\n",
      "Biarritz OK (-1.564367, 43.479116)\n",
      "Status code: 200\n",
      "URL: https://api.open-meteo.com/v1/forecast?latitude=43.48541&longitude=-1.467888&timezone=Europe%2FBerlin&timezone_abbreviation=CEST&daily=temperature_2m_max&daily=temperature_2m_mean&daily=precipitation_hours\n",
      "Response: {\"latitude\":43.489998,\"longitude\":-1.4700003,\"generationtime_ms\":0.14913082122802734,\"utc_offset_seconds\":7200,\"timezone\":\"Europe/Berlin\",\"timezone_abbreviation\":\"GMT+2\",\"elevation\":21.0,\"daily_units\":{\"time\":\"iso8601\",\"temperature_2m_max\":\"°C\",\"temperature_2m_mean\":\"°C\",\"precipitation_hours\":\"h\"},\"daily\":{\"time\":[\"2025-05-05\",\"2025-05-06\",\"2025-05-07\",\"2025-05-08\",\"2025-05-09\",\"2025-05-10\",\"2025-05-11\"],\"temperature_2m_max\":[16.2,15.9,18.6,19.0,16.4,23.3,25.9],\"temperature_2m_mean\":[15.0,13.4,14.4,14.4,15.0,16.8,18.3],\"precipitation_hours\":[7.0,8.0,0.0,0.0,2.0,3.0,6.0]}}\n",
      "Bayonne OK (-1.467888, 43.48541)\n",
      "Status code: 200\n",
      "URL: https://api.open-meteo.com/v1/forecast?latitude=46.157032&longitude=-1.185842&timezone=Europe%2FBerlin&timezone_abbreviation=CEST&daily=temperature_2m_max&daily=temperature_2m_mean&daily=precipitation_hours\n",
      "Response: {\"latitude\":46.16,\"longitude\":-1.1900005,\"generationtime_ms\":0.2129077911376953,\"utc_offset_seconds\":7200,\"timezone\":\"Europe/Berlin\",\"timezone_abbreviation\":\"GMT+2\",\"elevation\":8.0,\"daily_units\":{\"time\":\"iso8601\",\"temperature_2m_max\":\"°C\",\"temperature_2m_mean\":\"°C\",\"precipitation_hours\":\"h\"},\"daily\":{\"time\":[\"2025-05-05\",\"2025-05-06\",\"2025-05-07\",\"2025-05-08\",\"2025-05-09\",\"2025-05-10\",\"2025-05-11\"],\"temperature_2m_max\":[16.7,19.0,20.5,19.8,21.4,23.4,24.1],\"temperature_2m_mean\":[12.7,13.7,15.5,15.9,16.7,17.3,18.8],\"precipitation_hours\":[0.0,0.0,0.0,1.0,0.0,0.0,0.0]}}\n",
      "La Rochelle OK (-1.185842, 46.157032)\n"
     ]
    },
    {
     "data": {
      "text/html": [
       "<div>\n",
       "<style scoped>\n",
       "    .dataframe tbody tr th:only-of-type {\n",
       "        vertical-align: middle;\n",
       "    }\n",
       "\n",
       "    .dataframe tbody tr th {\n",
       "        vertical-align: top;\n",
       "    }\n",
       "\n",
       "    .dataframe thead th {\n",
       "        text-align: right;\n",
       "    }\n",
       "</style>\n",
       "<table border=\"1\" class=\"dataframe\">\n",
       "  <thead>\n",
       "    <tr style=\"text-align: right;\">\n",
       "      <th></th>\n",
       "      <th>time</th>\n",
       "      <th>temperature_2m_max</th>\n",
       "      <th>temperature_2m_mean</th>\n",
       "      <th>precipitation_hours</th>\n",
       "      <th>city</th>\n",
       "      <th>latitude</th>\n",
       "      <th>longitude</th>\n",
       "    </tr>\n",
       "  </thead>\n",
       "  <tbody>\n",
       "    <tr>\n",
       "      <th>0</th>\n",
       "      <td>2025-05-05</td>\n",
       "      <td>15.9</td>\n",
       "      <td>13.0</td>\n",
       "      <td>4.0</td>\n",
       "      <td>Mont Saint Michel</td>\n",
       "      <td>43.849841</td>\n",
       "      <td>7.0889</td>\n",
       "    </tr>\n",
       "    <tr>\n",
       "      <th>1</th>\n",
       "      <td>2025-05-06</td>\n",
       "      <td>16.5</td>\n",
       "      <td>13.2</td>\n",
       "      <td>0.0</td>\n",
       "      <td>Mont Saint Michel</td>\n",
       "      <td>43.849841</td>\n",
       "      <td>7.0889</td>\n",
       "    </tr>\n",
       "    <tr>\n",
       "      <th>2</th>\n",
       "      <td>2025-05-07</td>\n",
       "      <td>15.9</td>\n",
       "      <td>11.6</td>\n",
       "      <td>3.0</td>\n",
       "      <td>Mont Saint Michel</td>\n",
       "      <td>43.849841</td>\n",
       "      <td>7.0889</td>\n",
       "    </tr>\n",
       "    <tr>\n",
       "      <th>3</th>\n",
       "      <td>2025-05-08</td>\n",
       "      <td>14.0</td>\n",
       "      <td>10.5</td>\n",
       "      <td>8.0</td>\n",
       "      <td>Mont Saint Michel</td>\n",
       "      <td>43.849841</td>\n",
       "      <td>7.0889</td>\n",
       "    </tr>\n",
       "    <tr>\n",
       "      <th>4</th>\n",
       "      <td>2025-05-09</td>\n",
       "      <td>14.7</td>\n",
       "      <td>11.1</td>\n",
       "      <td>12.0</td>\n",
       "      <td>Mont Saint Michel</td>\n",
       "      <td>43.849841</td>\n",
       "      <td>7.0889</td>\n",
       "    </tr>\n",
       "  </tbody>\n",
       "</table>\n",
       "</div>"
      ],
      "text/plain": [
       "         time  temperature_2m_max  temperature_2m_mean  precipitation_hours  \\\n",
       "0  2025-05-05                15.9                 13.0                  4.0   \n",
       "1  2025-05-06                16.5                 13.2                  0.0   \n",
       "2  2025-05-07                15.9                 11.6                  3.0   \n",
       "3  2025-05-08                14.0                 10.5                  8.0   \n",
       "4  2025-05-09                14.7                 11.1                 12.0   \n",
       "\n",
       "                city   latitude  longitude  \n",
       "0  Mont Saint Michel  43.849841     7.0889  \n",
       "1  Mont Saint Michel  43.849841     7.0889  \n",
       "2  Mont Saint Michel  43.849841     7.0889  \n",
       "3  Mont Saint Michel  43.849841     7.0889  \n",
       "4  Mont Saint Michel  43.849841     7.0889  "
      ]
     },
     "execution_count": 56,
     "metadata": {},
     "output_type": "execute_result"
    }
   ],
   "source": [
    "def json_to_df(weather_data, city, lon, lat):\n",
    "    if weather_data and \"daily\" in weather_data:\n",
    "        df = pd.DataFrame(weather_data[\"daily\"])\n",
    "        df[\"city\"] = city\n",
    "        df[\"latitude\"] = lat\n",
    "        df[\"longitude\"] = lon\n",
    "        return df\n",
    "    else:\n",
    "        return pd.DataFrame()  # DataFrame vide\n",
    "\n",
    "# Génération du DataFrame final\n",
    "df_final = pd.DataFrame()\n",
    "\n",
    "for city in villes:\n",
    "    lat, lon = get_coordinates(city)\n",
    "    if lat is not None and lon is not None:\n",
    "        weather_data = get_weather(lat, lon)\n",
    "        df_city = json_to_df(weather_data, city, lat, lon)\n",
    "        df_final = pd.concat([df_final, df_city], ignore_index=True)\n",
    "        print(f\"{city} OK ({lat}, {lon})\")\n",
    "        \n",
    "\n",
    "df_final.reset_index(drop=True, inplace=True)\n",
    "df_final.head()"
   ]
  },
  {
   "cell_type": "code",
   "execution_count": 57,
   "metadata": {},
   "outputs": [
    {
     "data": {
      "text/plain": [
       "(245, 7)"
      ]
     },
     "execution_count": 57,
     "metadata": {},
     "output_type": "execute_result"
    }
   ],
   "source": [
    "df_final.shape # on vérifie les dimensions du dataframe final. On a 245 lignes car nous avons 35 villes avec 7 jours de prévisions météo par ville"
   ]
  },
  {
   "cell_type": "code",
   "execution_count": 59,
   "metadata": {},
   "outputs": [
    {
     "data": {
      "text/plain": [
       "time                   False\n",
       "temperature_2m_max     False\n",
       "temperature_2m_mean    False\n",
       "precipitation_hours    False\n",
       "city                   False\n",
       "latitude               False\n",
       "longitude              False\n",
       "dtype: bool"
      ]
     },
     "execution_count": 59,
     "metadata": {},
     "output_type": "execute_result"
    }
   ],
   "source": [
    "df_final.isnull().any() #verification des valeurs nulles"
   ]
  },
  {
   "cell_type": "code",
   "execution_count": 60,
   "metadata": {},
   "outputs": [
    {
     "data": {
      "text/plain": [
       "35"
      ]
     },
     "execution_count": 60,
     "metadata": {},
     "output_type": "execute_result"
    }
   ],
   "source": [
    "df_final['city'].nunique() # verification rapide du nombre de ville unique dans notre dataframe"
   ]
  },
  {
   "cell_type": "code",
   "execution_count": 61,
   "metadata": {},
   "outputs": [
    {
     "data": {
      "text/html": [
       "<div>\n",
       "<style scoped>\n",
       "    .dataframe tbody tr th:only-of-type {\n",
       "        vertical-align: middle;\n",
       "    }\n",
       "\n",
       "    .dataframe tbody tr th {\n",
       "        vertical-align: top;\n",
       "    }\n",
       "\n",
       "    .dataframe thead th {\n",
       "        text-align: right;\n",
       "    }\n",
       "</style>\n",
       "<table border=\"1\" class=\"dataframe\">\n",
       "  <thead>\n",
       "    <tr style=\"text-align: right;\">\n",
       "      <th></th>\n",
       "      <th>Date</th>\n",
       "      <th>Temperature_max (°C)</th>\n",
       "      <th>Temperature_moyenne</th>\n",
       "      <th>Temps_pluie (h)</th>\n",
       "      <th>Ville</th>\n",
       "      <th>latitude</th>\n",
       "      <th>longitude</th>\n",
       "    </tr>\n",
       "  </thead>\n",
       "  <tbody>\n",
       "    <tr>\n",
       "      <th>0</th>\n",
       "      <td>2025-05-05</td>\n",
       "      <td>15.9</td>\n",
       "      <td>13.0</td>\n",
       "      <td>4.0</td>\n",
       "      <td>Mont Saint Michel</td>\n",
       "      <td>43.849841</td>\n",
       "      <td>7.0889</td>\n",
       "    </tr>\n",
       "    <tr>\n",
       "      <th>1</th>\n",
       "      <td>2025-05-06</td>\n",
       "      <td>16.5</td>\n",
       "      <td>13.2</td>\n",
       "      <td>0.0</td>\n",
       "      <td>Mont Saint Michel</td>\n",
       "      <td>43.849841</td>\n",
       "      <td>7.0889</td>\n",
       "    </tr>\n",
       "    <tr>\n",
       "      <th>2</th>\n",
       "      <td>2025-05-07</td>\n",
       "      <td>15.9</td>\n",
       "      <td>11.6</td>\n",
       "      <td>3.0</td>\n",
       "      <td>Mont Saint Michel</td>\n",
       "      <td>43.849841</td>\n",
       "      <td>7.0889</td>\n",
       "    </tr>\n",
       "    <tr>\n",
       "      <th>3</th>\n",
       "      <td>2025-05-08</td>\n",
       "      <td>14.0</td>\n",
       "      <td>10.5</td>\n",
       "      <td>8.0</td>\n",
       "      <td>Mont Saint Michel</td>\n",
       "      <td>43.849841</td>\n",
       "      <td>7.0889</td>\n",
       "    </tr>\n",
       "    <tr>\n",
       "      <th>4</th>\n",
       "      <td>2025-05-09</td>\n",
       "      <td>14.7</td>\n",
       "      <td>11.1</td>\n",
       "      <td>12.0</td>\n",
       "      <td>Mont Saint Michel</td>\n",
       "      <td>43.849841</td>\n",
       "      <td>7.0889</td>\n",
       "    </tr>\n",
       "  </tbody>\n",
       "</table>\n",
       "</div>"
      ],
      "text/plain": [
       "         Date  Temperature_max (°C)  Temperature_moyenne  Temps_pluie (h)  \\\n",
       "0  2025-05-05                  15.9                 13.0              4.0   \n",
       "1  2025-05-06                  16.5                 13.2              0.0   \n",
       "2  2025-05-07                  15.9                 11.6              3.0   \n",
       "3  2025-05-08                  14.0                 10.5              8.0   \n",
       "4  2025-05-09                  14.7                 11.1             12.0   \n",
       "\n",
       "               Ville   latitude  longitude  \n",
       "0  Mont Saint Michel  43.849841     7.0889  \n",
       "1  Mont Saint Michel  43.849841     7.0889  \n",
       "2  Mont Saint Michel  43.849841     7.0889  \n",
       "3  Mont Saint Michel  43.849841     7.0889  \n",
       "4  Mont Saint Michel  43.849841     7.0889  "
      ]
     },
     "execution_count": 61,
     "metadata": {},
     "output_type": "execute_result"
    }
   ],
   "source": [
    "# On renomme les colonnes pour plus de clarté\n",
    "df_final.rename(columns={\n",
    "    'temperature_2m_max': 'Temperature_max (°C)',\n",
    "    'temperature_2m_mean': 'Temperature_moyenne',\n",
    "    'precipitation_hours': 'Temps_pluie (h)',\n",
    "    'city': 'Ville',\n",
    "    'time': 'Date'\n",
    "}, inplace=True)\n",
    "\n",
    "df_final.head()"
   ]
  },
  {
   "cell_type": "code",
   "execution_count": 62,
   "metadata": {},
   "outputs": [
    {
     "data": {
      "text/plain": [
       "Date                     object\n",
       "Temperature_max (°C)    float64\n",
       "Temperature_moyenne     float64\n",
       "Temps_pluie (h)         float64\n",
       "Ville                    object\n",
       "latitude                float64\n",
       "longitude               float64\n",
       "dtype: object"
      ]
     },
     "execution_count": 62,
     "metadata": {},
     "output_type": "execute_result"
    }
   ],
   "source": [
    "df_final.dtypes # on vérifie que la colonne date est bien au format datetime"
   ]
  },
  {
   "cell_type": "code",
   "execution_count": 63,
   "metadata": {},
   "outputs": [
    {
     "data": {
      "text/plain": [
       "Date                    datetime64[ns]\n",
       "Temperature_max (°C)           float64\n",
       "Temperature_moyenne            float64\n",
       "Temps_pluie (h)                float64\n",
       "Ville                           object\n",
       "latitude                       float64\n",
       "longitude                      float64\n",
       "dtype: object"
      ]
     },
     "execution_count": 63,
     "metadata": {},
     "output_type": "execute_result"
    }
   ],
   "source": [
    "# Elle est au format object, donc on va donc la convertir\n",
    "\n",
    "df_final['Date'] = pd.to_datetime(df_final['Date'], format='%Y-%m-%d')\n",
    "df_final.dtypes"
   ]
  },
  {
   "cell_type": "code",
   "execution_count": 64,
   "metadata": {},
   "outputs": [
    {
     "data": {
      "text/html": [
       "<div>\n",
       "<style scoped>\n",
       "    .dataframe tbody tr th:only-of-type {\n",
       "        vertical-align: middle;\n",
       "    }\n",
       "\n",
       "    .dataframe tbody tr th {\n",
       "        vertical-align: top;\n",
       "    }\n",
       "\n",
       "    .dataframe thead th {\n",
       "        text-align: right;\n",
       "    }\n",
       "</style>\n",
       "<table border=\"1\" class=\"dataframe\">\n",
       "  <thead>\n",
       "    <tr style=\"text-align: right;\">\n",
       "      <th></th>\n",
       "      <th>Date</th>\n",
       "      <th>Temperature_max (°C)</th>\n",
       "      <th>Temperature_moyenne</th>\n",
       "      <th>Temps_pluie (h)</th>\n",
       "      <th>Ville</th>\n",
       "      <th>latitude</th>\n",
       "      <th>longitude</th>\n",
       "    </tr>\n",
       "  </thead>\n",
       "  <tbody>\n",
       "    <tr>\n",
       "      <th>0</th>\n",
       "      <td>2025-05-05</td>\n",
       "      <td>15.9</td>\n",
       "      <td>13.0</td>\n",
       "      <td>4.0</td>\n",
       "      <td>Mont Saint Michel</td>\n",
       "      <td>43.849841</td>\n",
       "      <td>7.0889</td>\n",
       "    </tr>\n",
       "    <tr>\n",
       "      <th>1</th>\n",
       "      <td>2025-05-06</td>\n",
       "      <td>16.5</td>\n",
       "      <td>13.2</td>\n",
       "      <td>0.0</td>\n",
       "      <td>Mont Saint Michel</td>\n",
       "      <td>43.849841</td>\n",
       "      <td>7.0889</td>\n",
       "    </tr>\n",
       "    <tr>\n",
       "      <th>2</th>\n",
       "      <td>2025-05-07</td>\n",
       "      <td>15.9</td>\n",
       "      <td>11.6</td>\n",
       "      <td>3.0</td>\n",
       "      <td>Mont Saint Michel</td>\n",
       "      <td>43.849841</td>\n",
       "      <td>7.0889</td>\n",
       "    </tr>\n",
       "    <tr>\n",
       "      <th>3</th>\n",
       "      <td>2025-05-08</td>\n",
       "      <td>14.0</td>\n",
       "      <td>10.5</td>\n",
       "      <td>8.0</td>\n",
       "      <td>Mont Saint Michel</td>\n",
       "      <td>43.849841</td>\n",
       "      <td>7.0889</td>\n",
       "    </tr>\n",
       "    <tr>\n",
       "      <th>4</th>\n",
       "      <td>2025-05-09</td>\n",
       "      <td>14.7</td>\n",
       "      <td>11.1</td>\n",
       "      <td>12.0</td>\n",
       "      <td>Mont Saint Michel</td>\n",
       "      <td>43.849841</td>\n",
       "      <td>7.0889</td>\n",
       "    </tr>\n",
       "  </tbody>\n",
       "</table>\n",
       "</div>"
      ],
      "text/plain": [
       "        Date  Temperature_max (°C)  Temperature_moyenne  Temps_pluie (h)  \\\n",
       "0 2025-05-05                  15.9                 13.0              4.0   \n",
       "1 2025-05-06                  16.5                 13.2              0.0   \n",
       "2 2025-05-07                  15.9                 11.6              3.0   \n",
       "3 2025-05-08                  14.0                 10.5              8.0   \n",
       "4 2025-05-09                  14.7                 11.1             12.0   \n",
       "\n",
       "               Ville   latitude  longitude  \n",
       "0  Mont Saint Michel  43.849841     7.0889  \n",
       "1  Mont Saint Michel  43.849841     7.0889  \n",
       "2  Mont Saint Michel  43.849841     7.0889  \n",
       "3  Mont Saint Michel  43.849841     7.0889  \n",
       "4  Mont Saint Michel  43.849841     7.0889  "
      ]
     },
     "execution_count": 64,
     "metadata": {},
     "output_type": "execute_result"
    }
   ],
   "source": [
    "df_final.head()"
   ]
  },
  {
   "cell_type": "code",
   "execution_count": 65,
   "metadata": {},
   "outputs": [
    {
     "data": {
      "text/html": [
       "<div>\n",
       "<style scoped>\n",
       "    .dataframe tbody tr th:only-of-type {\n",
       "        vertical-align: middle;\n",
       "    }\n",
       "\n",
       "    .dataframe tbody tr th {\n",
       "        vertical-align: top;\n",
       "    }\n",
       "\n",
       "    .dataframe thead th {\n",
       "        text-align: right;\n",
       "    }\n",
       "</style>\n",
       "<table border=\"1\" class=\"dataframe\">\n",
       "  <thead>\n",
       "    <tr style=\"text-align: right;\">\n",
       "      <th></th>\n",
       "      <th>Date</th>\n",
       "      <th>Temperature_max (°C)</th>\n",
       "      <th>Temperature_moyenne</th>\n",
       "      <th>Temps_pluie (h)</th>\n",
       "      <th>Ville</th>\n",
       "      <th>latitude</th>\n",
       "      <th>longitude</th>\n",
       "      <th>ville_id</th>\n",
       "    </tr>\n",
       "  </thead>\n",
       "  <tbody>\n",
       "    <tr>\n",
       "      <th>240</th>\n",
       "      <td>2025-05-07</td>\n",
       "      <td>20.5</td>\n",
       "      <td>15.5</td>\n",
       "      <td>0.0</td>\n",
       "      <td>La Rochelle</td>\n",
       "      <td>46.157032</td>\n",
       "      <td>-1.185842</td>\n",
       "      <td>34</td>\n",
       "    </tr>\n",
       "    <tr>\n",
       "      <th>241</th>\n",
       "      <td>2025-05-08</td>\n",
       "      <td>19.8</td>\n",
       "      <td>15.9</td>\n",
       "      <td>1.0</td>\n",
       "      <td>La Rochelle</td>\n",
       "      <td>46.157032</td>\n",
       "      <td>-1.185842</td>\n",
       "      <td>34</td>\n",
       "    </tr>\n",
       "    <tr>\n",
       "      <th>242</th>\n",
       "      <td>2025-05-09</td>\n",
       "      <td>21.4</td>\n",
       "      <td>16.7</td>\n",
       "      <td>0.0</td>\n",
       "      <td>La Rochelle</td>\n",
       "      <td>46.157032</td>\n",
       "      <td>-1.185842</td>\n",
       "      <td>34</td>\n",
       "    </tr>\n",
       "    <tr>\n",
       "      <th>243</th>\n",
       "      <td>2025-05-10</td>\n",
       "      <td>23.4</td>\n",
       "      <td>17.3</td>\n",
       "      <td>0.0</td>\n",
       "      <td>La Rochelle</td>\n",
       "      <td>46.157032</td>\n",
       "      <td>-1.185842</td>\n",
       "      <td>34</td>\n",
       "    </tr>\n",
       "    <tr>\n",
       "      <th>244</th>\n",
       "      <td>2025-05-11</td>\n",
       "      <td>24.1</td>\n",
       "      <td>18.8</td>\n",
       "      <td>0.0</td>\n",
       "      <td>La Rochelle</td>\n",
       "      <td>46.157032</td>\n",
       "      <td>-1.185842</td>\n",
       "      <td>34</td>\n",
       "    </tr>\n",
       "  </tbody>\n",
       "</table>\n",
       "</div>"
      ],
      "text/plain": [
       "          Date  Temperature_max (°C)  Temperature_moyenne  Temps_pluie (h)  \\\n",
       "240 2025-05-07                  20.5                 15.5              0.0   \n",
       "241 2025-05-08                  19.8                 15.9              1.0   \n",
       "242 2025-05-09                  21.4                 16.7              0.0   \n",
       "243 2025-05-10                  23.4                 17.3              0.0   \n",
       "244 2025-05-11                  24.1                 18.8              0.0   \n",
       "\n",
       "           Ville   latitude  longitude  ville_id  \n",
       "240  La Rochelle  46.157032  -1.185842        34  \n",
       "241  La Rochelle  46.157032  -1.185842        34  \n",
       "242  La Rochelle  46.157032  -1.185842        34  \n",
       "243  La Rochelle  46.157032  -1.185842        34  \n",
       "244  La Rochelle  46.157032  -1.185842        34  "
      ]
     },
     "execution_count": 65,
     "metadata": {},
     "output_type": "execute_result"
    }
   ],
   "source": [
    "# Créer un dictionnaire pour lier nom et id\n",
    "ville_ID = {ville: idx for idx, ville in enumerate(df_final['Ville'].unique())}\n",
    "df_final['ville_id'] = df_final['Ville'].map(ville_ID)\n",
    "\n",
    "df_final.tail()\n",
    "\n"
   ]
  },
  {
   "cell_type": "code",
   "execution_count": 66,
   "metadata": {},
   "outputs": [
    {
     "data": {
      "text/html": [
       "<div>\n",
       "<style scoped>\n",
       "    .dataframe tbody tr th:only-of-type {\n",
       "        vertical-align: middle;\n",
       "    }\n",
       "\n",
       "    .dataframe tbody tr th {\n",
       "        vertical-align: top;\n",
       "    }\n",
       "\n",
       "    .dataframe thead th {\n",
       "        text-align: right;\n",
       "    }\n",
       "</style>\n",
       "<table border=\"1\" class=\"dataframe\">\n",
       "  <thead>\n",
       "    <tr style=\"text-align: right;\">\n",
       "      <th></th>\n",
       "      <th>ville_id</th>\n",
       "      <th>Date</th>\n",
       "      <th>Temperature_max (°C)</th>\n",
       "      <th>Temperature_moyenne</th>\n",
       "      <th>Temps_pluie (h)</th>\n",
       "      <th>Ville</th>\n",
       "      <th>latitude</th>\n",
       "      <th>longitude</th>\n",
       "    </tr>\n",
       "  </thead>\n",
       "  <tbody>\n",
       "    <tr>\n",
       "      <th>0</th>\n",
       "      <td>0</td>\n",
       "      <td>2025-05-05</td>\n",
       "      <td>15.9</td>\n",
       "      <td>13.0</td>\n",
       "      <td>4.0</td>\n",
       "      <td>Mont Saint Michel</td>\n",
       "      <td>43.849841</td>\n",
       "      <td>7.0889</td>\n",
       "    </tr>\n",
       "    <tr>\n",
       "      <th>1</th>\n",
       "      <td>0</td>\n",
       "      <td>2025-05-06</td>\n",
       "      <td>16.5</td>\n",
       "      <td>13.2</td>\n",
       "      <td>0.0</td>\n",
       "      <td>Mont Saint Michel</td>\n",
       "      <td>43.849841</td>\n",
       "      <td>7.0889</td>\n",
       "    </tr>\n",
       "    <tr>\n",
       "      <th>2</th>\n",
       "      <td>0</td>\n",
       "      <td>2025-05-07</td>\n",
       "      <td>15.9</td>\n",
       "      <td>11.6</td>\n",
       "      <td>3.0</td>\n",
       "      <td>Mont Saint Michel</td>\n",
       "      <td>43.849841</td>\n",
       "      <td>7.0889</td>\n",
       "    </tr>\n",
       "    <tr>\n",
       "      <th>3</th>\n",
       "      <td>0</td>\n",
       "      <td>2025-05-08</td>\n",
       "      <td>14.0</td>\n",
       "      <td>10.5</td>\n",
       "      <td>8.0</td>\n",
       "      <td>Mont Saint Michel</td>\n",
       "      <td>43.849841</td>\n",
       "      <td>7.0889</td>\n",
       "    </tr>\n",
       "    <tr>\n",
       "      <th>4</th>\n",
       "      <td>0</td>\n",
       "      <td>2025-05-09</td>\n",
       "      <td>14.7</td>\n",
       "      <td>11.1</td>\n",
       "      <td>12.0</td>\n",
       "      <td>Mont Saint Michel</td>\n",
       "      <td>43.849841</td>\n",
       "      <td>7.0889</td>\n",
       "    </tr>\n",
       "  </tbody>\n",
       "</table>\n",
       "</div>"
      ],
      "text/plain": [
       "   ville_id       Date  Temperature_max (°C)  Temperature_moyenne  \\\n",
       "0         0 2025-05-05                  15.9                 13.0   \n",
       "1         0 2025-05-06                  16.5                 13.2   \n",
       "2         0 2025-05-07                  15.9                 11.6   \n",
       "3         0 2025-05-08                  14.0                 10.5   \n",
       "4         0 2025-05-09                  14.7                 11.1   \n",
       "\n",
       "   Temps_pluie (h)              Ville   latitude  longitude  \n",
       "0              4.0  Mont Saint Michel  43.849841     7.0889  \n",
       "1              0.0  Mont Saint Michel  43.849841     7.0889  \n",
       "2              3.0  Mont Saint Michel  43.849841     7.0889  \n",
       "3              8.0  Mont Saint Michel  43.849841     7.0889  \n",
       "4             12.0  Mont Saint Michel  43.849841     7.0889  "
      ]
     },
     "execution_count": 66,
     "metadata": {},
     "output_type": "execute_result"
    }
   ],
   "source": [
    "def move_column(df, col_name, new_position):\n",
    "    cols = df.columns.tolist()\n",
    "    cols.remove(col_name)\n",
    "    cols.insert(new_position, col_name)\n",
    "    return df[cols]\n",
    "\n",
    "# changement d'index dans le DF pour la colonne \"KEY_WORDS\" pour un confort de lecture\n",
    "df_final = move_column(df_final, 'ville_id', 0)\n",
    "df_final.head()"
   ]
  },
  {
   "cell_type": "code",
   "execution_count": 67,
   "metadata": {},
   "outputs": [
    {
     "data": {
      "text/plain": [
       "35"
      ]
     },
     "execution_count": 67,
     "metadata": {},
     "output_type": "execute_result"
    }
   ],
   "source": [
    "df_final['ville_id'].nunique()"
   ]
  },
  {
   "cell_type": "markdown",
   "metadata": {},
   "source": [
    "On choisit les 5 meilleures destinations en fonction des températures moyennes et precipitations moyennes"
   ]
  },
  {
   "cell_type": "code",
   "execution_count": 76,
   "metadata": {},
   "outputs": [
    {
     "name": "stdout",
     "output_type": "stream",
     "text": [
      "Ville\n",
      "Cassis                      16.257143\n",
      "Saintes Maries de la mer    16.100000\n",
      "Marseille                   15.971429\n",
      "Collioure                   15.957143\n",
      "La Rochelle                 15.800000\n",
      "Name: Temperature_moyenne, dtype: float64\n"
     ]
    }
   ],
   "source": [
    "# on va chercher les 5 villes avec la température moyenne la plus élevée sur la période de 7 jours ET un temps de pluie inférieur à 1h\n",
    "# On filtre le DataFrame pour ne garder que les heures avec peu ou pas de pluie\n",
    "# Calcule la moyenne de pluie par ville\n",
    "pluie_moyenne = df_final.groupby(\"Ville\")[\"Temps_pluie (h)\"].mean()\n",
    "\n",
    "# Garde les villes où la pluie moyenne < 1h\n",
    "villes_peu_pluie = pluie_moyenne[pluie_moyenne < 2.0].index\n",
    "\n",
    "# Filtre le dataframe sur ces villes\n",
    "df_filtre = df_final[df_final[\"Ville\"].isin(villes_peu_pluie)]\n",
    "\n",
    "\n",
    "# Puis on fait la moyenne des températures pour chaque ville, et on trie\n",
    "top5 = df_filtre.groupby('Ville')['Temperature_moyenne'].mean().sort_values(ascending=False).head(5)\n",
    "\n",
    "print(top5)\n"
   ]
  },
  {
   "cell_type": "code",
   "execution_count": 79,
   "metadata": {},
   "outputs": [
    {
     "data": {
      "text/html": [
       "<div>\n",
       "<style scoped>\n",
       "    .dataframe tbody tr th:only-of-type {\n",
       "        vertical-align: middle;\n",
       "    }\n",
       "\n",
       "    .dataframe tbody tr th {\n",
       "        vertical-align: top;\n",
       "    }\n",
       "\n",
       "    .dataframe thead th {\n",
       "        text-align: right;\n",
       "    }\n",
       "</style>\n",
       "<table border=\"1\" class=\"dataframe\">\n",
       "  <thead>\n",
       "    <tr style=\"text-align: right;\">\n",
       "      <th></th>\n",
       "      <th>ville_id</th>\n",
       "      <th>Date</th>\n",
       "      <th>Temperature_max (°C)</th>\n",
       "      <th>Temperature_moyenne</th>\n",
       "      <th>Temps_pluie (h)</th>\n",
       "      <th>Ville</th>\n",
       "      <th>latitude</th>\n",
       "      <th>longitude</th>\n",
       "    </tr>\n",
       "  </thead>\n",
       "  <tbody>\n",
       "    <tr>\n",
       "      <th>133</th>\n",
       "      <td>19</td>\n",
       "      <td>2025-05-05</td>\n",
       "      <td>20.1</td>\n",
       "      <td>16.8</td>\n",
       "      <td>3.0</td>\n",
       "      <td>Cassis</td>\n",
       "      <td>43.213074</td>\n",
       "      <td>5.540576</td>\n",
       "    </tr>\n",
       "    <tr>\n",
       "      <th>134</th>\n",
       "      <td>19</td>\n",
       "      <td>2025-05-06</td>\n",
       "      <td>19.0</td>\n",
       "      <td>15.3</td>\n",
       "      <td>0.0</td>\n",
       "      <td>Cassis</td>\n",
       "      <td>43.213074</td>\n",
       "      <td>5.540576</td>\n",
       "    </tr>\n",
       "    <tr>\n",
       "      <th>135</th>\n",
       "      <td>19</td>\n",
       "      <td>2025-05-07</td>\n",
       "      <td>18.0</td>\n",
       "      <td>15.8</td>\n",
       "      <td>3.0</td>\n",
       "      <td>Cassis</td>\n",
       "      <td>43.213074</td>\n",
       "      <td>5.540576</td>\n",
       "    </tr>\n",
       "    <tr>\n",
       "      <th>136</th>\n",
       "      <td>19</td>\n",
       "      <td>2025-05-08</td>\n",
       "      <td>20.0</td>\n",
       "      <td>14.9</td>\n",
       "      <td>0.0</td>\n",
       "      <td>Cassis</td>\n",
       "      <td>43.213074</td>\n",
       "      <td>5.540576</td>\n",
       "    </tr>\n",
       "    <tr>\n",
       "      <th>137</th>\n",
       "      <td>19</td>\n",
       "      <td>2025-05-09</td>\n",
       "      <td>19.5</td>\n",
       "      <td>16.5</td>\n",
       "      <td>0.0</td>\n",
       "      <td>Cassis</td>\n",
       "      <td>43.213074</td>\n",
       "      <td>5.540576</td>\n",
       "    </tr>\n",
       "    <tr>\n",
       "      <th>138</th>\n",
       "      <td>19</td>\n",
       "      <td>2025-05-10</td>\n",
       "      <td>20.7</td>\n",
       "      <td>17.2</td>\n",
       "      <td>0.0</td>\n",
       "      <td>Cassis</td>\n",
       "      <td>43.213074</td>\n",
       "      <td>5.540576</td>\n",
       "    </tr>\n",
       "    <tr>\n",
       "      <th>139</th>\n",
       "      <td>19</td>\n",
       "      <td>2025-05-11</td>\n",
       "      <td>20.6</td>\n",
       "      <td>17.3</td>\n",
       "      <td>0.0</td>\n",
       "      <td>Cassis</td>\n",
       "      <td>43.213074</td>\n",
       "      <td>5.540576</td>\n",
       "    </tr>\n",
       "    <tr>\n",
       "      <th>140</th>\n",
       "      <td>20</td>\n",
       "      <td>2025-05-05</td>\n",
       "      <td>19.1</td>\n",
       "      <td>16.3</td>\n",
       "      <td>1.0</td>\n",
       "      <td>Marseille</td>\n",
       "      <td>43.269776</td>\n",
       "      <td>5.367037</td>\n",
       "    </tr>\n",
       "    <tr>\n",
       "      <th>141</th>\n",
       "      <td>20</td>\n",
       "      <td>2025-05-06</td>\n",
       "      <td>18.0</td>\n",
       "      <td>14.9</td>\n",
       "      <td>0.0</td>\n",
       "      <td>Marseille</td>\n",
       "      <td>43.269776</td>\n",
       "      <td>5.367037</td>\n",
       "    </tr>\n",
       "    <tr>\n",
       "      <th>142</th>\n",
       "      <td>20</td>\n",
       "      <td>2025-05-07</td>\n",
       "      <td>17.4</td>\n",
       "      <td>15.5</td>\n",
       "      <td>3.0</td>\n",
       "      <td>Marseille</td>\n",
       "      <td>43.269776</td>\n",
       "      <td>5.367037</td>\n",
       "    </tr>\n",
       "    <tr>\n",
       "      <th>143</th>\n",
       "      <td>20</td>\n",
       "      <td>2025-05-08</td>\n",
       "      <td>20.0</td>\n",
       "      <td>14.8</td>\n",
       "      <td>0.0</td>\n",
       "      <td>Marseille</td>\n",
       "      <td>43.269776</td>\n",
       "      <td>5.367037</td>\n",
       "    </tr>\n",
       "    <tr>\n",
       "      <th>144</th>\n",
       "      <td>20</td>\n",
       "      <td>2025-05-09</td>\n",
       "      <td>19.5</td>\n",
       "      <td>16.4</td>\n",
       "      <td>0.0</td>\n",
       "      <td>Marseille</td>\n",
       "      <td>43.269776</td>\n",
       "      <td>5.367037</td>\n",
       "    </tr>\n",
       "    <tr>\n",
       "      <th>145</th>\n",
       "      <td>20</td>\n",
       "      <td>2025-05-10</td>\n",
       "      <td>22.9</td>\n",
       "      <td>17.0</td>\n",
       "      <td>0.0</td>\n",
       "      <td>Marseille</td>\n",
       "      <td>43.269776</td>\n",
       "      <td>5.367037</td>\n",
       "    </tr>\n",
       "    <tr>\n",
       "      <th>146</th>\n",
       "      <td>20</td>\n",
       "      <td>2025-05-11</td>\n",
       "      <td>22.3</td>\n",
       "      <td>16.9</td>\n",
       "      <td>0.0</td>\n",
       "      <td>Marseille</td>\n",
       "      <td>43.269776</td>\n",
       "      <td>5.367037</td>\n",
       "    </tr>\n",
       "    <tr>\n",
       "      <th>182</th>\n",
       "      <td>26</td>\n",
       "      <td>2025-05-05</td>\n",
       "      <td>19.1</td>\n",
       "      <td>16.2</td>\n",
       "      <td>4.0</td>\n",
       "      <td>Saintes Maries de la mer</td>\n",
       "      <td>43.479513</td>\n",
       "      <td>4.394262</td>\n",
       "    </tr>\n",
       "    <tr>\n",
       "      <th>183</th>\n",
       "      <td>26</td>\n",
       "      <td>2025-05-06</td>\n",
       "      <td>18.4</td>\n",
       "      <td>15.0</td>\n",
       "      <td>0.0</td>\n",
       "      <td>Saintes Maries de la mer</td>\n",
       "      <td>43.479513</td>\n",
       "      <td>4.394262</td>\n",
       "    </tr>\n",
       "    <tr>\n",
       "      <th>184</th>\n",
       "      <td>26</td>\n",
       "      <td>2025-05-07</td>\n",
       "      <td>18.0</td>\n",
       "      <td>14.8</td>\n",
       "      <td>0.0</td>\n",
       "      <td>Saintes Maries de la mer</td>\n",
       "      <td>43.479513</td>\n",
       "      <td>4.394262</td>\n",
       "    </tr>\n",
       "    <tr>\n",
       "      <th>185</th>\n",
       "      <td>26</td>\n",
       "      <td>2025-05-08</td>\n",
       "      <td>19.0</td>\n",
       "      <td>15.4</td>\n",
       "      <td>0.0</td>\n",
       "      <td>Saintes Maries de la mer</td>\n",
       "      <td>43.479513</td>\n",
       "      <td>4.394262</td>\n",
       "    </tr>\n",
       "    <tr>\n",
       "      <th>186</th>\n",
       "      <td>26</td>\n",
       "      <td>2025-05-09</td>\n",
       "      <td>20.1</td>\n",
       "      <td>16.7</td>\n",
       "      <td>6.0</td>\n",
       "      <td>Saintes Maries de la mer</td>\n",
       "      <td>43.479513</td>\n",
       "      <td>4.394262</td>\n",
       "    </tr>\n",
       "    <tr>\n",
       "      <th>187</th>\n",
       "      <td>26</td>\n",
       "      <td>2025-05-10</td>\n",
       "      <td>22.7</td>\n",
       "      <td>17.3</td>\n",
       "      <td>0.0</td>\n",
       "      <td>Saintes Maries de la mer</td>\n",
       "      <td>43.479513</td>\n",
       "      <td>4.394262</td>\n",
       "    </tr>\n",
       "    <tr>\n",
       "      <th>188</th>\n",
       "      <td>26</td>\n",
       "      <td>2025-05-11</td>\n",
       "      <td>21.8</td>\n",
       "      <td>17.3</td>\n",
       "      <td>0.0</td>\n",
       "      <td>Saintes Maries de la mer</td>\n",
       "      <td>43.479513</td>\n",
       "      <td>4.394262</td>\n",
       "    </tr>\n",
       "    <tr>\n",
       "      <th>189</th>\n",
       "      <td>27</td>\n",
       "      <td>2025-05-05</td>\n",
       "      <td>18.7</td>\n",
       "      <td>15.6</td>\n",
       "      <td>2.0</td>\n",
       "      <td>Collioure</td>\n",
       "      <td>42.515405</td>\n",
       "      <td>3.075825</td>\n",
       "    </tr>\n",
       "    <tr>\n",
       "      <th>190</th>\n",
       "      <td>27</td>\n",
       "      <td>2025-05-06</td>\n",
       "      <td>17.9</td>\n",
       "      <td>14.5</td>\n",
       "      <td>0.0</td>\n",
       "      <td>Collioure</td>\n",
       "      <td>42.515405</td>\n",
       "      <td>3.075825</td>\n",
       "    </tr>\n",
       "    <tr>\n",
       "      <th>191</th>\n",
       "      <td>27</td>\n",
       "      <td>2025-05-07</td>\n",
       "      <td>19.2</td>\n",
       "      <td>15.4</td>\n",
       "      <td>1.0</td>\n",
       "      <td>Collioure</td>\n",
       "      <td>42.515405</td>\n",
       "      <td>3.075825</td>\n",
       "    </tr>\n",
       "    <tr>\n",
       "      <th>192</th>\n",
       "      <td>27</td>\n",
       "      <td>2025-05-08</td>\n",
       "      <td>19.5</td>\n",
       "      <td>15.9</td>\n",
       "      <td>7.0</td>\n",
       "      <td>Collioure</td>\n",
       "      <td>42.515405</td>\n",
       "      <td>3.075825</td>\n",
       "    </tr>\n",
       "    <tr>\n",
       "      <th>193</th>\n",
       "      <td>27</td>\n",
       "      <td>2025-05-09</td>\n",
       "      <td>17.7</td>\n",
       "      <td>15.7</td>\n",
       "      <td>1.0</td>\n",
       "      <td>Collioure</td>\n",
       "      <td>42.515405</td>\n",
       "      <td>3.075825</td>\n",
       "    </tr>\n",
       "    <tr>\n",
       "      <th>194</th>\n",
       "      <td>27</td>\n",
       "      <td>2025-05-10</td>\n",
       "      <td>20.1</td>\n",
       "      <td>16.7</td>\n",
       "      <td>0.0</td>\n",
       "      <td>Collioure</td>\n",
       "      <td>42.515405</td>\n",
       "      <td>3.075825</td>\n",
       "    </tr>\n",
       "    <tr>\n",
       "      <th>195</th>\n",
       "      <td>27</td>\n",
       "      <td>2025-05-11</td>\n",
       "      <td>20.3</td>\n",
       "      <td>17.9</td>\n",
       "      <td>0.0</td>\n",
       "      <td>Collioure</td>\n",
       "      <td>42.515405</td>\n",
       "      <td>3.075825</td>\n",
       "    </tr>\n",
       "    <tr>\n",
       "      <th>238</th>\n",
       "      <td>34</td>\n",
       "      <td>2025-05-05</td>\n",
       "      <td>16.7</td>\n",
       "      <td>12.7</td>\n",
       "      <td>0.0</td>\n",
       "      <td>La Rochelle</td>\n",
       "      <td>46.157032</td>\n",
       "      <td>-1.185842</td>\n",
       "    </tr>\n",
       "    <tr>\n",
       "      <th>239</th>\n",
       "      <td>34</td>\n",
       "      <td>2025-05-06</td>\n",
       "      <td>19.0</td>\n",
       "      <td>13.7</td>\n",
       "      <td>0.0</td>\n",
       "      <td>La Rochelle</td>\n",
       "      <td>46.157032</td>\n",
       "      <td>-1.185842</td>\n",
       "    </tr>\n",
       "    <tr>\n",
       "      <th>240</th>\n",
       "      <td>34</td>\n",
       "      <td>2025-05-07</td>\n",
       "      <td>20.5</td>\n",
       "      <td>15.5</td>\n",
       "      <td>0.0</td>\n",
       "      <td>La Rochelle</td>\n",
       "      <td>46.157032</td>\n",
       "      <td>-1.185842</td>\n",
       "    </tr>\n",
       "    <tr>\n",
       "      <th>241</th>\n",
       "      <td>34</td>\n",
       "      <td>2025-05-08</td>\n",
       "      <td>19.8</td>\n",
       "      <td>15.9</td>\n",
       "      <td>1.0</td>\n",
       "      <td>La Rochelle</td>\n",
       "      <td>46.157032</td>\n",
       "      <td>-1.185842</td>\n",
       "    </tr>\n",
       "    <tr>\n",
       "      <th>242</th>\n",
       "      <td>34</td>\n",
       "      <td>2025-05-09</td>\n",
       "      <td>21.4</td>\n",
       "      <td>16.7</td>\n",
       "      <td>0.0</td>\n",
       "      <td>La Rochelle</td>\n",
       "      <td>46.157032</td>\n",
       "      <td>-1.185842</td>\n",
       "    </tr>\n",
       "    <tr>\n",
       "      <th>243</th>\n",
       "      <td>34</td>\n",
       "      <td>2025-05-10</td>\n",
       "      <td>23.4</td>\n",
       "      <td>17.3</td>\n",
       "      <td>0.0</td>\n",
       "      <td>La Rochelle</td>\n",
       "      <td>46.157032</td>\n",
       "      <td>-1.185842</td>\n",
       "    </tr>\n",
       "    <tr>\n",
       "      <th>244</th>\n",
       "      <td>34</td>\n",
       "      <td>2025-05-11</td>\n",
       "      <td>24.1</td>\n",
       "      <td>18.8</td>\n",
       "      <td>0.0</td>\n",
       "      <td>La Rochelle</td>\n",
       "      <td>46.157032</td>\n",
       "      <td>-1.185842</td>\n",
       "    </tr>\n",
       "  </tbody>\n",
       "</table>\n",
       "</div>"
      ],
      "text/plain": [
       "     ville_id       Date  Temperature_max (°C)  Temperature_moyenne  \\\n",
       "133        19 2025-05-05                  20.1                 16.8   \n",
       "134        19 2025-05-06                  19.0                 15.3   \n",
       "135        19 2025-05-07                  18.0                 15.8   \n",
       "136        19 2025-05-08                  20.0                 14.9   \n",
       "137        19 2025-05-09                  19.5                 16.5   \n",
       "138        19 2025-05-10                  20.7                 17.2   \n",
       "139        19 2025-05-11                  20.6                 17.3   \n",
       "140        20 2025-05-05                  19.1                 16.3   \n",
       "141        20 2025-05-06                  18.0                 14.9   \n",
       "142        20 2025-05-07                  17.4                 15.5   \n",
       "143        20 2025-05-08                  20.0                 14.8   \n",
       "144        20 2025-05-09                  19.5                 16.4   \n",
       "145        20 2025-05-10                  22.9                 17.0   \n",
       "146        20 2025-05-11                  22.3                 16.9   \n",
       "182        26 2025-05-05                  19.1                 16.2   \n",
       "183        26 2025-05-06                  18.4                 15.0   \n",
       "184        26 2025-05-07                  18.0                 14.8   \n",
       "185        26 2025-05-08                  19.0                 15.4   \n",
       "186        26 2025-05-09                  20.1                 16.7   \n",
       "187        26 2025-05-10                  22.7                 17.3   \n",
       "188        26 2025-05-11                  21.8                 17.3   \n",
       "189        27 2025-05-05                  18.7                 15.6   \n",
       "190        27 2025-05-06                  17.9                 14.5   \n",
       "191        27 2025-05-07                  19.2                 15.4   \n",
       "192        27 2025-05-08                  19.5                 15.9   \n",
       "193        27 2025-05-09                  17.7                 15.7   \n",
       "194        27 2025-05-10                  20.1                 16.7   \n",
       "195        27 2025-05-11                  20.3                 17.9   \n",
       "238        34 2025-05-05                  16.7                 12.7   \n",
       "239        34 2025-05-06                  19.0                 13.7   \n",
       "240        34 2025-05-07                  20.5                 15.5   \n",
       "241        34 2025-05-08                  19.8                 15.9   \n",
       "242        34 2025-05-09                  21.4                 16.7   \n",
       "243        34 2025-05-10                  23.4                 17.3   \n",
       "244        34 2025-05-11                  24.1                 18.8   \n",
       "\n",
       "     Temps_pluie (h)                     Ville   latitude  longitude  \n",
       "133              3.0                    Cassis  43.213074   5.540576  \n",
       "134              0.0                    Cassis  43.213074   5.540576  \n",
       "135              3.0                    Cassis  43.213074   5.540576  \n",
       "136              0.0                    Cassis  43.213074   5.540576  \n",
       "137              0.0                    Cassis  43.213074   5.540576  \n",
       "138              0.0                    Cassis  43.213074   5.540576  \n",
       "139              0.0                    Cassis  43.213074   5.540576  \n",
       "140              1.0                 Marseille  43.269776   5.367037  \n",
       "141              0.0                 Marseille  43.269776   5.367037  \n",
       "142              3.0                 Marseille  43.269776   5.367037  \n",
       "143              0.0                 Marseille  43.269776   5.367037  \n",
       "144              0.0                 Marseille  43.269776   5.367037  \n",
       "145              0.0                 Marseille  43.269776   5.367037  \n",
       "146              0.0                 Marseille  43.269776   5.367037  \n",
       "182              4.0  Saintes Maries de la mer  43.479513   4.394262  \n",
       "183              0.0  Saintes Maries de la mer  43.479513   4.394262  \n",
       "184              0.0  Saintes Maries de la mer  43.479513   4.394262  \n",
       "185              0.0  Saintes Maries de la mer  43.479513   4.394262  \n",
       "186              6.0  Saintes Maries de la mer  43.479513   4.394262  \n",
       "187              0.0  Saintes Maries de la mer  43.479513   4.394262  \n",
       "188              0.0  Saintes Maries de la mer  43.479513   4.394262  \n",
       "189              2.0                 Collioure  42.515405   3.075825  \n",
       "190              0.0                 Collioure  42.515405   3.075825  \n",
       "191              1.0                 Collioure  42.515405   3.075825  \n",
       "192              7.0                 Collioure  42.515405   3.075825  \n",
       "193              1.0                 Collioure  42.515405   3.075825  \n",
       "194              0.0                 Collioure  42.515405   3.075825  \n",
       "195              0.0                 Collioure  42.515405   3.075825  \n",
       "238              0.0               La Rochelle  46.157032  -1.185842  \n",
       "239              0.0               La Rochelle  46.157032  -1.185842  \n",
       "240              0.0               La Rochelle  46.157032  -1.185842  \n",
       "241              1.0               La Rochelle  46.157032  -1.185842  \n",
       "242              0.0               La Rochelle  46.157032  -1.185842  \n",
       "243              0.0               La Rochelle  46.157032  -1.185842  \n",
       "244              0.0               La Rochelle  46.157032  -1.185842  "
      ]
     },
     "execution_count": 79,
     "metadata": {},
     "output_type": "execute_result"
    }
   ],
   "source": [
    "top5_villes = [\"Cassis\", \"Saintes Maries de la mer\", \"Marseille\", \"Collioure\", \"La Rochelle\"]\n",
    "df_top5 = df_final[df_final['Ville'].isin(top5_villes)]\n",
    "\n",
    "df_top5\n"
   ]
  },
  {
   "cell_type": "code",
   "execution_count": 80,
   "metadata": {},
   "outputs": [
    {
     "data": {
      "text/plain": [
       "(35, 8)"
      ]
     },
     "execution_count": 80,
     "metadata": {},
     "output_type": "execute_result"
    }
   ],
   "source": [
    "df_top5.shape"
   ]
  },
  {
   "cell_type": "code",
   "execution_count": 96,
   "metadata": {},
   "outputs": [
    {
     "data": {
      "application/vnd.plotly.v1+json": {
       "config": {
        "plotlyServerURL": "https://plot.ly"
       },
       "data": [
        {
         "hovertemplate": "Temperature_moyenne=%{marker.color}<br>Ville=%{text}<br>latitude=%{lat}<br>longitude=%{lon}<extra></extra>",
         "lat": [
          43.213074,
          43.213074,
          43.213074,
          43.213074,
          43.213074,
          43.213074,
          43.213074,
          43.269776,
          43.269776,
          43.269776,
          43.269776,
          43.269776,
          43.269776,
          43.269776,
          43.479513,
          43.479513,
          43.479513,
          43.479513,
          43.479513,
          43.479513,
          43.479513,
          42.515405,
          42.515405,
          42.515405,
          42.515405,
          42.515405,
          42.515405,
          42.515405,
          46.157032,
          46.157032,
          46.157032,
          46.157032,
          46.157032,
          46.157032,
          46.157032
         ],
         "legendgroup": "",
         "lon": [
          5.540576,
          5.540576,
          5.540576,
          5.540576,
          5.540576,
          5.540576,
          5.540576,
          5.367037,
          5.367037,
          5.367037,
          5.367037,
          5.367037,
          5.367037,
          5.367037,
          4.394262,
          4.394262,
          4.394262,
          4.394262,
          4.394262,
          4.394262,
          4.394262,
          3.075825,
          3.075825,
          3.075825,
          3.075825,
          3.075825,
          3.075825,
          3.075825,
          -1.185842,
          -1.185842,
          -1.185842,
          -1.185842,
          -1.185842,
          -1.185842,
          -1.185842
         ],
         "marker": {
          "color": [
           16.8,
           15.3,
           15.8,
           14.9,
           16.5,
           17.2,
           17.3,
           16.3,
           14.9,
           15.5,
           14.8,
           16.4,
           17,
           16.9,
           16.2,
           15,
           14.8,
           15.4,
           16.7,
           17.3,
           17.3,
           15.6,
           14.5,
           15.4,
           15.9,
           15.7,
           16.7,
           17.9,
           12.7,
           13.7,
           15.5,
           15.9,
           16.7,
           17.3,
           18.8
          ],
          "coloraxis": "coloraxis",
          "size": 12,
          "sizemode": "area",
          "sizeref": 0.02088888888888889
         },
         "mode": "markers+text",
         "name": "",
         "showlegend": false,
         "subplot": "mapbox",
         "text": [
          "Cassis",
          "Cassis",
          "Cassis",
          "Cassis",
          "Cassis",
          "Cassis",
          "Cassis",
          "Marseille",
          "Marseille",
          "Marseille",
          "Marseille",
          "Marseille",
          "Marseille",
          "Marseille",
          "Saintes Maries de la mer",
          "Saintes Maries de la mer",
          "Saintes Maries de la mer",
          "Saintes Maries de la mer",
          "Saintes Maries de la mer",
          "Saintes Maries de la mer",
          "Saintes Maries de la mer",
          "Collioure",
          "Collioure",
          "Collioure",
          "Collioure",
          "Collioure",
          "Collioure",
          "Collioure",
          "La Rochelle",
          "La Rochelle",
          "La Rochelle",
          "La Rochelle",
          "La Rochelle",
          "La Rochelle",
          "La Rochelle"
         ],
         "type": "scattermapbox"
        }
       ],
       "layout": {
        "coloraxis": {
         "colorbar": {
          "title": {
           "text": "Temperature_moyenne"
          }
         },
         "colorscale": [
          [
           0,
           "#0d0887"
          ],
          [
           0.1111111111111111,
           "#46039f"
          ],
          [
           0.2222222222222222,
           "#7201a8"
          ],
          [
           0.3333333333333333,
           "#9c179e"
          ],
          [
           0.4444444444444444,
           "#bd3786"
          ],
          [
           0.5555555555555556,
           "#d8576b"
          ],
          [
           0.6666666666666666,
           "#ed7953"
          ],
          [
           0.7777777777777778,
           "#fb9f3a"
          ],
          [
           0.8888888888888888,
           "#fdca26"
          ],
          [
           1,
           "#f0f921"
          ]
         ]
        },
        "legend": {
         "itemsizing": "constant",
         "tracegroupgap": 0
        },
        "mapbox": {
         "center": {
          "lat": 43.72696,
          "lon": 3.4383716
         },
         "domain": {
          "x": [
           0,
           1
          ],
          "y": [
           0,
           1
          ]
         },
         "style": "open-street-map",
         "zoom": 4
        },
        "template": {
         "data": {
          "bar": [
           {
            "error_x": {
             "color": "#2a3f5f"
            },
            "error_y": {
             "color": "#2a3f5f"
            },
            "marker": {
             "line": {
              "color": "#E5ECF6",
              "width": 0.5
             },
             "pattern": {
              "fillmode": "overlay",
              "size": 10,
              "solidity": 0.2
             }
            },
            "type": "bar"
           }
          ],
          "barpolar": [
           {
            "marker": {
             "line": {
              "color": "#E5ECF6",
              "width": 0.5
             },
             "pattern": {
              "fillmode": "overlay",
              "size": 10,
              "solidity": 0.2
             }
            },
            "type": "barpolar"
           }
          ],
          "carpet": [
           {
            "aaxis": {
             "endlinecolor": "#2a3f5f",
             "gridcolor": "white",
             "linecolor": "white",
             "minorgridcolor": "white",
             "startlinecolor": "#2a3f5f"
            },
            "baxis": {
             "endlinecolor": "#2a3f5f",
             "gridcolor": "white",
             "linecolor": "white",
             "minorgridcolor": "white",
             "startlinecolor": "#2a3f5f"
            },
            "type": "carpet"
           }
          ],
          "choropleth": [
           {
            "colorbar": {
             "outlinewidth": 0,
             "ticks": ""
            },
            "type": "choropleth"
           }
          ],
          "contour": [
           {
            "colorbar": {
             "outlinewidth": 0,
             "ticks": ""
            },
            "colorscale": [
             [
              0,
              "#0d0887"
             ],
             [
              0.1111111111111111,
              "#46039f"
             ],
             [
              0.2222222222222222,
              "#7201a8"
             ],
             [
              0.3333333333333333,
              "#9c179e"
             ],
             [
              0.4444444444444444,
              "#bd3786"
             ],
             [
              0.5555555555555556,
              "#d8576b"
             ],
             [
              0.6666666666666666,
              "#ed7953"
             ],
             [
              0.7777777777777778,
              "#fb9f3a"
             ],
             [
              0.8888888888888888,
              "#fdca26"
             ],
             [
              1,
              "#f0f921"
             ]
            ],
            "type": "contour"
           }
          ],
          "contourcarpet": [
           {
            "colorbar": {
             "outlinewidth": 0,
             "ticks": ""
            },
            "type": "contourcarpet"
           }
          ],
          "heatmap": [
           {
            "colorbar": {
             "outlinewidth": 0,
             "ticks": ""
            },
            "colorscale": [
             [
              0,
              "#0d0887"
             ],
             [
              0.1111111111111111,
              "#46039f"
             ],
             [
              0.2222222222222222,
              "#7201a8"
             ],
             [
              0.3333333333333333,
              "#9c179e"
             ],
             [
              0.4444444444444444,
              "#bd3786"
             ],
             [
              0.5555555555555556,
              "#d8576b"
             ],
             [
              0.6666666666666666,
              "#ed7953"
             ],
             [
              0.7777777777777778,
              "#fb9f3a"
             ],
             [
              0.8888888888888888,
              "#fdca26"
             ],
             [
              1,
              "#f0f921"
             ]
            ],
            "type": "heatmap"
           }
          ],
          "heatmapgl": [
           {
            "colorbar": {
             "outlinewidth": 0,
             "ticks": ""
            },
            "colorscale": [
             [
              0,
              "#0d0887"
             ],
             [
              0.1111111111111111,
              "#46039f"
             ],
             [
              0.2222222222222222,
              "#7201a8"
             ],
             [
              0.3333333333333333,
              "#9c179e"
             ],
             [
              0.4444444444444444,
              "#bd3786"
             ],
             [
              0.5555555555555556,
              "#d8576b"
             ],
             [
              0.6666666666666666,
              "#ed7953"
             ],
             [
              0.7777777777777778,
              "#fb9f3a"
             ],
             [
              0.8888888888888888,
              "#fdca26"
             ],
             [
              1,
              "#f0f921"
             ]
            ],
            "type": "heatmapgl"
           }
          ],
          "histogram": [
           {
            "marker": {
             "pattern": {
              "fillmode": "overlay",
              "size": 10,
              "solidity": 0.2
             }
            },
            "type": "histogram"
           }
          ],
          "histogram2d": [
           {
            "colorbar": {
             "outlinewidth": 0,
             "ticks": ""
            },
            "colorscale": [
             [
              0,
              "#0d0887"
             ],
             [
              0.1111111111111111,
              "#46039f"
             ],
             [
              0.2222222222222222,
              "#7201a8"
             ],
             [
              0.3333333333333333,
              "#9c179e"
             ],
             [
              0.4444444444444444,
              "#bd3786"
             ],
             [
              0.5555555555555556,
              "#d8576b"
             ],
             [
              0.6666666666666666,
              "#ed7953"
             ],
             [
              0.7777777777777778,
              "#fb9f3a"
             ],
             [
              0.8888888888888888,
              "#fdca26"
             ],
             [
              1,
              "#f0f921"
             ]
            ],
            "type": "histogram2d"
           }
          ],
          "histogram2dcontour": [
           {
            "colorbar": {
             "outlinewidth": 0,
             "ticks": ""
            },
            "colorscale": [
             [
              0,
              "#0d0887"
             ],
             [
              0.1111111111111111,
              "#46039f"
             ],
             [
              0.2222222222222222,
              "#7201a8"
             ],
             [
              0.3333333333333333,
              "#9c179e"
             ],
             [
              0.4444444444444444,
              "#bd3786"
             ],
             [
              0.5555555555555556,
              "#d8576b"
             ],
             [
              0.6666666666666666,
              "#ed7953"
             ],
             [
              0.7777777777777778,
              "#fb9f3a"
             ],
             [
              0.8888888888888888,
              "#fdca26"
             ],
             [
              1,
              "#f0f921"
             ]
            ],
            "type": "histogram2dcontour"
           }
          ],
          "mesh3d": [
           {
            "colorbar": {
             "outlinewidth": 0,
             "ticks": ""
            },
            "type": "mesh3d"
           }
          ],
          "parcoords": [
           {
            "line": {
             "colorbar": {
              "outlinewidth": 0,
              "ticks": ""
             }
            },
            "type": "parcoords"
           }
          ],
          "pie": [
           {
            "automargin": true,
            "type": "pie"
           }
          ],
          "scatter": [
           {
            "fillpattern": {
             "fillmode": "overlay",
             "size": 10,
             "solidity": 0.2
            },
            "type": "scatter"
           }
          ],
          "scatter3d": [
           {
            "line": {
             "colorbar": {
              "outlinewidth": 0,
              "ticks": ""
             }
            },
            "marker": {
             "colorbar": {
              "outlinewidth": 0,
              "ticks": ""
             }
            },
            "type": "scatter3d"
           }
          ],
          "scattercarpet": [
           {
            "marker": {
             "colorbar": {
              "outlinewidth": 0,
              "ticks": ""
             }
            },
            "type": "scattercarpet"
           }
          ],
          "scattergeo": [
           {
            "marker": {
             "colorbar": {
              "outlinewidth": 0,
              "ticks": ""
             }
            },
            "type": "scattergeo"
           }
          ],
          "scattergl": [
           {
            "marker": {
             "colorbar": {
              "outlinewidth": 0,
              "ticks": ""
             }
            },
            "type": "scattergl"
           }
          ],
          "scattermapbox": [
           {
            "marker": {
             "colorbar": {
              "outlinewidth": 0,
              "ticks": ""
             }
            },
            "type": "scattermapbox"
           }
          ],
          "scatterpolar": [
           {
            "marker": {
             "colorbar": {
              "outlinewidth": 0,
              "ticks": ""
             }
            },
            "type": "scatterpolar"
           }
          ],
          "scatterpolargl": [
           {
            "marker": {
             "colorbar": {
              "outlinewidth": 0,
              "ticks": ""
             }
            },
            "type": "scatterpolargl"
           }
          ],
          "scatterternary": [
           {
            "marker": {
             "colorbar": {
              "outlinewidth": 0,
              "ticks": ""
             }
            },
            "type": "scatterternary"
           }
          ],
          "surface": [
           {
            "colorbar": {
             "outlinewidth": 0,
             "ticks": ""
            },
            "colorscale": [
             [
              0,
              "#0d0887"
             ],
             [
              0.1111111111111111,
              "#46039f"
             ],
             [
              0.2222222222222222,
              "#7201a8"
             ],
             [
              0.3333333333333333,
              "#9c179e"
             ],
             [
              0.4444444444444444,
              "#bd3786"
             ],
             [
              0.5555555555555556,
              "#d8576b"
             ],
             [
              0.6666666666666666,
              "#ed7953"
             ],
             [
              0.7777777777777778,
              "#fb9f3a"
             ],
             [
              0.8888888888888888,
              "#fdca26"
             ],
             [
              1,
              "#f0f921"
             ]
            ],
            "type": "surface"
           }
          ],
          "table": [
           {
            "cells": {
             "fill": {
              "color": "#EBF0F8"
             },
             "line": {
              "color": "white"
             }
            },
            "header": {
             "fill": {
              "color": "#C8D4E3"
             },
             "line": {
              "color": "white"
             }
            },
            "type": "table"
           }
          ]
         },
         "layout": {
          "annotationdefaults": {
           "arrowcolor": "#2a3f5f",
           "arrowhead": 0,
           "arrowwidth": 1
          },
          "autotypenumbers": "strict",
          "coloraxis": {
           "colorbar": {
            "outlinewidth": 0,
            "ticks": ""
           }
          },
          "colorscale": {
           "diverging": [
            [
             0,
             "#8e0152"
            ],
            [
             0.1,
             "#c51b7d"
            ],
            [
             0.2,
             "#de77ae"
            ],
            [
             0.3,
             "#f1b6da"
            ],
            [
             0.4,
             "#fde0ef"
            ],
            [
             0.5,
             "#f7f7f7"
            ],
            [
             0.6,
             "#e6f5d0"
            ],
            [
             0.7,
             "#b8e186"
            ],
            [
             0.8,
             "#7fbc41"
            ],
            [
             0.9,
             "#4d9221"
            ],
            [
             1,
             "#276419"
            ]
           ],
           "sequential": [
            [
             0,
             "#0d0887"
            ],
            [
             0.1111111111111111,
             "#46039f"
            ],
            [
             0.2222222222222222,
             "#7201a8"
            ],
            [
             0.3333333333333333,
             "#9c179e"
            ],
            [
             0.4444444444444444,
             "#bd3786"
            ],
            [
             0.5555555555555556,
             "#d8576b"
            ],
            [
             0.6666666666666666,
             "#ed7953"
            ],
            [
             0.7777777777777778,
             "#fb9f3a"
            ],
            [
             0.8888888888888888,
             "#fdca26"
            ],
            [
             1,
             "#f0f921"
            ]
           ],
           "sequentialminus": [
            [
             0,
             "#0d0887"
            ],
            [
             0.1111111111111111,
             "#46039f"
            ],
            [
             0.2222222222222222,
             "#7201a8"
            ],
            [
             0.3333333333333333,
             "#9c179e"
            ],
            [
             0.4444444444444444,
             "#bd3786"
            ],
            [
             0.5555555555555556,
             "#d8576b"
            ],
            [
             0.6666666666666666,
             "#ed7953"
            ],
            [
             0.7777777777777778,
             "#fb9f3a"
            ],
            [
             0.8888888888888888,
             "#fdca26"
            ],
            [
             1,
             "#f0f921"
            ]
           ]
          },
          "colorway": [
           "#636efa",
           "#EF553B",
           "#00cc96",
           "#ab63fa",
           "#FFA15A",
           "#19d3f3",
           "#FF6692",
           "#B6E880",
           "#FF97FF",
           "#FECB52"
          ],
          "font": {
           "color": "#2a3f5f"
          },
          "geo": {
           "bgcolor": "white",
           "lakecolor": "white",
           "landcolor": "#E5ECF6",
           "showlakes": true,
           "showland": true,
           "subunitcolor": "white"
          },
          "hoverlabel": {
           "align": "left"
          },
          "hovermode": "closest",
          "mapbox": {
           "style": "light"
          },
          "paper_bgcolor": "white",
          "plot_bgcolor": "#E5ECF6",
          "polar": {
           "angularaxis": {
            "gridcolor": "white",
            "linecolor": "white",
            "ticks": ""
           },
           "bgcolor": "#E5ECF6",
           "radialaxis": {
            "gridcolor": "white",
            "linecolor": "white",
            "ticks": ""
           }
          },
          "scene": {
           "xaxis": {
            "backgroundcolor": "#E5ECF6",
            "gridcolor": "white",
            "gridwidth": 2,
            "linecolor": "white",
            "showbackground": true,
            "ticks": "",
            "zerolinecolor": "white"
           },
           "yaxis": {
            "backgroundcolor": "#E5ECF6",
            "gridcolor": "white",
            "gridwidth": 2,
            "linecolor": "white",
            "showbackground": true,
            "ticks": "",
            "zerolinecolor": "white"
           },
           "zaxis": {
            "backgroundcolor": "#E5ECF6",
            "gridcolor": "white",
            "gridwidth": 2,
            "linecolor": "white",
            "showbackground": true,
            "ticks": "",
            "zerolinecolor": "white"
           }
          },
          "shapedefaults": {
           "line": {
            "color": "#2a3f5f"
           }
          },
          "ternary": {
           "aaxis": {
            "gridcolor": "white",
            "linecolor": "white",
            "ticks": ""
           },
           "baxis": {
            "gridcolor": "white",
            "linecolor": "white",
            "ticks": ""
           },
           "bgcolor": "#E5ECF6",
           "caxis": {
            "gridcolor": "white",
            "linecolor": "white",
            "ticks": ""
           }
          },
          "title": {
           "x": 0.05
          },
          "xaxis": {
           "automargin": true,
           "gridcolor": "white",
           "linecolor": "white",
           "ticks": "",
           "title": {
            "standoff": 15
           },
           "zerolinecolor": "white",
           "zerolinewidth": 2
          },
          "yaxis": {
           "automargin": true,
           "gridcolor": "white",
           "linecolor": "white",
           "ticks": "",
           "title": {
            "standoff": 15
           },
           "zerolinecolor": "white",
           "zerolinewidth": 2
          }
         }
        },
        "title": {
         "text": "Top 5 des villes avec la température moyenne la plus élevée et peu de pluie"
        }
       }
      }
     },
     "metadata": {},
     "output_type": "display_data"
    }
   ],
   "source": [
    "fig = px.scatter_mapbox(df_top5, lat=\"latitude\", lon=\"longitude\", text=\"Ville\", size=\"Temperature_moyenne\",\n",
    "                        size_max=30, \n",
    "                        color=\"Temperature_moyenne\",\n",
    "                        zoom=4, \n",
    "                        mapbox_style=\"open-street-map\",\n",
    "                        title=\"Top 5 des villes avec la température moyenne la plus élevée et peu de pluie\")\n",
    "fig.update_traces(marker=dict(size=12))\n",
    "fig.show()"
   ]
  },
  {
   "cell_type": "code",
   "execution_count": 97,
   "metadata": {},
   "outputs": [],
   "source": [
    "df_top5.to_csv('top5_villes.csv', index=False)"
   ]
  },
  {
   "cell_type": "markdown",
   "metadata": {},
   "source": [
    "Pour la suite de notre projet, et notamment du scrapping des hôtels sur Booking, nous nous concentrerons sur les villes ci-dessus"
   ]
  },
  {
   "cell_type": "code",
   "execution_count": null,
   "metadata": {},
   "outputs": [],
   "source": []
  }
 ],
 "metadata": {
  "kernelspec": {
   "display_name": "base",
   "language": "python",
   "name": "python3"
  },
  "language_info": {
   "codemirror_mode": {
    "name": "ipython",
    "version": 3
   },
   "file_extension": ".py",
   "mimetype": "text/x-python",
   "name": "python",
   "nbconvert_exporter": "python",
   "pygments_lexer": "ipython3",
   "version": "3.12.4"
  }
 },
 "nbformat": 4,
 "nbformat_minor": 2
}
