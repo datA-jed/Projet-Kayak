{
 "cells": [
  {
   "cell_type": "code",
   "execution_count": 41,
   "id": "cf237c2b",
   "metadata": {},
   "outputs": [],
   "source": [
    "import pandas as pd\n",
    "import numpy as np\n"
   ]
  },
  {
   "cell_type": "markdown",
   "id": "e8873412",
   "metadata": {},
   "source": [
    "Pour rappel, les 5 villes sélectionnées suite aux information météo sont : Cassis, Marseille, La Rochelle, Collioure et Sainte Maries de la Mer"
   ]
  },
  {
   "cell_type": "code",
   "execution_count": 42,
   "id": "52236024",
   "metadata": {},
   "outputs": [
    {
     "data": {
      "text/html": [
       "<div>\n",
       "<style scoped>\n",
       "    .dataframe tbody tr th:only-of-type {\n",
       "        vertical-align: middle;\n",
       "    }\n",
       "\n",
       "    .dataframe tbody tr th {\n",
       "        vertical-align: top;\n",
       "    }\n",
       "\n",
       "    .dataframe thead th {\n",
       "        text-align: right;\n",
       "    }\n",
       "</style>\n",
       "<table border=\"1\" class=\"dataframe\">\n",
       "  <thead>\n",
       "    <tr style=\"text-align: right;\">\n",
       "      <th></th>\n",
       "      <th>ville_id</th>\n",
       "      <th>Date</th>\n",
       "      <th>Temperature_max (°C)</th>\n",
       "      <th>Temperature_moyenne</th>\n",
       "      <th>Temps_pluie (h)</th>\n",
       "      <th>Ville</th>\n",
       "      <th>latitude</th>\n",
       "      <th>longitude</th>\n",
       "    </tr>\n",
       "  </thead>\n",
       "  <tbody>\n",
       "    <tr>\n",
       "      <th>0</th>\n",
       "      <td>19</td>\n",
       "      <td>2025-05-05</td>\n",
       "      <td>20.1</td>\n",
       "      <td>16.8</td>\n",
       "      <td>3.0</td>\n",
       "      <td>Cassis</td>\n",
       "      <td>43.213074</td>\n",
       "      <td>5.540576</td>\n",
       "    </tr>\n",
       "    <tr>\n",
       "      <th>1</th>\n",
       "      <td>19</td>\n",
       "      <td>2025-05-06</td>\n",
       "      <td>19.0</td>\n",
       "      <td>15.3</td>\n",
       "      <td>0.0</td>\n",
       "      <td>Cassis</td>\n",
       "      <td>43.213074</td>\n",
       "      <td>5.540576</td>\n",
       "    </tr>\n",
       "    <tr>\n",
       "      <th>2</th>\n",
       "      <td>19</td>\n",
       "      <td>2025-05-07</td>\n",
       "      <td>18.0</td>\n",
       "      <td>15.8</td>\n",
       "      <td>3.0</td>\n",
       "      <td>Cassis</td>\n",
       "      <td>43.213074</td>\n",
       "      <td>5.540576</td>\n",
       "    </tr>\n",
       "    <tr>\n",
       "      <th>3</th>\n",
       "      <td>19</td>\n",
       "      <td>2025-05-08</td>\n",
       "      <td>20.0</td>\n",
       "      <td>14.9</td>\n",
       "      <td>0.0</td>\n",
       "      <td>Cassis</td>\n",
       "      <td>43.213074</td>\n",
       "      <td>5.540576</td>\n",
       "    </tr>\n",
       "    <tr>\n",
       "      <th>4</th>\n",
       "      <td>19</td>\n",
       "      <td>2025-05-09</td>\n",
       "      <td>19.5</td>\n",
       "      <td>16.5</td>\n",
       "      <td>0.0</td>\n",
       "      <td>Cassis</td>\n",
       "      <td>43.213074</td>\n",
       "      <td>5.540576</td>\n",
       "    </tr>\n",
       "    <tr>\n",
       "      <th>5</th>\n",
       "      <td>19</td>\n",
       "      <td>2025-05-10</td>\n",
       "      <td>20.7</td>\n",
       "      <td>17.2</td>\n",
       "      <td>0.0</td>\n",
       "      <td>Cassis</td>\n",
       "      <td>43.213074</td>\n",
       "      <td>5.540576</td>\n",
       "    </tr>\n",
       "    <tr>\n",
       "      <th>6</th>\n",
       "      <td>19</td>\n",
       "      <td>2025-05-11</td>\n",
       "      <td>20.6</td>\n",
       "      <td>17.3</td>\n",
       "      <td>0.0</td>\n",
       "      <td>Cassis</td>\n",
       "      <td>43.213074</td>\n",
       "      <td>5.540576</td>\n",
       "    </tr>\n",
       "    <tr>\n",
       "      <th>7</th>\n",
       "      <td>20</td>\n",
       "      <td>2025-05-05</td>\n",
       "      <td>19.1</td>\n",
       "      <td>16.3</td>\n",
       "      <td>1.0</td>\n",
       "      <td>Marseille</td>\n",
       "      <td>43.269776</td>\n",
       "      <td>5.367037</td>\n",
       "    </tr>\n",
       "    <tr>\n",
       "      <th>8</th>\n",
       "      <td>20</td>\n",
       "      <td>2025-05-06</td>\n",
       "      <td>18.0</td>\n",
       "      <td>14.9</td>\n",
       "      <td>0.0</td>\n",
       "      <td>Marseille</td>\n",
       "      <td>43.269776</td>\n",
       "      <td>5.367037</td>\n",
       "    </tr>\n",
       "    <tr>\n",
       "      <th>9</th>\n",
       "      <td>20</td>\n",
       "      <td>2025-05-07</td>\n",
       "      <td>17.4</td>\n",
       "      <td>15.5</td>\n",
       "      <td>3.0</td>\n",
       "      <td>Marseille</td>\n",
       "      <td>43.269776</td>\n",
       "      <td>5.367037</td>\n",
       "    </tr>\n",
       "    <tr>\n",
       "      <th>10</th>\n",
       "      <td>20</td>\n",
       "      <td>2025-05-08</td>\n",
       "      <td>20.0</td>\n",
       "      <td>14.8</td>\n",
       "      <td>0.0</td>\n",
       "      <td>Marseille</td>\n",
       "      <td>43.269776</td>\n",
       "      <td>5.367037</td>\n",
       "    </tr>\n",
       "    <tr>\n",
       "      <th>11</th>\n",
       "      <td>20</td>\n",
       "      <td>2025-05-09</td>\n",
       "      <td>19.5</td>\n",
       "      <td>16.4</td>\n",
       "      <td>0.0</td>\n",
       "      <td>Marseille</td>\n",
       "      <td>43.269776</td>\n",
       "      <td>5.367037</td>\n",
       "    </tr>\n",
       "    <tr>\n",
       "      <th>12</th>\n",
       "      <td>20</td>\n",
       "      <td>2025-05-10</td>\n",
       "      <td>22.9</td>\n",
       "      <td>17.0</td>\n",
       "      <td>0.0</td>\n",
       "      <td>Marseille</td>\n",
       "      <td>43.269776</td>\n",
       "      <td>5.367037</td>\n",
       "    </tr>\n",
       "    <tr>\n",
       "      <th>13</th>\n",
       "      <td>20</td>\n",
       "      <td>2025-05-11</td>\n",
       "      <td>22.3</td>\n",
       "      <td>16.9</td>\n",
       "      <td>0.0</td>\n",
       "      <td>Marseille</td>\n",
       "      <td>43.269776</td>\n",
       "      <td>5.367037</td>\n",
       "    </tr>\n",
       "    <tr>\n",
       "      <th>14</th>\n",
       "      <td>26</td>\n",
       "      <td>2025-05-05</td>\n",
       "      <td>19.1</td>\n",
       "      <td>16.2</td>\n",
       "      <td>4.0</td>\n",
       "      <td>Saintes Maries de la mer</td>\n",
       "      <td>43.479513</td>\n",
       "      <td>4.394262</td>\n",
       "    </tr>\n",
       "    <tr>\n",
       "      <th>15</th>\n",
       "      <td>26</td>\n",
       "      <td>2025-05-06</td>\n",
       "      <td>18.4</td>\n",
       "      <td>15.0</td>\n",
       "      <td>0.0</td>\n",
       "      <td>Saintes Maries de la mer</td>\n",
       "      <td>43.479513</td>\n",
       "      <td>4.394262</td>\n",
       "    </tr>\n",
       "    <tr>\n",
       "      <th>16</th>\n",
       "      <td>26</td>\n",
       "      <td>2025-05-07</td>\n",
       "      <td>18.0</td>\n",
       "      <td>14.8</td>\n",
       "      <td>0.0</td>\n",
       "      <td>Saintes Maries de la mer</td>\n",
       "      <td>43.479513</td>\n",
       "      <td>4.394262</td>\n",
       "    </tr>\n",
       "    <tr>\n",
       "      <th>17</th>\n",
       "      <td>26</td>\n",
       "      <td>2025-05-08</td>\n",
       "      <td>19.0</td>\n",
       "      <td>15.4</td>\n",
       "      <td>0.0</td>\n",
       "      <td>Saintes Maries de la mer</td>\n",
       "      <td>43.479513</td>\n",
       "      <td>4.394262</td>\n",
       "    </tr>\n",
       "    <tr>\n",
       "      <th>18</th>\n",
       "      <td>26</td>\n",
       "      <td>2025-05-09</td>\n",
       "      <td>20.1</td>\n",
       "      <td>16.7</td>\n",
       "      <td>6.0</td>\n",
       "      <td>Saintes Maries de la mer</td>\n",
       "      <td>43.479513</td>\n",
       "      <td>4.394262</td>\n",
       "    </tr>\n",
       "    <tr>\n",
       "      <th>19</th>\n",
       "      <td>26</td>\n",
       "      <td>2025-05-10</td>\n",
       "      <td>22.7</td>\n",
       "      <td>17.3</td>\n",
       "      <td>0.0</td>\n",
       "      <td>Saintes Maries de la mer</td>\n",
       "      <td>43.479513</td>\n",
       "      <td>4.394262</td>\n",
       "    </tr>\n",
       "    <tr>\n",
       "      <th>20</th>\n",
       "      <td>26</td>\n",
       "      <td>2025-05-11</td>\n",
       "      <td>21.8</td>\n",
       "      <td>17.3</td>\n",
       "      <td>0.0</td>\n",
       "      <td>Saintes Maries de la mer</td>\n",
       "      <td>43.479513</td>\n",
       "      <td>4.394262</td>\n",
       "    </tr>\n",
       "    <tr>\n",
       "      <th>21</th>\n",
       "      <td>27</td>\n",
       "      <td>2025-05-05</td>\n",
       "      <td>18.7</td>\n",
       "      <td>15.6</td>\n",
       "      <td>2.0</td>\n",
       "      <td>Collioure</td>\n",
       "      <td>42.515405</td>\n",
       "      <td>3.075825</td>\n",
       "    </tr>\n",
       "    <tr>\n",
       "      <th>22</th>\n",
       "      <td>27</td>\n",
       "      <td>2025-05-06</td>\n",
       "      <td>17.9</td>\n",
       "      <td>14.5</td>\n",
       "      <td>0.0</td>\n",
       "      <td>Collioure</td>\n",
       "      <td>42.515405</td>\n",
       "      <td>3.075825</td>\n",
       "    </tr>\n",
       "    <tr>\n",
       "      <th>23</th>\n",
       "      <td>27</td>\n",
       "      <td>2025-05-07</td>\n",
       "      <td>19.2</td>\n",
       "      <td>15.4</td>\n",
       "      <td>1.0</td>\n",
       "      <td>Collioure</td>\n",
       "      <td>42.515405</td>\n",
       "      <td>3.075825</td>\n",
       "    </tr>\n",
       "    <tr>\n",
       "      <th>24</th>\n",
       "      <td>27</td>\n",
       "      <td>2025-05-08</td>\n",
       "      <td>19.5</td>\n",
       "      <td>15.9</td>\n",
       "      <td>7.0</td>\n",
       "      <td>Collioure</td>\n",
       "      <td>42.515405</td>\n",
       "      <td>3.075825</td>\n",
       "    </tr>\n",
       "    <tr>\n",
       "      <th>25</th>\n",
       "      <td>27</td>\n",
       "      <td>2025-05-09</td>\n",
       "      <td>17.7</td>\n",
       "      <td>15.7</td>\n",
       "      <td>1.0</td>\n",
       "      <td>Collioure</td>\n",
       "      <td>42.515405</td>\n",
       "      <td>3.075825</td>\n",
       "    </tr>\n",
       "    <tr>\n",
       "      <th>26</th>\n",
       "      <td>27</td>\n",
       "      <td>2025-05-10</td>\n",
       "      <td>20.1</td>\n",
       "      <td>16.7</td>\n",
       "      <td>0.0</td>\n",
       "      <td>Collioure</td>\n",
       "      <td>42.515405</td>\n",
       "      <td>3.075825</td>\n",
       "    </tr>\n",
       "    <tr>\n",
       "      <th>27</th>\n",
       "      <td>27</td>\n",
       "      <td>2025-05-11</td>\n",
       "      <td>20.3</td>\n",
       "      <td>17.9</td>\n",
       "      <td>0.0</td>\n",
       "      <td>Collioure</td>\n",
       "      <td>42.515405</td>\n",
       "      <td>3.075825</td>\n",
       "    </tr>\n",
       "    <tr>\n",
       "      <th>28</th>\n",
       "      <td>34</td>\n",
       "      <td>2025-05-05</td>\n",
       "      <td>16.7</td>\n",
       "      <td>12.7</td>\n",
       "      <td>0.0</td>\n",
       "      <td>La Rochelle</td>\n",
       "      <td>46.157032</td>\n",
       "      <td>-1.185842</td>\n",
       "    </tr>\n",
       "    <tr>\n",
       "      <th>29</th>\n",
       "      <td>34</td>\n",
       "      <td>2025-05-06</td>\n",
       "      <td>19.0</td>\n",
       "      <td>13.7</td>\n",
       "      <td>0.0</td>\n",
       "      <td>La Rochelle</td>\n",
       "      <td>46.157032</td>\n",
       "      <td>-1.185842</td>\n",
       "    </tr>\n",
       "    <tr>\n",
       "      <th>30</th>\n",
       "      <td>34</td>\n",
       "      <td>2025-05-07</td>\n",
       "      <td>20.5</td>\n",
       "      <td>15.5</td>\n",
       "      <td>0.0</td>\n",
       "      <td>La Rochelle</td>\n",
       "      <td>46.157032</td>\n",
       "      <td>-1.185842</td>\n",
       "    </tr>\n",
       "    <tr>\n",
       "      <th>31</th>\n",
       "      <td>34</td>\n",
       "      <td>2025-05-08</td>\n",
       "      <td>19.8</td>\n",
       "      <td>15.9</td>\n",
       "      <td>1.0</td>\n",
       "      <td>La Rochelle</td>\n",
       "      <td>46.157032</td>\n",
       "      <td>-1.185842</td>\n",
       "    </tr>\n",
       "    <tr>\n",
       "      <th>32</th>\n",
       "      <td>34</td>\n",
       "      <td>2025-05-09</td>\n",
       "      <td>21.4</td>\n",
       "      <td>16.7</td>\n",
       "      <td>0.0</td>\n",
       "      <td>La Rochelle</td>\n",
       "      <td>46.157032</td>\n",
       "      <td>-1.185842</td>\n",
       "    </tr>\n",
       "    <tr>\n",
       "      <th>33</th>\n",
       "      <td>34</td>\n",
       "      <td>2025-05-10</td>\n",
       "      <td>23.4</td>\n",
       "      <td>17.3</td>\n",
       "      <td>0.0</td>\n",
       "      <td>La Rochelle</td>\n",
       "      <td>46.157032</td>\n",
       "      <td>-1.185842</td>\n",
       "    </tr>\n",
       "    <tr>\n",
       "      <th>34</th>\n",
       "      <td>34</td>\n",
       "      <td>2025-05-11</td>\n",
       "      <td>24.1</td>\n",
       "      <td>18.8</td>\n",
       "      <td>0.0</td>\n",
       "      <td>La Rochelle</td>\n",
       "      <td>46.157032</td>\n",
       "      <td>-1.185842</td>\n",
       "    </tr>\n",
       "  </tbody>\n",
       "</table>\n",
       "</div>"
      ],
      "text/plain": [
       "    ville_id        Date  Temperature_max (°C)  Temperature_moyenne  \\\n",
       "0         19  2025-05-05                  20.1                 16.8   \n",
       "1         19  2025-05-06                  19.0                 15.3   \n",
       "2         19  2025-05-07                  18.0                 15.8   \n",
       "3         19  2025-05-08                  20.0                 14.9   \n",
       "4         19  2025-05-09                  19.5                 16.5   \n",
       "5         19  2025-05-10                  20.7                 17.2   \n",
       "6         19  2025-05-11                  20.6                 17.3   \n",
       "7         20  2025-05-05                  19.1                 16.3   \n",
       "8         20  2025-05-06                  18.0                 14.9   \n",
       "9         20  2025-05-07                  17.4                 15.5   \n",
       "10        20  2025-05-08                  20.0                 14.8   \n",
       "11        20  2025-05-09                  19.5                 16.4   \n",
       "12        20  2025-05-10                  22.9                 17.0   \n",
       "13        20  2025-05-11                  22.3                 16.9   \n",
       "14        26  2025-05-05                  19.1                 16.2   \n",
       "15        26  2025-05-06                  18.4                 15.0   \n",
       "16        26  2025-05-07                  18.0                 14.8   \n",
       "17        26  2025-05-08                  19.0                 15.4   \n",
       "18        26  2025-05-09                  20.1                 16.7   \n",
       "19        26  2025-05-10                  22.7                 17.3   \n",
       "20        26  2025-05-11                  21.8                 17.3   \n",
       "21        27  2025-05-05                  18.7                 15.6   \n",
       "22        27  2025-05-06                  17.9                 14.5   \n",
       "23        27  2025-05-07                  19.2                 15.4   \n",
       "24        27  2025-05-08                  19.5                 15.9   \n",
       "25        27  2025-05-09                  17.7                 15.7   \n",
       "26        27  2025-05-10                  20.1                 16.7   \n",
       "27        27  2025-05-11                  20.3                 17.9   \n",
       "28        34  2025-05-05                  16.7                 12.7   \n",
       "29        34  2025-05-06                  19.0                 13.7   \n",
       "30        34  2025-05-07                  20.5                 15.5   \n",
       "31        34  2025-05-08                  19.8                 15.9   \n",
       "32        34  2025-05-09                  21.4                 16.7   \n",
       "33        34  2025-05-10                  23.4                 17.3   \n",
       "34        34  2025-05-11                  24.1                 18.8   \n",
       "\n",
       "    Temps_pluie (h)                     Ville   latitude  longitude  \n",
       "0               3.0                    Cassis  43.213074   5.540576  \n",
       "1               0.0                    Cassis  43.213074   5.540576  \n",
       "2               3.0                    Cassis  43.213074   5.540576  \n",
       "3               0.0                    Cassis  43.213074   5.540576  \n",
       "4               0.0                    Cassis  43.213074   5.540576  \n",
       "5               0.0                    Cassis  43.213074   5.540576  \n",
       "6               0.0                    Cassis  43.213074   5.540576  \n",
       "7               1.0                 Marseille  43.269776   5.367037  \n",
       "8               0.0                 Marseille  43.269776   5.367037  \n",
       "9               3.0                 Marseille  43.269776   5.367037  \n",
       "10              0.0                 Marseille  43.269776   5.367037  \n",
       "11              0.0                 Marseille  43.269776   5.367037  \n",
       "12              0.0                 Marseille  43.269776   5.367037  \n",
       "13              0.0                 Marseille  43.269776   5.367037  \n",
       "14              4.0  Saintes Maries de la mer  43.479513   4.394262  \n",
       "15              0.0  Saintes Maries de la mer  43.479513   4.394262  \n",
       "16              0.0  Saintes Maries de la mer  43.479513   4.394262  \n",
       "17              0.0  Saintes Maries de la mer  43.479513   4.394262  \n",
       "18              6.0  Saintes Maries de la mer  43.479513   4.394262  \n",
       "19              0.0  Saintes Maries de la mer  43.479513   4.394262  \n",
       "20              0.0  Saintes Maries de la mer  43.479513   4.394262  \n",
       "21              2.0                 Collioure  42.515405   3.075825  \n",
       "22              0.0                 Collioure  42.515405   3.075825  \n",
       "23              1.0                 Collioure  42.515405   3.075825  \n",
       "24              7.0                 Collioure  42.515405   3.075825  \n",
       "25              1.0                 Collioure  42.515405   3.075825  \n",
       "26              0.0                 Collioure  42.515405   3.075825  \n",
       "27              0.0                 Collioure  42.515405   3.075825  \n",
       "28              0.0               La Rochelle  46.157032  -1.185842  \n",
       "29              0.0               La Rochelle  46.157032  -1.185842  \n",
       "30              0.0               La Rochelle  46.157032  -1.185842  \n",
       "31              1.0               La Rochelle  46.157032  -1.185842  \n",
       "32              0.0               La Rochelle  46.157032  -1.185842  \n",
       "33              0.0               La Rochelle  46.157032  -1.185842  \n",
       "34              0.0               La Rochelle  46.157032  -1.185842  "
      ]
     },
     "execution_count": 42,
     "metadata": {},
     "output_type": "execute_result"
    }
   ],
   "source": [
    "top_5_villes = pd.read_csv('C:/Users/kleim/Desktop/PROJECTS_CERTIF_DS/data_collection_kayak/top5_villes.csv')\n",
    "top_5_villes"
   ]
  },
  {
   "cell_type": "markdown",
   "id": "5ffc56e6",
   "metadata": {},
   "source": [
    "Récupérons nos données scrappées et nettoyons les en les mettants dans un dataframe"
   ]
  },
  {
   "cell_type": "code",
   "execution_count": 43,
   "id": "88f7fa24",
   "metadata": {},
   "outputs": [
    {
     "data": {
      "text/html": [
       "<div>\n",
       "<style scoped>\n",
       "    .dataframe tbody tr th:only-of-type {\n",
       "        vertical-align: middle;\n",
       "    }\n",
       "\n",
       "    .dataframe tbody tr th {\n",
       "        vertical-align: top;\n",
       "    }\n",
       "\n",
       "    .dataframe thead th {\n",
       "        text-align: right;\n",
       "    }\n",
       "</style>\n",
       "<table border=\"1\" class=\"dataframe\">\n",
       "  <thead>\n",
       "    <tr style=\"text-align: right;\">\n",
       "      <th></th>\n",
       "      <th>hotel_name</th>\n",
       "      <th>url_hotel</th>\n",
       "      <th>hotel_coordinates</th>\n",
       "      <th>score</th>\n",
       "      <th>text_description</th>\n",
       "      <th>address</th>\n",
       "      <th>ville</th>\n",
       "    </tr>\n",
       "  </thead>\n",
       "  <tbody>\n",
       "    <tr>\n",
       "      <th>0</th>\n",
       "      <td>Hôtel Eden Cassis - centre-ville- piscine chau...</td>\n",
       "      <td>https://www.booking.com/hotel/fr/ha-tel-de-fra...</td>\n",
       "      <td>43.21330449968788,5.5419158935546875</td>\n",
       "      <td>8.6</td>\n",
       "      <td>Cet hôtel est situé à Cassis, au cœur de la Pr...</td>\n",
       "      <td>1, Avenue du Revestel - Impasse du Coulet, 132...</td>\n",
       "      <td>Cassis</td>\n",
       "    </tr>\n",
       "    <tr>\n",
       "      <th>1</th>\n",
       "      <td>The Originals Boutique, Hôtel Cassitel, Cassis</td>\n",
       "      <td>https://www.booking.com/hotel/fr/interhotel-ca...</td>\n",
       "      <td>43.213706213836964,5.538958087563515</td>\n",
       "      <td>7.9</td>\n",
       "      <td>L’The Originals Boutique, Hôtel Cassitel, Cass...</td>\n",
       "      <td>Place Clémenceau, 13260 Cassis, France</td>\n",
       "      <td>Cassis</td>\n",
       "    </tr>\n",
       "    <tr>\n",
       "      <th>2</th>\n",
       "      <td>Best Western Plus Hôtel la Rade</td>\n",
       "      <td>https://www.booking.com/hotel/fr/la-rade-cassi...</td>\n",
       "      <td>43.21522996680949,5.533696934580803</td>\n",
       "      <td>8.5</td>\n",
       "      <td>Le Best Western Plus Hôtel la Rade est situé à...</td>\n",
       "      <td>1, avenue des Dardanelles, 13260 Cassis, France</td>\n",
       "      <td>Cassis</td>\n",
       "    </tr>\n",
       "    <tr>\n",
       "      <th>3</th>\n",
       "      <td>Best Western Hotel &amp; SPA Coeur De Cassis</td>\n",
       "      <td>https://www.booking.com/hotel/fr/du-grand-jard...</td>\n",
       "      <td>43.21457326278473,5.540146976709366</td>\n",
       "      <td>8.5</td>\n",
       "      <td>Le Best Western Hotel &amp; SPA Coeur De Cassis vo...</td>\n",
       "      <td>2, rue Pierre Eydin, 13260 Cassis, France</td>\n",
       "      <td>Cassis</td>\n",
       "    </tr>\n",
       "    <tr>\n",
       "      <th>4</th>\n",
       "      <td>LE CLOS DES ARÔMES</td>\n",
       "      <td>https://www.booking.com/hotel/fr/le-clos-des-a...</td>\n",
       "      <td>43.216217352829,5.53802689265</td>\n",
       "      <td>8.7</td>\n",
       "      <td>L’établissement LE CLOS DES ARÔMES se trouve à...</td>\n",
       "      <td>10 Rue Abbé Paul Mouton, 13260 Cassis, France</td>\n",
       "      <td>Cassis</td>\n",
       "    </tr>\n",
       "  </tbody>\n",
       "</table>\n",
       "</div>"
      ],
      "text/plain": [
       "                                          hotel_name  \\\n",
       "0  Hôtel Eden Cassis - centre-ville- piscine chau...   \n",
       "1     The Originals Boutique, Hôtel Cassitel, Cassis   \n",
       "2                    Best Western Plus Hôtel la Rade   \n",
       "3           Best Western Hotel & SPA Coeur De Cassis   \n",
       "4                                 LE CLOS DES ARÔMES   \n",
       "\n",
       "                                           url_hotel  \\\n",
       "0  https://www.booking.com/hotel/fr/ha-tel-de-fra...   \n",
       "1  https://www.booking.com/hotel/fr/interhotel-ca...   \n",
       "2  https://www.booking.com/hotel/fr/la-rade-cassi...   \n",
       "3  https://www.booking.com/hotel/fr/du-grand-jard...   \n",
       "4  https://www.booking.com/hotel/fr/le-clos-des-a...   \n",
       "\n",
       "                      hotel_coordinates  score  \\\n",
       "0  43.21330449968788,5.5419158935546875    8.6   \n",
       "1  43.213706213836964,5.538958087563515    7.9   \n",
       "2   43.21522996680949,5.533696934580803    8.5   \n",
       "3   43.21457326278473,5.540146976709366    8.5   \n",
       "4         43.216217352829,5.53802689265    8.7   \n",
       "\n",
       "                                    text_description  \\\n",
       "0  Cet hôtel est situé à Cassis, au cœur de la Pr...   \n",
       "1  L’The Originals Boutique, Hôtel Cassitel, Cass...   \n",
       "2  Le Best Western Plus Hôtel la Rade est situé à...   \n",
       "3  Le Best Western Hotel & SPA Coeur De Cassis vo...   \n",
       "4  L’établissement LE CLOS DES ARÔMES se trouve à...   \n",
       "\n",
       "                                             address   ville  \n",
       "0  1, Avenue du Revestel - Impasse du Coulet, 132...  Cassis  \n",
       "1             Place Clémenceau, 13260 Cassis, France  Cassis  \n",
       "2    1, avenue des Dardanelles, 13260 Cassis, France  Cassis  \n",
       "3          2, rue Pierre Eydin, 13260 Cassis, France  Cassis  \n",
       "4      10 Rue Abbé Paul Mouton, 13260 Cassis, France  Cassis  "
      ]
     },
     "execution_count": 43,
     "metadata": {},
     "output_type": "execute_result"
    }
   ],
   "source": [
    "cassis = pd.read_json(\"hotels_infos_Cassis.json\")\n",
    "# ajout d'une colonne 'ville' à cassis\n",
    "cassis['ville'] = 'Cassis'\n",
    "# \n",
    "cassis.head()"
   ]
  },
  {
   "cell_type": "code",
   "execution_count": 44,
   "id": "c7799b40",
   "metadata": {},
   "outputs": [
    {
     "data": {
      "text/html": [
       "<div>\n",
       "<style scoped>\n",
       "    .dataframe tbody tr th:only-of-type {\n",
       "        vertical-align: middle;\n",
       "    }\n",
       "\n",
       "    .dataframe tbody tr th {\n",
       "        vertical-align: top;\n",
       "    }\n",
       "\n",
       "    .dataframe thead th {\n",
       "        text-align: right;\n",
       "    }\n",
       "</style>\n",
       "<table border=\"1\" class=\"dataframe\">\n",
       "  <thead>\n",
       "    <tr style=\"text-align: right;\">\n",
       "      <th></th>\n",
       "      <th>hotel_name</th>\n",
       "      <th>url_hotel</th>\n",
       "      <th>hotel_coordinates</th>\n",
       "      <th>score</th>\n",
       "      <th>text_description</th>\n",
       "      <th>address</th>\n",
       "      <th>ville</th>\n",
       "    </tr>\n",
       "  </thead>\n",
       "  <tbody>\n",
       "    <tr>\n",
       "      <th>0</th>\n",
       "      <td>Hôtel Princes de Catalogne</td>\n",
       "      <td>https://www.booking.com/hotel/fr/princes-de-ca...</td>\n",
       "      <td>42.525914313393564,3.0826815962791443</td>\n",
       "      <td>8.3</td>\n",
       "      <td>Installé dans la ville pittoresque de Colliour...</td>\n",
       "      <td>Rue Des Palmiers, 66190 Collioure, France</td>\n",
       "      <td>Collioure</td>\n",
       "    </tr>\n",
       "    <tr>\n",
       "      <th>1</th>\n",
       "      <td>La Frégate</td>\n",
       "      <td>https://www.booking.com/hotel/fr/la-fra-c-gate...</td>\n",
       "      <td>42.52638625163285,3.083256594836712</td>\n",
       "      <td>8.1</td>\n",
       "      <td>Situé à Collioure, l’établissement La Frégate ...</td>\n",
       "      <td>24 Boulevard Camille Pelletan, 66190 Collioure...</td>\n",
       "      <td>Collioure</td>\n",
       "    </tr>\n",
       "    <tr>\n",
       "      <th>2</th>\n",
       "      <td>Hôtel des Templiers</td>\n",
       "      <td>https://www.booking.com/hotel/fr/ha-tel-des-te...</td>\n",
       "      <td>42.52666545948847,3.0839408934116364</td>\n",
       "      <td>8.2</td>\n",
       "      <td>Comportant 2 000 œuvres d'art originales de pe...</td>\n",
       "      <td>5 rue Colbert, 66190 Collioure, France</td>\n",
       "      <td>Collioure</td>\n",
       "    </tr>\n",
       "    <tr>\n",
       "      <th>3</th>\n",
       "      <td>Hôtel La Casa Pairal</td>\n",
       "      <td>https://www.booking.com/hotel/fr/hotelcasapair...</td>\n",
       "      <td>42.5261673320343,3.082355707883835</td>\n",
       "      <td>8.9</td>\n",
       "      <td>Situé à 250 mètres de la plage et du port de C...</td>\n",
       "      <td>Impasse Des Palmiers, 66190 Collioure, France</td>\n",
       "      <td>Collioure</td>\n",
       "    </tr>\n",
       "    <tr>\n",
       "      <th>4</th>\n",
       "      <td>Hôtel la Bona Casa</td>\n",
       "      <td>https://www.booking.com/hotel/fr/la-bona-casa....</td>\n",
       "      <td>42.52547152830637,3.0826986953616142</td>\n",
       "      <td>8.2</td>\n",
       "      <td>L'Hôtel la Bona Casa est situé dans le centre ...</td>\n",
       "      <td>20 Rue de la Republique, 66190 Collioure, France</td>\n",
       "      <td>Collioure</td>\n",
       "    </tr>\n",
       "  </tbody>\n",
       "</table>\n",
       "</div>"
      ],
      "text/plain": [
       "                   hotel_name  \\\n",
       "0  Hôtel Princes de Catalogne   \n",
       "1                  La Frégate   \n",
       "2         Hôtel des Templiers   \n",
       "3        Hôtel La Casa Pairal   \n",
       "4          Hôtel la Bona Casa   \n",
       "\n",
       "                                           url_hotel  \\\n",
       "0  https://www.booking.com/hotel/fr/princes-de-ca...   \n",
       "1  https://www.booking.com/hotel/fr/la-fra-c-gate...   \n",
       "2  https://www.booking.com/hotel/fr/ha-tel-des-te...   \n",
       "3  https://www.booking.com/hotel/fr/hotelcasapair...   \n",
       "4  https://www.booking.com/hotel/fr/la-bona-casa....   \n",
       "\n",
       "                       hotel_coordinates  score  \\\n",
       "0  42.525914313393564,3.0826815962791443    8.3   \n",
       "1    42.52638625163285,3.083256594836712    8.1   \n",
       "2   42.52666545948847,3.0839408934116364    8.2   \n",
       "3     42.5261673320343,3.082355707883835    8.9   \n",
       "4   42.52547152830637,3.0826986953616142    8.2   \n",
       "\n",
       "                                    text_description  \\\n",
       "0  Installé dans la ville pittoresque de Colliour...   \n",
       "1  Situé à Collioure, l’établissement La Frégate ...   \n",
       "2  Comportant 2 000 œuvres d'art originales de pe...   \n",
       "3  Situé à 250 mètres de la plage et du port de C...   \n",
       "4  L'Hôtel la Bona Casa est situé dans le centre ...   \n",
       "\n",
       "                                             address      ville  \n",
       "0          Rue Des Palmiers, 66190 Collioure, France  Collioure  \n",
       "1  24 Boulevard Camille Pelletan, 66190 Collioure...  Collioure  \n",
       "2             5 rue Colbert, 66190 Collioure, France  Collioure  \n",
       "3      Impasse Des Palmiers, 66190 Collioure, France  Collioure  \n",
       "4   20 Rue de la Republique, 66190 Collioure, France  Collioure  "
      ]
     },
     "execution_count": 44,
     "metadata": {},
     "output_type": "execute_result"
    }
   ],
   "source": [
    "collioure = pd.read_json(\"hotels_infos_Collioure.json\")\n",
    "# ajout d'une colonne 'ville' à collioure\n",
    "collioure['ville'] = 'Collioure'\n",
    "collioure.head()\n"
   ]
  },
  {
   "cell_type": "code",
   "execution_count": 45,
   "id": "52a22386",
   "metadata": {},
   "outputs": [
    {
     "data": {
      "text/html": [
       "<div>\n",
       "<style scoped>\n",
       "    .dataframe tbody tr th:only-of-type {\n",
       "        vertical-align: middle;\n",
       "    }\n",
       "\n",
       "    .dataframe tbody tr th {\n",
       "        vertical-align: top;\n",
       "    }\n",
       "\n",
       "    .dataframe thead th {\n",
       "        text-align: right;\n",
       "    }\n",
       "</style>\n",
       "<table border=\"1\" class=\"dataframe\">\n",
       "  <thead>\n",
       "    <tr style=\"text-align: right;\">\n",
       "      <th></th>\n",
       "      <th>hotel_name</th>\n",
       "      <th>url_hotel</th>\n",
       "      <th>hotel_coordinates</th>\n",
       "      <th>score</th>\n",
       "      <th>text_description</th>\n",
       "      <th>address</th>\n",
       "      <th>ville</th>\n",
       "    </tr>\n",
       "  </thead>\n",
       "  <tbody>\n",
       "    <tr>\n",
       "      <th>0</th>\n",
       "      <td>Maisons du Monde Hôtel &amp; Suites - La Rochelle ...</td>\n",
       "      <td>https://www.booking.com/hotel/fr/inter-saint-j...</td>\n",
       "      <td>46.15619304375638,-1.1544348299503326</td>\n",
       "      <td>8.5</td>\n",
       "      <td>Maisons du Monde Hôtel &amp; Suites - La Rochelle ...</td>\n",
       "      <td>4, Place de La Chaîne et 3 rue Saint-Jean du P...</td>\n",
       "      <td>La Rochelle</td>\n",
       "    </tr>\n",
       "    <tr>\n",
       "      <th>1</th>\n",
       "      <td>Le Saint-Nicolas</td>\n",
       "      <td>https://www.booking.com/hotel/fr/comforthotels...</td>\n",
       "      <td>46.158134569625595,-1.1489127710774483</td>\n",
       "      <td>9.0</td>\n",
       "      <td>Le Saint-Nicolas vous accueille dans le quarti...</td>\n",
       "      <td>13 rue Sardinerie, 17000 La Rochelle, France</td>\n",
       "      <td>La Rochelle</td>\n",
       "    </tr>\n",
       "    <tr>\n",
       "      <th>2</th>\n",
       "      <td>Lagrange Apart'Hotel l’Escale Marine</td>\n",
       "      <td>https://www.booking.com/hotel/fr/l-escale-mari...</td>\n",
       "      <td>46.15107011961584,-1.1548632902130294</td>\n",
       "      <td>7.7</td>\n",
       "      <td>L’établissement Lagrange Apart'Hotel l’Escale ...</td>\n",
       "      <td>36 Avenue Amerigo Vespucci, 17000 La Rochelle,...</td>\n",
       "      <td>La Rochelle</td>\n",
       "    </tr>\n",
       "    <tr>\n",
       "      <th>3</th>\n",
       "      <td>Le Champlain</td>\n",
       "      <td>https://www.booking.com/hotel/fr/best-western-...</td>\n",
       "      <td>46.16357605073282,-1.1541599035263062</td>\n",
       "      <td>8.8</td>\n",
       "      <td>L'hôtel Le Champlain est situé en face du parc...</td>\n",
       "      <td>30, Rue Rambaud , 17000 La Rochelle, France</td>\n",
       "      <td>La Rochelle</td>\n",
       "    </tr>\n",
       "    <tr>\n",
       "      <th>4</th>\n",
       "      <td>Hôtel Les Gens de Mer La Rochelle</td>\n",
       "      <td>https://www.booking.com/hotel/fr/les-gens-de-m...</td>\n",
       "      <td>46.154126962049,-1.147499247090309</td>\n",
       "      <td>7.8</td>\n",
       "      <td>Situé à 150 mètres de la gare et à 300 mètres ...</td>\n",
       "      <td>20, Avenue du Général de Gaulle, 17000 La Roch...</td>\n",
       "      <td>La Rochelle</td>\n",
       "    </tr>\n",
       "  </tbody>\n",
       "</table>\n",
       "</div>"
      ],
      "text/plain": [
       "                                          hotel_name  \\\n",
       "0  Maisons du Monde Hôtel & Suites - La Rochelle ...   \n",
       "1                                   Le Saint-Nicolas   \n",
       "2               Lagrange Apart'Hotel l’Escale Marine   \n",
       "3                                       Le Champlain   \n",
       "4                  Hôtel Les Gens de Mer La Rochelle   \n",
       "\n",
       "                                           url_hotel  \\\n",
       "0  https://www.booking.com/hotel/fr/inter-saint-j...   \n",
       "1  https://www.booking.com/hotel/fr/comforthotels...   \n",
       "2  https://www.booking.com/hotel/fr/l-escale-mari...   \n",
       "3  https://www.booking.com/hotel/fr/best-western-...   \n",
       "4  https://www.booking.com/hotel/fr/les-gens-de-m...   \n",
       "\n",
       "                        hotel_coordinates  score  \\\n",
       "0   46.15619304375638,-1.1544348299503326    8.5   \n",
       "1  46.158134569625595,-1.1489127710774483    9.0   \n",
       "2   46.15107011961584,-1.1548632902130294    7.7   \n",
       "3   46.16357605073282,-1.1541599035263062    8.8   \n",
       "4      46.154126962049,-1.147499247090309    7.8   \n",
       "\n",
       "                                    text_description  \\\n",
       "0  Maisons du Monde Hôtel & Suites - La Rochelle ...   \n",
       "1  Le Saint-Nicolas vous accueille dans le quarti...   \n",
       "2  L’établissement Lagrange Apart'Hotel l’Escale ...   \n",
       "3  L'hôtel Le Champlain est situé en face du parc...   \n",
       "4  Situé à 150 mètres de la gare et à 300 mètres ...   \n",
       "\n",
       "                                             address        ville  \n",
       "0  4, Place de La Chaîne et 3 rue Saint-Jean du P...  La Rochelle  \n",
       "1       13 rue Sardinerie, 17000 La Rochelle, France  La Rochelle  \n",
       "2  36 Avenue Amerigo Vespucci, 17000 La Rochelle,...  La Rochelle  \n",
       "3        30, Rue Rambaud , 17000 La Rochelle, France  La Rochelle  \n",
       "4  20, Avenue du Général de Gaulle, 17000 La Roch...  La Rochelle  "
      ]
     },
     "execution_count": 45,
     "metadata": {},
     "output_type": "execute_result"
    }
   ],
   "source": [
    "la_rochelle = pd.read_json(\"hotels_infos_La+Rochelle.json\")\n",
    "# ajout d'une colonne 'ville' à la_rochelle\n",
    "la_rochelle['ville'] = 'La Rochelle'\n",
    "la_rochelle.head()"
   ]
  },
  {
   "cell_type": "code",
   "execution_count": 46,
   "id": "932902f1",
   "metadata": {},
   "outputs": [
    {
     "data": {
      "text/html": [
       "<div>\n",
       "<style scoped>\n",
       "    .dataframe tbody tr th:only-of-type {\n",
       "        vertical-align: middle;\n",
       "    }\n",
       "\n",
       "    .dataframe tbody tr th {\n",
       "        vertical-align: top;\n",
       "    }\n",
       "\n",
       "    .dataframe thead th {\n",
       "        text-align: right;\n",
       "    }\n",
       "</style>\n",
       "<table border=\"1\" class=\"dataframe\">\n",
       "  <thead>\n",
       "    <tr style=\"text-align: right;\">\n",
       "      <th></th>\n",
       "      <th>hotel_name</th>\n",
       "      <th>url_hotel</th>\n",
       "      <th>hotel_coordinates</th>\n",
       "      <th>score</th>\n",
       "      <th>text_description</th>\n",
       "      <th>address</th>\n",
       "      <th>ville</th>\n",
       "    </tr>\n",
       "  </thead>\n",
       "  <tbody>\n",
       "    <tr>\n",
       "      <th>0</th>\n",
       "      <td>Hôtel Hermès</td>\n",
       "      <td>https://www.booking.com/hotel/fr/hermes.fr.htm...</td>\n",
       "      <td>43.29655283229883,5.371883288025856</td>\n",
       "      <td>8.2</td>\n",
       "      <td>L'hôtel Hermès se situe à seulement 35 mètres ...</td>\n",
       "      <td>2 rue Bonneterie, 13002 Marseille, France</td>\n",
       "      <td>Marseille</td>\n",
       "    </tr>\n",
       "    <tr>\n",
       "      <th>1</th>\n",
       "      <td>La Résidence Du Vieux Port</td>\n",
       "      <td>https://www.booking.com/hotel/fr/hotel-la-resi...</td>\n",
       "      <td>43.29653858160117,5.372706055641174</td>\n",
       "      <td>8.8</td>\n",
       "      <td>L'établissement La Residence Du Vieux Port vou...</td>\n",
       "      <td>18 Quai Du Port, 13002 Marseille, France</td>\n",
       "      <td>Marseille</td>\n",
       "    </tr>\n",
       "    <tr>\n",
       "      <th>2</th>\n",
       "      <td>Grand Hôtel Beauvau Marseille Vieux Port - MGa...</td>\n",
       "      <td>https://www.booking.com/hotel/fr/hotel-1293-gr...</td>\n",
       "      <td>43.29507835603476,5.375010073184967</td>\n",
       "      <td>8.4</td>\n",
       "      <td>Le Grand Hôtel Beauvau Marseille Vieux Port - ...</td>\n",
       "      <td>4 Rue Beauvau, 13001 Marseille, France</td>\n",
       "      <td>Marseille</td>\n",
       "    </tr>\n",
       "    <tr>\n",
       "      <th>3</th>\n",
       "      <td>NH Collection Marseille</td>\n",
       "      <td>https://www.booking.com/hotel/fr/nh-collection...</td>\n",
       "      <td>43.3024211,5.36863370000003</td>\n",
       "      <td>8.7</td>\n",
       "      <td>Doté d'un bar à cocktails, d'un jardin et d'un...</td>\n",
       "      <td>37 Boulevard des Dames, 13002 Marseille, France</td>\n",
       "      <td>Marseille</td>\n",
       "    </tr>\n",
       "    <tr>\n",
       "      <th>4</th>\n",
       "      <td>Mercure Marseille Canebière Vieux-Port</td>\n",
       "      <td>https://www.booking.com/hotel/fr/mercure-marse...</td>\n",
       "      <td>43.296986,5.379321</td>\n",
       "      <td>8.4</td>\n",
       "      <td>Situé à Marseille, l’établissement Mercure Mar...</td>\n",
       "      <td>48 La Canebiere, 13001 Marseille, France</td>\n",
       "      <td>Marseille</td>\n",
       "    </tr>\n",
       "  </tbody>\n",
       "</table>\n",
       "</div>"
      ],
      "text/plain": [
       "                                          hotel_name  \\\n",
       "0                                       Hôtel Hermès   \n",
       "1                         La Résidence Du Vieux Port   \n",
       "2  Grand Hôtel Beauvau Marseille Vieux Port - MGa...   \n",
       "3                            NH Collection Marseille   \n",
       "4             Mercure Marseille Canebière Vieux-Port   \n",
       "\n",
       "                                           url_hotel  \\\n",
       "0  https://www.booking.com/hotel/fr/hermes.fr.htm...   \n",
       "1  https://www.booking.com/hotel/fr/hotel-la-resi...   \n",
       "2  https://www.booking.com/hotel/fr/hotel-1293-gr...   \n",
       "3  https://www.booking.com/hotel/fr/nh-collection...   \n",
       "4  https://www.booking.com/hotel/fr/mercure-marse...   \n",
       "\n",
       "                     hotel_coordinates  score  \\\n",
       "0  43.29655283229883,5.371883288025856    8.2   \n",
       "1  43.29653858160117,5.372706055641174    8.8   \n",
       "2  43.29507835603476,5.375010073184967    8.4   \n",
       "3          43.3024211,5.36863370000003    8.7   \n",
       "4                   43.296986,5.379321    8.4   \n",
       "\n",
       "                                    text_description  \\\n",
       "0  L'hôtel Hermès se situe à seulement 35 mètres ...   \n",
       "1  L'établissement La Residence Du Vieux Port vou...   \n",
       "2  Le Grand Hôtel Beauvau Marseille Vieux Port - ...   \n",
       "3  Doté d'un bar à cocktails, d'un jardin et d'un...   \n",
       "4  Situé à Marseille, l’établissement Mercure Mar...   \n",
       "\n",
       "                                           address      ville  \n",
       "0        2 rue Bonneterie, 13002 Marseille, France  Marseille  \n",
       "1         18 Quai Du Port, 13002 Marseille, France  Marseille  \n",
       "2           4 Rue Beauvau, 13001 Marseille, France  Marseille  \n",
       "3  37 Boulevard des Dames, 13002 Marseille, France  Marseille  \n",
       "4         48 La Canebiere, 13001 Marseille, France  Marseille  "
      ]
     },
     "execution_count": 46,
     "metadata": {},
     "output_type": "execute_result"
    }
   ],
   "source": [
    "marseille = pd.read_json(\"hotels_infos_Marseille.json\")\n",
    "# ajout d'une colonne 'ville' à marseille\n",
    "marseille['ville'] = 'Marseille'\n",
    "marseille.head()"
   ]
  },
  {
   "cell_type": "code",
   "execution_count": 47,
   "id": "af737f90",
   "metadata": {},
   "outputs": [
    {
     "data": {
      "text/html": [
       "<div>\n",
       "<style scoped>\n",
       "    .dataframe tbody tr th:only-of-type {\n",
       "        vertical-align: middle;\n",
       "    }\n",
       "\n",
       "    .dataframe tbody tr th {\n",
       "        vertical-align: top;\n",
       "    }\n",
       "\n",
       "    .dataframe thead th {\n",
       "        text-align: right;\n",
       "    }\n",
       "</style>\n",
       "<table border=\"1\" class=\"dataframe\">\n",
       "  <thead>\n",
       "    <tr style=\"text-align: right;\">\n",
       "      <th></th>\n",
       "      <th>hotel_name</th>\n",
       "      <th>url_hotel</th>\n",
       "      <th>hotel_coordinates</th>\n",
       "      <th>score</th>\n",
       "      <th>text_description</th>\n",
       "      <th>address</th>\n",
       "      <th>ville</th>\n",
       "    </tr>\n",
       "  </thead>\n",
       "  <tbody>\n",
       "    <tr>\n",
       "      <th>0</th>\n",
       "      <td>Mas Des Salicornes</td>\n",
       "      <td>https://www.booking.com/hotel/fr/mas-des-salic...</td>\n",
       "      <td>43.45687142239208,4.426175951957703</td>\n",
       "      <td>9.2</td>\n",
       "      <td>Le Mas Des Salicornes est un hôtel de campagne...</td>\n",
       "      <td>38 Chemin du Pont Blanc, 13460 Les Saintes-Mar...</td>\n",
       "      <td>Saintes Maries de la Mer</td>\n",
       "    </tr>\n",
       "    <tr>\n",
       "      <th>1</th>\n",
       "      <td>La Tramontane</td>\n",
       "      <td>https://www.booking.com/hotel/fr/la-tramontane...</td>\n",
       "      <td>43.4726010948223,4.410120248794556</td>\n",
       "      <td>8.6</td>\n",
       "      <td>\\nL'établissement La Tramontane vous accueille...</td>\n",
       "      <td>94 Chemin Bas de Dromar, 13460 Les Saintes-Mar...</td>\n",
       "      <td>Saintes Maries de la Mer</td>\n",
       "    </tr>\n",
       "    <tr>\n",
       "      <th>2</th>\n",
       "      <td>Hôtel Le Mirage</td>\n",
       "      <td>https://www.booking.com/hotel/fr/ha-tel-le-mir...</td>\n",
       "      <td>43.4531019227618,4.430585503578186</td>\n",
       "      <td>8.7</td>\n",
       "      <td>Situé à 100 mètres de la plage et à 200 mètres...</td>\n",
       "      <td>BP 29 - 14 Rue Camille Pelletan, 13460 Les Sai...</td>\n",
       "      <td>Saintes Maries de la Mer</td>\n",
       "    </tr>\n",
       "    <tr>\n",
       "      <th>3</th>\n",
       "      <td>Les Bains Gardians</td>\n",
       "      <td>https://www.booking.com/hotel/fr/auberge-caval...</td>\n",
       "      <td>43.465429806270365,4.419631361961365</td>\n",
       "      <td>8.6</td>\n",
       "      <td>Bénéficiant d’un emplacement tranquille dans u...</td>\n",
       "      <td>D 570 Route D'Arles, 13460 Les Saintes-Maries-...</td>\n",
       "      <td>Saintes Maries de la Mer</td>\n",
       "    </tr>\n",
       "    <tr>\n",
       "      <th>4</th>\n",
       "      <td>Hôtel Casa Marina</td>\n",
       "      <td>https://www.booking.com/hotel/fr/casa-marina-s...</td>\n",
       "      <td>43.451133,4.430953</td>\n",
       "      <td>8.8</td>\n",
       "      <td>L’établissement Hôtel Casa Marina vous accueil...</td>\n",
       "      <td>1 Avenue Gilbert Leroy, 13460 Les Saintes-Mari...</td>\n",
       "      <td>Saintes Maries de la Mer</td>\n",
       "    </tr>\n",
       "  </tbody>\n",
       "</table>\n",
       "</div>"
      ],
      "text/plain": [
       "           hotel_name                                          url_hotel  \\\n",
       "0  Mas Des Salicornes  https://www.booking.com/hotel/fr/mas-des-salic...   \n",
       "1       La Tramontane  https://www.booking.com/hotel/fr/la-tramontane...   \n",
       "2     Hôtel Le Mirage  https://www.booking.com/hotel/fr/ha-tel-le-mir...   \n",
       "3  Les Bains Gardians  https://www.booking.com/hotel/fr/auberge-caval...   \n",
       "4   Hôtel Casa Marina  https://www.booking.com/hotel/fr/casa-marina-s...   \n",
       "\n",
       "                      hotel_coordinates  score  \\\n",
       "0   43.45687142239208,4.426175951957703    9.2   \n",
       "1    43.4726010948223,4.410120248794556    8.6   \n",
       "2    43.4531019227618,4.430585503578186    8.7   \n",
       "3  43.465429806270365,4.419631361961365    8.6   \n",
       "4                    43.451133,4.430953    8.8   \n",
       "\n",
       "                                    text_description  \\\n",
       "0  Le Mas Des Salicornes est un hôtel de campagne...   \n",
       "1  \\nL'établissement La Tramontane vous accueille...   \n",
       "2  Situé à 100 mètres de la plage et à 200 mètres...   \n",
       "3  Bénéficiant d’un emplacement tranquille dans u...   \n",
       "4  L’établissement Hôtel Casa Marina vous accueil...   \n",
       "\n",
       "                                             address                     ville  \n",
       "0  38 Chemin du Pont Blanc, 13460 Les Saintes-Mar...  Saintes Maries de la Mer  \n",
       "1  94 Chemin Bas de Dromar, 13460 Les Saintes-Mar...  Saintes Maries de la Mer  \n",
       "2  BP 29 - 14 Rue Camille Pelletan, 13460 Les Sai...  Saintes Maries de la Mer  \n",
       "3  D 570 Route D'Arles, 13460 Les Saintes-Maries-...  Saintes Maries de la Mer  \n",
       "4  1 Avenue Gilbert Leroy, 13460 Les Saintes-Mari...  Saintes Maries de la Mer  "
      ]
     },
     "execution_count": 47,
     "metadata": {},
     "output_type": "execute_result"
    }
   ],
   "source": [
    "saintes_maries = pd.read_json(\"hotels_infos_Saintes+Maries+de+la+mer.json\")\n",
    "# ajout d'une colonne \"ville\" à saintes_maries\n",
    "saintes_maries['ville'] = 'Saintes Maries de la Mer'\n",
    "saintes_maries.head()"
   ]
  },
  {
   "cell_type": "code",
   "execution_count": 48,
   "id": "6760efd2",
   "metadata": {},
   "outputs": [
    {
     "data": {
      "text/plain": [
       "(24, 7)"
      ]
     },
     "metadata": {},
     "output_type": "display_data"
    },
    {
     "data": {
      "text/plain": [
       "(25, 7)"
      ]
     },
     "metadata": {},
     "output_type": "display_data"
    },
    {
     "data": {
      "text/plain": [
       "(25, 7)"
      ]
     },
     "metadata": {},
     "output_type": "display_data"
    },
    {
     "data": {
      "text/plain": [
       "(25, 7)"
      ]
     },
     "metadata": {},
     "output_type": "display_data"
    },
    {
     "data": {
      "text/plain": [
       "(25, 7)"
      ]
     },
     "metadata": {},
     "output_type": "display_data"
    }
   ],
   "source": [
    "display(cassis.shape)\n",
    "display(collioure.shape)\n",
    "display(la_rochelle.shape)\n",
    "display(marseille.shape)\n",
    "display(saintes_maries.shape)"
   ]
  },
  {
   "cell_type": "markdown",
   "id": "5438ea1d",
   "metadata": {},
   "source": [
    "Nous avons à présent 5 différents dataframe avec les informations scrappées,soit 20 hôtels pour chaque ville. \n",
    "Nous allons maintenant faire du nettoyage dans ces dataframes puis les concaténer, afin de les rendre lisible et clair avant de les stocker dans un s3.\n",
    "On remarque aisément qu'il faut séparer les coordonnées GPS en deux colonnes différentes \"latitude\" et \"longitude\""
   ]
  },
  {
   "cell_type": "code",
   "execution_count": 49,
   "id": "759e05f4",
   "metadata": {},
   "outputs": [],
   "source": [
    "# séparation de la colonne hotel_coordinates en deux colonnes latitude et longitude pour les 5 dataframes\n",
    "def split_coordinates(df):\n",
    "    df[['latitude', 'longitude']] = df['hotel_coordinates'].str.split(',', expand=True)\n",
    "    df['latitude'] = df['latitude'].astype(float) # conversion de la colonne latitude en type float\n",
    "    df['longitude'] = df['longitude'].astype(float) # conversion de la colonne longitude en type float\n",
    "    df.drop(columns=['hotel_coordinates'], inplace=True) # suppression de la colonne hotel_coordinates\n",
    "    return df"
   ]
  },
  {
   "cell_type": "code",
   "execution_count": 50,
   "id": "18b36592",
   "metadata": {},
   "outputs": [
    {
     "data": {
      "text/html": [
       "<div>\n",
       "<style scoped>\n",
       "    .dataframe tbody tr th:only-of-type {\n",
       "        vertical-align: middle;\n",
       "    }\n",
       "\n",
       "    .dataframe tbody tr th {\n",
       "        vertical-align: top;\n",
       "    }\n",
       "\n",
       "    .dataframe thead th {\n",
       "        text-align: right;\n",
       "    }\n",
       "</style>\n",
       "<table border=\"1\" class=\"dataframe\">\n",
       "  <thead>\n",
       "    <tr style=\"text-align: right;\">\n",
       "      <th></th>\n",
       "      <th>hotel_name</th>\n",
       "      <th>url_hotel</th>\n",
       "      <th>score</th>\n",
       "      <th>text_description</th>\n",
       "      <th>address</th>\n",
       "      <th>ville</th>\n",
       "      <th>latitude</th>\n",
       "      <th>longitude</th>\n",
       "    </tr>\n",
       "  </thead>\n",
       "  <tbody>\n",
       "    <tr>\n",
       "      <th>0</th>\n",
       "      <td>Mas Des Salicornes</td>\n",
       "      <td>https://www.booking.com/hotel/fr/mas-des-salic...</td>\n",
       "      <td>9.2</td>\n",
       "      <td>Le Mas Des Salicornes est un hôtel de campagne...</td>\n",
       "      <td>38 Chemin du Pont Blanc, 13460 Les Saintes-Mar...</td>\n",
       "      <td>Saintes Maries de la Mer</td>\n",
       "      <td>43.456871</td>\n",
       "      <td>4.426176</td>\n",
       "    </tr>\n",
       "    <tr>\n",
       "      <th>1</th>\n",
       "      <td>La Tramontane</td>\n",
       "      <td>https://www.booking.com/hotel/fr/la-tramontane...</td>\n",
       "      <td>8.6</td>\n",
       "      <td>\\nL'établissement La Tramontane vous accueille...</td>\n",
       "      <td>94 Chemin Bas de Dromar, 13460 Les Saintes-Mar...</td>\n",
       "      <td>Saintes Maries de la Mer</td>\n",
       "      <td>43.472601</td>\n",
       "      <td>4.410120</td>\n",
       "    </tr>\n",
       "    <tr>\n",
       "      <th>2</th>\n",
       "      <td>Hôtel Le Mirage</td>\n",
       "      <td>https://www.booking.com/hotel/fr/ha-tel-le-mir...</td>\n",
       "      <td>8.7</td>\n",
       "      <td>Situé à 100 mètres de la plage et à 200 mètres...</td>\n",
       "      <td>BP 29 - 14 Rue Camille Pelletan, 13460 Les Sai...</td>\n",
       "      <td>Saintes Maries de la Mer</td>\n",
       "      <td>43.453102</td>\n",
       "      <td>4.430586</td>\n",
       "    </tr>\n",
       "    <tr>\n",
       "      <th>3</th>\n",
       "      <td>Les Bains Gardians</td>\n",
       "      <td>https://www.booking.com/hotel/fr/auberge-caval...</td>\n",
       "      <td>8.6</td>\n",
       "      <td>Bénéficiant d’un emplacement tranquille dans u...</td>\n",
       "      <td>D 570 Route D'Arles, 13460 Les Saintes-Maries-...</td>\n",
       "      <td>Saintes Maries de la Mer</td>\n",
       "      <td>43.465430</td>\n",
       "      <td>4.419631</td>\n",
       "    </tr>\n",
       "    <tr>\n",
       "      <th>4</th>\n",
       "      <td>Hôtel Casa Marina</td>\n",
       "      <td>https://www.booking.com/hotel/fr/casa-marina-s...</td>\n",
       "      <td>8.8</td>\n",
       "      <td>L’établissement Hôtel Casa Marina vous accueil...</td>\n",
       "      <td>1 Avenue Gilbert Leroy, 13460 Les Saintes-Mari...</td>\n",
       "      <td>Saintes Maries de la Mer</td>\n",
       "      <td>43.451133</td>\n",
       "      <td>4.430953</td>\n",
       "    </tr>\n",
       "    <tr>\n",
       "      <th>5</th>\n",
       "      <td>Hotel Les Palmiers En Camargue</td>\n",
       "      <td>https://www.booking.com/hotel/fr/les-palmiers-...</td>\n",
       "      <td>8.2</td>\n",
       "      <td>Doté d'une connexion Wi-Fi gratuite, l'Hotel L...</td>\n",
       "      <td>16 Rue Alphonse Daudet, 13460 Les Saintes-Mari...</td>\n",
       "      <td>Saintes Maries de la Mer</td>\n",
       "      <td>43.451066</td>\n",
       "      <td>4.425094</td>\n",
       "    </tr>\n",
       "    <tr>\n",
       "      <th>6</th>\n",
       "      <td>Le Fangassier</td>\n",
       "      <td>https://www.booking.com/hotel/fr/le-fangassier...</td>\n",
       "      <td>8.9</td>\n",
       "      <td>L’établissement Le Fangassier vous accueille d...</td>\n",
       "      <td>12, Route de Cacharel, 13460 Les Saintes-Marie...</td>\n",
       "      <td>Saintes Maries de la Mer</td>\n",
       "      <td>43.454496</td>\n",
       "      <td>4.430708</td>\n",
       "    </tr>\n",
       "    <tr>\n",
       "      <th>7</th>\n",
       "      <td>Hotel Le Bleu Marine</td>\n",
       "      <td>https://www.booking.com/hotel/fr/le-bleu-marin...</td>\n",
       "      <td>7.5</td>\n",
       "      <td>L'Hôtel Le Bleu Marine se trouve à seulement 1...</td>\n",
       "      <td>15, Avenue du Docteur Cambon, 13460 Les Sainte...</td>\n",
       "      <td>Saintes Maries de la Mer</td>\n",
       "      <td>43.454638</td>\n",
       "      <td>4.433202</td>\n",
       "    </tr>\n",
       "    <tr>\n",
       "      <th>8</th>\n",
       "      <td>Vila De La Mar &amp; Spa</td>\n",
       "      <td>https://www.booking.com/hotel/fr/bastide-blanc...</td>\n",
       "      <td>8.1</td>\n",
       "      <td>Le Vila De La Mar &amp; Spa est un petit hôtel déc...</td>\n",
       "      <td>1 bis rue Camille Pelletan, 13460 Les Saintes-...</td>\n",
       "      <td>Saintes Maries de la Mer</td>\n",
       "      <td>43.453345</td>\n",
       "      <td>4.430666</td>\n",
       "    </tr>\n",
       "    <tr>\n",
       "      <th>9</th>\n",
       "      <td>Les Vagues</td>\n",
       "      <td>https://www.booking.com/hotel/fr/les-vagues-sa...</td>\n",
       "      <td>8.6</td>\n",
       "      <td>L’établissement Les Vagues se trouve à Saintes...</td>\n",
       "      <td>12 Avenue Théodore Aubanel, 13460 Les Saintes-...</td>\n",
       "      <td>Saintes Maries de la Mer</td>\n",
       "      <td>43.450352</td>\n",
       "      <td>4.425047</td>\n",
       "    </tr>\n",
       "    <tr>\n",
       "      <th>10</th>\n",
       "      <td>Mangio Fango Hotel et Spa</td>\n",
       "      <td>https://www.booking.com/hotel/fr/mangio-fango....</td>\n",
       "      <td>9.1</td>\n",
       "      <td>Installé aux Saintes-Maries-de-la-Mer, l’établ...</td>\n",
       "      <td>Route d'Arles D570, 13460 Les Saintes-Maries-d...</td>\n",
       "      <td>Saintes Maries de la Mer</td>\n",
       "      <td>43.459788</td>\n",
       "      <td>4.423285</td>\n",
       "    </tr>\n",
       "    <tr>\n",
       "      <th>11</th>\n",
       "      <td>Abrivado</td>\n",
       "      <td>https://www.booking.com/hotel/fr/abrivado.fr.h...</td>\n",
       "      <td>8.7</td>\n",
       "      <td>Situé dans le parc régional de Camargue, l'Abr...</td>\n",
       "      <td>2, Avenue Theodore Aubanel, 13460 Les Saintes-...</td>\n",
       "      <td>Saintes Maries de la Mer</td>\n",
       "      <td>43.450337</td>\n",
       "      <td>4.426224</td>\n",
       "    </tr>\n",
       "    <tr>\n",
       "      <th>12</th>\n",
       "      <td>Les Rizières</td>\n",
       "      <td>https://www.booking.com/hotel/fr/les-rizieres....</td>\n",
       "      <td>8.7</td>\n",
       "      <td>Situé près d’un étang, l’hôtel Les Rizières se...</td>\n",
       "      <td>Route D'Arles, 13460 Les Saintes-Maries-de-la-...</td>\n",
       "      <td>Saintes Maries de la Mer</td>\n",
       "      <td>43.471040</td>\n",
       "      <td>4.410587</td>\n",
       "    </tr>\n",
       "    <tr>\n",
       "      <th>13</th>\n",
       "      <td>Hôtel du Pont Blanc</td>\n",
       "      <td>https://www.booking.com/hotel/fr/hotellerie-du...</td>\n",
       "      <td>9.1</td>\n",
       "      <td>Situé à Saintes-Marie-de-la-Mer, l'Hôtel du Po...</td>\n",
       "      <td>Chemin du Pont Blanc, 13460 Les Saintes-Maries...</td>\n",
       "      <td>Saintes Maries de la Mer</td>\n",
       "      <td>43.457051</td>\n",
       "      <td>4.424649</td>\n",
       "    </tr>\n",
       "    <tr>\n",
       "      <th>14</th>\n",
       "      <td>Thalacap Camargue</td>\n",
       "      <td>https://www.booking.com/hotel/fr/thalacap-cama...</td>\n",
       "      <td>7.6</td>\n",
       "      <td>Le Thalacap Camargue est situé en face de la p...</td>\n",
       "      <td>Avenue du Dr Cambon, 13460 Les Saintes-Maries...</td>\n",
       "      <td>Saintes Maries de la Mer</td>\n",
       "      <td>43.453491</td>\n",
       "      <td>4.435451</td>\n",
       "    </tr>\n",
       "    <tr>\n",
       "      <th>15</th>\n",
       "      <td>Hôtel Restaurant Les Arnelles</td>\n",
       "      <td>https://www.booking.com/hotel/fr/les-arnelles....</td>\n",
       "      <td>8.4</td>\n",
       "      <td>Situé aux Saintes-Marie-de-la-Mer, au cœur du ...</td>\n",
       "      <td>Route d'Arles, 13460 Les Saintes-Maries-de-la-...</td>\n",
       "      <td>Saintes Maries de la Mer</td>\n",
       "      <td>43.460956</td>\n",
       "      <td>4.422319</td>\n",
       "    </tr>\n",
       "    <tr>\n",
       "      <th>16</th>\n",
       "      <td>Hôtel Le Neptune en Camargue</td>\n",
       "      <td>https://www.booking.com/hotel/fr/le-neptune-en...</td>\n",
       "      <td>8.7</td>\n",
       "      <td>Proposant une terrasse, l’établissement Hôtel ...</td>\n",
       "      <td>14 Rue Jean Aicard, 13460 Les Saintes-Maries-d...</td>\n",
       "      <td>Saintes Maries de la Mer</td>\n",
       "      <td>43.452127</td>\n",
       "      <td>4.425347</td>\n",
       "    </tr>\n",
       "    <tr>\n",
       "      <th>17</th>\n",
       "      <td>Lodge Sainte Helene Adult only</td>\n",
       "      <td>https://www.booking.com/hotel/fr/lodge-sainte-...</td>\n",
       "      <td>9.1</td>\n",
       "      <td>L’établissement Lodge Sainte Helene Adult only...</td>\n",
       "      <td>Chemin Bas des Launes, 13460 Les Saintes-Marie...</td>\n",
       "      <td>Saintes Maries de la Mer</td>\n",
       "      <td>43.465756</td>\n",
       "      <td>4.413934</td>\n",
       "    </tr>\n",
       "    <tr>\n",
       "      <th>18</th>\n",
       "      <td>Hôtel Les Arcades</td>\n",
       "      <td>https://www.booking.com/hotel/fr/ha-tel-les-ar...</td>\n",
       "      <td>8.8</td>\n",
       "      <td>L’Hôtel Les Arcades est situé à seulement 100 ...</td>\n",
       "      <td>5, rue Paul Hermann, 13460 Les Saintes-Maries-...</td>\n",
       "      <td>Saintes Maries de la Mer</td>\n",
       "      <td>43.452628</td>\n",
       "      <td>4.430767</td>\n",
       "    </tr>\n",
       "    <tr>\n",
       "      <th>19</th>\n",
       "      <td>Le Mas de Cocagne</td>\n",
       "      <td>https://www.booking.com/hotel/fr/le-mas-de-coc...</td>\n",
       "      <td>8.9</td>\n",
       "      <td>Le Mas de Cocagne dispose d'une piscine extéri...</td>\n",
       "      <td>route d'Arles, 13460 Les Saintes-Maries-de-la-...</td>\n",
       "      <td>Saintes Maries de la Mer</td>\n",
       "      <td>43.458316</td>\n",
       "      <td>4.425232</td>\n",
       "    </tr>\n",
       "    <tr>\n",
       "      <th>20</th>\n",
       "      <td>Mas de la Fouque - Hôtel &amp; Spa</td>\n",
       "      <td>https://www.booking.com/hotel/fr/lodge-de-la-f...</td>\n",
       "      <td>8.5</td>\n",
       "      <td>L’établissement Mas de la Fouque - Hôtel &amp; Spa...</td>\n",
       "      <td>Route du Petit Rhône, 13460 Les Saintes-Maries...</td>\n",
       "      <td>Saintes Maries de la Mer</td>\n",
       "      <td>43.467081</td>\n",
       "      <td>4.404512</td>\n",
       "    </tr>\n",
       "    <tr>\n",
       "      <th>21</th>\n",
       "      <td>Hotel Lou Marquès</td>\n",
       "      <td>https://www.booking.com/hotel/fr/lou-marques.f...</td>\n",
       "      <td>9.1</td>\n",
       "      <td>Le Lou Marquès est situé aux Saintes-Maries-de...</td>\n",
       "      <td>6 Rue du Vibre, 13460 Les Saintes-Maries-de-la...</td>\n",
       "      <td>Saintes Maries de la Mer</td>\n",
       "      <td>43.455125</td>\n",
       "      <td>4.428740</td>\n",
       "    </tr>\n",
       "    <tr>\n",
       "      <th>22</th>\n",
       "      <td>MAS MLS</td>\n",
       "      <td>https://www.booking.com/hotel/fr/mas-mls.fr.ht...</td>\n",
       "      <td>9.2</td>\n",
       "      <td>L’établissement MAS MLS se situe à Saintes-Mar...</td>\n",
       "      <td>CHEMIN DE LA FADAISE, 13460 Les Saintes-Maries...</td>\n",
       "      <td>Saintes Maries de la Mer</td>\n",
       "      <td>43.484377</td>\n",
       "      <td>4.394997</td>\n",
       "    </tr>\n",
       "    <tr>\n",
       "      <th>23</th>\n",
       "      <td>Hotel Camille</td>\n",
       "      <td>https://www.booking.com/hotel/fr/camille.fr.ht...</td>\n",
       "      <td>7.8</td>\n",
       "      <td>Doté d'une terrasse, l'Hotel Camille est un ét...</td>\n",
       "      <td>13, Avenue de la plage, 13460 Les Saintes-Mari...</td>\n",
       "      <td>Saintes Maries de la Mer</td>\n",
       "      <td>43.450391</td>\n",
       "      <td>4.429912</td>\n",
       "    </tr>\n",
       "    <tr>\n",
       "      <th>24</th>\n",
       "      <td>Le Dauphin Bleu</td>\n",
       "      <td>https://www.booking.com/hotel/fr/le-dauphin-bl...</td>\n",
       "      <td>8.4</td>\n",
       "      <td>Situé à 50 mètres de la plage, face à la mer M...</td>\n",
       "      <td>31 Avenue Gilbert Leroy, 13460 Les Saintes-Mar...</td>\n",
       "      <td>Saintes Maries de la Mer</td>\n",
       "      <td>43.452331</td>\n",
       "      <td>4.433650</td>\n",
       "    </tr>\n",
       "  </tbody>\n",
       "</table>\n",
       "</div>"
      ],
      "text/plain": [
       "                        hotel_name  \\\n",
       "0               Mas Des Salicornes   \n",
       "1                    La Tramontane   \n",
       "2                  Hôtel Le Mirage   \n",
       "3               Les Bains Gardians   \n",
       "4                Hôtel Casa Marina   \n",
       "5   Hotel Les Palmiers En Camargue   \n",
       "6                    Le Fangassier   \n",
       "7             Hotel Le Bleu Marine   \n",
       "8             Vila De La Mar & Spa   \n",
       "9                       Les Vagues   \n",
       "10       Mangio Fango Hotel et Spa   \n",
       "11                        Abrivado   \n",
       "12                    Les Rizières   \n",
       "13             Hôtel du Pont Blanc   \n",
       "14               Thalacap Camargue   \n",
       "15   Hôtel Restaurant Les Arnelles   \n",
       "16    Hôtel Le Neptune en Camargue   \n",
       "17  Lodge Sainte Helene Adult only   \n",
       "18               Hôtel Les Arcades   \n",
       "19               Le Mas de Cocagne   \n",
       "20  Mas de la Fouque - Hôtel & Spa   \n",
       "21               Hotel Lou Marquès   \n",
       "22                         MAS MLS   \n",
       "23                   Hotel Camille   \n",
       "24                 Le Dauphin Bleu   \n",
       "\n",
       "                                            url_hotel  score  \\\n",
       "0   https://www.booking.com/hotel/fr/mas-des-salic...    9.2   \n",
       "1   https://www.booking.com/hotel/fr/la-tramontane...    8.6   \n",
       "2   https://www.booking.com/hotel/fr/ha-tel-le-mir...    8.7   \n",
       "3   https://www.booking.com/hotel/fr/auberge-caval...    8.6   \n",
       "4   https://www.booking.com/hotel/fr/casa-marina-s...    8.8   \n",
       "5   https://www.booking.com/hotel/fr/les-palmiers-...    8.2   \n",
       "6   https://www.booking.com/hotel/fr/le-fangassier...    8.9   \n",
       "7   https://www.booking.com/hotel/fr/le-bleu-marin...    7.5   \n",
       "8   https://www.booking.com/hotel/fr/bastide-blanc...    8.1   \n",
       "9   https://www.booking.com/hotel/fr/les-vagues-sa...    8.6   \n",
       "10  https://www.booking.com/hotel/fr/mangio-fango....    9.1   \n",
       "11  https://www.booking.com/hotel/fr/abrivado.fr.h...    8.7   \n",
       "12  https://www.booking.com/hotel/fr/les-rizieres....    8.7   \n",
       "13  https://www.booking.com/hotel/fr/hotellerie-du...    9.1   \n",
       "14  https://www.booking.com/hotel/fr/thalacap-cama...    7.6   \n",
       "15  https://www.booking.com/hotel/fr/les-arnelles....    8.4   \n",
       "16  https://www.booking.com/hotel/fr/le-neptune-en...    8.7   \n",
       "17  https://www.booking.com/hotel/fr/lodge-sainte-...    9.1   \n",
       "18  https://www.booking.com/hotel/fr/ha-tel-les-ar...    8.8   \n",
       "19  https://www.booking.com/hotel/fr/le-mas-de-coc...    8.9   \n",
       "20  https://www.booking.com/hotel/fr/lodge-de-la-f...    8.5   \n",
       "21  https://www.booking.com/hotel/fr/lou-marques.f...    9.1   \n",
       "22  https://www.booking.com/hotel/fr/mas-mls.fr.ht...    9.2   \n",
       "23  https://www.booking.com/hotel/fr/camille.fr.ht...    7.8   \n",
       "24  https://www.booking.com/hotel/fr/le-dauphin-bl...    8.4   \n",
       "\n",
       "                                     text_description  \\\n",
       "0   Le Mas Des Salicornes est un hôtel de campagne...   \n",
       "1   \\nL'établissement La Tramontane vous accueille...   \n",
       "2   Situé à 100 mètres de la plage et à 200 mètres...   \n",
       "3   Bénéficiant d’un emplacement tranquille dans u...   \n",
       "4   L’établissement Hôtel Casa Marina vous accueil...   \n",
       "5   Doté d'une connexion Wi-Fi gratuite, l'Hotel L...   \n",
       "6   L’établissement Le Fangassier vous accueille d...   \n",
       "7   L'Hôtel Le Bleu Marine se trouve à seulement 1...   \n",
       "8   Le Vila De La Mar & Spa est un petit hôtel déc...   \n",
       "9   L’établissement Les Vagues se trouve à Saintes...   \n",
       "10  Installé aux Saintes-Maries-de-la-Mer, l’établ...   \n",
       "11  Situé dans le parc régional de Camargue, l'Abr...   \n",
       "12  Situé près d’un étang, l’hôtel Les Rizières se...   \n",
       "13  Situé à Saintes-Marie-de-la-Mer, l'Hôtel du Po...   \n",
       "14  Le Thalacap Camargue est situé en face de la p...   \n",
       "15  Situé aux Saintes-Marie-de-la-Mer, au cœur du ...   \n",
       "16  Proposant une terrasse, l’établissement Hôtel ...   \n",
       "17  L’établissement Lodge Sainte Helene Adult only...   \n",
       "18  L’Hôtel Les Arcades est situé à seulement 100 ...   \n",
       "19  Le Mas de Cocagne dispose d'une piscine extéri...   \n",
       "20  L’établissement Mas de la Fouque - Hôtel & Spa...   \n",
       "21  Le Lou Marquès est situé aux Saintes-Maries-de...   \n",
       "22  L’établissement MAS MLS se situe à Saintes-Mar...   \n",
       "23  Doté d'une terrasse, l'Hotel Camille est un ét...   \n",
       "24  Situé à 50 mètres de la plage, face à la mer M...   \n",
       "\n",
       "                                              address  \\\n",
       "0   38 Chemin du Pont Blanc, 13460 Les Saintes-Mar...   \n",
       "1   94 Chemin Bas de Dromar, 13460 Les Saintes-Mar...   \n",
       "2   BP 29 - 14 Rue Camille Pelletan, 13460 Les Sai...   \n",
       "3   D 570 Route D'Arles, 13460 Les Saintes-Maries-...   \n",
       "4   1 Avenue Gilbert Leroy, 13460 Les Saintes-Mari...   \n",
       "5   16 Rue Alphonse Daudet, 13460 Les Saintes-Mari...   \n",
       "6   12, Route de Cacharel, 13460 Les Saintes-Marie...   \n",
       "7   15, Avenue du Docteur Cambon, 13460 Les Sainte...   \n",
       "8   1 bis rue Camille Pelletan, 13460 Les Saintes-...   \n",
       "9   12 Avenue Théodore Aubanel, 13460 Les Saintes-...   \n",
       "10  Route d'Arles D570, 13460 Les Saintes-Maries-d...   \n",
       "11  2, Avenue Theodore Aubanel, 13460 Les Saintes-...   \n",
       "12  Route D'Arles, 13460 Les Saintes-Maries-de-la-...   \n",
       "13  Chemin du Pont Blanc, 13460 Les Saintes-Maries...   \n",
       "14   Avenue du Dr Cambon, 13460 Les Saintes-Maries...   \n",
       "15  Route d'Arles, 13460 Les Saintes-Maries-de-la-...   \n",
       "16  14 Rue Jean Aicard, 13460 Les Saintes-Maries-d...   \n",
       "17  Chemin Bas des Launes, 13460 Les Saintes-Marie...   \n",
       "18  5, rue Paul Hermann, 13460 Les Saintes-Maries-...   \n",
       "19  route d'Arles, 13460 Les Saintes-Maries-de-la-...   \n",
       "20  Route du Petit Rhône, 13460 Les Saintes-Maries...   \n",
       "21  6 Rue du Vibre, 13460 Les Saintes-Maries-de-la...   \n",
       "22  CHEMIN DE LA FADAISE, 13460 Les Saintes-Maries...   \n",
       "23  13, Avenue de la plage, 13460 Les Saintes-Mari...   \n",
       "24  31 Avenue Gilbert Leroy, 13460 Les Saintes-Mar...   \n",
       "\n",
       "                       ville   latitude  longitude  \n",
       "0   Saintes Maries de la Mer  43.456871   4.426176  \n",
       "1   Saintes Maries de la Mer  43.472601   4.410120  \n",
       "2   Saintes Maries de la Mer  43.453102   4.430586  \n",
       "3   Saintes Maries de la Mer  43.465430   4.419631  \n",
       "4   Saintes Maries de la Mer  43.451133   4.430953  \n",
       "5   Saintes Maries de la Mer  43.451066   4.425094  \n",
       "6   Saintes Maries de la Mer  43.454496   4.430708  \n",
       "7   Saintes Maries de la Mer  43.454638   4.433202  \n",
       "8   Saintes Maries de la Mer  43.453345   4.430666  \n",
       "9   Saintes Maries de la Mer  43.450352   4.425047  \n",
       "10  Saintes Maries de la Mer  43.459788   4.423285  \n",
       "11  Saintes Maries de la Mer  43.450337   4.426224  \n",
       "12  Saintes Maries de la Mer  43.471040   4.410587  \n",
       "13  Saintes Maries de la Mer  43.457051   4.424649  \n",
       "14  Saintes Maries de la Mer  43.453491   4.435451  \n",
       "15  Saintes Maries de la Mer  43.460956   4.422319  \n",
       "16  Saintes Maries de la Mer  43.452127   4.425347  \n",
       "17  Saintes Maries de la Mer  43.465756   4.413934  \n",
       "18  Saintes Maries de la Mer  43.452628   4.430767  \n",
       "19  Saintes Maries de la Mer  43.458316   4.425232  \n",
       "20  Saintes Maries de la Mer  43.467081   4.404512  \n",
       "21  Saintes Maries de la Mer  43.455125   4.428740  \n",
       "22  Saintes Maries de la Mer  43.484377   4.394997  \n",
       "23  Saintes Maries de la Mer  43.450391   4.429912  \n",
       "24  Saintes Maries de la Mer  43.452331   4.433650  "
      ]
     },
     "execution_count": 50,
     "metadata": {},
     "output_type": "execute_result"
    }
   ],
   "source": [
    "split_coordinates(cassis)\n",
    "split_coordinates(collioure)\n",
    "split_coordinates(la_rochelle)\n",
    "split_coordinates(marseille)\n",
    "split_coordinates(saintes_maries)"
   ]
  },
  {
   "cell_type": "markdown",
   "id": "9946b45e",
   "metadata": {},
   "source": [
    "Nos coordonnées sont bien séparées, on va pouvoir rassembler nos 5 dataframe dans un dataframe global avant de le mettre dans un S3 datalake"
   ]
  },
  {
   "cell_type": "code",
   "execution_count": 51,
   "id": "ed4eac5e",
   "metadata": {},
   "outputs": [
    {
     "data": {
      "text/html": [
       "<div>\n",
       "<style scoped>\n",
       "    .dataframe tbody tr th:only-of-type {\n",
       "        vertical-align: middle;\n",
       "    }\n",
       "\n",
       "    .dataframe tbody tr th {\n",
       "        vertical-align: top;\n",
       "    }\n",
       "\n",
       "    .dataframe thead th {\n",
       "        text-align: right;\n",
       "    }\n",
       "</style>\n",
       "<table border=\"1\" class=\"dataframe\">\n",
       "  <thead>\n",
       "    <tr style=\"text-align: right;\">\n",
       "      <th></th>\n",
       "      <th>hotel_name</th>\n",
       "      <th>url_hotel</th>\n",
       "      <th>score</th>\n",
       "      <th>text_description</th>\n",
       "      <th>address</th>\n",
       "      <th>ville</th>\n",
       "      <th>latitude</th>\n",
       "      <th>longitude</th>\n",
       "    </tr>\n",
       "  </thead>\n",
       "  <tbody>\n",
       "    <tr>\n",
       "      <th>0</th>\n",
       "      <td>Hôtel Eden Cassis - centre-ville- piscine chau...</td>\n",
       "      <td>https://www.booking.com/hotel/fr/ha-tel-de-fra...</td>\n",
       "      <td>8.6</td>\n",
       "      <td>Cet hôtel est situé à Cassis, au cœur de la Pr...</td>\n",
       "      <td>1, Avenue du Revestel - Impasse du Coulet, 132...</td>\n",
       "      <td>Cassis</td>\n",
       "      <td>43.213304</td>\n",
       "      <td>5.541916</td>\n",
       "    </tr>\n",
       "    <tr>\n",
       "      <th>1</th>\n",
       "      <td>The Originals Boutique, Hôtel Cassitel, Cassis</td>\n",
       "      <td>https://www.booking.com/hotel/fr/interhotel-ca...</td>\n",
       "      <td>7.9</td>\n",
       "      <td>L’The Originals Boutique, Hôtel Cassitel, Cass...</td>\n",
       "      <td>Place Clémenceau, 13260 Cassis, France</td>\n",
       "      <td>Cassis</td>\n",
       "      <td>43.213706</td>\n",
       "      <td>5.538958</td>\n",
       "    </tr>\n",
       "    <tr>\n",
       "      <th>2</th>\n",
       "      <td>Best Western Plus Hôtel la Rade</td>\n",
       "      <td>https://www.booking.com/hotel/fr/la-rade-cassi...</td>\n",
       "      <td>8.5</td>\n",
       "      <td>Le Best Western Plus Hôtel la Rade est situé à...</td>\n",
       "      <td>1, avenue des Dardanelles, 13260 Cassis, France</td>\n",
       "      <td>Cassis</td>\n",
       "      <td>43.215230</td>\n",
       "      <td>5.533697</td>\n",
       "    </tr>\n",
       "    <tr>\n",
       "      <th>3</th>\n",
       "      <td>Best Western Hotel &amp; SPA Coeur De Cassis</td>\n",
       "      <td>https://www.booking.com/hotel/fr/du-grand-jard...</td>\n",
       "      <td>8.5</td>\n",
       "      <td>Le Best Western Hotel &amp; SPA Coeur De Cassis vo...</td>\n",
       "      <td>2, rue Pierre Eydin, 13260 Cassis, France</td>\n",
       "      <td>Cassis</td>\n",
       "      <td>43.214573</td>\n",
       "      <td>5.540147</td>\n",
       "    </tr>\n",
       "    <tr>\n",
       "      <th>4</th>\n",
       "      <td>LE CLOS DES ARÔMES</td>\n",
       "      <td>https://www.booking.com/hotel/fr/le-clos-des-a...</td>\n",
       "      <td>8.7</td>\n",
       "      <td>L’établissement LE CLOS DES ARÔMES se trouve à...</td>\n",
       "      <td>10 Rue Abbé Paul Mouton, 13260 Cassis, France</td>\n",
       "      <td>Cassis</td>\n",
       "      <td>43.216217</td>\n",
       "      <td>5.538027</td>\n",
       "    </tr>\n",
       "  </tbody>\n",
       "</table>\n",
       "</div>"
      ],
      "text/plain": [
       "                                          hotel_name  \\\n",
       "0  Hôtel Eden Cassis - centre-ville- piscine chau...   \n",
       "1     The Originals Boutique, Hôtel Cassitel, Cassis   \n",
       "2                    Best Western Plus Hôtel la Rade   \n",
       "3           Best Western Hotel & SPA Coeur De Cassis   \n",
       "4                                 LE CLOS DES ARÔMES   \n",
       "\n",
       "                                           url_hotel  score  \\\n",
       "0  https://www.booking.com/hotel/fr/ha-tel-de-fra...    8.6   \n",
       "1  https://www.booking.com/hotel/fr/interhotel-ca...    7.9   \n",
       "2  https://www.booking.com/hotel/fr/la-rade-cassi...    8.5   \n",
       "3  https://www.booking.com/hotel/fr/du-grand-jard...    8.5   \n",
       "4  https://www.booking.com/hotel/fr/le-clos-des-a...    8.7   \n",
       "\n",
       "                                    text_description  \\\n",
       "0  Cet hôtel est situé à Cassis, au cœur de la Pr...   \n",
       "1  L’The Originals Boutique, Hôtel Cassitel, Cass...   \n",
       "2  Le Best Western Plus Hôtel la Rade est situé à...   \n",
       "3  Le Best Western Hotel & SPA Coeur De Cassis vo...   \n",
       "4  L’établissement LE CLOS DES ARÔMES se trouve à...   \n",
       "\n",
       "                                             address   ville   latitude  \\\n",
       "0  1, Avenue du Revestel - Impasse du Coulet, 132...  Cassis  43.213304   \n",
       "1             Place Clémenceau, 13260 Cassis, France  Cassis  43.213706   \n",
       "2    1, avenue des Dardanelles, 13260 Cassis, France  Cassis  43.215230   \n",
       "3          2, rue Pierre Eydin, 13260 Cassis, France  Cassis  43.214573   \n",
       "4      10 Rue Abbé Paul Mouton, 13260 Cassis, France  Cassis  43.216217   \n",
       "\n",
       "   longitude  \n",
       "0   5.541916  \n",
       "1   5.538958  \n",
       "2   5.533697  \n",
       "3   5.540147  \n",
       "4   5.538027  "
      ]
     },
     "execution_count": 51,
     "metadata": {},
     "output_type": "execute_result"
    }
   ],
   "source": [
    "df_hotels = pd.concat([cassis, collioure, la_rochelle, marseille, saintes_maries], ignore_index=True)\n",
    "df_hotels.head()"
   ]
  },
  {
   "cell_type": "code",
   "execution_count": 52,
   "id": "7f8adf5b",
   "metadata": {},
   "outputs": [
    {
     "name": "stdout",
     "output_type": "stream",
     "text": [
      "<class 'pandas.core.frame.DataFrame'>\n",
      "RangeIndex: 124 entries, 0 to 123\n",
      "Data columns (total 8 columns):\n",
      " #   Column            Non-Null Count  Dtype  \n",
      "---  ------            --------------  -----  \n",
      " 0   hotel_name        124 non-null    object \n",
      " 1   url_hotel         124 non-null    object \n",
      " 2   score             124 non-null    float64\n",
      " 3   text_description  124 non-null    object \n",
      " 4   address           124 non-null    object \n",
      " 5   ville             124 non-null    object \n",
      " 6   latitude          124 non-null    float64\n",
      " 7   longitude         124 non-null    float64\n",
      "dtypes: float64(3), object(5)\n",
      "memory usage: 7.9+ KB\n"
     ]
    }
   ],
   "source": [
    "df_hotels.info()"
   ]
  },
  {
   "cell_type": "code",
   "execution_count": 53,
   "id": "723d73c2",
   "metadata": {},
   "outputs": [
    {
     "data": {
      "text/plain": [
       "(124, 8)"
      ]
     },
     "execution_count": 53,
     "metadata": {},
     "output_type": "execute_result"
    }
   ],
   "source": [
    "df_hotels.shape # la concaténation a bien fonctionné"
   ]
  },
  {
   "cell_type": "code",
   "execution_count": 54,
   "id": "0341ff4a",
   "metadata": {},
   "outputs": [],
   "source": [
    "df_hotels.to_csv(\"hotels_informatons.csv\", index=False) # sauvegarde du dataframe dans un fichier csv"
   ]
  },
  {
   "cell_type": "code",
   "execution_count": 55,
   "id": "df4c9f95",
   "metadata": {},
   "outputs": [
    {
     "data": {
      "application/vnd.plotly.v1+json": {
       "config": {
        "plotlyServerURL": "https://plot.ly"
       },
       "data": [
        {
         "customdata": [
          [
           "Cassis",
           8.6
          ],
          [
           "Cassis",
           7.9
          ],
          [
           "Cassis",
           8.5
          ],
          [
           "Cassis",
           8.5
          ],
          [
           "Cassis",
           8.7
          ],
          [
           "Cassis",
           8.5
          ],
          [
           "Cassis",
           9.1
          ],
          [
           "Cassis",
           8
          ],
          [
           "Cassis",
           8.9
          ],
          [
           "Cassis",
           8
          ],
          [
           "Cassis",
           8.7
          ],
          [
           "Cassis",
           9.2
          ],
          [
           "Cassis",
           8.2
          ],
          [
           "Cassis",
           8.8
          ],
          [
           "Cassis",
           8.4
          ],
          [
           "Cassis",
           7.2
          ],
          [
           "Cassis",
           8.5
          ],
          [
           "Cassis",
           8
          ],
          [
           "Cassis",
           8.1
          ],
          [
           "Cassis",
           8.2
          ],
          [
           "Cassis",
           8.1
          ],
          [
           "Cassis",
           8.6
          ],
          [
           "Cassis",
           8
          ],
          [
           "Cassis",
           8.8
          ],
          [
           "Collioure",
           8.3
          ],
          [
           "Collioure",
           8.1
          ],
          [
           "Collioure",
           8.2
          ],
          [
           "Collioure",
           8.9
          ],
          [
           "Collioure",
           8.2
          ],
          [
           "Collioure",
           9.2
          ],
          [
           "Collioure",
           9.1
          ],
          [
           "Collioure",
           8
          ],
          [
           "Collioure",
           9.2
          ],
          [
           "Collioure",
           7.8
          ],
          [
           "Collioure",
           8.2
          ],
          [
           "Collioure",
           9
          ],
          [
           "Collioure",
           8.5
          ],
          [
           "Collioure",
           8.4
          ],
          [
           "Collioure",
           7.4
          ],
          [
           "Collioure",
           8.3
          ],
          [
           "Collioure",
           8.6
          ],
          [
           "Collioure",
           8.4
          ],
          [
           "Collioure",
           8.1
          ],
          [
           "Collioure",
           8.5
          ],
          [
           "Collioure",
           8.1
          ],
          [
           "Collioure",
           8.2
          ],
          [
           "Collioure",
           9.3
          ],
          [
           "Collioure",
           7.8
          ],
          [
           "Collioure",
           8.5
          ],
          [
           "La Rochelle",
           8.5
          ],
          [
           "La Rochelle",
           9
          ],
          [
           "La Rochelle",
           7.7
          ],
          [
           "La Rochelle",
           8.8
          ],
          [
           "La Rochelle",
           7.8
          ],
          [
           "La Rochelle",
           8.5
          ],
          [
           "La Rochelle",
           8.7
          ],
          [
           "La Rochelle",
           8.6
          ],
          [
           "La Rochelle",
           8.3
          ],
          [
           "La Rochelle",
           8.9
          ],
          [
           "La Rochelle",
           8.9
          ],
          [
           "La Rochelle",
           8.4
          ],
          [
           "La Rochelle",
           8.7
          ],
          [
           "La Rochelle",
           7.5
          ],
          [
           "La Rochelle",
           8.3
          ],
          [
           "La Rochelle",
           8.8
          ],
          [
           "La Rochelle",
           8
          ],
          [
           "La Rochelle",
           8.5
          ],
          [
           "La Rochelle",
           8.6
          ],
          [
           "La Rochelle",
           8.3
          ],
          [
           "La Rochelle",
           8.2
          ],
          [
           "La Rochelle",
           8.4
          ],
          [
           "La Rochelle",
           8.3
          ],
          [
           "La Rochelle",
           7.9
          ],
          [
           "La Rochelle",
           9
          ],
          [
           "Marseille",
           8.2
          ],
          [
           "Marseille",
           8.8
          ],
          [
           "Marseille",
           8.4
          ],
          [
           "Marseille",
           8.7
          ],
          [
           "Marseille",
           8.4
          ],
          [
           "Marseille",
           8
          ],
          [
           "Marseille",
           8.6
          ],
          [
           "Marseille",
           8.4
          ],
          [
           "Marseille",
           8.4
          ],
          [
           "Marseille",
           8.2
          ],
          [
           "Marseille",
           8.4
          ],
          [
           "Marseille",
           7.7
          ],
          [
           "Marseille",
           8.5
          ],
          [
           "Marseille",
           8.7
          ],
          [
           "Marseille",
           8.6
          ],
          [
           "Marseille",
           8.7
          ],
          [
           "Marseille",
           8.7
          ],
          [
           "Marseille",
           8.2
          ],
          [
           "Marseille",
           8.9
          ],
          [
           "Marseille",
           8.5
          ],
          [
           "Marseille",
           8.4
          ],
          [
           "Marseille",
           7.9
          ],
          [
           "Marseille",
           8.3
          ],
          [
           "Marseille",
           8.3
          ],
          [
           "Marseille",
           8.3
          ],
          [
           "Saintes Maries de la Mer",
           9.2
          ],
          [
           "Saintes Maries de la Mer",
           8.6
          ],
          [
           "Saintes Maries de la Mer",
           8.7
          ],
          [
           "Saintes Maries de la Mer",
           8.6
          ],
          [
           "Saintes Maries de la Mer",
           8.8
          ],
          [
           "Saintes Maries de la Mer",
           8.2
          ],
          [
           "Saintes Maries de la Mer",
           8.9
          ],
          [
           "Saintes Maries de la Mer",
           7.5
          ],
          [
           "Saintes Maries de la Mer",
           8.1
          ],
          [
           "Saintes Maries de la Mer",
           8.6
          ],
          [
           "Saintes Maries de la Mer",
           9.1
          ],
          [
           "Saintes Maries de la Mer",
           8.7
          ],
          [
           "Saintes Maries de la Mer",
           8.7
          ],
          [
           "Saintes Maries de la Mer",
           9.1
          ],
          [
           "Saintes Maries de la Mer",
           7.6
          ],
          [
           "Saintes Maries de la Mer",
           8.4
          ],
          [
           "Saintes Maries de la Mer",
           8.7
          ],
          [
           "Saintes Maries de la Mer",
           9.1
          ],
          [
           "Saintes Maries de la Mer",
           8.8
          ],
          [
           "Saintes Maries de la Mer",
           8.9
          ],
          [
           "Saintes Maries de la Mer",
           8.5
          ],
          [
           "Saintes Maries de la Mer",
           9.1
          ],
          [
           "Saintes Maries de la Mer",
           9.2
          ],
          [
           "Saintes Maries de la Mer",
           7.8
          ],
          [
           "Saintes Maries de la Mer",
           8.4
          ]
         ],
         "hovertemplate": "<b>%{hovertext}</b><br><br>score=%{marker.color}<br>latitude=%{lat}<br>longitude=%{lon}<br>ville=%{customdata[0]}<extra></extra>",
         "hovertext": [
          "Hôtel Eden Cassis - centre-ville- piscine chauffée, jacuzzi et sauna - parking privé",
          "The Originals Boutique, Hôtel Cassitel, Cassis",
          "Best Western Plus Hôtel la Rade",
          "Best Western Hotel & SPA Coeur De Cassis",
          "LE CLOS DES ARÔMES",
          "Hotel Liautaud Cassis",
          "HPC Suites - Cassis Centre - Parking Gratuit & Piscine Chauffée",
          "Les Jardins de Cassis - Parking Gratuit & Piscine Chauffée",
          "Hôtel Les Roches Blanches Cassis",
          "HôTEL LES VOLETS ROUGES - CASSIS",
          "Le Jardin d'Emile",
          "HOTEL by REBOUL - Boutique Hôtel",
          "Hotel Le Golfe",
          "Hotel de La Plage - Mahogany",
          "Royal Cottage",
          "HOTEL DES CALANQUES",
          "Hotel Restaurant Miramar L'orchidée",
          "Appart'City Confort La Ciotat - Côté Port",
          "Moxy La Ciotat",
          "Résidence Pierre et Vacances Cap Cassis Calanques",
          "Résidence Odalys Shangri-la",
          "Best Western Premier Hôtel du Vieux-Port",
          "KYRIAD MARSEILLE EST - Aubagne Gémenos",
          "Villa Maredda",
          "Hôtel Princes de Catalogne",
          "La Frégate",
          "Hôtel des Templiers",
          "Hôtel La Casa Pairal",
          "Hôtel la Bona Casa",
          "Les Roches Brunes",
          "Le Relais Des Trois Mas",
          "Residence Pierre & Vacances Les Balcons de Collioure",
          "Maison Nova - Boutique Hôtel & Spa",
          "Chambres Rue de la République",
          "Hotel Méditerranée",
          "Le Madeloc Hôtel & Spa",
          "Hotel Le Bon Port",
          "Le Mas des Citronniers",
          "Hôtel Triton",
          "Grand Hotel Du Golfe - Spa & Restaurant",
          "Hôtel & Spa Les Mouettes",
          "Hôtel Le Pescadou",
          "Ibis Styles Collioure Port Vendres",
          "Hotel Centre Plage",
          "Hôtel AMBEILLE",
          "Hôtel Le Maritime",
          "Intense Boutik-Hôtel",
          "Hôtel Restaurant - Villa Les Sirènes",
          "Les Jardins Du Cèdre",
          "Maisons du Monde Hôtel & Suites - La Rochelle Vieux Port",
          "Le Saint-Nicolas",
          "Lagrange Apart'Hotel l’Escale Marine",
          "Le Champlain",
          "Hôtel Les Gens de Mer La Rochelle",
          "Hôtel Le Yachtman, The Originals Collection",
          "Central Park Hôtel & Spa",
          "Hôtel Les Brises",
          "ibis Styles La Rochelle Centre",
          "Le Masq Hôtel Best Western Premier",
          "Hôtel La Monnaie Arty & Spa",
          "Hôtel La Fabrique",
          "Tour de Nesle La Rochelle Vieux Port 3 etoiles",
          "Appart'City Classic La Rochelle Centre",
          "ibis Budget La Rochelle Centre",
          "Mercure La Rochelle Vieux Port",
          "Hotel Inn Design La Rochelle",
          "Hotel de Paris",
          "Hôtel de l'Océan",
          "ibis La Rochelle Vieux Port",
          "greet Hotel La Rochelle Centre",
          "Novotel La Rochelle Centre",
          "Hôtel François 1er",
          "Résidence Pierre & Vacances Centre",
          "Les studios du chemins vert",
          "Hôtel Hermès",
          "La Résidence Du Vieux Port",
          "Grand Hôtel Beauvau Marseille Vieux Port - MGallery",
          "NH Collection Marseille",
          "Mercure Marseille Canebière Vieux-Port",
          "The Babel Community Hôtel - Vieux Port",
          "InterContinental Marseille - Hotel Dieu by IHG",
          "easyHotel Marseille Euromed",
          "LES TOITS DU VIEUX-PORT",
          "Hôtel Carré Vieux Port",
          "New Hotel Le Quai - Vieux Port",
          "ibis Styles Marseille Gare Saint-Charles",
          "Radisson Blu Hotel Marseille Vieux Port",
          "Residhome Marseille",
          "New Hotel of Marseille - Vieux Port",
          "Maisons du Monde Hôtel & Suites - Marseille Vieux Port",
          "PARADISE Earth & Sea",
          "Sofitel Marseille Vieux-Port",
          "Le Couvent Marseille",
          "Mercure Marseille Centre Prado Vélodrome",
          "Staycity Aparthotels Marseille Centre Vieux Port",
          "Zenitude Hôtel Résidences Marseille Saint-Charles",
          "Hôtel Ligo by HappyCulture",
          "Appart Hotel Odalys City Marseille Centre Euromed",
          "Hotel Belle-Vue Vieux-Port",
          "Mas Des Salicornes",
          "La Tramontane",
          "Hôtel Le Mirage",
          "Les Bains Gardians",
          "Hôtel Casa Marina",
          "Hotel Les Palmiers En Camargue",
          "Le Fangassier",
          "Hotel Le Bleu Marine",
          "Vila De La Mar & Spa",
          "Les Vagues",
          "Mangio Fango Hotel et Spa",
          "Abrivado",
          "Les Rizières",
          "Hôtel du Pont Blanc",
          "Thalacap Camargue",
          "Hôtel Restaurant Les Arnelles",
          "Hôtel Le Neptune en Camargue",
          "Lodge Sainte Helene Adult only",
          "Hôtel Les Arcades",
          "Le Mas de Cocagne",
          "Mas de la Fouque - Hôtel & Spa",
          "Hotel Lou Marquès",
          "MAS MLS",
          "Hotel Camille",
          "Le Dauphin Bleu"
         ],
         "lat": [
          43.21330449968788,
          43.213706213836964,
          43.21522996680949,
          43.21457326278473,
          43.216217352829,
          43.21403,
          43.216440236856805,
          43.221840494518375,
          43.211337,
          43.234829299000964,
          43.2145598,
          43.2143536,
          43.21443437507463,
          43.213349460527084,
          43.21622493056339,
          43.213611,
          43.18653518913985,
          43.17200864309652,
          43.1963472,
          43.2450764405983,
          43.25658448016626,
          43.172472247228065,
          43.27931427752939,
          43.1768157,
          42.525914313393564,
          42.52638625163285,
          42.52666545948847,
          42.5261673320343,
          42.52547152830637,
          42.52534777273077,
          42.52417280573015,
          42.525106327083726,
          42.5288828,
          42.52556369773399,
          42.52708253934128,
          42.5287646672607,
          42.524114491069405,
          42.52538158720205,
          42.52371617082933,
          42.53378310875555,
          42.534117130131065,
          42.552673,
          42.523056,
          42.551380044876744,
          42.52545813792883,
          42.55728920642585,
          42.515473,
          42.557849814192245,
          42.51312071107862,
          46.15619304375638,
          46.158134569625595,
          46.15107011961584,
          46.16357605073282,
          46.154126962049,
          46.15728365093064,
          46.15891332534751,
          46.15345807004079,
          46.15801589993504,
          46.15483672188565,
          46.15630080488247,
          46.156155,
          46.15809741187169,
          46.158446693708605,
          46.157612347442985,
          46.15365316439305,
          46.16975862055837,
          46.16196911418792,
          46.1570198263049,
          46.15582939999999,
          46.15759748420619,
          46.161434077501134,
          46.16091142532221,
          46.15576942900863,
          46.1661692,
          43.29655283229883,
          43.29653858160117,
          43.29507835603476,
          43.3024211,
          43.296986,
          43.2937579,
          43.298581667247156,
          43.3101149,
          43.296695,
          43.295024670603055,
          43.29603121576907,
          43.301021780980896,
          43.29258339752927,
          43.302737,
          43.292048471347655,
          43.29412372437712,
          43.2933693,
          43.29242721518883,
          43.29722248036285,
          43.26947576628133,
          43.30046625144968,
          43.30230886253856,
          43.301265,
          43.312771,
          43.29641559604076,
          43.45687142239208,
          43.4726010948223,
          43.4531019227618,
          43.465429806270365,
          43.451133,
          43.45106617843045,
          43.454496041947834,
          43.45463817799243,
          43.453345311806814,
          43.450352,
          43.459787950427895,
          43.45033695444248,
          43.47103999099344,
          43.45705076199722,
          43.45349134476366,
          43.46095607974298,
          43.452127,
          43.46575555626723,
          43.45262779808949,
          43.45831607535757,
          43.4670806017128,
          43.4551249427373,
          43.48437667045639,
          43.450391476166224,
          43.452330859800156
         ],
         "legendgroup": "",
         "lon": [
          5.5419158935546875,
          5.538958087563515,
          5.533696934580803,
          5.540146976709366,
          5.53802689265,
          5.53859,
          5.541745724536895,
          5.543384896958969,
          5.529502,
          5.511910519238427,
          5.5336574,
          5.538444,
          5.535294860601425,
          5.531262829899788,
          5.542900264263153,
          5.539561,
          5.621636509895325,
          5.605248212814331,
          5.597570269,
          5.568380944844056,
          5.5526769161224365,
          5.6056129932403564,
          5.6130896508693695,
          5.605763700000011,
          3.0826815962791443,
          3.083256594836712,
          3.0839408934116364,
          3.082355707883835,
          3.0826986953616142,
          3.0903244632682725,
          3.0893106758594513,
          3.0904361978173256,
          3.0793938,
          3.0827967208667815,
          3.080262914299965,
          3.078654259443283,
          3.0893656611442566,
          3.082563914358616,
          3.0871347337961197,
          3.064337968826294,
          3.062056750059128,
          3.046477,
          3.101111,
          3.0467795580625534,
          3.079033649143219,
          3.0447913706302643,
          3.105115,
          3.043886125087738,
          3.1096766889095306,
          -1.1544348299503326,
          -1.1489127710774483,
          -1.1548632902130294,
          -1.1541599035263062,
          -1.147499247090309,
          -1.149967610836029,
          -1.1608233546310203,
          -1.174386441707611,
          -1.1539718239425838,
          -1.1450564861297607,
          -1.158108115196228,
          -1.14858300000003,
          -1.1503618953975092,
          -1.1410117149353027,
          -1.1403863916015688,
          -1.1496511101722717,
          -1.1215844750404358,
          -1.1511746048927307,
          -1.1541277170181274,
          -1.14855799999998,
          -1.1404145740661709,
          -1.1584755778312683,
          -1.1520369350910187,
          -1.1463922262191772,
          -1.1380326,
          5.371883288025856,
          5.372706055641174,
          5.375010073184967,
          5.36863370000003,
          5.379321,
          5.3774478,
          5.36974623799324,
          5.3703396,
          5.372832,
          5.375057011842728,
          5.374890714883804,
          5.380607843399048,
          5.367027819156647,
          5.365624,
          5.359777808189392,
          5.374639928340912,
          5.376677,
          5.360845327377319,
          5.366535094477513,
          5.3882333636283875,
          5.374441573016384,
          5.376911759376526,
          5.370879,
          5.367682,
          5.372060984373093,
          4.426175951957703,
          4.410120248794556,
          4.430585503578186,
          4.419631361961365,
          4.430953,
          4.4250936806201935,
          4.430707544088364,
          4.433201998472214,
          4.430665969848633,
          4.425047,
          4.423284530639648,
          4.426224231719971,
          4.410586953163147,
          4.424649029906504,
          4.435451030731201,
          4.422318935394287,
          4.425347,
          4.413934350013733,
          4.430766552686691,
          4.4252318143844604,
          4.404511749744415,
          4.42874014377594,
          4.394996703735354,
          4.429912269115448,
          4.433649927377701
         ],
         "marker": {
          "color": [
           8.6,
           7.9,
           8.5,
           8.5,
           8.7,
           8.5,
           9.1,
           8,
           8.9,
           8,
           8.7,
           9.2,
           8.2,
           8.8,
           8.4,
           7.2,
           8.5,
           8,
           8.1,
           8.2,
           8.1,
           8.6,
           8,
           8.8,
           8.3,
           8.1,
           8.2,
           8.9,
           8.2,
           9.2,
           9.1,
           8,
           9.2,
           7.8,
           8.2,
           9,
           8.5,
           8.4,
           7.4,
           8.3,
           8.6,
           8.4,
           8.1,
           8.5,
           8.1,
           8.2,
           9.3,
           7.8,
           8.5,
           8.5,
           9,
           7.7,
           8.8,
           7.8,
           8.5,
           8.7,
           8.6,
           8.3,
           8.9,
           8.9,
           8.4,
           8.7,
           7.5,
           8.3,
           8.8,
           8,
           8.5,
           8.6,
           8.3,
           8.2,
           8.4,
           8.3,
           7.9,
           9,
           8.2,
           8.8,
           8.4,
           8.7,
           8.4,
           8,
           8.6,
           8.4,
           8.4,
           8.2,
           8.4,
           7.7,
           8.5,
           8.7,
           8.6,
           8.7,
           8.7,
           8.2,
           8.9,
           8.5,
           8.4,
           7.9,
           8.3,
           8.3,
           8.3,
           9.2,
           8.6,
           8.7,
           8.6,
           8.8,
           8.2,
           8.9,
           7.5,
           8.1,
           8.6,
           9.1,
           8.7,
           8.7,
           9.1,
           7.6,
           8.4,
           8.7,
           9.1,
           8.8,
           8.9,
           8.5,
           9.1,
           9.2,
           7.8,
           8.4
          ],
          "coloraxis": "coloraxis",
          "size": [
           8.6,
           7.9,
           8.5,
           8.5,
           8.7,
           8.5,
           9.1,
           8,
           8.9,
           8,
           8.7,
           9.2,
           8.2,
           8.8,
           8.4,
           7.2,
           8.5,
           8,
           8.1,
           8.2,
           8.1,
           8.6,
           8,
           8.8,
           8.3,
           8.1,
           8.2,
           8.9,
           8.2,
           9.2,
           9.1,
           8,
           9.2,
           7.8,
           8.2,
           9,
           8.5,
           8.4,
           7.4,
           8.3,
           8.6,
           8.4,
           8.1,
           8.5,
           8.1,
           8.2,
           9.3,
           7.8,
           8.5,
           8.5,
           9,
           7.7,
           8.8,
           7.8,
           8.5,
           8.7,
           8.6,
           8.3,
           8.9,
           8.9,
           8.4,
           8.7,
           7.5,
           8.3,
           8.8,
           8,
           8.5,
           8.6,
           8.3,
           8.2,
           8.4,
           8.3,
           7.9,
           9,
           8.2,
           8.8,
           8.4,
           8.7,
           8.4,
           8,
           8.6,
           8.4,
           8.4,
           8.2,
           8.4,
           7.7,
           8.5,
           8.7,
           8.6,
           8.7,
           8.7,
           8.2,
           8.9,
           8.5,
           8.4,
           7.9,
           8.3,
           8.3,
           8.3,
           9.2,
           8.6,
           8.7,
           8.6,
           8.8,
           8.2,
           8.9,
           7.5,
           8.1,
           8.6,
           9.1,
           8.7,
           8.7,
           9.1,
           7.6,
           8.4,
           8.7,
           9.1,
           8.8,
           8.9,
           8.5,
           9.1,
           9.2,
           7.8,
           8.4
          ],
          "sizemode": "area",
          "sizeref": 0.04133333333333333
         },
         "mode": "markers",
         "name": "",
         "showlegend": false,
         "subplot": "mapbox",
         "type": "scattermapbox"
        }
       ],
       "layout": {
        "coloraxis": {
         "colorbar": {
          "title": {
           "text": "score"
          }
         },
         "colorscale": [
          [
           0,
           "rgb(165,0,38)"
          ],
          [
           0.1,
           "rgb(215,48,39)"
          ],
          [
           0.2,
           "rgb(244,109,67)"
          ],
          [
           0.3,
           "rgb(253,174,97)"
          ],
          [
           0.4,
           "rgb(254,224,139)"
          ],
          [
           0.5,
           "rgb(255,255,191)"
          ],
          [
           0.6,
           "rgb(217,239,139)"
          ],
          [
           0.7,
           "rgb(166,217,106)"
          ],
          [
           0.8,
           "rgb(102,189,99)"
          ],
          [
           0.9,
           "rgb(26,152,80)"
          ],
          [
           1,
           "rgb(0,104,55)"
          ]
         ]
        },
        "legend": {
         "itemsizing": "constant",
         "title": {
          "text": "Score"
         },
         "tracegroupgap": 0
        },
        "mapbox": {
         "center": {
          "lat": 43.7357122021759,
          "lon": 3.4393229289091867
         },
         "domain": {
          "x": [
           0,
           1
          ],
          "y": [
           0,
           1
          ]
         },
         "style": "open-street-map",
         "zoom": 5
        },
        "margin": {
         "t": 60
        },
        "template": {
         "data": {
          "bar": [
           {
            "error_x": {
             "color": "#2a3f5f"
            },
            "error_y": {
             "color": "#2a3f5f"
            },
            "marker": {
             "line": {
              "color": "#E5ECF6",
              "width": 0.5
             },
             "pattern": {
              "fillmode": "overlay",
              "size": 10,
              "solidity": 0.2
             }
            },
            "type": "bar"
           }
          ],
          "barpolar": [
           {
            "marker": {
             "line": {
              "color": "#E5ECF6",
              "width": 0.5
             },
             "pattern": {
              "fillmode": "overlay",
              "size": 10,
              "solidity": 0.2
             }
            },
            "type": "barpolar"
           }
          ],
          "carpet": [
           {
            "aaxis": {
             "endlinecolor": "#2a3f5f",
             "gridcolor": "white",
             "linecolor": "white",
             "minorgridcolor": "white",
             "startlinecolor": "#2a3f5f"
            },
            "baxis": {
             "endlinecolor": "#2a3f5f",
             "gridcolor": "white",
             "linecolor": "white",
             "minorgridcolor": "white",
             "startlinecolor": "#2a3f5f"
            },
            "type": "carpet"
           }
          ],
          "choropleth": [
           {
            "colorbar": {
             "outlinewidth": 0,
             "ticks": ""
            },
            "type": "choropleth"
           }
          ],
          "contour": [
           {
            "colorbar": {
             "outlinewidth": 0,
             "ticks": ""
            },
            "colorscale": [
             [
              0,
              "#0d0887"
             ],
             [
              0.1111111111111111,
              "#46039f"
             ],
             [
              0.2222222222222222,
              "#7201a8"
             ],
             [
              0.3333333333333333,
              "#9c179e"
             ],
             [
              0.4444444444444444,
              "#bd3786"
             ],
             [
              0.5555555555555556,
              "#d8576b"
             ],
             [
              0.6666666666666666,
              "#ed7953"
             ],
             [
              0.7777777777777778,
              "#fb9f3a"
             ],
             [
              0.8888888888888888,
              "#fdca26"
             ],
             [
              1,
              "#f0f921"
             ]
            ],
            "type": "contour"
           }
          ],
          "contourcarpet": [
           {
            "colorbar": {
             "outlinewidth": 0,
             "ticks": ""
            },
            "type": "contourcarpet"
           }
          ],
          "heatmap": [
           {
            "colorbar": {
             "outlinewidth": 0,
             "ticks": ""
            },
            "colorscale": [
             [
              0,
              "#0d0887"
             ],
             [
              0.1111111111111111,
              "#46039f"
             ],
             [
              0.2222222222222222,
              "#7201a8"
             ],
             [
              0.3333333333333333,
              "#9c179e"
             ],
             [
              0.4444444444444444,
              "#bd3786"
             ],
             [
              0.5555555555555556,
              "#d8576b"
             ],
             [
              0.6666666666666666,
              "#ed7953"
             ],
             [
              0.7777777777777778,
              "#fb9f3a"
             ],
             [
              0.8888888888888888,
              "#fdca26"
             ],
             [
              1,
              "#f0f921"
             ]
            ],
            "type": "heatmap"
           }
          ],
          "heatmapgl": [
           {
            "colorbar": {
             "outlinewidth": 0,
             "ticks": ""
            },
            "colorscale": [
             [
              0,
              "#0d0887"
             ],
             [
              0.1111111111111111,
              "#46039f"
             ],
             [
              0.2222222222222222,
              "#7201a8"
             ],
             [
              0.3333333333333333,
              "#9c179e"
             ],
             [
              0.4444444444444444,
              "#bd3786"
             ],
             [
              0.5555555555555556,
              "#d8576b"
             ],
             [
              0.6666666666666666,
              "#ed7953"
             ],
             [
              0.7777777777777778,
              "#fb9f3a"
             ],
             [
              0.8888888888888888,
              "#fdca26"
             ],
             [
              1,
              "#f0f921"
             ]
            ],
            "type": "heatmapgl"
           }
          ],
          "histogram": [
           {
            "marker": {
             "pattern": {
              "fillmode": "overlay",
              "size": 10,
              "solidity": 0.2
             }
            },
            "type": "histogram"
           }
          ],
          "histogram2d": [
           {
            "colorbar": {
             "outlinewidth": 0,
             "ticks": ""
            },
            "colorscale": [
             [
              0,
              "#0d0887"
             ],
             [
              0.1111111111111111,
              "#46039f"
             ],
             [
              0.2222222222222222,
              "#7201a8"
             ],
             [
              0.3333333333333333,
              "#9c179e"
             ],
             [
              0.4444444444444444,
              "#bd3786"
             ],
             [
              0.5555555555555556,
              "#d8576b"
             ],
             [
              0.6666666666666666,
              "#ed7953"
             ],
             [
              0.7777777777777778,
              "#fb9f3a"
             ],
             [
              0.8888888888888888,
              "#fdca26"
             ],
             [
              1,
              "#f0f921"
             ]
            ],
            "type": "histogram2d"
           }
          ],
          "histogram2dcontour": [
           {
            "colorbar": {
             "outlinewidth": 0,
             "ticks": ""
            },
            "colorscale": [
             [
              0,
              "#0d0887"
             ],
             [
              0.1111111111111111,
              "#46039f"
             ],
             [
              0.2222222222222222,
              "#7201a8"
             ],
             [
              0.3333333333333333,
              "#9c179e"
             ],
             [
              0.4444444444444444,
              "#bd3786"
             ],
             [
              0.5555555555555556,
              "#d8576b"
             ],
             [
              0.6666666666666666,
              "#ed7953"
             ],
             [
              0.7777777777777778,
              "#fb9f3a"
             ],
             [
              0.8888888888888888,
              "#fdca26"
             ],
             [
              1,
              "#f0f921"
             ]
            ],
            "type": "histogram2dcontour"
           }
          ],
          "mesh3d": [
           {
            "colorbar": {
             "outlinewidth": 0,
             "ticks": ""
            },
            "type": "mesh3d"
           }
          ],
          "parcoords": [
           {
            "line": {
             "colorbar": {
              "outlinewidth": 0,
              "ticks": ""
             }
            },
            "type": "parcoords"
           }
          ],
          "pie": [
           {
            "automargin": true,
            "type": "pie"
           }
          ],
          "scatter": [
           {
            "fillpattern": {
             "fillmode": "overlay",
             "size": 10,
             "solidity": 0.2
            },
            "type": "scatter"
           }
          ],
          "scatter3d": [
           {
            "line": {
             "colorbar": {
              "outlinewidth": 0,
              "ticks": ""
             }
            },
            "marker": {
             "colorbar": {
              "outlinewidth": 0,
              "ticks": ""
             }
            },
            "type": "scatter3d"
           }
          ],
          "scattercarpet": [
           {
            "marker": {
             "colorbar": {
              "outlinewidth": 0,
              "ticks": ""
             }
            },
            "type": "scattercarpet"
           }
          ],
          "scattergeo": [
           {
            "marker": {
             "colorbar": {
              "outlinewidth": 0,
              "ticks": ""
             }
            },
            "type": "scattergeo"
           }
          ],
          "scattergl": [
           {
            "marker": {
             "colorbar": {
              "outlinewidth": 0,
              "ticks": ""
             }
            },
            "type": "scattergl"
           }
          ],
          "scattermapbox": [
           {
            "marker": {
             "colorbar": {
              "outlinewidth": 0,
              "ticks": ""
             }
            },
            "type": "scattermapbox"
           }
          ],
          "scatterpolar": [
           {
            "marker": {
             "colorbar": {
              "outlinewidth": 0,
              "ticks": ""
             }
            },
            "type": "scatterpolar"
           }
          ],
          "scatterpolargl": [
           {
            "marker": {
             "colorbar": {
              "outlinewidth": 0,
              "ticks": ""
             }
            },
            "type": "scatterpolargl"
           }
          ],
          "scatterternary": [
           {
            "marker": {
             "colorbar": {
              "outlinewidth": 0,
              "ticks": ""
             }
            },
            "type": "scatterternary"
           }
          ],
          "surface": [
           {
            "colorbar": {
             "outlinewidth": 0,
             "ticks": ""
            },
            "colorscale": [
             [
              0,
              "#0d0887"
             ],
             [
              0.1111111111111111,
              "#46039f"
             ],
             [
              0.2222222222222222,
              "#7201a8"
             ],
             [
              0.3333333333333333,
              "#9c179e"
             ],
             [
              0.4444444444444444,
              "#bd3786"
             ],
             [
              0.5555555555555556,
              "#d8576b"
             ],
             [
              0.6666666666666666,
              "#ed7953"
             ],
             [
              0.7777777777777778,
              "#fb9f3a"
             ],
             [
              0.8888888888888888,
              "#fdca26"
             ],
             [
              1,
              "#f0f921"
             ]
            ],
            "type": "surface"
           }
          ],
          "table": [
           {
            "cells": {
             "fill": {
              "color": "#EBF0F8"
             },
             "line": {
              "color": "white"
             }
            },
            "header": {
             "fill": {
              "color": "#C8D4E3"
             },
             "line": {
              "color": "white"
             }
            },
            "type": "table"
           }
          ]
         },
         "layout": {
          "annotationdefaults": {
           "arrowcolor": "#2a3f5f",
           "arrowhead": 0,
           "arrowwidth": 1
          },
          "autotypenumbers": "strict",
          "coloraxis": {
           "colorbar": {
            "outlinewidth": 0,
            "ticks": ""
           }
          },
          "colorscale": {
           "diverging": [
            [
             0,
             "#8e0152"
            ],
            [
             0.1,
             "#c51b7d"
            ],
            [
             0.2,
             "#de77ae"
            ],
            [
             0.3,
             "#f1b6da"
            ],
            [
             0.4,
             "#fde0ef"
            ],
            [
             0.5,
             "#f7f7f7"
            ],
            [
             0.6,
             "#e6f5d0"
            ],
            [
             0.7,
             "#b8e186"
            ],
            [
             0.8,
             "#7fbc41"
            ],
            [
             0.9,
             "#4d9221"
            ],
            [
             1,
             "#276419"
            ]
           ],
           "sequential": [
            [
             0,
             "#0d0887"
            ],
            [
             0.1111111111111111,
             "#46039f"
            ],
            [
             0.2222222222222222,
             "#7201a8"
            ],
            [
             0.3333333333333333,
             "#9c179e"
            ],
            [
             0.4444444444444444,
             "#bd3786"
            ],
            [
             0.5555555555555556,
             "#d8576b"
            ],
            [
             0.6666666666666666,
             "#ed7953"
            ],
            [
             0.7777777777777778,
             "#fb9f3a"
            ],
            [
             0.8888888888888888,
             "#fdca26"
            ],
            [
             1,
             "#f0f921"
            ]
           ],
           "sequentialminus": [
            [
             0,
             "#0d0887"
            ],
            [
             0.1111111111111111,
             "#46039f"
            ],
            [
             0.2222222222222222,
             "#7201a8"
            ],
            [
             0.3333333333333333,
             "#9c179e"
            ],
            [
             0.4444444444444444,
             "#bd3786"
            ],
            [
             0.5555555555555556,
             "#d8576b"
            ],
            [
             0.6666666666666666,
             "#ed7953"
            ],
            [
             0.7777777777777778,
             "#fb9f3a"
            ],
            [
             0.8888888888888888,
             "#fdca26"
            ],
            [
             1,
             "#f0f921"
            ]
           ]
          },
          "colorway": [
           "#636efa",
           "#EF553B",
           "#00cc96",
           "#ab63fa",
           "#FFA15A",
           "#19d3f3",
           "#FF6692",
           "#B6E880",
           "#FF97FF",
           "#FECB52"
          ],
          "font": {
           "color": "#2a3f5f"
          },
          "geo": {
           "bgcolor": "white",
           "lakecolor": "white",
           "landcolor": "#E5ECF6",
           "showlakes": true,
           "showland": true,
           "subunitcolor": "white"
          },
          "hoverlabel": {
           "align": "left"
          },
          "hovermode": "closest",
          "mapbox": {
           "style": "light"
          },
          "paper_bgcolor": "white",
          "plot_bgcolor": "#E5ECF6",
          "polar": {
           "angularaxis": {
            "gridcolor": "white",
            "linecolor": "white",
            "ticks": ""
           },
           "bgcolor": "#E5ECF6",
           "radialaxis": {
            "gridcolor": "white",
            "linecolor": "white",
            "ticks": ""
           }
          },
          "scene": {
           "xaxis": {
            "backgroundcolor": "#E5ECF6",
            "gridcolor": "white",
            "gridwidth": 2,
            "linecolor": "white",
            "showbackground": true,
            "ticks": "",
            "zerolinecolor": "white"
           },
           "yaxis": {
            "backgroundcolor": "#E5ECF6",
            "gridcolor": "white",
            "gridwidth": 2,
            "linecolor": "white",
            "showbackground": true,
            "ticks": "",
            "zerolinecolor": "white"
           },
           "zaxis": {
            "backgroundcolor": "#E5ECF6",
            "gridcolor": "white",
            "gridwidth": 2,
            "linecolor": "white",
            "showbackground": true,
            "ticks": "",
            "zerolinecolor": "white"
           }
          },
          "shapedefaults": {
           "line": {
            "color": "#2a3f5f"
           }
          },
          "ternary": {
           "aaxis": {
            "gridcolor": "white",
            "linecolor": "white",
            "ticks": ""
           },
           "baxis": {
            "gridcolor": "white",
            "linecolor": "white",
            "ticks": ""
           },
           "bgcolor": "#E5ECF6",
           "caxis": {
            "gridcolor": "white",
            "linecolor": "white",
            "ticks": ""
           }
          },
          "title": {
           "x": 0.05
          },
          "xaxis": {
           "automargin": true,
           "gridcolor": "white",
           "linecolor": "white",
           "ticks": "",
           "title": {
            "standoff": 15
           },
           "zerolinecolor": "white",
           "zerolinewidth": 2
          },
          "yaxis": {
           "automargin": true,
           "gridcolor": "white",
           "linecolor": "white",
           "ticks": "",
           "title": {
            "standoff": 15
           },
           "zerolinecolor": "white",
           "zerolinewidth": 2
          }
         }
        },
        "title": {
         "text": "Hôtels en France : Score par ville"
        }
       }
      }
     },
     "metadata": {},
     "output_type": "display_data"
    }
   ],
   "source": [
    "# plot des hotels sur une carte de chaque ville en fonction de leur note\n",
    "import plotly.express as px\n",
    "fig = px.scatter_mapbox(\n",
    "    df_hotels,\n",
    "    lat=\"latitude\",\n",
    "    lon=\"longitude\",\n",
    "    color=\"score\",      \n",
    "    size_max=15,\n",
    "    size=\"score\",             \n",
    "    hover_name=\"hotel_name\",    \n",
    "    hover_data=[\"ville\", \"score\"], \n",
    "    zoom=5,\n",
    "    mapbox_style=\"open-street-map\",               \n",
    "    color_continuous_scale=\"RdYlGn\"  \n",
    ")\n",
    "\n",
    "fig.update_layout(\n",
    "    title=\"Hôtels en France : Score par ville\",\n",
    "    legend_title=\"Score\"\n",
    ")\n",
    "fig.show()"
   ]
  },
  {
   "cell_type": "code",
   "execution_count": null,
   "id": "08ccb6a0",
   "metadata": {},
   "outputs": [],
   "source": []
  }
 ],
 "metadata": {
  "kernelspec": {
   "display_name": "base",
   "language": "python",
   "name": "python3"
  },
  "language_info": {
   "codemirror_mode": {
    "name": "ipython",
    "version": 3
   },
   "file_extension": ".py",
   "mimetype": "text/x-python",
   "name": "python",
   "nbconvert_exporter": "python",
   "pygments_lexer": "ipython3",
   "version": "3.12.4"
  }
 },
 "nbformat": 4,
 "nbformat_minor": 5
}
