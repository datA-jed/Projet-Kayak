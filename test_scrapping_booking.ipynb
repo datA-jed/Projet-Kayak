{
 "cells": [
  {
   "cell_type": "markdown",
   "id": "e341c081",
   "metadata": {},
   "source": [
    "### Scrappons à présent booking.com pour avoir 20 hôtels à recommander dans nos 5 villes sélectionnées\n",
    "### Ceci est un notebook de test avant de créer le scraper spyder"
   ]
  },
  {
   "cell_type": "code",
   "execution_count": 1,
   "id": "6dba9571",
   "metadata": {},
   "outputs": [
    {
     "name": "stdout",
     "output_type": "stream",
     "text": [
      "Requirement already satisfied: Scrapy in c:\\users\\kleim\\anaconda3\\lib\\site-packages (2.11.1)\n",
      "Requirement already satisfied: Twisted>=18.9.0 in c:\\users\\kleim\\anaconda3\\lib\\site-packages (from Scrapy) (23.10.0)\n",
      "Requirement already satisfied: cryptography>=36.0.0 in c:\\users\\kleim\\anaconda3\\lib\\site-packages (from Scrapy) (42.0.5)\n",
      "Requirement already satisfied: cssselect>=0.9.1 in c:\\users\\kleim\\anaconda3\\lib\\site-packages (from Scrapy) (1.2.0)\n",
      "Requirement already satisfied: itemloaders>=1.0.1 in c:\\users\\kleim\\anaconda3\\lib\\site-packages (from Scrapy) (1.1.0)\n",
      "Requirement already satisfied: parsel>=1.5.0 in c:\\users\\kleim\\anaconda3\\lib\\site-packages (from Scrapy) (1.8.1)\n",
      "Requirement already satisfied: pyOpenSSL>=21.0.0 in c:\\users\\kleim\\anaconda3\\lib\\site-packages (from Scrapy) (24.0.0)\n",
      "Requirement already satisfied: queuelib>=1.4.2 in c:\\users\\kleim\\anaconda3\\lib\\site-packages (from Scrapy) (1.6.2)\n",
      "Requirement already satisfied: service-identity>=18.1.0 in c:\\users\\kleim\\anaconda3\\lib\\site-packages (from Scrapy) (18.1.0)\n",
      "Requirement already satisfied: w3lib>=1.17.0 in c:\\users\\kleim\\anaconda3\\lib\\site-packages (from Scrapy) (2.1.2)\n",
      "Requirement already satisfied: zope.interface>=5.1.0 in c:\\users\\kleim\\anaconda3\\lib\\site-packages (from Scrapy) (5.4.0)\n",
      "Requirement already satisfied: protego>=0.1.15 in c:\\users\\kleim\\anaconda3\\lib\\site-packages (from Scrapy) (0.1.16)\n",
      "Requirement already satisfied: itemadapter>=0.1.0 in c:\\users\\kleim\\anaconda3\\lib\\site-packages (from Scrapy) (0.3.0)\n",
      "Requirement already satisfied: setuptools in c:\\users\\kleim\\anaconda3\\lib\\site-packages (from Scrapy) (69.5.1)\n",
      "Requirement already satisfied: packaging in c:\\users\\kleim\\anaconda3\\lib\\site-packages (from Scrapy) (23.2)\n",
      "Requirement already satisfied: tldextract in c:\\users\\kleim\\anaconda3\\lib\\site-packages (from Scrapy) (3.2.0)\n",
      "Requirement already satisfied: lxml>=4.4.1 in c:\\users\\kleim\\anaconda3\\lib\\site-packages (from Scrapy) (5.2.1)\n",
      "Requirement already satisfied: PyDispatcher>=2.0.5 in c:\\users\\kleim\\anaconda3\\lib\\site-packages (from Scrapy) (2.0.5)\n",
      "Requirement already satisfied: cffi>=1.12 in c:\\users\\kleim\\anaconda3\\lib\\site-packages (from cryptography>=36.0.0->Scrapy) (1.16.0)\n",
      "Requirement already satisfied: jmespath>=0.9.5 in c:\\users\\kleim\\anaconda3\\lib\\site-packages (from itemloaders>=1.0.1->Scrapy) (1.0.1)\n",
      "Requirement already satisfied: six in c:\\users\\kleim\\anaconda3\\lib\\site-packages (from protego>=0.1.15->Scrapy) (1.16.0)\n",
      "Requirement already satisfied: attrs>=16.0.0 in c:\\users\\kleim\\anaconda3\\lib\\site-packages (from service-identity>=18.1.0->Scrapy) (23.1.0)\n",
      "Requirement already satisfied: pyasn1-modules in c:\\users\\kleim\\anaconda3\\lib\\site-packages (from service-identity>=18.1.0->Scrapy) (0.2.8)\n",
      "Requirement already satisfied: pyasn1 in c:\\users\\kleim\\anaconda3\\lib\\site-packages (from service-identity>=18.1.0->Scrapy) (0.4.8)\n",
      "Requirement already satisfied: automat>=0.8.0 in c:\\users\\kleim\\anaconda3\\lib\\site-packages (from Twisted>=18.9.0->Scrapy) (20.2.0)\n",
      "Requirement already satisfied: constantly>=15.1 in c:\\users\\kleim\\anaconda3\\lib\\site-packages (from Twisted>=18.9.0->Scrapy) (23.10.4)\n",
      "Requirement already satisfied: hyperlink>=17.1.1 in c:\\users\\kleim\\anaconda3\\lib\\site-packages (from Twisted>=18.9.0->Scrapy) (21.0.0)\n",
      "Requirement already satisfied: incremental>=22.10.0 in c:\\users\\kleim\\anaconda3\\lib\\site-packages (from Twisted>=18.9.0->Scrapy) (22.10.0)\n",
      "Requirement already satisfied: twisted-iocpsupport<2,>=1.0.2 in c:\\users\\kleim\\anaconda3\\lib\\site-packages (from Twisted>=18.9.0->Scrapy) (1.0.2)\n",
      "Requirement already satisfied: typing-extensions>=4.2.0 in c:\\users\\kleim\\anaconda3\\lib\\site-packages (from Twisted>=18.9.0->Scrapy) (4.13.1)\n",
      "Requirement already satisfied: idna in c:\\users\\kleim\\anaconda3\\lib\\site-packages (from tldextract->Scrapy) (2.10)\n",
      "Requirement already satisfied: requests>=2.1.0 in c:\\users\\kleim\\anaconda3\\lib\\site-packages (from tldextract->Scrapy) (2.32.2)\n",
      "Requirement already satisfied: requests-file>=1.4 in c:\\users\\kleim\\anaconda3\\lib\\site-packages (from tldextract->Scrapy) (1.5.1)\n",
      "Requirement already satisfied: filelock>=3.0.8 in c:\\users\\kleim\\anaconda3\\lib\\site-packages (from tldextract->Scrapy) (3.13.1)\n",
      "Requirement already satisfied: pycparser in c:\\users\\kleim\\anaconda3\\lib\\site-packages (from cffi>=1.12->cryptography>=36.0.0->Scrapy) (2.21)\n",
      "Requirement already satisfied: charset-normalizer<4,>=2 in c:\\users\\kleim\\anaconda3\\lib\\site-packages (from requests>=2.1.0->tldextract->Scrapy) (2.0.4)\n",
      "Requirement already satisfied: urllib3<3,>=1.21.1 in c:\\users\\kleim\\anaconda3\\lib\\site-packages (from requests>=2.1.0->tldextract->Scrapy) (2.2.2)\n",
      "Requirement already satisfied: certifi>=2017.4.17 in c:\\users\\kleim\\anaconda3\\lib\\site-packages (from requests>=2.1.0->tldextract->Scrapy) (2025.1.31)\n"
     ]
    }
   ],
   "source": [
    "! pip install Scrapy\n",
    "import requests\n",
    "from scrapy import Selector\n",
    "\n",
    "headers = {\n",
    "    'User-Agent': 'Mozilla/5.0 (Windows NT 10.0; Win64; x64) AppleWebKit/537.36 (KHTML, like Gecko) Chrome/58.0.3029.110 Safari/537.3'\n",
    "}\n",
    "\n",
    "url = 'https://www.booking.com/searchresults.fr.html?ss=Cassis%2C+Provence-Alpes-C%C3%B4te+d%27Azur%2C+France&efdco=1&label=gen173nr-1FCAEoggI46AdIDVgEaE2IAQGYAQ24ARfIAQzYAQHoAQH4AQKIAgGoAgO4Aqi86cAGwAIB0gIkYzU4NzU0ZTAtMzUxNC00ZmRmLWExMjMtZTJlOTc2ZDIxZmM22AIF4AIB&aid=304142&lang=fr&sb=1&src_elem=sb&src=index&dest_id=-1416912&dest_type=city&ac_position=0&ac_click_type=b&ac_langcode=fr&ac_suggestion_list_length=5&search_selected=true&search_pageview_id=12ae8694f2080b08&ac_meta=GhAxMmFlODY5NGYyMDgwYjA4IAAoATICZnI6BkNhc3Npc0AASgBQAA%3D%3D&checkin=2025-07-05&checkout=2025-07-19&group_adults=2&no_rooms=1&group_children=0'\n",
    "r = requests.get(url, headers=headers)\n",
    "\n",
    "response = Selector(text=r.text)"
   ]
  },
  {
   "cell_type": "code",
   "execution_count": 2,
   "id": "70b58de7",
   "metadata": {},
   "outputs": [
    {
     "data": {
      "text/plain": [
       "<Selector query=None data='<html dir=\"ltr\" lang=\"fr\">\\n  <head>\\n ...'>"
      ]
     },
     "execution_count": 2,
     "metadata": {},
     "output_type": "execute_result"
    }
   ],
   "source": [
    "response"
   ]
  },
  {
   "cell_type": "code",
   "execution_count": 39,
   "id": "a5845b88",
   "metadata": {},
   "outputs": [],
   "source": [
    "hotel = response.css('a h3[class=\"bd77474a8e\"]::text').get()"
   ]
  },
  {
   "cell_type": "code",
   "execution_count": 40,
   "id": "4d393fe8",
   "metadata": {},
   "outputs": [],
   "source": [
    "hotel"
   ]
  },
  {
   "cell_type": "code",
   "execution_count": null,
   "id": "33966643",
   "metadata": {},
   "outputs": [],
   "source": []
  }
 ],
 "metadata": {
  "kernelspec": {
   "display_name": "base",
   "language": "python",
   "name": "python3"
  },
  "language_info": {
   "codemirror_mode": {
    "name": "ipython",
    "version": 3
   },
   "file_extension": ".py",
   "mimetype": "text/x-python",
   "name": "python",
   "nbconvert_exporter": "python",
   "pygments_lexer": "ipython3",
   "version": "3.12.4"
  }
 },
 "nbformat": 4,
 "nbformat_minor": 5
}
