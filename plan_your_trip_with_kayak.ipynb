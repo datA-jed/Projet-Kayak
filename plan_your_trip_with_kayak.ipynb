{
 "cells": [
  {
   "cell_type": "markdown",
   "metadata": {},
   "source": [
    "# Project\n",
    "- 70% des utilisateurs souhaitent plus d'informations à propos de leur destination\n",
    "- Chercher les meilleures villes en fonction de la météo \n",
    "- Proposer des hôtels sur ces villes"
   ]
  },
  {
   "cell_type": "code",
   "execution_count": 2,
   "metadata": {},
   "outputs": [],
   "source": [
    "import requests\n",
    "import json\n",
    "import pandas as pd  "
   ]
  },
  {
   "cell_type": "code",
   "execution_count": 3,
   "metadata": {},
   "outputs": [],
   "source": [
    "url = 'https://data.geopf.fr/geocodage/search'"
   ]
  },
  {
   "cell_type": "code",
   "execution_count": 4,
   "metadata": {},
   "outputs": [
    {
     "data": {
      "text/plain": [
       "{'type': 'FeatureCollection',\n",
       " 'features': [{'type': 'Feature',\n",
       "   'geometry': {'type': 'Point', 'coordinates': [5.995538, 45.546586]},\n",
       "   'properties': {'label': 'Mont Saint Michel 73190 Challes-les-Eaux',\n",
       "    'score': 0.9464936363636363,\n",
       "    'type': 'locality',\n",
       "    'importance': 0.41143,\n",
       "    'id': '73064_B039',\n",
       "    'banId': 'f67c5810-39e4-4a3d-a92c-89380b8e6ab3',\n",
       "    'name': 'Mont Saint Michel',\n",
       "    'postcode': '73190',\n",
       "    'citycode': '73064',\n",
       "    'x': 933687.63,\n",
       "    'y': 6498554.9,\n",
       "    'city': 'Challes-les-Eaux',\n",
       "    'context': '73, Savoie, Auvergne-Rhône-Alpes',\n",
       "    'locality': 'Mont Saint Michel',\n",
       "    '_type': 'address'}},\n",
       "  {'type': 'Feature',\n",
       "   'geometry': {'type': 'Point', 'coordinates': [-1.538198, 47.243963]},\n",
       "   'properties': {'label': 'Avenue du Mont Saint Michel 44300 Nantes',\n",
       "    'score': 0.6999336363636363,\n",
       "    'id': '44109_5785',\n",
       "    'banId': 'bfc8760b-6503-436a-b194-96398ee4dd18',\n",
       "    'name': 'Avenue du Mont Saint Michel',\n",
       "    'postcode': '44300',\n",
       "    'citycode': '44109',\n",
       "    'x': 356904.59,\n",
       "    'y': 6692490.84,\n",
       "    'city': 'Nantes',\n",
       "    'context': '44, Loire-Atlantique, Pays de la Loire',\n",
       "    'type': 'street',\n",
       "    'importance': 0.69927,\n",
       "    'street': 'Avenue du Mont Saint Michel',\n",
       "    '_type': 'address'}},\n",
       "  {'type': 'Feature',\n",
       "   'geometry': {'type': 'Point', 'coordinates': [5.880527, 45.5847]},\n",
       "   'properties': {'label': 'Rue du Mont-Saint-Michel 73000 Chambéry',\n",
       "    'score': 0.6959999999999998,\n",
       "    'id': '73065_2730',\n",
       "    'banId': '6b5e2784-0aa9-4e9e-81bc-ad488ddea5b8',\n",
       "    'name': 'Rue du Mont-Saint-Michel',\n",
       "    'postcode': '73000',\n",
       "    'citycode': '73065',\n",
       "    'x': 924565.09,\n",
       "    'y': 6502450.91,\n",
       "    'city': 'Chambéry',\n",
       "    'context': '73, Savoie, Auvergne-Rhône-Alpes',\n",
       "    'type': 'street',\n",
       "    'importance': 0.656,\n",
       "    'street': 'Rue du Mont-Saint-Michel',\n",
       "    '_type': 'address'}},\n",
       "  {'type': 'Feature',\n",
       "   'geometry': {'type': 'Point', 'coordinates': [-0.585062, 48.742556]},\n",
       "   'properties': {'label': 'Rue du Mont Saint Michel 61100 Flers',\n",
       "    'score': 0.6944836363636363,\n",
       "    'id': '61169_0980',\n",
       "    'banId': 'd06878bc-f53f-4d60-b503-62512fcb9720',\n",
       "    'name': 'Rue du Mont Saint Michel',\n",
       "    'postcode': '61100',\n",
       "    'citycode': '61169',\n",
       "    'x': 436465.42,\n",
       "    'y': 6855143.35,\n",
       "    'city': 'Flers',\n",
       "    'context': '61, Orne, Normandie',\n",
       "    'type': 'street',\n",
       "    'importance': 0.63932,\n",
       "    'street': 'Rue du Mont Saint Michel',\n",
       "    '_type': 'address'}},\n",
       "  {'type': 'Feature',\n",
       "   'geometry': {'type': 'Point', 'coordinates': [0.610109, 48.757856]},\n",
       "   'properties': {'label': \"Avenue du Mont Saint Michel 61300 L'Aigle\",\n",
       "    'score': 0.6932754545454544,\n",
       "    'id': '61214_0795',\n",
       "    'banId': 'ff8d25bd-f8cb-4e3d-b607-135d2b860889',\n",
       "    'name': 'Avenue du Mont Saint Michel',\n",
       "    'postcode': '61300',\n",
       "    'citycode': '61214',\n",
       "    'x': 524339.27,\n",
       "    'y': 6853519.42,\n",
       "    'city': \"L'Aigle\",\n",
       "    'context': '61, Orne, Normandie',\n",
       "    'type': 'street',\n",
       "    'importance': 0.62603,\n",
       "    'street': 'Avenue du Mont Saint Michel',\n",
       "    '_type': 'address'}},\n",
       "  {'type': 'Feature',\n",
       "   'geometry': {'type': 'Point', 'coordinates': [-1.62882, 48.186935]},\n",
       "   'properties': {'label': 'Rue du Mont Saint-Michel 35830 Betton',\n",
       "    'score': 0.6927772727272726,\n",
       "    'id': '35024_0087',\n",
       "    'banId': '2adea861-977d-49ec-b764-eea1aeb7affd',\n",
       "    'name': 'Rue du Mont Saint-Michel',\n",
       "    'postcode': '35830',\n",
       "    'citycode': '35024',\n",
       "    'x': 356199.27,\n",
       "    'y': 6797477.34,\n",
       "    'city': 'Betton',\n",
       "    'context': '35, Ille-et-Vilaine, Bretagne',\n",
       "    'type': 'street',\n",
       "    'importance': 0.62055,\n",
       "    'street': 'Rue du Mont Saint-Michel',\n",
       "    '_type': 'address'}},\n",
       "  {'type': 'Feature',\n",
       "   'geometry': {'type': 'Point', 'coordinates': [4.344994, 48.9456]},\n",
       "   'properties': {'label': 'Rue du Mont-Saint-Michel 51000 Châlons-en-Champagne',\n",
       "    'score': 0.6919527272727272,\n",
       "    'id': '51108_2380',\n",
       "    'name': 'Rue du Mont-Saint-Michel',\n",
       "    'postcode': '51000',\n",
       "    'citycode': '51108',\n",
       "    'x': 798513.9,\n",
       "    'y': 6872576.08,\n",
       "    'city': 'Châlons-en-Champagne',\n",
       "    'context': '51, Marne, Grand Est',\n",
       "    'type': 'street',\n",
       "    'importance': 0.61148,\n",
       "    'street': 'Rue du Mont-Saint-Michel',\n",
       "    '_type': 'address'}},\n",
       "  {'type': 'Feature',\n",
       "   'geometry': {'type': 'Point', 'coordinates': [2.313508, 51.012418]},\n",
       "   'properties': {'label': 'Rue du Mont Saint Michel 59760 Grande-Synthe',\n",
       "    'score': 0.6916072727272726,\n",
       "    'id': '59271_0479',\n",
       "    'banId': '7128fccc-22ff-4006-80fe-2d54c87bfa12',\n",
       "    'name': 'Rue du Mont Saint Michel',\n",
       "    'postcode': '59760',\n",
       "    'citycode': '59271',\n",
       "    'x': 651716.73,\n",
       "    'y': 7102059,\n",
       "    'city': 'Grande-Synthe',\n",
       "    'context': '59, Nord, Hauts-de-France',\n",
       "    'type': 'street',\n",
       "    'importance': 0.60768,\n",
       "    'street': 'Rue du Mont Saint Michel',\n",
       "    '_type': 'address'}},\n",
       "  {'type': 'Feature',\n",
       "   'geometry': {'type': 'Point', 'coordinates': [-1.471481, 48.965123]},\n",
       "   'properties': {'label': 'Rue du Mont Saint Michel 50660 Quettreville-sur-Sienne',\n",
       "    'score': 0.6894090909090909,\n",
       "    'id': '50419_0075',\n",
       "    'banId': 'c49bbd44-fec3-434d-b183-2f475aa2a16a',\n",
       "    'name': 'Rue du Mont Saint Michel',\n",
       "    'postcode': '50660',\n",
       "    'citycode': '50419',\n",
       "    'oldcitycode': '50419',\n",
       "    'x': 372769.03,\n",
       "    'y': 6883175.79,\n",
       "    'city': 'Quettreville-sur-Sienne',\n",
       "    'oldcity': 'Quettreville-sur-Sienne',\n",
       "    'context': '50, Manche, Normandie',\n",
       "    'type': 'street',\n",
       "    'importance': 0.5835,\n",
       "    'street': 'Rue du Mont Saint Michel',\n",
       "    '_type': 'address'}},\n",
       "  {'type': 'Feature',\n",
       "   'geometry': {'type': 'Point', 'coordinates': [-0.669784, 48.584713]},\n",
       "   'properties': {'label': 'route du mont saint michel 61700 Domfront en Poiraie',\n",
       "    'score': 0.6888099999999999,\n",
       "    'id': '61145_3055',\n",
       "    'banId': '3b689801-0032-4301-9127-bb229e028927',\n",
       "    'name': 'route du mont saint michel',\n",
       "    'postcode': '61700',\n",
       "    'citycode': '61145',\n",
       "    'oldcitycode': '61145',\n",
       "    'x': 429426.75,\n",
       "    'y': 6837899.98,\n",
       "    'city': 'Domfront en Poiraie',\n",
       "    'oldcity': 'Domfront',\n",
       "    'context': '61, Orne, Normandie',\n",
       "    'type': 'street',\n",
       "    'importance': 0.57691,\n",
       "    'street': 'route du mont saint michel',\n",
       "    '_type': 'address'}}]}"
      ]
     },
     "execution_count": 4,
     "metadata": {},
     "output_type": "execute_result"
    }
   ],
   "source": [
    "headers = {\n",
    "    'User-Agent': 'Mozilla/5.0 (Windows NT 10.0; Win64; x64) AppleWebKit/537.36 (KHTML, like Gecko) Chrome/58.0.3029.110 Safari/537.3 ',\n",
    "    \"Accept-Language\": \"fr-FR,fr;q=0.9\"\n",
    "}\n",
    "\n",
    "payload = {\n",
    "    'q': 'Mont Saint Michel', 'France'\n",
    "    'city': 'Mont Saint Michel',\n",
    "    'format': 'json'\n",
    "}\n",
    "\n",
    "response = requests.get(url=url, params=payload, headers=headers)\n",
    "response.json()\n"
   ]
  },
  {
   "cell_type": "code",
   "execution_count": 5,
   "metadata": {},
   "outputs": [],
   "source": [
    "# Liste des villes à interroger\n",
    "villes = [\"Mont Saint Michel\",\n",
    "\"St Malo\",\n",
    "\"Bayeux\",\n",
    "\"Le Havre\",\n",
    "\"Rouen\",\n",
    "\"Paris\",\n",
    "\"Amiens\",\n",
    "\"Lille\",\n",
    "\"Strasbourg\",\n",
    "\"Chateau du Haut Koenigsbourg\",\n",
    "\"Colmar\",\n",
    "\"Eguisheim\",\n",
    "\"Besancon\",\n",
    "\"Dijon\",\n",
    "\"Annecy\",\n",
    "\"Grenoble\",\n",
    "\"Lyon\",\n",
    "\"Gorges du Verdon\",\n",
    "\"Bormes les Mimosas\",\n",
    "\"Cassis\",\n",
    "\"Marseille\",\n",
    "\"Aix en Provence\",\n",
    "\"Avignon\",\n",
    "\"Uzes\",\n",
    "\"Nimes\",\n",
    "\"Aigues Mortes\",\n",
    "\"Saintes Maries de la mer\",\n",
    "\"Collioure\",\n",
    "\"Carcassonne\",\n",
    "\"Ariege\",\n",
    "\"Toulouse\",\n",
    "\"Montauban\",\n",
    "\"Biarritz\",\n",
    "\"Bayonne\",\n",
    "\"La Rochelle\"]\n",
    "\n",
    "\n",
    "\n",
    "base_url = \"https://data.geopf.fr/geocodage/search?\"\n",
    "\n",
    "\n",
    "def get_coordinates(ville):\n",
    "    \n",
    "    params = {\n",
    "        'q': ville,\n",
    "        'limit': 1,\n",
    "        'index':'poi'\n",
    "    }\n",
    "    \n",
    "    response = requests.get(base_url, params=params)\n",
    "    \n",
    "    if response.status_code == 200:\n",
    "        data = response.json()\n",
    "        if data['features']:\n",
    "            coordinates = data['features'][0]['geometry']['coordinates']\n",
    "            return coordinates\n",
    "        else:\n",
    "            return None\n",
    "    else:\n",
    "        print(f\"Erreur lors de la requête pour {ville}: {response.status_code}\")\n",
    "        return None\n",
    "\n",
    "\n",
    "results = []\n",
    "for ville in villes:\n",
    "    coordinates = get_coordinates(ville)\n",
    "    if coordinates:\n",
    "        results.append({'Ville': ville, 'Longitude': coordinates[0], 'Latitude': coordinates[1]})\n",
    "    else:\n",
    "        results.append({'Ville': ville, 'Longitude': None, 'Latitude': None})\n"
   ]
  },
  {
   "cell_type": "code",
   "execution_count": 6,
   "metadata": {},
   "outputs": [
    {
     "data": {
      "text/plain": [
       "[5.995538, 45.546586]"
      ]
     },
     "execution_count": 6,
     "metadata": {},
     "output_type": "execute_result"
    }
   ],
   "source": [
    "response.json()['features'][0]['geometry']['coordinates'] #recherche du chemin pour extraire les coordonnées GPS"
   ]
  },
  {
   "cell_type": "code",
   "execution_count": 7,
   "metadata": {},
   "outputs": [
    {
     "data": {
      "text/html": [
       "<div>\n",
       "<style scoped>\n",
       "    .dataframe tbody tr th:only-of-type {\n",
       "        vertical-align: middle;\n",
       "    }\n",
       "\n",
       "    .dataframe tbody tr th {\n",
       "        vertical-align: top;\n",
       "    }\n",
       "\n",
       "    .dataframe thead th {\n",
       "        text-align: right;\n",
       "    }\n",
       "</style>\n",
       "<table border=\"1\" class=\"dataframe\">\n",
       "  <thead>\n",
       "    <tr style=\"text-align: right;\">\n",
       "      <th></th>\n",
       "      <th>Ville</th>\n",
       "      <th>Longitude</th>\n",
       "      <th>Latitude</th>\n",
       "    </tr>\n",
       "  </thead>\n",
       "  <tbody>\n",
       "    <tr>\n",
       "      <th>0</th>\n",
       "      <td>Mont Saint Michel</td>\n",
       "      <td>7.088900</td>\n",
       "      <td>43.849841</td>\n",
       "    </tr>\n",
       "    <tr>\n",
       "      <th>1</th>\n",
       "      <td>St Malo</td>\n",
       "      <td>-2.000385</td>\n",
       "      <td>48.653039</td>\n",
       "    </tr>\n",
       "    <tr>\n",
       "      <th>2</th>\n",
       "      <td>Bayeux</td>\n",
       "      <td>-0.702368</td>\n",
       "      <td>49.277173</td>\n",
       "    </tr>\n",
       "    <tr>\n",
       "      <th>3</th>\n",
       "      <td>Le Havre</td>\n",
       "      <td>0.128407</td>\n",
       "      <td>49.493515</td>\n",
       "    </tr>\n",
       "    <tr>\n",
       "      <th>4</th>\n",
       "      <td>Rouen</td>\n",
       "      <td>1.099092</td>\n",
       "      <td>49.443440</td>\n",
       "    </tr>\n",
       "  </tbody>\n",
       "</table>\n",
       "</div>"
      ],
      "text/plain": [
       "               Ville  Longitude   Latitude\n",
       "0  Mont Saint Michel   7.088900  43.849841\n",
       "1            St Malo  -2.000385  48.653039\n",
       "2             Bayeux  -0.702368  49.277173\n",
       "3           Le Havre   0.128407  49.493515\n",
       "4              Rouen   1.099092  49.443440"
      ]
     },
     "execution_count": 7,
     "metadata": {},
     "output_type": "execute_result"
    }
   ],
   "source": [
    "df = pd.DataFrame(results) # transformation des données en dataframe\n",
    "df.head()"
   ]
  },
  {
   "cell_type": "code",
   "execution_count": 8,
   "metadata": {},
   "outputs": [
    {
     "data": {
      "text/plain": [
       "(35, 3)"
      ]
     },
     "execution_count": 8,
     "metadata": {},
     "output_type": "execute_result"
    }
   ],
   "source": [
    "df.shape # verification des dimensions savoir si on a bien 35 villes "
   ]
  },
  {
   "cell_type": "code",
   "execution_count": 9,
   "metadata": {},
   "outputs": [
    {
     "data": {
      "text/plain": [
       "Ville        False\n",
       "Longitude    False\n",
       "Latitude     False\n",
       "dtype: bool"
      ]
     },
     "execution_count": 9,
     "metadata": {},
     "output_type": "execute_result"
    }
   ],
   "source": [
    "df.isnull().any() #verification des valeurs nulles"
   ]
  },
  {
   "cell_type": "code",
   "execution_count": 10,
   "metadata": {},
   "outputs": [
    {
     "data": {
      "text/plain": [
       "Ville        Montauban\n",
       "Longitude     1.366155\n",
       "Latitude     44.022919\n",
       "Name: 31, dtype: object"
      ]
     },
     "execution_count": 10,
     "metadata": {},
     "output_type": "execute_result"
    }
   ],
   "source": [
    "df.loc[31]"
   ]
  },
  {
   "cell_type": "code",
   "execution_count": 11,
   "metadata": {},
   "outputs": [
    {
     "data": {
      "application/vnd.plotly.v1+json": {
       "config": {
        "plotlyServerURL": "https://plot.ly"
       },
       "data": [
        {
         "hovertemplate": "Ville=%{text}<br>Latitude=%{lat}<br>Longitude=%{lon}<extra></extra>",
         "lat": [
          43.849841,
          48.653039,
          49.277173,
          49.493515,
          49.44344,
          48.844061,
          49.893548,
          50.634523,
          48.574811,
          48.249581,
          48.116422,
          48.03655,
          47.256814,
          47.326035,
          45.898635,
          45.180525,
          45.767678,
          43.741387,
          43.120819,
          43.213074,
          43.269776,
          43.518436,
          43.943164,
          44.014792,
          43.839648,
          43.55451,
          43.479513,
          42.515405,
          43.209017,
          42.956535,
          43.60766,
          44.022919,
          43.479116,
          43.48541,
          46.157032
         ],
         "legendgroup": "",
         "lon": [
          7.0889,
          -2.000385,
          -0.702368,
          0.128407,
          1.099092,
          2.37068,
          2.292663,
          3.052529,
          7.753827,
          7.344312,
          7.390603,
          7.294224,
          6.021017,
          5.035138,
          6.101282,
          5.725144,
          4.824068,
          6.34617,
          6.34391,
          5.540576,
          5.367037,
          5.38086,
          4.848282,
          4.411618,
          4.351788,
          4.175082,
          4.394262,
          3.075825,
          2.354437,
          1.503476,
          1.437487,
          1.366155,
          -1.564367,
          -1.467888,
          -1.185842
         ],
         "marker": {
          "color": "#636efa",
          "size": 12
         },
         "mode": "markers+text",
         "name": "",
         "showlegend": false,
         "subplot": "mapbox",
         "text": [
          "Mont Saint Michel",
          "St Malo",
          "Bayeux",
          "Le Havre",
          "Rouen",
          "Paris",
          "Amiens",
          "Lille",
          "Strasbourg",
          "Chateau du Haut Koenigsbourg",
          "Colmar",
          "Eguisheim",
          "Besancon",
          "Dijon",
          "Annecy",
          "Grenoble",
          "Lyon",
          "Gorges du Verdon",
          "Bormes les Mimosas",
          "Cassis",
          "Marseille",
          "Aix en Provence",
          "Avignon",
          "Uzes",
          "Nimes",
          "Aigues Mortes",
          "Saintes Maries de la mer",
          "Collioure",
          "Carcassonne",
          "Ariege",
          "Toulouse",
          "Montauban",
          "Biarritz",
          "Bayonne",
          "La Rochelle"
         ],
         "type": "scattermapbox"
        }
       ],
       "layout": {
        "legend": {
         "tracegroupgap": 0
        },
        "mapbox": {
         "center": {
          "lat": 45.7035544,
          "lon": 3.6428000285714295
         },
         "domain": {
          "x": [
           0,
           1
          ],
          "y": [
           0,
           1
          ]
         },
         "style": "open-street-map",
         "zoom": 4
        },
        "template": {
         "data": {
          "bar": [
           {
            "error_x": {
             "color": "#2a3f5f"
            },
            "error_y": {
             "color": "#2a3f5f"
            },
            "marker": {
             "line": {
              "color": "#E5ECF6",
              "width": 0.5
             },
             "pattern": {
              "fillmode": "overlay",
              "size": 10,
              "solidity": 0.2
             }
            },
            "type": "bar"
           }
          ],
          "barpolar": [
           {
            "marker": {
             "line": {
              "color": "#E5ECF6",
              "width": 0.5
             },
             "pattern": {
              "fillmode": "overlay",
              "size": 10,
              "solidity": 0.2
             }
            },
            "type": "barpolar"
           }
          ],
          "carpet": [
           {
            "aaxis": {
             "endlinecolor": "#2a3f5f",
             "gridcolor": "white",
             "linecolor": "white",
             "minorgridcolor": "white",
             "startlinecolor": "#2a3f5f"
            },
            "baxis": {
             "endlinecolor": "#2a3f5f",
             "gridcolor": "white",
             "linecolor": "white",
             "minorgridcolor": "white",
             "startlinecolor": "#2a3f5f"
            },
            "type": "carpet"
           }
          ],
          "choropleth": [
           {
            "colorbar": {
             "outlinewidth": 0,
             "ticks": ""
            },
            "type": "choropleth"
           }
          ],
          "contour": [
           {
            "colorbar": {
             "outlinewidth": 0,
             "ticks": ""
            },
            "colorscale": [
             [
              0,
              "#0d0887"
             ],
             [
              0.1111111111111111,
              "#46039f"
             ],
             [
              0.2222222222222222,
              "#7201a8"
             ],
             [
              0.3333333333333333,
              "#9c179e"
             ],
             [
              0.4444444444444444,
              "#bd3786"
             ],
             [
              0.5555555555555556,
              "#d8576b"
             ],
             [
              0.6666666666666666,
              "#ed7953"
             ],
             [
              0.7777777777777778,
              "#fb9f3a"
             ],
             [
              0.8888888888888888,
              "#fdca26"
             ],
             [
              1,
              "#f0f921"
             ]
            ],
            "type": "contour"
           }
          ],
          "contourcarpet": [
           {
            "colorbar": {
             "outlinewidth": 0,
             "ticks": ""
            },
            "type": "contourcarpet"
           }
          ],
          "heatmap": [
           {
            "colorbar": {
             "outlinewidth": 0,
             "ticks": ""
            },
            "colorscale": [
             [
              0,
              "#0d0887"
             ],
             [
              0.1111111111111111,
              "#46039f"
             ],
             [
              0.2222222222222222,
              "#7201a8"
             ],
             [
              0.3333333333333333,
              "#9c179e"
             ],
             [
              0.4444444444444444,
              "#bd3786"
             ],
             [
              0.5555555555555556,
              "#d8576b"
             ],
             [
              0.6666666666666666,
              "#ed7953"
             ],
             [
              0.7777777777777778,
              "#fb9f3a"
             ],
             [
              0.8888888888888888,
              "#fdca26"
             ],
             [
              1,
              "#f0f921"
             ]
            ],
            "type": "heatmap"
           }
          ],
          "heatmapgl": [
           {
            "colorbar": {
             "outlinewidth": 0,
             "ticks": ""
            },
            "colorscale": [
             [
              0,
              "#0d0887"
             ],
             [
              0.1111111111111111,
              "#46039f"
             ],
             [
              0.2222222222222222,
              "#7201a8"
             ],
             [
              0.3333333333333333,
              "#9c179e"
             ],
             [
              0.4444444444444444,
              "#bd3786"
             ],
             [
              0.5555555555555556,
              "#d8576b"
             ],
             [
              0.6666666666666666,
              "#ed7953"
             ],
             [
              0.7777777777777778,
              "#fb9f3a"
             ],
             [
              0.8888888888888888,
              "#fdca26"
             ],
             [
              1,
              "#f0f921"
             ]
            ],
            "type": "heatmapgl"
           }
          ],
          "histogram": [
           {
            "marker": {
             "pattern": {
              "fillmode": "overlay",
              "size": 10,
              "solidity": 0.2
             }
            },
            "type": "histogram"
           }
          ],
          "histogram2d": [
           {
            "colorbar": {
             "outlinewidth": 0,
             "ticks": ""
            },
            "colorscale": [
             [
              0,
              "#0d0887"
             ],
             [
              0.1111111111111111,
              "#46039f"
             ],
             [
              0.2222222222222222,
              "#7201a8"
             ],
             [
              0.3333333333333333,
              "#9c179e"
             ],
             [
              0.4444444444444444,
              "#bd3786"
             ],
             [
              0.5555555555555556,
              "#d8576b"
             ],
             [
              0.6666666666666666,
              "#ed7953"
             ],
             [
              0.7777777777777778,
              "#fb9f3a"
             ],
             [
              0.8888888888888888,
              "#fdca26"
             ],
             [
              1,
              "#f0f921"
             ]
            ],
            "type": "histogram2d"
           }
          ],
          "histogram2dcontour": [
           {
            "colorbar": {
             "outlinewidth": 0,
             "ticks": ""
            },
            "colorscale": [
             [
              0,
              "#0d0887"
             ],
             [
              0.1111111111111111,
              "#46039f"
             ],
             [
              0.2222222222222222,
              "#7201a8"
             ],
             [
              0.3333333333333333,
              "#9c179e"
             ],
             [
              0.4444444444444444,
              "#bd3786"
             ],
             [
              0.5555555555555556,
              "#d8576b"
             ],
             [
              0.6666666666666666,
              "#ed7953"
             ],
             [
              0.7777777777777778,
              "#fb9f3a"
             ],
             [
              0.8888888888888888,
              "#fdca26"
             ],
             [
              1,
              "#f0f921"
             ]
            ],
            "type": "histogram2dcontour"
           }
          ],
          "mesh3d": [
           {
            "colorbar": {
             "outlinewidth": 0,
             "ticks": ""
            },
            "type": "mesh3d"
           }
          ],
          "parcoords": [
           {
            "line": {
             "colorbar": {
              "outlinewidth": 0,
              "ticks": ""
             }
            },
            "type": "parcoords"
           }
          ],
          "pie": [
           {
            "automargin": true,
            "type": "pie"
           }
          ],
          "scatter": [
           {
            "fillpattern": {
             "fillmode": "overlay",
             "size": 10,
             "solidity": 0.2
            },
            "type": "scatter"
           }
          ],
          "scatter3d": [
           {
            "line": {
             "colorbar": {
              "outlinewidth": 0,
              "ticks": ""
             }
            },
            "marker": {
             "colorbar": {
              "outlinewidth": 0,
              "ticks": ""
             }
            },
            "type": "scatter3d"
           }
          ],
          "scattercarpet": [
           {
            "marker": {
             "colorbar": {
              "outlinewidth": 0,
              "ticks": ""
             }
            },
            "type": "scattercarpet"
           }
          ],
          "scattergeo": [
           {
            "marker": {
             "colorbar": {
              "outlinewidth": 0,
              "ticks": ""
             }
            },
            "type": "scattergeo"
           }
          ],
          "scattergl": [
           {
            "marker": {
             "colorbar": {
              "outlinewidth": 0,
              "ticks": ""
             }
            },
            "type": "scattergl"
           }
          ],
          "scattermapbox": [
           {
            "marker": {
             "colorbar": {
              "outlinewidth": 0,
              "ticks": ""
             }
            },
            "type": "scattermapbox"
           }
          ],
          "scatterpolar": [
           {
            "marker": {
             "colorbar": {
              "outlinewidth": 0,
              "ticks": ""
             }
            },
            "type": "scatterpolar"
           }
          ],
          "scatterpolargl": [
           {
            "marker": {
             "colorbar": {
              "outlinewidth": 0,
              "ticks": ""
             }
            },
            "type": "scatterpolargl"
           }
          ],
          "scatterternary": [
           {
            "marker": {
             "colorbar": {
              "outlinewidth": 0,
              "ticks": ""
             }
            },
            "type": "scatterternary"
           }
          ],
          "surface": [
           {
            "colorbar": {
             "outlinewidth": 0,
             "ticks": ""
            },
            "colorscale": [
             [
              0,
              "#0d0887"
             ],
             [
              0.1111111111111111,
              "#46039f"
             ],
             [
              0.2222222222222222,
              "#7201a8"
             ],
             [
              0.3333333333333333,
              "#9c179e"
             ],
             [
              0.4444444444444444,
              "#bd3786"
             ],
             [
              0.5555555555555556,
              "#d8576b"
             ],
             [
              0.6666666666666666,
              "#ed7953"
             ],
             [
              0.7777777777777778,
              "#fb9f3a"
             ],
             [
              0.8888888888888888,
              "#fdca26"
             ],
             [
              1,
              "#f0f921"
             ]
            ],
            "type": "surface"
           }
          ],
          "table": [
           {
            "cells": {
             "fill": {
              "color": "#EBF0F8"
             },
             "line": {
              "color": "white"
             }
            },
            "header": {
             "fill": {
              "color": "#C8D4E3"
             },
             "line": {
              "color": "white"
             }
            },
            "type": "table"
           }
          ]
         },
         "layout": {
          "annotationdefaults": {
           "arrowcolor": "#2a3f5f",
           "arrowhead": 0,
           "arrowwidth": 1
          },
          "autotypenumbers": "strict",
          "coloraxis": {
           "colorbar": {
            "outlinewidth": 0,
            "ticks": ""
           }
          },
          "colorscale": {
           "diverging": [
            [
             0,
             "#8e0152"
            ],
            [
             0.1,
             "#c51b7d"
            ],
            [
             0.2,
             "#de77ae"
            ],
            [
             0.3,
             "#f1b6da"
            ],
            [
             0.4,
             "#fde0ef"
            ],
            [
             0.5,
             "#f7f7f7"
            ],
            [
             0.6,
             "#e6f5d0"
            ],
            [
             0.7,
             "#b8e186"
            ],
            [
             0.8,
             "#7fbc41"
            ],
            [
             0.9,
             "#4d9221"
            ],
            [
             1,
             "#276419"
            ]
           ],
           "sequential": [
            [
             0,
             "#0d0887"
            ],
            [
             0.1111111111111111,
             "#46039f"
            ],
            [
             0.2222222222222222,
             "#7201a8"
            ],
            [
             0.3333333333333333,
             "#9c179e"
            ],
            [
             0.4444444444444444,
             "#bd3786"
            ],
            [
             0.5555555555555556,
             "#d8576b"
            ],
            [
             0.6666666666666666,
             "#ed7953"
            ],
            [
             0.7777777777777778,
             "#fb9f3a"
            ],
            [
             0.8888888888888888,
             "#fdca26"
            ],
            [
             1,
             "#f0f921"
            ]
           ],
           "sequentialminus": [
            [
             0,
             "#0d0887"
            ],
            [
             0.1111111111111111,
             "#46039f"
            ],
            [
             0.2222222222222222,
             "#7201a8"
            ],
            [
             0.3333333333333333,
             "#9c179e"
            ],
            [
             0.4444444444444444,
             "#bd3786"
            ],
            [
             0.5555555555555556,
             "#d8576b"
            ],
            [
             0.6666666666666666,
             "#ed7953"
            ],
            [
             0.7777777777777778,
             "#fb9f3a"
            ],
            [
             0.8888888888888888,
             "#fdca26"
            ],
            [
             1,
             "#f0f921"
            ]
           ]
          },
          "colorway": [
           "#636efa",
           "#EF553B",
           "#00cc96",
           "#ab63fa",
           "#FFA15A",
           "#19d3f3",
           "#FF6692",
           "#B6E880",
           "#FF97FF",
           "#FECB52"
          ],
          "font": {
           "color": "#2a3f5f"
          },
          "geo": {
           "bgcolor": "white",
           "lakecolor": "white",
           "landcolor": "#E5ECF6",
           "showlakes": true,
           "showland": true,
           "subunitcolor": "white"
          },
          "hoverlabel": {
           "align": "left"
          },
          "hovermode": "closest",
          "mapbox": {
           "style": "light"
          },
          "paper_bgcolor": "white",
          "plot_bgcolor": "#E5ECF6",
          "polar": {
           "angularaxis": {
            "gridcolor": "white",
            "linecolor": "white",
            "ticks": ""
           },
           "bgcolor": "#E5ECF6",
           "radialaxis": {
            "gridcolor": "white",
            "linecolor": "white",
            "ticks": ""
           }
          },
          "scene": {
           "xaxis": {
            "backgroundcolor": "#E5ECF6",
            "gridcolor": "white",
            "gridwidth": 2,
            "linecolor": "white",
            "showbackground": true,
            "ticks": "",
            "zerolinecolor": "white"
           },
           "yaxis": {
            "backgroundcolor": "#E5ECF6",
            "gridcolor": "white",
            "gridwidth": 2,
            "linecolor": "white",
            "showbackground": true,
            "ticks": "",
            "zerolinecolor": "white"
           },
           "zaxis": {
            "backgroundcolor": "#E5ECF6",
            "gridcolor": "white",
            "gridwidth": 2,
            "linecolor": "white",
            "showbackground": true,
            "ticks": "",
            "zerolinecolor": "white"
           }
          },
          "shapedefaults": {
           "line": {
            "color": "#2a3f5f"
           }
          },
          "ternary": {
           "aaxis": {
            "gridcolor": "white",
            "linecolor": "white",
            "ticks": ""
           },
           "baxis": {
            "gridcolor": "white",
            "linecolor": "white",
            "ticks": ""
           },
           "bgcolor": "#E5ECF6",
           "caxis": {
            "gridcolor": "white",
            "linecolor": "white",
            "ticks": ""
           }
          },
          "title": {
           "x": 0.05
          },
          "xaxis": {
           "automargin": true,
           "gridcolor": "white",
           "linecolor": "white",
           "ticks": "",
           "title": {
            "standoff": 15
           },
           "zerolinecolor": "white",
           "zerolinewidth": 2
          },
          "yaxis": {
           "automargin": true,
           "gridcolor": "white",
           "linecolor": "white",
           "ticks": "",
           "title": {
            "standoff": 15
           },
           "zerolinecolor": "white",
           "zerolinewidth": 2
          }
         }
        },
        "title": {
         "text": "Verification si mes coordonnées reçues sont bien en France"
        }
       }
      }
     },
     "metadata": {},
     "output_type": "display_data"
    }
   ],
   "source": [
    "import plotly.express as px\n",
    "fig = px.scatter_mapbox(df, lat=\"Latitude\", lon=\"Longitude\", text=\"Ville\",\n",
    "                        zoom=4, \n",
    "                        mapbox_style=\"open-street-map\",\n",
    "                        title=\"Verification si mes coordonnées reçues sont bien en France\")\n",
    "fig.update_traces(marker=dict(size=12))\n",
    "fig.show()"
   ]
  },
  {
   "cell_type": "markdown",
   "metadata": {},
   "source": [
    "### Get weather infos"
   ]
  },
  {
   "cell_type": "code",
   "execution_count": 12,
   "metadata": {},
   "outputs": [
    {
     "name": "stdout",
     "output_type": "stream",
     "text": [
      "{'type': 'FeatureCollection', 'features': [{'type': 'Feature', 'geometry': {'type': 'Point', 'coordinates': [5.995538, 45.546586]}, 'properties': {'label': 'Mont Saint Michel 73190 Challes-les-Eaux', 'score': 0.9464936363636363, 'type': 'locality', 'importance': 0.41143, 'id': '73064_B039', 'banId': 'f67c5810-39e4-4a3d-a92c-89380b8e6ab3', 'name': 'Mont Saint Michel', 'postcode': '73190', 'citycode': '73064', 'x': 933687.63, 'y': 6498554.9, 'city': 'Challes-les-Eaux', 'context': '73, Savoie, Auvergne-Rhône-Alpes', 'locality': 'Mont Saint Michel', '_type': 'address'}}, {'type': 'Feature', 'geometry': {'type': 'Point', 'coordinates': [-1.538198, 47.243963]}, 'properties': {'label': 'Avenue du Mont Saint Michel 44300 Nantes', 'score': 0.6999336363636363, 'id': '44109_5785', 'banId': 'bfc8760b-6503-436a-b194-96398ee4dd18', 'name': 'Avenue du Mont Saint Michel', 'postcode': '44300', 'citycode': '44109', 'x': 356904.59, 'y': 6692490.84, 'city': 'Nantes', 'context': '44, Loire-Atlantique, Pays de la Loire', 'type': 'street', 'importance': 0.69927, 'street': 'Avenue du Mont Saint Michel', '_type': 'address'}}, {'type': 'Feature', 'geometry': {'type': 'Point', 'coordinates': [5.880527, 45.5847]}, 'properties': {'label': 'Rue du Mont-Saint-Michel 73000 Chambéry', 'score': 0.6959999999999998, 'id': '73065_2730', 'banId': '6b5e2784-0aa9-4e9e-81bc-ad488ddea5b8', 'name': 'Rue du Mont-Saint-Michel', 'postcode': '73000', 'citycode': '73065', 'x': 924565.09, 'y': 6502450.91, 'city': 'Chambéry', 'context': '73, Savoie, Auvergne-Rhône-Alpes', 'type': 'street', 'importance': 0.656, 'street': 'Rue du Mont-Saint-Michel', '_type': 'address'}}, {'type': 'Feature', 'geometry': {'type': 'Point', 'coordinates': [-0.585062, 48.742556]}, 'properties': {'label': 'Rue du Mont Saint Michel 61100 Flers', 'score': 0.6944836363636363, 'id': '61169_0980', 'banId': 'd06878bc-f53f-4d60-b503-62512fcb9720', 'name': 'Rue du Mont Saint Michel', 'postcode': '61100', 'citycode': '61169', 'x': 436465.42, 'y': 6855143.35, 'city': 'Flers', 'context': '61, Orne, Normandie', 'type': 'street', 'importance': 0.63932, 'street': 'Rue du Mont Saint Michel', '_type': 'address'}}, {'type': 'Feature', 'geometry': {'type': 'Point', 'coordinates': [0.610109, 48.757856]}, 'properties': {'label': \"Avenue du Mont Saint Michel 61300 L'Aigle\", 'score': 0.6932754545454544, 'id': '61214_0795', 'banId': 'ff8d25bd-f8cb-4e3d-b607-135d2b860889', 'name': 'Avenue du Mont Saint Michel', 'postcode': '61300', 'citycode': '61214', 'x': 524339.27, 'y': 6853519.42, 'city': \"L'Aigle\", 'context': '61, Orne, Normandie', 'type': 'street', 'importance': 0.62603, 'street': 'Avenue du Mont Saint Michel', '_type': 'address'}}, {'type': 'Feature', 'geometry': {'type': 'Point', 'coordinates': [-1.62882, 48.186935]}, 'properties': {'label': 'Rue du Mont Saint-Michel 35830 Betton', 'score': 0.6927772727272726, 'id': '35024_0087', 'banId': '2adea861-977d-49ec-b764-eea1aeb7affd', 'name': 'Rue du Mont Saint-Michel', 'postcode': '35830', 'citycode': '35024', 'x': 356199.27, 'y': 6797477.34, 'city': 'Betton', 'context': '35, Ille-et-Vilaine, Bretagne', 'type': 'street', 'importance': 0.62055, 'street': 'Rue du Mont Saint-Michel', '_type': 'address'}}, {'type': 'Feature', 'geometry': {'type': 'Point', 'coordinates': [4.344994, 48.9456]}, 'properties': {'label': 'Rue du Mont-Saint-Michel 51000 Châlons-en-Champagne', 'score': 0.6919527272727272, 'id': '51108_2380', 'name': 'Rue du Mont-Saint-Michel', 'postcode': '51000', 'citycode': '51108', 'x': 798513.9, 'y': 6872576.08, 'city': 'Châlons-en-Champagne', 'context': '51, Marne, Grand Est', 'type': 'street', 'importance': 0.61148, 'street': 'Rue du Mont-Saint-Michel', '_type': 'address'}}, {'type': 'Feature', 'geometry': {'type': 'Point', 'coordinates': [2.313508, 51.012418]}, 'properties': {'label': 'Rue du Mont Saint Michel 59760 Grande-Synthe', 'score': 0.6916072727272726, 'id': '59271_0479', 'banId': '7128fccc-22ff-4006-80fe-2d54c87bfa12', 'name': 'Rue du Mont Saint Michel', 'postcode': '59760', 'citycode': '59271', 'x': 651716.73, 'y': 7102059, 'city': 'Grande-Synthe', 'context': '59, Nord, Hauts-de-France', 'type': 'street', 'importance': 0.60768, 'street': 'Rue du Mont Saint Michel', '_type': 'address'}}, {'type': 'Feature', 'geometry': {'type': 'Point', 'coordinates': [-1.471481, 48.965123]}, 'properties': {'label': 'Rue du Mont Saint Michel 50660 Quettreville-sur-Sienne', 'score': 0.6894090909090909, 'id': '50419_0075', 'banId': 'c49bbd44-fec3-434d-b183-2f475aa2a16a', 'name': 'Rue du Mont Saint Michel', 'postcode': '50660', 'citycode': '50419', 'oldcitycode': '50419', 'x': 372769.03, 'y': 6883175.79, 'city': 'Quettreville-sur-Sienne', 'oldcity': 'Quettreville-sur-Sienne', 'context': '50, Manche, Normandie', 'type': 'street', 'importance': 0.5835, 'street': 'Rue du Mont Saint Michel', '_type': 'address'}}, {'type': 'Feature', 'geometry': {'type': 'Point', 'coordinates': [-0.669784, 48.584713]}, 'properties': {'label': 'route du mont saint michel 61700 Domfront en Poiraie', 'score': 0.6888099999999999, 'id': '61145_3055', 'banId': '3b689801-0032-4301-9127-bb229e028927', 'name': 'route du mont saint michel', 'postcode': '61700', 'citycode': '61145', 'oldcitycode': '61145', 'x': 429426.75, 'y': 6837899.98, 'city': 'Domfront en Poiraie', 'oldcity': 'Domfront', 'context': '61, Orne, Normandie', 'type': 'street', 'importance': 0.57691, 'street': 'route du mont saint michel', '_type': 'address'}}]}\n"
     ]
    }
   ],
   "source": [
    "base_weather_url = 'https://api.openweathermap.org/data/2.5/onecall?'\n",
    "\n",
    "def get_weather(lat, lon):\n",
    "    params = {\n",
    "        'lat': lat,\n",
    "        'lon': lon,\n",
    "        'appid': '3f80d368ad5b5238c109fb9243411a4d',\n",
    "        'units': 'metric',\n",
    "        'exclude':['current','minutely','hourly','alerts']  \n",
    "    }\n",
    "    \n",
    "    response = requests.get(base_weather_url, params=params)\n",
    "    return response.json() if response.status_code == 200 else None\n",
    "\n",
    "print(response.json())\n",
    "\n"
   ]
  },
  {
   "cell_type": "code",
   "execution_count": 14,
   "metadata": {},
   "outputs": [
    {
     "name": "stdout",
     "output_type": "stream",
     "text": [
      "None\n"
     ]
    }
   ],
   "source": [
    "# Test with the first city\n",
    "test_city = df.iloc[0]\n",
    "weather_data = get_weather(test_city['Latitude'], test_city['Longitude'])\n",
    "print(weather_data)"
   ]
  },
  {
   "cell_type": "code",
   "execution_count": null,
   "metadata": {},
   "outputs": [],
   "source": []
  }
 ],
 "metadata": {
  "kernelspec": {
   "display_name": "base",
   "language": "python",
   "name": "python3"
  },
  "language_info": {
   "codemirror_mode": {
    "name": "ipython",
    "version": 3
   },
   "file_extension": ".py",
   "mimetype": "text/x-python",
   "name": "python",
   "nbconvert_exporter": "python",
   "pygments_lexer": "ipython3",
   "version": "3.12.4"
  }
 },
 "nbformat": 4,
 "nbformat_minor": 2
}
