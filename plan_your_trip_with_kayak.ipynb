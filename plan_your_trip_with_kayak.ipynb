{
 "cells": [
  {
   "cell_type": "markdown",
   "metadata": {},
   "source": [
    "# Project\n",
    "- 70% des utilisateurs souhaitent plus d'informations à propos de leur destination\n",
    "- Chercher les meilleures villes en fonction de la météo \n",
    "- Proposer des hôtels sur ces villes"
   ]
  },
  {
   "cell_type": "code",
   "execution_count": 1,
   "metadata": {},
   "outputs": [],
   "source": [
    "import requests\n",
    "import json\n",
    "import pandas as pd\n",
    "import os\n",
    "from dotenv import load_dotenv  "
   ]
  },
  {
   "cell_type": "markdown",
   "metadata": {},
   "source": [
    "# Récupération des coordonnées GPS des 35 meilleures villes où voyager en France selon One Week In.com"
   ]
  },
  {
   "cell_type": "markdown",
   "metadata": {},
   "source": [
    "### Test de l'API sur une ville pour voir si l'API renvoie bien quelque chose"
   ]
  },
  {
   "cell_type": "code",
   "execution_count": 2,
   "metadata": {},
   "outputs": [],
   "source": [
    "url = 'https://data.geopf.fr/geocodage/search'"
   ]
  },
  {
   "cell_type": "code",
   "execution_count": 3,
   "metadata": {},
   "outputs": [
    {
     "data": {
      "text/plain": [
       "{'type': 'FeatureCollection',\n",
       " 'features': [{'type': 'Feature',\n",
       "   'geometry': {'type': 'Point', 'coordinates': [5.995538, 45.546586]},\n",
       "   'properties': {'label': 'Mont Saint Michel 73190 Challes-les-Eaux',\n",
       "    'score': 0.946500909090909,\n",
       "    'type': 'locality',\n",
       "    'importance': 0.41151,\n",
       "    'id': '73064_B039',\n",
       "    'banId': 'f67c5810-39e4-4a3d-a92c-89380b8e6ab3',\n",
       "    'name': 'Mont Saint Michel',\n",
       "    'postcode': '73190',\n",
       "    'citycode': '73064',\n",
       "    'x': 933687.63,\n",
       "    'y': 6498554.9,\n",
       "    'city': 'Challes-les-Eaux',\n",
       "    'context': '73, Savoie, Auvergne-Rhône-Alpes',\n",
       "    'locality': 'Mont Saint Michel',\n",
       "    '_type': 'address'}},\n",
       "  {'type': 'Feature',\n",
       "   'geometry': {'type': 'Point', 'coordinates': [-1.538198, 47.243963]},\n",
       "   'properties': {'label': 'Avenue du Mont Saint Michel 44300 Nantes',\n",
       "    'score': 0.6999590909090908,\n",
       "    'id': '44109_5785',\n",
       "    'banId': 'bfc8760b-6503-436a-b194-96398ee4dd18',\n",
       "    'name': 'Avenue du Mont Saint Michel',\n",
       "    'postcode': '44300',\n",
       "    'citycode': '44109',\n",
       "    'x': 356904.59,\n",
       "    'y': 6692490.84,\n",
       "    'city': 'Nantes',\n",
       "    'context': '44, Loire-Atlantique, Pays de la Loire',\n",
       "    'type': 'street',\n",
       "    'importance': 0.69955,\n",
       "    'street': 'Avenue du Mont Saint Michel',\n",
       "    '_type': 'address'}},\n",
       "  {'type': 'Feature',\n",
       "   'geometry': {'type': 'Point', 'coordinates': [5.880527, 45.5847]},\n",
       "   'properties': {'label': 'Rue du Mont-Saint-Michel 73000 Chambéry',\n",
       "    'score': 0.6960299999999999,\n",
       "    'id': '73065_2730',\n",
       "    'banId': '6b5e2784-0aa9-4e9e-81bc-ad488ddea5b8',\n",
       "    'name': 'Rue du Mont-Saint-Michel',\n",
       "    'postcode': '73000',\n",
       "    'citycode': '73065',\n",
       "    'x': 924565.09,\n",
       "    'y': 6502450.91,\n",
       "    'city': 'Chambéry',\n",
       "    'context': '73, Savoie, Auvergne-Rhône-Alpes',\n",
       "    'type': 'street',\n",
       "    'importance': 0.65633,\n",
       "    'street': 'Rue du Mont-Saint-Michel',\n",
       "    '_type': 'address'}},\n",
       "  {'type': 'Feature',\n",
       "   'geometry': {'type': 'Point', 'coordinates': [-0.585062, 48.742556]},\n",
       "   'properties': {'label': 'Rue du Mont Saint Michel 61100 Flers',\n",
       "    'score': 0.6944281818181818,\n",
       "    'id': '61169_0980',\n",
       "    'banId': 'd06878bc-f53f-4d60-b503-62512fcb9720',\n",
       "    'name': 'Rue du Mont Saint Michel',\n",
       "    'postcode': '61100',\n",
       "    'citycode': '61169',\n",
       "    'x': 436465.42,\n",
       "    'y': 6855143.35,\n",
       "    'city': 'Flers',\n",
       "    'context': '61, Orne, Normandie',\n",
       "    'type': 'street',\n",
       "    'importance': 0.63871,\n",
       "    'street': 'Rue du Mont Saint Michel',\n",
       "    '_type': 'address'}},\n",
       "  {'type': 'Feature',\n",
       "   'geometry': {'type': 'Point', 'coordinates': [0.610109, 48.757856]},\n",
       "   'properties': {'label': \"Avenue du Mont Saint Michel 61300 L'Aigle\",\n",
       "    'score': 0.6932445454545454,\n",
       "    'id': '61214_0795',\n",
       "    'banId': 'ff8d25bd-f8cb-4e3d-b607-135d2b860889',\n",
       "    'name': 'Avenue du Mont Saint Michel',\n",
       "    'postcode': '61300',\n",
       "    'citycode': '61214',\n",
       "    'x': 524339.27,\n",
       "    'y': 6853519.42,\n",
       "    'city': \"L'Aigle\",\n",
       "    'context': '61, Orne, Normandie',\n",
       "    'type': 'street',\n",
       "    'importance': 0.62569,\n",
       "    'street': 'Avenue du Mont Saint Michel',\n",
       "    '_type': 'address'}},\n",
       "  {'type': 'Feature',\n",
       "   'geometry': {'type': 'Point', 'coordinates': [-1.62882, 48.186935]},\n",
       "   'properties': {'label': 'Rue du Mont Saint-Michel 35830 Betton',\n",
       "    'score': 0.6928063636363635,\n",
       "    'id': '35024_0087',\n",
       "    'banId': '2adea861-977d-49ec-b764-eea1aeb7affd',\n",
       "    'name': 'Rue du Mont Saint-Michel',\n",
       "    'postcode': '35830',\n",
       "    'citycode': '35024',\n",
       "    'x': 356199.27,\n",
       "    'y': 6797477.34,\n",
       "    'city': 'Betton',\n",
       "    'context': '35, Ille-et-Vilaine, Bretagne',\n",
       "    'type': 'street',\n",
       "    'importance': 0.62087,\n",
       "    'street': 'Rue du Mont Saint-Michel',\n",
       "    '_type': 'address'}},\n",
       "  {'type': 'Feature',\n",
       "   'geometry': {'type': 'Point', 'coordinates': [4.344994, 48.9456]},\n",
       "   'properties': {'label': 'Rue du Mont-Saint-Michel 51000 Châlons-en-Champagne',\n",
       "    'score': 0.6918845454545454,\n",
       "    'id': '51108_2380',\n",
       "    'name': 'Rue du Mont-Saint-Michel',\n",
       "    'postcode': '51000',\n",
       "    'citycode': '51108',\n",
       "    'x': 798513.9,\n",
       "    'y': 6872576.08,\n",
       "    'city': 'Châlons-en-Champagne',\n",
       "    'context': '51, Marne, Grand Est',\n",
       "    'type': 'street',\n",
       "    'importance': 0.61073,\n",
       "    'street': 'Rue du Mont-Saint-Michel',\n",
       "    '_type': 'address'}},\n",
       "  {'type': 'Feature',\n",
       "   'geometry': {'type': 'Point', 'coordinates': [2.313508, 51.012418]},\n",
       "   'properties': {'label': 'Rue du Mont Saint Michel 59760 Grande-Synthe',\n",
       "    'score': 0.691610909090909,\n",
       "    'id': '59271_0479',\n",
       "    'banId': '7128fccc-22ff-4006-80fe-2d54c87bfa12',\n",
       "    'name': 'Rue du Mont Saint Michel',\n",
       "    'postcode': '59760',\n",
       "    'citycode': '59271',\n",
       "    'x': 651716.73,\n",
       "    'y': 7102059,\n",
       "    'city': 'Grande-Synthe',\n",
       "    'context': '59, Nord, Hauts-de-France',\n",
       "    'type': 'street',\n",
       "    'importance': 0.60772,\n",
       "    'street': 'Rue du Mont Saint Michel',\n",
       "    '_type': 'address'}},\n",
       "  {'type': 'Feature',\n",
       "   'geometry': {'type': 'Point', 'coordinates': [-1.471704, 48.965082]},\n",
       "   'properties': {'label': 'Rue du Mont Saint Michel 50660 Quettreville-sur-Sienne',\n",
       "    'score': 0.6893990909090908,\n",
       "    'id': '50419_0075',\n",
       "    'banId': 'c49bbd44-fec3-434d-b183-2f475aa2a16a',\n",
       "    'name': 'Rue du Mont Saint Michel',\n",
       "    'postcode': '50660',\n",
       "    'citycode': '50419',\n",
       "    'oldcitycode': '50419',\n",
       "    'x': 372752.47,\n",
       "    'y': 6883172.16,\n",
       "    'city': 'Quettreville-sur-Sienne',\n",
       "    'oldcity': 'Quettreville-sur-Sienne',\n",
       "    'context': '50, Manche, Normandie',\n",
       "    'type': 'street',\n",
       "    'importance': 0.58339,\n",
       "    'street': 'Rue du Mont Saint Michel',\n",
       "    '_type': 'address'}},\n",
       "  {'type': 'Feature',\n",
       "   'geometry': {'type': 'Point', 'coordinates': [-0.669784, 48.584713]},\n",
       "   'properties': {'label': 'route du mont saint michel 61700 Domfront en Poiraie',\n",
       "    'score': 0.6887836363636363,\n",
       "    'id': '61145_3055',\n",
       "    'banId': '3b689801-0032-4301-9127-bb229e028927',\n",
       "    'name': 'route du mont saint michel',\n",
       "    'postcode': '61700',\n",
       "    'citycode': '61145',\n",
       "    'oldcitycode': '61145',\n",
       "    'x': 429426.75,\n",
       "    'y': 6837899.98,\n",
       "    'city': 'Domfront en Poiraie',\n",
       "    'oldcity': 'Domfront',\n",
       "    'context': '61, Orne, Normandie',\n",
       "    'type': 'street',\n",
       "    'importance': 0.57662,\n",
       "    'street': 'route du mont saint michel',\n",
       "    '_type': 'address'}}]}"
      ]
     },
     "execution_count": 3,
     "metadata": {},
     "output_type": "execute_result"
    }
   ],
   "source": [
    "headers = {\n",
    "    'User-Agent': 'Mozilla/5.0 (Windows NT 10.0; Win64; x64) AppleWebKit/537.36 (KHTML, like Gecko) Chrome/58.0.3029.110 Safari/537.3 ',\n",
    "    \"Accept-Language\": \"fr-FR,fr;q=0.9\"\n",
    "}\n",
    "\n",
    "payload = {\n",
    "    'q': 'Mont Saint Michel', 'France'\n",
    "    'city': 'Mont Saint Michel',\n",
    "    'format': 'json'\n",
    "}\n",
    "\n",
    "response = requests.get(url=url, params=payload, headers=headers)\n",
    "response.json()\n"
   ]
  },
  {
   "cell_type": "markdown",
   "metadata": {},
   "source": [
    "### L'API répond, du coup on extrait les coordonnées GPS des 35 villes "
   ]
  },
  {
   "cell_type": "code",
   "execution_count": 4,
   "metadata": {},
   "outputs": [],
   "source": [
    "# Liste des villes à interroger\n",
    "villes = [\"Mont Saint Michel\",\n",
    "\"St Malo\",\n",
    "\"Bayeux\",\n",
    "\"Le Havre\",\n",
    "\"Rouen\",\n",
    "\"Paris\",\n",
    "\"Amiens\",\n",
    "\"Lille\",\n",
    "\"Strasbourg\",\n",
    "\"Chateau du Haut Koenigsbourg\",\n",
    "\"Colmar\",\n",
    "\"Eguisheim\",\n",
    "\"Besancon\",\n",
    "\"Dijon\",\n",
    "\"Annecy\",\n",
    "\"Grenoble\",\n",
    "\"Lyon\",\n",
    "\"Gorges du Verdon\",\n",
    "\"Bormes les Mimosas\",\n",
    "\"Cassis\",\n",
    "\"Marseille\",\n",
    "\"Aix en Provence\",\n",
    "\"Avignon\",\n",
    "\"Uzes\",\n",
    "\"Nimes\",\n",
    "\"Aigues Mortes\",\n",
    "\"Saintes Maries de la mer\",\n",
    "\"Collioure\",\n",
    "\"Carcassonne\",\n",
    "\"Ariege\",\n",
    "\"Toulouse\",\n",
    "\"Montauban\",\n",
    "\"Biarritz\",\n",
    "\"Bayonne\",\n",
    "\"La Rochelle\"]\n",
    "\n",
    "\n",
    "\n",
    "base_url = \"https://data.geopf.fr/geocodage/search?\"\n",
    "\n",
    "\n",
    "def get_coordinates(ville):\n",
    "    \n",
    "    params = {\n",
    "        'q': ville,\n",
    "        'limit': 1,\n",
    "        'index':'poi'\n",
    "    }\n",
    "    \n",
    "    response = requests.get(base_url, params=params)\n",
    "    \n",
    "    if response.status_code == 200:\n",
    "        data = response.json()\n",
    "        if data['features']:\n",
    "            coordinates = data['features'][0]['geometry']['coordinates']\n",
    "            return coordinates\n",
    "        else:\n",
    "            return None\n",
    "    else:\n",
    "        print(f\"Erreur lors de la requête pour {ville}: {response.status_code}\")\n",
    "        return None\n",
    "\n",
    "\n",
    "results = []\n",
    "for ville in villes:\n",
    "    coordinates = get_coordinates(ville)\n",
    "    if coordinates:\n",
    "        results.append({'Ville': ville, 'Longitude': coordinates[0], 'Latitude': coordinates[1]})\n",
    "    else:\n",
    "        results.append({'Ville': ville, 'Longitude': None, 'Latitude': None})\n"
   ]
  },
  {
   "cell_type": "code",
   "execution_count": 5,
   "metadata": {},
   "outputs": [
    {
     "data": {
      "text/plain": [
       "[5.995538, 45.546586]"
      ]
     },
     "execution_count": 5,
     "metadata": {},
     "output_type": "execute_result"
    }
   ],
   "source": [
    "response.json()['features'][0]['geometry']['coordinates'] #recherche du chemin pour extraire les coordonnées GPS"
   ]
  },
  {
   "cell_type": "markdown",
   "metadata": {},
   "source": [
    "### On met les résultats obtenus dans un dataframe"
   ]
  },
  {
   "cell_type": "code",
   "execution_count": null,
   "metadata": {},
   "outputs": [
    {
     "data": {
      "text/html": [
       "<div>\n",
       "<style scoped>\n",
       "    .dataframe tbody tr th:only-of-type {\n",
       "        vertical-align: middle;\n",
       "    }\n",
       "\n",
       "    .dataframe tbody tr th {\n",
       "        vertical-align: top;\n",
       "    }\n",
       "\n",
       "    .dataframe thead th {\n",
       "        text-align: right;\n",
       "    }\n",
       "</style>\n",
       "<table border=\"1\" class=\"dataframe\">\n",
       "  <thead>\n",
       "    <tr style=\"text-align: right;\">\n",
       "      <th></th>\n",
       "      <th>Ville</th>\n",
       "      <th>Longitude</th>\n",
       "      <th>Latitude</th>\n",
       "    </tr>\n",
       "  </thead>\n",
       "  <tbody>\n",
       "    <tr>\n",
       "      <th>0</th>\n",
       "      <td>Mont Saint Michel</td>\n",
       "      <td>7.088900</td>\n",
       "      <td>43.849841</td>\n",
       "    </tr>\n",
       "    <tr>\n",
       "      <th>1</th>\n",
       "      <td>St Malo</td>\n",
       "      <td>-2.000385</td>\n",
       "      <td>48.653039</td>\n",
       "    </tr>\n",
       "    <tr>\n",
       "      <th>2</th>\n",
       "      <td>Bayeux</td>\n",
       "      <td>-0.702368</td>\n",
       "      <td>49.277173</td>\n",
       "    </tr>\n",
       "    <tr>\n",
       "      <th>3</th>\n",
       "      <td>Le Havre</td>\n",
       "      <td>0.128407</td>\n",
       "      <td>49.493515</td>\n",
       "    </tr>\n",
       "    <tr>\n",
       "      <th>4</th>\n",
       "      <td>Rouen</td>\n",
       "      <td>1.099092</td>\n",
       "      <td>49.443440</td>\n",
       "    </tr>\n",
       "  </tbody>\n",
       "</table>\n",
       "</div>"
      ],
      "text/plain": [
       "               Ville  Longitude   Latitude\n",
       "0  Mont Saint Michel   7.088900  43.849841\n",
       "1            St Malo  -2.000385  48.653039\n",
       "2             Bayeux  -0.702368  49.277173\n",
       "3           Le Havre   0.128407  49.493515\n",
       "4              Rouen   1.099092  49.443440"
      ]
     },
     "execution_count": 6,
     "metadata": {},
     "output_type": "execute_result"
    }
   ],
   "source": [
    "df = pd.DataFrame(results) # Nous avons bien un dataframe qui contient les 35 villes et leurs coordonnées GPS\n",
    "df.head()"
   ]
  },
  {
   "cell_type": "code",
   "execution_count": 8,
   "metadata": {},
   "outputs": [
    {
     "data": {
      "text/plain": [
       "(35, 3)"
      ]
     },
     "execution_count": 8,
     "metadata": {},
     "output_type": "execute_result"
    }
   ],
   "source": [
    "df.shape # verification des dimensions savoir si on a bien 35 villes "
   ]
  },
  {
   "cell_type": "code",
   "execution_count": 9,
   "metadata": {},
   "outputs": [
    {
     "data": {
      "text/plain": [
       "Ville        False\n",
       "Longitude    False\n",
       "Latitude     False\n",
       "dtype: bool"
      ]
     },
     "execution_count": 9,
     "metadata": {},
     "output_type": "execute_result"
    }
   ],
   "source": [
    "df.isnull().any() #verification des valeurs nulles"
   ]
  },
  {
   "cell_type": "markdown",
   "metadata": {},
   "source": [
    "### On double check voir si toutes nos coordonnées GPS se situent bien en France"
   ]
  },
  {
   "cell_type": "code",
   "execution_count": 11,
   "metadata": {},
   "outputs": [
    {
     "data": {
      "application/vnd.plotly.v1+json": {
       "config": {
        "plotlyServerURL": "https://plot.ly"
       },
       "data": [
        {
         "hovertemplate": "Ville=%{text}<br>Latitude=%{lat}<br>Longitude=%{lon}<extra></extra>",
         "lat": [
          43.849841,
          48.653039,
          49.277173,
          49.493515,
          49.44344,
          48.846223,
          49.893548,
          50.634523,
          48.574811,
          48.249581,
          48.116422,
          48.03655,
          47.256814,
          47.326035,
          45.898635,
          45.180525,
          45.767678,
          43.741387,
          43.120819,
          43.213074,
          43.269776,
          43.518436,
          43.943164,
          44.014792,
          43.839648,
          43.55451,
          43.479513,
          42.515405,
          43.209017,
          42.956535,
          43.60766,
          44.022919,
          43.479116,
          43.48541,
          46.157032
         ],
         "legendgroup": "",
         "lon": [
          7.0889,
          -2.000385,
          -0.702368,
          0.128407,
          1.099092,
          2.362203,
          2.292663,
          3.052529,
          7.753827,
          7.344312,
          7.390603,
          7.294224,
          6.021017,
          5.035138,
          6.101282,
          5.725144,
          4.824068,
          6.34617,
          6.34391,
          5.540576,
          5.367037,
          5.38086,
          4.848282,
          4.411618,
          4.351788,
          4.175082,
          4.394262,
          3.075825,
          2.354437,
          1.503476,
          1.437487,
          1.366155,
          -1.564367,
          -1.467888,
          -1.185842
         ],
         "marker": {
          "color": "#636efa",
          "size": 12
         },
         "mode": "markers+text",
         "name": "",
         "showlegend": false,
         "subplot": "mapbox",
         "text": [
          "Mont Saint Michel",
          "St Malo",
          "Bayeux",
          "Le Havre",
          "Rouen",
          "Paris",
          "Amiens",
          "Lille",
          "Strasbourg",
          "Chateau du Haut Koenigsbourg",
          "Colmar",
          "Eguisheim",
          "Besancon",
          "Dijon",
          "Annecy",
          "Grenoble",
          "Lyon",
          "Gorges du Verdon",
          "Bormes les Mimosas",
          "Cassis",
          "Marseille",
          "Aix en Provence",
          "Avignon",
          "Uzes",
          "Nimes",
          "Aigues Mortes",
          "Saintes Maries de la mer",
          "Collioure",
          "Carcassonne",
          "Ariege",
          "Toulouse",
          "Montauban",
          "Biarritz",
          "Bayonne",
          "La Rochelle"
         ],
         "type": "scattermapbox"
        }
       ],
       "layout": {
        "legend": {
         "tracegroupgap": 0
        },
        "mapbox": {
         "center": {
          "lat": 45.70361617142858,
          "lon": 3.6425578285714293
         },
         "domain": {
          "x": [
           0,
           1
          ],
          "y": [
           0,
           1
          ]
         },
         "style": "open-street-map",
         "zoom": 4
        },
        "template": {
         "data": {
          "bar": [
           {
            "error_x": {
             "color": "#2a3f5f"
            },
            "error_y": {
             "color": "#2a3f5f"
            },
            "marker": {
             "line": {
              "color": "#E5ECF6",
              "width": 0.5
             },
             "pattern": {
              "fillmode": "overlay",
              "size": 10,
              "solidity": 0.2
             }
            },
            "type": "bar"
           }
          ],
          "barpolar": [
           {
            "marker": {
             "line": {
              "color": "#E5ECF6",
              "width": 0.5
             },
             "pattern": {
              "fillmode": "overlay",
              "size": 10,
              "solidity": 0.2
             }
            },
            "type": "barpolar"
           }
          ],
          "carpet": [
           {
            "aaxis": {
             "endlinecolor": "#2a3f5f",
             "gridcolor": "white",
             "linecolor": "white",
             "minorgridcolor": "white",
             "startlinecolor": "#2a3f5f"
            },
            "baxis": {
             "endlinecolor": "#2a3f5f",
             "gridcolor": "white",
             "linecolor": "white",
             "minorgridcolor": "white",
             "startlinecolor": "#2a3f5f"
            },
            "type": "carpet"
           }
          ],
          "choropleth": [
           {
            "colorbar": {
             "outlinewidth": 0,
             "ticks": ""
            },
            "type": "choropleth"
           }
          ],
          "contour": [
           {
            "colorbar": {
             "outlinewidth": 0,
             "ticks": ""
            },
            "colorscale": [
             [
              0,
              "#0d0887"
             ],
             [
              0.1111111111111111,
              "#46039f"
             ],
             [
              0.2222222222222222,
              "#7201a8"
             ],
             [
              0.3333333333333333,
              "#9c179e"
             ],
             [
              0.4444444444444444,
              "#bd3786"
             ],
             [
              0.5555555555555556,
              "#d8576b"
             ],
             [
              0.6666666666666666,
              "#ed7953"
             ],
             [
              0.7777777777777778,
              "#fb9f3a"
             ],
             [
              0.8888888888888888,
              "#fdca26"
             ],
             [
              1,
              "#f0f921"
             ]
            ],
            "type": "contour"
           }
          ],
          "contourcarpet": [
           {
            "colorbar": {
             "outlinewidth": 0,
             "ticks": ""
            },
            "type": "contourcarpet"
           }
          ],
          "heatmap": [
           {
            "colorbar": {
             "outlinewidth": 0,
             "ticks": ""
            },
            "colorscale": [
             [
              0,
              "#0d0887"
             ],
             [
              0.1111111111111111,
              "#46039f"
             ],
             [
              0.2222222222222222,
              "#7201a8"
             ],
             [
              0.3333333333333333,
              "#9c179e"
             ],
             [
              0.4444444444444444,
              "#bd3786"
             ],
             [
              0.5555555555555556,
              "#d8576b"
             ],
             [
              0.6666666666666666,
              "#ed7953"
             ],
             [
              0.7777777777777778,
              "#fb9f3a"
             ],
             [
              0.8888888888888888,
              "#fdca26"
             ],
             [
              1,
              "#f0f921"
             ]
            ],
            "type": "heatmap"
           }
          ],
          "heatmapgl": [
           {
            "colorbar": {
             "outlinewidth": 0,
             "ticks": ""
            },
            "colorscale": [
             [
              0,
              "#0d0887"
             ],
             [
              0.1111111111111111,
              "#46039f"
             ],
             [
              0.2222222222222222,
              "#7201a8"
             ],
             [
              0.3333333333333333,
              "#9c179e"
             ],
             [
              0.4444444444444444,
              "#bd3786"
             ],
             [
              0.5555555555555556,
              "#d8576b"
             ],
             [
              0.6666666666666666,
              "#ed7953"
             ],
             [
              0.7777777777777778,
              "#fb9f3a"
             ],
             [
              0.8888888888888888,
              "#fdca26"
             ],
             [
              1,
              "#f0f921"
             ]
            ],
            "type": "heatmapgl"
           }
          ],
          "histogram": [
           {
            "marker": {
             "pattern": {
              "fillmode": "overlay",
              "size": 10,
              "solidity": 0.2
             }
            },
            "type": "histogram"
           }
          ],
          "histogram2d": [
           {
            "colorbar": {
             "outlinewidth": 0,
             "ticks": ""
            },
            "colorscale": [
             [
              0,
              "#0d0887"
             ],
             [
              0.1111111111111111,
              "#46039f"
             ],
             [
              0.2222222222222222,
              "#7201a8"
             ],
             [
              0.3333333333333333,
              "#9c179e"
             ],
             [
              0.4444444444444444,
              "#bd3786"
             ],
             [
              0.5555555555555556,
              "#d8576b"
             ],
             [
              0.6666666666666666,
              "#ed7953"
             ],
             [
              0.7777777777777778,
              "#fb9f3a"
             ],
             [
              0.8888888888888888,
              "#fdca26"
             ],
             [
              1,
              "#f0f921"
             ]
            ],
            "type": "histogram2d"
           }
          ],
          "histogram2dcontour": [
           {
            "colorbar": {
             "outlinewidth": 0,
             "ticks": ""
            },
            "colorscale": [
             [
              0,
              "#0d0887"
             ],
             [
              0.1111111111111111,
              "#46039f"
             ],
             [
              0.2222222222222222,
              "#7201a8"
             ],
             [
              0.3333333333333333,
              "#9c179e"
             ],
             [
              0.4444444444444444,
              "#bd3786"
             ],
             [
              0.5555555555555556,
              "#d8576b"
             ],
             [
              0.6666666666666666,
              "#ed7953"
             ],
             [
              0.7777777777777778,
              "#fb9f3a"
             ],
             [
              0.8888888888888888,
              "#fdca26"
             ],
             [
              1,
              "#f0f921"
             ]
            ],
            "type": "histogram2dcontour"
           }
          ],
          "mesh3d": [
           {
            "colorbar": {
             "outlinewidth": 0,
             "ticks": ""
            },
            "type": "mesh3d"
           }
          ],
          "parcoords": [
           {
            "line": {
             "colorbar": {
              "outlinewidth": 0,
              "ticks": ""
             }
            },
            "type": "parcoords"
           }
          ],
          "pie": [
           {
            "automargin": true,
            "type": "pie"
           }
          ],
          "scatter": [
           {
            "fillpattern": {
             "fillmode": "overlay",
             "size": 10,
             "solidity": 0.2
            },
            "type": "scatter"
           }
          ],
          "scatter3d": [
           {
            "line": {
             "colorbar": {
              "outlinewidth": 0,
              "ticks": ""
             }
            },
            "marker": {
             "colorbar": {
              "outlinewidth": 0,
              "ticks": ""
             }
            },
            "type": "scatter3d"
           }
          ],
          "scattercarpet": [
           {
            "marker": {
             "colorbar": {
              "outlinewidth": 0,
              "ticks": ""
             }
            },
            "type": "scattercarpet"
           }
          ],
          "scattergeo": [
           {
            "marker": {
             "colorbar": {
              "outlinewidth": 0,
              "ticks": ""
             }
            },
            "type": "scattergeo"
           }
          ],
          "scattergl": [
           {
            "marker": {
             "colorbar": {
              "outlinewidth": 0,
              "ticks": ""
             }
            },
            "type": "scattergl"
           }
          ],
          "scattermapbox": [
           {
            "marker": {
             "colorbar": {
              "outlinewidth": 0,
              "ticks": ""
             }
            },
            "type": "scattermapbox"
           }
          ],
          "scatterpolar": [
           {
            "marker": {
             "colorbar": {
              "outlinewidth": 0,
              "ticks": ""
             }
            },
            "type": "scatterpolar"
           }
          ],
          "scatterpolargl": [
           {
            "marker": {
             "colorbar": {
              "outlinewidth": 0,
              "ticks": ""
             }
            },
            "type": "scatterpolargl"
           }
          ],
          "scatterternary": [
           {
            "marker": {
             "colorbar": {
              "outlinewidth": 0,
              "ticks": ""
             }
            },
            "type": "scatterternary"
           }
          ],
          "surface": [
           {
            "colorbar": {
             "outlinewidth": 0,
             "ticks": ""
            },
            "colorscale": [
             [
              0,
              "#0d0887"
             ],
             [
              0.1111111111111111,
              "#46039f"
             ],
             [
              0.2222222222222222,
              "#7201a8"
             ],
             [
              0.3333333333333333,
              "#9c179e"
             ],
             [
              0.4444444444444444,
              "#bd3786"
             ],
             [
              0.5555555555555556,
              "#d8576b"
             ],
             [
              0.6666666666666666,
              "#ed7953"
             ],
             [
              0.7777777777777778,
              "#fb9f3a"
             ],
             [
              0.8888888888888888,
              "#fdca26"
             ],
             [
              1,
              "#f0f921"
             ]
            ],
            "type": "surface"
           }
          ],
          "table": [
           {
            "cells": {
             "fill": {
              "color": "#EBF0F8"
             },
             "line": {
              "color": "white"
             }
            },
            "header": {
             "fill": {
              "color": "#C8D4E3"
             },
             "line": {
              "color": "white"
             }
            },
            "type": "table"
           }
          ]
         },
         "layout": {
          "annotationdefaults": {
           "arrowcolor": "#2a3f5f",
           "arrowhead": 0,
           "arrowwidth": 1
          },
          "autotypenumbers": "strict",
          "coloraxis": {
           "colorbar": {
            "outlinewidth": 0,
            "ticks": ""
           }
          },
          "colorscale": {
           "diverging": [
            [
             0,
             "#8e0152"
            ],
            [
             0.1,
             "#c51b7d"
            ],
            [
             0.2,
             "#de77ae"
            ],
            [
             0.3,
             "#f1b6da"
            ],
            [
             0.4,
             "#fde0ef"
            ],
            [
             0.5,
             "#f7f7f7"
            ],
            [
             0.6,
             "#e6f5d0"
            ],
            [
             0.7,
             "#b8e186"
            ],
            [
             0.8,
             "#7fbc41"
            ],
            [
             0.9,
             "#4d9221"
            ],
            [
             1,
             "#276419"
            ]
           ],
           "sequential": [
            [
             0,
             "#0d0887"
            ],
            [
             0.1111111111111111,
             "#46039f"
            ],
            [
             0.2222222222222222,
             "#7201a8"
            ],
            [
             0.3333333333333333,
             "#9c179e"
            ],
            [
             0.4444444444444444,
             "#bd3786"
            ],
            [
             0.5555555555555556,
             "#d8576b"
            ],
            [
             0.6666666666666666,
             "#ed7953"
            ],
            [
             0.7777777777777778,
             "#fb9f3a"
            ],
            [
             0.8888888888888888,
             "#fdca26"
            ],
            [
             1,
             "#f0f921"
            ]
           ],
           "sequentialminus": [
            [
             0,
             "#0d0887"
            ],
            [
             0.1111111111111111,
             "#46039f"
            ],
            [
             0.2222222222222222,
             "#7201a8"
            ],
            [
             0.3333333333333333,
             "#9c179e"
            ],
            [
             0.4444444444444444,
             "#bd3786"
            ],
            [
             0.5555555555555556,
             "#d8576b"
            ],
            [
             0.6666666666666666,
             "#ed7953"
            ],
            [
             0.7777777777777778,
             "#fb9f3a"
            ],
            [
             0.8888888888888888,
             "#fdca26"
            ],
            [
             1,
             "#f0f921"
            ]
           ]
          },
          "colorway": [
           "#636efa",
           "#EF553B",
           "#00cc96",
           "#ab63fa",
           "#FFA15A",
           "#19d3f3",
           "#FF6692",
           "#B6E880",
           "#FF97FF",
           "#FECB52"
          ],
          "font": {
           "color": "#2a3f5f"
          },
          "geo": {
           "bgcolor": "white",
           "lakecolor": "white",
           "landcolor": "#E5ECF6",
           "showlakes": true,
           "showland": true,
           "subunitcolor": "white"
          },
          "hoverlabel": {
           "align": "left"
          },
          "hovermode": "closest",
          "mapbox": {
           "style": "light"
          },
          "paper_bgcolor": "white",
          "plot_bgcolor": "#E5ECF6",
          "polar": {
           "angularaxis": {
            "gridcolor": "white",
            "linecolor": "white",
            "ticks": ""
           },
           "bgcolor": "#E5ECF6",
           "radialaxis": {
            "gridcolor": "white",
            "linecolor": "white",
            "ticks": ""
           }
          },
          "scene": {
           "xaxis": {
            "backgroundcolor": "#E5ECF6",
            "gridcolor": "white",
            "gridwidth": 2,
            "linecolor": "white",
            "showbackground": true,
            "ticks": "",
            "zerolinecolor": "white"
           },
           "yaxis": {
            "backgroundcolor": "#E5ECF6",
            "gridcolor": "white",
            "gridwidth": 2,
            "linecolor": "white",
            "showbackground": true,
            "ticks": "",
            "zerolinecolor": "white"
           },
           "zaxis": {
            "backgroundcolor": "#E5ECF6",
            "gridcolor": "white",
            "gridwidth": 2,
            "linecolor": "white",
            "showbackground": true,
            "ticks": "",
            "zerolinecolor": "white"
           }
          },
          "shapedefaults": {
           "line": {
            "color": "#2a3f5f"
           }
          },
          "ternary": {
           "aaxis": {
            "gridcolor": "white",
            "linecolor": "white",
            "ticks": ""
           },
           "baxis": {
            "gridcolor": "white",
            "linecolor": "white",
            "ticks": ""
           },
           "bgcolor": "#E5ECF6",
           "caxis": {
            "gridcolor": "white",
            "linecolor": "white",
            "ticks": ""
           }
          },
          "title": {
           "x": 0.05
          },
          "xaxis": {
           "automargin": true,
           "gridcolor": "white",
           "linecolor": "white",
           "ticks": "",
           "title": {
            "standoff": 15
           },
           "zerolinecolor": "white",
           "zerolinewidth": 2
          },
          "yaxis": {
           "automargin": true,
           "gridcolor": "white",
           "linecolor": "white",
           "ticks": "",
           "title": {
            "standoff": 15
           },
           "zerolinecolor": "white",
           "zerolinewidth": 2
          }
         }
        },
        "title": {
         "text": "Verification si mes coordonnées reçues sont bien en France"
        }
       }
      }
     },
     "metadata": {},
     "output_type": "display_data"
    }
   ],
   "source": [
    "import plotly.express as px\n",
    "fig = px.scatter_mapbox(df, lat=\"Latitude\", lon=\"Longitude\", text=\"Ville\",\n",
    "                        zoom=4, \n",
    "                        mapbox_style=\"open-street-map\",\n",
    "                        title=\"Verification si mes coordonnées reçues sont bien en France\")\n",
    "fig.update_traces(marker=dict(size=12))\n",
    "fig.show()"
   ]
  },
  {
   "cell_type": "markdown",
   "metadata": {},
   "source": [
    "# Maintenant que l'on a les coordonnées GPS pour nos 35 villes on va interroger une autre API pour avoir la météo, notamment la température et les précipications en mm de pluie"
   ]
  },
  {
   "cell_type": "markdown",
   "metadata": {},
   "source": [
    "On fait un test de l'API sur une ville voir si l'API répond"
   ]
  },
  {
   "cell_type": "code",
   "execution_count": 124,
   "metadata": {},
   "outputs": [],
   "source": [
    "base_weather_url = 'https://api.open-meteo.com/v1/forecast'\n",
    "load_dotenv()  # Charger les variables d'environnement depuis le fichier .env\n",
    "\n",
    "\n",
    "def get_weather(lat, lon):\n",
    "    #appid = os.getenv('APPID')  # Récupérer l'API key depuis les variables d'environnement\n",
    "    params = {\n",
    "        'latitude': lat,\n",
    "        'longitude': lon,\n",
    "        'timezone': \"Europe/Berlin\",\n",
    "        'timezone_abbreviation': \"CEST\",\n",
    "        'daily': [\"temperature_2m_max\", \"temperature_2m_mean\", \"precipitation_hours\"]\n",
    "    }\n",
    "    \n",
    "    response = requests.get(base_weather_url, params=params)\n",
    "    print(\"Status code:\", response.status_code)\n",
    "    print(\"URL:\", response.url)\n",
    "    print(\"Response:\", response.text)\n",
    "    return response.json() if response.status_code == 200 else None\n",
    "\n"
   ]
  },
  {
   "cell_type": "code",
   "execution_count": 125,
   "metadata": {},
   "outputs": [
    {
     "name": "stdout",
     "output_type": "stream",
     "text": [
      "Status code: 200\n",
      "URL: https://api.open-meteo.com/v1/forecast?latitude=-2.000385&longitude=48.653039&timezone=Europe%2FBerlin&timezone_abbreviation=CEST&daily=temperature_2m_max&daily=temperature_2m_mean&daily=precipitation_hours\n",
      "Response: {\"latitude\":-2.0,\"longitude\":48.625,\"generationtime_ms\":0.45311450958251953,\"utc_offset_seconds\":7200,\"timezone\":\"Europe/Berlin\",\"timezone_abbreviation\":\"GMT+2\",\"elevation\":0.0,\"daily_units\":{\"time\":\"iso8601\",\"temperature_2m_max\":\"°C\",\"temperature_2m_mean\":\"°C\",\"precipitation_hours\":\"h\"},\"daily\":{\"time\":[\"2025-05-02\",\"2025-05-03\",\"2025-05-04\",\"2025-05-05\",\"2025-05-06\",\"2025-05-07\",\"2025-05-08\"],\"temperature_2m_max\":[29.6,29.5,29.6,29.2,29.0,29.9,30.0],\"temperature_2m_mean\":[29.2,29.1,29.1,29.0,28.6,29.1,29.3],\"precipitation_hours\":[10.0,22.0,11.0,17.0,24.0,9.0,15.0]}}\n",
      "{'latitude': -2.0, 'longitude': 48.625, 'generationtime_ms': 0.45311450958251953, 'utc_offset_seconds': 7200, 'timezone': 'Europe/Berlin', 'timezone_abbreviation': 'GMT+2', 'elevation': 0.0, 'daily_units': {'time': 'iso8601', 'temperature_2m_max': '°C', 'temperature_2m_mean': '°C', 'precipitation_hours': 'h'}, 'daily': {'time': ['2025-05-02', '2025-05-03', '2025-05-04', '2025-05-05', '2025-05-06', '2025-05-07', '2025-05-08'], 'temperature_2m_max': [29.6, 29.5, 29.6, 29.2, 29.0, 29.9, 30.0], 'temperature_2m_mean': [29.2, 29.1, 29.1, 29.0, 28.6, 29.1, 29.3], 'precipitation_hours': [10.0, 22.0, 11.0, 17.0, 24.0, 9.0, 15.0]}}\n"
     ]
    }
   ],
   "source": [
    "# Test with the first city\n",
    "test_city = df.iloc[1]\n",
    "weather_data = get_weather(test_city['Longitude'], test_city['Latitude'])\n",
    "print(weather_data)"
   ]
  },
  {
   "cell_type": "markdown",
   "metadata": {},
   "source": [
    "L'API répond, du coup on peut faire la même démarche pour nos 35 villes.\\\n",
    "On boucle sur nos 35 villes souhaitées et on met nos données dans un dataframe pour plus de visibilité"
   ]
  },
  {
   "cell_type": "code",
   "execution_count": 126,
   "metadata": {},
   "outputs": [
    {
     "name": "stdout",
     "output_type": "stream",
     "text": [
      "Status code: 200\n",
      "URL: https://api.open-meteo.com/v1/forecast?latitude=7.0889&longitude=43.849841&timezone=Europe%2FBerlin&timezone_abbreviation=CEST&daily=temperature_2m_max&daily=temperature_2m_mean&daily=precipitation_hours\n",
      "Response: {\"latitude\":7.125,\"longitude\":43.875,\"generationtime_ms\":0.03540515899658203,\"utc_offset_seconds\":7200,\"timezone\":\"Europe/Berlin\",\"timezone_abbreviation\":\"GMT+2\",\"elevation\":900.0,\"daily_units\":{\"time\":\"iso8601\",\"temperature_2m_max\":\"°C\",\"temperature_2m_mean\":\"°C\",\"precipitation_hours\":\"h\"},\"daily\":{\"time\":[\"2025-05-02\",\"2025-05-03\",\"2025-05-04\",\"2025-05-05\",\"2025-05-06\",\"2025-05-07\",\"2025-05-08\"],\"temperature_2m_max\":[30.7,28.9,30.3,28.0,28.8,28.5,30.7],\"temperature_2m_mean\":[25.3,24.6,25.3,24.2,24.7,24.7,25.8],\"precipitation_hours\":[7.0,7.0,7.0,10.0,9.0,12.0,3.0]}}\n",
      "Mont Saint Michel OK (7.0889, 43.849841)\n",
      "Status code: 200\n",
      "URL: https://api.open-meteo.com/v1/forecast?latitude=-2.000385&longitude=48.653039&timezone=Europe%2FBerlin&timezone_abbreviation=CEST&daily=temperature_2m_max&daily=temperature_2m_mean&daily=precipitation_hours\n",
      "Response: {\"latitude\":-2.0,\"longitude\":48.625,\"generationtime_ms\":0.023126602172851562,\"utc_offset_seconds\":7200,\"timezone\":\"Europe/Berlin\",\"timezone_abbreviation\":\"GMT+2\",\"elevation\":0.0,\"daily_units\":{\"time\":\"iso8601\",\"temperature_2m_max\":\"°C\",\"temperature_2m_mean\":\"°C\",\"precipitation_hours\":\"h\"},\"daily\":{\"time\":[\"2025-05-02\",\"2025-05-03\",\"2025-05-04\",\"2025-05-05\",\"2025-05-06\",\"2025-05-07\",\"2025-05-08\"],\"temperature_2m_max\":[29.6,29.5,29.6,29.2,29.0,29.9,30.0],\"temperature_2m_mean\":[29.2,29.1,29.1,29.0,28.6,29.1,29.3],\"precipitation_hours\":[10.0,22.0,11.0,17.0,24.0,9.0,15.0]}}\n",
      "St Malo OK (-2.000385, 48.653039)\n",
      "Status code: 200\n",
      "URL: https://api.open-meteo.com/v1/forecast?latitude=-0.702368&longitude=49.277173&timezone=Europe%2FBerlin&timezone_abbreviation=CEST&daily=temperature_2m_max&daily=temperature_2m_mean&daily=precipitation_hours\n",
      "Response: {\"latitude\":-0.75,\"longitude\":49.25,\"generationtime_ms\":0.5668401718139648,\"utc_offset_seconds\":7200,\"timezone\":\"Europe/Berlin\",\"timezone_abbreviation\":\"GMT+2\",\"elevation\":0.0,\"daily_units\":{\"time\":\"iso8601\",\"temperature_2m_max\":\"°C\",\"temperature_2m_mean\":\"°C\",\"precipitation_hours\":\"h\"},\"daily\":{\"time\":[\"2025-05-02\",\"2025-05-03\",\"2025-05-04\",\"2025-05-05\",\"2025-05-06\",\"2025-05-07\",\"2025-05-08\"],\"temperature_2m_max\":[29.5,29.5,29.6,29.4,29.1,29.4,29.4],\"temperature_2m_mean\":[29.2,29.2,29.4,29.2,28.7,28.9,29.2],\"precipitation_hours\":[0.0,0.0,1.0,5.0,18.0,15.0,18.0]}}\n",
      "Bayeux OK (-0.702368, 49.277173)\n",
      "Status code: 200\n",
      "URL: https://api.open-meteo.com/v1/forecast?latitude=0.128407&longitude=49.493515&timezone=Europe%2FBerlin&timezone_abbreviation=CEST&daily=temperature_2m_max&daily=temperature_2m_mean&daily=precipitation_hours\n",
      "Response: {\"latitude\":0.125,\"longitude\":49.5,\"generationtime_ms\":0.03170967102050781,\"utc_offset_seconds\":7200,\"timezone\":\"Europe/Berlin\",\"timezone_abbreviation\":\"GMT+2\",\"elevation\":0.0,\"daily_units\":{\"time\":\"iso8601\",\"temperature_2m_max\":\"°C\",\"temperature_2m_mean\":\"°C\",\"precipitation_hours\":\"h\"},\"daily\":{\"time\":[\"2025-05-02\",\"2025-05-03\",\"2025-05-04\",\"2025-05-05\",\"2025-05-06\",\"2025-05-07\",\"2025-05-08\"],\"temperature_2m_max\":[29.3,29.4,29.6,29.5,29.0,29.4,29.6],\"temperature_2m_mean\":[29.0,29.1,29.4,29.3,28.8,29.0,29.1],\"precipitation_hours\":[0.0,0.0,0.0,4.0,21.0,18.0,18.0]}}\n",
      "Le Havre OK (0.128407, 49.493515)\n",
      "Status code: 200\n",
      "URL: https://api.open-meteo.com/v1/forecast?latitude=1.099092&longitude=49.44344&timezone=Europe%2FBerlin&timezone_abbreviation=CEST&daily=temperature_2m_max&daily=temperature_2m_mean&daily=precipitation_hours\n",
      "Response: {\"latitude\":1.125,\"longitude\":49.5,\"generationtime_ms\":0.04315376281738281,\"utc_offset_seconds\":7200,\"timezone\":\"Europe/Berlin\",\"timezone_abbreviation\":\"GMT+2\",\"elevation\":0.0,\"daily_units\":{\"time\":\"iso8601\",\"temperature_2m_max\":\"°C\",\"temperature_2m_mean\":\"°C\",\"precipitation_hours\":\"h\"},\"daily\":{\"time\":[\"2025-05-02\",\"2025-05-03\",\"2025-05-04\",\"2025-05-05\",\"2025-05-06\",\"2025-05-07\",\"2025-05-08\"],\"temperature_2m_max\":[29.4,29.6,29.8,29.7,29.2,29.5,29.6],\"temperature_2m_mean\":[29.1,29.3,29.4,29.5,28.9,29.1,29.2],\"precipitation_hours\":[0.0,0.0,1.0,13.0,21.0,15.0,21.0]}}\n",
      "Rouen OK (1.099092, 49.44344)\n",
      "Status code: 200\n",
      "URL: https://api.open-meteo.com/v1/forecast?latitude=2.37068&longitude=48.844061&timezone=Europe%2FBerlin&timezone_abbreviation=CEST&daily=temperature_2m_max&daily=temperature_2m_mean&daily=precipitation_hours\n",
      "Response: {\"latitude\":2.375,\"longitude\":48.875,\"generationtime_ms\":0.3980398178100586,\"utc_offset_seconds\":7200,\"timezone\":\"Europe/Berlin\",\"timezone_abbreviation\":\"GMT+2\",\"elevation\":0.0,\"daily_units\":{\"time\":\"iso8601\",\"temperature_2m_max\":\"°C\",\"temperature_2m_mean\":\"°C\",\"precipitation_hours\":\"h\"},\"daily\":{\"time\":[\"2025-05-02\",\"2025-05-03\",\"2025-05-04\",\"2025-05-05\",\"2025-05-06\",\"2025-05-07\",\"2025-05-08\"],\"temperature_2m_max\":[29.6,29.7,30.0,29.9,29.5,29.5,29.7],\"temperature_2m_mean\":[29.4,29.4,29.5,29.6,29.1,29.2,29.5],\"precipitation_hours\":[12.0,3.0,4.0,8.0,12.0,18.0,21.0]}}\n",
      "Paris OK (2.37068, 48.844061)\n",
      "Status code: 200\n",
      "URL: https://api.open-meteo.com/v1/forecast?latitude=2.292663&longitude=49.893548&timezone=Europe%2FBerlin&timezone_abbreviation=CEST&daily=temperature_2m_max&daily=temperature_2m_mean&daily=precipitation_hours\n",
      "Response: {\"latitude\":2.25,\"longitude\":49.875,\"generationtime_ms\":0.4048347473144531,\"utc_offset_seconds\":7200,\"timezone\":\"Europe/Berlin\",\"timezone_abbreviation\":\"GMT+2\",\"elevation\":0.0,\"daily_units\":{\"time\":\"iso8601\",\"temperature_2m_max\":\"°C\",\"temperature_2m_mean\":\"°C\",\"precipitation_hours\":\"h\"},\"daily\":{\"time\":[\"2025-05-02\",\"2025-05-03\",\"2025-05-04\",\"2025-05-05\",\"2025-05-06\",\"2025-05-07\",\"2025-05-08\"],\"temperature_2m_max\":[29.9,29.9,29.9,29.6,29.4,29.4,29.8],\"temperature_2m_mean\":[29.6,29.6,29.6,29.4,29.1,29.2,29.5],\"precipitation_hours\":[0.0,0.0,3.0,9.0,21.0,18.0,24.0]}}\n",
      "Amiens OK (2.292663, 49.893548)\n",
      "Status code: 200\n",
      "URL: https://api.open-meteo.com/v1/forecast?latitude=3.052529&longitude=50.634523&timezone=Europe%2FBerlin&timezone_abbreviation=CEST&daily=temperature_2m_max&daily=temperature_2m_mean&daily=precipitation_hours\n",
      "Response: {\"latitude\":3.0,\"longitude\":50.625,\"generationtime_ms\":0.03731250762939453,\"utc_offset_seconds\":7200,\"timezone\":\"Europe/Berlin\",\"timezone_abbreviation\":\"GMT+2\",\"elevation\":0.0,\"daily_units\":{\"time\":\"iso8601\",\"temperature_2m_max\":\"°C\",\"temperature_2m_mean\":\"°C\",\"precipitation_hours\":\"h\"},\"daily\":{\"time\":[\"2025-05-02\",\"2025-05-03\",\"2025-05-04\",\"2025-05-05\",\"2025-05-06\",\"2025-05-07\",\"2025-05-08\"],\"temperature_2m_max\":[29.6,30.0,30.1,29.6,29.5,29.4,29.9],\"temperature_2m_mean\":[29.6,29.8,29.9,29.4,29.1,29.3,29.5],\"precipitation_hours\":[0.0,0.0,1.0,12.0,18.0,21.0,15.0]}}\n",
      "Lille OK (3.052529, 50.634523)\n",
      "Status code: 200\n",
      "URL: https://api.open-meteo.com/v1/forecast?latitude=7.753827&longitude=48.574811&timezone=Europe%2FBerlin&timezone_abbreviation=CEST&daily=temperature_2m_max&daily=temperature_2m_mean&daily=precipitation_hours\n",
      "Response: {\"latitude\":7.75,\"longitude\":48.625,\"generationtime_ms\":0.36978721618652344,\"utc_offset_seconds\":7200,\"timezone\":\"Europe/Berlin\",\"timezone_abbreviation\":\"GMT+2\",\"elevation\":583.0,\"daily_units\":{\"time\":\"iso8601\",\"temperature_2m_max\":\"°C\",\"temperature_2m_mean\":\"°C\",\"precipitation_hours\":\"h\"},\"daily\":{\"time\":[\"2025-05-02\",\"2025-05-03\",\"2025-05-04\",\"2025-05-05\",\"2025-05-06\",\"2025-05-07\",\"2025-05-08\"],\"temperature_2m_max\":[34.9,35.0,35.0,30.6,33.4,32.7,29.6],\"temperature_2m_mean\":[27.7,27.7,28.1,26.6,27.7,27.3,26.3],\"precipitation_hours\":[0.0,0.0,2.0,3.0,3.0,6.0,15.0]}}\n",
      "Strasbourg OK (7.753827, 48.574811)\n",
      "Status code: 200\n",
      "URL: https://api.open-meteo.com/v1/forecast?latitude=7.344312&longitude=48.249581&timezone=Europe%2FBerlin&timezone_abbreviation=CEST&daily=temperature_2m_max&daily=temperature_2m_mean&daily=precipitation_hours\n",
      "Response: {\"latitude\":7.375,\"longitude\":48.25,\"generationtime_ms\":0.035881996154785156,\"utc_offset_seconds\":7200,\"timezone\":\"Europe/Berlin\",\"timezone_abbreviation\":\"GMT+2\",\"elevation\":389.0,\"daily_units\":{\"time\":\"iso8601\",\"temperature_2m_max\":\"°C\",\"temperature_2m_mean\":\"°C\",\"precipitation_hours\":\"h\"},\"daily\":{\"time\":[\"2025-05-02\",\"2025-05-03\",\"2025-05-04\",\"2025-05-05\",\"2025-05-06\",\"2025-05-07\",\"2025-05-08\"],\"temperature_2m_max\":[35.6,35.6,34.8,30.6,33.2,32.1,31.3],\"temperature_2m_mean\":[28.9,29.0,28.6,27.1,28.4,28.1,27.6],\"precipitation_hours\":[0.0,0.0,4.0,14.0,6.0,12.0,9.0]}}\n",
      "Chateau du Haut Koenigsbourg OK (7.344312, 48.249581)\n",
      "Status code: 200\n",
      "URL: https://api.open-meteo.com/v1/forecast?latitude=7.390603&longitude=48.116422&timezone=Europe%2FBerlin&timezone_abbreviation=CEST&daily=temperature_2m_max&daily=temperature_2m_mean&daily=precipitation_hours\n",
      "Response: {\"latitude\":7.375,\"longitude\":48.125,\"generationtime_ms\":0.03159046173095703,\"utc_offset_seconds\":7200,\"timezone\":\"Europe/Berlin\",\"timezone_abbreviation\":\"GMT+2\",\"elevation\":445.0,\"daily_units\":{\"time\":\"iso8601\",\"temperature_2m_max\":\"°C\",\"temperature_2m_mean\":\"°C\",\"precipitation_hours\":\"h\"},\"daily\":{\"time\":[\"2025-05-02\",\"2025-05-03\",\"2025-05-04\",\"2025-05-05\",\"2025-05-06\",\"2025-05-07\",\"2025-05-08\"],\"temperature_2m_max\":[35.2,35.6,34.4,29.8,32.5,31.5,30.8],\"temperature_2m_mean\":[28.7,28.8,27.9,26.6,28.0,27.7,27.4],\"precipitation_hours\":[2.0,0.0,4.0,9.0,9.0,12.0,3.0]}}\n",
      "Colmar OK (7.390603, 48.116422)\n",
      "Status code: 200\n",
      "URL: https://api.open-meteo.com/v1/forecast?latitude=7.294224&longitude=48.03655&timezone=Europe%2FBerlin&timezone_abbreviation=CEST&daily=temperature_2m_max&daily=temperature_2m_mean&daily=precipitation_hours\n",
      "Response: {\"latitude\":7.25,\"longitude\":48.0,\"generationtime_ms\":0.04458427429199219,\"utc_offset_seconds\":7200,\"timezone\":\"Europe/Berlin\",\"timezone_abbreviation\":\"GMT+2\",\"elevation\":398.0,\"daily_units\":{\"time\":\"iso8601\",\"temperature_2m_max\":\"°C\",\"temperature_2m_mean\":\"°C\",\"precipitation_hours\":\"h\"},\"daily\":{\"time\":[\"2025-05-02\",\"2025-05-03\",\"2025-05-04\",\"2025-05-05\",\"2025-05-06\",\"2025-05-07\",\"2025-05-08\"],\"temperature_2m_max\":[35.5,35.8,34.7,30.1,32.6,31.9,31.8],\"temperature_2m_mean\":[29.0,29.2,28.1,26.7,28.2,27.9,27.5],\"precipitation_hours\":[2.0,0.0,3.0,11.0,3.0,12.0,9.0]}}\n",
      "Eguisheim OK (7.294224, 48.03655)\n",
      "Status code: 200\n",
      "URL: https://api.open-meteo.com/v1/forecast?latitude=6.021017&longitude=47.256814&timezone=Europe%2FBerlin&timezone_abbreviation=CEST&daily=temperature_2m_max&daily=temperature_2m_mean&daily=precipitation_hours\n",
      "Response: {\"latitude\":6.0,\"longitude\":47.25,\"generationtime_ms\":0.03337860107421875,\"utc_offset_seconds\":7200,\"timezone\":\"Europe/Berlin\",\"timezone_abbreviation\":\"GMT+2\",\"elevation\":225.0,\"daily_units\":{\"time\":\"iso8601\",\"temperature_2m_max\":\"°C\",\"temperature_2m_mean\":\"°C\",\"precipitation_hours\":\"h\"},\"daily\":{\"time\":[\"2025-05-02\",\"2025-05-03\",\"2025-05-04\",\"2025-05-05\",\"2025-05-06\",\"2025-05-07\",\"2025-05-08\"],\"temperature_2m_max\":[35.1,35.1,33.6,31.7,33.3,34.3,33.8],\"temperature_2m_mean\":[30.2,29.8,28.8,28.3,28.9,29.7,29.4],\"precipitation_hours\":[6.0,6.0,6.0,11.0,3.0,6.0,0.0]}}\n",
      "Besancon OK (6.021017, 47.256814)\n",
      "Status code: 200\n",
      "URL: https://api.open-meteo.com/v1/forecast?latitude=5.035138&longitude=47.326035&timezone=Europe%2FBerlin&timezone_abbreviation=CEST&daily=temperature_2m_max&daily=temperature_2m_mean&daily=precipitation_hours\n",
      "Response: {\"latitude\":5.0,\"longitude\":47.375,\"generationtime_ms\":0.024080276489257812,\"utc_offset_seconds\":7200,\"timezone\":\"Europe/Berlin\",\"timezone_abbreviation\":\"GMT+2\",\"elevation\":135.0,\"daily_units\":{\"time\":\"iso8601\",\"temperature_2m_max\":\"°C\",\"temperature_2m_mean\":\"°C\",\"precipitation_hours\":\"h\"},\"daily\":{\"time\":[\"2025-05-02\",\"2025-05-03\",\"2025-05-04\",\"2025-05-05\",\"2025-05-06\",\"2025-05-07\",\"2025-05-08\"],\"temperature_2m_max\":[35.7,35.3,35.0,33.5,33.7,35.1,34.0],\"temperature_2m_mean\":[29.8,29.2,28.9,29.0,29.1,29.9,29.2],\"precipitation_hours\":[3.0,7.0,4.0,10.0,9.0,9.0,3.0]}}\n",
      "Dijon OK (5.035138, 47.326035)\n",
      "Status code: 200\n",
      "URL: https://api.open-meteo.com/v1/forecast?latitude=6.101282&longitude=45.898635&timezone=Europe%2FBerlin&timezone_abbreviation=CEST&daily=temperature_2m_max&daily=temperature_2m_mean&daily=precipitation_hours\n",
      "Response: {\"latitude\":6.125,\"longitude\":45.875,\"generationtime_ms\":0.02956390380859375,\"utc_offset_seconds\":7200,\"timezone\":\"Europe/Berlin\",\"timezone_abbreviation\":\"GMT+2\",\"elevation\":373.0,\"daily_units\":{\"time\":\"iso8601\",\"temperature_2m_max\":\"°C\",\"temperature_2m_mean\":\"°C\",\"precipitation_hours\":\"h\"},\"daily\":{\"time\":[\"2025-05-02\",\"2025-05-03\",\"2025-05-04\",\"2025-05-05\",\"2025-05-06\",\"2025-05-07\",\"2025-05-08\"],\"temperature_2m_max\":[33.5,33.3,33.8,30.1,32.3,33.0,34.3],\"temperature_2m_mean\":[29.3,28.2,28.4,27.2,27.9,28.7,29.6],\"precipitation_hours\":[3.0,12.0,6.0,14.0,12.0,6.0,3.0]}}\n",
      "Annecy OK (6.101282, 45.898635)\n",
      "Status code: 200\n",
      "URL: https://api.open-meteo.com/v1/forecast?latitude=5.725144&longitude=45.180525&timezone=Europe%2FBerlin&timezone_abbreviation=CEST&daily=temperature_2m_max&daily=temperature_2m_mean&daily=precipitation_hours\n",
      "Response: {\"latitude\":5.875,\"longitude\":45.125,\"generationtime_ms\":0.02765655517578125,\"utc_offset_seconds\":7200,\"timezone\":\"Europe/Berlin\",\"timezone_abbreviation\":\"GMT+2\",\"elevation\":506.0,\"daily_units\":{\"time\":\"iso8601\",\"temperature_2m_max\":\"°C\",\"temperature_2m_mean\":\"°C\",\"precipitation_hours\":\"h\"},\"daily\":{\"time\":[\"2025-05-02\",\"2025-05-03\",\"2025-05-04\",\"2025-05-05\",\"2025-05-06\",\"2025-05-07\",\"2025-05-08\"],\"temperature_2m_max\":[32.5,32.0,32.8,30.8,31.7,31.8,32.3],\"temperature_2m_mean\":[27.8,27.3,27.4,27.0,27.1,28.0,28.3],\"precipitation_hours\":[4.0,5.0,5.0,13.0,6.0,0.0,6.0]}}\n",
      "Grenoble OK (5.725144, 45.180525)\n",
      "Status code: 200\n",
      "URL: https://api.open-meteo.com/v1/forecast?latitude=4.824068&longitude=45.767678&timezone=Europe%2FBerlin&timezone_abbreviation=CEST&daily=temperature_2m_max&daily=temperature_2m_mean&daily=precipitation_hours\n",
      "Response: {\"latitude\":4.875,\"longitude\":45.75,\"generationtime_ms\":0.060439109802246094,\"utc_offset_seconds\":7200,\"timezone\":\"Europe/Berlin\",\"timezone_abbreviation\":\"GMT+2\",\"elevation\":357.0,\"daily_units\":{\"time\":\"iso8601\",\"temperature_2m_max\":\"°C\",\"temperature_2m_mean\":\"°C\",\"precipitation_hours\":\"h\"},\"daily\":{\"time\":[\"2025-05-02\",\"2025-05-03\",\"2025-05-04\",\"2025-05-05\",\"2025-05-06\",\"2025-05-07\",\"2025-05-08\"],\"temperature_2m_max\":[33.6,33.0,32.5,32.3,31.3,33.2,33.7],\"temperature_2m_mean\":[28.8,27.9,27.7,27.7,27.2,28.5,28.2],\"precipitation_hours\":[4.0,7.0,4.0,12.0,9.0,3.0,3.0]}}\n",
      "Lyon OK (4.824068, 45.767678)\n",
      "Status code: 200\n",
      "URL: https://api.open-meteo.com/v1/forecast?latitude=6.34617&longitude=43.741387&timezone=Europe%2FBerlin&timezone_abbreviation=CEST&daily=temperature_2m_max&daily=temperature_2m_mean&daily=precipitation_hours\n",
      "Response: {\"latitude\":6.375,\"longitude\":43.75,\"generationtime_ms\":0.04553794860839844,\"utc_offset_seconds\":7200,\"timezone\":\"Europe/Berlin\",\"timezone_abbreviation\":\"GMT+2\",\"elevation\":422.0,\"daily_units\":{\"time\":\"iso8601\",\"temperature_2m_max\":\"°C\",\"temperature_2m_mean\":\"°C\",\"precipitation_hours\":\"h\"},\"daily\":{\"time\":[\"2025-05-02\",\"2025-05-03\",\"2025-05-04\",\"2025-05-05\",\"2025-05-06\",\"2025-05-07\",\"2025-05-08\"],\"temperature_2m_max\":[32.5,31.0,32.0,31.1,31.5,32.0,32.8],\"temperature_2m_mean\":[28.4,27.5,28.0,27.2,27.5,28.0,28.5],\"precipitation_hours\":[8.0,4.0,3.0,13.0,6.0,9.0,0.0]}}\n",
      "Gorges du Verdon OK (6.34617, 43.741387)\n",
      "Status code: 200\n",
      "URL: https://api.open-meteo.com/v1/forecast?latitude=6.34391&longitude=43.120819&timezone=Europe%2FBerlin&timezone_abbreviation=CEST&daily=temperature_2m_max&daily=temperature_2m_mean&daily=precipitation_hours\n",
      "Response: {\"latitude\":6.375,\"longitude\":43.125,\"generationtime_ms\":0.03826618194580078,\"utc_offset_seconds\":7200,\"timezone\":\"Europe/Berlin\",\"timezone_abbreviation\":\"GMT+2\",\"elevation\":353.0,\"daily_units\":{\"time\":\"iso8601\",\"temperature_2m_max\":\"°C\",\"temperature_2m_mean\":\"°C\",\"precipitation_hours\":\"h\"},\"daily\":{\"time\":[\"2025-05-02\",\"2025-05-03\",\"2025-05-04\",\"2025-05-05\",\"2025-05-06\",\"2025-05-07\",\"2025-05-08\"],\"temperature_2m_max\":[33.2,31.9,33.0,31.7,31.4,32.6,34.2],\"temperature_2m_mean\":[28.9,27.7,28.6,27.9,27.9,28.7,29.3],\"precipitation_hours\":[6.0,7.0,2.0,11.0,12.0,6.0,3.0]}}\n",
      "Bormes les Mimosas OK (6.34391, 43.120819)\n",
      "Status code: 200\n",
      "URL: https://api.open-meteo.com/v1/forecast?latitude=5.540576&longitude=43.213074&timezone=Europe%2FBerlin&timezone_abbreviation=CEST&daily=temperature_2m_max&daily=temperature_2m_mean&daily=precipitation_hours\n",
      "Response: {\"latitude\":5.5,\"longitude\":43.25,\"generationtime_ms\":0.07748603820800781,\"utc_offset_seconds\":7200,\"timezone\":\"Europe/Berlin\",\"timezone_abbreviation\":\"GMT+2\",\"elevation\":516.0,\"daily_units\":{\"time\":\"iso8601\",\"temperature_2m_max\":\"°C\",\"temperature_2m_mean\":\"°C\",\"precipitation_hours\":\"h\"},\"daily\":{\"time\":[\"2025-05-02\",\"2025-05-03\",\"2025-05-04\",\"2025-05-05\",\"2025-05-06\",\"2025-05-07\",\"2025-05-08\"],\"temperature_2m_max\":[32.5,30.6,31.7,30.8,31.3,32.2,32.7],\"temperature_2m_mean\":[27.7,26.5,27.2,27.1,27.2,27.6,27.9],\"precipitation_hours\":[2.0,9.0,4.0,5.0,3.0,3.0,0.0]}}\n",
      "Cassis OK (5.540576, 43.213074)\n",
      "Status code: 200\n",
      "URL: https://api.open-meteo.com/v1/forecast?latitude=5.367037&longitude=43.269776&timezone=Europe%2FBerlin&timezone_abbreviation=CEST&daily=temperature_2m_max&daily=temperature_2m_mean&daily=precipitation_hours\n",
      "Response: {\"latitude\":5.375,\"longitude\":43.25,\"generationtime_ms\":0.054717063903808594,\"utc_offset_seconds\":7200,\"timezone\":\"Europe/Berlin\",\"timezone_abbreviation\":\"GMT+2\",\"elevation\":544.0,\"daily_units\":{\"time\":\"iso8601\",\"temperature_2m_max\":\"°C\",\"temperature_2m_mean\":\"°C\",\"precipitation_hours\":\"h\"},\"daily\":{\"time\":[\"2025-05-02\",\"2025-05-03\",\"2025-05-04\",\"2025-05-05\",\"2025-05-06\",\"2025-05-07\",\"2025-05-08\"],\"temperature_2m_max\":[32.1,30.5,31.0,31.0,30.4,31.8,32.4],\"temperature_2m_mean\":[27.3,26.4,26.9,26.8,26.9,27.4,27.7],\"precipitation_hours\":[5.0,8.0,3.0,3.0,9.0,0.0,0.0]}}\n",
      "Marseille OK (5.367037, 43.269776)\n",
      "Status code: 200\n",
      "URL: https://api.open-meteo.com/v1/forecast?latitude=5.38086&longitude=43.518436&timezone=Europe%2FBerlin&timezone_abbreviation=CEST&daily=temperature_2m_max&daily=temperature_2m_mean&daily=precipitation_hours\n",
      "Response: {\"latitude\":5.375,\"longitude\":43.5,\"generationtime_ms\":0.026226043701171875,\"utc_offset_seconds\":7200,\"timezone\":\"Europe/Berlin\",\"timezone_abbreviation\":\"GMT+2\",\"elevation\":626.0,\"daily_units\":{\"time\":\"iso8601\",\"temperature_2m_max\":\"°C\",\"temperature_2m_mean\":\"°C\",\"precipitation_hours\":\"h\"},\"daily\":{\"time\":[\"2025-05-02\",\"2025-05-03\",\"2025-05-04\",\"2025-05-05\",\"2025-05-06\",\"2025-05-07\",\"2025-05-08\"],\"temperature_2m_max\":[31.3,29.8,30.3,30.3,29.6,31.2,31.5],\"temperature_2m_mean\":[26.8,26.0,26.4,26.3,26.2,26.8,27.0],\"precipitation_hours\":[4.0,6.0,3.0,7.0,6.0,0.0,0.0]}}\n",
      "Aix en Provence OK (5.38086, 43.518436)\n",
      "Status code: 200\n",
      "URL: https://api.open-meteo.com/v1/forecast?latitude=4.848282&longitude=43.943164&timezone=Europe%2FBerlin&timezone_abbreviation=CEST&daily=temperature_2m_max&daily=temperature_2m_mean&daily=precipitation_hours\n",
      "Response: {\"latitude\":4.875,\"longitude\":44.0,\"generationtime_ms\":0.020623207092285156,\"utc_offset_seconds\":7200,\"timezone\":\"Europe/Berlin\",\"timezone_abbreviation\":\"GMT+2\",\"elevation\":552.0,\"daily_units\":{\"time\":\"iso8601\",\"temperature_2m_max\":\"°C\",\"temperature_2m_mean\":\"°C\",\"precipitation_hours\":\"h\"},\"daily\":{\"time\":[\"2025-05-02\",\"2025-05-03\",\"2025-05-04\",\"2025-05-05\",\"2025-05-06\",\"2025-05-07\",\"2025-05-08\"],\"temperature_2m_max\":[31.8,30.0,31.1,31.0,30.6,32.0,32.4],\"temperature_2m_mean\":[27.3,26.5,26.8,26.9,26.7,27.3,27.7],\"precipitation_hours\":[6.0,7.0,7.0,5.0,6.0,0.0,0.0]}}\n",
      "Avignon OK (4.848282, 43.943164)\n",
      "Status code: 200\n",
      "URL: https://api.open-meteo.com/v1/forecast?latitude=4.411618&longitude=44.014792&timezone=Europe%2FBerlin&timezone_abbreviation=CEST&daily=temperature_2m_max&daily=temperature_2m_mean&daily=precipitation_hours\n",
      "Response: {\"latitude\":4.375,\"longitude\":44.0,\"generationtime_ms\":0.46074390411376953,\"utc_offset_seconds\":7200,\"timezone\":\"Europe/Berlin\",\"timezone_abbreviation\":\"GMT+2\",\"elevation\":672.0,\"daily_units\":{\"time\":\"iso8601\",\"temperature_2m_max\":\"°C\",\"temperature_2m_mean\":\"°C\",\"precipitation_hours\":\"h\"},\"daily\":{\"time\":[\"2025-05-02\",\"2025-05-03\",\"2025-05-04\",\"2025-05-05\",\"2025-05-06\",\"2025-05-07\",\"2025-05-08\"],\"temperature_2m_max\":[30.1,29.0,29.7,29.4,28.0,30.1,30.5],\"temperature_2m_mean\":[25.2,25.0,25.5,25.4,24.9,25.5,25.8],\"precipitation_hours\":[6.0,8.0,5.0,8.0,6.0,0.0,0.0]}}\n",
      "Uzes OK (4.411618, 44.014792)\n",
      "Status code: 200\n",
      "URL: https://api.open-meteo.com/v1/forecast?latitude=4.351788&longitude=43.839648&timezone=Europe%2FBerlin&timezone_abbreviation=CEST&daily=temperature_2m_max&daily=temperature_2m_mean&daily=precipitation_hours\n",
      "Response: {\"latitude\":4.375,\"longitude\":43.875,\"generationtime_ms\":0.028133392333984375,\"utc_offset_seconds\":7200,\"timezone\":\"Europe/Berlin\",\"timezone_abbreviation\":\"GMT+2\",\"elevation\":615.0,\"daily_units\":{\"time\":\"iso8601\",\"temperature_2m_max\":\"°C\",\"temperature_2m_mean\":\"°C\",\"precipitation_hours\":\"h\"},\"daily\":{\"time\":[\"2025-05-02\",\"2025-05-03\",\"2025-05-04\",\"2025-05-05\",\"2025-05-06\",\"2025-05-07\",\"2025-05-08\"],\"temperature_2m_max\":[30.5,29.4,30.1,29.8,28.4,30.5,30.9],\"temperature_2m_mean\":[25.6,25.3,25.8,25.8,25.2,25.9,26.1],\"precipitation_hours\":[6.0,8.0,5.0,8.0,6.0,0.0,0.0]}}\n",
      "Nimes OK (4.351788, 43.839648)\n",
      "Status code: 200\n",
      "URL: https://api.open-meteo.com/v1/forecast?latitude=4.175082&longitude=43.55451&timezone=Europe%2FBerlin&timezone_abbreviation=CEST&daily=temperature_2m_max&daily=temperature_2m_mean&daily=precipitation_hours\n",
      "Response: {\"latitude\":4.125,\"longitude\":43.5,\"generationtime_ms\":0.03314018249511719,\"utc_offset_seconds\":7200,\"timezone\":\"Europe/Berlin\",\"timezone_abbreviation\":\"GMT+2\",\"elevation\":470.0,\"daily_units\":{\"time\":\"iso8601\",\"temperature_2m_max\":\"°C\",\"temperature_2m_mean\":\"°C\",\"precipitation_hours\":\"h\"},\"daily\":{\"time\":[\"2025-05-02\",\"2025-05-03\",\"2025-05-04\",\"2025-05-05\",\"2025-05-06\",\"2025-05-07\",\"2025-05-08\"],\"temperature_2m_max\":[32.2,30.3,31.1,30.7,30.3,31.7,32.2],\"temperature_2m_mean\":[27.0,26.3,26.7,26.9,26.4,27.0,27.4],\"precipitation_hours\":[7.0,15.0,2.0,5.0,3.0,0.0,0.0]}}\n",
      "Aigues Mortes OK (4.175082, 43.55451)\n",
      "Status code: 200\n",
      "URL: https://api.open-meteo.com/v1/forecast?latitude=4.394262&longitude=43.479513&timezone=Europe%2FBerlin&timezone_abbreviation=CEST&daily=temperature_2m_max&daily=temperature_2m_mean&daily=precipitation_hours\n",
      "Response: {\"latitude\":4.375,\"longitude\":43.5,\"generationtime_ms\":0.03528594970703125,\"utc_offset_seconds\":7200,\"timezone\":\"Europe/Berlin\",\"timezone_abbreviation\":\"GMT+2\",\"elevation\":496.0,\"daily_units\":{\"time\":\"iso8601\",\"temperature_2m_max\":\"°C\",\"temperature_2m_mean\":\"°C\",\"precipitation_hours\":\"h\"},\"daily\":{\"time\":[\"2025-05-02\",\"2025-05-03\",\"2025-05-04\",\"2025-05-05\",\"2025-05-06\",\"2025-05-07\",\"2025-05-08\"],\"temperature_2m_max\":[31.7,29.4,30.7,30.1,29.5,31.2,31.6],\"temperature_2m_mean\":[26.9,26.0,26.5,26.5,25.9,26.7,27.0],\"precipitation_hours\":[9.0,12.0,7.0,7.0,15.0,0.0,0.0]}}\n",
      "Saintes Maries de la mer OK (4.394262, 43.479513)\n",
      "Status code: 200\n",
      "URL: https://api.open-meteo.com/v1/forecast?latitude=3.075825&longitude=42.515405&timezone=Europe%2FBerlin&timezone_abbreviation=CEST&daily=temperature_2m_max&daily=temperature_2m_mean&daily=precipitation_hours\n",
      "Response: {\"latitude\":3.125,\"longitude\":42.5,\"generationtime_ms\":0.033855438232421875,\"utc_offset_seconds\":7200,\"timezone\":\"Europe/Berlin\",\"timezone_abbreviation\":\"GMT+2\",\"elevation\":207.0,\"daily_units\":{\"time\":\"iso8601\",\"temperature_2m_max\":\"°C\",\"temperature_2m_mean\":\"°C\",\"precipitation_hours\":\"h\"},\"daily\":{\"time\":[\"2025-05-02\",\"2025-05-03\",\"2025-05-04\",\"2025-05-05\",\"2025-05-06\",\"2025-05-07\",\"2025-05-08\"],\"temperature_2m_max\":[35.2,33.9,34.0,34.0,34.1,34.6,35.0],\"temperature_2m_mean\":[29.8,28.3,29.2,29.4,28.9,29.3,29.5],\"precipitation_hours\":[2.0,7.0,1.0,3.0,6.0,0.0,0.0]}}\n",
      "Collioure OK (3.075825, 42.515405)\n",
      "Status code: 200\n",
      "URL: https://api.open-meteo.com/v1/forecast?latitude=2.354437&longitude=43.209017&timezone=Europe%2FBerlin&timezone_abbreviation=CEST&daily=temperature_2m_max&daily=temperature_2m_mean&daily=precipitation_hours\n",
      "Response: {\"latitude\":2.375,\"longitude\":43.25,\"generationtime_ms\":0.030994415283203125,\"utc_offset_seconds\":7200,\"timezone\":\"Europe/Berlin\",\"timezone_abbreviation\":\"GMT+2\",\"elevation\":247.0,\"daily_units\":{\"time\":\"iso8601\",\"temperature_2m_max\":\"°C\",\"temperature_2m_mean\":\"°C\",\"precipitation_hours\":\"h\"},\"daily\":{\"time\":[\"2025-05-02\",\"2025-05-03\",\"2025-05-04\",\"2025-05-05\",\"2025-05-06\",\"2025-05-07\",\"2025-05-08\"],\"temperature_2m_max\":[33.4,32.8,32.9,32.6,31.5,32.5,32.9],\"temperature_2m_mean\":[28.4,27.4,28.0,27.9,27.3,27.6,27.8],\"precipitation_hours\":[2.0,9.0,5.0,6.0,3.0,0.0,0.0]}}\n",
      "Carcassonne OK (2.354437, 43.209017)\n",
      "Status code: 200\n",
      "URL: https://api.open-meteo.com/v1/forecast?latitude=1.503476&longitude=42.956535&timezone=Europe%2FBerlin&timezone_abbreviation=CEST&daily=temperature_2m_max&daily=temperature_2m_mean&daily=precipitation_hours\n",
      "Response: {\"latitude\":1.5,\"longitude\":43.0,\"generationtime_ms\":0.029325485229492188,\"utc_offset_seconds\":7200,\"timezone\":\"Europe/Berlin\",\"timezone_abbreviation\":\"GMT+2\",\"elevation\":90.0,\"daily_units\":{\"time\":\"iso8601\",\"temperature_2m_max\":\"°C\",\"temperature_2m_mean\":\"°C\",\"precipitation_hours\":\"h\"},\"daily\":{\"time\":[\"2025-05-02\",\"2025-05-03\",\"2025-05-04\",\"2025-05-05\",\"2025-05-06\",\"2025-05-07\",\"2025-05-08\"],\"temperature_2m_max\":[35.1,33.8,34.0,33.6,33.0,32.9,34.2],\"temperature_2m_mean\":[29.5,28.5,29.1,28.9,28.1,28.1,28.2],\"precipitation_hours\":[5.0,6.0,3.0,5.0,3.0,3.0,3.0]}}\n",
      "Ariege OK (1.503476, 42.956535)\n",
      "Status code: 200\n",
      "URL: https://api.open-meteo.com/v1/forecast?latitude=1.437487&longitude=43.60766&timezone=Europe%2FBerlin&timezone_abbreviation=CEST&daily=temperature_2m_max&daily=temperature_2m_mean&daily=precipitation_hours\n",
      "Response: {\"latitude\":1.375,\"longitude\":43.625,\"generationtime_ms\":0.03159046173095703,\"utc_offset_seconds\":7200,\"timezone\":\"Europe/Berlin\",\"timezone_abbreviation\":\"GMT+2\",\"elevation\":49.0,\"daily_units\":{\"time\":\"iso8601\",\"temperature_2m_max\":\"°C\",\"temperature_2m_mean\":\"°C\",\"precipitation_hours\":\"h\"},\"daily\":{\"time\":[\"2025-05-02\",\"2025-05-03\",\"2025-05-04\",\"2025-05-05\",\"2025-05-06\",\"2025-05-07\",\"2025-05-08\"],\"temperature_2m_max\":[34.1,34.8,34.2,33.5,33.0,33.2,33.7],\"temperature_2m_mean\":[29.2,28.6,29.1,28.7,28.2,28.2,28.1],\"precipitation_hours\":[4.0,7.0,2.0,4.0,3.0,3.0,6.0]}}\n",
      "Toulouse OK (1.437487, 43.60766)\n",
      "Status code: 200\n",
      "URL: https://api.open-meteo.com/v1/forecast?latitude=1.366155&longitude=44.022919&timezone=Europe%2FBerlin&timezone_abbreviation=CEST&daily=temperature_2m_max&daily=temperature_2m_mean&daily=precipitation_hours\n",
      "Response: {\"latitude\":1.375,\"longitude\":44.0,\"generationtime_ms\":0.028252601623535156,\"utc_offset_seconds\":7200,\"timezone\":\"Europe/Berlin\",\"timezone_abbreviation\":\"GMT+2\",\"elevation\":50.0,\"daily_units\":{\"time\":\"iso8601\",\"temperature_2m_max\":\"°C\",\"temperature_2m_mean\":\"°C\",\"precipitation_hours\":\"h\"},\"daily\":{\"time\":[\"2025-05-02\",\"2025-05-03\",\"2025-05-04\",\"2025-05-05\",\"2025-05-06\",\"2025-05-07\",\"2025-05-08\"],\"temperature_2m_max\":[33.2,34.5,34.3,34.0,33.5,33.3,32.7],\"temperature_2m_mean\":[29.2,29.0,29.1,28.8,28.5,28.1,28.1],\"precipitation_hours\":[3.0,7.0,4.0,7.0,9.0,3.0,6.0]}}\n",
      "Montauban OK (1.366155, 44.022919)\n",
      "Status code: 200\n",
      "URL: https://api.open-meteo.com/v1/forecast?latitude=-1.564367&longitude=43.479116&timezone=Europe%2FBerlin&timezone_abbreviation=CEST&daily=temperature_2m_max&daily=temperature_2m_mean&daily=precipitation_hours\n",
      "Response: {\"latitude\":-1.625,\"longitude\":43.5,\"generationtime_ms\":0.7094144821166992,\"utc_offset_seconds\":7200,\"timezone\":\"Europe/Berlin\",\"timezone_abbreviation\":\"GMT+2\",\"elevation\":0.0,\"daily_units\":{\"time\":\"iso8601\",\"temperature_2m_max\":\"°C\",\"temperature_2m_mean\":\"°C\",\"precipitation_hours\":\"h\"},\"daily\":{\"time\":[\"2025-05-02\",\"2025-05-03\",\"2025-05-04\",\"2025-05-05\",\"2025-05-06\",\"2025-05-07\",\"2025-05-08\"],\"temperature_2m_max\":[29.1,28.9,29.0,28.5,28.0,28.0,28.5],\"temperature_2m_mean\":[28.8,28.3,28.6,28.2,27.7,27.7,28.1],\"precipitation_hours\":[7.0,13.0,14.0,20.0,24.0,24.0,21.0]}}\n",
      "Biarritz OK (-1.564367, 43.479116)\n",
      "Status code: 200\n",
      "URL: https://api.open-meteo.com/v1/forecast?latitude=-1.467888&longitude=43.48541&timezone=Europe%2FBerlin&timezone_abbreviation=CEST&daily=temperature_2m_max&daily=temperature_2m_mean&daily=precipitation_hours\n",
      "Response: {\"latitude\":-1.5,\"longitude\":43.5,\"generationtime_ms\":0.046133995056152344,\"utc_offset_seconds\":7200,\"timezone\":\"Europe/Berlin\",\"timezone_abbreviation\":\"GMT+2\",\"elevation\":0.0,\"daily_units\":{\"time\":\"iso8601\",\"temperature_2m_max\":\"°C\",\"temperature_2m_mean\":\"°C\",\"precipitation_hours\":\"h\"},\"daily\":{\"time\":[\"2025-05-02\",\"2025-05-03\",\"2025-05-04\",\"2025-05-05\",\"2025-05-06\",\"2025-05-07\",\"2025-05-08\"],\"temperature_2m_max\":[29.2,28.8,29.0,28.5,28.0,28.0,28.5],\"temperature_2m_mean\":[28.8,28.3,28.5,28.2,27.7,27.7,28.1],\"precipitation_hours\":[6.0,16.0,12.0,18.0,24.0,21.0,21.0]}}\n",
      "Bayonne OK (-1.467888, 43.48541)\n",
      "Status code: 200\n",
      "URL: https://api.open-meteo.com/v1/forecast?latitude=-1.185842&longitude=46.157032&timezone=Europe%2FBerlin&timezone_abbreviation=CEST&daily=temperature_2m_max&daily=temperature_2m_mean&daily=precipitation_hours\n",
      "Response: {\"latitude\":-1.125,\"longitude\":46.125,\"generationtime_ms\":0.030517578125,\"utc_offset_seconds\":7200,\"timezone\":\"Europe/Berlin\",\"timezone_abbreviation\":\"GMT+2\",\"elevation\":0.0,\"daily_units\":{\"time\":\"iso8601\",\"temperature_2m_max\":\"°C\",\"temperature_2m_mean\":\"°C\",\"precipitation_hours\":\"h\"},\"daily\":{\"time\":[\"2025-05-02\",\"2025-05-03\",\"2025-05-04\",\"2025-05-05\",\"2025-05-06\",\"2025-05-07\",\"2025-05-08\"],\"temperature_2m_max\":[29.5,29.3,29.4,29.0,28.8,28.8,29.3],\"temperature_2m_mean\":[29.2,28.9,29.0,28.7,28.4,28.5,28.7],\"precipitation_hours\":[1.0,15.0,6.0,12.0,21.0,21.0,12.0]}}\n",
      "La Rochelle OK (-1.185842, 46.157032)\n"
     ]
    },
    {
     "data": {
      "text/html": [
       "<div>\n",
       "<style scoped>\n",
       "    .dataframe tbody tr th:only-of-type {\n",
       "        vertical-align: middle;\n",
       "    }\n",
       "\n",
       "    .dataframe tbody tr th {\n",
       "        vertical-align: top;\n",
       "    }\n",
       "\n",
       "    .dataframe thead th {\n",
       "        text-align: right;\n",
       "    }\n",
       "</style>\n",
       "<table border=\"1\" class=\"dataframe\">\n",
       "  <thead>\n",
       "    <tr style=\"text-align: right;\">\n",
       "      <th></th>\n",
       "      <th>time</th>\n",
       "      <th>temperature_2m_max</th>\n",
       "      <th>temperature_2m_mean</th>\n",
       "      <th>precipitation_hours</th>\n",
       "      <th>city</th>\n",
       "      <th>latitude</th>\n",
       "      <th>longitude</th>\n",
       "    </tr>\n",
       "  </thead>\n",
       "  <tbody>\n",
       "    <tr>\n",
       "      <th>0</th>\n",
       "      <td>2025-05-02</td>\n",
       "      <td>30.7</td>\n",
       "      <td>25.3</td>\n",
       "      <td>7.0</td>\n",
       "      <td>Mont Saint Michel</td>\n",
       "      <td>7.0889</td>\n",
       "      <td>43.849841</td>\n",
       "    </tr>\n",
       "    <tr>\n",
       "      <th>1</th>\n",
       "      <td>2025-05-03</td>\n",
       "      <td>28.9</td>\n",
       "      <td>24.6</td>\n",
       "      <td>7.0</td>\n",
       "      <td>Mont Saint Michel</td>\n",
       "      <td>7.0889</td>\n",
       "      <td>43.849841</td>\n",
       "    </tr>\n",
       "    <tr>\n",
       "      <th>2</th>\n",
       "      <td>2025-05-04</td>\n",
       "      <td>30.3</td>\n",
       "      <td>25.3</td>\n",
       "      <td>7.0</td>\n",
       "      <td>Mont Saint Michel</td>\n",
       "      <td>7.0889</td>\n",
       "      <td>43.849841</td>\n",
       "    </tr>\n",
       "    <tr>\n",
       "      <th>3</th>\n",
       "      <td>2025-05-05</td>\n",
       "      <td>28.0</td>\n",
       "      <td>24.2</td>\n",
       "      <td>10.0</td>\n",
       "      <td>Mont Saint Michel</td>\n",
       "      <td>7.0889</td>\n",
       "      <td>43.849841</td>\n",
       "    </tr>\n",
       "    <tr>\n",
       "      <th>4</th>\n",
       "      <td>2025-05-06</td>\n",
       "      <td>28.8</td>\n",
       "      <td>24.7</td>\n",
       "      <td>9.0</td>\n",
       "      <td>Mont Saint Michel</td>\n",
       "      <td>7.0889</td>\n",
       "      <td>43.849841</td>\n",
       "    </tr>\n",
       "  </tbody>\n",
       "</table>\n",
       "</div>"
      ],
      "text/plain": [
       "         time  temperature_2m_max  temperature_2m_mean  precipitation_hours  \\\n",
       "0  2025-05-02                30.7                 25.3                  7.0   \n",
       "1  2025-05-03                28.9                 24.6                  7.0   \n",
       "2  2025-05-04                30.3                 25.3                  7.0   \n",
       "3  2025-05-05                28.0                 24.2                 10.0   \n",
       "4  2025-05-06                28.8                 24.7                  9.0   \n",
       "\n",
       "                city  latitude  longitude  \n",
       "0  Mont Saint Michel    7.0889  43.849841  \n",
       "1  Mont Saint Michel    7.0889  43.849841  \n",
       "2  Mont Saint Michel    7.0889  43.849841  \n",
       "3  Mont Saint Michel    7.0889  43.849841  \n",
       "4  Mont Saint Michel    7.0889  43.849841  "
      ]
     },
     "execution_count": 126,
     "metadata": {},
     "output_type": "execute_result"
    }
   ],
   "source": [
    "def json_to_df(weather_data, city, lat, lon):\n",
    "    if weather_data and \"daily\" in weather_data:\n",
    "        df = pd.DataFrame(weather_data[\"daily\"])\n",
    "        df[\"city\"] = city\n",
    "        df[\"latitude\"] = lat\n",
    "        df[\"longitude\"] = lon\n",
    "        return df\n",
    "    else:\n",
    "        return pd.DataFrame()  # DataFrame vide\n",
    "\n",
    "# Génération du DataFrame final\n",
    "df_final = pd.DataFrame()\n",
    "\n",
    "for city in villes:\n",
    "    lat, lon = get_coordinates(city)\n",
    "    if lat is not None and lon is not None:\n",
    "        weather_data = get_weather(lat, lon)\n",
    "        df_city = json_to_df(weather_data, city, lat, lon)\n",
    "        df_final = pd.concat([df_final, df_city], ignore_index=True)\n",
    "        print(f\"{city} OK ({lat}, {lon})\")\n",
    "        \n",
    "\n",
    "df_final.reset_index(drop=True, inplace=True)\n",
    "df_final.head()"
   ]
  },
  {
   "cell_type": "code",
   "execution_count": null,
   "metadata": {},
   "outputs": [
    {
     "data": {
      "text/plain": [
       "(245, 7)"
      ]
     },
     "execution_count": 127,
     "metadata": {},
     "output_type": "execute_result"
    }
   ],
   "source": [
    "df_final.shape # on vérifie les dimensions du dataframe final. On a 245 lignes car nous avons 35 villes avec 7 jours de prévisions météo par ville"
   ]
  },
  {
   "cell_type": "code",
   "execution_count": 128,
   "metadata": {},
   "outputs": [
    {
     "data": {
      "text/plain": [
       "time                   False\n",
       "temperature_2m_max     False\n",
       "temperature_2m_mean    False\n",
       "precipitation_hours    False\n",
       "city                   False\n",
       "latitude               False\n",
       "longitude              False\n",
       "dtype: bool"
      ]
     },
     "execution_count": 128,
     "metadata": {},
     "output_type": "execute_result"
    }
   ],
   "source": [
    "df_final.isnull().any() #verification des valeurs nulles"
   ]
  },
  {
   "cell_type": "code",
   "execution_count": 129,
   "metadata": {},
   "outputs": [
    {
     "data": {
      "text/plain": [
       "35"
      ]
     },
     "execution_count": 129,
     "metadata": {},
     "output_type": "execute_result"
    }
   ],
   "source": [
    "df_final['city'].nunique() # verification rapide du nombre de ville unique dans notre dataframe"
   ]
  },
  {
   "cell_type": "code",
   "execution_count": 130,
   "metadata": {},
   "outputs": [
    {
     "data": {
      "text/html": [
       "<div>\n",
       "<style scoped>\n",
       "    .dataframe tbody tr th:only-of-type {\n",
       "        vertical-align: middle;\n",
       "    }\n",
       "\n",
       "    .dataframe tbody tr th {\n",
       "        vertical-align: top;\n",
       "    }\n",
       "\n",
       "    .dataframe thead th {\n",
       "        text-align: right;\n",
       "    }\n",
       "</style>\n",
       "<table border=\"1\" class=\"dataframe\">\n",
       "  <thead>\n",
       "    <tr style=\"text-align: right;\">\n",
       "      <th></th>\n",
       "      <th>Date</th>\n",
       "      <th>Temperature_max (°C)</th>\n",
       "      <th>Temperature_moyenne</th>\n",
       "      <th>Temps_pluie (h)</th>\n",
       "      <th>Ville</th>\n",
       "      <th>latitude</th>\n",
       "      <th>longitude</th>\n",
       "    </tr>\n",
       "  </thead>\n",
       "  <tbody>\n",
       "    <tr>\n",
       "      <th>0</th>\n",
       "      <td>2025-05-02</td>\n",
       "      <td>30.7</td>\n",
       "      <td>25.3</td>\n",
       "      <td>7.0</td>\n",
       "      <td>Mont Saint Michel</td>\n",
       "      <td>7.0889</td>\n",
       "      <td>43.849841</td>\n",
       "    </tr>\n",
       "    <tr>\n",
       "      <th>1</th>\n",
       "      <td>2025-05-03</td>\n",
       "      <td>28.9</td>\n",
       "      <td>24.6</td>\n",
       "      <td>7.0</td>\n",
       "      <td>Mont Saint Michel</td>\n",
       "      <td>7.0889</td>\n",
       "      <td>43.849841</td>\n",
       "    </tr>\n",
       "    <tr>\n",
       "      <th>2</th>\n",
       "      <td>2025-05-04</td>\n",
       "      <td>30.3</td>\n",
       "      <td>25.3</td>\n",
       "      <td>7.0</td>\n",
       "      <td>Mont Saint Michel</td>\n",
       "      <td>7.0889</td>\n",
       "      <td>43.849841</td>\n",
       "    </tr>\n",
       "    <tr>\n",
       "      <th>3</th>\n",
       "      <td>2025-05-05</td>\n",
       "      <td>28.0</td>\n",
       "      <td>24.2</td>\n",
       "      <td>10.0</td>\n",
       "      <td>Mont Saint Michel</td>\n",
       "      <td>7.0889</td>\n",
       "      <td>43.849841</td>\n",
       "    </tr>\n",
       "    <tr>\n",
       "      <th>4</th>\n",
       "      <td>2025-05-06</td>\n",
       "      <td>28.8</td>\n",
       "      <td>24.7</td>\n",
       "      <td>9.0</td>\n",
       "      <td>Mont Saint Michel</td>\n",
       "      <td>7.0889</td>\n",
       "      <td>43.849841</td>\n",
       "    </tr>\n",
       "  </tbody>\n",
       "</table>\n",
       "</div>"
      ],
      "text/plain": [
       "         Date  Temperature_max (°C)  Temperature_moyenne  Temps_pluie (h)  \\\n",
       "0  2025-05-02                  30.7                 25.3              7.0   \n",
       "1  2025-05-03                  28.9                 24.6              7.0   \n",
       "2  2025-05-04                  30.3                 25.3              7.0   \n",
       "3  2025-05-05                  28.0                 24.2             10.0   \n",
       "4  2025-05-06                  28.8                 24.7              9.0   \n",
       "\n",
       "               Ville  latitude  longitude  \n",
       "0  Mont Saint Michel    7.0889  43.849841  \n",
       "1  Mont Saint Michel    7.0889  43.849841  \n",
       "2  Mont Saint Michel    7.0889  43.849841  \n",
       "3  Mont Saint Michel    7.0889  43.849841  \n",
       "4  Mont Saint Michel    7.0889  43.849841  "
      ]
     },
     "execution_count": 130,
     "metadata": {},
     "output_type": "execute_result"
    }
   ],
   "source": [
    "# On renomme les colonnes pour plus de clarté\n",
    "df_final.rename(columns={\n",
    "    'temperature_2m_max': 'Temperature_max (°C)',\n",
    "    'temperature_2m_mean': 'Temperature_moyenne',\n",
    "    'precipitation_hours': 'Temps_pluie (h)',\n",
    "    'city': 'Ville',\n",
    "    'time': 'Date'\n",
    "}, inplace=True)\n",
    "\n",
    "df_final.head()"
   ]
  },
  {
   "cell_type": "code",
   "execution_count": 131,
   "metadata": {},
   "outputs": [
    {
     "data": {
      "text/plain": [
       "Date                     object\n",
       "Temperature_max (°C)    float64\n",
       "Temperature_moyenne     float64\n",
       "Temps_pluie (h)         float64\n",
       "Ville                    object\n",
       "latitude                float64\n",
       "longitude               float64\n",
       "dtype: object"
      ]
     },
     "execution_count": 131,
     "metadata": {},
     "output_type": "execute_result"
    }
   ],
   "source": [
    "df_final.dtypes # on vérifie que la colonne date est bien au format datetime"
   ]
  },
  {
   "cell_type": "code",
   "execution_count": 132,
   "metadata": {},
   "outputs": [
    {
     "data": {
      "text/plain": [
       "Date                    datetime64[ns]\n",
       "Temperature_max (°C)           float64\n",
       "Temperature_moyenne            float64\n",
       "Temps_pluie (h)                float64\n",
       "Ville                           object\n",
       "latitude                       float64\n",
       "longitude                      float64\n",
       "dtype: object"
      ]
     },
     "execution_count": 132,
     "metadata": {},
     "output_type": "execute_result"
    }
   ],
   "source": [
    "# Elle est au format object, donc on va donc la convertir\n",
    "\n",
    "df_final['Date'] = pd.to_datetime(df_final['Date'], format='%Y-%m-%d')\n",
    "df_final.dtypes"
   ]
  },
  {
   "cell_type": "code",
   "execution_count": 133,
   "metadata": {},
   "outputs": [
    {
     "data": {
      "text/html": [
       "<div>\n",
       "<style scoped>\n",
       "    .dataframe tbody tr th:only-of-type {\n",
       "        vertical-align: middle;\n",
       "    }\n",
       "\n",
       "    .dataframe tbody tr th {\n",
       "        vertical-align: top;\n",
       "    }\n",
       "\n",
       "    .dataframe thead th {\n",
       "        text-align: right;\n",
       "    }\n",
       "</style>\n",
       "<table border=\"1\" class=\"dataframe\">\n",
       "  <thead>\n",
       "    <tr style=\"text-align: right;\">\n",
       "      <th></th>\n",
       "      <th>Date</th>\n",
       "      <th>Temperature_max (°C)</th>\n",
       "      <th>Temperature_moyenne</th>\n",
       "      <th>Temps_pluie (h)</th>\n",
       "      <th>Ville</th>\n",
       "      <th>latitude</th>\n",
       "      <th>longitude</th>\n",
       "    </tr>\n",
       "  </thead>\n",
       "  <tbody>\n",
       "    <tr>\n",
       "      <th>0</th>\n",
       "      <td>2025-05-02</td>\n",
       "      <td>30.7</td>\n",
       "      <td>25.3</td>\n",
       "      <td>7.0</td>\n",
       "      <td>Mont Saint Michel</td>\n",
       "      <td>7.0889</td>\n",
       "      <td>43.849841</td>\n",
       "    </tr>\n",
       "    <tr>\n",
       "      <th>1</th>\n",
       "      <td>2025-05-03</td>\n",
       "      <td>28.9</td>\n",
       "      <td>24.6</td>\n",
       "      <td>7.0</td>\n",
       "      <td>Mont Saint Michel</td>\n",
       "      <td>7.0889</td>\n",
       "      <td>43.849841</td>\n",
       "    </tr>\n",
       "    <tr>\n",
       "      <th>2</th>\n",
       "      <td>2025-05-04</td>\n",
       "      <td>30.3</td>\n",
       "      <td>25.3</td>\n",
       "      <td>7.0</td>\n",
       "      <td>Mont Saint Michel</td>\n",
       "      <td>7.0889</td>\n",
       "      <td>43.849841</td>\n",
       "    </tr>\n",
       "    <tr>\n",
       "      <th>3</th>\n",
       "      <td>2025-05-05</td>\n",
       "      <td>28.0</td>\n",
       "      <td>24.2</td>\n",
       "      <td>10.0</td>\n",
       "      <td>Mont Saint Michel</td>\n",
       "      <td>7.0889</td>\n",
       "      <td>43.849841</td>\n",
       "    </tr>\n",
       "    <tr>\n",
       "      <th>4</th>\n",
       "      <td>2025-05-06</td>\n",
       "      <td>28.8</td>\n",
       "      <td>24.7</td>\n",
       "      <td>9.0</td>\n",
       "      <td>Mont Saint Michel</td>\n",
       "      <td>7.0889</td>\n",
       "      <td>43.849841</td>\n",
       "    </tr>\n",
       "  </tbody>\n",
       "</table>\n",
       "</div>"
      ],
      "text/plain": [
       "        Date  Temperature_max (°C)  Temperature_moyenne  Temps_pluie (h)  \\\n",
       "0 2025-05-02                  30.7                 25.3              7.0   \n",
       "1 2025-05-03                  28.9                 24.6              7.0   \n",
       "2 2025-05-04                  30.3                 25.3              7.0   \n",
       "3 2025-05-05                  28.0                 24.2             10.0   \n",
       "4 2025-05-06                  28.8                 24.7              9.0   \n",
       "\n",
       "               Ville  latitude  longitude  \n",
       "0  Mont Saint Michel    7.0889  43.849841  \n",
       "1  Mont Saint Michel    7.0889  43.849841  \n",
       "2  Mont Saint Michel    7.0889  43.849841  \n",
       "3  Mont Saint Michel    7.0889  43.849841  \n",
       "4  Mont Saint Michel    7.0889  43.849841  "
      ]
     },
     "execution_count": 133,
     "metadata": {},
     "output_type": "execute_result"
    }
   ],
   "source": [
    "df_final.head()"
   ]
  },
  {
   "cell_type": "markdown",
   "metadata": {},
   "source": [
    "# A ENREGISTRER EN CSV"
   ]
  },
  {
   "cell_type": "markdown",
   "metadata": {},
   "source": [
    "On choisit les 5 meilleures destinations en fonction des températures moyennes et precipitations moyennes"
   ]
  },
  {
   "cell_type": "code",
   "execution_count": 135,
   "metadata": {},
   "outputs": [
    {
     "name": "stdout",
     "output_type": "stream",
     "text": [
      "Ville\n",
      "Lille        29.7\n",
      "Amiens       29.6\n",
      "Besancon     29.4\n",
      "Collioure    29.4\n",
      "Rouen        29.2\n",
      "Name: Temperature_moyenne, dtype: float64\n"
     ]
    }
   ],
   "source": [
    "# on va chercher les 5 villes avec la température moyenne la plus élevée sur la période de 7 jours ET un temps de pluie inférieur à 1h\n",
    "# On filtre le DataFrame pour ne garder que les heures avec peu ou pas de pluie\n",
    "df_filtre = df_final[df_final[\"Temps_pluie (h)\"] < 1]\n",
    "\n",
    "# Puis on fait la moyenne des températures pour chaque ville, et on trie\n",
    "top5 = df_filtre.groupby('Ville')['Temperature_moyenne'].mean().sort_values(ascending=False).head(5)\n",
    "\n",
    "print(top5)\n"
   ]
  },
  {
   "cell_type": "markdown",
   "metadata": {},
   "source": [
    "Pour la suite de notre projet, et notamment du scrapping des hôtels sur Booking, nous nous concentrerons sur les villes ci-dessus, choisies en fonction de leur température moyenne sur 7 jours ainsi que du temps de pluie journalier inférieur à 1h"
   ]
  },
  {
   "cell_type": "code",
   "execution_count": null,
   "metadata": {},
   "outputs": [],
   "source": []
  }
 ],
 "metadata": {
  "kernelspec": {
   "display_name": "base",
   "language": "python",
   "name": "python3"
  },
  "language_info": {
   "codemirror_mode": {
    "name": "ipython",
    "version": 3
   },
   "file_extension": ".py",
   "mimetype": "text/x-python",
   "name": "python",
   "nbconvert_exporter": "python",
   "pygments_lexer": "ipython3",
   "version": "3.12.4"
  }
 },
 "nbformat": 4,
 "nbformat_minor": 2
}
