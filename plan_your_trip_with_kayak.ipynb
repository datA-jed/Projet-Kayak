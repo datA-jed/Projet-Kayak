{
 "cells": [
  {
   "cell_type": "markdown",
   "metadata": {},
   "source": [
    "# Project\n",
    "- 70% des utilisateurs souhaitent plus d'informations à propos de leur destination\n",
    "- Chercher les meilleures villes en fonction de la météo \n",
    "- Proposer des hôtels sur ces villes"
   ]
  },
  {
   "cell_type": "code",
   "execution_count": 1,
   "metadata": {},
   "outputs": [],
   "source": [
    "import requests\n",
    "import json\n",
    "import pandas as pd\n",
    "import os\n",
    "from dotenv import load_dotenv  "
   ]
  },
  {
   "cell_type": "markdown",
   "metadata": {},
   "source": [
    "# Récupération des coordonnées GPS des 35 meilleures villes où voyager en France selon One Week In.com"
   ]
  },
  {
   "cell_type": "markdown",
   "metadata": {},
   "source": [
    "### Test de l'API sur une ville pour voir si l'API renvoie bien quelque chose"
   ]
  },
  {
   "cell_type": "code",
   "execution_count": 2,
   "metadata": {},
   "outputs": [],
   "source": [
    "url = 'https://data.geopf.fr/geocodage/search'"
   ]
  },
  {
   "cell_type": "code",
   "execution_count": 3,
   "metadata": {},
   "outputs": [
    {
     "data": {
      "text/plain": [
       "{'type': 'FeatureCollection',\n",
       " 'features': [{'type': 'Feature',\n",
       "   'geometry': {'type': 'Point', 'coordinates': [5.995538, 45.546586]},\n",
       "   'properties': {'label': 'Mont Saint Michel 73190 Challes-les-Eaux',\n",
       "    'score': 0.946500909090909,\n",
       "    'type': 'locality',\n",
       "    'importance': 0.41151,\n",
       "    'id': '73064_B039',\n",
       "    'banId': 'f67c5810-39e4-4a3d-a92c-89380b8e6ab3',\n",
       "    'name': 'Mont Saint Michel',\n",
       "    'postcode': '73190',\n",
       "    'citycode': '73064',\n",
       "    'x': 933687.63,\n",
       "    'y': 6498554.9,\n",
       "    'city': 'Challes-les-Eaux',\n",
       "    'context': '73, Savoie, Auvergne-Rhône-Alpes',\n",
       "    'locality': 'Mont Saint Michel',\n",
       "    '_type': 'address'}},\n",
       "  {'type': 'Feature',\n",
       "   'geometry': {'type': 'Point', 'coordinates': [-1.538198, 47.243963]},\n",
       "   'properties': {'label': 'Avenue du Mont Saint Michel 44300 Nantes',\n",
       "    'score': 0.6999590909090908,\n",
       "    'id': '44109_5785',\n",
       "    'banId': 'bfc8760b-6503-436a-b194-96398ee4dd18',\n",
       "    'name': 'Avenue du Mont Saint Michel',\n",
       "    'postcode': '44300',\n",
       "    'citycode': '44109',\n",
       "    'x': 356904.59,\n",
       "    'y': 6692490.84,\n",
       "    'city': 'Nantes',\n",
       "    'context': '44, Loire-Atlantique, Pays de la Loire',\n",
       "    'type': 'street',\n",
       "    'importance': 0.69955,\n",
       "    'street': 'Avenue du Mont Saint Michel',\n",
       "    '_type': 'address'}},\n",
       "  {'type': 'Feature',\n",
       "   'geometry': {'type': 'Point', 'coordinates': [5.880527, 45.5847]},\n",
       "   'properties': {'label': 'Rue du Mont-Saint-Michel 73000 Chambéry',\n",
       "    'score': 0.6960299999999999,\n",
       "    'id': '73065_2730',\n",
       "    'banId': '6b5e2784-0aa9-4e9e-81bc-ad488ddea5b8',\n",
       "    'name': 'Rue du Mont-Saint-Michel',\n",
       "    'postcode': '73000',\n",
       "    'citycode': '73065',\n",
       "    'x': 924565.09,\n",
       "    'y': 6502450.91,\n",
       "    'city': 'Chambéry',\n",
       "    'context': '73, Savoie, Auvergne-Rhône-Alpes',\n",
       "    'type': 'street',\n",
       "    'importance': 0.65633,\n",
       "    'street': 'Rue du Mont-Saint-Michel',\n",
       "    '_type': 'address'}},\n",
       "  {'type': 'Feature',\n",
       "   'geometry': {'type': 'Point', 'coordinates': [-0.585062, 48.742556]},\n",
       "   'properties': {'label': 'Rue du Mont Saint Michel 61100 Flers',\n",
       "    'score': 0.6944281818181818,\n",
       "    'id': '61169_0980',\n",
       "    'banId': 'd06878bc-f53f-4d60-b503-62512fcb9720',\n",
       "    'name': 'Rue du Mont Saint Michel',\n",
       "    'postcode': '61100',\n",
       "    'citycode': '61169',\n",
       "    'x': 436465.42,\n",
       "    'y': 6855143.35,\n",
       "    'city': 'Flers',\n",
       "    'context': '61, Orne, Normandie',\n",
       "    'type': 'street',\n",
       "    'importance': 0.63871,\n",
       "    'street': 'Rue du Mont Saint Michel',\n",
       "    '_type': 'address'}},\n",
       "  {'type': 'Feature',\n",
       "   'geometry': {'type': 'Point', 'coordinates': [0.610109, 48.757856]},\n",
       "   'properties': {'label': \"Avenue du Mont Saint Michel 61300 L'Aigle\",\n",
       "    'score': 0.6932445454545454,\n",
       "    'id': '61214_0795',\n",
       "    'banId': 'ff8d25bd-f8cb-4e3d-b607-135d2b860889',\n",
       "    'name': 'Avenue du Mont Saint Michel',\n",
       "    'postcode': '61300',\n",
       "    'citycode': '61214',\n",
       "    'x': 524339.27,\n",
       "    'y': 6853519.42,\n",
       "    'city': \"L'Aigle\",\n",
       "    'context': '61, Orne, Normandie',\n",
       "    'type': 'street',\n",
       "    'importance': 0.62569,\n",
       "    'street': 'Avenue du Mont Saint Michel',\n",
       "    '_type': 'address'}},\n",
       "  {'type': 'Feature',\n",
       "   'geometry': {'type': 'Point', 'coordinates': [-1.62882, 48.186935]},\n",
       "   'properties': {'label': 'Rue du Mont Saint-Michel 35830 Betton',\n",
       "    'score': 0.6928063636363635,\n",
       "    'id': '35024_0087',\n",
       "    'banId': '2adea861-977d-49ec-b764-eea1aeb7affd',\n",
       "    'name': 'Rue du Mont Saint-Michel',\n",
       "    'postcode': '35830',\n",
       "    'citycode': '35024',\n",
       "    'x': 356199.27,\n",
       "    'y': 6797477.34,\n",
       "    'city': 'Betton',\n",
       "    'context': '35, Ille-et-Vilaine, Bretagne',\n",
       "    'type': 'street',\n",
       "    'importance': 0.62087,\n",
       "    'street': 'Rue du Mont Saint-Michel',\n",
       "    '_type': 'address'}},\n",
       "  {'type': 'Feature',\n",
       "   'geometry': {'type': 'Point', 'coordinates': [4.344994, 48.9456]},\n",
       "   'properties': {'label': 'Rue du Mont-Saint-Michel 51000 Châlons-en-Champagne',\n",
       "    'score': 0.6918845454545454,\n",
       "    'id': '51108_2380',\n",
       "    'name': 'Rue du Mont-Saint-Michel',\n",
       "    'postcode': '51000',\n",
       "    'citycode': '51108',\n",
       "    'x': 798513.9,\n",
       "    'y': 6872576.08,\n",
       "    'city': 'Châlons-en-Champagne',\n",
       "    'context': '51, Marne, Grand Est',\n",
       "    'type': 'street',\n",
       "    'importance': 0.61073,\n",
       "    'street': 'Rue du Mont-Saint-Michel',\n",
       "    '_type': 'address'}},\n",
       "  {'type': 'Feature',\n",
       "   'geometry': {'type': 'Point', 'coordinates': [2.313508, 51.012418]},\n",
       "   'properties': {'label': 'Rue du Mont Saint Michel 59760 Grande-Synthe',\n",
       "    'score': 0.691610909090909,\n",
       "    'id': '59271_0479',\n",
       "    'banId': '7128fccc-22ff-4006-80fe-2d54c87bfa12',\n",
       "    'name': 'Rue du Mont Saint Michel',\n",
       "    'postcode': '59760',\n",
       "    'citycode': '59271',\n",
       "    'x': 651716.73,\n",
       "    'y': 7102059,\n",
       "    'city': 'Grande-Synthe',\n",
       "    'context': '59, Nord, Hauts-de-France',\n",
       "    'type': 'street',\n",
       "    'importance': 0.60772,\n",
       "    'street': 'Rue du Mont Saint Michel',\n",
       "    '_type': 'address'}},\n",
       "  {'type': 'Feature',\n",
       "   'geometry': {'type': 'Point', 'coordinates': [-1.471704, 48.965082]},\n",
       "   'properties': {'label': 'Rue du Mont Saint Michel 50660 Quettreville-sur-Sienne',\n",
       "    'score': 0.6893990909090908,\n",
       "    'id': '50419_0075',\n",
       "    'banId': 'c49bbd44-fec3-434d-b183-2f475aa2a16a',\n",
       "    'name': 'Rue du Mont Saint Michel',\n",
       "    'postcode': '50660',\n",
       "    'citycode': '50419',\n",
       "    'oldcitycode': '50419',\n",
       "    'x': 372752.47,\n",
       "    'y': 6883172.16,\n",
       "    'city': 'Quettreville-sur-Sienne',\n",
       "    'oldcity': 'Quettreville-sur-Sienne',\n",
       "    'context': '50, Manche, Normandie',\n",
       "    'type': 'street',\n",
       "    'importance': 0.58339,\n",
       "    'street': 'Rue du Mont Saint Michel',\n",
       "    '_type': 'address'}},\n",
       "  {'type': 'Feature',\n",
       "   'geometry': {'type': 'Point', 'coordinates': [-0.669784, 48.584713]},\n",
       "   'properties': {'label': 'route du mont saint michel 61700 Domfront en Poiraie',\n",
       "    'score': 0.6887836363636363,\n",
       "    'id': '61145_3055',\n",
       "    'banId': '3b689801-0032-4301-9127-bb229e028927',\n",
       "    'name': 'route du mont saint michel',\n",
       "    'postcode': '61700',\n",
       "    'citycode': '61145',\n",
       "    'oldcitycode': '61145',\n",
       "    'x': 429426.75,\n",
       "    'y': 6837899.98,\n",
       "    'city': 'Domfront en Poiraie',\n",
       "    'oldcity': 'Domfront',\n",
       "    'context': '61, Orne, Normandie',\n",
       "    'type': 'street',\n",
       "    'importance': 0.57662,\n",
       "    'street': 'route du mont saint michel',\n",
       "    '_type': 'address'}}]}"
      ]
     },
     "execution_count": 3,
     "metadata": {},
     "output_type": "execute_result"
    }
   ],
   "source": [
    "headers = {\n",
    "    'User-Agent': 'Mozilla/5.0 (Windows NT 10.0; Win64; x64) AppleWebKit/537.36 (KHTML, like Gecko) Chrome/58.0.3029.110 Safari/537.3 ',\n",
    "    \"Accept-Language\": \"fr-FR,fr;q=0.9\"\n",
    "}\n",
    "\n",
    "payload = {\n",
    "    'q': 'Mont Saint Michel', 'France'\n",
    "    'city': 'Mont Saint Michel',\n",
    "    'format': 'json'\n",
    "}\n",
    "\n",
    "response = requests.get(url=url, params=payload, headers=headers)\n",
    "response.json()\n"
   ]
  },
  {
   "cell_type": "markdown",
   "metadata": {},
   "source": [
    "### L'API répond, du coup on extrait les coordonnées GPS des 35 villes "
   ]
  },
  {
   "cell_type": "code",
   "execution_count": 4,
   "metadata": {},
   "outputs": [],
   "source": [
    "# Liste des villes à interroger\n",
    "villes = [\"Mont Saint Michel\",\n",
    "\"St Malo\",\n",
    "\"Bayeux\",\n",
    "\"Le Havre\",\n",
    "\"Rouen\",\n",
    "\"Paris\",\n",
    "\"Amiens\",\n",
    "\"Lille\",\n",
    "\"Strasbourg\",\n",
    "\"Chateau du Haut Koenigsbourg\",\n",
    "\"Colmar\",\n",
    "\"Eguisheim\",\n",
    "\"Besancon\",\n",
    "\"Dijon\",\n",
    "\"Annecy\",\n",
    "\"Grenoble\",\n",
    "\"Lyon\",\n",
    "\"Gorges du Verdon\",\n",
    "\"Bormes les Mimosas\",\n",
    "\"Cassis\",\n",
    "\"Marseille\",\n",
    "\"Aix en Provence\",\n",
    "\"Avignon\",\n",
    "\"Uzes\",\n",
    "\"Nimes\",\n",
    "\"Aigues Mortes\",\n",
    "\"Saintes Maries de la mer\",\n",
    "\"Collioure\",\n",
    "\"Carcassonne\",\n",
    "\"Ariege\",\n",
    "\"Toulouse\",\n",
    "\"Montauban\",\n",
    "\"Biarritz\",\n",
    "\"Bayonne\",\n",
    "\"La Rochelle\"]\n",
    "\n",
    "\n",
    "\n",
    "base_url = \"https://data.geopf.fr/geocodage/search?\"\n",
    "\n",
    "\n",
    "def get_coordinates(ville):\n",
    "    \n",
    "    params = {\n",
    "        'q': ville,\n",
    "        'limit': 1,\n",
    "        'index':'poi'\n",
    "    }\n",
    "    \n",
    "    response = requests.get(base_url, params=params)\n",
    "    \n",
    "    if response.status_code == 200:\n",
    "        data = response.json()\n",
    "        if data['features']:\n",
    "            coordinates = data['features'][0]['geometry']['coordinates']\n",
    "            return coordinates\n",
    "        else:\n",
    "            return None\n",
    "    else:\n",
    "        print(f\"Erreur lors de la requête pour {ville}: {response.status_code}\")\n",
    "        return None\n",
    "\n",
    "\n",
    "results = []\n",
    "for ville in villes:\n",
    "    coordinates = get_coordinates(ville)\n",
    "    if coordinates:\n",
    "        results.append({'Ville': ville, 'Longitude': coordinates[0], 'Latitude': coordinates[1]})\n",
    "    else:\n",
    "        results.append({'Ville': ville, 'Longitude': None, 'Latitude': None})\n"
   ]
  },
  {
   "cell_type": "code",
   "execution_count": 5,
   "metadata": {},
   "outputs": [
    {
     "data": {
      "text/plain": [
       "[5.995538, 45.546586]"
      ]
     },
     "execution_count": 5,
     "metadata": {},
     "output_type": "execute_result"
    }
   ],
   "source": [
    "response.json()['features'][0]['geometry']['coordinates'] #recherche du chemin pour extraire les coordonnées GPS"
   ]
  },
  {
   "cell_type": "markdown",
   "metadata": {},
   "source": [
    "### On met les résultats obtenus dans un dataframe"
   ]
  },
  {
   "cell_type": "code",
   "execution_count": null,
   "metadata": {},
   "outputs": [
    {
     "data": {
      "text/html": [
       "<div>\n",
       "<style scoped>\n",
       "    .dataframe tbody tr th:only-of-type {\n",
       "        vertical-align: middle;\n",
       "    }\n",
       "\n",
       "    .dataframe tbody tr th {\n",
       "        vertical-align: top;\n",
       "    }\n",
       "\n",
       "    .dataframe thead th {\n",
       "        text-align: right;\n",
       "    }\n",
       "</style>\n",
       "<table border=\"1\" class=\"dataframe\">\n",
       "  <thead>\n",
       "    <tr style=\"text-align: right;\">\n",
       "      <th></th>\n",
       "      <th>Ville</th>\n",
       "      <th>Longitude</th>\n",
       "      <th>Latitude</th>\n",
       "    </tr>\n",
       "  </thead>\n",
       "  <tbody>\n",
       "    <tr>\n",
       "      <th>0</th>\n",
       "      <td>Mont Saint Michel</td>\n",
       "      <td>7.088900</td>\n",
       "      <td>43.849841</td>\n",
       "    </tr>\n",
       "    <tr>\n",
       "      <th>1</th>\n",
       "      <td>St Malo</td>\n",
       "      <td>-2.000385</td>\n",
       "      <td>48.653039</td>\n",
       "    </tr>\n",
       "    <tr>\n",
       "      <th>2</th>\n",
       "      <td>Bayeux</td>\n",
       "      <td>-0.702368</td>\n",
       "      <td>49.277173</td>\n",
       "    </tr>\n",
       "    <tr>\n",
       "      <th>3</th>\n",
       "      <td>Le Havre</td>\n",
       "      <td>0.128407</td>\n",
       "      <td>49.493515</td>\n",
       "    </tr>\n",
       "    <tr>\n",
       "      <th>4</th>\n",
       "      <td>Rouen</td>\n",
       "      <td>1.099092</td>\n",
       "      <td>49.443440</td>\n",
       "    </tr>\n",
       "  </tbody>\n",
       "</table>\n",
       "</div>"
      ],
      "text/plain": [
       "               Ville  Longitude   Latitude\n",
       "0  Mont Saint Michel   7.088900  43.849841\n",
       "1            St Malo  -2.000385  48.653039\n",
       "2             Bayeux  -0.702368  49.277173\n",
       "3           Le Havre   0.128407  49.493515\n",
       "4              Rouen   1.099092  49.443440"
      ]
     },
     "execution_count": 6,
     "metadata": {},
     "output_type": "execute_result"
    }
   ],
   "source": [
    "df = pd.DataFrame(results) # Nous avons bien un dataframe qui contient les 35 villes et leurs coordonnées GPS\n",
    "df.head()"
   ]
  },
  {
   "cell_type": "code",
   "execution_count": 8,
   "metadata": {},
   "outputs": [
    {
     "data": {
      "text/plain": [
       "(35, 3)"
      ]
     },
     "execution_count": 8,
     "metadata": {},
     "output_type": "execute_result"
    }
   ],
   "source": [
    "df.shape # verification des dimensions savoir si on a bien 35 villes "
   ]
  },
  {
   "cell_type": "code",
   "execution_count": 9,
   "metadata": {},
   "outputs": [
    {
     "data": {
      "text/plain": [
       "Ville        False\n",
       "Longitude    False\n",
       "Latitude     False\n",
       "dtype: bool"
      ]
     },
     "execution_count": 9,
     "metadata": {},
     "output_type": "execute_result"
    }
   ],
   "source": [
    "df.isnull().any() #verification des valeurs nulles"
   ]
  },
  {
   "cell_type": "markdown",
   "metadata": {},
   "source": [
    "### On double check voir si toutes nos coordonnées GPS se situent bien en France"
   ]
  },
  {
   "cell_type": "code",
   "execution_count": 11,
   "metadata": {},
   "outputs": [
    {
     "data": {
      "application/vnd.plotly.v1+json": {
       "config": {
        "plotlyServerURL": "https://plot.ly"
       },
       "data": [
        {
         "hovertemplate": "Ville=%{text}<br>Latitude=%{lat}<br>Longitude=%{lon}<extra></extra>",
         "lat": [
          43.849841,
          48.653039,
          49.277173,
          49.493515,
          49.44344,
          48.846223,
          49.893548,
          50.634523,
          48.574811,
          48.249581,
          48.116422,
          48.03655,
          47.256814,
          47.326035,
          45.898635,
          45.180525,
          45.767678,
          43.741387,
          43.120819,
          43.213074,
          43.269776,
          43.518436,
          43.943164,
          44.014792,
          43.839648,
          43.55451,
          43.479513,
          42.515405,
          43.209017,
          42.956535,
          43.60766,
          44.022919,
          43.479116,
          43.48541,
          46.157032
         ],
         "legendgroup": "",
         "lon": [
          7.0889,
          -2.000385,
          -0.702368,
          0.128407,
          1.099092,
          2.362203,
          2.292663,
          3.052529,
          7.753827,
          7.344312,
          7.390603,
          7.294224,
          6.021017,
          5.035138,
          6.101282,
          5.725144,
          4.824068,
          6.34617,
          6.34391,
          5.540576,
          5.367037,
          5.38086,
          4.848282,
          4.411618,
          4.351788,
          4.175082,
          4.394262,
          3.075825,
          2.354437,
          1.503476,
          1.437487,
          1.366155,
          -1.564367,
          -1.467888,
          -1.185842
         ],
         "marker": {
          "color": "#636efa",
          "size": 12
         },
         "mode": "markers+text",
         "name": "",
         "showlegend": false,
         "subplot": "mapbox",
         "text": [
          "Mont Saint Michel",
          "St Malo",
          "Bayeux",
          "Le Havre",
          "Rouen",
          "Paris",
          "Amiens",
          "Lille",
          "Strasbourg",
          "Chateau du Haut Koenigsbourg",
          "Colmar",
          "Eguisheim",
          "Besancon",
          "Dijon",
          "Annecy",
          "Grenoble",
          "Lyon",
          "Gorges du Verdon",
          "Bormes les Mimosas",
          "Cassis",
          "Marseille",
          "Aix en Provence",
          "Avignon",
          "Uzes",
          "Nimes",
          "Aigues Mortes",
          "Saintes Maries de la mer",
          "Collioure",
          "Carcassonne",
          "Ariege",
          "Toulouse",
          "Montauban",
          "Biarritz",
          "Bayonne",
          "La Rochelle"
         ],
         "type": "scattermapbox"
        }
       ],
       "layout": {
        "legend": {
         "tracegroupgap": 0
        },
        "mapbox": {
         "center": {
          "lat": 45.70361617142858,
          "lon": 3.6425578285714293
         },
         "domain": {
          "x": [
           0,
           1
          ],
          "y": [
           0,
           1
          ]
         },
         "style": "open-street-map",
         "zoom": 4
        },
        "template": {
         "data": {
          "bar": [
           {
            "error_x": {
             "color": "#2a3f5f"
            },
            "error_y": {
             "color": "#2a3f5f"
            },
            "marker": {
             "line": {
              "color": "#E5ECF6",
              "width": 0.5
             },
             "pattern": {
              "fillmode": "overlay",
              "size": 10,
              "solidity": 0.2
             }
            },
            "type": "bar"
           }
          ],
          "barpolar": [
           {
            "marker": {
             "line": {
              "color": "#E5ECF6",
              "width": 0.5
             },
             "pattern": {
              "fillmode": "overlay",
              "size": 10,
              "solidity": 0.2
             }
            },
            "type": "barpolar"
           }
          ],
          "carpet": [
           {
            "aaxis": {
             "endlinecolor": "#2a3f5f",
             "gridcolor": "white",
             "linecolor": "white",
             "minorgridcolor": "white",
             "startlinecolor": "#2a3f5f"
            },
            "baxis": {
             "endlinecolor": "#2a3f5f",
             "gridcolor": "white",
             "linecolor": "white",
             "minorgridcolor": "white",
             "startlinecolor": "#2a3f5f"
            },
            "type": "carpet"
           }
          ],
          "choropleth": [
           {
            "colorbar": {
             "outlinewidth": 0,
             "ticks": ""
            },
            "type": "choropleth"
           }
          ],
          "contour": [
           {
            "colorbar": {
             "outlinewidth": 0,
             "ticks": ""
            },
            "colorscale": [
             [
              0,
              "#0d0887"
             ],
             [
              0.1111111111111111,
              "#46039f"
             ],
             [
              0.2222222222222222,
              "#7201a8"
             ],
             [
              0.3333333333333333,
              "#9c179e"
             ],
             [
              0.4444444444444444,
              "#bd3786"
             ],
             [
              0.5555555555555556,
              "#d8576b"
             ],
             [
              0.6666666666666666,
              "#ed7953"
             ],
             [
              0.7777777777777778,
              "#fb9f3a"
             ],
             [
              0.8888888888888888,
              "#fdca26"
             ],
             [
              1,
              "#f0f921"
             ]
            ],
            "type": "contour"
           }
          ],
          "contourcarpet": [
           {
            "colorbar": {
             "outlinewidth": 0,
             "ticks": ""
            },
            "type": "contourcarpet"
           }
          ],
          "heatmap": [
           {
            "colorbar": {
             "outlinewidth": 0,
             "ticks": ""
            },
            "colorscale": [
             [
              0,
              "#0d0887"
             ],
             [
              0.1111111111111111,
              "#46039f"
             ],
             [
              0.2222222222222222,
              "#7201a8"
             ],
             [
              0.3333333333333333,
              "#9c179e"
             ],
             [
              0.4444444444444444,
              "#bd3786"
             ],
             [
              0.5555555555555556,
              "#d8576b"
             ],
             [
              0.6666666666666666,
              "#ed7953"
             ],
             [
              0.7777777777777778,
              "#fb9f3a"
             ],
             [
              0.8888888888888888,
              "#fdca26"
             ],
             [
              1,
              "#f0f921"
             ]
            ],
            "type": "heatmap"
           }
          ],
          "heatmapgl": [
           {
            "colorbar": {
             "outlinewidth": 0,
             "ticks": ""
            },
            "colorscale": [
             [
              0,
              "#0d0887"
             ],
             [
              0.1111111111111111,
              "#46039f"
             ],
             [
              0.2222222222222222,
              "#7201a8"
             ],
             [
              0.3333333333333333,
              "#9c179e"
             ],
             [
              0.4444444444444444,
              "#bd3786"
             ],
             [
              0.5555555555555556,
              "#d8576b"
             ],
             [
              0.6666666666666666,
              "#ed7953"
             ],
             [
              0.7777777777777778,
              "#fb9f3a"
             ],
             [
              0.8888888888888888,
              "#fdca26"
             ],
             [
              1,
              "#f0f921"
             ]
            ],
            "type": "heatmapgl"
           }
          ],
          "histogram": [
           {
            "marker": {
             "pattern": {
              "fillmode": "overlay",
              "size": 10,
              "solidity": 0.2
             }
            },
            "type": "histogram"
           }
          ],
          "histogram2d": [
           {
            "colorbar": {
             "outlinewidth": 0,
             "ticks": ""
            },
            "colorscale": [
             [
              0,
              "#0d0887"
             ],
             [
              0.1111111111111111,
              "#46039f"
             ],
             [
              0.2222222222222222,
              "#7201a8"
             ],
             [
              0.3333333333333333,
              "#9c179e"
             ],
             [
              0.4444444444444444,
              "#bd3786"
             ],
             [
              0.5555555555555556,
              "#d8576b"
             ],
             [
              0.6666666666666666,
              "#ed7953"
             ],
             [
              0.7777777777777778,
              "#fb9f3a"
             ],
             [
              0.8888888888888888,
              "#fdca26"
             ],
             [
              1,
              "#f0f921"
             ]
            ],
            "type": "histogram2d"
           }
          ],
          "histogram2dcontour": [
           {
            "colorbar": {
             "outlinewidth": 0,
             "ticks": ""
            },
            "colorscale": [
             [
              0,
              "#0d0887"
             ],
             [
              0.1111111111111111,
              "#46039f"
             ],
             [
              0.2222222222222222,
              "#7201a8"
             ],
             [
              0.3333333333333333,
              "#9c179e"
             ],
             [
              0.4444444444444444,
              "#bd3786"
             ],
             [
              0.5555555555555556,
              "#d8576b"
             ],
             [
              0.6666666666666666,
              "#ed7953"
             ],
             [
              0.7777777777777778,
              "#fb9f3a"
             ],
             [
              0.8888888888888888,
              "#fdca26"
             ],
             [
              1,
              "#f0f921"
             ]
            ],
            "type": "histogram2dcontour"
           }
          ],
          "mesh3d": [
           {
            "colorbar": {
             "outlinewidth": 0,
             "ticks": ""
            },
            "type": "mesh3d"
           }
          ],
          "parcoords": [
           {
            "line": {
             "colorbar": {
              "outlinewidth": 0,
              "ticks": ""
             }
            },
            "type": "parcoords"
           }
          ],
          "pie": [
           {
            "automargin": true,
            "type": "pie"
           }
          ],
          "scatter": [
           {
            "fillpattern": {
             "fillmode": "overlay",
             "size": 10,
             "solidity": 0.2
            },
            "type": "scatter"
           }
          ],
          "scatter3d": [
           {
            "line": {
             "colorbar": {
              "outlinewidth": 0,
              "ticks": ""
             }
            },
            "marker": {
             "colorbar": {
              "outlinewidth": 0,
              "ticks": ""
             }
            },
            "type": "scatter3d"
           }
          ],
          "scattercarpet": [
           {
            "marker": {
             "colorbar": {
              "outlinewidth": 0,
              "ticks": ""
             }
            },
            "type": "scattercarpet"
           }
          ],
          "scattergeo": [
           {
            "marker": {
             "colorbar": {
              "outlinewidth": 0,
              "ticks": ""
             }
            },
            "type": "scattergeo"
           }
          ],
          "scattergl": [
           {
            "marker": {
             "colorbar": {
              "outlinewidth": 0,
              "ticks": ""
             }
            },
            "type": "scattergl"
           }
          ],
          "scattermapbox": [
           {
            "marker": {
             "colorbar": {
              "outlinewidth": 0,
              "ticks": ""
             }
            },
            "type": "scattermapbox"
           }
          ],
          "scatterpolar": [
           {
            "marker": {
             "colorbar": {
              "outlinewidth": 0,
              "ticks": ""
             }
            },
            "type": "scatterpolar"
           }
          ],
          "scatterpolargl": [
           {
            "marker": {
             "colorbar": {
              "outlinewidth": 0,
              "ticks": ""
             }
            },
            "type": "scatterpolargl"
           }
          ],
          "scatterternary": [
           {
            "marker": {
             "colorbar": {
              "outlinewidth": 0,
              "ticks": ""
             }
            },
            "type": "scatterternary"
           }
          ],
          "surface": [
           {
            "colorbar": {
             "outlinewidth": 0,
             "ticks": ""
            },
            "colorscale": [
             [
              0,
              "#0d0887"
             ],
             [
              0.1111111111111111,
              "#46039f"
             ],
             [
              0.2222222222222222,
              "#7201a8"
             ],
             [
              0.3333333333333333,
              "#9c179e"
             ],
             [
              0.4444444444444444,
              "#bd3786"
             ],
             [
              0.5555555555555556,
              "#d8576b"
             ],
             [
              0.6666666666666666,
              "#ed7953"
             ],
             [
              0.7777777777777778,
              "#fb9f3a"
             ],
             [
              0.8888888888888888,
              "#fdca26"
             ],
             [
              1,
              "#f0f921"
             ]
            ],
            "type": "surface"
           }
          ],
          "table": [
           {
            "cells": {
             "fill": {
              "color": "#EBF0F8"
             },
             "line": {
              "color": "white"
             }
            },
            "header": {
             "fill": {
              "color": "#C8D4E3"
             },
             "line": {
              "color": "white"
             }
            },
            "type": "table"
           }
          ]
         },
         "layout": {
          "annotationdefaults": {
           "arrowcolor": "#2a3f5f",
           "arrowhead": 0,
           "arrowwidth": 1
          },
          "autotypenumbers": "strict",
          "coloraxis": {
           "colorbar": {
            "outlinewidth": 0,
            "ticks": ""
           }
          },
          "colorscale": {
           "diverging": [
            [
             0,
             "#8e0152"
            ],
            [
             0.1,
             "#c51b7d"
            ],
            [
             0.2,
             "#de77ae"
            ],
            [
             0.3,
             "#f1b6da"
            ],
            [
             0.4,
             "#fde0ef"
            ],
            [
             0.5,
             "#f7f7f7"
            ],
            [
             0.6,
             "#e6f5d0"
            ],
            [
             0.7,
             "#b8e186"
            ],
            [
             0.8,
             "#7fbc41"
            ],
            [
             0.9,
             "#4d9221"
            ],
            [
             1,
             "#276419"
            ]
           ],
           "sequential": [
            [
             0,
             "#0d0887"
            ],
            [
             0.1111111111111111,
             "#46039f"
            ],
            [
             0.2222222222222222,
             "#7201a8"
            ],
            [
             0.3333333333333333,
             "#9c179e"
            ],
            [
             0.4444444444444444,
             "#bd3786"
            ],
            [
             0.5555555555555556,
             "#d8576b"
            ],
            [
             0.6666666666666666,
             "#ed7953"
            ],
            [
             0.7777777777777778,
             "#fb9f3a"
            ],
            [
             0.8888888888888888,
             "#fdca26"
            ],
            [
             1,
             "#f0f921"
            ]
           ],
           "sequentialminus": [
            [
             0,
             "#0d0887"
            ],
            [
             0.1111111111111111,
             "#46039f"
            ],
            [
             0.2222222222222222,
             "#7201a8"
            ],
            [
             0.3333333333333333,
             "#9c179e"
            ],
            [
             0.4444444444444444,
             "#bd3786"
            ],
            [
             0.5555555555555556,
             "#d8576b"
            ],
            [
             0.6666666666666666,
             "#ed7953"
            ],
            [
             0.7777777777777778,
             "#fb9f3a"
            ],
            [
             0.8888888888888888,
             "#fdca26"
            ],
            [
             1,
             "#f0f921"
            ]
           ]
          },
          "colorway": [
           "#636efa",
           "#EF553B",
           "#00cc96",
           "#ab63fa",
           "#FFA15A",
           "#19d3f3",
           "#FF6692",
           "#B6E880",
           "#FF97FF",
           "#FECB52"
          ],
          "font": {
           "color": "#2a3f5f"
          },
          "geo": {
           "bgcolor": "white",
           "lakecolor": "white",
           "landcolor": "#E5ECF6",
           "showlakes": true,
           "showland": true,
           "subunitcolor": "white"
          },
          "hoverlabel": {
           "align": "left"
          },
          "hovermode": "closest",
          "mapbox": {
           "style": "light"
          },
          "paper_bgcolor": "white",
          "plot_bgcolor": "#E5ECF6",
          "polar": {
           "angularaxis": {
            "gridcolor": "white",
            "linecolor": "white",
            "ticks": ""
           },
           "bgcolor": "#E5ECF6",
           "radialaxis": {
            "gridcolor": "white",
            "linecolor": "white",
            "ticks": ""
           }
          },
          "scene": {
           "xaxis": {
            "backgroundcolor": "#E5ECF6",
            "gridcolor": "white",
            "gridwidth": 2,
            "linecolor": "white",
            "showbackground": true,
            "ticks": "",
            "zerolinecolor": "white"
           },
           "yaxis": {
            "backgroundcolor": "#E5ECF6",
            "gridcolor": "white",
            "gridwidth": 2,
            "linecolor": "white",
            "showbackground": true,
            "ticks": "",
            "zerolinecolor": "white"
           },
           "zaxis": {
            "backgroundcolor": "#E5ECF6",
            "gridcolor": "white",
            "gridwidth": 2,
            "linecolor": "white",
            "showbackground": true,
            "ticks": "",
            "zerolinecolor": "white"
           }
          },
          "shapedefaults": {
           "line": {
            "color": "#2a3f5f"
           }
          },
          "ternary": {
           "aaxis": {
            "gridcolor": "white",
            "linecolor": "white",
            "ticks": ""
           },
           "baxis": {
            "gridcolor": "white",
            "linecolor": "white",
            "ticks": ""
           },
           "bgcolor": "#E5ECF6",
           "caxis": {
            "gridcolor": "white",
            "linecolor": "white",
            "ticks": ""
           }
          },
          "title": {
           "x": 0.05
          },
          "xaxis": {
           "automargin": true,
           "gridcolor": "white",
           "linecolor": "white",
           "ticks": "",
           "title": {
            "standoff": 15
           },
           "zerolinecolor": "white",
           "zerolinewidth": 2
          },
          "yaxis": {
           "automargin": true,
           "gridcolor": "white",
           "linecolor": "white",
           "ticks": "",
           "title": {
            "standoff": 15
           },
           "zerolinecolor": "white",
           "zerolinewidth": 2
          }
         }
        },
        "title": {
         "text": "Verification si mes coordonnées reçues sont bien en France"
        }
       }
      }
     },
     "metadata": {},
     "output_type": "display_data"
    }
   ],
   "source": [
    "import plotly.express as px\n",
    "fig = px.scatter_mapbox(df, lat=\"Latitude\", lon=\"Longitude\", text=\"Ville\",\n",
    "                        zoom=4, \n",
    "                        mapbox_style=\"open-street-map\",\n",
    "                        title=\"Verification si mes coordonnées reçues sont bien en France\")\n",
    "fig.update_traces(marker=dict(size=12))\n",
    "fig.show()"
   ]
  },
  {
   "cell_type": "markdown",
   "metadata": {},
   "source": [
    "# Maintenant que l'on a les coordonnées GPS pour nos 35 villes on va interroger une autre API pour avoir la météo, notamment la température et les précipications en mm de pluie"
   ]
  },
  {
   "cell_type": "markdown",
   "metadata": {},
   "source": [
    "On fait un test de l'API sur une ville voir si l'API répond"
   ]
  },
  {
   "cell_type": "code",
   "execution_count": 77,
   "metadata": {},
   "outputs": [],
   "source": [
    "base_weather_url = 'https://api.open-meteo.com/v1/forecast'\n",
    "load_dotenv()  # Charger les variables d'environnement depuis le fichier .env\n",
    "\n",
    "\n",
    "def get_weather(lat, lon):\n",
    "    #appid = os.getenv('APPID')  # Récupérer l'API key depuis les variables d'environnement\n",
    "    params = {\n",
    "        'latitude': lat,\n",
    "        'longitude': lon,\n",
    "        'hourly': [\"temperature_2m\", \"rain\", \"precipitation\", \"relative_humidity_2m\"]\n",
    "    }\n",
    "    \n",
    "    response = requests.get(base_weather_url, params=params)\n",
    "    print(\"Status code:\", response.status_code)\n",
    "    print(\"URL:\", response.url)\n",
    "    print(\"Response:\", response.text)\n",
    "    return response.json() if response.status_code == 200 else None\n",
    "\n"
   ]
  },
  {
   "cell_type": "code",
   "execution_count": 78,
   "metadata": {},
   "outputs": [
    {
     "name": "stdout",
     "output_type": "stream",
     "text": [
      "Status code: 200\n",
      "URL: https://api.open-meteo.com/v1/forecast?latitude=-2.000385&longitude=48.653039&hourly=temperature_2m&hourly=rain&hourly=precipitation&hourly=relative_humidity_2m\n",
      "Response: {\"latitude\":-2.0,\"longitude\":48.625,\"generationtime_ms\":0.2714395523071289,\"utc_offset_seconds\":0,\"timezone\":\"GMT\",\"timezone_abbreviation\":\"GMT\",\"elevation\":0.0,\"hourly_units\":{\"time\":\"iso8601\",\"temperature_2m\":\"°C\",\"rain\":\"mm\",\"precipitation\":\"mm\",\"relative_humidity_2m\":\"%\"},\"hourly\":{\"time\":[\"2025-05-02T00:00\",\"2025-05-02T01:00\",\"2025-05-02T02:00\",\"2025-05-02T03:00\",\"2025-05-02T04:00\",\"2025-05-02T05:00\",\"2025-05-02T06:00\",\"2025-05-02T07:00\",\"2025-05-02T08:00\",\"2025-05-02T09:00\",\"2025-05-02T10:00\",\"2025-05-02T11:00\",\"2025-05-02T12:00\",\"2025-05-02T13:00\",\"2025-05-02T14:00\",\"2025-05-02T15:00\",\"2025-05-02T16:00\",\"2025-05-02T17:00\",\"2025-05-02T18:00\",\"2025-05-02T19:00\",\"2025-05-02T20:00\",\"2025-05-02T21:00\",\"2025-05-02T22:00\",\"2025-05-02T23:00\",\"2025-05-03T00:00\",\"2025-05-03T01:00\",\"2025-05-03T02:00\",\"2025-05-03T03:00\",\"2025-05-03T04:00\",\"2025-05-03T05:00\",\"2025-05-03T06:00\",\"2025-05-03T07:00\",\"2025-05-03T08:00\",\"2025-05-03T09:00\",\"2025-05-03T10:00\",\"2025-05-03T11:00\",\"2025-05-03T12:00\",\"2025-05-03T13:00\",\"2025-05-03T14:00\",\"2025-05-03T15:00\",\"2025-05-03T16:00\",\"2025-05-03T17:00\",\"2025-05-03T18:00\",\"2025-05-03T19:00\",\"2025-05-03T20:00\",\"2025-05-03T21:00\",\"2025-05-03T22:00\",\"2025-05-03T23:00\",\"2025-05-04T00:00\",\"2025-05-04T01:00\",\"2025-05-04T02:00\",\"2025-05-04T03:00\",\"2025-05-04T04:00\",\"2025-05-04T05:00\",\"2025-05-04T06:00\",\"2025-05-04T07:00\",\"2025-05-04T08:00\",\"2025-05-04T09:00\",\"2025-05-04T10:00\",\"2025-05-04T11:00\",\"2025-05-04T12:00\",\"2025-05-04T13:00\",\"2025-05-04T14:00\",\"2025-05-04T15:00\",\"2025-05-04T16:00\",\"2025-05-04T17:00\",\"2025-05-04T18:00\",\"2025-05-04T19:00\",\"2025-05-04T20:00\",\"2025-05-04T21:00\",\"2025-05-04T22:00\",\"2025-05-04T23:00\",\"2025-05-05T00:00\",\"2025-05-05T01:00\",\"2025-05-05T02:00\",\"2025-05-05T03:00\",\"2025-05-05T04:00\",\"2025-05-05T05:00\",\"2025-05-05T06:00\",\"2025-05-05T07:00\",\"2025-05-05T08:00\",\"2025-05-05T09:00\",\"2025-05-05T10:00\",\"2025-05-05T11:00\",\"2025-05-05T12:00\",\"2025-05-05T13:00\",\"2025-05-05T14:00\",\"2025-05-05T15:00\",\"2025-05-05T16:00\",\"2025-05-05T17:00\",\"2025-05-05T18:00\",\"2025-05-05T19:00\",\"2025-05-05T20:00\",\"2025-05-05T21:00\",\"2025-05-05T22:00\",\"2025-05-05T23:00\",\"2025-05-06T00:00\",\"2025-05-06T01:00\",\"2025-05-06T02:00\",\"2025-05-06T03:00\",\"2025-05-06T04:00\",\"2025-05-06T05:00\",\"2025-05-06T06:00\",\"2025-05-06T07:00\",\"2025-05-06T08:00\",\"2025-05-06T09:00\",\"2025-05-06T10:00\",\"2025-05-06T11:00\",\"2025-05-06T12:00\",\"2025-05-06T13:00\",\"2025-05-06T14:00\",\"2025-05-06T15:00\",\"2025-05-06T16:00\",\"2025-05-06T17:00\",\"2025-05-06T18:00\",\"2025-05-06T19:00\",\"2025-05-06T20:00\",\"2025-05-06T21:00\",\"2025-05-06T22:00\",\"2025-05-06T23:00\",\"2025-05-07T00:00\",\"2025-05-07T01:00\",\"2025-05-07T02:00\",\"2025-05-07T03:00\",\"2025-05-07T04:00\",\"2025-05-07T05:00\",\"2025-05-07T06:00\",\"2025-05-07T07:00\",\"2025-05-07T08:00\",\"2025-05-07T09:00\",\"2025-05-07T10:00\",\"2025-05-07T11:00\",\"2025-05-07T12:00\",\"2025-05-07T13:00\",\"2025-05-07T14:00\",\"2025-05-07T15:00\",\"2025-05-07T16:00\",\"2025-05-07T17:00\",\"2025-05-07T18:00\",\"2025-05-07T19:00\",\"2025-05-07T20:00\",\"2025-05-07T21:00\",\"2025-05-07T22:00\",\"2025-05-07T23:00\",\"2025-05-08T00:00\",\"2025-05-08T01:00\",\"2025-05-08T02:00\",\"2025-05-08T03:00\",\"2025-05-08T04:00\",\"2025-05-08T05:00\",\"2025-05-08T06:00\",\"2025-05-08T07:00\",\"2025-05-08T08:00\",\"2025-05-08T09:00\",\"2025-05-08T10:00\",\"2025-05-08T11:00\",\"2025-05-08T12:00\",\"2025-05-08T13:00\",\"2025-05-08T14:00\",\"2025-05-08T15:00\",\"2025-05-08T16:00\",\"2025-05-08T17:00\",\"2025-05-08T18:00\",\"2025-05-08T19:00\",\"2025-05-08T20:00\",\"2025-05-08T21:00\",\"2025-05-08T22:00\",\"2025-05-08T23:00\"],\"temperature_2m\":[28.5,28.5,28.6,28.6,28.9,29.0,29.1,29.2,29.3,29.3,29.4,29.4,29.5,29.5,29.5,29.5,29.5,29.5,29.6,29.6,29.6,29.5,29.4,29.3,29.1,29.0,29.0,29.0,28.9,28.9,29.0,29.0,29.1,29.1,29.1,29.0,29.0,29.0,29.0,29.0,29.0,28.9,29.0,29.0,29.0,28.9,28.9,28.9,28.8,28.8,28.9,29.0,29.1,29.2,29.3,29.4,29.4,29.4,29.4,29.5,29.4,29.5,29.5,29.6,29.4,29.2,29.2,29.2,29.2,29.0,28.8,28.6,28.6,28.7,28.6,28.7,28.7,28.6,28.5,28.5,28.8,29.0,29.1,29.1,29.2,29.2,29.3,29.4,29.4,29.3,29.2,29.2,29.1,29.0,28.6,28.4,28.1,28.1,28.2,28.3,28.4,28.5,28.6,28.6,28.7,28.7,28.6,28.5,28.5,28.5,28.5,28.5,28.5,28.5,28.5,28.5,28.5,28.6,28.6,28.6,28.6,28.6,28.8,28.9,29.0,29.1,29.2,29.2,29.2,29.2,29.2,29.1,29.1,29.1,29.1,29.1,29.0,29.0,28.9,28.9,29.0,29.0,28.9,28.8,28.6,28.6,28.6,28.6,28.8,29.0,29.1,29.0,28.8,28.6,28.8,29.0,29.1,29.2,29.1,29.1,29.2,29.2,29.2,29.2,29.1,29.0,29.0,29.1],\"rain\":[0.00,0.00,0.00,0.00,0.00,0.00,0.00,0.00,0.00,0.00,0.00,0.00,0.00,0.00,0.00,0.00,0.00,0.00,0.00,0.00,0.00,0.00,0.00,0.00,0.00,0.00,0.00,0.00,0.00,0.00,0.00,0.00,0.00,0.00,0.00,0.00,0.00,0.00,0.00,0.00,0.00,0.00,0.00,0.00,0.00,0.00,0.00,0.00,0.00,0.00,0.00,0.00,0.00,0.00,0.00,0.00,0.00,0.00,0.00,0.00,0.00,0.00,0.00,0.00,0.00,0.00,0.00,0.00,0.00,0.00,0.00,0.00,0.00,0.00,0.00,0.00,0.00,0.00,0.00,0.00,0.00,0.00,0.00,0.00,0.00,0.00,0.00,0.00,0.00,0.00,0.00,0.00,0.00,0.00,0.00,0.00,0.00,0.00,0.00,0.00,0.00,0.00,0.00,0.00,0.00,0.00,0.00,0.00,0.00,0.00,0.00,0.00,0.00,0.00,0.00,0.00,0.00,0.00,0.00,0.00,0.00,0.00,0.00,0.00,0.00,0.00,0.00,0.00,0.00,0.00,0.00,0.00,0.00,0.00,0.00,0.00,0.00,0.00,0.00,0.00,0.00,0.00,0.00,0.00,0.00,0.00,0.00,0.00,0.00,0.00,0.00,0.00,0.00,0.00,0.00,0.00,0.00,0.00,0.00,0.00,0.00,0.00,0.00,0.00,0.00,0.00,0.00,0.00],\"precipitation\":[0.10,0.10,0.10,0.10,0.00,0.00,0.00,0.00,0.00,0.00,0.00,0.00,0.00,0.00,0.00,0.00,0.10,0.10,0.10,0.10,0.10,0.10,0.10,0.10,0.10,0.10,0.10,0.10,0.10,0.10,0.00,0.00,0.00,0.00,0.00,0.00,0.10,0.10,0.10,0.10,0.10,0.10,0.10,0.10,0.10,0.10,0.10,0.10,0.00,0.00,0.00,0.00,0.00,0.10,0.00,0.00,0.10,0.10,0.00,0.00,0.00,0.00,0.00,0.00,0.10,0.10,0.10,0.10,0.10,0.10,0.30,0.10,0.10,0.10,0.20,0.20,0.60,0.50,0.60,0.30,0.00,0.00,0.00,0.30,0.00,0.00,0.00,0.00,0.10,0.10,0.10,0.30,0.30,0.30,1.00,1.00,1.00,0.10,0.10,0.10,0.20,0.20,0.20,0.90,0.90,0.90,1.00,1.00,1.00,0.70,0.70,0.70,0.30,0.30,0.30,0.00,0.00,0.00,0.00,0.00,0.00,0.00,0.00,0.00,0.00,0.00,0.00,0.10,0.10,0.10,0.10,0.10,0.10,0.10,0.10,0.10,0.80,0.80,0.80,0.00,0.00,0.00,0.40,0.40,0.40,0.10,0.10,0.10,0.10,0.10,0.10,0.90,0.90,0.90,0.00,0.00,0.00,0.70,0.70,0.70,0.10,0.10,0.10,0.20,0.20,0.20,0.50,0.50],\"relative_humidity_2m\":[82,82,81,80,80,79,78,78,78,78,78,78,78,78,78,78,78,78,78,78,77,78,78,79,80,80,80,81,81,81,80,80,80,80,80,80,80,80,80,80,81,81,81,81,81,81,82,81,81,81,81,80,80,79,79,78,78,78,78,77,78,77,77,77,79,80,80,80,80,81,83,83,82,82,82,83,82,83,83,83,81,80,80,79,78,77,77,77,78,79,80,80,81,81,82,84,85,85,84,83,83,82,82,82,82,82,82,82,82,82,82,82,81,81,80,80,80,80,80,80,80,80,80,80,79,79,78,78,79,79,79,79,79,79,80,80,80,81,81,81,81,81,81,82,82,82,82,82,82,81,81,82,83,84,83,82,81,80,80,80,80,81,81,81,82,82,81,81]}}\n",
      "{'latitude': -2.0, 'longitude': 48.625, 'generationtime_ms': 0.2714395523071289, 'utc_offset_seconds': 0, 'timezone': 'GMT', 'timezone_abbreviation': 'GMT', 'elevation': 0.0, 'hourly_units': {'time': 'iso8601', 'temperature_2m': '°C', 'rain': 'mm', 'precipitation': 'mm', 'relative_humidity_2m': '%'}, 'hourly': {'time': ['2025-05-02T00:00', '2025-05-02T01:00', '2025-05-02T02:00', '2025-05-02T03:00', '2025-05-02T04:00', '2025-05-02T05:00', '2025-05-02T06:00', '2025-05-02T07:00', '2025-05-02T08:00', '2025-05-02T09:00', '2025-05-02T10:00', '2025-05-02T11:00', '2025-05-02T12:00', '2025-05-02T13:00', '2025-05-02T14:00', '2025-05-02T15:00', '2025-05-02T16:00', '2025-05-02T17:00', '2025-05-02T18:00', '2025-05-02T19:00', '2025-05-02T20:00', '2025-05-02T21:00', '2025-05-02T22:00', '2025-05-02T23:00', '2025-05-03T00:00', '2025-05-03T01:00', '2025-05-03T02:00', '2025-05-03T03:00', '2025-05-03T04:00', '2025-05-03T05:00', '2025-05-03T06:00', '2025-05-03T07:00', '2025-05-03T08:00', '2025-05-03T09:00', '2025-05-03T10:00', '2025-05-03T11:00', '2025-05-03T12:00', '2025-05-03T13:00', '2025-05-03T14:00', '2025-05-03T15:00', '2025-05-03T16:00', '2025-05-03T17:00', '2025-05-03T18:00', '2025-05-03T19:00', '2025-05-03T20:00', '2025-05-03T21:00', '2025-05-03T22:00', '2025-05-03T23:00', '2025-05-04T00:00', '2025-05-04T01:00', '2025-05-04T02:00', '2025-05-04T03:00', '2025-05-04T04:00', '2025-05-04T05:00', '2025-05-04T06:00', '2025-05-04T07:00', '2025-05-04T08:00', '2025-05-04T09:00', '2025-05-04T10:00', '2025-05-04T11:00', '2025-05-04T12:00', '2025-05-04T13:00', '2025-05-04T14:00', '2025-05-04T15:00', '2025-05-04T16:00', '2025-05-04T17:00', '2025-05-04T18:00', '2025-05-04T19:00', '2025-05-04T20:00', '2025-05-04T21:00', '2025-05-04T22:00', '2025-05-04T23:00', '2025-05-05T00:00', '2025-05-05T01:00', '2025-05-05T02:00', '2025-05-05T03:00', '2025-05-05T04:00', '2025-05-05T05:00', '2025-05-05T06:00', '2025-05-05T07:00', '2025-05-05T08:00', '2025-05-05T09:00', '2025-05-05T10:00', '2025-05-05T11:00', '2025-05-05T12:00', '2025-05-05T13:00', '2025-05-05T14:00', '2025-05-05T15:00', '2025-05-05T16:00', '2025-05-05T17:00', '2025-05-05T18:00', '2025-05-05T19:00', '2025-05-05T20:00', '2025-05-05T21:00', '2025-05-05T22:00', '2025-05-05T23:00', '2025-05-06T00:00', '2025-05-06T01:00', '2025-05-06T02:00', '2025-05-06T03:00', '2025-05-06T04:00', '2025-05-06T05:00', '2025-05-06T06:00', '2025-05-06T07:00', '2025-05-06T08:00', '2025-05-06T09:00', '2025-05-06T10:00', '2025-05-06T11:00', '2025-05-06T12:00', '2025-05-06T13:00', '2025-05-06T14:00', '2025-05-06T15:00', '2025-05-06T16:00', '2025-05-06T17:00', '2025-05-06T18:00', '2025-05-06T19:00', '2025-05-06T20:00', '2025-05-06T21:00', '2025-05-06T22:00', '2025-05-06T23:00', '2025-05-07T00:00', '2025-05-07T01:00', '2025-05-07T02:00', '2025-05-07T03:00', '2025-05-07T04:00', '2025-05-07T05:00', '2025-05-07T06:00', '2025-05-07T07:00', '2025-05-07T08:00', '2025-05-07T09:00', '2025-05-07T10:00', '2025-05-07T11:00', '2025-05-07T12:00', '2025-05-07T13:00', '2025-05-07T14:00', '2025-05-07T15:00', '2025-05-07T16:00', '2025-05-07T17:00', '2025-05-07T18:00', '2025-05-07T19:00', '2025-05-07T20:00', '2025-05-07T21:00', '2025-05-07T22:00', '2025-05-07T23:00', '2025-05-08T00:00', '2025-05-08T01:00', '2025-05-08T02:00', '2025-05-08T03:00', '2025-05-08T04:00', '2025-05-08T05:00', '2025-05-08T06:00', '2025-05-08T07:00', '2025-05-08T08:00', '2025-05-08T09:00', '2025-05-08T10:00', '2025-05-08T11:00', '2025-05-08T12:00', '2025-05-08T13:00', '2025-05-08T14:00', '2025-05-08T15:00', '2025-05-08T16:00', '2025-05-08T17:00', '2025-05-08T18:00', '2025-05-08T19:00', '2025-05-08T20:00', '2025-05-08T21:00', '2025-05-08T22:00', '2025-05-08T23:00'], 'temperature_2m': [28.5, 28.5, 28.6, 28.6, 28.9, 29.0, 29.1, 29.2, 29.3, 29.3, 29.4, 29.4, 29.5, 29.5, 29.5, 29.5, 29.5, 29.5, 29.6, 29.6, 29.6, 29.5, 29.4, 29.3, 29.1, 29.0, 29.0, 29.0, 28.9, 28.9, 29.0, 29.0, 29.1, 29.1, 29.1, 29.0, 29.0, 29.0, 29.0, 29.0, 29.0, 28.9, 29.0, 29.0, 29.0, 28.9, 28.9, 28.9, 28.8, 28.8, 28.9, 29.0, 29.1, 29.2, 29.3, 29.4, 29.4, 29.4, 29.4, 29.5, 29.4, 29.5, 29.5, 29.6, 29.4, 29.2, 29.2, 29.2, 29.2, 29.0, 28.8, 28.6, 28.6, 28.7, 28.6, 28.7, 28.7, 28.6, 28.5, 28.5, 28.8, 29.0, 29.1, 29.1, 29.2, 29.2, 29.3, 29.4, 29.4, 29.3, 29.2, 29.2, 29.1, 29.0, 28.6, 28.4, 28.1, 28.1, 28.2, 28.3, 28.4, 28.5, 28.6, 28.6, 28.7, 28.7, 28.6, 28.5, 28.5, 28.5, 28.5, 28.5, 28.5, 28.5, 28.5, 28.5, 28.5, 28.6, 28.6, 28.6, 28.6, 28.6, 28.8, 28.9, 29.0, 29.1, 29.2, 29.2, 29.2, 29.2, 29.2, 29.1, 29.1, 29.1, 29.1, 29.1, 29.0, 29.0, 28.9, 28.9, 29.0, 29.0, 28.9, 28.8, 28.6, 28.6, 28.6, 28.6, 28.8, 29.0, 29.1, 29.0, 28.8, 28.6, 28.8, 29.0, 29.1, 29.2, 29.1, 29.1, 29.2, 29.2, 29.2, 29.2, 29.1, 29.0, 29.0, 29.1], 'rain': [0.0, 0.0, 0.0, 0.0, 0.0, 0.0, 0.0, 0.0, 0.0, 0.0, 0.0, 0.0, 0.0, 0.0, 0.0, 0.0, 0.0, 0.0, 0.0, 0.0, 0.0, 0.0, 0.0, 0.0, 0.0, 0.0, 0.0, 0.0, 0.0, 0.0, 0.0, 0.0, 0.0, 0.0, 0.0, 0.0, 0.0, 0.0, 0.0, 0.0, 0.0, 0.0, 0.0, 0.0, 0.0, 0.0, 0.0, 0.0, 0.0, 0.0, 0.0, 0.0, 0.0, 0.0, 0.0, 0.0, 0.0, 0.0, 0.0, 0.0, 0.0, 0.0, 0.0, 0.0, 0.0, 0.0, 0.0, 0.0, 0.0, 0.0, 0.0, 0.0, 0.0, 0.0, 0.0, 0.0, 0.0, 0.0, 0.0, 0.0, 0.0, 0.0, 0.0, 0.0, 0.0, 0.0, 0.0, 0.0, 0.0, 0.0, 0.0, 0.0, 0.0, 0.0, 0.0, 0.0, 0.0, 0.0, 0.0, 0.0, 0.0, 0.0, 0.0, 0.0, 0.0, 0.0, 0.0, 0.0, 0.0, 0.0, 0.0, 0.0, 0.0, 0.0, 0.0, 0.0, 0.0, 0.0, 0.0, 0.0, 0.0, 0.0, 0.0, 0.0, 0.0, 0.0, 0.0, 0.0, 0.0, 0.0, 0.0, 0.0, 0.0, 0.0, 0.0, 0.0, 0.0, 0.0, 0.0, 0.0, 0.0, 0.0, 0.0, 0.0, 0.0, 0.0, 0.0, 0.0, 0.0, 0.0, 0.0, 0.0, 0.0, 0.0, 0.0, 0.0, 0.0, 0.0, 0.0, 0.0, 0.0, 0.0, 0.0, 0.0, 0.0, 0.0, 0.0, 0.0], 'precipitation': [0.1, 0.1, 0.1, 0.1, 0.0, 0.0, 0.0, 0.0, 0.0, 0.0, 0.0, 0.0, 0.0, 0.0, 0.0, 0.0, 0.1, 0.1, 0.1, 0.1, 0.1, 0.1, 0.1, 0.1, 0.1, 0.1, 0.1, 0.1, 0.1, 0.1, 0.0, 0.0, 0.0, 0.0, 0.0, 0.0, 0.1, 0.1, 0.1, 0.1, 0.1, 0.1, 0.1, 0.1, 0.1, 0.1, 0.1, 0.1, 0.0, 0.0, 0.0, 0.0, 0.0, 0.1, 0.0, 0.0, 0.1, 0.1, 0.0, 0.0, 0.0, 0.0, 0.0, 0.0, 0.1, 0.1, 0.1, 0.1, 0.1, 0.1, 0.3, 0.1, 0.1, 0.1, 0.2, 0.2, 0.6, 0.5, 0.6, 0.3, 0.0, 0.0, 0.0, 0.3, 0.0, 0.0, 0.0, 0.0, 0.1, 0.1, 0.1, 0.3, 0.3, 0.3, 1.0, 1.0, 1.0, 0.1, 0.1, 0.1, 0.2, 0.2, 0.2, 0.9, 0.9, 0.9, 1.0, 1.0, 1.0, 0.7, 0.7, 0.7, 0.3, 0.3, 0.3, 0.0, 0.0, 0.0, 0.0, 0.0, 0.0, 0.0, 0.0, 0.0, 0.0, 0.0, 0.0, 0.1, 0.1, 0.1, 0.1, 0.1, 0.1, 0.1, 0.1, 0.1, 0.8, 0.8, 0.8, 0.0, 0.0, 0.0, 0.4, 0.4, 0.4, 0.1, 0.1, 0.1, 0.1, 0.1, 0.1, 0.9, 0.9, 0.9, 0.0, 0.0, 0.0, 0.7, 0.7, 0.7, 0.1, 0.1, 0.1, 0.2, 0.2, 0.2, 0.5, 0.5], 'relative_humidity_2m': [82, 82, 81, 80, 80, 79, 78, 78, 78, 78, 78, 78, 78, 78, 78, 78, 78, 78, 78, 78, 77, 78, 78, 79, 80, 80, 80, 81, 81, 81, 80, 80, 80, 80, 80, 80, 80, 80, 80, 80, 81, 81, 81, 81, 81, 81, 82, 81, 81, 81, 81, 80, 80, 79, 79, 78, 78, 78, 78, 77, 78, 77, 77, 77, 79, 80, 80, 80, 80, 81, 83, 83, 82, 82, 82, 83, 82, 83, 83, 83, 81, 80, 80, 79, 78, 77, 77, 77, 78, 79, 80, 80, 81, 81, 82, 84, 85, 85, 84, 83, 83, 82, 82, 82, 82, 82, 82, 82, 82, 82, 82, 82, 81, 81, 80, 80, 80, 80, 80, 80, 80, 80, 80, 80, 79, 79, 78, 78, 79, 79, 79, 79, 79, 79, 80, 80, 80, 81, 81, 81, 81, 81, 81, 82, 82, 82, 82, 82, 82, 81, 81, 82, 83, 84, 83, 82, 81, 80, 80, 80, 80, 81, 81, 81, 82, 82, 81, 81]}}\n"
     ]
    }
   ],
   "source": [
    "# Test with the first city\n",
    "test_city = df.iloc[1]\n",
    "weather_data = get_weather(test_city['Longitude'], test_city['Latitude'])\n",
    "print(weather_data)"
   ]
  },
  {
   "cell_type": "markdown",
   "metadata": {},
   "source": [
    "L'API répond, du coup on peut faire la même démarche pour nos 35 villes.\\\n",
    "On boucle sur nos 35 villes souhaitées et on met nos données dans un dataframe pour plus de visibilité"
   ]
  },
  {
   "cell_type": "code",
   "execution_count": 79,
   "metadata": {},
   "outputs": [
    {
     "name": "stdout",
     "output_type": "stream",
     "text": [
      "Status code: 200\n",
      "URL: https://api.open-meteo.com/v1/forecast?latitude=7.0889&longitude=43.849841&hourly=temperature_2m&hourly=rain&hourly=precipitation&hourly=relative_humidity_2m\n",
      "Response: {\"latitude\":7.125,\"longitude\":43.875,\"generationtime_ms\":0.16427040100097656,\"utc_offset_seconds\":0,\"timezone\":\"GMT\",\"timezone_abbreviation\":\"GMT\",\"elevation\":900.0,\"hourly_units\":{\"time\":\"iso8601\",\"temperature_2m\":\"°C\",\"rain\":\"mm\",\"precipitation\":\"mm\",\"relative_humidity_2m\":\"%\"},\"hourly\":{\"time\":[\"2025-05-02T00:00\",\"2025-05-02T01:00\",\"2025-05-02T02:00\",\"2025-05-02T03:00\",\"2025-05-02T04:00\",\"2025-05-02T05:00\",\"2025-05-02T06:00\",\"2025-05-02T07:00\",\"2025-05-02T08:00\",\"2025-05-02T09:00\",\"2025-05-02T10:00\",\"2025-05-02T11:00\",\"2025-05-02T12:00\",\"2025-05-02T13:00\",\"2025-05-02T14:00\",\"2025-05-02T15:00\",\"2025-05-02T16:00\",\"2025-05-02T17:00\",\"2025-05-02T18:00\",\"2025-05-02T19:00\",\"2025-05-02T20:00\",\"2025-05-02T21:00\",\"2025-05-02T22:00\",\"2025-05-02T23:00\",\"2025-05-03T00:00\",\"2025-05-03T01:00\",\"2025-05-03T02:00\",\"2025-05-03T03:00\",\"2025-05-03T04:00\",\"2025-05-03T05:00\",\"2025-05-03T06:00\",\"2025-05-03T07:00\",\"2025-05-03T08:00\",\"2025-05-03T09:00\",\"2025-05-03T10:00\",\"2025-05-03T11:00\",\"2025-05-03T12:00\",\"2025-05-03T13:00\",\"2025-05-03T14:00\",\"2025-05-03T15:00\",\"2025-05-03T16:00\",\"2025-05-03T17:00\",\"2025-05-03T18:00\",\"2025-05-03T19:00\",\"2025-05-03T20:00\",\"2025-05-03T21:00\",\"2025-05-03T22:00\",\"2025-05-03T23:00\",\"2025-05-04T00:00\",\"2025-05-04T01:00\",\"2025-05-04T02:00\",\"2025-05-04T03:00\",\"2025-05-04T04:00\",\"2025-05-04T05:00\",\"2025-05-04T06:00\",\"2025-05-04T07:00\",\"2025-05-04T08:00\",\"2025-05-04T09:00\",\"2025-05-04T10:00\",\"2025-05-04T11:00\",\"2025-05-04T12:00\",\"2025-05-04T13:00\",\"2025-05-04T14:00\",\"2025-05-04T15:00\",\"2025-05-04T16:00\",\"2025-05-04T17:00\",\"2025-05-04T18:00\",\"2025-05-04T19:00\",\"2025-05-04T20:00\",\"2025-05-04T21:00\",\"2025-05-04T22:00\",\"2025-05-04T23:00\",\"2025-05-05T00:00\",\"2025-05-05T01:00\",\"2025-05-05T02:00\",\"2025-05-05T03:00\",\"2025-05-05T04:00\",\"2025-05-05T05:00\",\"2025-05-05T06:00\",\"2025-05-05T07:00\",\"2025-05-05T08:00\",\"2025-05-05T09:00\",\"2025-05-05T10:00\",\"2025-05-05T11:00\",\"2025-05-05T12:00\",\"2025-05-05T13:00\",\"2025-05-05T14:00\",\"2025-05-05T15:00\",\"2025-05-05T16:00\",\"2025-05-05T17:00\",\"2025-05-05T18:00\",\"2025-05-05T19:00\",\"2025-05-05T20:00\",\"2025-05-05T21:00\",\"2025-05-05T22:00\",\"2025-05-05T23:00\",\"2025-05-06T00:00\",\"2025-05-06T01:00\",\"2025-05-06T02:00\",\"2025-05-06T03:00\",\"2025-05-06T04:00\",\"2025-05-06T05:00\",\"2025-05-06T06:00\",\"2025-05-06T07:00\",\"2025-05-06T08:00\",\"2025-05-06T09:00\",\"2025-05-06T10:00\",\"2025-05-06T11:00\",\"2025-05-06T12:00\",\"2025-05-06T13:00\",\"2025-05-06T14:00\",\"2025-05-06T15:00\",\"2025-05-06T16:00\",\"2025-05-06T17:00\",\"2025-05-06T18:00\",\"2025-05-06T19:00\",\"2025-05-06T20:00\",\"2025-05-06T21:00\",\"2025-05-06T22:00\",\"2025-05-06T23:00\",\"2025-05-07T00:00\",\"2025-05-07T01:00\",\"2025-05-07T02:00\",\"2025-05-07T03:00\",\"2025-05-07T04:00\",\"2025-05-07T05:00\",\"2025-05-07T06:00\",\"2025-05-07T07:00\",\"2025-05-07T08:00\",\"2025-05-07T09:00\",\"2025-05-07T10:00\",\"2025-05-07T11:00\",\"2025-05-07T12:00\",\"2025-05-07T13:00\",\"2025-05-07T14:00\",\"2025-05-07T15:00\",\"2025-05-07T16:00\",\"2025-05-07T17:00\",\"2025-05-07T18:00\",\"2025-05-07T19:00\",\"2025-05-07T20:00\",\"2025-05-07T21:00\",\"2025-05-07T22:00\",\"2025-05-07T23:00\",\"2025-05-08T00:00\",\"2025-05-08T01:00\",\"2025-05-08T02:00\",\"2025-05-08T03:00\",\"2025-05-08T04:00\",\"2025-05-08T05:00\",\"2025-05-08T06:00\",\"2025-05-08T07:00\",\"2025-05-08T08:00\",\"2025-05-08T09:00\",\"2025-05-08T10:00\",\"2025-05-08T11:00\",\"2025-05-08T12:00\",\"2025-05-08T13:00\",\"2025-05-08T14:00\",\"2025-05-08T15:00\",\"2025-05-08T16:00\",\"2025-05-08T17:00\",\"2025-05-08T18:00\",\"2025-05-08T19:00\",\"2025-05-08T20:00\",\"2025-05-08T21:00\",\"2025-05-08T22:00\",\"2025-05-08T23:00\"],\"temperature_2m\":[22.2,22.1,21.8,21.2,21.8,23.6,24.7,25.9,27.4,28.2,29.0,29.4,29.4,29.1,28.4,27.1,25.9,24.8,23.8,23.4,22.9,22.6,22.3,21.8,21.4,21.2,21.1,20.9,21.2,23.1,23.9,25.4,26.6,27.8,28.9,28.9,28.3,28.0,27.4,26.6,25.4,24.6,23.9,23.4,22.9,22.5,22.1,21.4,21.1,21.0,20.8,20.5,21.4,23.1,24.9,26.4,27.8,28.8,29.6,29.8,29.5,28.6,28.2,27.0,25.8,25.1,24.5,24.0,23.4,23.0,22.6,22.3,22.1,21.7,21.5,21.4,22.0,22.5,23.1,23.8,25.3,26.9,27.7,28.1,27.8,27.2,26.4,25.5,24.8,24.1,23.4,22.9,22.5,22.1,21.9,21.9,21.8,21.5,21.3,21.4,22.1,23.2,24.4,25.5,26.7,27.6,28.2,28.5,28.5,28.1,27.3,26.5,25.6,24.7,23.9,23.4,23.1,22.7,22.3,21.9,21.6,21.4,21.3,21.5,22.1,23.0,23.6,25.9,27.3,28.4,29.1,29.4,29.3,28.7,27.7,26.7,25.9,25.2,24.6,24.2,24.1,24.0,23.9,24.0,23.9,23.5,23.0,22.9,23.4,24.2,25.2,26.5,28.0,29.2,30.0,30.6,30.7,30.2,29.2,28.2,27.1,26.1,25.2,24.6,24.2,23.9,23.5,23.2],\"rain\":[0.00,0.00,0.00,0.00,0.00,0.00,0.00,0.00,0.00,0.00,0.00,0.00,0.00,0.00,0.00,0.00,0.00,0.00,0.00,0.00,0.00,0.00,0.00,0.00,0.00,0.00,0.00,0.00,0.00,0.00,0.00,0.00,0.00,0.00,0.00,0.00,0.00,0.00,0.00,0.00,0.00,0.00,0.00,0.00,0.00,0.00,0.00,0.00,0.00,0.00,0.00,0.00,0.00,0.00,0.00,0.00,0.00,0.00,0.00,0.00,0.00,0.00,0.00,0.00,0.00,0.00,0.00,0.00,0.00,0.00,0.00,0.00,0.00,0.00,0.00,0.00,0.00,0.00,0.00,0.00,0.00,0.00,0.00,0.00,0.00,0.00,0.00,0.00,0.00,0.00,0.00,0.00,0.00,0.00,0.00,0.00,0.00,0.00,0.00,0.00,0.00,0.00,0.00,0.00,0.00,0.00,0.00,0.00,0.00,0.00,0.00,0.00,0.00,0.00,0.00,0.00,0.00,0.00,0.00,0.00,0.00,0.00,0.00,0.00,0.00,0.00,0.00,0.00,0.00,0.00,0.00,0.00,0.00,0.00,0.00,0.00,0.00,0.00,0.00,0.00,0.00,0.00,0.00,0.00,0.00,0.00,0.00,0.00,0.00,0.00,0.00,0.00,0.00,0.00,0.00,0.00,0.00,0.00,0.00,0.00,0.00,0.00,0.00,0.00,0.00,0.00,0.00,0.00],\"precipitation\":[0.00,0.00,0.00,0.00,0.00,0.00,0.10,0.20,0.10,0.10,0.10,0.10,0.10,0.00,0.00,0.10,0.10,0.00,0.60,0.00,0.00,0.00,0.00,0.30,0.00,0.10,0.00,0.00,0.00,0.00,0.10,0.10,0.20,0.00,0.00,0.00,0.00,0.00,0.00,0.00,0.00,0.00,0.00,0.00,0.00,0.00,0.00,1.20,0.70,0.00,0.00,0.00,0.00,0.00,0.00,0.00,0.00,0.20,0.00,0.00,0.10,0.20,0.00,0.00,0.00,0.00,0.00,0.00,0.00,0.00,0.00,0.00,0.00,0.30,1.70,1.00,0.60,1.00,0.80,0.50,0.40,0.10,0.10,0.10,0.10,0.20,0.20,0.20,0.00,0.00,0.00,0.00,0.00,0.00,0.00,0.00,0.00,0.00,0.00,0.00,0.00,0.00,0.00,0.20,0.20,0.20,0.00,0.00,0.00,0.00,0.00,0.00,0.00,0.00,0.00,0.60,0.60,0.60,1.70,1.70,1.70,0.00,0.00,0.00,0.40,0.40,0.40,0.00,0.00,0.00,0.10,0.10,0.10,0.10,0.10,0.10,0.00,0.00,0.00,0.00,0.00,0.00,0.00,0.00,0.00,0.70,0.70,0.70,0.00,0.00,0.00,0.00,0.00,0.00,0.00,0.00,0.00,0.00,0.00,0.00,0.00,0.00,0.00,0.10,0.10,0.10,1.40,1.40],\"relative_humidity_2m\":[86,87,88,92,92,82,76,70,63,59,56,54,56,57,59,63,70,76,81,83,86,87,88,90,91,90,90,92,92,83,79,72,66,61,58,58,60,61,63,66,72,76,81,84,86,88,90,93,93,93,95,96,92,85,76,67,60,57,56,55,55,59,59,64,72,76,79,81,84,86,88,90,92,93,93,94,92,89,86,83,77,69,65,63,64,66,68,72,76,81,85,87,89,90,91,91,92,93,95,94,90,84,78,73,68,64,61,59,59,61,64,68,73,78,82,84,85,86,88,90,92,93,92,91,88,84,81,68,62,57,54,54,54,56,60,64,68,72,75,77,78,78,78,78,78,78,78,77,74,71,67,63,59,55,51,47,46,48,52,56,61,66,70,73,75,77,78,78]}}\n",
      "Mont Saint Michel OK (7.0889, 43.849841)\n",
      "Status code: 200\n",
      "URL: https://api.open-meteo.com/v1/forecast?latitude=-2.000385&longitude=48.653039&hourly=temperature_2m&hourly=rain&hourly=precipitation&hourly=relative_humidity_2m\n",
      "Response: {\"latitude\":-2.0,\"longitude\":48.625,\"generationtime_ms\":0.02586841583251953,\"utc_offset_seconds\":0,\"timezone\":\"GMT\",\"timezone_abbreviation\":\"GMT\",\"elevation\":0.0,\"hourly_units\":{\"time\":\"iso8601\",\"temperature_2m\":\"°C\",\"rain\":\"mm\",\"precipitation\":\"mm\",\"relative_humidity_2m\":\"%\"},\"hourly\":{\"time\":[\"2025-05-02T00:00\",\"2025-05-02T01:00\",\"2025-05-02T02:00\",\"2025-05-02T03:00\",\"2025-05-02T04:00\",\"2025-05-02T05:00\",\"2025-05-02T06:00\",\"2025-05-02T07:00\",\"2025-05-02T08:00\",\"2025-05-02T09:00\",\"2025-05-02T10:00\",\"2025-05-02T11:00\",\"2025-05-02T12:00\",\"2025-05-02T13:00\",\"2025-05-02T14:00\",\"2025-05-02T15:00\",\"2025-05-02T16:00\",\"2025-05-02T17:00\",\"2025-05-02T18:00\",\"2025-05-02T19:00\",\"2025-05-02T20:00\",\"2025-05-02T21:00\",\"2025-05-02T22:00\",\"2025-05-02T23:00\",\"2025-05-03T00:00\",\"2025-05-03T01:00\",\"2025-05-03T02:00\",\"2025-05-03T03:00\",\"2025-05-03T04:00\",\"2025-05-03T05:00\",\"2025-05-03T06:00\",\"2025-05-03T07:00\",\"2025-05-03T08:00\",\"2025-05-03T09:00\",\"2025-05-03T10:00\",\"2025-05-03T11:00\",\"2025-05-03T12:00\",\"2025-05-03T13:00\",\"2025-05-03T14:00\",\"2025-05-03T15:00\",\"2025-05-03T16:00\",\"2025-05-03T17:00\",\"2025-05-03T18:00\",\"2025-05-03T19:00\",\"2025-05-03T20:00\",\"2025-05-03T21:00\",\"2025-05-03T22:00\",\"2025-05-03T23:00\",\"2025-05-04T00:00\",\"2025-05-04T01:00\",\"2025-05-04T02:00\",\"2025-05-04T03:00\",\"2025-05-04T04:00\",\"2025-05-04T05:00\",\"2025-05-04T06:00\",\"2025-05-04T07:00\",\"2025-05-04T08:00\",\"2025-05-04T09:00\",\"2025-05-04T10:00\",\"2025-05-04T11:00\",\"2025-05-04T12:00\",\"2025-05-04T13:00\",\"2025-05-04T14:00\",\"2025-05-04T15:00\",\"2025-05-04T16:00\",\"2025-05-04T17:00\",\"2025-05-04T18:00\",\"2025-05-04T19:00\",\"2025-05-04T20:00\",\"2025-05-04T21:00\",\"2025-05-04T22:00\",\"2025-05-04T23:00\",\"2025-05-05T00:00\",\"2025-05-05T01:00\",\"2025-05-05T02:00\",\"2025-05-05T03:00\",\"2025-05-05T04:00\",\"2025-05-05T05:00\",\"2025-05-05T06:00\",\"2025-05-05T07:00\",\"2025-05-05T08:00\",\"2025-05-05T09:00\",\"2025-05-05T10:00\",\"2025-05-05T11:00\",\"2025-05-05T12:00\",\"2025-05-05T13:00\",\"2025-05-05T14:00\",\"2025-05-05T15:00\",\"2025-05-05T16:00\",\"2025-05-05T17:00\",\"2025-05-05T18:00\",\"2025-05-05T19:00\",\"2025-05-05T20:00\",\"2025-05-05T21:00\",\"2025-05-05T22:00\",\"2025-05-05T23:00\",\"2025-05-06T00:00\",\"2025-05-06T01:00\",\"2025-05-06T02:00\",\"2025-05-06T03:00\",\"2025-05-06T04:00\",\"2025-05-06T05:00\",\"2025-05-06T06:00\",\"2025-05-06T07:00\",\"2025-05-06T08:00\",\"2025-05-06T09:00\",\"2025-05-06T10:00\",\"2025-05-06T11:00\",\"2025-05-06T12:00\",\"2025-05-06T13:00\",\"2025-05-06T14:00\",\"2025-05-06T15:00\",\"2025-05-06T16:00\",\"2025-05-06T17:00\",\"2025-05-06T18:00\",\"2025-05-06T19:00\",\"2025-05-06T20:00\",\"2025-05-06T21:00\",\"2025-05-06T22:00\",\"2025-05-06T23:00\",\"2025-05-07T00:00\",\"2025-05-07T01:00\",\"2025-05-07T02:00\",\"2025-05-07T03:00\",\"2025-05-07T04:00\",\"2025-05-07T05:00\",\"2025-05-07T06:00\",\"2025-05-07T07:00\",\"2025-05-07T08:00\",\"2025-05-07T09:00\",\"2025-05-07T10:00\",\"2025-05-07T11:00\",\"2025-05-07T12:00\",\"2025-05-07T13:00\",\"2025-05-07T14:00\",\"2025-05-07T15:00\",\"2025-05-07T16:00\",\"2025-05-07T17:00\",\"2025-05-07T18:00\",\"2025-05-07T19:00\",\"2025-05-07T20:00\",\"2025-05-07T21:00\",\"2025-05-07T22:00\",\"2025-05-07T23:00\",\"2025-05-08T00:00\",\"2025-05-08T01:00\",\"2025-05-08T02:00\",\"2025-05-08T03:00\",\"2025-05-08T04:00\",\"2025-05-08T05:00\",\"2025-05-08T06:00\",\"2025-05-08T07:00\",\"2025-05-08T08:00\",\"2025-05-08T09:00\",\"2025-05-08T10:00\",\"2025-05-08T11:00\",\"2025-05-08T12:00\",\"2025-05-08T13:00\",\"2025-05-08T14:00\",\"2025-05-08T15:00\",\"2025-05-08T16:00\",\"2025-05-08T17:00\",\"2025-05-08T18:00\",\"2025-05-08T19:00\",\"2025-05-08T20:00\",\"2025-05-08T21:00\",\"2025-05-08T22:00\",\"2025-05-08T23:00\"],\"temperature_2m\":[28.5,28.5,28.6,28.6,28.9,29.0,29.1,29.2,29.3,29.3,29.4,29.4,29.5,29.5,29.5,29.5,29.5,29.5,29.6,29.6,29.6,29.5,29.4,29.3,29.1,29.0,29.0,29.0,28.9,28.9,29.0,29.0,29.1,29.1,29.1,29.0,29.0,29.0,29.0,29.0,29.0,28.9,29.0,29.0,29.0,28.9,28.9,28.9,28.8,28.8,28.9,29.0,29.1,29.2,29.3,29.4,29.4,29.4,29.4,29.5,29.4,29.5,29.5,29.6,29.4,29.2,29.2,29.2,29.2,29.0,28.8,28.6,28.6,28.7,28.6,28.7,28.7,28.6,28.5,28.5,28.8,29.0,29.1,29.1,29.2,29.2,29.3,29.4,29.4,29.3,29.2,29.2,29.1,29.0,28.6,28.4,28.1,28.1,28.2,28.3,28.4,28.5,28.6,28.6,28.7,28.7,28.6,28.5,28.5,28.5,28.5,28.5,28.5,28.5,28.5,28.5,28.5,28.6,28.6,28.6,28.6,28.6,28.8,28.9,29.0,29.1,29.2,29.2,29.2,29.2,29.2,29.1,29.1,29.1,29.1,29.1,29.0,29.0,28.9,28.9,29.0,29.0,28.9,28.8,28.6,28.6,28.6,28.6,28.8,29.0,29.1,29.0,28.8,28.6,28.8,29.0,29.1,29.2,29.1,29.1,29.2,29.2,29.2,29.2,29.1,29.0,29.0,29.1],\"rain\":[0.00,0.00,0.00,0.00,0.00,0.00,0.00,0.00,0.00,0.00,0.00,0.00,0.00,0.00,0.00,0.00,0.00,0.00,0.00,0.00,0.00,0.00,0.00,0.00,0.00,0.00,0.00,0.00,0.00,0.00,0.00,0.00,0.00,0.00,0.00,0.00,0.00,0.00,0.00,0.00,0.00,0.00,0.00,0.00,0.00,0.00,0.00,0.00,0.00,0.00,0.00,0.00,0.00,0.00,0.00,0.00,0.00,0.00,0.00,0.00,0.00,0.00,0.00,0.00,0.00,0.00,0.00,0.00,0.00,0.00,0.00,0.00,0.00,0.00,0.00,0.00,0.00,0.00,0.00,0.00,0.00,0.00,0.00,0.00,0.00,0.00,0.00,0.00,0.00,0.00,0.00,0.00,0.00,0.00,0.00,0.00,0.00,0.00,0.00,0.00,0.00,0.00,0.00,0.00,0.00,0.00,0.00,0.00,0.00,0.00,0.00,0.00,0.00,0.00,0.00,0.00,0.00,0.00,0.00,0.00,0.00,0.00,0.00,0.00,0.00,0.00,0.00,0.00,0.00,0.00,0.00,0.00,0.00,0.00,0.00,0.00,0.00,0.00,0.00,0.00,0.00,0.00,0.00,0.00,0.00,0.00,0.00,0.00,0.00,0.00,0.00,0.00,0.00,0.00,0.00,0.00,0.00,0.00,0.00,0.00,0.00,0.00,0.00,0.00,0.00,0.00,0.00,0.00],\"precipitation\":[0.10,0.10,0.10,0.10,0.00,0.00,0.00,0.00,0.00,0.00,0.00,0.00,0.00,0.00,0.00,0.00,0.10,0.10,0.10,0.10,0.10,0.10,0.10,0.10,0.10,0.10,0.10,0.10,0.10,0.10,0.00,0.00,0.00,0.00,0.00,0.00,0.10,0.10,0.10,0.10,0.10,0.10,0.10,0.10,0.10,0.10,0.10,0.10,0.00,0.00,0.00,0.00,0.00,0.10,0.00,0.00,0.10,0.10,0.00,0.00,0.00,0.00,0.00,0.00,0.10,0.10,0.10,0.10,0.10,0.10,0.30,0.10,0.10,0.10,0.20,0.20,0.60,0.50,0.60,0.30,0.00,0.00,0.00,0.30,0.00,0.00,0.00,0.00,0.10,0.10,0.10,0.30,0.30,0.30,1.00,1.00,1.00,0.10,0.10,0.10,0.20,0.20,0.20,0.90,0.90,0.90,1.00,1.00,1.00,0.70,0.70,0.70,0.30,0.30,0.30,0.00,0.00,0.00,0.00,0.00,0.00,0.00,0.00,0.00,0.00,0.00,0.00,0.10,0.10,0.10,0.10,0.10,0.10,0.10,0.10,0.10,0.80,0.80,0.80,0.00,0.00,0.00,0.40,0.40,0.40,0.10,0.10,0.10,0.10,0.10,0.10,0.90,0.90,0.90,0.00,0.00,0.00,0.70,0.70,0.70,0.10,0.10,0.10,0.20,0.20,0.20,0.50,0.50],\"relative_humidity_2m\":[82,82,81,80,80,79,78,78,78,78,78,78,78,78,78,78,78,78,78,78,77,78,78,79,80,80,80,81,81,81,80,80,80,80,80,80,80,80,80,80,81,81,81,81,81,81,82,81,81,81,81,80,80,79,79,78,78,78,78,77,78,77,77,77,79,80,80,80,80,81,83,83,82,82,82,83,82,83,83,83,81,80,80,79,78,77,77,77,78,79,80,80,81,81,82,84,85,85,84,83,83,82,82,82,82,82,82,82,82,82,82,82,81,81,80,80,80,80,80,80,80,80,80,80,79,79,78,78,79,79,79,79,79,79,80,80,80,81,81,81,81,81,81,82,82,82,82,82,82,81,81,82,83,84,83,82,81,80,80,80,80,81,81,81,82,82,81,81]}}\n",
      "St Malo OK (-2.000385, 48.653039)\n",
      "Status code: 200\n",
      "URL: https://api.open-meteo.com/v1/forecast?latitude=-0.702368&longitude=49.277173&hourly=temperature_2m&hourly=rain&hourly=precipitation&hourly=relative_humidity_2m\n",
      "Response: {\"latitude\":-0.75,\"longitude\":49.25,\"generationtime_ms\":0.03719329833984375,\"utc_offset_seconds\":0,\"timezone\":\"GMT\",\"timezone_abbreviation\":\"GMT\",\"elevation\":0.0,\"hourly_units\":{\"time\":\"iso8601\",\"temperature_2m\":\"°C\",\"rain\":\"mm\",\"precipitation\":\"mm\",\"relative_humidity_2m\":\"%\"},\"hourly\":{\"time\":[\"2025-05-02T00:00\",\"2025-05-02T01:00\",\"2025-05-02T02:00\",\"2025-05-02T03:00\",\"2025-05-02T04:00\",\"2025-05-02T05:00\",\"2025-05-02T06:00\",\"2025-05-02T07:00\",\"2025-05-02T08:00\",\"2025-05-02T09:00\",\"2025-05-02T10:00\",\"2025-05-02T11:00\",\"2025-05-02T12:00\",\"2025-05-02T13:00\",\"2025-05-02T14:00\",\"2025-05-02T15:00\",\"2025-05-02T16:00\",\"2025-05-02T17:00\",\"2025-05-02T18:00\",\"2025-05-02T19:00\",\"2025-05-02T20:00\",\"2025-05-02T21:00\",\"2025-05-02T22:00\",\"2025-05-02T23:00\",\"2025-05-03T00:00\",\"2025-05-03T01:00\",\"2025-05-03T02:00\",\"2025-05-03T03:00\",\"2025-05-03T04:00\",\"2025-05-03T05:00\",\"2025-05-03T06:00\",\"2025-05-03T07:00\",\"2025-05-03T08:00\",\"2025-05-03T09:00\",\"2025-05-03T10:00\",\"2025-05-03T11:00\",\"2025-05-03T12:00\",\"2025-05-03T13:00\",\"2025-05-03T14:00\",\"2025-05-03T15:00\",\"2025-05-03T16:00\",\"2025-05-03T17:00\",\"2025-05-03T18:00\",\"2025-05-03T19:00\",\"2025-05-03T20:00\",\"2025-05-03T21:00\",\"2025-05-03T22:00\",\"2025-05-03T23:00\",\"2025-05-04T00:00\",\"2025-05-04T01:00\",\"2025-05-04T02:00\",\"2025-05-04T03:00\",\"2025-05-04T04:00\",\"2025-05-04T05:00\",\"2025-05-04T06:00\",\"2025-05-04T07:00\",\"2025-05-04T08:00\",\"2025-05-04T09:00\",\"2025-05-04T10:00\",\"2025-05-04T11:00\",\"2025-05-04T12:00\",\"2025-05-04T13:00\",\"2025-05-04T14:00\",\"2025-05-04T15:00\",\"2025-05-04T16:00\",\"2025-05-04T17:00\",\"2025-05-04T18:00\",\"2025-05-04T19:00\",\"2025-05-04T20:00\",\"2025-05-04T21:00\",\"2025-05-04T22:00\",\"2025-05-04T23:00\",\"2025-05-05T00:00\",\"2025-05-05T01:00\",\"2025-05-05T02:00\",\"2025-05-05T03:00\",\"2025-05-05T04:00\",\"2025-05-05T05:00\",\"2025-05-05T06:00\",\"2025-05-05T07:00\",\"2025-05-05T08:00\",\"2025-05-05T09:00\",\"2025-05-05T10:00\",\"2025-05-05T11:00\",\"2025-05-05T12:00\",\"2025-05-05T13:00\",\"2025-05-05T14:00\",\"2025-05-05T15:00\",\"2025-05-05T16:00\",\"2025-05-05T17:00\",\"2025-05-05T18:00\",\"2025-05-05T19:00\",\"2025-05-05T20:00\",\"2025-05-05T21:00\",\"2025-05-05T22:00\",\"2025-05-05T23:00\",\"2025-05-06T00:00\",\"2025-05-06T01:00\",\"2025-05-06T02:00\",\"2025-05-06T03:00\",\"2025-05-06T04:00\",\"2025-05-06T05:00\",\"2025-05-06T06:00\",\"2025-05-06T07:00\",\"2025-05-06T08:00\",\"2025-05-06T09:00\",\"2025-05-06T10:00\",\"2025-05-06T11:00\",\"2025-05-06T12:00\",\"2025-05-06T13:00\",\"2025-05-06T14:00\",\"2025-05-06T15:00\",\"2025-05-06T16:00\",\"2025-05-06T17:00\",\"2025-05-06T18:00\",\"2025-05-06T19:00\",\"2025-05-06T20:00\",\"2025-05-06T21:00\",\"2025-05-06T22:00\",\"2025-05-06T23:00\",\"2025-05-07T00:00\",\"2025-05-07T01:00\",\"2025-05-07T02:00\",\"2025-05-07T03:00\",\"2025-05-07T04:00\",\"2025-05-07T05:00\",\"2025-05-07T06:00\",\"2025-05-07T07:00\",\"2025-05-07T08:00\",\"2025-05-07T09:00\",\"2025-05-07T10:00\",\"2025-05-07T11:00\",\"2025-05-07T12:00\",\"2025-05-07T13:00\",\"2025-05-07T14:00\",\"2025-05-07T15:00\",\"2025-05-07T16:00\",\"2025-05-07T17:00\",\"2025-05-07T18:00\",\"2025-05-07T19:00\",\"2025-05-07T20:00\",\"2025-05-07T21:00\",\"2025-05-07T22:00\",\"2025-05-07T23:00\",\"2025-05-08T00:00\",\"2025-05-08T01:00\",\"2025-05-08T02:00\",\"2025-05-08T03:00\",\"2025-05-08T04:00\",\"2025-05-08T05:00\",\"2025-05-08T06:00\",\"2025-05-08T07:00\",\"2025-05-08T08:00\",\"2025-05-08T09:00\",\"2025-05-08T10:00\",\"2025-05-08T11:00\",\"2025-05-08T12:00\",\"2025-05-08T13:00\",\"2025-05-08T14:00\",\"2025-05-08T15:00\",\"2025-05-08T16:00\",\"2025-05-08T17:00\",\"2025-05-08T18:00\",\"2025-05-08T19:00\",\"2025-05-08T20:00\",\"2025-05-08T21:00\",\"2025-05-08T22:00\",\"2025-05-08T23:00\"],\"temperature_2m\":[28.9,28.9,29.0,29.0,29.0,29.1,29.0,29.1,29.2,29.3,29.4,29.4,29.4,29.4,29.4,29.4,29.3,29.2,29.1,29.1,29.0,29.0,28.9,28.8,28.8,28.8,28.8,28.8,28.9,28.9,29.0,29.0,29.0,29.0,29.0,29.0,29.1,29.1,29.2,29.2,29.2,29.3,29.4,29.4,29.4,29.3,29.2,29.1,29.0,29.0,29.0,29.0,29.0,29.1,29.2,29.2,29.3,29.4,29.4,29.5,29.5,29.5,29.5,29.5,29.5,29.5,29.4,29.2,29.1,29.0,29.0,28.9,28.9,28.9,29.0,29.0,29.0,29.1,29.1,29.2,29.2,29.2,29.2,29.2,29.2,29.3,29.5,29.5,29.5,29.3,29.1,29.0,28.9,28.8,28.7,28.6,28.6,28.5,28.5,28.5,28.5,28.5,28.5,28.5,28.5,28.5,28.5,28.5,28.5,28.5,28.5,28.5,28.5,28.5,28.6,28.6,28.6,28.7,28.8,28.8,28.8,28.9,28.9,29.0,29.0,29.1,29.2,29.2,29.3,29.4,29.4,29.2,29.2,29.1,29.1,29.0,29.0,29.0,29.0,29.0,29.1,29.1,29.0,29.0,29.0,28.9,28.9,29.0,29.0,29.2,29.4,29.5,29.5,29.5,29.4,29.2,29.1,29.2,29.3,29.4,29.4,29.4,29.2,29.1,29.0,28.9,28.9,29.0],\"rain\":[0.00,0.00,0.00,0.00,0.00,0.00,0.00,0.00,0.00,0.00,0.00,0.00,0.00,0.00,0.00,0.00,0.00,0.00,0.00,0.00,0.00,0.00,0.00,0.00,0.00,0.00,0.00,0.00,0.00,0.00,0.00,0.00,0.00,0.00,0.00,0.00,0.00,0.00,0.00,0.00,0.00,0.00,0.00,0.00,0.00,0.00,0.00,0.00,0.00,0.00,0.00,0.00,0.00,0.00,0.00,0.00,0.00,0.00,0.00,0.00,0.00,0.00,0.00,0.00,0.00,0.00,0.00,0.00,0.00,0.00,0.00,0.00,0.00,0.00,0.00,0.00,0.00,0.00,0.00,0.00,0.00,0.00,0.00,0.00,0.00,0.00,0.00,0.00,0.00,0.00,0.00,0.00,0.00,0.00,0.00,0.00,0.00,0.00,0.00,0.00,0.00,0.00,0.00,0.00,0.00,0.00,0.00,0.00,0.00,0.00,0.00,0.00,0.00,0.00,0.00,0.00,0.00,0.00,0.00,0.00,0.00,0.00,0.00,0.00,0.00,0.00,0.00,0.00,0.00,0.00,0.00,0.00,0.00,0.00,0.00,0.00,0.00,0.00,0.00,0.00,0.00,0.00,0.00,0.00,0.00,0.00,0.00,0.00,0.00,0.00,0.00,0.00,0.00,0.00,0.00,0.00,0.00,0.00,0.00,0.00,0.00,0.00,0.00,0.00,0.00,0.00,0.00,0.00],\"precipitation\":[0.00,0.00,0.00,0.00,0.00,0.00,0.00,0.00,0.00,0.00,0.00,0.00,0.00,0.00,0.00,0.00,0.00,0.00,0.00,0.00,0.00,0.00,0.00,0.00,0.00,0.00,0.00,0.00,0.00,0.00,0.00,0.00,0.00,0.00,0.00,0.00,0.00,0.00,0.00,0.00,0.00,0.00,0.00,0.00,0.00,0.00,0.00,0.00,0.00,0.00,0.00,0.00,0.00,0.00,0.00,0.00,0.00,0.00,0.00,0.00,0.00,0.00,0.00,0.00,0.00,0.00,0.00,0.00,0.00,0.00,0.00,0.00,0.00,0.00,0.00,0.00,0.00,0.00,0.00,0.00,0.00,0.00,0.00,0.00,0.00,0.00,0.00,0.00,0.00,0.00,0.00,0.10,0.10,0.10,0.20,0.20,0.20,0.10,0.10,0.10,0.10,0.10,0.10,0.70,0.70,0.70,0.70,0.70,0.70,1.10,1.10,1.10,0.50,0.50,0.50,0.00,0.00,0.00,0.00,0.00,0.00,0.00,0.00,0.00,0.00,0.00,0.00,0.00,0.00,0.00,0.20,0.20,0.20,0.30,0.30,0.30,0.10,0.10,0.10,0.00,0.00,0.00,0.10,0.10,0.10,0.20,0.20,0.20,0.00,0.00,0.00,0.00,0.00,0.00,0.20,0.20,0.20,0.10,0.10,0.10,0.20,0.20,0.20,0.50,0.50,0.50,0.20,0.20],\"relative_humidity_2m\":[76,76,76,76,75,75,76,75,75,74,74,74,74,74,74,74,75,75,75,75,76,76,76,76,76,75,74,74,73,73,73,73,73,73,73,73,73,73,73,73,73,73,73,74,74,73,74,74,75,75,75,75,75,74,74,74,74,74,74,73,73,73,74,74,74,75,76,77,78,78,78,78,78,78,76,76,76,75,75,76,76,76,76,76,77,77,76,76,77,79,80,81,82,82,82,82,82,82,82,82,82,83,83,83,82,82,82,82,82,82,83,83,82,82,81,81,81,81,81,80,80,80,80,80,80,79,79,78,78,78,78,79,79,80,80,81,81,81,81,81,80,80,80,81,81,81,80,80,80,79,79,79,78,78,79,80,81,81,80,80,80,81,81,81,82,82,82,81]}}\n",
      "Bayeux OK (-0.702368, 49.277173)\n",
      "Status code: 200\n",
      "URL: https://api.open-meteo.com/v1/forecast?latitude=0.128407&longitude=49.493515&hourly=temperature_2m&hourly=rain&hourly=precipitation&hourly=relative_humidity_2m\n",
      "Response: {\"latitude\":0.125,\"longitude\":49.5,\"generationtime_ms\":0.03612041473388672,\"utc_offset_seconds\":0,\"timezone\":\"GMT\",\"timezone_abbreviation\":\"GMT\",\"elevation\":0.0,\"hourly_units\":{\"time\":\"iso8601\",\"temperature_2m\":\"°C\",\"rain\":\"mm\",\"precipitation\":\"mm\",\"relative_humidity_2m\":\"%\"},\"hourly\":{\"time\":[\"2025-05-02T00:00\",\"2025-05-02T01:00\",\"2025-05-02T02:00\",\"2025-05-02T03:00\",\"2025-05-02T04:00\",\"2025-05-02T05:00\",\"2025-05-02T06:00\",\"2025-05-02T07:00\",\"2025-05-02T08:00\",\"2025-05-02T09:00\",\"2025-05-02T10:00\",\"2025-05-02T11:00\",\"2025-05-02T12:00\",\"2025-05-02T13:00\",\"2025-05-02T14:00\",\"2025-05-02T15:00\",\"2025-05-02T16:00\",\"2025-05-02T17:00\",\"2025-05-02T18:00\",\"2025-05-02T19:00\",\"2025-05-02T20:00\",\"2025-05-02T21:00\",\"2025-05-02T22:00\",\"2025-05-02T23:00\",\"2025-05-03T00:00\",\"2025-05-03T01:00\",\"2025-05-03T02:00\",\"2025-05-03T03:00\",\"2025-05-03T04:00\",\"2025-05-03T05:00\",\"2025-05-03T06:00\",\"2025-05-03T07:00\",\"2025-05-03T08:00\",\"2025-05-03T09:00\",\"2025-05-03T10:00\",\"2025-05-03T11:00\",\"2025-05-03T12:00\",\"2025-05-03T13:00\",\"2025-05-03T14:00\",\"2025-05-03T15:00\",\"2025-05-03T16:00\",\"2025-05-03T17:00\",\"2025-05-03T18:00\",\"2025-05-03T19:00\",\"2025-05-03T20:00\",\"2025-05-03T21:00\",\"2025-05-03T22:00\",\"2025-05-03T23:00\",\"2025-05-04T00:00\",\"2025-05-04T01:00\",\"2025-05-04T02:00\",\"2025-05-04T03:00\",\"2025-05-04T04:00\",\"2025-05-04T05:00\",\"2025-05-04T06:00\",\"2025-05-04T07:00\",\"2025-05-04T08:00\",\"2025-05-04T09:00\",\"2025-05-04T10:00\",\"2025-05-04T11:00\",\"2025-05-04T12:00\",\"2025-05-04T13:00\",\"2025-05-04T14:00\",\"2025-05-04T15:00\",\"2025-05-04T16:00\",\"2025-05-04T17:00\",\"2025-05-04T18:00\",\"2025-05-04T19:00\",\"2025-05-04T20:00\",\"2025-05-04T21:00\",\"2025-05-04T22:00\",\"2025-05-04T23:00\",\"2025-05-05T00:00\",\"2025-05-05T01:00\",\"2025-05-05T02:00\",\"2025-05-05T03:00\",\"2025-05-05T04:00\",\"2025-05-05T05:00\",\"2025-05-05T06:00\",\"2025-05-05T07:00\",\"2025-05-05T08:00\",\"2025-05-05T09:00\",\"2025-05-05T10:00\",\"2025-05-05T11:00\",\"2025-05-05T12:00\",\"2025-05-05T13:00\",\"2025-05-05T14:00\",\"2025-05-05T15:00\",\"2025-05-05T16:00\",\"2025-05-05T17:00\",\"2025-05-05T18:00\",\"2025-05-05T19:00\",\"2025-05-05T20:00\",\"2025-05-05T21:00\",\"2025-05-05T22:00\",\"2025-05-05T23:00\",\"2025-05-06T00:00\",\"2025-05-06T01:00\",\"2025-05-06T02:00\",\"2025-05-06T03:00\",\"2025-05-06T04:00\",\"2025-05-06T05:00\",\"2025-05-06T06:00\",\"2025-05-06T07:00\",\"2025-05-06T08:00\",\"2025-05-06T09:00\",\"2025-05-06T10:00\",\"2025-05-06T11:00\",\"2025-05-06T12:00\",\"2025-05-06T13:00\",\"2025-05-06T14:00\",\"2025-05-06T15:00\",\"2025-05-06T16:00\",\"2025-05-06T17:00\",\"2025-05-06T18:00\",\"2025-05-06T19:00\",\"2025-05-06T20:00\",\"2025-05-06T21:00\",\"2025-05-06T22:00\",\"2025-05-06T23:00\",\"2025-05-07T00:00\",\"2025-05-07T01:00\",\"2025-05-07T02:00\",\"2025-05-07T03:00\",\"2025-05-07T04:00\",\"2025-05-07T05:00\",\"2025-05-07T06:00\",\"2025-05-07T07:00\",\"2025-05-07T08:00\",\"2025-05-07T09:00\",\"2025-05-07T10:00\",\"2025-05-07T11:00\",\"2025-05-07T12:00\",\"2025-05-07T13:00\",\"2025-05-07T14:00\",\"2025-05-07T15:00\",\"2025-05-07T16:00\",\"2025-05-07T17:00\",\"2025-05-07T18:00\",\"2025-05-07T19:00\",\"2025-05-07T20:00\",\"2025-05-07T21:00\",\"2025-05-07T22:00\",\"2025-05-07T23:00\",\"2025-05-08T00:00\",\"2025-05-08T01:00\",\"2025-05-08T02:00\",\"2025-05-08T03:00\",\"2025-05-08T04:00\",\"2025-05-08T05:00\",\"2025-05-08T06:00\",\"2025-05-08T07:00\",\"2025-05-08T08:00\",\"2025-05-08T09:00\",\"2025-05-08T10:00\",\"2025-05-08T11:00\",\"2025-05-08T12:00\",\"2025-05-08T13:00\",\"2025-05-08T14:00\",\"2025-05-08T15:00\",\"2025-05-08T16:00\",\"2025-05-08T17:00\",\"2025-05-08T18:00\",\"2025-05-08T19:00\",\"2025-05-08T20:00\",\"2025-05-08T21:00\",\"2025-05-08T22:00\",\"2025-05-08T23:00\"],\"temperature_2m\":[28.8,28.7,28.7,28.7,28.8,28.8,28.8,28.9,29.0,29.0,29.1,29.1,29.1,29.1,29.2,29.1,29.1,29.1,29.0,29.0,28.9,28.8,28.7,28.6,28.8,28.8,28.8,28.8,28.8,28.9,29.0,29.0,29.0,29.0,29.0,29.0,29.0,29.1,29.1,29.1,29.2,29.1,29.1,29.1,29.0,28.9,28.8,28.6,28.6,28.5,28.6,28.7,28.8,28.9,28.9,29.0,29.1,29.2,29.2,29.3,29.3,29.4,29.4,29.4,29.4,29.4,29.4,29.3,29.3,29.3,29.2,29.2,29.1,29.2,29.2,29.1,29.1,29.2,29.2,29.3,29.4,29.4,29.4,29.4,29.4,29.4,29.3,29.3,29.3,29.4,29.4,29.3,29.2,29.2,29.1,29.1,29.0,28.8,28.5,28.4,28.4,28.5,28.6,28.6,28.7,28.7,28.7,28.6,28.6,28.6,28.6,28.6,28.5,28.5,28.5,28.6,28.8,28.9,28.9,28.9,29.0,29.0,29.1,29.2,29.2,29.2,29.1,29.4,29.4,29.4,29.4,29.2,29.1,29.0,28.9,28.8,28.9,29.0,29.0,29.0,29.0,29.0,29.0,29.0,29.0,29.0,29.1,29.2,29.2,29.4,29.4,29.5,29.5,29.5,29.5,29.3,29.2,29.2,29.4,29.5,29.5,29.5,29.5,29.3,29.0,28.8,28.9,29.0],\"rain\":[0.00,0.00,0.00,0.00,0.00,0.00,0.00,0.00,0.00,0.00,0.00,0.00,0.00,0.00,0.00,0.00,0.00,0.00,0.00,0.00,0.00,0.00,0.00,0.00,0.00,0.00,0.00,0.00,0.00,0.00,0.00,0.00,0.00,0.00,0.00,0.00,0.00,0.00,0.00,0.00,0.00,0.00,0.00,0.00,0.00,0.00,0.00,0.00,0.00,0.00,0.00,0.00,0.00,0.00,0.00,0.00,0.00,0.00,0.00,0.00,0.00,0.00,0.00,0.00,0.00,0.00,0.00,0.00,0.00,0.00,0.00,0.00,0.00,0.00,0.00,0.00,0.00,0.00,0.00,0.00,0.00,0.00,0.00,0.00,0.00,0.00,0.00,0.00,0.00,0.00,0.00,0.00,0.00,0.00,0.00,0.00,0.00,0.00,0.00,0.00,0.00,0.00,0.00,0.00,0.00,0.00,0.00,0.00,0.00,0.00,0.00,0.00,0.00,0.00,0.00,0.00,0.00,0.00,0.00,0.00,0.00,0.00,0.00,0.00,0.00,0.00,0.00,0.00,0.00,0.00,0.00,0.00,0.00,0.00,0.00,0.00,0.00,0.00,0.00,0.00,0.00,0.00,0.00,0.00,0.00,0.00,0.00,0.00,0.00,0.00,0.00,0.00,0.00,0.00,0.00,0.00,0.00,0.00,0.00,0.00,0.00,0.00,0.00,0.00,0.00,0.00,0.00,0.00],\"precipitation\":[0.00,0.00,0.00,0.00,0.00,0.00,0.00,0.00,0.00,0.00,0.00,0.00,0.00,0.00,0.00,0.00,0.00,0.00,0.00,0.00,0.00,0.00,0.00,0.00,0.00,0.00,0.00,0.00,0.00,0.00,0.00,0.00,0.00,0.00,0.00,0.00,0.00,0.00,0.00,0.00,0.00,0.00,0.00,0.00,0.00,0.00,0.00,0.00,0.00,0.00,0.00,0.00,0.00,0.00,0.00,0.00,0.00,0.00,0.00,0.00,0.00,0.00,0.00,0.00,0.00,0.00,0.00,0.00,0.00,0.00,0.00,0.00,0.00,0.00,0.00,0.00,0.00,0.00,0.00,0.00,0.00,0.00,0.00,0.00,0.00,0.00,0.00,0.00,0.00,0.00,0.00,0.00,0.00,0.00,0.00,0.00,0.00,0.20,0.20,0.20,0.50,0.50,0.50,0.90,0.90,0.90,0.50,0.50,0.50,1.10,1.10,1.10,0.40,0.40,0.40,0.00,0.00,0.00,0.00,0.00,0.00,0.00,0.00,0.00,0.10,0.10,0.10,0.00,0.00,0.00,0.30,0.30,0.30,1.00,1.00,1.00,0.10,0.10,0.10,0.00,0.00,0.00,0.00,0.00,0.00,0.10,0.10,0.10,0.00,0.00,0.00,0.00,0.00,0.00,0.60,0.60,0.60,0.00,0.00,0.00,0.20,0.20,0.20,1.30,1.30,1.30,0.00,0.00],\"relative_humidity_2m\":[75,76,76,76,76,76,76,75,74,74,73,73,73,73,73,74,73,73,73,72,73,74,75,75,73,73,73,72,72,71,70,69,69,70,71,71,72,72,72,73,72,72,72,73,73,74,75,76,76,76,76,76,75,75,74,74,73,73,73,73,73,73,73,73,73,74,74,74,74,74,75,75,75,74,74,74,75,75,74,74,74,74,74,74,75,76,77,77,77,76,76,76,77,77,77,77,78,80,82,84,84,84,83,82,81,81,81,82,82,82,83,83,83,82,82,81,81,80,80,79,79,79,78,78,79,79,80,78,78,78,79,80,81,82,83,83,83,82,82,82,82,82,82,83,83,82,81,80,80,79,79,79,78,78,79,80,81,81,80,80,80,80,80,81,82,83,83,82]}}\n",
      "Le Havre OK (0.128407, 49.493515)\n",
      "Status code: 200\n",
      "URL: https://api.open-meteo.com/v1/forecast?latitude=1.099092&longitude=49.44344&hourly=temperature_2m&hourly=rain&hourly=precipitation&hourly=relative_humidity_2m\n",
      "Response: {\"latitude\":1.125,\"longitude\":49.5,\"generationtime_ms\":0.04208087921142578,\"utc_offset_seconds\":0,\"timezone\":\"GMT\",\"timezone_abbreviation\":\"GMT\",\"elevation\":0.0,\"hourly_units\":{\"time\":\"iso8601\",\"temperature_2m\":\"°C\",\"rain\":\"mm\",\"precipitation\":\"mm\",\"relative_humidity_2m\":\"%\"},\"hourly\":{\"time\":[\"2025-05-02T00:00\",\"2025-05-02T01:00\",\"2025-05-02T02:00\",\"2025-05-02T03:00\",\"2025-05-02T04:00\",\"2025-05-02T05:00\",\"2025-05-02T06:00\",\"2025-05-02T07:00\",\"2025-05-02T08:00\",\"2025-05-02T09:00\",\"2025-05-02T10:00\",\"2025-05-02T11:00\",\"2025-05-02T12:00\",\"2025-05-02T13:00\",\"2025-05-02T14:00\",\"2025-05-02T15:00\",\"2025-05-02T16:00\",\"2025-05-02T17:00\",\"2025-05-02T18:00\",\"2025-05-02T19:00\",\"2025-05-02T20:00\",\"2025-05-02T21:00\",\"2025-05-02T22:00\",\"2025-05-02T23:00\",\"2025-05-03T00:00\",\"2025-05-03T01:00\",\"2025-05-03T02:00\",\"2025-05-03T03:00\",\"2025-05-03T04:00\",\"2025-05-03T05:00\",\"2025-05-03T06:00\",\"2025-05-03T07:00\",\"2025-05-03T08:00\",\"2025-05-03T09:00\",\"2025-05-03T10:00\",\"2025-05-03T11:00\",\"2025-05-03T12:00\",\"2025-05-03T13:00\",\"2025-05-03T14:00\",\"2025-05-03T15:00\",\"2025-05-03T16:00\",\"2025-05-03T17:00\",\"2025-05-03T18:00\",\"2025-05-03T19:00\",\"2025-05-03T20:00\",\"2025-05-03T21:00\",\"2025-05-03T22:00\",\"2025-05-03T23:00\",\"2025-05-04T00:00\",\"2025-05-04T01:00\",\"2025-05-04T02:00\",\"2025-05-04T03:00\",\"2025-05-04T04:00\",\"2025-05-04T05:00\",\"2025-05-04T06:00\",\"2025-05-04T07:00\",\"2025-05-04T08:00\",\"2025-05-04T09:00\",\"2025-05-04T10:00\",\"2025-05-04T11:00\",\"2025-05-04T12:00\",\"2025-05-04T13:00\",\"2025-05-04T14:00\",\"2025-05-04T15:00\",\"2025-05-04T16:00\",\"2025-05-04T17:00\",\"2025-05-04T18:00\",\"2025-05-04T19:00\",\"2025-05-04T20:00\",\"2025-05-04T21:00\",\"2025-05-04T22:00\",\"2025-05-04T23:00\",\"2025-05-05T00:00\",\"2025-05-05T01:00\",\"2025-05-05T02:00\",\"2025-05-05T03:00\",\"2025-05-05T04:00\",\"2025-05-05T05:00\",\"2025-05-05T06:00\",\"2025-05-05T07:00\",\"2025-05-05T08:00\",\"2025-05-05T09:00\",\"2025-05-05T10:00\",\"2025-05-05T11:00\",\"2025-05-05T12:00\",\"2025-05-05T13:00\",\"2025-05-05T14:00\",\"2025-05-05T15:00\",\"2025-05-05T16:00\",\"2025-05-05T17:00\",\"2025-05-05T18:00\",\"2025-05-05T19:00\",\"2025-05-05T20:00\",\"2025-05-05T21:00\",\"2025-05-05T22:00\",\"2025-05-05T23:00\",\"2025-05-06T00:00\",\"2025-05-06T01:00\",\"2025-05-06T02:00\",\"2025-05-06T03:00\",\"2025-05-06T04:00\",\"2025-05-06T05:00\",\"2025-05-06T06:00\",\"2025-05-06T07:00\",\"2025-05-06T08:00\",\"2025-05-06T09:00\",\"2025-05-06T10:00\",\"2025-05-06T11:00\",\"2025-05-06T12:00\",\"2025-05-06T13:00\",\"2025-05-06T14:00\",\"2025-05-06T15:00\",\"2025-05-06T16:00\",\"2025-05-06T17:00\",\"2025-05-06T18:00\",\"2025-05-06T19:00\",\"2025-05-06T20:00\",\"2025-05-06T21:00\",\"2025-05-06T22:00\",\"2025-05-06T23:00\",\"2025-05-07T00:00\",\"2025-05-07T01:00\",\"2025-05-07T02:00\",\"2025-05-07T03:00\",\"2025-05-07T04:00\",\"2025-05-07T05:00\",\"2025-05-07T06:00\",\"2025-05-07T07:00\",\"2025-05-07T08:00\",\"2025-05-07T09:00\",\"2025-05-07T10:00\",\"2025-05-07T11:00\",\"2025-05-07T12:00\",\"2025-05-07T13:00\",\"2025-05-07T14:00\",\"2025-05-07T15:00\",\"2025-05-07T16:00\",\"2025-05-07T17:00\",\"2025-05-07T18:00\",\"2025-05-07T19:00\",\"2025-05-07T20:00\",\"2025-05-07T21:00\",\"2025-05-07T22:00\",\"2025-05-07T23:00\",\"2025-05-08T00:00\",\"2025-05-08T01:00\",\"2025-05-08T02:00\",\"2025-05-08T03:00\",\"2025-05-08T04:00\",\"2025-05-08T05:00\",\"2025-05-08T06:00\",\"2025-05-08T07:00\",\"2025-05-08T08:00\",\"2025-05-08T09:00\",\"2025-05-08T10:00\",\"2025-05-08T11:00\",\"2025-05-08T12:00\",\"2025-05-08T13:00\",\"2025-05-08T14:00\",\"2025-05-08T15:00\",\"2025-05-08T16:00\",\"2025-05-08T17:00\",\"2025-05-08T18:00\",\"2025-05-08T19:00\",\"2025-05-08T20:00\",\"2025-05-08T21:00\",\"2025-05-08T22:00\",\"2025-05-08T23:00\"],\"temperature_2m\":[28.9,28.9,29.0,29.0,29.0,29.0,28.9,29.0,28.9,29.0,29.0,29.0,29.1,29.2,29.3,29.2,29.2,29.2,29.2,29.1,29.1,29.0,28.9,28.9,28.8,28.9,28.9,29.0,29.0,29.0,29.1,29.1,29.2,29.2,29.3,29.4,29.4,29.5,29.5,29.5,29.5,29.6,29.6,29.6,29.5,29.4,29.3,29.2,29.1,29.0,29.0,29.0,29.1,29.2,29.2,29.2,29.3,29.4,29.5,29.5,29.6,29.6,29.8,29.8,29.8,29.9,29.8,29.6,29.5,29.3,29.1,29.1,29.1,29.1,29.2,29.2,29.3,29.4,29.5,29.5,29.6,29.6,29.6,29.6,29.8,29.8,29.9,29.9,29.9,29.9,29.9,29.8,29.7,29.6,29.5,29.2,29.0,28.9,28.6,28.5,28.5,28.5,28.6,28.6,28.6,28.7,28.7,28.7,28.7,28.6,28.6,28.5,28.6,28.7,28.8,28.9,29.0,29.1,29.2,29.2,29.2,29.3,29.4,29.4,29.4,29.2,29.2,29.2,29.4,29.4,29.4,29.4,29.2,29.0,28.9,28.7,28.8,28.9,29.0,29.1,29.1,29.2,29.2,29.2,29.2,29.2,29.2,29.2,29.2,29.2,29.2,29.4,29.5,29.5,29.5,29.3,29.2,29.4,29.5,29.6,29.6,29.5,29.5,29.2,29.0,28.9,28.9,29.0],\"rain\":[0.00,0.00,0.00,0.00,0.00,0.00,0.00,0.00,0.00,0.00,0.00,0.00,0.00,0.00,0.00,0.00,0.00,0.00,0.00,0.00,0.00,0.00,0.00,0.00,0.00,0.00,0.00,0.00,0.00,0.00,0.00,0.00,0.00,0.00,0.00,0.00,0.00,0.00,0.00,0.00,0.00,0.00,0.00,0.00,0.00,0.00,0.00,0.00,0.00,0.00,0.00,0.00,0.00,0.00,0.00,0.00,0.00,0.00,0.00,0.00,0.00,0.00,0.00,0.00,0.00,0.00,0.00,0.00,0.00,0.00,0.00,0.00,0.00,0.00,0.00,0.00,0.00,0.00,0.00,0.00,0.00,0.00,0.00,0.00,0.00,0.00,0.00,0.00,0.00,0.00,0.00,0.00,0.00,0.00,0.00,0.00,0.00,0.00,0.00,0.00,0.00,0.00,0.00,0.00,0.00,0.00,0.00,0.00,0.00,0.00,0.00,0.00,0.00,0.00,0.00,0.00,0.00,0.00,0.00,0.00,0.00,0.00,0.00,0.00,0.00,0.00,0.00,0.00,0.00,0.00,0.00,0.00,0.00,0.00,0.00,0.00,0.00,0.00,0.00,0.00,0.00,0.00,0.00,0.00,0.00,0.00,0.00,0.00,0.00,0.00,0.00,0.00,0.00,0.00,0.00,0.00,0.00,0.00,0.00,0.00,0.00,0.00,0.00,0.00,0.00,0.00,0.00,0.00],\"precipitation\":[0.00,0.00,0.00,0.00,0.00,0.00,0.00,0.00,0.00,0.00,0.00,0.00,0.00,0.00,0.00,0.00,0.00,0.00,0.00,0.00,0.00,0.00,0.00,0.00,0.00,0.00,0.00,0.00,0.00,0.00,0.00,0.00,0.00,0.00,0.00,0.00,0.00,0.00,0.00,0.00,0.00,0.00,0.00,0.00,0.00,0.00,0.00,0.00,0.00,0.00,0.00,0.00,0.00,0.00,0.00,0.00,0.00,0.00,0.00,0.00,0.00,0.00,0.00,0.00,0.00,0.00,0.00,0.00,0.00,0.00,0.00,0.00,0.00,0.00,0.00,0.00,0.00,0.00,0.00,0.00,0.00,0.00,0.00,0.00,0.00,0.00,0.00,0.00,0.00,0.00,0.00,0.00,0.00,0.00,0.10,0.10,0.10,0.30,0.30,0.30,0.80,0.80,0.80,1.00,1.00,1.00,1.10,1.10,1.10,0.20,0.20,0.20,0.10,0.10,0.10,0.00,0.00,0.00,0.00,0.00,0.00,0.00,0.00,0.00,0.10,0.10,0.10,0.10,0.10,0.10,0.20,0.20,0.20,1.80,1.80,1.80,0.20,0.20,0.20,0.00,0.00,0.00,0.00,0.00,0.00,0.10,0.10,0.10,0.20,0.20,0.20,0.00,0.00,0.00,1.20,1.20,1.20,0.00,0.00,0.00,0.20,0.20,0.20,1.70,1.70,1.70,0.50,0.50],\"relative_humidity_2m\":[76,76,75,75,75,74,75,75,75,75,75,74,74,71,71,71,72,72,72,71,71,71,71,72,73,72,72,72,72,71,71,71,71,71,71,71,72,72,72,72,71,70,69,69,69,70,71,72,73,74,74,74,74,74,74,73,73,73,72,71,71,71,70,71,71,71,72,73,74,76,76,75,75,75,75,75,74,74,74,73,73,74,74,74,74,74,73,73,73,74,74,75,75,76,77,78,79,80,82,83,83,83,83,83,83,83,82,81,81,81,82,83,83,83,82,81,80,79,78,78,78,78,78,78,79,79,80,81,80,80,80,80,81,82,83,84,84,83,82,81,81,80,80,79,79,79,80,80,80,81,81,80,79,79,79,80,81,81,80,80,80,80,80,81,81,82,82,82]}}\n",
      "Rouen OK (1.099092, 49.44344)\n",
      "Status code: 200\n",
      "URL: https://api.open-meteo.com/v1/forecast?latitude=2.37068&longitude=48.844061&hourly=temperature_2m&hourly=rain&hourly=precipitation&hourly=relative_humidity_2m\n",
      "Response: {\"latitude\":2.375,\"longitude\":48.875,\"generationtime_ms\":0.06198883056640625,\"utc_offset_seconds\":0,\"timezone\":\"GMT\",\"timezone_abbreviation\":\"GMT\",\"elevation\":0.0,\"hourly_units\":{\"time\":\"iso8601\",\"temperature_2m\":\"°C\",\"rain\":\"mm\",\"precipitation\":\"mm\",\"relative_humidity_2m\":\"%\"},\"hourly\":{\"time\":[\"2025-05-02T00:00\",\"2025-05-02T01:00\",\"2025-05-02T02:00\",\"2025-05-02T03:00\",\"2025-05-02T04:00\",\"2025-05-02T05:00\",\"2025-05-02T06:00\",\"2025-05-02T07:00\",\"2025-05-02T08:00\",\"2025-05-02T09:00\",\"2025-05-02T10:00\",\"2025-05-02T11:00\",\"2025-05-02T12:00\",\"2025-05-02T13:00\",\"2025-05-02T14:00\",\"2025-05-02T15:00\",\"2025-05-02T16:00\",\"2025-05-02T17:00\",\"2025-05-02T18:00\",\"2025-05-02T19:00\",\"2025-05-02T20:00\",\"2025-05-02T21:00\",\"2025-05-02T22:00\",\"2025-05-02T23:00\",\"2025-05-03T00:00\",\"2025-05-03T01:00\",\"2025-05-03T02:00\",\"2025-05-03T03:00\",\"2025-05-03T04:00\",\"2025-05-03T05:00\",\"2025-05-03T06:00\",\"2025-05-03T07:00\",\"2025-05-03T08:00\",\"2025-05-03T09:00\",\"2025-05-03T10:00\",\"2025-05-03T11:00\",\"2025-05-03T12:00\",\"2025-05-03T13:00\",\"2025-05-03T14:00\",\"2025-05-03T15:00\",\"2025-05-03T16:00\",\"2025-05-03T17:00\",\"2025-05-03T18:00\",\"2025-05-03T19:00\",\"2025-05-03T20:00\",\"2025-05-03T21:00\",\"2025-05-03T22:00\",\"2025-05-03T23:00\",\"2025-05-04T00:00\",\"2025-05-04T01:00\",\"2025-05-04T02:00\",\"2025-05-04T03:00\",\"2025-05-04T04:00\",\"2025-05-04T05:00\",\"2025-05-04T06:00\",\"2025-05-04T07:00\",\"2025-05-04T08:00\",\"2025-05-04T09:00\",\"2025-05-04T10:00\",\"2025-05-04T11:00\",\"2025-05-04T12:00\",\"2025-05-04T13:00\",\"2025-05-04T14:00\",\"2025-05-04T15:00\",\"2025-05-04T16:00\",\"2025-05-04T17:00\",\"2025-05-04T18:00\",\"2025-05-04T19:00\",\"2025-05-04T20:00\",\"2025-05-04T21:00\",\"2025-05-04T22:00\",\"2025-05-04T23:00\",\"2025-05-05T00:00\",\"2025-05-05T01:00\",\"2025-05-05T02:00\",\"2025-05-05T03:00\",\"2025-05-05T04:00\",\"2025-05-05T05:00\",\"2025-05-05T06:00\",\"2025-05-05T07:00\",\"2025-05-05T08:00\",\"2025-05-05T09:00\",\"2025-05-05T10:00\",\"2025-05-05T11:00\",\"2025-05-05T12:00\",\"2025-05-05T13:00\",\"2025-05-05T14:00\",\"2025-05-05T15:00\",\"2025-05-05T16:00\",\"2025-05-05T17:00\",\"2025-05-05T18:00\",\"2025-05-05T19:00\",\"2025-05-05T20:00\",\"2025-05-05T21:00\",\"2025-05-05T22:00\",\"2025-05-05T23:00\",\"2025-05-06T00:00\",\"2025-05-06T01:00\",\"2025-05-06T02:00\",\"2025-05-06T03:00\",\"2025-05-06T04:00\",\"2025-05-06T05:00\",\"2025-05-06T06:00\",\"2025-05-06T07:00\",\"2025-05-06T08:00\",\"2025-05-06T09:00\",\"2025-05-06T10:00\",\"2025-05-06T11:00\",\"2025-05-06T12:00\",\"2025-05-06T13:00\",\"2025-05-06T14:00\",\"2025-05-06T15:00\",\"2025-05-06T16:00\",\"2025-05-06T17:00\",\"2025-05-06T18:00\",\"2025-05-06T19:00\",\"2025-05-06T20:00\",\"2025-05-06T21:00\",\"2025-05-06T22:00\",\"2025-05-06T23:00\",\"2025-05-07T00:00\",\"2025-05-07T01:00\",\"2025-05-07T02:00\",\"2025-05-07T03:00\",\"2025-05-07T04:00\",\"2025-05-07T05:00\",\"2025-05-07T06:00\",\"2025-05-07T07:00\",\"2025-05-07T08:00\",\"2025-05-07T09:00\",\"2025-05-07T10:00\",\"2025-05-07T11:00\",\"2025-05-07T12:00\",\"2025-05-07T13:00\",\"2025-05-07T14:00\",\"2025-05-07T15:00\",\"2025-05-07T16:00\",\"2025-05-07T17:00\",\"2025-05-07T18:00\",\"2025-05-07T19:00\",\"2025-05-07T20:00\",\"2025-05-07T21:00\",\"2025-05-07T22:00\",\"2025-05-07T23:00\",\"2025-05-08T00:00\",\"2025-05-08T01:00\",\"2025-05-08T02:00\",\"2025-05-08T03:00\",\"2025-05-08T04:00\",\"2025-05-08T05:00\",\"2025-05-08T06:00\",\"2025-05-08T07:00\",\"2025-05-08T08:00\",\"2025-05-08T09:00\",\"2025-05-08T10:00\",\"2025-05-08T11:00\",\"2025-05-08T12:00\",\"2025-05-08T13:00\",\"2025-05-08T14:00\",\"2025-05-08T15:00\",\"2025-05-08T16:00\",\"2025-05-08T17:00\",\"2025-05-08T18:00\",\"2025-05-08T19:00\",\"2025-05-08T20:00\",\"2025-05-08T21:00\",\"2025-05-08T22:00\",\"2025-05-08T23:00\"],\"temperature_2m\":[29.5,29.5,29.5,29.5,29.3,29.4,29.1,29.2,29.2,29.1,29.1,29.1,29.1,29.2,29.3,29.4,29.5,29.5,29.5,29.5,29.6,29.5,29.4,29.4,29.4,29.4,29.4,29.4,29.4,29.4,29.5,29.5,29.5,29.6,29.6,29.6,29.8,29.8,29.6,29.5,29.4,29.3,29.2,29.4,29.5,29.5,29.5,29.4,29.3,29.3,29.4,29.4,29.5,29.6,29.7,29.7,29.6,29.5,29.7,29.8,29.8,29.4,29.1,29.4,29.5,29.6,29.6,29.6,29.6,29.4,29.4,29.3,29.4,29.2,29.2,29.2,29.3,29.4,29.2,29.3,29.3,29.2,29.1,29.1,29.1,29.2,29.3,29.4,29.5,29.5,29.5,29.4,29.2,29.1,29.0,28.8,28.6,28.5,28.5,28.4,28.4,28.5,28.5,28.5,28.5,28.5,28.5,28.6,28.7,28.9,29.0,29.1,29.1,29.0,29.0,29.2,29.4,29.5,29.5,29.5,29.4,29.3,29.2,29.1,29.1,29.0,29.0,29.4,29.3,29.1,29.0,28.9,28.8,28.9,29.0,29.1,29.2,29.3,29.4,29.5,29.5,29.6,29.6,29.5,29.5,29.5,29.5,29.5,29.5,29.5,29.6,29.6,29.6,29.6,29.6,29.5,29.5,29.6,29.7,29.8,29.9,29.9,29.9,29.9,29.8,29.7,29.5,29.4],\"rain\":[0.00,0.00,0.00,0.00,0.00,0.00,0.00,0.00,0.00,0.00,0.00,0.00,0.00,0.00,0.00,0.00,0.00,0.00,0.00,0.00,0.00,0.00,0.00,0.00,0.00,0.00,0.00,0.00,0.00,0.00,0.00,0.00,0.00,0.00,0.00,0.00,0.00,0.00,0.00,0.00,0.00,0.00,0.00,0.00,0.00,0.00,0.00,0.00,0.00,0.00,0.00,0.00,0.00,0.00,0.00,0.00,0.00,0.00,0.00,0.00,0.00,0.00,0.00,0.00,0.00,0.00,0.00,0.00,0.00,0.00,0.00,0.00,0.00,0.00,0.00,0.00,0.00,0.00,0.00,0.00,0.00,0.00,0.00,0.00,0.00,0.00,0.00,0.00,0.00,0.00,0.00,0.00,0.00,0.00,0.00,0.00,0.00,0.00,0.00,0.00,0.00,0.00,0.00,0.00,0.00,0.00,0.00,0.00,0.00,0.00,0.00,0.00,0.00,0.00,0.00,0.00,0.00,0.00,0.00,0.00,0.00,0.00,0.00,0.00,0.00,0.00,0.00,0.00,0.00,0.00,0.00,0.00,0.00,0.00,0.00,0.00,0.00,0.00,0.00,0.00,0.00,0.00,0.00,0.00,0.00,0.00,0.00,0.00,0.00,0.00,0.00,0.00,0.00,0.00,0.00,0.00,0.00,0.00,0.00,0.00,0.00,0.00,0.00,0.00,0.00,0.00,0.00,0.00],\"precipitation\":[0.00,0.00,0.00,0.00,0.10,0.10,0.10,0.10,0.10,0.10,0.10,0.10,0.10,0.10,0.00,0.00,0.00,0.00,0.00,0.00,0.00,0.00,0.00,0.00,0.00,0.00,0.00,0.00,0.00,0.00,0.00,0.00,0.00,0.00,0.00,0.00,0.00,0.00,0.00,0.00,0.00,0.00,0.00,0.00,0.00,0.00,0.00,0.00,0.10,0.00,0.00,0.00,0.00,0.00,0.00,0.00,0.00,0.10,0.00,0.00,0.00,0.10,0.10,0.00,0.00,0.00,0.00,0.00,0.00,0.10,0.00,0.00,0.10,0.10,0.10,0.10,0.10,0.00,0.00,0.10,0.10,0.20,0.30,0.50,0.30,0.10,0.10,0.10,0.00,0.00,0.00,0.10,0.10,0.10,0.30,0.30,0.30,0.60,0.60,0.60,0.60,0.60,0.60,1.60,1.60,1.60,0.50,0.50,0.50,0.10,0.10,0.10,0.00,0.00,0.00,0.00,0.00,0.00,0.00,0.00,0.00,0.20,0.20,0.20,0.70,0.70,0.70,0.80,0.80,0.80,0.60,0.60,0.60,0.30,0.30,0.30,0.00,0.00,0.00,0.00,0.00,0.00,0.00,0.00,0.00,0.50,0.50,0.50,0.50,0.50,0.50,0.00,0.00,0.00,1.00,1.00,1.00,0.00,0.00,0.00,0.00,0.00,0.00,0.20,0.20,0.20,0.30,0.30],\"relative_humidity_2m\":[75,75,75,76,78,78,78,78,78,78,78,78,78,78,78,77,77,76,76,75,73,73,73,74,74,74,74,74,74,74,73,73,72,71,71,71,70,70,72,74,75,76,77,77,76,74,75,75,76,76,76,76,75,75,74,75,76,77,75,75,75,77,79,77,76,76,76,77,77,78,78,78,78,79,79,79,79,79,80,80,81,81,82,83,83,82,81,80,80,80,80,81,82,83,84,84,84,84,84,84,84,85,85,85,84,83,83,82,82,82,81,81,81,82,82,81,80,79,79,80,80,80,81,81,81,82,82,79,80,81,82,83,83,83,82,82,82,82,82,81,81,80,80,80,80,79,79,78,78,78,78,78,78,78,78,78,78,78,78,78,78,78,78,78,78,78,78,79]}}\n",
      "Paris OK (2.37068, 48.844061)\n",
      "Status code: 200\n",
      "URL: https://api.open-meteo.com/v1/forecast?latitude=2.292663&longitude=49.893548&hourly=temperature_2m&hourly=rain&hourly=precipitation&hourly=relative_humidity_2m\n",
      "Response: {\"latitude\":2.25,\"longitude\":49.875,\"generationtime_ms\":0.035762786865234375,\"utc_offset_seconds\":0,\"timezone\":\"GMT\",\"timezone_abbreviation\":\"GMT\",\"elevation\":0.0,\"hourly_units\":{\"time\":\"iso8601\",\"temperature_2m\":\"°C\",\"rain\":\"mm\",\"precipitation\":\"mm\",\"relative_humidity_2m\":\"%\"},\"hourly\":{\"time\":[\"2025-05-02T00:00\",\"2025-05-02T01:00\",\"2025-05-02T02:00\",\"2025-05-02T03:00\",\"2025-05-02T04:00\",\"2025-05-02T05:00\",\"2025-05-02T06:00\",\"2025-05-02T07:00\",\"2025-05-02T08:00\",\"2025-05-02T09:00\",\"2025-05-02T10:00\",\"2025-05-02T11:00\",\"2025-05-02T12:00\",\"2025-05-02T13:00\",\"2025-05-02T14:00\",\"2025-05-02T15:00\",\"2025-05-02T16:00\",\"2025-05-02T17:00\",\"2025-05-02T18:00\",\"2025-05-02T19:00\",\"2025-05-02T20:00\",\"2025-05-02T21:00\",\"2025-05-02T22:00\",\"2025-05-02T23:00\",\"2025-05-03T00:00\",\"2025-05-03T01:00\",\"2025-05-03T02:00\",\"2025-05-03T03:00\",\"2025-05-03T04:00\",\"2025-05-03T05:00\",\"2025-05-03T06:00\",\"2025-05-03T07:00\",\"2025-05-03T08:00\",\"2025-05-03T09:00\",\"2025-05-03T10:00\",\"2025-05-03T11:00\",\"2025-05-03T12:00\",\"2025-05-03T13:00\",\"2025-05-03T14:00\",\"2025-05-03T15:00\",\"2025-05-03T16:00\",\"2025-05-03T17:00\",\"2025-05-03T18:00\",\"2025-05-03T19:00\",\"2025-05-03T20:00\",\"2025-05-03T21:00\",\"2025-05-03T22:00\",\"2025-05-03T23:00\",\"2025-05-04T00:00\",\"2025-05-04T01:00\",\"2025-05-04T02:00\",\"2025-05-04T03:00\",\"2025-05-04T04:00\",\"2025-05-04T05:00\",\"2025-05-04T06:00\",\"2025-05-04T07:00\",\"2025-05-04T08:00\",\"2025-05-04T09:00\",\"2025-05-04T10:00\",\"2025-05-04T11:00\",\"2025-05-04T12:00\",\"2025-05-04T13:00\",\"2025-05-04T14:00\",\"2025-05-04T15:00\",\"2025-05-04T16:00\",\"2025-05-04T17:00\",\"2025-05-04T18:00\",\"2025-05-04T19:00\",\"2025-05-04T20:00\",\"2025-05-04T21:00\",\"2025-05-04T22:00\",\"2025-05-04T23:00\",\"2025-05-05T00:00\",\"2025-05-05T01:00\",\"2025-05-05T02:00\",\"2025-05-05T03:00\",\"2025-05-05T04:00\",\"2025-05-05T05:00\",\"2025-05-05T06:00\",\"2025-05-05T07:00\",\"2025-05-05T08:00\",\"2025-05-05T09:00\",\"2025-05-05T10:00\",\"2025-05-05T11:00\",\"2025-05-05T12:00\",\"2025-05-05T13:00\",\"2025-05-05T14:00\",\"2025-05-05T15:00\",\"2025-05-05T16:00\",\"2025-05-05T17:00\",\"2025-05-05T18:00\",\"2025-05-05T19:00\",\"2025-05-05T20:00\",\"2025-05-05T21:00\",\"2025-05-05T22:00\",\"2025-05-05T23:00\",\"2025-05-06T00:00\",\"2025-05-06T01:00\",\"2025-05-06T02:00\",\"2025-05-06T03:00\",\"2025-05-06T04:00\",\"2025-05-06T05:00\",\"2025-05-06T06:00\",\"2025-05-06T07:00\",\"2025-05-06T08:00\",\"2025-05-06T09:00\",\"2025-05-06T10:00\",\"2025-05-06T11:00\",\"2025-05-06T12:00\",\"2025-05-06T13:00\",\"2025-05-06T14:00\",\"2025-05-06T15:00\",\"2025-05-06T16:00\",\"2025-05-06T17:00\",\"2025-05-06T18:00\",\"2025-05-06T19:00\",\"2025-05-06T20:00\",\"2025-05-06T21:00\",\"2025-05-06T22:00\",\"2025-05-06T23:00\",\"2025-05-07T00:00\",\"2025-05-07T01:00\",\"2025-05-07T02:00\",\"2025-05-07T03:00\",\"2025-05-07T04:00\",\"2025-05-07T05:00\",\"2025-05-07T06:00\",\"2025-05-07T07:00\",\"2025-05-07T08:00\",\"2025-05-07T09:00\",\"2025-05-07T10:00\",\"2025-05-07T11:00\",\"2025-05-07T12:00\",\"2025-05-07T13:00\",\"2025-05-07T14:00\",\"2025-05-07T15:00\",\"2025-05-07T16:00\",\"2025-05-07T17:00\",\"2025-05-07T18:00\",\"2025-05-07T19:00\",\"2025-05-07T20:00\",\"2025-05-07T21:00\",\"2025-05-07T22:00\",\"2025-05-07T23:00\",\"2025-05-08T00:00\",\"2025-05-08T01:00\",\"2025-05-08T02:00\",\"2025-05-08T03:00\",\"2025-05-08T04:00\",\"2025-05-08T05:00\",\"2025-05-08T06:00\",\"2025-05-08T07:00\",\"2025-05-08T08:00\",\"2025-05-08T09:00\",\"2025-05-08T10:00\",\"2025-05-08T11:00\",\"2025-05-08T12:00\",\"2025-05-08T13:00\",\"2025-05-08T14:00\",\"2025-05-08T15:00\",\"2025-05-08T16:00\",\"2025-05-08T17:00\",\"2025-05-08T18:00\",\"2025-05-08T19:00\",\"2025-05-08T20:00\",\"2025-05-08T21:00\",\"2025-05-08T22:00\",\"2025-05-08T23:00\"],\"temperature_2m\":[29.4,29.4,29.4,29.4,29.5,29.5,29.5,29.6,29.7,29.7,29.7,29.7,29.7,29.7,29.7,29.7,29.6,29.6,29.6,29.6,29.5,29.4,29.3,29.2,29.2,29.2,29.2,29.4,29.4,29.4,29.5,29.5,29.6,29.6,29.6,29.6,29.6,29.6,29.7,29.8,29.8,29.8,29.8,29.8,29.8,29.6,29.4,29.3,29.3,29.4,29.5,29.7,29.9,30.1,30.1,30.0,30.0,29.8,29.8,29.9,30.0,30.2,30.1,29.6,29.4,29.5,29.6,29.7,29.7,29.6,29.5,29.2,29.2,29.4,29.5,29.5,29.5,29.5,29.6,29.8,29.7,29.7,29.6,29.5,29.4,29.4,29.5,29.5,29.6,29.6,29.6,29.5,29.3,29.1,29.0,28.9,28.8,28.7,28.7,28.7,28.8,28.9,29.0,28.9,28.8,28.6,28.6,28.6,28.7,28.9,29.0,29.2,29.4,29.5,29.5,29.5,29.5,29.5,29.5,29.5,29.5,29.5,29.5,29.4,29.4,29.5,29.5,29.2,29.1,29.0,29.0,28.9,28.9,28.9,29.0,29.0,29.0,29.1,29.2,29.4,29.5,29.7,29.6,29.5,29.5,29.5,29.6,29.6,29.5,29.4,29.2,29.3,29.5,29.5,29.5,29.5,29.5,29.6,29.7,29.8,29.8,29.7,29.6,29.5,29.2,29.1,29.2,29.4],\"rain\":[0.00,0.00,0.00,0.00,0.00,0.00,0.00,0.00,0.00,0.00,0.00,0.00,0.00,0.00,0.00,0.00,0.00,0.00,0.00,0.00,0.00,0.00,0.00,0.00,0.00,0.00,0.00,0.00,0.00,0.00,0.00,0.00,0.00,0.00,0.00,0.00,0.00,0.00,0.00,0.00,0.00,0.00,0.00,0.00,0.00,0.00,0.00,0.00,0.00,0.00,0.00,0.00,0.00,0.00,0.00,0.00,0.00,0.00,0.00,0.00,0.00,0.00,0.00,0.00,0.00,0.00,0.00,0.00,0.00,0.00,0.00,0.00,0.00,0.00,0.00,0.00,0.00,0.00,0.00,0.00,0.00,0.00,0.00,0.00,0.00,0.00,0.00,0.00,0.00,0.00,0.00,0.00,0.00,0.00,0.00,0.00,0.00,0.00,0.00,0.00,0.00,0.00,0.00,0.00,0.00,0.00,0.00,0.00,0.00,0.00,0.00,0.00,0.00,0.00,0.00,0.00,0.00,0.00,0.00,0.00,0.00,0.00,0.00,0.00,0.00,0.00,0.00,0.00,0.00,0.00,0.00,0.00,0.00,0.00,0.00,0.00,0.00,0.00,0.00,0.00,0.00,0.00,0.00,0.00,0.00,0.00,0.00,0.00,0.00,0.00,0.00,0.00,0.00,0.00,0.00,0.00,0.00,0.00,0.00,0.00,0.00,0.00,0.00,0.00,0.00,0.00,0.00,0.00],\"precipitation\":[0.00,0.00,0.00,0.00,0.00,0.00,0.00,0.00,0.00,0.00,0.00,0.00,0.00,0.00,0.00,0.00,0.00,0.00,0.00,0.00,0.00,0.00,0.00,0.00,0.00,0.00,0.00,0.00,0.00,0.00,0.00,0.00,0.00,0.00,0.00,0.00,0.00,0.00,0.00,0.00,0.00,0.00,0.00,0.00,0.00,0.00,0.00,0.00,0.00,0.00,0.00,0.00,0.00,0.00,0.00,0.00,0.00,0.00,0.00,0.00,0.00,0.00,0.00,0.10,0.00,0.00,0.00,0.00,0.00,0.00,0.00,0.00,0.10,0.00,0.00,0.00,0.00,0.00,0.00,0.00,0.00,0.00,0.10,0.30,0.30,0.10,0.10,0.10,0.00,0.00,0.00,0.10,0.10,0.10,0.90,0.90,0.90,0.60,0.60,0.60,0.90,0.90,0.90,1.70,1.70,1.70,1.20,1.20,1.20,0.00,0.00,0.00,0.00,0.00,0.00,0.00,0.00,0.00,0.00,0.00,0.00,0.10,0.10,0.10,0.10,0.10,0.10,0.60,0.60,0.60,0.70,0.70,0.70,0.70,0.70,0.70,0.20,0.20,0.20,0.00,0.00,0.00,0.10,0.10,0.10,0.10,0.10,0.10,0.60,0.60,0.60,0.10,0.10,0.10,1.60,1.60,1.60,0.70,0.70,0.70,0.20,0.20,0.20,1.10,1.10,1.10,0.70,0.70],\"relative_humidity_2m\":[72,72,72,72,72,71,71,70,70,69,69,69,69,69,70,70,71,71,71,72,72,73,73,73,73,72,72,71,70,69,69,69,68,68,68,69,69,70,71,70,69,69,69,69,70,71,73,73,73,73,73,72,71,70,70,71,71,74,73,71,70,69,70,75,78,77,76,75,75,75,76,78,78,77,76,76,76,77,76,76,77,76,77,79,79,79,78,77,77,77,78,79,80,81,82,82,83,84,84,84,83,82,82,83,83,84,84,83,82,81,80,79,78,78,78,78,78,78,78,78,78,79,79,80,80,80,80,81,82,83,83,83,83,83,82,82,82,82,82,81,79,78,78,79,80,79,79,78,78,79,80,80,79,79,79,78,78,78,78,78,78,79,79,80,81,81,80,79]}}\n",
      "Amiens OK (2.292663, 49.893548)\n",
      "Status code: 200\n",
      "URL: https://api.open-meteo.com/v1/forecast?latitude=3.052529&longitude=50.634523&hourly=temperature_2m&hourly=rain&hourly=precipitation&hourly=relative_humidity_2m\n",
      "Response: {\"latitude\":3.0,\"longitude\":50.625,\"generationtime_ms\":0.4864931106567383,\"utc_offset_seconds\":0,\"timezone\":\"GMT\",\"timezone_abbreviation\":\"GMT\",\"elevation\":0.0,\"hourly_units\":{\"time\":\"iso8601\",\"temperature_2m\":\"°C\",\"rain\":\"mm\",\"precipitation\":\"mm\",\"relative_humidity_2m\":\"%\"},\"hourly\":{\"time\":[\"2025-05-02T00:00\",\"2025-05-02T01:00\",\"2025-05-02T02:00\",\"2025-05-02T03:00\",\"2025-05-02T04:00\",\"2025-05-02T05:00\",\"2025-05-02T06:00\",\"2025-05-02T07:00\",\"2025-05-02T08:00\",\"2025-05-02T09:00\",\"2025-05-02T10:00\",\"2025-05-02T11:00\",\"2025-05-02T12:00\",\"2025-05-02T13:00\",\"2025-05-02T14:00\",\"2025-05-02T15:00\",\"2025-05-02T16:00\",\"2025-05-02T17:00\",\"2025-05-02T18:00\",\"2025-05-02T19:00\",\"2025-05-02T20:00\",\"2025-05-02T21:00\",\"2025-05-02T22:00\",\"2025-05-02T23:00\",\"2025-05-03T00:00\",\"2025-05-03T01:00\",\"2025-05-03T02:00\",\"2025-05-03T03:00\",\"2025-05-03T04:00\",\"2025-05-03T05:00\",\"2025-05-03T06:00\",\"2025-05-03T07:00\",\"2025-05-03T08:00\",\"2025-05-03T09:00\",\"2025-05-03T10:00\",\"2025-05-03T11:00\",\"2025-05-03T12:00\",\"2025-05-03T13:00\",\"2025-05-03T14:00\",\"2025-05-03T15:00\",\"2025-05-03T16:00\",\"2025-05-03T17:00\",\"2025-05-03T18:00\",\"2025-05-03T19:00\",\"2025-05-03T20:00\",\"2025-05-03T21:00\",\"2025-05-03T22:00\",\"2025-05-03T23:00\",\"2025-05-04T00:00\",\"2025-05-04T01:00\",\"2025-05-04T02:00\",\"2025-05-04T03:00\",\"2025-05-04T04:00\",\"2025-05-04T05:00\",\"2025-05-04T06:00\",\"2025-05-04T07:00\",\"2025-05-04T08:00\",\"2025-05-04T09:00\",\"2025-05-04T10:00\",\"2025-05-04T11:00\",\"2025-05-04T12:00\",\"2025-05-04T13:00\",\"2025-05-04T14:00\",\"2025-05-04T15:00\",\"2025-05-04T16:00\",\"2025-05-04T17:00\",\"2025-05-04T18:00\",\"2025-05-04T19:00\",\"2025-05-04T20:00\",\"2025-05-04T21:00\",\"2025-05-04T22:00\",\"2025-05-04T23:00\",\"2025-05-05T00:00\",\"2025-05-05T01:00\",\"2025-05-05T02:00\",\"2025-05-05T03:00\",\"2025-05-05T04:00\",\"2025-05-05T05:00\",\"2025-05-05T06:00\",\"2025-05-05T07:00\",\"2025-05-05T08:00\",\"2025-05-05T09:00\",\"2025-05-05T10:00\",\"2025-05-05T11:00\",\"2025-05-05T12:00\",\"2025-05-05T13:00\",\"2025-05-05T14:00\",\"2025-05-05T15:00\",\"2025-05-05T16:00\",\"2025-05-05T17:00\",\"2025-05-05T18:00\",\"2025-05-05T19:00\",\"2025-05-05T20:00\",\"2025-05-05T21:00\",\"2025-05-05T22:00\",\"2025-05-05T23:00\",\"2025-05-06T00:00\",\"2025-05-06T01:00\",\"2025-05-06T02:00\",\"2025-05-06T03:00\",\"2025-05-06T04:00\",\"2025-05-06T05:00\",\"2025-05-06T06:00\",\"2025-05-06T07:00\",\"2025-05-06T08:00\",\"2025-05-06T09:00\",\"2025-05-06T10:00\",\"2025-05-06T11:00\",\"2025-05-06T12:00\",\"2025-05-06T13:00\",\"2025-05-06T14:00\",\"2025-05-06T15:00\",\"2025-05-06T16:00\",\"2025-05-06T17:00\",\"2025-05-06T18:00\",\"2025-05-06T19:00\",\"2025-05-06T20:00\",\"2025-05-06T21:00\",\"2025-05-06T22:00\",\"2025-05-06T23:00\",\"2025-05-07T00:00\",\"2025-05-07T01:00\",\"2025-05-07T02:00\",\"2025-05-07T03:00\",\"2025-05-07T04:00\",\"2025-05-07T05:00\",\"2025-05-07T06:00\",\"2025-05-07T07:00\",\"2025-05-07T08:00\",\"2025-05-07T09:00\",\"2025-05-07T10:00\",\"2025-05-07T11:00\",\"2025-05-07T12:00\",\"2025-05-07T13:00\",\"2025-05-07T14:00\",\"2025-05-07T15:00\",\"2025-05-07T16:00\",\"2025-05-07T17:00\",\"2025-05-07T18:00\",\"2025-05-07T19:00\",\"2025-05-07T20:00\",\"2025-05-07T21:00\",\"2025-05-07T22:00\",\"2025-05-07T23:00\",\"2025-05-08T00:00\",\"2025-05-08T01:00\",\"2025-05-08T02:00\",\"2025-05-08T03:00\",\"2025-05-08T04:00\",\"2025-05-08T05:00\",\"2025-05-08T06:00\",\"2025-05-08T07:00\",\"2025-05-08T08:00\",\"2025-05-08T09:00\",\"2025-05-08T10:00\",\"2025-05-08T11:00\",\"2025-05-08T12:00\",\"2025-05-08T13:00\",\"2025-05-08T14:00\",\"2025-05-08T15:00\",\"2025-05-08T16:00\",\"2025-05-08T17:00\",\"2025-05-08T18:00\",\"2025-05-08T19:00\",\"2025-05-08T20:00\",\"2025-05-08T21:00\",\"2025-05-08T22:00\",\"2025-05-08T23:00\"],\"temperature_2m\":[29.3,29.3,29.4,29.5,29.5,29.5,29.6,29.6,29.6,29.6,29.6,29.5,29.5,29.6,29.6,29.6,29.6,29.6,29.6,29.5,29.5,29.5,29.5,29.4,29.4,29.4,29.4,29.5,29.5,29.6,29.7,29.8,29.8,29.7,29.7,29.8,29.9,29.9,30.0,30.0,30.0,30.0,30.0,30.0,30.0,29.8,29.6,29.6,29.5,29.5,29.6,29.7,29.8,29.9,30.0,30.0,30.0,30.0,30.0,30.0,30.1,30.1,30.1,30.0,29.6,29.5,29.5,29.5,29.5,29.6,29.6,29.5,29.4,29.2,29.2,29.4,29.5,29.5,29.5,29.5,29.5,29.3,29.2,29.2,29.1,29.1,29.1,29.1,29.3,29.5,29.6,29.5,29.4,29.1,29.0,28.8,28.6,28.6,28.8,28.9,28.9,28.9,28.8,28.7,28.6,28.5,28.5,28.5,28.6,28.9,29.2,29.5,29.6,29.7,29.7,29.6,29.5,29.4,29.4,29.5,29.5,29.5,29.5,29.5,29.5,29.5,29.5,29.0,29.0,29.0,28.9,28.9,28.9,29.0,29.0,29.1,29.4,29.5,29.7,29.8,29.8,29.8,29.9,30.0,30.0,29.9,29.6,29.5,29.5,29.5,29.5,29.6,29.8,29.8,29.7,29.5,29.4,29.3,29.4,29.4,29.5,29.8,29.8,29.6,29.4,29.2,29.0,28.9],\"rain\":[0.00,0.00,0.00,0.00,0.00,0.00,0.00,0.00,0.00,0.00,0.00,0.00,0.00,0.00,0.00,0.00,0.00,0.00,0.00,0.00,0.00,0.00,0.00,0.00,0.00,0.00,0.00,0.00,0.00,0.00,0.00,0.00,0.00,0.00,0.00,0.00,0.00,0.00,0.00,0.00,0.00,0.00,0.00,0.00,0.00,0.00,0.00,0.00,0.00,0.00,0.00,0.00,0.00,0.00,0.00,0.00,0.00,0.00,0.00,0.00,0.00,0.00,0.00,0.00,0.00,0.00,0.00,0.00,0.00,0.00,0.00,0.00,0.00,0.00,0.00,0.00,0.00,0.00,0.00,0.00,0.00,0.00,0.00,0.00,0.00,0.00,0.00,0.00,0.00,0.00,0.00,0.00,0.00,0.00,0.00,0.00,0.00,0.00,0.00,0.00,0.00,0.00,0.00,0.00,0.00,0.00,0.00,0.00,0.00,0.00,0.00,0.00,0.00,0.00,0.00,0.00,0.00,0.00,0.00,0.00,0.00,0.00,0.00,0.00,0.00,0.00,0.00,0.00,0.00,0.00,0.00,0.00,0.00,0.00,0.00,0.00,0.00,0.00,0.00,0.00,0.00,0.00,0.00,0.00,0.00,0.00,0.00,0.00,0.00,0.00,0.00,0.00,0.00,0.00,0.00,0.00,0.00,0.00,0.00,0.00,0.00,0.00,0.00,0.00,0.00,0.00,0.10,0.10],\"precipitation\":[0.00,0.00,0.00,0.00,0.00,0.00,0.00,0.00,0.00,0.00,0.00,0.00,0.00,0.00,0.00,0.00,0.00,0.00,0.00,0.00,0.00,0.00,0.00,0.00,0.00,0.00,0.00,0.00,0.00,0.00,0.00,0.00,0.00,0.00,0.00,0.00,0.00,0.00,0.00,0.00,0.00,0.00,0.00,0.00,0.00,0.00,0.00,0.00,0.00,0.00,0.00,0.00,0.00,0.00,0.00,0.00,0.00,0.00,0.00,0.00,0.00,0.00,0.00,0.00,0.10,0.10,0.00,0.00,0.00,0.00,0.00,0.00,0.00,0.10,0.00,0.10,0.00,0.00,0.00,0.00,0.10,0.20,0.20,0.20,0.60,0.30,0.30,0.30,0.00,0.00,0.00,0.10,0.10,0.10,0.90,0.90,0.90,0.60,0.60,0.60,1.00,1.00,1.00,2.20,2.20,2.20,1.00,1.00,1.00,0.10,0.10,0.10,0.00,0.00,0.00,0.10,0.10,0.10,0.20,0.20,0.20,0.00,0.00,0.00,0.40,0.40,0.40,1.00,1.00,1.00,1.80,1.80,1.80,0.40,0.40,0.40,0.10,0.10,0.10,0.00,0.00,0.00,0.00,0.00,0.00,0.80,0.80,0.80,0.80,0.80,0.80,0.30,0.30,0.30,1.70,1.70,1.70,3.00,3.00,3.00,0.60,0.60,0.60,1.10,1.10,1.10,1.70,1.70],\"relative_humidity_2m\":[72,72,72,71,70,71,72,72,72,72,72,72,72,72,71,71,71,71,71,71,70,69,69,68,68,68,67,67,66,65,64,64,65,67,68,69,69,69,69,69,69,69,69,69,70,72,72,71,72,71,70,70,70,68,66,67,68,69,69,70,69,69,71,73,77,77,76,77,77,76,76,77,77,78,79,78,78,78,78,79,79,80,81,81,82,82,82,81,80,79,78,79,81,82,83,84,84,84,83,83,83,83,83,84,85,85,84,83,82,81,80,79,78,78,78,79,80,80,80,79,78,78,78,79,80,80,81,83,84,84,84,83,83,83,83,82,81,79,78,78,78,78,78,78,78,78,79,79,79,79,79,79,78,78,79,79,80,80,80,80,79,78,78,78,79,80,81,81]}}\n",
      "Lille OK (3.052529, 50.634523)\n",
      "Status code: 200\n",
      "URL: https://api.open-meteo.com/v1/forecast?latitude=7.753827&longitude=48.574811&hourly=temperature_2m&hourly=rain&hourly=precipitation&hourly=relative_humidity_2m\n",
      "Response: {\"latitude\":7.75,\"longitude\":48.625,\"generationtime_ms\":0.21779537200927734,\"utc_offset_seconds\":0,\"timezone\":\"GMT\",\"timezone_abbreviation\":\"GMT\",\"elevation\":583.0,\"hourly_units\":{\"time\":\"iso8601\",\"temperature_2m\":\"°C\",\"rain\":\"mm\",\"precipitation\":\"mm\",\"relative_humidity_2m\":\"%\"},\"hourly\":{\"time\":[\"2025-05-02T00:00\",\"2025-05-02T01:00\",\"2025-05-02T02:00\",\"2025-05-02T03:00\",\"2025-05-02T04:00\",\"2025-05-02T05:00\",\"2025-05-02T06:00\",\"2025-05-02T07:00\",\"2025-05-02T08:00\",\"2025-05-02T09:00\",\"2025-05-02T10:00\",\"2025-05-02T11:00\",\"2025-05-02T12:00\",\"2025-05-02T13:00\",\"2025-05-02T14:00\",\"2025-05-02T15:00\",\"2025-05-02T16:00\",\"2025-05-02T17:00\",\"2025-05-02T18:00\",\"2025-05-02T19:00\",\"2025-05-02T20:00\",\"2025-05-02T21:00\",\"2025-05-02T22:00\",\"2025-05-02T23:00\",\"2025-05-03T00:00\",\"2025-05-03T01:00\",\"2025-05-03T02:00\",\"2025-05-03T03:00\",\"2025-05-03T04:00\",\"2025-05-03T05:00\",\"2025-05-03T06:00\",\"2025-05-03T07:00\",\"2025-05-03T08:00\",\"2025-05-03T09:00\",\"2025-05-03T10:00\",\"2025-05-03T11:00\",\"2025-05-03T12:00\",\"2025-05-03T13:00\",\"2025-05-03T14:00\",\"2025-05-03T15:00\",\"2025-05-03T16:00\",\"2025-05-03T17:00\",\"2025-05-03T18:00\",\"2025-05-03T19:00\",\"2025-05-03T20:00\",\"2025-05-03T21:00\",\"2025-05-03T22:00\",\"2025-05-03T23:00\",\"2025-05-04T00:00\",\"2025-05-04T01:00\",\"2025-05-04T02:00\",\"2025-05-04T03:00\",\"2025-05-04T04:00\",\"2025-05-04T05:00\",\"2025-05-04T06:00\",\"2025-05-04T07:00\",\"2025-05-04T08:00\",\"2025-05-04T09:00\",\"2025-05-04T10:00\",\"2025-05-04T11:00\",\"2025-05-04T12:00\",\"2025-05-04T13:00\",\"2025-05-04T14:00\",\"2025-05-04T15:00\",\"2025-05-04T16:00\",\"2025-05-04T17:00\",\"2025-05-04T18:00\",\"2025-05-04T19:00\",\"2025-05-04T20:00\",\"2025-05-04T21:00\",\"2025-05-04T22:00\",\"2025-05-04T23:00\",\"2025-05-05T00:00\",\"2025-05-05T01:00\",\"2025-05-05T02:00\",\"2025-05-05T03:00\",\"2025-05-05T04:00\",\"2025-05-05T05:00\",\"2025-05-05T06:00\",\"2025-05-05T07:00\",\"2025-05-05T08:00\",\"2025-05-05T09:00\",\"2025-05-05T10:00\",\"2025-05-05T11:00\",\"2025-05-05T12:00\",\"2025-05-05T13:00\",\"2025-05-05T14:00\",\"2025-05-05T15:00\",\"2025-05-05T16:00\",\"2025-05-05T17:00\",\"2025-05-05T18:00\",\"2025-05-05T19:00\",\"2025-05-05T20:00\",\"2025-05-05T21:00\",\"2025-05-05T22:00\",\"2025-05-05T23:00\",\"2025-05-06T00:00\",\"2025-05-06T01:00\",\"2025-05-06T02:00\",\"2025-05-06T03:00\",\"2025-05-06T04:00\",\"2025-05-06T05:00\",\"2025-05-06T06:00\",\"2025-05-06T07:00\",\"2025-05-06T08:00\",\"2025-05-06T09:00\",\"2025-05-06T10:00\",\"2025-05-06T11:00\",\"2025-05-06T12:00\",\"2025-05-06T13:00\",\"2025-05-06T14:00\",\"2025-05-06T15:00\",\"2025-05-06T16:00\",\"2025-05-06T17:00\",\"2025-05-06T18:00\",\"2025-05-06T19:00\",\"2025-05-06T20:00\",\"2025-05-06T21:00\",\"2025-05-06T22:00\",\"2025-05-06T23:00\",\"2025-05-07T00:00\",\"2025-05-07T01:00\",\"2025-05-07T02:00\",\"2025-05-07T03:00\",\"2025-05-07T04:00\",\"2025-05-07T05:00\",\"2025-05-07T06:00\",\"2025-05-07T07:00\",\"2025-05-07T08:00\",\"2025-05-07T09:00\",\"2025-05-07T10:00\",\"2025-05-07T11:00\",\"2025-05-07T12:00\",\"2025-05-07T13:00\",\"2025-05-07T14:00\",\"2025-05-07T15:00\",\"2025-05-07T16:00\",\"2025-05-07T17:00\",\"2025-05-07T18:00\",\"2025-05-07T19:00\",\"2025-05-07T20:00\",\"2025-05-07T21:00\",\"2025-05-07T22:00\",\"2025-05-07T23:00\",\"2025-05-08T00:00\",\"2025-05-08T01:00\",\"2025-05-08T02:00\",\"2025-05-08T03:00\",\"2025-05-08T04:00\",\"2025-05-08T05:00\",\"2025-05-08T06:00\",\"2025-05-08T07:00\",\"2025-05-08T08:00\",\"2025-05-08T09:00\",\"2025-05-08T10:00\",\"2025-05-08T11:00\",\"2025-05-08T12:00\",\"2025-05-08T13:00\",\"2025-05-08T14:00\",\"2025-05-08T15:00\",\"2025-05-08T16:00\",\"2025-05-08T17:00\",\"2025-05-08T18:00\",\"2025-05-08T19:00\",\"2025-05-08T20:00\",\"2025-05-08T21:00\",\"2025-05-08T22:00\",\"2025-05-08T23:00\"],\"temperature_2m\":[23.5,23.4,23.4,23.3,24.2,26.0,28.3,30.3,32.1,33.4,34.4,34.8,34.8,34.5,33.7,30.4,26.7,25.5,24.5,23.8,23.5,23.4,23.2,23.1,23.0,22.8,22.6,22.5,23.9,25.5,27.4,29.7,31.7,33.4,34.6,35.0,35.1,34.5,33.5,31.6,28.1,26.2,25.1,24.2,23.5,23.2,23.0,22.7,22.4,22.2,21.9,22.0,23.8,26.3,28.7,30.8,32.4,33.9,34.5,34.5,33.9,32.8,30.7,28.9,27.1,26.2,25.6,25.3,24.8,24.5,24.4,24.2,24.1,23.9,23.6,23.7,24.3,25.3,27.2,28.8,30.0,31.0,31.4,30.9,31.2,30.5,29.6,28.6,27.7,26.7,25.9,25.3,24.9,24.5,24.2,23.8,23.6,23.2,22.9,23.3,24.9,27.2,29.3,30.8,32.1,33.0,33.5,33.7,33.4,32.4,30.9,29.5,28.5,27.5,26.7,26.0,25.5,25.0,24.5,24.2,23.9,23.5,23.1,23.4,24.7,26.6,27.9,29.1,30.1,30.8,31.3,31.4,31.3,30.6,29.6,28.6,27.7,26.9,26.3,25.8,25.4,25.1,25.0,24.9,24.8,24.5,24.1,24.1,24.6,25.4,26.1,26.8,27.5,28.0,28.2,28.1,27.9,27.5,26.8,26.2,25.7,25.2,24.8,24.6,24.5,24.3,24.2,24.1],\"rain\":[0.00,0.00,0.00,0.00,0.00,0.00,0.00,0.00,0.00,0.00,0.00,0.00,0.00,0.00,0.00,0.00,0.00,0.00,0.00,0.00,0.00,0.00,0.00,0.00,0.00,0.00,0.00,0.00,0.00,0.00,0.00,0.00,0.00,0.00,0.00,0.00,0.00,0.00,0.00,0.00,0.00,0.00,0.00,0.00,0.00,0.00,0.00,0.00,0.00,0.00,0.00,0.00,0.00,0.00,0.00,0.00,0.00,0.00,0.00,0.00,0.00,0.00,0.00,0.00,0.00,0.00,0.00,0.00,0.00,0.00,0.00,0.00,0.00,0.00,0.00,0.00,0.00,0.00,0.00,0.00,0.00,0.00,0.00,0.00,0.00,0.00,0.00,0.00,0.00,0.00,0.00,0.00,0.00,0.00,0.00,0.00,0.00,0.00,0.00,0.00,0.00,0.00,0.00,0.00,0.00,0.00,0.00,0.00,0.00,0.00,0.00,0.00,0.00,0.00,0.00,0.00,0.00,0.00,0.00,0.00,0.00,0.00,0.00,0.00,0.00,0.00,0.00,0.00,0.00,0.00,0.00,0.00,0.00,0.00,0.00,0.00,0.00,0.00,0.00,0.00,0.00,0.00,0.00,0.00,0.00,0.00,0.00,0.00,0.00,0.00,0.00,0.00,0.00,0.00,0.00,0.00,0.00,0.00,0.00,0.00,0.00,0.00,0.00,0.00,0.00,0.00,0.00,0.00],\"precipitation\":[0.00,0.00,0.00,0.00,0.00,0.00,0.00,0.00,0.00,0.00,0.00,0.00,0.00,0.00,0.00,0.00,0.00,0.00,0.00,0.00,0.00,0.00,0.00,0.00,0.00,0.00,0.00,0.00,0.00,0.00,0.00,0.00,0.00,0.00,0.00,0.00,0.00,0.00,0.00,0.00,0.00,0.00,0.00,0.00,0.00,0.00,0.00,0.00,0.00,0.00,0.00,0.00,0.00,0.00,0.00,0.00,0.00,0.00,0.00,0.00,0.00,0.10,0.30,0.00,0.00,0.00,0.00,0.00,0.00,0.00,0.00,0.00,0.00,0.00,0.00,0.00,0.20,0.00,0.00,0.00,0.10,0.10,0.00,0.30,0.00,0.00,0.00,0.00,0.00,0.00,0.00,0.00,0.00,0.00,0.00,0.00,0.00,0.00,0.00,0.00,0.00,0.00,0.00,0.00,0.00,0.00,0.00,0.00,0.00,0.20,0.20,0.20,0.00,0.00,0.00,0.00,0.00,0.00,0.10,0.10,0.10,0.00,0.00,0.00,0.00,0.00,0.00,0.00,0.00,0.00,0.00,0.00,0.00,0.20,0.20,0.20,0.00,0.00,0.00,0.00,0.00,0.00,0.00,0.00,0.00,2.50,2.50,2.50,0.00,0.00,0.00,0.30,0.30,0.30,0.50,0.50,0.50,0.50,0.50,0.50,0.00,0.00,0.00,0.00,0.00,0.00,0.00,0.00],\"relative_humidity_2m\":[94,95,95,96,86,72,61,52,45,40,35,33,31,31,32,49,72,75,80,86,89,89,90,91,91,91,92,93,78,67,59,52,43,37,32,30,29,30,33,39,57,62,71,79,85,88,89,91,94,95,95,95,85,71,58,50,44,39,36,36,39,44,53,59,69,76,83,89,93,94,94,94,94,93,94,93,88,82,73,64,58,54,54,57,54,56,59,62,67,72,77,80,83,85,87,88,89,91,93,92,84,73,63,57,52,48,46,44,45,48,53,58,63,69,74,78,81,83,85,86,87,89,90,89,83,74,67,62,58,55,54,54,55,57,61,65,70,75,79,81,82,83,83,82,82,84,87,88,85,81,77,74,72,71,70,70,71,74,79,83,86,89,92,94,96,97,97,97]}}\n",
      "Strasbourg OK (7.753827, 48.574811)\n",
      "Status code: 200\n",
      "URL: https://api.open-meteo.com/v1/forecast?latitude=7.344312&longitude=48.249581&hourly=temperature_2m&hourly=rain&hourly=precipitation&hourly=relative_humidity_2m\n",
      "Response: {\"latitude\":7.375,\"longitude\":48.25,\"generationtime_ms\":0.03993511199951172,\"utc_offset_seconds\":0,\"timezone\":\"GMT\",\"timezone_abbreviation\":\"GMT\",\"elevation\":389.0,\"hourly_units\":{\"time\":\"iso8601\",\"temperature_2m\":\"°C\",\"rain\":\"mm\",\"precipitation\":\"mm\",\"relative_humidity_2m\":\"%\"},\"hourly\":{\"time\":[\"2025-05-02T00:00\",\"2025-05-02T01:00\",\"2025-05-02T02:00\",\"2025-05-02T03:00\",\"2025-05-02T04:00\",\"2025-05-02T05:00\",\"2025-05-02T06:00\",\"2025-05-02T07:00\",\"2025-05-02T08:00\",\"2025-05-02T09:00\",\"2025-05-02T10:00\",\"2025-05-02T11:00\",\"2025-05-02T12:00\",\"2025-05-02T13:00\",\"2025-05-02T14:00\",\"2025-05-02T15:00\",\"2025-05-02T16:00\",\"2025-05-02T17:00\",\"2025-05-02T18:00\",\"2025-05-02T19:00\",\"2025-05-02T20:00\",\"2025-05-02T21:00\",\"2025-05-02T22:00\",\"2025-05-02T23:00\",\"2025-05-03T00:00\",\"2025-05-03T01:00\",\"2025-05-03T02:00\",\"2025-05-03T03:00\",\"2025-05-03T04:00\",\"2025-05-03T05:00\",\"2025-05-03T06:00\",\"2025-05-03T07:00\",\"2025-05-03T08:00\",\"2025-05-03T09:00\",\"2025-05-03T10:00\",\"2025-05-03T11:00\",\"2025-05-03T12:00\",\"2025-05-03T13:00\",\"2025-05-03T14:00\",\"2025-05-03T15:00\",\"2025-05-03T16:00\",\"2025-05-03T17:00\",\"2025-05-03T18:00\",\"2025-05-03T19:00\",\"2025-05-03T20:00\",\"2025-05-03T21:00\",\"2025-05-03T22:00\",\"2025-05-03T23:00\",\"2025-05-04T00:00\",\"2025-05-04T01:00\",\"2025-05-04T02:00\",\"2025-05-04T03:00\",\"2025-05-04T04:00\",\"2025-05-04T05:00\",\"2025-05-04T06:00\",\"2025-05-04T07:00\",\"2025-05-04T08:00\",\"2025-05-04T09:00\",\"2025-05-04T10:00\",\"2025-05-04T11:00\",\"2025-05-04T12:00\",\"2025-05-04T13:00\",\"2025-05-04T14:00\",\"2025-05-04T15:00\",\"2025-05-04T16:00\",\"2025-05-04T17:00\",\"2025-05-04T18:00\",\"2025-05-04T19:00\",\"2025-05-04T20:00\",\"2025-05-04T21:00\",\"2025-05-04T22:00\",\"2025-05-04T23:00\",\"2025-05-05T00:00\",\"2025-05-05T01:00\",\"2025-05-05T02:00\",\"2025-05-05T03:00\",\"2025-05-05T04:00\",\"2025-05-05T05:00\",\"2025-05-05T06:00\",\"2025-05-05T07:00\",\"2025-05-05T08:00\",\"2025-05-05T09:00\",\"2025-05-05T10:00\",\"2025-05-05T11:00\",\"2025-05-05T12:00\",\"2025-05-05T13:00\",\"2025-05-05T14:00\",\"2025-05-05T15:00\",\"2025-05-05T16:00\",\"2025-05-05T17:00\",\"2025-05-05T18:00\",\"2025-05-05T19:00\",\"2025-05-05T20:00\",\"2025-05-05T21:00\",\"2025-05-05T22:00\",\"2025-05-05T23:00\",\"2025-05-06T00:00\",\"2025-05-06T01:00\",\"2025-05-06T02:00\",\"2025-05-06T03:00\",\"2025-05-06T04:00\",\"2025-05-06T05:00\",\"2025-05-06T06:00\",\"2025-05-06T07:00\",\"2025-05-06T08:00\",\"2025-05-06T09:00\",\"2025-05-06T10:00\",\"2025-05-06T11:00\",\"2025-05-06T12:00\",\"2025-05-06T13:00\",\"2025-05-06T14:00\",\"2025-05-06T15:00\",\"2025-05-06T16:00\",\"2025-05-06T17:00\",\"2025-05-06T18:00\",\"2025-05-06T19:00\",\"2025-05-06T20:00\",\"2025-05-06T21:00\",\"2025-05-06T22:00\",\"2025-05-06T23:00\",\"2025-05-07T00:00\",\"2025-05-07T01:00\",\"2025-05-07T02:00\",\"2025-05-07T03:00\",\"2025-05-07T04:00\",\"2025-05-07T05:00\",\"2025-05-07T06:00\",\"2025-05-07T07:00\",\"2025-05-07T08:00\",\"2025-05-07T09:00\",\"2025-05-07T10:00\",\"2025-05-07T11:00\",\"2025-05-07T12:00\",\"2025-05-07T13:00\",\"2025-05-07T14:00\",\"2025-05-07T15:00\",\"2025-05-07T16:00\",\"2025-05-07T17:00\",\"2025-05-07T18:00\",\"2025-05-07T19:00\",\"2025-05-07T20:00\",\"2025-05-07T21:00\",\"2025-05-07T22:00\",\"2025-05-07T23:00\",\"2025-05-08T00:00\",\"2025-05-08T01:00\",\"2025-05-08T02:00\",\"2025-05-08T03:00\",\"2025-05-08T04:00\",\"2025-05-08T05:00\",\"2025-05-08T06:00\",\"2025-05-08T07:00\",\"2025-05-08T08:00\",\"2025-05-08T09:00\",\"2025-05-08T10:00\",\"2025-05-08T11:00\",\"2025-05-08T12:00\",\"2025-05-08T13:00\",\"2025-05-08T14:00\",\"2025-05-08T15:00\",\"2025-05-08T16:00\",\"2025-05-08T17:00\",\"2025-05-08T18:00\",\"2025-05-08T19:00\",\"2025-05-08T20:00\",\"2025-05-08T21:00\",\"2025-05-08T22:00\",\"2025-05-08T23:00\"],\"temperature_2m\":[25.0,24.9,24.7,24.8,25.7,27.3,29.2,31.1,32.8,34.2,35.0,35.5,35.6,35.2,34.5,30.4,28.1,26.9,26.2,25.8,25.5,25.3,25.0,24.9,24.7,24.6,24.4,24.4,25.5,27.2,28.9,30.8,32.6,34.1,35.2,35.8,36.0,35.6,34.8,33.4,29.7,28.0,26.8,25.9,25.3,24.8,24.4,24.1,24.0,24.0,24.0,24.2,25.4,27.0,28.8,30.6,31.9,33.4,34.3,34.6,34.2,33.3,28.6,27.6,27.3,27.0,26.7,26.3,26.0,25.6,25.4,25.1,24.5,24.4,24.1,24.0,24.9,26.1,27.1,28.7,29.4,29.9,30.1,30.3,30.6,30.2,29.4,28.7,27.9,27.2,26.6,26.1,25.8,25.5,25.1,24.8,24.5,24.2,24.1,24.4,25.5,27.2,28.8,30.3,31.7,32.8,33.4,33.7,33.6,32.9,31.9,30.8,29.8,28.7,27.8,27.2,26.7,26.3,25.8,25.3,24.9,24.5,24.3,24.5,25.5,26.8,27.8,29.9,31.1,32.1,32.6,32.9,32.7,31.7,30.2,28.9,28.2,27.7,27.2,26.8,26.3,26.0,25.9,25.8,25.7,25.5,25.2,25.2,25.9,26.9,27.9,28.8,29.6,30.2,30.5,30.6,30.5,30.0,29.3,28.6,27.9,27.1,26.4,26.1,25.8,25.6,25.4,25.1],\"rain\":[0.00,0.00,0.00,0.00,0.00,0.00,0.00,0.00,0.00,0.00,0.00,0.00,0.00,0.00,0.00,0.00,0.00,0.00,0.00,0.00,0.00,0.00,0.00,0.00,0.00,0.00,0.00,0.00,0.00,0.00,0.00,0.00,0.00,0.00,0.00,0.00,0.00,0.00,0.00,0.00,0.00,0.00,0.00,0.00,0.00,0.00,0.00,0.00,0.00,0.00,0.00,0.00,0.00,0.00,0.00,0.00,0.00,0.00,0.00,0.00,0.00,0.00,0.00,0.00,0.00,0.00,0.00,0.00,0.00,0.00,0.00,0.00,0.00,0.00,0.00,0.00,0.00,0.00,0.00,0.00,0.00,0.00,0.00,0.00,0.00,0.00,0.00,0.00,0.00,0.00,0.00,0.00,0.00,0.00,0.00,0.00,0.00,0.00,0.00,0.00,0.00,0.00,0.00,0.00,0.00,0.00,0.00,0.00,0.00,0.00,0.00,0.00,0.00,0.00,0.00,0.00,0.00,0.00,0.00,0.00,0.00,0.00,0.00,0.00,0.00,0.00,0.00,0.00,0.00,0.00,0.00,0.00,0.00,0.00,0.00,0.00,0.00,0.00,0.00,0.00,0.00,0.00,0.00,0.00,0.00,0.00,0.00,0.00,0.00,0.00,0.00,0.00,0.00,0.00,0.00,0.00,0.00,0.00,0.00,0.00,0.00,0.00,0.00,0.00,0.00,0.00,0.00,0.00],\"precipitation\":[0.00,0.00,0.00,0.00,0.00,0.00,0.00,0.00,0.00,0.00,0.00,0.00,0.00,0.00,0.00,0.00,0.00,0.00,0.00,0.00,0.00,0.00,0.00,0.00,0.00,0.00,0.00,0.00,0.00,0.00,0.00,0.00,0.00,0.00,0.00,0.00,0.00,0.00,0.00,0.00,0.00,0.00,0.00,0.00,0.00,0.00,0.00,0.00,0.00,0.00,0.00,0.00,0.00,0.00,0.10,0.10,0.00,0.10,0.00,0.00,0.00,0.10,1.90,0.50,0.00,0.00,0.00,0.00,0.00,0.00,0.00,0.00,0.50,0.20,0.20,0.40,0.10,0.00,0.20,0.20,0.60,0.30,0.30,0.00,0.00,0.00,0.00,0.00,0.00,0.00,0.00,0.00,0.00,0.00,0.00,0.00,0.00,0.00,0.00,0.00,0.10,0.10,0.10,0.10,0.10,0.10,0.00,0.00,0.00,0.10,0.10,0.10,0.00,0.00,0.00,0.00,0.00,0.00,0.30,0.30,0.30,0.00,0.00,0.00,0.30,0.30,0.30,0.00,0.00,0.00,0.00,0.00,0.00,0.20,0.20,0.20,0.00,0.00,0.00,0.00,0.00,0.00,0.00,0.00,0.00,0.60,0.60,0.60,0.00,0.00,0.00,0.20,0.20,0.20,0.10,0.10,0.10,0.10,0.10,0.10,0.00,0.00,0.00,0.00,0.00,0.00,0.00,0.00],\"relative_humidity_2m\":[92,93,94,94,88,76,65,56,49,44,39,36,35,35,36,62,73,78,82,83,84,86,87,88,89,89,90,90,83,66,57,51,45,40,36,33,31,31,32,36,58,59,65,73,79,83,87,89,90,90,90,89,83,76,67,59,53,47,43,43,45,49,68,76,78,78,81,87,91,93,93,93,94,93,94,93,89,83,78,71,69,65,65,63,60,62,65,69,73,77,81,83,85,86,88,89,91,93,95,94,88,79,71,64,59,54,51,48,48,50,53,57,62,68,73,76,78,80,82,84,86,88,89,88,83,77,72,62,57,54,52,52,53,58,64,70,74,77,79,81,82,82,82,81,81,83,85,85,82,77,73,70,66,64,62,62,62,64,67,71,76,81,85,88,89,91,93,94]}}\n",
      "Chateau du Haut Koenigsbourg OK (7.344312, 48.249581)\n",
      "Status code: 200\n",
      "URL: https://api.open-meteo.com/v1/forecast?latitude=7.390603&longitude=48.116422&hourly=temperature_2m&hourly=rain&hourly=precipitation&hourly=relative_humidity_2m\n",
      "Response: {\"latitude\":7.375,\"longitude\":48.125,\"generationtime_ms\":0.02872943878173828,\"utc_offset_seconds\":0,\"timezone\":\"GMT\",\"timezone_abbreviation\":\"GMT\",\"elevation\":445.0,\"hourly_units\":{\"time\":\"iso8601\",\"temperature_2m\":\"°C\",\"rain\":\"mm\",\"precipitation\":\"mm\",\"relative_humidity_2m\":\"%\"},\"hourly\":{\"time\":[\"2025-05-02T00:00\",\"2025-05-02T01:00\",\"2025-05-02T02:00\",\"2025-05-02T03:00\",\"2025-05-02T04:00\",\"2025-05-02T05:00\",\"2025-05-02T06:00\",\"2025-05-02T07:00\",\"2025-05-02T08:00\",\"2025-05-02T09:00\",\"2025-05-02T10:00\",\"2025-05-02T11:00\",\"2025-05-02T12:00\",\"2025-05-02T13:00\",\"2025-05-02T14:00\",\"2025-05-02T15:00\",\"2025-05-02T16:00\",\"2025-05-02T17:00\",\"2025-05-02T18:00\",\"2025-05-02T19:00\",\"2025-05-02T20:00\",\"2025-05-02T21:00\",\"2025-05-02T22:00\",\"2025-05-02T23:00\",\"2025-05-03T00:00\",\"2025-05-03T01:00\",\"2025-05-03T02:00\",\"2025-05-03T03:00\",\"2025-05-03T04:00\",\"2025-05-03T05:00\",\"2025-05-03T06:00\",\"2025-05-03T07:00\",\"2025-05-03T08:00\",\"2025-05-03T09:00\",\"2025-05-03T10:00\",\"2025-05-03T11:00\",\"2025-05-03T12:00\",\"2025-05-03T13:00\",\"2025-05-03T14:00\",\"2025-05-03T15:00\",\"2025-05-03T16:00\",\"2025-05-03T17:00\",\"2025-05-03T18:00\",\"2025-05-03T19:00\",\"2025-05-03T20:00\",\"2025-05-03T21:00\",\"2025-05-03T22:00\",\"2025-05-03T23:00\",\"2025-05-04T00:00\",\"2025-05-04T01:00\",\"2025-05-04T02:00\",\"2025-05-04T03:00\",\"2025-05-04T04:00\",\"2025-05-04T05:00\",\"2025-05-04T06:00\",\"2025-05-04T07:00\",\"2025-05-04T08:00\",\"2025-05-04T09:00\",\"2025-05-04T10:00\",\"2025-05-04T11:00\",\"2025-05-04T12:00\",\"2025-05-04T13:00\",\"2025-05-04T14:00\",\"2025-05-04T15:00\",\"2025-05-04T16:00\",\"2025-05-04T17:00\",\"2025-05-04T18:00\",\"2025-05-04T19:00\",\"2025-05-04T20:00\",\"2025-05-04T21:00\",\"2025-05-04T22:00\",\"2025-05-04T23:00\",\"2025-05-05T00:00\",\"2025-05-05T01:00\",\"2025-05-05T02:00\",\"2025-05-05T03:00\",\"2025-05-05T04:00\",\"2025-05-05T05:00\",\"2025-05-05T06:00\",\"2025-05-05T07:00\",\"2025-05-05T08:00\",\"2025-05-05T09:00\",\"2025-05-05T10:00\",\"2025-05-05T11:00\",\"2025-05-05T12:00\",\"2025-05-05T13:00\",\"2025-05-05T14:00\",\"2025-05-05T15:00\",\"2025-05-05T16:00\",\"2025-05-05T17:00\",\"2025-05-05T18:00\",\"2025-05-05T19:00\",\"2025-05-05T20:00\",\"2025-05-05T21:00\",\"2025-05-05T22:00\",\"2025-05-05T23:00\",\"2025-05-06T00:00\",\"2025-05-06T01:00\",\"2025-05-06T02:00\",\"2025-05-06T03:00\",\"2025-05-06T04:00\",\"2025-05-06T05:00\",\"2025-05-06T06:00\",\"2025-05-06T07:00\",\"2025-05-06T08:00\",\"2025-05-06T09:00\",\"2025-05-06T10:00\",\"2025-05-06T11:00\",\"2025-05-06T12:00\",\"2025-05-06T13:00\",\"2025-05-06T14:00\",\"2025-05-06T15:00\",\"2025-05-06T16:00\",\"2025-05-06T17:00\",\"2025-05-06T18:00\",\"2025-05-06T19:00\",\"2025-05-06T20:00\",\"2025-05-06T21:00\",\"2025-05-06T22:00\",\"2025-05-06T23:00\",\"2025-05-07T00:00\",\"2025-05-07T01:00\",\"2025-05-07T02:00\",\"2025-05-07T03:00\",\"2025-05-07T04:00\",\"2025-05-07T05:00\",\"2025-05-07T06:00\",\"2025-05-07T07:00\",\"2025-05-07T08:00\",\"2025-05-07T09:00\",\"2025-05-07T10:00\",\"2025-05-07T11:00\",\"2025-05-07T12:00\",\"2025-05-07T13:00\",\"2025-05-07T14:00\",\"2025-05-07T15:00\",\"2025-05-07T16:00\",\"2025-05-07T17:00\",\"2025-05-07T18:00\",\"2025-05-07T19:00\",\"2025-05-07T20:00\",\"2025-05-07T21:00\",\"2025-05-07T22:00\",\"2025-05-07T23:00\",\"2025-05-08T00:00\",\"2025-05-08T01:00\",\"2025-05-08T02:00\",\"2025-05-08T03:00\",\"2025-05-08T04:00\",\"2025-05-08T05:00\",\"2025-05-08T06:00\",\"2025-05-08T07:00\",\"2025-05-08T08:00\",\"2025-05-08T09:00\",\"2025-05-08T10:00\",\"2025-05-08T11:00\",\"2025-05-08T12:00\",\"2025-05-08T13:00\",\"2025-05-08T14:00\",\"2025-05-08T15:00\",\"2025-05-08T16:00\",\"2025-05-08T17:00\",\"2025-05-08T18:00\",\"2025-05-08T19:00\",\"2025-05-08T20:00\",\"2025-05-08T21:00\",\"2025-05-08T22:00\",\"2025-05-08T23:00\"],\"temperature_2m\":[24.7,24.6,24.4,24.3,25.0,26.8,28.4,30.4,32.1,33.6,34.4,35.0,35.0,34.6,34.1,32.8,28.4,27.0,26.2,25.8,25.5,25.1,24.9,24.7,24.5,24.3,24.1,23.9,25.1,26.7,28.4,30.6,32.1,33.5,34.2,35.0,35.3,34.9,34.2,33.2,31.2,28.2,26.9,26.0,25.3,24.7,24.3,24.2,24.2,24.3,24.3,24.5,25.0,26.4,28.4,30.2,31.8,32.8,33.2,33.8,33.7,32.6,30.7,27.5,26.9,26.6,26.2,25.9,25.6,25.3,25.1,24.6,24.2,24.3,23.8,23.9,24.4,25.6,27.0,28.1,28.7,29.5,29.0,29.6,29.8,29.4,28.7,28.1,27.4,26.8,26.2,25.7,25.4,25.1,24.7,24.4,24.1,23.9,23.7,24.0,25.1,26.7,28.2,29.7,31.1,32.1,32.8,33.0,32.9,32.2,31.1,30.1,29.2,28.4,27.7,27.1,26.6,26.1,25.5,24.9,24.4,24.1,23.9,24.0,24.9,26.1,27.0,29.0,30.3,31.3,31.8,32.1,31.9,31.0,29.7,28.6,28.0,27.5,27.0,26.5,26.1,25.7,25.6,25.6,25.5,25.2,24.9,24.9,25.8,27.1,28.2,29.0,29.6,30.0,30.3,30.4,30.3,29.8,29.1,28.4,27.7,27.1,26.5,26.0,25.5,25.1,24.8,24.7],\"rain\":[0.00,0.00,0.00,0.00,0.00,0.00,0.00,0.00,0.00,0.00,0.00,0.00,0.00,0.00,0.00,0.00,0.00,0.00,0.00,0.00,0.00,0.00,0.00,0.00,0.00,0.00,0.00,0.00,0.00,0.00,0.00,0.00,0.00,0.00,0.00,0.00,0.00,0.00,0.00,0.00,0.00,0.00,0.00,0.00,0.00,0.00,0.00,0.00,0.00,0.00,0.00,0.00,0.00,0.00,0.00,0.00,0.00,0.00,0.00,0.00,0.00,0.00,0.00,0.00,0.00,0.00,0.00,0.00,0.00,0.00,0.00,0.00,0.00,0.00,0.00,0.00,0.00,0.00,0.00,0.00,0.00,0.00,0.00,0.00,0.00,0.00,0.00,0.00,0.00,0.00,0.00,0.00,0.00,0.00,0.00,0.00,0.00,0.00,0.00,0.00,0.00,0.00,0.00,0.00,0.00,0.00,0.00,0.00,0.00,0.00,0.00,0.00,0.00,0.00,0.00,0.00,0.00,0.00,0.00,0.00,0.00,0.00,0.00,0.00,0.00,0.00,0.00,0.00,0.00,0.00,0.00,0.00,0.00,0.00,0.00,0.00,0.00,0.00,0.00,0.00,0.00,0.00,0.00,0.00,0.00,0.00,0.00,0.00,0.00,0.00,0.00,0.00,0.00,0.00,0.00,0.00,0.00,0.00,0.00,0.00,0.00,0.00,0.00,0.00,0.00,0.00,0.00,0.00],\"precipitation\":[0.00,0.00,0.00,0.10,0.10,0.00,0.00,0.00,0.00,0.00,0.00,0.00,0.00,0.00,0.00,0.00,0.00,0.00,0.00,0.00,0.00,0.00,0.00,0.00,0.00,0.00,0.00,0.00,0.00,0.00,0.00,0.00,0.00,0.00,0.00,0.00,0.00,0.00,0.00,0.00,0.00,0.00,0.00,0.00,0.00,0.00,0.00,0.00,0.00,0.00,0.00,0.00,0.00,0.00,0.00,0.10,0.10,0.10,0.00,0.00,0.00,0.20,0.40,0.80,0.00,0.00,0.00,0.00,0.00,0.00,0.00,0.30,0.50,0.00,0.70,0.30,0.00,0.00,0.10,0.20,0.40,0.20,0.70,0.00,0.00,0.00,0.00,0.00,0.00,0.00,0.00,0.00,0.00,0.00,0.00,0.00,0.00,0.00,0.00,0.00,0.20,0.20,0.20,0.10,0.10,0.10,0.10,0.10,0.10,0.10,0.10,0.10,0.00,0.00,0.00,0.00,0.00,0.00,0.50,0.50,0.50,0.00,0.00,0.00,0.40,0.40,0.40,0.00,0.00,0.00,0.00,0.00,0.00,0.20,0.20,0.20,0.00,0.00,0.00,0.00,0.00,0.00,0.00,0.00,0.00,0.10,0.10,0.10,0.00,0.00,0.00,0.40,0.40,0.40,0.10,0.10,0.10,0.00,0.00,0.00,0.00,0.00,0.00,0.00,0.00,0.00,0.00,0.00],\"relative_humidity_2m\":[92,92,93,93,87,75,66,58,51,45,41,38,36,35,35,39,70,77,81,83,84,86,87,88,88,90,91,91,84,71,62,53,47,42,39,37,35,35,35,37,44,60,65,72,77,81,83,85,87,87,87,87,84,77,68,60,54,49,47,44,45,49,56,72,76,78,80,82,89,93,93,92,93,93,93,93,91,84,77,72,69,66,68,64,62,64,67,71,74,78,81,83,85,86,88,89,91,93,96,95,89,81,73,67,61,56,53,50,50,52,56,60,64,68,72,74,76,78,81,84,87,89,91,90,85,78,73,64,60,56,54,54,55,59,66,71,74,77,79,80,81,81,81,80,80,82,85,85,82,76,71,68,65,63,61,61,61,63,67,71,75,78,82,86,89,92,94,94]}}\n",
      "Colmar OK (7.390603, 48.116422)\n",
      "Status code: 200\n",
      "URL: https://api.open-meteo.com/v1/forecast?latitude=7.294224&longitude=48.03655&hourly=temperature_2m&hourly=rain&hourly=precipitation&hourly=relative_humidity_2m\n",
      "Response: {\"latitude\":7.25,\"longitude\":48.0,\"generationtime_ms\":0.044226646423339844,\"utc_offset_seconds\":0,\"timezone\":\"GMT\",\"timezone_abbreviation\":\"GMT\",\"elevation\":398.0,\"hourly_units\":{\"time\":\"iso8601\",\"temperature_2m\":\"°C\",\"rain\":\"mm\",\"precipitation\":\"mm\",\"relative_humidity_2m\":\"%\"},\"hourly\":{\"time\":[\"2025-05-02T00:00\",\"2025-05-02T01:00\",\"2025-05-02T02:00\",\"2025-05-02T03:00\",\"2025-05-02T04:00\",\"2025-05-02T05:00\",\"2025-05-02T06:00\",\"2025-05-02T07:00\",\"2025-05-02T08:00\",\"2025-05-02T09:00\",\"2025-05-02T10:00\",\"2025-05-02T11:00\",\"2025-05-02T12:00\",\"2025-05-02T13:00\",\"2025-05-02T14:00\",\"2025-05-02T15:00\",\"2025-05-02T16:00\",\"2025-05-02T17:00\",\"2025-05-02T18:00\",\"2025-05-02T19:00\",\"2025-05-02T20:00\",\"2025-05-02T21:00\",\"2025-05-02T22:00\",\"2025-05-02T23:00\",\"2025-05-03T00:00\",\"2025-05-03T01:00\",\"2025-05-03T02:00\",\"2025-05-03T03:00\",\"2025-05-03T04:00\",\"2025-05-03T05:00\",\"2025-05-03T06:00\",\"2025-05-03T07:00\",\"2025-05-03T08:00\",\"2025-05-03T09:00\",\"2025-05-03T10:00\",\"2025-05-03T11:00\",\"2025-05-03T12:00\",\"2025-05-03T13:00\",\"2025-05-03T14:00\",\"2025-05-03T15:00\",\"2025-05-03T16:00\",\"2025-05-03T17:00\",\"2025-05-03T18:00\",\"2025-05-03T19:00\",\"2025-05-03T20:00\",\"2025-05-03T21:00\",\"2025-05-03T22:00\",\"2025-05-03T23:00\",\"2025-05-04T00:00\",\"2025-05-04T01:00\",\"2025-05-04T02:00\",\"2025-05-04T03:00\",\"2025-05-04T04:00\",\"2025-05-04T05:00\",\"2025-05-04T06:00\",\"2025-05-04T07:00\",\"2025-05-04T08:00\",\"2025-05-04T09:00\",\"2025-05-04T10:00\",\"2025-05-04T11:00\",\"2025-05-04T12:00\",\"2025-05-04T13:00\",\"2025-05-04T14:00\",\"2025-05-04T15:00\",\"2025-05-04T16:00\",\"2025-05-04T17:00\",\"2025-05-04T18:00\",\"2025-05-04T19:00\",\"2025-05-04T20:00\",\"2025-05-04T21:00\",\"2025-05-04T22:00\",\"2025-05-04T23:00\",\"2025-05-05T00:00\",\"2025-05-05T01:00\",\"2025-05-05T02:00\",\"2025-05-05T03:00\",\"2025-05-05T04:00\",\"2025-05-05T05:00\",\"2025-05-05T06:00\",\"2025-05-05T07:00\",\"2025-05-05T08:00\",\"2025-05-05T09:00\",\"2025-05-05T10:00\",\"2025-05-05T11:00\",\"2025-05-05T12:00\",\"2025-05-05T13:00\",\"2025-05-05T14:00\",\"2025-05-05T15:00\",\"2025-05-05T16:00\",\"2025-05-05T17:00\",\"2025-05-05T18:00\",\"2025-05-05T19:00\",\"2025-05-05T20:00\",\"2025-05-05T21:00\",\"2025-05-05T22:00\",\"2025-05-05T23:00\",\"2025-05-06T00:00\",\"2025-05-06T01:00\",\"2025-05-06T02:00\",\"2025-05-06T03:00\",\"2025-05-06T04:00\",\"2025-05-06T05:00\",\"2025-05-06T06:00\",\"2025-05-06T07:00\",\"2025-05-06T08:00\",\"2025-05-06T09:00\",\"2025-05-06T10:00\",\"2025-05-06T11:00\",\"2025-05-06T12:00\",\"2025-05-06T13:00\",\"2025-05-06T14:00\",\"2025-05-06T15:00\",\"2025-05-06T16:00\",\"2025-05-06T17:00\",\"2025-05-06T18:00\",\"2025-05-06T19:00\",\"2025-05-06T20:00\",\"2025-05-06T21:00\",\"2025-05-06T22:00\",\"2025-05-06T23:00\",\"2025-05-07T00:00\",\"2025-05-07T01:00\",\"2025-05-07T02:00\",\"2025-05-07T03:00\",\"2025-05-07T04:00\",\"2025-05-07T05:00\",\"2025-05-07T06:00\",\"2025-05-07T07:00\",\"2025-05-07T08:00\",\"2025-05-07T09:00\",\"2025-05-07T10:00\",\"2025-05-07T11:00\",\"2025-05-07T12:00\",\"2025-05-07T13:00\",\"2025-05-07T14:00\",\"2025-05-07T15:00\",\"2025-05-07T16:00\",\"2025-05-07T17:00\",\"2025-05-07T18:00\",\"2025-05-07T19:00\",\"2025-05-07T20:00\",\"2025-05-07T21:00\",\"2025-05-07T22:00\",\"2025-05-07T23:00\",\"2025-05-08T00:00\",\"2025-05-08T01:00\",\"2025-05-08T02:00\",\"2025-05-08T03:00\",\"2025-05-08T04:00\",\"2025-05-08T05:00\",\"2025-05-08T06:00\",\"2025-05-08T07:00\",\"2025-05-08T08:00\",\"2025-05-08T09:00\",\"2025-05-08T10:00\",\"2025-05-08T11:00\",\"2025-05-08T12:00\",\"2025-05-08T13:00\",\"2025-05-08T14:00\",\"2025-05-08T15:00\",\"2025-05-08T16:00\",\"2025-05-08T17:00\",\"2025-05-08T18:00\",\"2025-05-08T19:00\",\"2025-05-08T20:00\",\"2025-05-08T21:00\",\"2025-05-08T22:00\",\"2025-05-08T23:00\"],\"temperature_2m\":[25.0,25.0,24.8,24.5,25.2,27.0,28.5,30.4,32.1,33.7,34.7,35.3,35.4,35.2,34.7,33.4,29.2,27.8,26.7,26.1,25.8,25.6,25.4,25.2,25.0,24.8,24.6,24.4,25.5,27.1,28.6,30.4,31.8,33.3,34.4,35.2,35.5,35.2,34.4,33.3,31.8,28.5,27.4,26.5,25.9,25.4,25.2,25.1,25.1,25.0,24.9,24.9,25.2,26.5,28.5,30.4,32.1,33.1,33.6,34.2,34.1,33.1,31.5,28.4,27.7,27.3,26.9,26.5,26.2,25.9,25.5,24.9,24.6,24.5,24.2,24.2,24.7,25.9,27.0,28.0,28.4,28.5,29.5,29.8,29.4,29.2,28.8,28.3,27.8,27.1,26.6,26.1,25.8,25.4,25.1,24.8,24.5,24.2,24.1,24.4,25.6,27.2,28.8,30.2,31.4,32.4,33.0,33.4,33.4,32.7,31.6,30.5,29.5,28.4,27.5,27.0,26.7,26.3,25.7,25.1,24.7,24.3,24.1,24.3,25.2,26.5,27.4,29.3,30.5,31.5,32.0,32.3,32.3,31.8,31.0,30.1,29.1,28.1,27.2,26.6,26.2,25.9,25.7,25.6,25.5,25.3,25.1,25.3,26.1,27.4,28.5,29.4,30.2,30.7,31.0,31.1,30.9,30.5,29.9,29.2,28.5,27.7,27.0,26.4,25.8,25.4,25.1,25.0],\"rain\":[0.00,0.00,0.00,0.00,0.00,0.00,0.00,0.00,0.00,0.00,0.00,0.00,0.00,0.00,0.00,0.00,0.00,0.00,0.00,0.00,0.00,0.00,0.00,0.00,0.00,0.00,0.00,0.00,0.00,0.00,0.00,0.00,0.00,0.00,0.00,0.00,0.00,0.00,0.00,0.00,0.00,0.00,0.00,0.00,0.00,0.00,0.00,0.00,0.00,0.00,0.00,0.00,0.00,0.00,0.00,0.00,0.00,0.00,0.00,0.00,0.00,0.00,0.00,0.00,0.00,0.00,0.00,0.00,0.00,0.00,0.00,0.00,0.00,0.00,0.00,0.00,0.00,0.00,0.00,0.00,0.00,0.00,0.00,0.00,0.00,0.00,0.00,0.00,0.00,0.00,0.00,0.00,0.00,0.00,0.00,0.00,0.00,0.00,0.00,0.00,0.00,0.00,0.00,0.00,0.00,0.00,0.00,0.00,0.00,0.00,0.00,0.00,0.00,0.00,0.00,0.00,0.00,0.00,0.00,0.00,0.00,0.00,0.00,0.00,0.00,0.00,0.00,0.00,0.00,0.00,0.00,0.00,0.00,0.00,0.00,0.00,0.00,0.00,0.00,0.00,0.00,0.00,0.00,0.00,0.00,0.00,0.00,0.00,0.00,0.00,0.00,0.00,0.00,0.00,0.00,0.00,0.00,0.00,0.00,0.00,0.00,0.00,0.00,0.00,0.00,0.00,0.00,0.00],\"precipitation\":[0.00,0.00,0.00,0.30,0.10,0.00,0.00,0.00,0.00,0.00,0.00,0.00,0.00,0.00,0.00,0.00,0.00,0.00,0.00,0.00,0.00,0.00,0.00,0.00,0.00,0.00,0.00,0.00,0.00,0.00,0.00,0.00,0.00,0.00,0.00,0.00,0.00,0.00,0.00,0.00,0.10,0.00,0.00,0.00,0.00,0.00,0.00,0.00,0.00,0.00,0.00,0.00,0.10,0.10,0.00,0.10,0.00,0.10,0.00,0.00,0.10,0.20,0.10,0.00,0.00,0.00,0.00,0.00,0.00,0.00,0.00,0.80,0.70,0.10,0.50,0.60,0.00,0.10,0.40,0.10,0.50,1.20,0.20,0.00,0.00,0.00,0.00,0.00,0.00,0.00,0.00,0.00,0.00,0.00,0.00,0.00,0.00,0.00,0.00,0.00,0.00,0.00,0.00,0.10,0.10,0.10,0.00,0.00,0.00,0.10,0.10,0.10,0.00,0.00,0.00,0.00,0.00,0.00,0.60,0.60,0.60,0.00,0.00,0.00,0.30,0.30,0.30,0.00,0.00,0.00,0.00,0.00,0.00,0.10,0.10,0.10,0.00,0.00,0.00,0.00,0.00,0.00,0.00,0.00,0.00,0.00,0.00,0.00,0.00,0.00,0.00,0.20,0.20,0.20,0.10,0.10,0.10,0.00,0.00,0.00,0.00,0.00,0.00,0.00,0.00,0.00,0.00,0.00],\"relative_humidity_2m\":[90,90,91,90,86,75,65,57,51,45,41,37,34,32,33,37,66,72,78,81,83,85,85,86,87,88,89,90,82,72,64,56,51,46,41,38,36,36,37,39,43,60,65,71,76,79,82,83,84,85,85,85,83,77,67,60,53,49,46,45,44,45,51,70,73,74,76,80,85,88,90,91,92,92,93,92,89,83,77,72,71,71,65,63,66,67,69,71,74,77,80,82,84,86,88,90,92,94,96,95,89,79,71,65,60,56,52,49,48,50,54,59,64,70,74,76,77,78,81,85,88,89,90,88,83,77,72,64,59,56,54,53,53,55,59,63,67,71,75,78,80,81,81,81,81,82,83,83,79,74,69,65,61,58,57,57,58,61,64,68,72,76,80,83,86,88,90,91]}}\n",
      "Eguisheim OK (7.294224, 48.03655)\n",
      "Status code: 200\n",
      "URL: https://api.open-meteo.com/v1/forecast?latitude=6.021017&longitude=47.256814&hourly=temperature_2m&hourly=rain&hourly=precipitation&hourly=relative_humidity_2m\n",
      "Response: {\"latitude\":6.0,\"longitude\":47.25,\"generationtime_ms\":0.05161762237548828,\"utc_offset_seconds\":0,\"timezone\":\"GMT\",\"timezone_abbreviation\":\"GMT\",\"elevation\":225.0,\"hourly_units\":{\"time\":\"iso8601\",\"temperature_2m\":\"°C\",\"rain\":\"mm\",\"precipitation\":\"mm\",\"relative_humidity_2m\":\"%\"},\"hourly\":{\"time\":[\"2025-05-02T00:00\",\"2025-05-02T01:00\",\"2025-05-02T02:00\",\"2025-05-02T03:00\",\"2025-05-02T04:00\",\"2025-05-02T05:00\",\"2025-05-02T06:00\",\"2025-05-02T07:00\",\"2025-05-02T08:00\",\"2025-05-02T09:00\",\"2025-05-02T10:00\",\"2025-05-02T11:00\",\"2025-05-02T12:00\",\"2025-05-02T13:00\",\"2025-05-02T14:00\",\"2025-05-02T15:00\",\"2025-05-02T16:00\",\"2025-05-02T17:00\",\"2025-05-02T18:00\",\"2025-05-02T19:00\",\"2025-05-02T20:00\",\"2025-05-02T21:00\",\"2025-05-02T22:00\",\"2025-05-02T23:00\",\"2025-05-03T00:00\",\"2025-05-03T01:00\",\"2025-05-03T02:00\",\"2025-05-03T03:00\",\"2025-05-03T04:00\",\"2025-05-03T05:00\",\"2025-05-03T06:00\",\"2025-05-03T07:00\",\"2025-05-03T08:00\",\"2025-05-03T09:00\",\"2025-05-03T10:00\",\"2025-05-03T11:00\",\"2025-05-03T12:00\",\"2025-05-03T13:00\",\"2025-05-03T14:00\",\"2025-05-03T15:00\",\"2025-05-03T16:00\",\"2025-05-03T17:00\",\"2025-05-03T18:00\",\"2025-05-03T19:00\",\"2025-05-03T20:00\",\"2025-05-03T21:00\",\"2025-05-03T22:00\",\"2025-05-03T23:00\",\"2025-05-04T00:00\",\"2025-05-04T01:00\",\"2025-05-04T02:00\",\"2025-05-04T03:00\",\"2025-05-04T04:00\",\"2025-05-04T05:00\",\"2025-05-04T06:00\",\"2025-05-04T07:00\",\"2025-05-04T08:00\",\"2025-05-04T09:00\",\"2025-05-04T10:00\",\"2025-05-04T11:00\",\"2025-05-04T12:00\",\"2025-05-04T13:00\",\"2025-05-04T14:00\",\"2025-05-04T15:00\",\"2025-05-04T16:00\",\"2025-05-04T17:00\",\"2025-05-04T18:00\",\"2025-05-04T19:00\",\"2025-05-04T20:00\",\"2025-05-04T21:00\",\"2025-05-04T22:00\",\"2025-05-04T23:00\",\"2025-05-05T00:00\",\"2025-05-05T01:00\",\"2025-05-05T02:00\",\"2025-05-05T03:00\",\"2025-05-05T04:00\",\"2025-05-05T05:00\",\"2025-05-05T06:00\",\"2025-05-05T07:00\",\"2025-05-05T08:00\",\"2025-05-05T09:00\",\"2025-05-05T10:00\",\"2025-05-05T11:00\",\"2025-05-05T12:00\",\"2025-05-05T13:00\",\"2025-05-05T14:00\",\"2025-05-05T15:00\",\"2025-05-05T16:00\",\"2025-05-05T17:00\",\"2025-05-05T18:00\",\"2025-05-05T19:00\",\"2025-05-05T20:00\",\"2025-05-05T21:00\",\"2025-05-05T22:00\",\"2025-05-05T23:00\",\"2025-05-06T00:00\",\"2025-05-06T01:00\",\"2025-05-06T02:00\",\"2025-05-06T03:00\",\"2025-05-06T04:00\",\"2025-05-06T05:00\",\"2025-05-06T06:00\",\"2025-05-06T07:00\",\"2025-05-06T08:00\",\"2025-05-06T09:00\",\"2025-05-06T10:00\",\"2025-05-06T11:00\",\"2025-05-06T12:00\",\"2025-05-06T13:00\",\"2025-05-06T14:00\",\"2025-05-06T15:00\",\"2025-05-06T16:00\",\"2025-05-06T17:00\",\"2025-05-06T18:00\",\"2025-05-06T19:00\",\"2025-05-06T20:00\",\"2025-05-06T21:00\",\"2025-05-06T22:00\",\"2025-05-06T23:00\",\"2025-05-07T00:00\",\"2025-05-07T01:00\",\"2025-05-07T02:00\",\"2025-05-07T03:00\",\"2025-05-07T04:00\",\"2025-05-07T05:00\",\"2025-05-07T06:00\",\"2025-05-07T07:00\",\"2025-05-07T08:00\",\"2025-05-07T09:00\",\"2025-05-07T10:00\",\"2025-05-07T11:00\",\"2025-05-07T12:00\",\"2025-05-07T13:00\",\"2025-05-07T14:00\",\"2025-05-07T15:00\",\"2025-05-07T16:00\",\"2025-05-07T17:00\",\"2025-05-07T18:00\",\"2025-05-07T19:00\",\"2025-05-07T20:00\",\"2025-05-07T21:00\",\"2025-05-07T22:00\",\"2025-05-07T23:00\",\"2025-05-08T00:00\",\"2025-05-08T01:00\",\"2025-05-08T02:00\",\"2025-05-08T03:00\",\"2025-05-08T04:00\",\"2025-05-08T05:00\",\"2025-05-08T06:00\",\"2025-05-08T07:00\",\"2025-05-08T08:00\",\"2025-05-08T09:00\",\"2025-05-08T10:00\",\"2025-05-08T11:00\",\"2025-05-08T12:00\",\"2025-05-08T13:00\",\"2025-05-08T14:00\",\"2025-05-08T15:00\",\"2025-05-08T16:00\",\"2025-05-08T17:00\",\"2025-05-08T18:00\",\"2025-05-08T19:00\",\"2025-05-08T20:00\",\"2025-05-08T21:00\",\"2025-05-08T22:00\",\"2025-05-08T23:00\"],\"temperature_2m\":[26.7,26.6,26.5,26.3,26.9,27.8,29.5,30.9,32.2,33.0,34.0,34.5,34.9,34.9,34.5,33.8,32.9,30.2,29.6,28.6,27.9,27.3,26.9,26.6,26.4,26.3,26.2,26.2,26.6,27.5,28.8,30.2,31.4,33.0,33.9,34.7,35.1,34.9,34.4,31.0,28.5,28.1,27.5,26.6,26.4,26.2,26.1,25.9,25.9,25.9,25.7,25.6,26.1,27.2,27.9,29.3,30.5,31.7,32.9,33.7,33.9,33.9,33.2,30.7,29.9,29.0,28.3,27.7,27.3,26.9,26.5,26.3,26.1,25.9,25.4,25.4,25.8,26.3,27.2,28.1,28.9,29.5,30.5,31.0,31.0,30.7,30.2,29.6,28.9,28.1,27.4,26.9,26.5,26.2,25.9,25.6,25.4,25.1,24.8,25.0,26.0,27.5,29.0,30.4,31.8,32.9,33.6,34.0,34.1,33.6,32.8,31.9,31.0,30.0,29.1,28.3,27.6,27.1,26.7,26.4,26.1,25.8,25.5,25.7,26.5,27.8,28.7,30.7,32.0,33.1,34.0,34.7,34.9,34.4,33.4,32.4,31.6,30.8,30.1,29.5,29.1,28.7,28.3,27.9,27.6,27.2,26.8,26.8,27.4,28.4,29.6,30.9,32.5,33.6,34.3,34.6,34.5,34.0,33.1,32.0,30.7,29.2,28.0,27.3,26.9,26.6,26.4,26.2],\"rain\":[0.00,0.00,0.00,0.00,0.00,0.00,0.00,0.00,0.00,0.00,0.00,0.00,0.00,0.00,0.00,0.00,0.00,0.00,0.00,0.00,0.00,0.00,0.00,0.00,0.00,0.00,0.00,0.00,0.00,0.00,0.00,0.00,0.00,0.00,0.00,0.00,0.00,0.00,0.00,0.00,0.00,0.00,0.00,0.00,0.00,0.00,0.00,0.00,0.00,0.00,0.00,0.00,0.00,0.00,0.00,0.00,0.00,0.00,0.00,0.00,0.00,0.00,0.00,0.00,0.00,0.00,0.00,0.00,0.00,0.00,0.00,0.00,0.00,0.00,0.00,0.00,0.00,0.00,0.00,0.00,0.00,0.00,0.00,0.00,0.00,0.00,0.00,0.00,0.00,0.00,0.00,0.00,0.00,0.00,0.00,0.00,0.00,0.00,0.00,0.00,0.00,0.00,0.00,0.00,0.00,0.00,0.00,0.00,0.00,0.00,0.00,0.00,0.00,0.00,0.00,0.00,0.00,0.00,0.00,0.00,0.00,0.00,0.00,0.00,0.00,0.00,0.00,0.00,0.00,0.00,0.00,0.00,0.00,0.00,0.00,0.00,0.00,0.00,0.00,0.00,0.00,0.00,0.00,0.00,0.00,0.00,0.00,0.00,0.00,0.00,0.00,0.00,0.00,0.00,0.00,0.00,0.00,0.00,0.00,0.00,0.00,0.00,0.00,0.00,0.00,0.00,0.00,0.00],\"precipitation\":[0.00,0.00,0.00,0.20,0.10,0.10,0.10,0.00,0.10,0.10,0.00,0.00,0.00,0.00,0.00,0.00,0.00,0.20,0.00,0.00,0.00,0.00,0.00,0.00,0.00,0.00,0.10,0.00,0.00,0.10,0.10,0.10,0.10,0.00,0.00,0.00,0.00,0.00,0.00,0.60,0.50,0.80,0.50,0.60,0.00,0.00,0.00,0.00,0.00,0.00,0.20,0.00,0.00,0.00,0.60,0.10,0.30,0.10,0.00,0.00,0.00,0.00,0.00,0.40,0.00,0.00,0.00,0.10,0.00,0.00,0.00,0.00,0.00,0.60,1.50,0.00,0.30,1.40,1.60,1.20,0.40,0.40,0.10,0.10,0.10,0.10,0.10,0.10,0.00,0.00,0.00,0.00,0.00,0.00,0.00,0.00,0.00,0.00,0.00,0.00,0.00,0.00,0.00,0.00,0.00,0.00,0.00,0.00,0.00,0.00,0.00,0.00,0.00,0.00,0.00,0.40,0.40,0.40,0.10,0.10,0.10,0.10,0.10,0.10,0.20,0.20,0.20,0.10,0.10,0.10,0.00,0.00,0.00,0.10,0.10,0.10,0.00,0.00,0.00,0.00,0.00,0.00,0.00,0.00,0.00,0.00,0.00,0.00,0.00,0.00,0.00,0.00,0.00,0.00,0.00,0.00,0.00,0.20,0.20,0.20,0.00,0.00,0.00,0.00,0.00,0.00,0.00,0.00],\"relative_humidity_2m\":[85,85,85,84,81,76,67,61,55,52,49,47,44,43,44,45,48,63,67,71,75,78,81,83,85,85,86,85,82,77,70,64,59,52,49,46,44,44,45,57,72,77,80,82,85,88,89,88,88,88,89,90,86,81,76,70,66,61,56,52,50,50,52,65,70,73,77,80,82,86,89,90,91,91,91,92,91,88,85,81,78,75,71,69,68,69,71,74,78,82,85,87,88,88,88,88,88,89,89,88,84,79,73,67,62,57,53,51,50,51,54,57,61,66,71,75,79,82,84,86,87,89,90,90,86,80,75,63,57,52,48,45,44,45,48,51,54,58,61,63,66,67,67,67,68,70,74,75,74,71,67,61,54,48,45,43,43,46,50,55,61,68,73,76,78,80,81,81]}}\n",
      "Besancon OK (6.021017, 47.256814)\n",
      "Status code: 200\n",
      "URL: https://api.open-meteo.com/v1/forecast?latitude=5.035138&longitude=47.326035&hourly=temperature_2m&hourly=rain&hourly=precipitation&hourly=relative_humidity_2m\n",
      "Response: {\"latitude\":5.0,\"longitude\":47.375,\"generationtime_ms\":0.055670738220214844,\"utc_offset_seconds\":0,\"timezone\":\"GMT\",\"timezone_abbreviation\":\"GMT\",\"elevation\":135.0,\"hourly_units\":{\"time\":\"iso8601\",\"temperature_2m\":\"°C\",\"rain\":\"mm\",\"precipitation\":\"mm\",\"relative_humidity_2m\":\"%\"},\"hourly\":{\"time\":[\"2025-05-02T00:00\",\"2025-05-02T01:00\",\"2025-05-02T02:00\",\"2025-05-02T03:00\",\"2025-05-02T04:00\",\"2025-05-02T05:00\",\"2025-05-02T06:00\",\"2025-05-02T07:00\",\"2025-05-02T08:00\",\"2025-05-02T09:00\",\"2025-05-02T10:00\",\"2025-05-02T11:00\",\"2025-05-02T12:00\",\"2025-05-02T13:00\",\"2025-05-02T14:00\",\"2025-05-02T15:00\",\"2025-05-02T16:00\",\"2025-05-02T17:00\",\"2025-05-02T18:00\",\"2025-05-02T19:00\",\"2025-05-02T20:00\",\"2025-05-02T21:00\",\"2025-05-02T22:00\",\"2025-05-02T23:00\",\"2025-05-03T00:00\",\"2025-05-03T01:00\",\"2025-05-03T02:00\",\"2025-05-03T03:00\",\"2025-05-03T04:00\",\"2025-05-03T05:00\",\"2025-05-03T06:00\",\"2025-05-03T07:00\",\"2025-05-03T08:00\",\"2025-05-03T09:00\",\"2025-05-03T10:00\",\"2025-05-03T11:00\",\"2025-05-03T12:00\",\"2025-05-03T13:00\",\"2025-05-03T14:00\",\"2025-05-03T15:00\",\"2025-05-03T16:00\",\"2025-05-03T17:00\",\"2025-05-03T18:00\",\"2025-05-03T19:00\",\"2025-05-03T20:00\",\"2025-05-03T21:00\",\"2025-05-03T22:00\",\"2025-05-03T23:00\",\"2025-05-04T00:00\",\"2025-05-04T01:00\",\"2025-05-04T02:00\",\"2025-05-04T03:00\",\"2025-05-04T04:00\",\"2025-05-04T05:00\",\"2025-05-04T06:00\",\"2025-05-04T07:00\",\"2025-05-04T08:00\",\"2025-05-04T09:00\",\"2025-05-04T10:00\",\"2025-05-04T11:00\",\"2025-05-04T12:00\",\"2025-05-04T13:00\",\"2025-05-04T14:00\",\"2025-05-04T15:00\",\"2025-05-04T16:00\",\"2025-05-04T17:00\",\"2025-05-04T18:00\",\"2025-05-04T19:00\",\"2025-05-04T20:00\",\"2025-05-04T21:00\",\"2025-05-04T22:00\",\"2025-05-04T23:00\",\"2025-05-05T00:00\",\"2025-05-05T01:00\",\"2025-05-05T02:00\",\"2025-05-05T03:00\",\"2025-05-05T04:00\",\"2025-05-05T05:00\",\"2025-05-05T06:00\",\"2025-05-05T07:00\",\"2025-05-05T08:00\",\"2025-05-05T09:00\",\"2025-05-05T10:00\",\"2025-05-05T11:00\",\"2025-05-05T12:00\",\"2025-05-05T13:00\",\"2025-05-05T14:00\",\"2025-05-05T15:00\",\"2025-05-05T16:00\",\"2025-05-05T17:00\",\"2025-05-05T18:00\",\"2025-05-05T19:00\",\"2025-05-05T20:00\",\"2025-05-05T21:00\",\"2025-05-05T22:00\",\"2025-05-05T23:00\",\"2025-05-06T00:00\",\"2025-05-06T01:00\",\"2025-05-06T02:00\",\"2025-05-06T03:00\",\"2025-05-06T04:00\",\"2025-05-06T05:00\",\"2025-05-06T06:00\",\"2025-05-06T07:00\",\"2025-05-06T08:00\",\"2025-05-06T09:00\",\"2025-05-06T10:00\",\"2025-05-06T11:00\",\"2025-05-06T12:00\",\"2025-05-06T13:00\",\"2025-05-06T14:00\",\"2025-05-06T15:00\",\"2025-05-06T16:00\",\"2025-05-06T17:00\",\"2025-05-06T18:00\",\"2025-05-06T19:00\",\"2025-05-06T20:00\",\"2025-05-06T21:00\",\"2025-05-06T22:00\",\"2025-05-06T23:00\",\"2025-05-07T00:00\",\"2025-05-07T01:00\",\"2025-05-07T02:00\",\"2025-05-07T03:00\",\"2025-05-07T04:00\",\"2025-05-07T05:00\",\"2025-05-07T06:00\",\"2025-05-07T07:00\",\"2025-05-07T08:00\",\"2025-05-07T09:00\",\"2025-05-07T10:00\",\"2025-05-07T11:00\",\"2025-05-07T12:00\",\"2025-05-07T13:00\",\"2025-05-07T14:00\",\"2025-05-07T15:00\",\"2025-05-07T16:00\",\"2025-05-07T17:00\",\"2025-05-07T18:00\",\"2025-05-07T19:00\",\"2025-05-07T20:00\",\"2025-05-07T21:00\",\"2025-05-07T22:00\",\"2025-05-07T23:00\",\"2025-05-08T00:00\",\"2025-05-08T01:00\",\"2025-05-08T02:00\",\"2025-05-08T03:00\",\"2025-05-08T04:00\",\"2025-05-08T05:00\",\"2025-05-08T06:00\",\"2025-05-08T07:00\",\"2025-05-08T08:00\",\"2025-05-08T09:00\",\"2025-05-08T10:00\",\"2025-05-08T11:00\",\"2025-05-08T12:00\",\"2025-05-08T13:00\",\"2025-05-08T14:00\",\"2025-05-08T15:00\",\"2025-05-08T16:00\",\"2025-05-08T17:00\",\"2025-05-08T18:00\",\"2025-05-08T19:00\",\"2025-05-08T20:00\",\"2025-05-08T21:00\",\"2025-05-08T22:00\",\"2025-05-08T23:00\"],\"temperature_2m\":[26.1,25.9,25.8,25.7,27.0,28.7,30.6,32.0,33.6,34.5,35.2,35.5,35.2,33.6,32.0,30.7,29.6,28.6,28.0,27.5,27.1,26.6,26.2,26.0,25.9,25.9,25.9,25.9,26.8,28.3,30.0,31.6,33.2,34.2,34.9,35.3,32.3,30.7,31.0,29.5,28.5,28.0,27.4,27.1,26.7,26.4,26.1,25.8,25.6,25.6,25.7,25.7,26.6,28.0,29.6,31.0,32.5,33.5,34.6,34.8,34.7,30.8,30.3,30.1,29.2,28.1,27.5,27.1,26.8,26.6,26.3,26.2,26.1,26.0,26.0,25.9,27.0,28.6,30.2,31.7,32.7,34.0,34.3,34.0,33.7,32.1,30.1,28.5,27.8,27.6,27.4,27.1,26.8,26.6,26.3,26.1,25.9,25.5,25.2,25.4,26.6,28.3,30.0,31.5,32.9,33.9,34.6,34.9,34.6,33.5,31.9,30.6,29.8,29.3,28.7,28.1,27.4,26.8,26.5,26.3,26.1,25.9,25.8,26.0,26.9,28.2,29.2,30.2,31.7,32.9,33.7,34.2,34.4,34.0,33.3,32.4,31.4,30.2,29.1,28.4,27.7,27.3,27.0,26.9,26.7,26.4,26.2,26.3,26.9,28.0,29.1,30.3,31.7,32.8,33.6,34.3,34.4,33.7,32.4,31.1,29.7,28.3,27.2,26.7,26.5,26.5,26.4,26.4],\"rain\":[0.00,0.00,0.00,0.00,0.00,0.00,0.00,0.00,0.00,0.00,0.00,0.00,0.00,0.00,0.00,0.00,0.00,0.00,0.00,0.00,0.00,0.00,0.00,0.00,0.00,0.00,0.00,0.00,0.00,0.00,0.00,0.00,0.00,0.00,0.00,0.00,0.00,0.00,0.00,0.00,0.00,0.00,0.00,0.00,0.00,0.00,0.00,0.00,0.00,0.00,0.00,0.00,0.00,0.00,0.00,0.00,0.00,0.00,0.00,0.00,0.00,0.00,0.00,0.00,0.00,0.00,0.00,0.00,0.00,0.00,0.00,0.00,0.00,0.00,0.00,0.00,0.00,0.00,0.00,0.00,0.00,0.00,0.00,0.00,0.00,0.00,0.00,0.00,0.00,0.00,0.00,0.00,0.00,0.00,0.00,0.00,0.00,0.00,0.00,0.00,0.00,0.00,0.00,0.00,0.00,0.00,0.00,0.00,0.00,0.00,0.00,0.00,0.00,0.00,0.00,0.00,0.00,0.00,0.00,0.00,0.00,0.00,0.00,0.00,0.00,0.00,0.00,0.00,0.00,0.00,0.00,0.00,0.00,0.00,0.00,0.00,0.00,0.00,0.00,0.00,0.00,0.00,0.00,0.00,0.00,0.00,0.00,0.00,0.00,0.00,0.00,0.00,0.00,0.00,0.00,0.00,0.00,0.00,0.00,0.00,0.00,0.00,0.00,0.00,0.00,0.00,0.00,0.00],\"precipitation\":[0.00,0.00,0.00,0.00,0.00,0.00,0.00,0.10,0.10,0.10,0.00,0.00,0.00,0.00,0.00,0.00,0.00,0.00,0.00,0.00,0.00,0.00,0.00,0.00,0.00,0.00,0.00,0.10,0.00,0.10,0.00,0.10,0.00,0.00,0.00,0.00,0.60,0.90,0.00,0.20,0.40,0.00,0.00,0.00,0.00,0.00,0.00,0.00,0.00,0.00,0.00,0.00,0.00,0.00,0.10,0.10,0.00,0.00,0.00,0.00,0.00,0.80,0.30,0.00,0.00,0.00,0.00,0.00,0.00,0.00,0.00,0.00,0.00,0.00,0.00,0.00,0.00,0.00,0.30,0.10,0.10,0.00,0.00,0.00,0.00,0.80,0.80,0.80,0.00,0.00,0.00,0.00,0.00,0.00,0.00,0.00,0.00,0.00,0.00,0.00,0.00,0.00,0.00,0.00,0.00,0.00,0.00,0.00,0.00,0.00,0.00,0.00,0.00,0.00,0.00,0.00,0.00,0.00,0.00,0.00,0.00,0.00,0.00,0.00,0.00,0.00,0.00,0.00,0.00,0.00,0.00,0.00,0.00,0.00,0.00,0.00,0.10,0.10,0.10,0.00,0.00,0.00,0.00,0.00,0.00,0.00,0.00,0.00,0.00,0.00,0.00,0.00,0.00,0.00,0.00,0.00,0.00,0.20,0.20,0.20,0.20,0.20,0.20,0.00,0.00,0.00,0.00,0.00],\"relative_humidity_2m\":[89,90,91,92,86,76,64,58,51,47,44,42,42,47,56,62,68,74,77,80,83,87,90,92,92,92,92,91,86,75,66,58,52,48,46,44,55,66,66,73,77,80,84,86,87,89,91,93,93,93,93,93,88,79,70,65,59,54,50,48,47,63,67,70,75,80,84,87,89,90,91,92,92,91,92,92,86,76,69,63,59,54,52,52,53,60,69,77,81,83,85,87,88,89,90,91,92,93,94,92,85,76,68,62,58,54,51,48,48,53,60,66,70,72,75,79,84,88,89,89,89,91,93,92,86,78,72,67,60,54,50,48,47,47,48,51,55,61,67,73,79,84,86,87,87,88,88,87,83,78,72,65,58,52,48,45,44,46,51,56,63,71,78,83,87,90,90,88]}}\n",
      "Dijon OK (5.035138, 47.326035)\n",
      "Status code: 200\n",
      "URL: https://api.open-meteo.com/v1/forecast?latitude=6.101282&longitude=45.898635&hourly=temperature_2m&hourly=rain&hourly=precipitation&hourly=relative_humidity_2m\n",
      "Response: {\"latitude\":6.125,\"longitude\":45.875,\"generationtime_ms\":0.04863739013671875,\"utc_offset_seconds\":0,\"timezone\":\"GMT\",\"timezone_abbreviation\":\"GMT\",\"elevation\":373.0,\"hourly_units\":{\"time\":\"iso8601\",\"temperature_2m\":\"°C\",\"rain\":\"mm\",\"precipitation\":\"mm\",\"relative_humidity_2m\":\"%\"},\"hourly\":{\"time\":[\"2025-05-02T00:00\",\"2025-05-02T01:00\",\"2025-05-02T02:00\",\"2025-05-02T03:00\",\"2025-05-02T04:00\",\"2025-05-02T05:00\",\"2025-05-02T06:00\",\"2025-05-02T07:00\",\"2025-05-02T08:00\",\"2025-05-02T09:00\",\"2025-05-02T10:00\",\"2025-05-02T11:00\",\"2025-05-02T12:00\",\"2025-05-02T13:00\",\"2025-05-02T14:00\",\"2025-05-02T15:00\",\"2025-05-02T16:00\",\"2025-05-02T17:00\",\"2025-05-02T18:00\",\"2025-05-02T19:00\",\"2025-05-02T20:00\",\"2025-05-02T21:00\",\"2025-05-02T22:00\",\"2025-05-02T23:00\",\"2025-05-03T00:00\",\"2025-05-03T01:00\",\"2025-05-03T02:00\",\"2025-05-03T03:00\",\"2025-05-03T04:00\",\"2025-05-03T05:00\",\"2025-05-03T06:00\",\"2025-05-03T07:00\",\"2025-05-03T08:00\",\"2025-05-03T09:00\",\"2025-05-03T10:00\",\"2025-05-03T11:00\",\"2025-05-03T12:00\",\"2025-05-03T13:00\",\"2025-05-03T14:00\",\"2025-05-03T15:00\",\"2025-05-03T16:00\",\"2025-05-03T17:00\",\"2025-05-03T18:00\",\"2025-05-03T19:00\",\"2025-05-03T20:00\",\"2025-05-03T21:00\",\"2025-05-03T22:00\",\"2025-05-03T23:00\",\"2025-05-04T00:00\",\"2025-05-04T01:00\",\"2025-05-04T02:00\",\"2025-05-04T03:00\",\"2025-05-04T04:00\",\"2025-05-04T05:00\",\"2025-05-04T06:00\",\"2025-05-04T07:00\",\"2025-05-04T08:00\",\"2025-05-04T09:00\",\"2025-05-04T10:00\",\"2025-05-04T11:00\",\"2025-05-04T12:00\",\"2025-05-04T13:00\",\"2025-05-04T14:00\",\"2025-05-04T15:00\",\"2025-05-04T16:00\",\"2025-05-04T17:00\",\"2025-05-04T18:00\",\"2025-05-04T19:00\",\"2025-05-04T20:00\",\"2025-05-04T21:00\",\"2025-05-04T22:00\",\"2025-05-04T23:00\",\"2025-05-05T00:00\",\"2025-05-05T01:00\",\"2025-05-05T02:00\",\"2025-05-05T03:00\",\"2025-05-05T04:00\",\"2025-05-05T05:00\",\"2025-05-05T06:00\",\"2025-05-05T07:00\",\"2025-05-05T08:00\",\"2025-05-05T09:00\",\"2025-05-05T10:00\",\"2025-05-05T11:00\",\"2025-05-05T12:00\",\"2025-05-05T13:00\",\"2025-05-05T14:00\",\"2025-05-05T15:00\",\"2025-05-05T16:00\",\"2025-05-05T17:00\",\"2025-05-05T18:00\",\"2025-05-05T19:00\",\"2025-05-05T20:00\",\"2025-05-05T21:00\",\"2025-05-05T22:00\",\"2025-05-05T23:00\",\"2025-05-06T00:00\",\"2025-05-06T01:00\",\"2025-05-06T02:00\",\"2025-05-06T03:00\",\"2025-05-06T04:00\",\"2025-05-06T05:00\",\"2025-05-06T06:00\",\"2025-05-06T07:00\",\"2025-05-06T08:00\",\"2025-05-06T09:00\",\"2025-05-06T10:00\",\"2025-05-06T11:00\",\"2025-05-06T12:00\",\"2025-05-06T13:00\",\"2025-05-06T14:00\",\"2025-05-06T15:00\",\"2025-05-06T16:00\",\"2025-05-06T17:00\",\"2025-05-06T18:00\",\"2025-05-06T19:00\",\"2025-05-06T20:00\",\"2025-05-06T21:00\",\"2025-05-06T22:00\",\"2025-05-06T23:00\",\"2025-05-07T00:00\",\"2025-05-07T01:00\",\"2025-05-07T02:00\",\"2025-05-07T03:00\",\"2025-05-07T04:00\",\"2025-05-07T05:00\",\"2025-05-07T06:00\",\"2025-05-07T07:00\",\"2025-05-07T08:00\",\"2025-05-07T09:00\",\"2025-05-07T10:00\",\"2025-05-07T11:00\",\"2025-05-07T12:00\",\"2025-05-07T13:00\",\"2025-05-07T14:00\",\"2025-05-07T15:00\",\"2025-05-07T16:00\",\"2025-05-07T17:00\",\"2025-05-07T18:00\",\"2025-05-07T19:00\",\"2025-05-07T20:00\",\"2025-05-07T21:00\",\"2025-05-07T22:00\",\"2025-05-07T23:00\",\"2025-05-08T00:00\",\"2025-05-08T01:00\",\"2025-05-08T02:00\",\"2025-05-08T03:00\",\"2025-05-08T04:00\",\"2025-05-08T05:00\",\"2025-05-08T06:00\",\"2025-05-08T07:00\",\"2025-05-08T08:00\",\"2025-05-08T09:00\",\"2025-05-08T10:00\",\"2025-05-08T11:00\",\"2025-05-08T12:00\",\"2025-05-08T13:00\",\"2025-05-08T14:00\",\"2025-05-08T15:00\",\"2025-05-08T16:00\",\"2025-05-08T17:00\",\"2025-05-08T18:00\",\"2025-05-08T19:00\",\"2025-05-08T20:00\",\"2025-05-08T21:00\",\"2025-05-08T22:00\",\"2025-05-08T23:00\"],\"temperature_2m\":[26.1,25.8,25.7,25.3,25.4,26.6,28.0,29.7,31.4,32.6,32.8,33.2,33.3,33.3,32.7,31.6,30.7,30.0,29.4,28.8,28.0,27.2,26.8,26.3,26.0,25.7,25.3,25.1,25.6,26.8,27.5,29.1,30.7,32.0,33.1,33.6,32.7,31.8,31.7,30.9,29.0,27.5,26.6,25.6,25.1,24.9,24.5,24.2,24.1,24.2,24.5,24.4,25.0,26.4,27.9,29.7,31.3,32.5,33.5,33.9,33.7,33.6,33.0,31.2,27.2,26.7,26.0,25.6,25.7,25.8,25.8,25.5,25.2,25.0,24.8,24.6,25.3,26.5,27.4,28.4,29.2,30.0,30.3,29.9,30.3,29.5,28.3,27.3,26.6,26.1,25.7,25.4,25.3,25.2,25.0,24.8,24.7,24.4,24.2,24.4,25.4,26.9,28.3,29.5,30.7,31.7,32.4,33.0,33.1,32.5,31.5,30.5,29.6,28.6,27.7,27.1,26.6,26.2,25.9,25.6,25.4,25.1,24.9,25.1,26.1,27.6,28.7,30.6,31.9,32.8,33.3,33.4,33.3,33.0,32.4,31.8,30.9,29.9,29.1,28.6,28.2,27.9,27.5,27.3,27.0,26.5,26.1,26.2,27.0,28.4,29.8,31.2,32.7,33.9,34.4,34.6,34.5,34.0,33.1,32.2,31.1,29.8,28.7,27.9,27.2,26.7,26.3,26.0],\"rain\":[0.00,0.00,0.00,0.00,0.00,0.00,0.00,0.00,0.00,0.00,0.00,0.00,0.00,0.00,0.00,0.00,0.00,0.00,0.00,0.00,0.00,0.00,0.00,0.00,0.00,0.00,0.00,0.00,0.00,0.00,0.00,0.00,0.00,0.00,0.00,0.00,0.00,0.00,0.00,0.00,0.00,0.00,0.00,0.00,0.00,0.00,0.00,0.00,0.00,0.00,0.00,0.00,0.00,0.00,0.00,0.00,0.00,0.00,0.00,0.00,0.00,0.00,0.00,0.00,0.00,0.00,0.00,0.00,0.00,0.00,0.00,0.00,0.00,0.00,0.00,0.00,0.00,0.00,0.00,0.00,0.00,0.00,0.00,0.00,0.00,0.00,0.00,0.00,0.00,0.00,0.00,0.00,0.00,0.00,0.00,0.00,0.00,0.00,0.00,0.00,0.00,0.00,0.00,0.00,0.00,0.00,0.00,0.00,0.00,0.00,0.00,0.00,0.00,0.00,0.00,0.00,0.00,0.00,0.00,0.00,0.00,0.00,0.00,0.00,0.00,0.00,0.00,0.00,0.00,0.00,0.00,0.00,0.00,0.00,0.00,0.00,0.00,0.00,0.00,0.00,0.00,0.00,0.00,0.00,0.00,0.00,0.00,0.00,0.00,0.00,0.00,0.00,0.00,0.00,0.00,0.00,0.00,0.00,0.00,0.00,0.00,0.00,0.00,0.00,0.00,0.00,0.00,0.00],\"precipitation\":[0.00,0.00,0.00,0.20,0.20,0.00,0.00,0.10,0.00,0.00,0.00,0.00,0.00,0.00,0.00,0.00,0.00,0.00,0.00,0.00,0.00,0.00,0.00,0.00,0.00,0.10,0.20,0.10,0.00,0.00,0.10,0.10,0.00,0.10,0.00,0.00,0.30,0.20,0.00,0.10,0.30,0.00,0.10,0.60,0.00,0.00,0.00,0.00,0.00,0.00,0.00,0.00,0.00,0.00,0.00,0.00,0.00,0.10,0.00,0.00,0.00,0.00,0.00,0.20,2.00,0.10,0.20,0.40,0.00,0.00,0.00,0.00,0.00,0.00,0.00,1.10,0.00,0.20,1.30,0.30,0.40,0.20,0.20,0.40,0.20,0.40,0.40,0.40,0.40,0.40,0.40,0.00,0.00,0.00,0.40,0.40,0.40,0.00,0.00,0.00,0.00,0.00,0.00,0.10,0.10,0.10,0.00,0.00,0.00,0.00,0.00,0.00,0.00,0.00,0.00,0.00,0.00,0.00,0.00,0.00,0.00,0.20,0.20,0.20,0.20,0.20,0.20,0.00,0.00,0.00,0.10,0.10,0.10,0.00,0.00,0.00,0.00,0.00,0.00,0.00,0.00,0.00,0.00,0.00,0.00,0.00,0.00,0.00,0.00,0.00,0.00,0.00,0.00,0.00,0.00,0.00,0.00,0.10,0.10,0.10,0.20,0.20,0.20,0.00,0.00,0.00,0.00,0.00],\"relative_humidity_2m\":[82,84,87,87,85,79,73,65,58,53,51,49,47,47,48,52,56,59,61,63,67,71,74,77,80,82,82,82,81,77,74,66,60,56,52,48,51,55,55,57,65,75,76,81,85,86,88,91,93,94,92,92,88,81,72,64,57,52,48,45,45,46,47,55,78,82,82,84,85,86,87,87,87,88,89,92,89,82,80,76,72,69,68,70,68,71,75,79,82,85,87,87,87,87,88,90,92,94,96,95,90,82,75,69,63,58,54,52,51,53,56,60,64,69,74,78,82,84,85,84,84,85,86,85,79,72,66,58,52,48,46,47,47,47,48,49,52,55,58,60,61,62,62,62,63,65,68,69,66,62,57,52,46,42,40,40,41,43,45,49,54,59,64,68,72,75,77,79]}}\n",
      "Annecy OK (6.101282, 45.898635)\n",
      "Status code: 200\n",
      "URL: https://api.open-meteo.com/v1/forecast?latitude=5.725144&longitude=45.180525&hourly=temperature_2m&hourly=rain&hourly=precipitation&hourly=relative_humidity_2m\n",
      "Response: {\"latitude\":5.875,\"longitude\":45.125,\"generationtime_ms\":0.04291534423828125,\"utc_offset_seconds\":0,\"timezone\":\"GMT\",\"timezone_abbreviation\":\"GMT\",\"elevation\":506.0,\"hourly_units\":{\"time\":\"iso8601\",\"temperature_2m\":\"°C\",\"rain\":\"mm\",\"precipitation\":\"mm\",\"relative_humidity_2m\":\"%\"},\"hourly\":{\"time\":[\"2025-05-02T00:00\",\"2025-05-02T01:00\",\"2025-05-02T02:00\",\"2025-05-02T03:00\",\"2025-05-02T04:00\",\"2025-05-02T05:00\",\"2025-05-02T06:00\",\"2025-05-02T07:00\",\"2025-05-02T08:00\",\"2025-05-02T09:00\",\"2025-05-02T10:00\",\"2025-05-02T11:00\",\"2025-05-02T12:00\",\"2025-05-02T13:00\",\"2025-05-02T14:00\",\"2025-05-02T15:00\",\"2025-05-02T16:00\",\"2025-05-02T17:00\",\"2025-05-02T18:00\",\"2025-05-02T19:00\",\"2025-05-02T20:00\",\"2025-05-02T21:00\",\"2025-05-02T22:00\",\"2025-05-02T23:00\",\"2025-05-03T00:00\",\"2025-05-03T01:00\",\"2025-05-03T02:00\",\"2025-05-03T03:00\",\"2025-05-03T04:00\",\"2025-05-03T05:00\",\"2025-05-03T06:00\",\"2025-05-03T07:00\",\"2025-05-03T08:00\",\"2025-05-03T09:00\",\"2025-05-03T10:00\",\"2025-05-03T11:00\",\"2025-05-03T12:00\",\"2025-05-03T13:00\",\"2025-05-03T14:00\",\"2025-05-03T15:00\",\"2025-05-03T16:00\",\"2025-05-03T17:00\",\"2025-05-03T18:00\",\"2025-05-03T19:00\",\"2025-05-03T20:00\",\"2025-05-03T21:00\",\"2025-05-03T22:00\",\"2025-05-03T23:00\",\"2025-05-04T00:00\",\"2025-05-04T01:00\",\"2025-05-04T02:00\",\"2025-05-04T03:00\",\"2025-05-04T04:00\",\"2025-05-04T05:00\",\"2025-05-04T06:00\",\"2025-05-04T07:00\",\"2025-05-04T08:00\",\"2025-05-04T09:00\",\"2025-05-04T10:00\",\"2025-05-04T11:00\",\"2025-05-04T12:00\",\"2025-05-04T13:00\",\"2025-05-04T14:00\",\"2025-05-04T15:00\",\"2025-05-04T16:00\",\"2025-05-04T17:00\",\"2025-05-04T18:00\",\"2025-05-04T19:00\",\"2025-05-04T20:00\",\"2025-05-04T21:00\",\"2025-05-04T22:00\",\"2025-05-04T23:00\",\"2025-05-05T00:00\",\"2025-05-05T01:00\",\"2025-05-05T02:00\",\"2025-05-05T03:00\",\"2025-05-05T04:00\",\"2025-05-05T05:00\",\"2025-05-05T06:00\",\"2025-05-05T07:00\",\"2025-05-05T08:00\",\"2025-05-05T09:00\",\"2025-05-05T10:00\",\"2025-05-05T11:00\",\"2025-05-05T12:00\",\"2025-05-05T13:00\",\"2025-05-05T14:00\",\"2025-05-05T15:00\",\"2025-05-05T16:00\",\"2025-05-05T17:00\",\"2025-05-05T18:00\",\"2025-05-05T19:00\",\"2025-05-05T20:00\",\"2025-05-05T21:00\",\"2025-05-05T22:00\",\"2025-05-05T23:00\",\"2025-05-06T00:00\",\"2025-05-06T01:00\",\"2025-05-06T02:00\",\"2025-05-06T03:00\",\"2025-05-06T04:00\",\"2025-05-06T05:00\",\"2025-05-06T06:00\",\"2025-05-06T07:00\",\"2025-05-06T08:00\",\"2025-05-06T09:00\",\"2025-05-06T10:00\",\"2025-05-06T11:00\",\"2025-05-06T12:00\",\"2025-05-06T13:00\",\"2025-05-06T14:00\",\"2025-05-06T15:00\",\"2025-05-06T16:00\",\"2025-05-06T17:00\",\"2025-05-06T18:00\",\"2025-05-06T19:00\",\"2025-05-06T20:00\",\"2025-05-06T21:00\",\"2025-05-06T22:00\",\"2025-05-06T23:00\",\"2025-05-07T00:00\",\"2025-05-07T01:00\",\"2025-05-07T02:00\",\"2025-05-07T03:00\",\"2025-05-07T04:00\",\"2025-05-07T05:00\",\"2025-05-07T06:00\",\"2025-05-07T07:00\",\"2025-05-07T08:00\",\"2025-05-07T09:00\",\"2025-05-07T10:00\",\"2025-05-07T11:00\",\"2025-05-07T12:00\",\"2025-05-07T13:00\",\"2025-05-07T14:00\",\"2025-05-07T15:00\",\"2025-05-07T16:00\",\"2025-05-07T17:00\",\"2025-05-07T18:00\",\"2025-05-07T19:00\",\"2025-05-07T20:00\",\"2025-05-07T21:00\",\"2025-05-07T22:00\",\"2025-05-07T23:00\",\"2025-05-08T00:00\",\"2025-05-08T01:00\",\"2025-05-08T02:00\",\"2025-05-08T03:00\",\"2025-05-08T04:00\",\"2025-05-08T05:00\",\"2025-05-08T06:00\",\"2025-05-08T07:00\",\"2025-05-08T08:00\",\"2025-05-08T09:00\",\"2025-05-08T10:00\",\"2025-05-08T11:00\",\"2025-05-08T12:00\",\"2025-05-08T13:00\",\"2025-05-08T14:00\",\"2025-05-08T15:00\",\"2025-05-08T16:00\",\"2025-05-08T17:00\",\"2025-05-08T18:00\",\"2025-05-08T19:00\",\"2025-05-08T20:00\",\"2025-05-08T21:00\",\"2025-05-08T22:00\",\"2025-05-08T23:00\"],\"temperature_2m\":[24.2,23.8,23.4,23.3,24.1,25.8,26.9,28.6,30.0,31.3,31.9,32.2,32.2,32.2,31.9,31.4,29.8,28.6,27.7,26.8,25.9,25.3,24.9,24.3,23.8,23.6,23.4,23.5,24.1,25.0,26.2,27.1,28.2,29.5,30.3,30.9,31.2,31.0,30.3,29.6,28.6,27.7,26.9,25.8,25.0,24.4,23.9,23.5,23.2,23.0,22.8,22.6,23.5,25.4,27.6,29.1,30.6,31.6,32.6,32.9,32.8,32.3,31.0,29.1,28.0,27.5,27.2,26.8,26.3,25.9,25.4,24.7,24.2,24.0,23.7,23.5,24.2,25.7,26.9,28.3,29.4,30.1,30.4,30.4,30.2,29.3,28.0,26.8,26.1,25.6,25.2,25.0,24.8,24.7,24.6,24.5,24.3,24.0,23.7,23.8,24.5,25.6,26.8,28.0,29.3,30.3,31.0,31.5,31.6,31.0,29.9,28.9,28.1,27.2,26.5,25.9,25.5,25.1,24.8,24.7,24.5,24.2,23.9,24.0,24.8,25.9,26.8,28.4,29.6,30.6,31.3,31.8,31.9,31.7,31.2,30.5,29.6,28.6,27.8,27.3,26.9,26.6,26.3,26.0,25.7,25.2,24.6,24.5,25.2,26.3,27.6,28.9,30.3,31.4,32.1,32.5,32.5,32.1,31.4,30.6,29.9,29.2,28.6,28.2,27.8,27.4,26.6,25.8],\"rain\":[0.00,0.00,0.00,0.00,0.00,0.00,0.00,0.00,0.00,0.00,0.00,0.00,0.00,0.00,0.00,0.00,0.00,0.00,0.00,0.00,0.00,0.00,0.00,0.00,0.00,0.00,0.00,0.00,0.00,0.00,0.00,0.00,0.00,0.00,0.00,0.00,0.00,0.00,0.00,0.00,0.00,0.00,0.00,0.00,0.00,0.00,0.00,0.00,0.00,0.00,0.00,0.00,0.00,0.00,0.00,0.00,0.00,0.00,0.00,0.00,0.00,0.00,0.00,0.00,0.00,0.00,0.00,0.00,0.00,0.00,0.00,0.00,0.00,0.00,0.00,0.00,0.00,0.00,0.00,0.00,0.00,0.00,0.00,0.00,0.00,0.00,0.00,0.00,0.00,0.00,0.00,0.00,0.00,0.00,0.00,0.00,0.00,0.00,0.00,0.00,0.00,0.00,0.00,0.00,0.00,0.00,0.00,0.00,0.00,0.00,0.00,0.00,0.00,0.00,0.00,0.00,0.00,0.00,0.00,0.00,0.00,0.00,0.00,0.00,0.00,0.00,0.00,0.00,0.00,0.00,0.00,0.00,0.00,0.00,0.00,0.00,0.00,0.00,0.00,0.00,0.00,0.00,0.00,0.00,0.00,0.00,0.00,0.00,0.00,0.00,0.00,0.00,0.00,0.00,0.00,0.00,0.00,0.00,0.00,0.00,0.00,0.00,0.00,0.00,0.00,0.00,0.00,0.00],\"precipitation\":[0.00,0.00,0.00,0.00,0.00,0.00,0.10,0.10,0.10,0.00,0.00,0.00,0.00,0.00,0.00,0.00,0.00,0.00,0.00,0.10,0.30,0.20,0.00,0.00,0.00,0.00,0.00,0.00,0.00,0.20,0.20,0.20,0.10,0.00,0.00,0.00,0.00,0.00,0.00,0.00,0.00,0.00,0.00,0.30,0.00,0.00,0.00,0.00,0.00,0.00,0.00,0.00,0.00,0.00,0.00,0.00,0.10,0.10,0.00,0.00,0.00,0.00,0.10,0.10,0.00,0.00,0.00,0.00,0.00,0.00,0.00,1.00,0.00,0.00,0.00,0.00,0.00,0.00,0.00,0.30,0.10,0.10,0.10,0.10,0.10,0.60,0.60,0.60,0.00,0.00,0.00,0.00,0.00,0.00,0.00,0.00,0.00,0.00,0.00,0.00,0.30,0.30,0.30,0.10,0.10,0.10,0.00,0.00,0.00,0.20,0.20,0.20,0.00,0.00,0.00,0.00,0.00,0.00,0.00,0.00,0.00,0.00,0.00,0.00,0.00,0.00,0.00,0.00,0.00,0.00,0.00,0.00,0.00,0.00,0.00,0.00,0.00,0.00,0.00,0.00,0.00,0.00,0.00,0.00,0.00,0.00,0.00,0.00,0.00,0.00,0.00,0.00,0.00,0.00,0.00,0.00,0.00,0.00,0.00,0.00,0.00,0.00,0.00,0.00,0.00,0.00,0.00,0.00],\"relative_humidity_2m\":[84,88,91,93,90,81,75,68,61,57,54,52,50,49,48,48,56,63,68,72,75,79,81,85,88,91,93,94,91,85,79,75,71,66,61,58,56,56,57,58,64,68,71,79,84,86,88,90,93,94,95,95,91,81,71,62,56,52,49,48,47,48,52,60,67,71,71,73,76,78,81,84,87,89,90,91,87,79,75,69,65,61,60,60,60,65,71,77,81,84,86,87,88,89,90,92,93,95,96,95,90,83,76,71,66,62,59,56,55,57,61,65,69,73,76,79,82,84,85,86,86,86,86,85,81,76,72,65,59,55,52,49,48,48,48,50,53,58,61,63,64,65,66,67,68,71,74,75,73,69,65,60,54,50,48,47,47,48,50,52,54,55,57,58,59,61,66,73]}}\n",
      "Grenoble OK (5.725144, 45.180525)\n",
      "Status code: 200\n",
      "URL: https://api.open-meteo.com/v1/forecast?latitude=4.824068&longitude=45.767678&hourly=temperature_2m&hourly=rain&hourly=precipitation&hourly=relative_humidity_2m\n",
      "Response: {\"latitude\":4.875,\"longitude\":45.75,\"generationtime_ms\":0.05066394805908203,\"utc_offset_seconds\":0,\"timezone\":\"GMT\",\"timezone_abbreviation\":\"GMT\",\"elevation\":357.0,\"hourly_units\":{\"time\":\"iso8601\",\"temperature_2m\":\"°C\",\"rain\":\"mm\",\"precipitation\":\"mm\",\"relative_humidity_2m\":\"%\"},\"hourly\":{\"time\":[\"2025-05-02T00:00\",\"2025-05-02T01:00\",\"2025-05-02T02:00\",\"2025-05-02T03:00\",\"2025-05-02T04:00\",\"2025-05-02T05:00\",\"2025-05-02T06:00\",\"2025-05-02T07:00\",\"2025-05-02T08:00\",\"2025-05-02T09:00\",\"2025-05-02T10:00\",\"2025-05-02T11:00\",\"2025-05-02T12:00\",\"2025-05-02T13:00\",\"2025-05-02T14:00\",\"2025-05-02T15:00\",\"2025-05-02T16:00\",\"2025-05-02T17:00\",\"2025-05-02T18:00\",\"2025-05-02T19:00\",\"2025-05-02T20:00\",\"2025-05-02T21:00\",\"2025-05-02T22:00\",\"2025-05-02T23:00\",\"2025-05-03T00:00\",\"2025-05-03T01:00\",\"2025-05-03T02:00\",\"2025-05-03T03:00\",\"2025-05-03T04:00\",\"2025-05-03T05:00\",\"2025-05-03T06:00\",\"2025-05-03T07:00\",\"2025-05-03T08:00\",\"2025-05-03T09:00\",\"2025-05-03T10:00\",\"2025-05-03T11:00\",\"2025-05-03T12:00\",\"2025-05-03T13:00\",\"2025-05-03T14:00\",\"2025-05-03T15:00\",\"2025-05-03T16:00\",\"2025-05-03T17:00\",\"2025-05-03T18:00\",\"2025-05-03T19:00\",\"2025-05-03T20:00\",\"2025-05-03T21:00\",\"2025-05-03T22:00\",\"2025-05-03T23:00\",\"2025-05-04T00:00\",\"2025-05-04T01:00\",\"2025-05-04T02:00\",\"2025-05-04T03:00\",\"2025-05-04T04:00\",\"2025-05-04T05:00\",\"2025-05-04T06:00\",\"2025-05-04T07:00\",\"2025-05-04T08:00\",\"2025-05-04T09:00\",\"2025-05-04T10:00\",\"2025-05-04T11:00\",\"2025-05-04T12:00\",\"2025-05-04T13:00\",\"2025-05-04T14:00\",\"2025-05-04T15:00\",\"2025-05-04T16:00\",\"2025-05-04T17:00\",\"2025-05-04T18:00\",\"2025-05-04T19:00\",\"2025-05-04T20:00\",\"2025-05-04T21:00\",\"2025-05-04T22:00\",\"2025-05-04T23:00\",\"2025-05-05T00:00\",\"2025-05-05T01:00\",\"2025-05-05T02:00\",\"2025-05-05T03:00\",\"2025-05-05T04:00\",\"2025-05-05T05:00\",\"2025-05-05T06:00\",\"2025-05-05T07:00\",\"2025-05-05T08:00\",\"2025-05-05T09:00\",\"2025-05-05T10:00\",\"2025-05-05T11:00\",\"2025-05-05T12:00\",\"2025-05-05T13:00\",\"2025-05-05T14:00\",\"2025-05-05T15:00\",\"2025-05-05T16:00\",\"2025-05-05T17:00\",\"2025-05-05T18:00\",\"2025-05-05T19:00\",\"2025-05-05T20:00\",\"2025-05-05T21:00\",\"2025-05-05T22:00\",\"2025-05-05T23:00\",\"2025-05-06T00:00\",\"2025-05-06T01:00\",\"2025-05-06T02:00\",\"2025-05-06T03:00\",\"2025-05-06T04:00\",\"2025-05-06T05:00\",\"2025-05-06T06:00\",\"2025-05-06T07:00\",\"2025-05-06T08:00\",\"2025-05-06T09:00\",\"2025-05-06T10:00\",\"2025-05-06T11:00\",\"2025-05-06T12:00\",\"2025-05-06T13:00\",\"2025-05-06T14:00\",\"2025-05-06T15:00\",\"2025-05-06T16:00\",\"2025-05-06T17:00\",\"2025-05-06T18:00\",\"2025-05-06T19:00\",\"2025-05-06T20:00\",\"2025-05-06T21:00\",\"2025-05-06T22:00\",\"2025-05-06T23:00\",\"2025-05-07T00:00\",\"2025-05-07T01:00\",\"2025-05-07T02:00\",\"2025-05-07T03:00\",\"2025-05-07T04:00\",\"2025-05-07T05:00\",\"2025-05-07T06:00\",\"2025-05-07T07:00\",\"2025-05-07T08:00\",\"2025-05-07T09:00\",\"2025-05-07T10:00\",\"2025-05-07T11:00\",\"2025-05-07T12:00\",\"2025-05-07T13:00\",\"2025-05-07T14:00\",\"2025-05-07T15:00\",\"2025-05-07T16:00\",\"2025-05-07T17:00\",\"2025-05-07T18:00\",\"2025-05-07T19:00\",\"2025-05-07T20:00\",\"2025-05-07T21:00\",\"2025-05-07T22:00\",\"2025-05-07T23:00\",\"2025-05-08T00:00\",\"2025-05-08T01:00\",\"2025-05-08T02:00\",\"2025-05-08T03:00\",\"2025-05-08T04:00\",\"2025-05-08T05:00\",\"2025-05-08T06:00\",\"2025-05-08T07:00\",\"2025-05-08T08:00\",\"2025-05-08T09:00\",\"2025-05-08T10:00\",\"2025-05-08T11:00\",\"2025-05-08T12:00\",\"2025-05-08T13:00\",\"2025-05-08T14:00\",\"2025-05-08T15:00\",\"2025-05-08T16:00\",\"2025-05-08T17:00\",\"2025-05-08T18:00\",\"2025-05-08T19:00\",\"2025-05-08T20:00\",\"2025-05-08T21:00\",\"2025-05-08T22:00\",\"2025-05-08T23:00\"],\"temperature_2m\":[25.3,25.1,24.9,25.0,25.7,27.2,28.7,30.0,31.4,32.4,32.9,33.4,33.2,33.1,32.3,31.7,30.7,28.8,27.4,26.8,25.8,25.7,25.6,25.4,25.2,25.1,25.1,25.0,25.7,27.2,28.8,29.9,31.4,31.9,31.9,31.6,31.3,29.4,28.1,27.3,26.2,25.6,25.4,25.2,24.9,24.6,24.3,24.2,24.0,23.9,23.8,23.7,24.5,26.2,27.9,29.7,30.7,31.7,32.0,32.0,32.2,32.2,31.9,28.8,28.0,27.9,27.4,26.6,26.1,25.7,25.4,25.2,24.9,24.8,24.6,24.5,25.1,26.5,28.2,30.0,30.9,31.6,32.0,32.1,31.2,30.1,28.7,27.5,26.8,26.2,25.8,25.4,25.1,24.9,24.7,24.6,24.4,24.1,23.8,24.0,25.0,26.5,28.0,29.4,30.7,31.7,32.4,32.7,32.5,31.4,29.8,28.4,27.5,26.8,26.3,25.9,25.7,25.6,25.4,25.3,25.1,24.8,24.5,24.6,25.6,27.0,28.0,29.4,30.8,32.0,32.8,33.4,33.6,33.2,32.3,31.4,30.5,29.6,28.8,28.4,28.0,27.6,27.0,26.2,25.6,25.0,24.5,24.6,25.6,27.2,28.8,30.4,32.1,33.5,34.3,34.7,34.7,33.9,32.6,31.3,30.1,28.7,27.7,27.0,26.5,26.1,25.8,25.6],\"rain\":[0.00,0.00,0.00,0.00,0.00,0.00,0.00,0.00,0.00,0.00,0.00,0.00,0.00,0.00,0.00,0.00,0.00,0.00,0.00,0.00,0.00,0.00,0.00,0.00,0.00,0.00,0.00,0.00,0.00,0.00,0.00,0.00,0.00,0.00,0.00,0.00,0.00,0.00,0.00,0.00,0.00,0.00,0.00,0.00,0.00,0.00,0.00,0.00,0.00,0.00,0.00,0.00,0.00,0.00,0.00,0.00,0.00,0.00,0.00,0.00,0.00,0.00,0.00,0.00,0.00,0.00,0.00,0.00,0.00,0.00,0.00,0.00,0.00,0.00,0.00,0.00,0.00,0.00,0.00,0.00,0.00,0.00,0.00,0.00,0.00,0.00,0.00,0.00,0.00,0.00,0.00,0.00,0.00,0.00,0.00,0.00,0.00,0.00,0.00,0.00,0.00,0.00,0.00,0.00,0.00,0.00,0.00,0.00,0.00,0.00,0.00,0.00,0.00,0.00,0.00,0.00,0.00,0.00,0.00,0.00,0.00,0.00,0.00,0.00,0.00,0.00,0.00,0.00,0.00,0.00,0.00,0.00,0.00,0.00,0.00,0.00,0.00,0.00,0.00,0.00,0.00,0.00,0.00,0.00,0.00,0.00,0.00,0.00,0.00,0.00,0.00,0.00,0.00,0.00,0.00,0.00,0.00,0.00,0.00,0.00,0.00,0.00,0.00,0.00,0.00,0.00,0.00,0.00],\"precipitation\":[0.00,0.00,0.00,0.00,0.00,0.00,0.00,0.10,0.00,0.00,0.00,0.00,0.00,0.00,0.00,0.00,0.00,0.10,0.10,0.00,0.00,0.00,0.00,0.00,0.00,0.00,0.00,0.00,0.00,0.00,0.00,0.20,0.00,0.00,0.10,0.10,0.10,1.00,3.10,3.90,1.80,0.00,0.00,0.00,0.00,0.00,0.00,0.00,0.00,0.00,0.00,0.00,0.00,0.00,0.00,0.00,0.20,0.00,0.00,0.00,0.00,0.00,0.00,0.80,0.40,0.00,0.00,0.10,0.00,0.00,0.00,0.00,0.00,0.00,0.00,0.00,0.00,0.00,0.00,0.00,0.10,0.10,0.10,0.10,0.20,0.60,0.60,0.60,0.00,0.00,0.00,0.00,0.00,0.00,0.20,0.20,0.20,0.20,0.20,0.20,0.00,0.00,0.00,0.10,0.10,0.10,0.00,0.00,0.00,0.30,0.30,0.30,0.00,0.00,0.00,0.00,0.00,0.00,0.00,0.00,0.00,0.00,0.00,0.00,0.00,0.00,0.00,0.00,0.00,0.00,0.00,0.00,0.00,0.00,0.00,0.00,0.00,0.00,0.00,0.00,0.00,0.00,0.00,0.00,0.00,0.00,0.00,0.00,0.00,0.00,0.00,0.00,0.00,0.00,0.00,0.00,0.00,0.10,0.10,0.10,0.10,0.10,0.10,0.00,0.00,0.00,0.00,0.00],\"relative_humidity_2m\":[87,88,90,91,87,79,72,66,61,56,53,50,50,50,51,53,57,65,73,77,79,82,84,86,88,89,89,90,87,79,70,65,59,57,57,58,58,68,76,78,84,88,89,89,91,92,93,93,93,93,94,95,91,84,77,68,64,60,58,58,57,56,57,70,75,76,79,84,86,87,88,89,91,92,92,92,89,82,74,65,64,62,59,58,61,66,72,78,82,85,87,89,89,90,91,91,91,91,90,88,84,79,74,68,62,57,54,53,54,59,67,74,78,81,83,84,84,85,86,88,89,91,92,91,86,78,72,63,56,51,47,45,44,45,47,50,54,58,62,64,65,67,71,77,81,85,88,88,83,75,67,60,53,47,43,41,41,43,46,51,58,66,72,75,75,77,81,86]}}\n",
      "Lyon OK (4.824068, 45.767678)\n",
      "Status code: 200\n",
      "URL: https://api.open-meteo.com/v1/forecast?latitude=6.34617&longitude=43.741387&hourly=temperature_2m&hourly=rain&hourly=precipitation&hourly=relative_humidity_2m\n",
      "Response: {\"latitude\":6.375,\"longitude\":43.75,\"generationtime_ms\":0.28502941131591797,\"utc_offset_seconds\":0,\"timezone\":\"GMT\",\"timezone_abbreviation\":\"GMT\",\"elevation\":422.0,\"hourly_units\":{\"time\":\"iso8601\",\"temperature_2m\":\"°C\",\"rain\":\"mm\",\"precipitation\":\"mm\",\"relative_humidity_2m\":\"%\"},\"hourly\":{\"time\":[\"2025-05-02T00:00\",\"2025-05-02T01:00\",\"2025-05-02T02:00\",\"2025-05-02T03:00\",\"2025-05-02T04:00\",\"2025-05-02T05:00\",\"2025-05-02T06:00\",\"2025-05-02T07:00\",\"2025-05-02T08:00\",\"2025-05-02T09:00\",\"2025-05-02T10:00\",\"2025-05-02T11:00\",\"2025-05-02T12:00\",\"2025-05-02T13:00\",\"2025-05-02T14:00\",\"2025-05-02T15:00\",\"2025-05-02T16:00\",\"2025-05-02T17:00\",\"2025-05-02T18:00\",\"2025-05-02T19:00\",\"2025-05-02T20:00\",\"2025-05-02T21:00\",\"2025-05-02T22:00\",\"2025-05-02T23:00\",\"2025-05-03T00:00\",\"2025-05-03T01:00\",\"2025-05-03T02:00\",\"2025-05-03T03:00\",\"2025-05-03T04:00\",\"2025-05-03T05:00\",\"2025-05-03T06:00\",\"2025-05-03T07:00\",\"2025-05-03T08:00\",\"2025-05-03T09:00\",\"2025-05-03T10:00\",\"2025-05-03T11:00\",\"2025-05-03T12:00\",\"2025-05-03T13:00\",\"2025-05-03T14:00\",\"2025-05-03T15:00\",\"2025-05-03T16:00\",\"2025-05-03T17:00\",\"2025-05-03T18:00\",\"2025-05-03T19:00\",\"2025-05-03T20:00\",\"2025-05-03T21:00\",\"2025-05-03T22:00\",\"2025-05-03T23:00\",\"2025-05-04T00:00\",\"2025-05-04T01:00\",\"2025-05-04T02:00\",\"2025-05-04T03:00\",\"2025-05-04T04:00\",\"2025-05-04T05:00\",\"2025-05-04T06:00\",\"2025-05-04T07:00\",\"2025-05-04T08:00\",\"2025-05-04T09:00\",\"2025-05-04T10:00\",\"2025-05-04T11:00\",\"2025-05-04T12:00\",\"2025-05-04T13:00\",\"2025-05-04T14:00\",\"2025-05-04T15:00\",\"2025-05-04T16:00\",\"2025-05-04T17:00\",\"2025-05-04T18:00\",\"2025-05-04T19:00\",\"2025-05-04T20:00\",\"2025-05-04T21:00\",\"2025-05-04T22:00\",\"2025-05-04T23:00\",\"2025-05-05T00:00\",\"2025-05-05T01:00\",\"2025-05-05T02:00\",\"2025-05-05T03:00\",\"2025-05-05T04:00\",\"2025-05-05T05:00\",\"2025-05-05T06:00\",\"2025-05-05T07:00\",\"2025-05-05T08:00\",\"2025-05-05T09:00\",\"2025-05-05T10:00\",\"2025-05-05T11:00\",\"2025-05-05T12:00\",\"2025-05-05T13:00\",\"2025-05-05T14:00\",\"2025-05-05T15:00\",\"2025-05-05T16:00\",\"2025-05-05T17:00\",\"2025-05-05T18:00\",\"2025-05-05T19:00\",\"2025-05-05T20:00\",\"2025-05-05T21:00\",\"2025-05-05T22:00\",\"2025-05-05T23:00\",\"2025-05-06T00:00\",\"2025-05-06T01:00\",\"2025-05-06T02:00\",\"2025-05-06T03:00\",\"2025-05-06T04:00\",\"2025-05-06T05:00\",\"2025-05-06T06:00\",\"2025-05-06T07:00\",\"2025-05-06T08:00\",\"2025-05-06T09:00\",\"2025-05-06T10:00\",\"2025-05-06T11:00\",\"2025-05-06T12:00\",\"2025-05-06T13:00\",\"2025-05-06T14:00\",\"2025-05-06T15:00\",\"2025-05-06T16:00\",\"2025-05-06T17:00\",\"2025-05-06T18:00\",\"2025-05-06T19:00\",\"2025-05-06T20:00\",\"2025-05-06T21:00\",\"2025-05-06T22:00\",\"2025-05-06T23:00\",\"2025-05-07T00:00\",\"2025-05-07T01:00\",\"2025-05-07T02:00\",\"2025-05-07T03:00\",\"2025-05-07T04:00\",\"2025-05-07T05:00\",\"2025-05-07T06:00\",\"2025-05-07T07:00\",\"2025-05-07T08:00\",\"2025-05-07T09:00\",\"2025-05-07T10:00\",\"2025-05-07T11:00\",\"2025-05-07T12:00\",\"2025-05-07T13:00\",\"2025-05-07T14:00\",\"2025-05-07T15:00\",\"2025-05-07T16:00\",\"2025-05-07T17:00\",\"2025-05-07T18:00\",\"2025-05-07T19:00\",\"2025-05-07T20:00\",\"2025-05-07T21:00\",\"2025-05-07T22:00\",\"2025-05-07T23:00\",\"2025-05-08T00:00\",\"2025-05-08T01:00\",\"2025-05-08T02:00\",\"2025-05-08T03:00\",\"2025-05-08T04:00\",\"2025-05-08T05:00\",\"2025-05-08T06:00\",\"2025-05-08T07:00\",\"2025-05-08T08:00\",\"2025-05-08T09:00\",\"2025-05-08T10:00\",\"2025-05-08T11:00\",\"2025-05-08T12:00\",\"2025-05-08T13:00\",\"2025-05-08T14:00\",\"2025-05-08T15:00\",\"2025-05-08T16:00\",\"2025-05-08T17:00\",\"2025-05-08T18:00\",\"2025-05-08T19:00\",\"2025-05-08T20:00\",\"2025-05-08T21:00\",\"2025-05-08T22:00\",\"2025-05-08T23:00\"],\"temperature_2m\":[25.3,25.2,24.8,24.5,25.0,26.7,28.1,29.2,30.1,31.1,32.1,32.1,32.2,31.9,31.4,30.5,28.5,27.7,27.2,26.6,26.1,25.7,25.5,24.7,24.3,24.1,23.9,23.7,23.9,24.9,26.3,27.6,28.3,29.1,29.2,29.7,30.2,30.3,30.1,29.4,28.4,27.6,26.9,26.5,26.3,25.9,25.6,25.5,25.0,24.4,24.3,24.0,24.4,25.7,27.2,28.6,29.5,30.3,31.3,31.5,31.7,31.7,31.4,30.6,29.3,28.2,27.5,27.2,26.8,26.6,26.2,25.8,25.7,25.2,24.9,24.3,24.4,24.6,25.2,26.7,27.7,28.6,29.4,29.8,30.0,29.9,29.5,29.0,28.3,27.4,26.7,26.3,26.0,25.7,25.4,25.0,24.8,24.5,24.2,24.2,24.8,25.6,26.5,27.4,28.3,29.2,29.9,30.6,30.9,30.7,30.2,29.6,29.0,28.4,27.8,27.1,26.3,25.7,25.3,25.0,24.8,24.5,24.1,24.2,24.9,25.9,26.7,28.1,29.4,30.5,31.3,31.8,32.0,31.7,31.1,30.4,29.8,29.1,28.5,27.8,27.2,26.7,26.3,26.1,25.8,25.3,24.9,24.9,25.4,26.2,27.3,28.7,30.4,31.7,32.3,32.6,32.5,32.2,31.7,30.9,29.9,28.8,27.9,27.4,27.2,27.0,26.7,26.4],\"rain\":[0.00,0.00,0.00,0.00,0.00,0.00,0.00,0.00,0.00,0.00,0.00,0.00,0.00,0.00,0.00,0.00,0.00,0.00,0.00,0.00,0.00,0.00,0.00,0.00,0.00,0.00,0.00,0.00,0.00,0.00,0.00,0.00,0.00,0.00,0.00,0.00,0.00,0.00,0.00,0.00,0.00,0.00,0.00,0.00,0.00,0.00,0.00,0.00,0.00,0.00,0.00,0.00,0.00,0.00,0.00,0.00,0.00,0.00,0.00,0.00,0.00,0.00,0.00,0.00,0.00,0.00,0.00,0.00,0.00,0.00,0.00,0.00,0.00,0.00,0.00,0.00,0.00,0.00,0.00,0.00,0.00,0.00,0.00,0.00,0.00,0.00,0.00,0.00,0.00,0.00,0.00,0.00,0.00,0.00,0.00,0.00,0.00,0.00,0.00,0.00,0.00,0.00,0.00,0.00,0.00,0.00,0.00,0.00,0.00,0.00,0.00,0.00,0.00,0.00,0.00,0.00,0.00,0.00,0.00,0.00,0.00,0.00,0.00,0.00,0.00,0.00,0.00,0.00,0.00,0.00,0.00,0.00,0.00,0.00,0.00,0.00,0.00,0.00,0.00,0.00,0.00,0.00,0.00,0.00,0.00,0.00,0.00,0.00,0.00,0.00,0.00,0.00,0.00,0.00,0.00,0.00,0.00,0.00,0.00,0.00,0.00,0.00,0.00,0.00,0.00,0.00,0.00,0.00],\"precipitation\":[0.30,0.20,0.00,0.00,0.00,0.00,0.00,0.10,0.10,0.00,0.00,0.10,0.00,0.00,0.00,0.00,0.10,0.00,0.00,0.00,0.00,0.00,0.60,1.80,3.20,2.30,0.90,0.70,0.10,0.00,0.00,0.00,0.20,0.00,0.00,0.00,0.00,0.00,0.00,0.00,0.00,0.00,0.00,0.00,0.00,0.00,0.00,0.00,0.00,0.10,0.00,0.00,0.00,0.00,0.00,0.00,0.20,0.20,0.00,0.00,0.00,0.00,0.00,0.00,0.00,0.00,0.00,0.00,0.00,0.00,0.00,0.00,0.10,0.20,0.40,1.70,1.50,1.50,0.50,0.00,0.30,0.10,0.10,0.10,0.10,0.10,0.10,0.10,0.00,0.00,0.00,0.00,0.00,0.00,0.00,0.00,0.00,0.20,0.20,0.20,0.10,0.10,0.10,0.30,0.30,0.30,0.00,0.00,0.00,0.00,0.00,0.00,0.00,0.00,0.00,0.40,0.40,0.40,0.10,0.10,0.10,0.60,0.60,0.60,0.00,0.00,0.00,0.00,0.00,0.00,0.00,0.00,0.00,0.00,0.00,0.00,0.00,0.00,0.00,0.00,0.00,0.00,0.00,0.00,0.00,0.00,0.00,0.00,0.00,0.00,0.00,0.00,0.00,0.00,0.00,0.00,0.00,0.00,0.00,0.00,0.00,0.00,0.00,0.00,0.00,0.00,0.00,0.00],\"relative_humidity_2m\":[82,82,83,85,84,75,71,65,62,58,54,53,54,55,57,60,71,74,76,79,82,84,85,88,89,89,89,90,90,85,78,72,70,66,65,64,62,60,60,65,70,73,80,82,82,82,83,83,86,90,90,89,87,82,76,70,66,64,61,59,56,55,55,59,65,71,76,79,80,81,82,83,83,86,88,89,88,87,84,77,73,70,67,65,65,65,66,68,73,79,84,87,89,91,92,94,94,94,94,92,88,84,79,75,71,68,65,63,62,63,66,69,71,72,74,76,79,81,82,82,83,85,87,87,83,77,73,67,62,58,55,53,52,53,56,59,62,66,69,71,73,74,75,75,75,75,75,75,75,74,71,65,57,51,49,48,49,50,52,55,59,64,68,69,69,69,70,72]}}\n",
      "Gorges du Verdon OK (6.34617, 43.741387)\n",
      "Status code: 200\n",
      "URL: https://api.open-meteo.com/v1/forecast?latitude=6.34391&longitude=43.120819&hourly=temperature_2m&hourly=rain&hourly=precipitation&hourly=relative_humidity_2m\n",
      "Response: {\"latitude\":6.375,\"longitude\":43.125,\"generationtime_ms\":0.03170967102050781,\"utc_offset_seconds\":0,\"timezone\":\"GMT\",\"timezone_abbreviation\":\"GMT\",\"elevation\":353.0,\"hourly_units\":{\"time\":\"iso8601\",\"temperature_2m\":\"°C\",\"rain\":\"mm\",\"precipitation\":\"mm\",\"relative_humidity_2m\":\"%\"},\"hourly\":{\"time\":[\"2025-05-02T00:00\",\"2025-05-02T01:00\",\"2025-05-02T02:00\",\"2025-05-02T03:00\",\"2025-05-02T04:00\",\"2025-05-02T05:00\",\"2025-05-02T06:00\",\"2025-05-02T07:00\",\"2025-05-02T08:00\",\"2025-05-02T09:00\",\"2025-05-02T10:00\",\"2025-05-02T11:00\",\"2025-05-02T12:00\",\"2025-05-02T13:00\",\"2025-05-02T14:00\",\"2025-05-02T15:00\",\"2025-05-02T16:00\",\"2025-05-02T17:00\",\"2025-05-02T18:00\",\"2025-05-02T19:00\",\"2025-05-02T20:00\",\"2025-05-02T21:00\",\"2025-05-02T22:00\",\"2025-05-02T23:00\",\"2025-05-03T00:00\",\"2025-05-03T01:00\",\"2025-05-03T02:00\",\"2025-05-03T03:00\",\"2025-05-03T04:00\",\"2025-05-03T05:00\",\"2025-05-03T06:00\",\"2025-05-03T07:00\",\"2025-05-03T08:00\",\"2025-05-03T09:00\",\"2025-05-03T10:00\",\"2025-05-03T11:00\",\"2025-05-03T12:00\",\"2025-05-03T13:00\",\"2025-05-03T14:00\",\"2025-05-03T15:00\",\"2025-05-03T16:00\",\"2025-05-03T17:00\",\"2025-05-03T18:00\",\"2025-05-03T19:00\",\"2025-05-03T20:00\",\"2025-05-03T21:00\",\"2025-05-03T22:00\",\"2025-05-03T23:00\",\"2025-05-04T00:00\",\"2025-05-04T01:00\",\"2025-05-04T02:00\",\"2025-05-04T03:00\",\"2025-05-04T04:00\",\"2025-05-04T05:00\",\"2025-05-04T06:00\",\"2025-05-04T07:00\",\"2025-05-04T08:00\",\"2025-05-04T09:00\",\"2025-05-04T10:00\",\"2025-05-04T11:00\",\"2025-05-04T12:00\",\"2025-05-04T13:00\",\"2025-05-04T14:00\",\"2025-05-04T15:00\",\"2025-05-04T16:00\",\"2025-05-04T17:00\",\"2025-05-04T18:00\",\"2025-05-04T19:00\",\"2025-05-04T20:00\",\"2025-05-04T21:00\",\"2025-05-04T22:00\",\"2025-05-04T23:00\",\"2025-05-05T00:00\",\"2025-05-05T01:00\",\"2025-05-05T02:00\",\"2025-05-05T03:00\",\"2025-05-05T04:00\",\"2025-05-05T05:00\",\"2025-05-05T06:00\",\"2025-05-05T07:00\",\"2025-05-05T08:00\",\"2025-05-05T09:00\",\"2025-05-05T10:00\",\"2025-05-05T11:00\",\"2025-05-05T12:00\",\"2025-05-05T13:00\",\"2025-05-05T14:00\",\"2025-05-05T15:00\",\"2025-05-05T16:00\",\"2025-05-05T17:00\",\"2025-05-05T18:00\",\"2025-05-05T19:00\",\"2025-05-05T20:00\",\"2025-05-05T21:00\",\"2025-05-05T22:00\",\"2025-05-05T23:00\",\"2025-05-06T00:00\",\"2025-05-06T01:00\",\"2025-05-06T02:00\",\"2025-05-06T03:00\",\"2025-05-06T04:00\",\"2025-05-06T05:00\",\"2025-05-06T06:00\",\"2025-05-06T07:00\",\"2025-05-06T08:00\",\"2025-05-06T09:00\",\"2025-05-06T10:00\",\"2025-05-06T11:00\",\"2025-05-06T12:00\",\"2025-05-06T13:00\",\"2025-05-06T14:00\",\"2025-05-06T15:00\",\"2025-05-06T16:00\",\"2025-05-06T17:00\",\"2025-05-06T18:00\",\"2025-05-06T19:00\",\"2025-05-06T20:00\",\"2025-05-06T21:00\",\"2025-05-06T22:00\",\"2025-05-06T23:00\",\"2025-05-07T00:00\",\"2025-05-07T01:00\",\"2025-05-07T02:00\",\"2025-05-07T03:00\",\"2025-05-07T04:00\",\"2025-05-07T05:00\",\"2025-05-07T06:00\",\"2025-05-07T07:00\",\"2025-05-07T08:00\",\"2025-05-07T09:00\",\"2025-05-07T10:00\",\"2025-05-07T11:00\",\"2025-05-07T12:00\",\"2025-05-07T13:00\",\"2025-05-07T14:00\",\"2025-05-07T15:00\",\"2025-05-07T16:00\",\"2025-05-07T17:00\",\"2025-05-07T18:00\",\"2025-05-07T19:00\",\"2025-05-07T20:00\",\"2025-05-07T21:00\",\"2025-05-07T22:00\",\"2025-05-07T23:00\",\"2025-05-08T00:00\",\"2025-05-08T01:00\",\"2025-05-08T02:00\",\"2025-05-08T03:00\",\"2025-05-08T04:00\",\"2025-05-08T05:00\",\"2025-05-08T06:00\",\"2025-05-08T07:00\",\"2025-05-08T08:00\",\"2025-05-08T09:00\",\"2025-05-08T10:00\",\"2025-05-08T11:00\",\"2025-05-08T12:00\",\"2025-05-08T13:00\",\"2025-05-08T14:00\",\"2025-05-08T15:00\",\"2025-05-08T16:00\",\"2025-05-08T17:00\",\"2025-05-08T18:00\",\"2025-05-08T19:00\",\"2025-05-08T20:00\",\"2025-05-08T21:00\",\"2025-05-08T22:00\",\"2025-05-08T23:00\"],\"temperature_2m\":[26.2,25.5,25.5,25.2,25.6,27.0,28.6,29.5,30.3,31.2,31.9,32.3,32.5,32.6,32.4,31.4,29.8,28.9,27.5,26.7,26.2,25.7,25.5,25.2,24.7,24.5,24.3,24.2,24.3,24.9,25.9,27.1,27.9,28.9,30.1,30.6,31.1,31.2,31.0,30.1,28.8,27.9,27.2,26.7,26.4,26.1,26.0,25.7,25.2,25.0,24.9,24.8,25.2,26.2,27.7,28.8,29.9,31.1,32.3,33.0,33.3,33.2,32.8,31.2,29.3,28.5,27.9,27.5,27.1,26.8,26.6,26.5,26.4,26.1,25.5,25.1,25.2,25.6,26.0,27.7,29.0,29.9,30.7,31.1,31.2,30.9,30.2,29.4,28.7,27.9,27.3,26.7,26.3,25.9,25.6,25.3,25.1,24.9,24.7,24.8,25.5,26.4,27.4,28.4,29.5,30.3,30.9,31.4,31.6,31.6,31.4,31.0,30.3,29.5,28.6,27.8,27.1,26.5,26.2,26.1,26.0,25.7,25.4,25.4,26.0,26.8,27.5,29.3,30.6,31.7,32.5,32.9,33.1,32.7,32.1,31.3,30.5,29.7,28.9,28.4,27.9,27.5,27.1,26.8,26.4,25.8,25.1,25.0,25.6,26.7,28.0,29.5,31.1,32.4,33.3,34.0,34.2,33.8,33.1,32.2,31.0,29.6,28.5,28.0,27.8,27.6,27.3,27.0],\"rain\":[0.00,0.00,0.00,0.00,0.00,0.00,0.00,0.00,0.00,0.00,0.00,0.00,0.00,0.00,0.00,0.00,0.00,0.00,0.00,0.00,0.00,0.00,0.00,0.00,0.00,0.00,0.00,0.00,0.00,0.00,0.00,0.00,0.00,0.00,0.00,0.00,0.00,0.00,0.00,0.00,0.00,0.00,0.00,0.00,0.00,0.00,0.00,0.00,0.00,0.00,0.00,0.00,0.00,0.00,0.00,0.00,0.00,0.00,0.00,0.00,0.00,0.00,0.00,0.00,0.00,0.00,0.00,0.00,0.00,0.00,0.00,0.00,0.00,0.00,0.00,0.00,0.00,0.00,0.00,0.00,0.00,0.00,0.00,0.00,0.00,0.00,0.00,0.00,0.00,0.00,0.00,0.00,0.00,0.00,0.00,0.00,0.00,0.00,0.00,0.00,0.00,0.00,0.00,0.00,0.00,0.00,0.00,0.00,0.00,0.00,0.00,0.00,0.00,0.00,0.00,0.00,0.00,0.00,0.00,0.00,0.00,0.00,0.00,0.00,0.00,0.00,0.00,0.00,0.00,0.00,0.00,0.00,0.00,0.00,0.00,0.00,0.00,0.00,0.00,0.00,0.00,0.00,0.00,0.00,0.00,0.00,0.00,0.00,0.00,0.00,0.00,0.00,0.00,0.00,0.00,0.00,0.00,0.00,0.00,0.00,0.00,0.00,0.00,0.00,0.00,0.00,0.00,0.00],\"precipitation\":[0.20,0.10,0.00,0.00,0.00,0.00,0.00,0.10,0.10,0.00,0.00,0.10,0.00,0.00,0.00,0.00,0.00,0.00,0.00,0.00,0.60,1.20,2.10,2.30,2.00,2.70,2.00,1.20,0.00,0.00,0.00,0.00,0.10,0.20,0.00,0.00,0.00,0.00,0.00,0.00,0.00,0.00,0.00,0.00,0.00,0.00,0.00,0.50,0.10,0.00,0.00,0.00,0.00,0.00,0.00,0.00,0.00,0.00,0.00,0.00,0.00,0.00,0.00,0.00,0.00,0.00,0.00,0.00,0.00,0.00,0.00,0.00,0.00,0.40,1.50,1.80,1.50,1.10,0.50,0.00,0.00,0.00,0.10,0.00,0.00,0.10,0.10,0.10,0.20,0.20,0.20,0.50,0.50,0.50,0.60,0.60,0.60,0.60,0.60,0.60,0.00,0.00,0.00,0.20,0.20,0.20,0.10,0.10,0.10,0.00,0.00,0.00,0.00,0.00,0.00,0.20,0.20,0.20,0.20,0.20,0.20,0.20,0.20,0.20,0.10,0.10,0.10,0.00,0.00,0.00,0.00,0.00,0.00,0.00,0.00,0.00,0.00,0.00,0.00,0.00,0.00,0.00,0.00,0.00,0.00,0.00,0.00,0.00,0.00,0.00,0.00,0.00,0.00,0.00,0.00,0.00,0.00,0.00,0.00,0.00,0.00,0.00,0.00,0.00,0.00,0.00,0.00,0.00],\"relative_humidity_2m\":[81,84,84,85,85,79,72,68,64,59,57,56,54,53,52,57,67,72,77,81,82,83,84,85,88,89,89,89,90,85,81,76,73,69,65,62,59,58,59,64,71,75,81,83,84,84,85,84,88,89,89,89,87,84,75,70,66,60,54,50,48,47,48,56,69,76,77,80,82,83,84,84,84,84,86,86,86,83,79,73,68,65,63,62,62,64,67,70,74,79,83,86,88,90,91,92,92,92,91,89,86,81,77,72,67,63,62,62,63,63,62,63,66,70,74,78,81,83,83,82,82,83,84,84,81,76,73,65,59,54,51,50,50,52,55,59,63,67,70,71,72,72,71,71,70,71,72,72,71,68,65,60,54,49,46,44,44,45,48,52,57,62,66,68,69,69,69,69]}}\n",
      "Bormes les Mimosas OK (6.34391, 43.120819)\n",
      "Status code: 200\n",
      "URL: https://api.open-meteo.com/v1/forecast?latitude=5.540576&longitude=43.213074&hourly=temperature_2m&hourly=rain&hourly=precipitation&hourly=relative_humidity_2m\n",
      "Response: {\"latitude\":5.5,\"longitude\":43.25,\"generationtime_ms\":0.20647048950195312,\"utc_offset_seconds\":0,\"timezone\":\"GMT\",\"timezone_abbreviation\":\"GMT\",\"elevation\":516.0,\"hourly_units\":{\"time\":\"iso8601\",\"temperature_2m\":\"°C\",\"rain\":\"mm\",\"precipitation\":\"mm\",\"relative_humidity_2m\":\"%\"},\"hourly\":{\"time\":[\"2025-05-02T00:00\",\"2025-05-02T01:00\",\"2025-05-02T02:00\",\"2025-05-02T03:00\",\"2025-05-02T04:00\",\"2025-05-02T05:00\",\"2025-05-02T06:00\",\"2025-05-02T07:00\",\"2025-05-02T08:00\",\"2025-05-02T09:00\",\"2025-05-02T10:00\",\"2025-05-02T11:00\",\"2025-05-02T12:00\",\"2025-05-02T13:00\",\"2025-05-02T14:00\",\"2025-05-02T15:00\",\"2025-05-02T16:00\",\"2025-05-02T17:00\",\"2025-05-02T18:00\",\"2025-05-02T19:00\",\"2025-05-02T20:00\",\"2025-05-02T21:00\",\"2025-05-02T22:00\",\"2025-05-02T23:00\",\"2025-05-03T00:00\",\"2025-05-03T01:00\",\"2025-05-03T02:00\",\"2025-05-03T03:00\",\"2025-05-03T04:00\",\"2025-05-03T05:00\",\"2025-05-03T06:00\",\"2025-05-03T07:00\",\"2025-05-03T08:00\",\"2025-05-03T09:00\",\"2025-05-03T10:00\",\"2025-05-03T11:00\",\"2025-05-03T12:00\",\"2025-05-03T13:00\",\"2025-05-03T14:00\",\"2025-05-03T15:00\",\"2025-05-03T16:00\",\"2025-05-03T17:00\",\"2025-05-03T18:00\",\"2025-05-03T19:00\",\"2025-05-03T20:00\",\"2025-05-03T21:00\",\"2025-05-03T22:00\",\"2025-05-03T23:00\",\"2025-05-04T00:00\",\"2025-05-04T01:00\",\"2025-05-04T02:00\",\"2025-05-04T03:00\",\"2025-05-04T04:00\",\"2025-05-04T05:00\",\"2025-05-04T06:00\",\"2025-05-04T07:00\",\"2025-05-04T08:00\",\"2025-05-04T09:00\",\"2025-05-04T10:00\",\"2025-05-04T11:00\",\"2025-05-04T12:00\",\"2025-05-04T13:00\",\"2025-05-04T14:00\",\"2025-05-04T15:00\",\"2025-05-04T16:00\",\"2025-05-04T17:00\",\"2025-05-04T18:00\",\"2025-05-04T19:00\",\"2025-05-04T20:00\",\"2025-05-04T21:00\",\"2025-05-04T22:00\",\"2025-05-04T23:00\",\"2025-05-05T00:00\",\"2025-05-05T01:00\",\"2025-05-05T02:00\",\"2025-05-05T03:00\",\"2025-05-05T04:00\",\"2025-05-05T05:00\",\"2025-05-05T06:00\",\"2025-05-05T07:00\",\"2025-05-05T08:00\",\"2025-05-05T09:00\",\"2025-05-05T10:00\",\"2025-05-05T11:00\",\"2025-05-05T12:00\",\"2025-05-05T13:00\",\"2025-05-05T14:00\",\"2025-05-05T15:00\",\"2025-05-05T16:00\",\"2025-05-05T17:00\",\"2025-05-05T18:00\",\"2025-05-05T19:00\",\"2025-05-05T20:00\",\"2025-05-05T21:00\",\"2025-05-05T22:00\",\"2025-05-05T23:00\",\"2025-05-06T00:00\",\"2025-05-06T01:00\",\"2025-05-06T02:00\",\"2025-05-06T03:00\",\"2025-05-06T04:00\",\"2025-05-06T05:00\",\"2025-05-06T06:00\",\"2025-05-06T07:00\",\"2025-05-06T08:00\",\"2025-05-06T09:00\",\"2025-05-06T10:00\",\"2025-05-06T11:00\",\"2025-05-06T12:00\",\"2025-05-06T13:00\",\"2025-05-06T14:00\",\"2025-05-06T15:00\",\"2025-05-06T16:00\",\"2025-05-06T17:00\",\"2025-05-06T18:00\",\"2025-05-06T19:00\",\"2025-05-06T20:00\",\"2025-05-06T21:00\",\"2025-05-06T22:00\",\"2025-05-06T23:00\",\"2025-05-07T00:00\",\"2025-05-07T01:00\",\"2025-05-07T02:00\",\"2025-05-07T03:00\",\"2025-05-07T04:00\",\"2025-05-07T05:00\",\"2025-05-07T06:00\",\"2025-05-07T07:00\",\"2025-05-07T08:00\",\"2025-05-07T09:00\",\"2025-05-07T10:00\",\"2025-05-07T11:00\",\"2025-05-07T12:00\",\"2025-05-07T13:00\",\"2025-05-07T14:00\",\"2025-05-07T15:00\",\"2025-05-07T16:00\",\"2025-05-07T17:00\",\"2025-05-07T18:00\",\"2025-05-07T19:00\",\"2025-05-07T20:00\",\"2025-05-07T21:00\",\"2025-05-07T22:00\",\"2025-05-07T23:00\",\"2025-05-08T00:00\",\"2025-05-08T01:00\",\"2025-05-08T02:00\",\"2025-05-08T03:00\",\"2025-05-08T04:00\",\"2025-05-08T05:00\",\"2025-05-08T06:00\",\"2025-05-08T07:00\",\"2025-05-08T08:00\",\"2025-05-08T09:00\",\"2025-05-08T10:00\",\"2025-05-08T11:00\",\"2025-05-08T12:00\",\"2025-05-08T13:00\",\"2025-05-08T14:00\",\"2025-05-08T15:00\",\"2025-05-08T16:00\",\"2025-05-08T17:00\",\"2025-05-08T18:00\",\"2025-05-08T19:00\",\"2025-05-08T20:00\",\"2025-05-08T21:00\",\"2025-05-08T22:00\",\"2025-05-08T23:00\"],\"temperature_2m\":[24.3,23.9,23.5,23.3,24.2,26.3,28.4,29.9,30.8,31.2,31.5,31.9,32.0,31.5,31.2,30.2,29.0,27.8,26.7,25.7,25.1,24.8,24.2,23.6,23.3,22.9,22.7,22.7,23.0,24.1,25.7,27.3,29.1,29.9,30.1,29.4,29.8,29.9,28.7,28.2,27.2,26.5,25.8,25.4,25.1,24.7,24.4,24.0,23.7,23.4,23.2,23.0,23.8,25.4,27.1,28.7,30.0,31.1,31.5,31.4,30.2,30.4,30.0,29.0,28.1,27.3,26.6,26.1,25.8,25.4,25.1,24.6,24.2,23.9,23.6,23.2,23.9,25.5,27.4,28.6,29.7,30.2,30.4,30.5,30.2,29.8,29.2,28.5,27.7,26.7,25.9,25.4,25.1,24.8,24.6,24.4,24.3,24.0,23.7,23.8,24.7,26.1,27.5,28.7,29.9,30.8,31.3,31.6,31.5,31.2,30.6,29.8,28.8,27.6,26.6,26.1,25.9,25.6,25.2,24.8,24.4,24.0,23.7,23.8,24.6,25.9,26.9,28.1,29.6,30.8,31.7,32.4,32.6,32.3,31.6,30.7,29.6,28.3,27.3,26.7,26.4,26.0,25.6,25.2,24.7,24.1,23.4,23.3,24.3,25.8,27.4,28.8,30.3,31.5,32.4,33.0,33.2,32.8,32.1,31.2,30.0,28.7,27.6,27.0,26.7,26.4,25.9,25.5],\"rain\":[0.00,0.00,0.00,0.00,0.00,0.00,0.00,0.00,0.00,0.00,0.00,0.00,0.00,0.00,0.00,0.00,0.00,0.00,0.00,0.00,0.00,0.00,0.00,0.00,0.00,0.00,0.00,0.00,0.00,0.00,0.00,0.00,0.00,0.00,0.00,0.00,0.00,0.00,0.00,0.00,0.00,0.00,0.00,0.00,0.00,0.00,0.00,0.00,0.00,0.00,0.00,0.00,0.00,0.00,0.00,0.00,0.00,0.00,0.00,0.00,0.00,0.00,0.00,0.00,0.00,0.00,0.00,0.00,0.00,0.00,0.00,0.00,0.00,0.00,0.00,0.00,0.00,0.00,0.00,0.00,0.00,0.00,0.00,0.00,0.00,0.00,0.00,0.00,0.00,0.00,0.00,0.00,0.00,0.00,0.00,0.00,0.00,0.00,0.00,0.00,0.00,0.00,0.00,0.00,0.00,0.00,0.00,0.00,0.00,0.00,0.00,0.00,0.00,0.00,0.00,0.00,0.00,0.00,0.00,0.00,0.00,0.00,0.00,0.00,0.00,0.00,0.00,0.00,0.00,0.00,0.00,0.00,0.00,0.00,0.00,0.00,0.00,0.00,0.00,0.00,0.00,0.00,0.00,0.00,0.00,0.00,0.00,0.00,0.00,0.00,0.00,0.00,0.00,0.00,0.00,0.00,0.00,0.00,0.00,0.00,0.00,0.00,0.00,0.00,0.00,0.00,0.00,0.00],\"precipitation\":[0.00,0.00,0.00,0.00,0.00,0.00,0.00,0.00,0.00,0.00,0.00,0.00,0.00,0.00,0.00,0.10,0.00,0.00,0.00,0.00,0.40,0.20,0.60,0.80,0.70,0.70,1.10,1.50,0.30,0.00,0.00,0.10,0.10,0.00,0.00,0.20,0.00,0.10,0.20,0.00,0.00,0.00,0.00,0.00,0.00,0.00,0.00,0.00,0.00,0.00,0.00,0.00,0.00,0.00,0.00,0.10,0.00,0.00,0.00,0.10,0.40,0.10,0.10,0.10,0.00,0.00,0.00,0.00,0.00,0.00,0.00,0.00,0.00,0.00,0.00,0.00,0.00,0.00,0.00,0.10,0.00,0.00,0.00,0.10,0.10,0.20,0.20,0.20,0.00,0.00,0.00,0.00,0.00,0.00,0.00,0.00,0.00,0.00,0.00,0.00,0.00,0.00,0.00,0.10,0.10,0.10,0.00,0.00,0.00,0.10,0.10,0.10,0.00,0.00,0.00,0.00,0.00,0.00,0.00,0.00,0.00,0.00,0.00,0.00,0.00,0.00,0.00,0.00,0.00,0.00,0.10,0.10,0.10,0.00,0.00,0.00,0.00,0.00,0.00,0.00,0.00,0.00,0.00,0.00,0.00,0.00,0.00,0.00,0.00,0.00,0.00,0.00,0.00,0.00,0.00,0.00,0.00,0.00,0.00,0.00,0.00,0.00,0.00,0.00,0.00,0.00,0.00,0.00],\"relative_humidity_2m\":[85,87,89,89,86,76,70,64,61,58,55,53,52,54,56,58,65,71,75,80,82,81,83,86,88,89,89,90,89,85,79,72,66,63,62,64,63,63,66,69,74,77,82,86,85,86,87,89,92,94,95,96,93,84,75,67,61,59,56,56,62,62,61,66,70,73,76,78,79,81,82,85,87,89,90,90,88,80,72,67,63,60,60,60,60,61,62,65,70,77,82,84,85,85,85,86,86,88,89,89,84,77,71,66,62,58,55,54,53,53,54,56,61,66,71,73,73,74,76,77,79,81,83,83,79,73,69,64,57,52,48,45,44,44,46,48,52,57,61,63,63,64,66,69,73,78,84,86,83,76,69,62,55,50,47,45,44,45,46,49,52,56,60,63,65,67,70,73]}}\n",
      "Cassis OK (5.540576, 43.213074)\n",
      "Status code: 200\n",
      "URL: https://api.open-meteo.com/v1/forecast?latitude=5.367037&longitude=43.269776&hourly=temperature_2m&hourly=rain&hourly=precipitation&hourly=relative_humidity_2m\n",
      "Response: {\"latitude\":5.375,\"longitude\":43.25,\"generationtime_ms\":0.045418739318847656,\"utc_offset_seconds\":0,\"timezone\":\"GMT\",\"timezone_abbreviation\":\"GMT\",\"elevation\":544.0,\"hourly_units\":{\"time\":\"iso8601\",\"temperature_2m\":\"°C\",\"rain\":\"mm\",\"precipitation\":\"mm\",\"relative_humidity_2m\":\"%\"},\"hourly\":{\"time\":[\"2025-05-02T00:00\",\"2025-05-02T01:00\",\"2025-05-02T02:00\",\"2025-05-02T03:00\",\"2025-05-02T04:00\",\"2025-05-02T05:00\",\"2025-05-02T06:00\",\"2025-05-02T07:00\",\"2025-05-02T08:00\",\"2025-05-02T09:00\",\"2025-05-02T10:00\",\"2025-05-02T11:00\",\"2025-05-02T12:00\",\"2025-05-02T13:00\",\"2025-05-02T14:00\",\"2025-05-02T15:00\",\"2025-05-02T16:00\",\"2025-05-02T17:00\",\"2025-05-02T18:00\",\"2025-05-02T19:00\",\"2025-05-02T20:00\",\"2025-05-02T21:00\",\"2025-05-02T22:00\",\"2025-05-02T23:00\",\"2025-05-03T00:00\",\"2025-05-03T01:00\",\"2025-05-03T02:00\",\"2025-05-03T03:00\",\"2025-05-03T04:00\",\"2025-05-03T05:00\",\"2025-05-03T06:00\",\"2025-05-03T07:00\",\"2025-05-03T08:00\",\"2025-05-03T09:00\",\"2025-05-03T10:00\",\"2025-05-03T11:00\",\"2025-05-03T12:00\",\"2025-05-03T13:00\",\"2025-05-03T14:00\",\"2025-05-03T15:00\",\"2025-05-03T16:00\",\"2025-05-03T17:00\",\"2025-05-03T18:00\",\"2025-05-03T19:00\",\"2025-05-03T20:00\",\"2025-05-03T21:00\",\"2025-05-03T22:00\",\"2025-05-03T23:00\",\"2025-05-04T00:00\",\"2025-05-04T01:00\",\"2025-05-04T02:00\",\"2025-05-04T03:00\",\"2025-05-04T04:00\",\"2025-05-04T05:00\",\"2025-05-04T06:00\",\"2025-05-04T07:00\",\"2025-05-04T08:00\",\"2025-05-04T09:00\",\"2025-05-04T10:00\",\"2025-05-04T11:00\",\"2025-05-04T12:00\",\"2025-05-04T13:00\",\"2025-05-04T14:00\",\"2025-05-04T15:00\",\"2025-05-04T16:00\",\"2025-05-04T17:00\",\"2025-05-04T18:00\",\"2025-05-04T19:00\",\"2025-05-04T20:00\",\"2025-05-04T21:00\",\"2025-05-04T22:00\",\"2025-05-04T23:00\",\"2025-05-05T00:00\",\"2025-05-05T01:00\",\"2025-05-05T02:00\",\"2025-05-05T03:00\",\"2025-05-05T04:00\",\"2025-05-05T05:00\",\"2025-05-05T06:00\",\"2025-05-05T07:00\",\"2025-05-05T08:00\",\"2025-05-05T09:00\",\"2025-05-05T10:00\",\"2025-05-05T11:00\",\"2025-05-05T12:00\",\"2025-05-05T13:00\",\"2025-05-05T14:00\",\"2025-05-05T15:00\",\"2025-05-05T16:00\",\"2025-05-05T17:00\",\"2025-05-05T18:00\",\"2025-05-05T19:00\",\"2025-05-05T20:00\",\"2025-05-05T21:00\",\"2025-05-05T22:00\",\"2025-05-05T23:00\",\"2025-05-06T00:00\",\"2025-05-06T01:00\",\"2025-05-06T02:00\",\"2025-05-06T03:00\",\"2025-05-06T04:00\",\"2025-05-06T05:00\",\"2025-05-06T06:00\",\"2025-05-06T07:00\",\"2025-05-06T08:00\",\"2025-05-06T09:00\",\"2025-05-06T10:00\",\"2025-05-06T11:00\",\"2025-05-06T12:00\",\"2025-05-06T13:00\",\"2025-05-06T14:00\",\"2025-05-06T15:00\",\"2025-05-06T16:00\",\"2025-05-06T17:00\",\"2025-05-06T18:00\",\"2025-05-06T19:00\",\"2025-05-06T20:00\",\"2025-05-06T21:00\",\"2025-05-06T22:00\",\"2025-05-06T23:00\",\"2025-05-07T00:00\",\"2025-05-07T01:00\",\"2025-05-07T02:00\",\"2025-05-07T03:00\",\"2025-05-07T04:00\",\"2025-05-07T05:00\",\"2025-05-07T06:00\",\"2025-05-07T07:00\",\"2025-05-07T08:00\",\"2025-05-07T09:00\",\"2025-05-07T10:00\",\"2025-05-07T11:00\",\"2025-05-07T12:00\",\"2025-05-07T13:00\",\"2025-05-07T14:00\",\"2025-05-07T15:00\",\"2025-05-07T16:00\",\"2025-05-07T17:00\",\"2025-05-07T18:00\",\"2025-05-07T19:00\",\"2025-05-07T20:00\",\"2025-05-07T21:00\",\"2025-05-07T22:00\",\"2025-05-07T23:00\",\"2025-05-08T00:00\",\"2025-05-08T01:00\",\"2025-05-08T02:00\",\"2025-05-08T03:00\",\"2025-05-08T04:00\",\"2025-05-08T05:00\",\"2025-05-08T06:00\",\"2025-05-08T07:00\",\"2025-05-08T08:00\",\"2025-05-08T09:00\",\"2025-05-08T10:00\",\"2025-05-08T11:00\",\"2025-05-08T12:00\",\"2025-05-08T13:00\",\"2025-05-08T14:00\",\"2025-05-08T15:00\",\"2025-05-08T16:00\",\"2025-05-08T17:00\",\"2025-05-08T18:00\",\"2025-05-08T19:00\",\"2025-05-08T20:00\",\"2025-05-08T21:00\",\"2025-05-08T22:00\",\"2025-05-08T23:00\"],\"temperature_2m\":[24.0,23.7,23.4,23.1,24.1,26.0,28.0,29.1,30.2,31.1,31.2,31.8,31.8,31.5,30.9,30.0,28.4,27.1,25.9,25.3,24.9,24.5,23.8,23.2,22.7,22.5,22.5,22.4,22.9,24.2,26.1,27.3,28.4,29.8,29.9,30.1,29.9,29.9,29.4,28.2,27.1,26.3,25.7,25.3,25.1,24.7,24.3,23.9,23.6,23.3,23.1,22.9,23.8,25.6,27.3,28.4,29.5,30.7,31.3,31.0,30.8,30.3,29.9,29.3,27.9,27.2,26.5,26.0,25.6,25.2,25.0,24.3,23.9,23.6,23.3,23.0,23.7,25.3,26.8,27.8,29.1,29.9,29.9,30.1,30.0,29.6,29.1,28.4,27.5,26.5,25.7,25.3,25.1,24.9,24.6,24.2,24.0,23.7,23.4,23.6,24.5,25.8,27.1,28.3,29.4,30.3,30.9,31.3,31.4,31.1,30.4,29.6,28.7,27.7,26.9,26.4,26.0,25.7,25.2,24.8,24.4,23.9,23.5,23.6,24.4,25.7,26.6,27.7,29.3,30.7,31.6,32.3,32.5,32.1,31.4,30.5,29.5,28.4,27.5,27.0,26.6,26.2,25.6,25.0,24.4,23.7,23.1,23.0,23.9,25.3,26.8,28.2,29.7,31.0,31.9,32.6,32.8,32.5,31.8,31.0,30.1,29.0,28.1,27.3,26.6,26.0,25.5,25.0],\"rain\":[0.00,0.00,0.00,0.00,0.00,0.00,0.00,0.00,0.00,0.00,0.00,0.00,0.00,0.00,0.00,0.00,0.00,0.00,0.00,0.00,0.00,0.00,0.00,0.00,0.00,0.00,0.00,0.00,0.00,0.00,0.00,0.00,0.00,0.00,0.00,0.00,0.00,0.00,0.00,0.00,0.00,0.00,0.00,0.00,0.00,0.00,0.00,0.00,0.00,0.00,0.00,0.00,0.00,0.00,0.00,0.00,0.00,0.00,0.00,0.00,0.00,0.00,0.00,0.00,0.00,0.00,0.00,0.00,0.00,0.00,0.00,0.00,0.00,0.00,0.00,0.00,0.00,0.00,0.00,0.00,0.00,0.00,0.00,0.00,0.00,0.00,0.00,0.00,0.00,0.00,0.00,0.00,0.00,0.00,0.00,0.00,0.00,0.00,0.00,0.00,0.00,0.00,0.00,0.00,0.00,0.00,0.00,0.00,0.00,0.00,0.00,0.00,0.00,0.00,0.00,0.00,0.00,0.00,0.00,0.00,0.00,0.00,0.00,0.00,0.00,0.00,0.00,0.00,0.00,0.00,0.00,0.00,0.00,0.00,0.00,0.00,0.00,0.00,0.00,0.00,0.00,0.00,0.00,0.00,0.00,0.00,0.00,0.00,0.00,0.00,0.00,0.00,0.00,0.00,0.00,0.00,0.00,0.00,0.00,0.00,0.00,0.00,0.00,0.00,0.00,0.00,0.00,0.00],\"precipitation\":[0.00,0.00,0.00,0.00,0.00,0.00,0.00,0.00,0.00,0.00,0.10,0.00,0.10,0.00,0.00,0.00,0.00,0.10,0.30,0.20,0.10,0.00,0.20,0.50,0.80,0.50,0.30,1.00,0.00,0.00,0.00,0.10,0.10,0.00,0.00,0.00,0.00,0.00,0.10,0.00,0.00,0.00,0.00,0.00,0.00,0.00,0.00,0.00,0.00,0.00,0.00,0.00,0.00,0.00,0.00,0.10,0.00,0.00,0.00,0.10,0.00,0.10,0.10,0.00,0.00,0.00,0.00,0.00,0.00,0.00,0.00,0.00,0.00,0.00,0.00,0.00,0.00,0.00,0.00,0.80,0.10,0.10,0.10,0.10,0.00,0.00,0.00,0.00,0.00,0.00,0.00,0.00,0.00,0.00,0.00,0.00,0.00,0.00,0.00,0.00,0.00,0.00,0.00,0.10,0.10,0.10,0.00,0.00,0.00,0.00,0.00,0.00,0.00,0.00,0.00,0.00,0.00,0.00,0.00,0.00,0.00,0.00,0.00,0.00,0.00,0.00,0.00,0.00,0.00,0.00,0.00,0.00,0.00,0.00,0.00,0.00,0.00,0.00,0.00,0.00,0.00,0.00,0.00,0.00,0.00,0.00,0.00,0.00,0.00,0.00,0.00,0.00,0.00,0.00,0.00,0.00,0.00,0.00,0.00,0.00,0.00,0.00,0.00,0.00,0.00,0.00,0.00,0.00],\"relative_humidity_2m\":[87,87,89,89,86,77,71,66,61,58,57,54,54,55,55,59,66,73,80,82,83,82,84,89,91,90,89,90,89,84,76,71,68,64,62,60,60,60,62,67,74,80,84,84,83,85,87,90,93,95,95,96,93,84,74,69,65,60,58,57,58,60,60,62,69,73,76,78,80,82,84,87,89,91,92,92,89,80,74,71,66,63,61,61,60,60,61,63,69,77,83,84,83,83,84,86,87,89,90,89,85,78,72,67,63,59,56,54,53,53,53,55,59,65,70,72,73,74,76,78,80,82,85,85,81,75,71,65,58,52,48,45,43,43,45,47,51,56,60,62,62,64,67,72,76,81,87,89,85,78,71,64,57,52,48,46,45,45,46,48,51,54,58,62,65,69,72,75]}}\n",
      "Marseille OK (5.367037, 43.269776)\n",
      "Status code: 200\n",
      "URL: https://api.open-meteo.com/v1/forecast?latitude=5.38086&longitude=43.518436&hourly=temperature_2m&hourly=rain&hourly=precipitation&hourly=relative_humidity_2m\n",
      "Response: {\"latitude\":5.375,\"longitude\":43.5,\"generationtime_ms\":0.030994415283203125,\"utc_offset_seconds\":0,\"timezone\":\"GMT\",\"timezone_abbreviation\":\"GMT\",\"elevation\":626.0,\"hourly_units\":{\"time\":\"iso8601\",\"temperature_2m\":\"°C\",\"rain\":\"mm\",\"precipitation\":\"mm\",\"relative_humidity_2m\":\"%\"},\"hourly\":{\"time\":[\"2025-05-02T00:00\",\"2025-05-02T01:00\",\"2025-05-02T02:00\",\"2025-05-02T03:00\",\"2025-05-02T04:00\",\"2025-05-02T05:00\",\"2025-05-02T06:00\",\"2025-05-02T07:00\",\"2025-05-02T08:00\",\"2025-05-02T09:00\",\"2025-05-02T10:00\",\"2025-05-02T11:00\",\"2025-05-02T12:00\",\"2025-05-02T13:00\",\"2025-05-02T14:00\",\"2025-05-02T15:00\",\"2025-05-02T16:00\",\"2025-05-02T17:00\",\"2025-05-02T18:00\",\"2025-05-02T19:00\",\"2025-05-02T20:00\",\"2025-05-02T21:00\",\"2025-05-02T22:00\",\"2025-05-02T23:00\",\"2025-05-03T00:00\",\"2025-05-03T01:00\",\"2025-05-03T02:00\",\"2025-05-03T03:00\",\"2025-05-03T04:00\",\"2025-05-03T05:00\",\"2025-05-03T06:00\",\"2025-05-03T07:00\",\"2025-05-03T08:00\",\"2025-05-03T09:00\",\"2025-05-03T10:00\",\"2025-05-03T11:00\",\"2025-05-03T12:00\",\"2025-05-03T13:00\",\"2025-05-03T14:00\",\"2025-05-03T15:00\",\"2025-05-03T16:00\",\"2025-05-03T17:00\",\"2025-05-03T18:00\",\"2025-05-03T19:00\",\"2025-05-03T20:00\",\"2025-05-03T21:00\",\"2025-05-03T22:00\",\"2025-05-03T23:00\",\"2025-05-04T00:00\",\"2025-05-04T01:00\",\"2025-05-04T02:00\",\"2025-05-04T03:00\",\"2025-05-04T04:00\",\"2025-05-04T05:00\",\"2025-05-04T06:00\",\"2025-05-04T07:00\",\"2025-05-04T08:00\",\"2025-05-04T09:00\",\"2025-05-04T10:00\",\"2025-05-04T11:00\",\"2025-05-04T12:00\",\"2025-05-04T13:00\",\"2025-05-04T14:00\",\"2025-05-04T15:00\",\"2025-05-04T16:00\",\"2025-05-04T17:00\",\"2025-05-04T18:00\",\"2025-05-04T19:00\",\"2025-05-04T20:00\",\"2025-05-04T21:00\",\"2025-05-04T22:00\",\"2025-05-04T23:00\",\"2025-05-05T00:00\",\"2025-05-05T01:00\",\"2025-05-05T02:00\",\"2025-05-05T03:00\",\"2025-05-05T04:00\",\"2025-05-05T05:00\",\"2025-05-05T06:00\",\"2025-05-05T07:00\",\"2025-05-05T08:00\",\"2025-05-05T09:00\",\"2025-05-05T10:00\",\"2025-05-05T11:00\",\"2025-05-05T12:00\",\"2025-05-05T13:00\",\"2025-05-05T14:00\",\"2025-05-05T15:00\",\"2025-05-05T16:00\",\"2025-05-05T17:00\",\"2025-05-05T18:00\",\"2025-05-05T19:00\",\"2025-05-05T20:00\",\"2025-05-05T21:00\",\"2025-05-05T22:00\",\"2025-05-05T23:00\",\"2025-05-06T00:00\",\"2025-05-06T01:00\",\"2025-05-06T02:00\",\"2025-05-06T03:00\",\"2025-05-06T04:00\",\"2025-05-06T05:00\",\"2025-05-06T06:00\",\"2025-05-06T07:00\",\"2025-05-06T08:00\",\"2025-05-06T09:00\",\"2025-05-06T10:00\",\"2025-05-06T11:00\",\"2025-05-06T12:00\",\"2025-05-06T13:00\",\"2025-05-06T14:00\",\"2025-05-06T15:00\",\"2025-05-06T16:00\",\"2025-05-06T17:00\",\"2025-05-06T18:00\",\"2025-05-06T19:00\",\"2025-05-06T20:00\",\"2025-05-06T21:00\",\"2025-05-06T22:00\",\"2025-05-06T23:00\",\"2025-05-07T00:00\",\"2025-05-07T01:00\",\"2025-05-07T02:00\",\"2025-05-07T03:00\",\"2025-05-07T04:00\",\"2025-05-07T05:00\",\"2025-05-07T06:00\",\"2025-05-07T07:00\",\"2025-05-07T08:00\",\"2025-05-07T09:00\",\"2025-05-07T10:00\",\"2025-05-07T11:00\",\"2025-05-07T12:00\",\"2025-05-07T13:00\",\"2025-05-07T14:00\",\"2025-05-07T15:00\",\"2025-05-07T16:00\",\"2025-05-07T17:00\",\"2025-05-07T18:00\",\"2025-05-07T19:00\",\"2025-05-07T20:00\",\"2025-05-07T21:00\",\"2025-05-07T22:00\",\"2025-05-07T23:00\",\"2025-05-08T00:00\",\"2025-05-08T01:00\",\"2025-05-08T02:00\",\"2025-05-08T03:00\",\"2025-05-08T04:00\",\"2025-05-08T05:00\",\"2025-05-08T06:00\",\"2025-05-08T07:00\",\"2025-05-08T08:00\",\"2025-05-08T09:00\",\"2025-05-08T10:00\",\"2025-05-08T11:00\",\"2025-05-08T12:00\",\"2025-05-08T13:00\",\"2025-05-08T14:00\",\"2025-05-08T15:00\",\"2025-05-08T16:00\",\"2025-05-08T17:00\",\"2025-05-08T18:00\",\"2025-05-08T19:00\",\"2025-05-08T20:00\",\"2025-05-08T21:00\",\"2025-05-08T22:00\",\"2025-05-08T23:00\"],\"temperature_2m\":[23.6,23.2,22.9,22.8,23.7,25.6,27.3,28.6,29.9,30.7,30.9,31.3,31.1,30.5,30.2,29.5,27.8,26.3,25.6,25.1,24.7,24.3,23.7,23.1,22.6,22.3,22.2,21.8,22.3,23.7,25.6,26.9,27.8,29.0,29.2,29.1,28.8,28.8,28.6,27.5,26.6,25.9,25.4,25.0,24.7,24.4,23.9,23.6,23.2,22.9,22.6,22.4,23.3,25.1,26.7,27.7,29.0,29.9,30.4,30.1,30.1,29.6,28.9,28.2,27.3,26.6,26.0,25.6,25.3,24.8,24.5,24.0,23.6,23.3,22.9,22.6,23.2,24.8,26.3,27.3,28.6,29.4,29.4,29.6,28.9,28.6,28.2,27.7,27.0,26.1,25.4,25.0,24.7,24.5,24.2,23.9,23.6,23.3,23.0,23.1,23.9,25.2,26.4,27.5,28.7,29.6,30.2,30.6,30.6,30.3,29.6,28.9,28.0,27.1,26.3,25.8,25.5,25.1,24.7,24.3,23.9,23.4,23.0,22.9,23.7,24.9,25.8,26.9,28.6,30.0,30.9,31.5,31.7,31.3,30.5,29.7,28.8,27.8,27.0,26.4,26.0,25.6,25.0,24.3,23.7,23.0,22.4,22.4,23.2,24.5,25.9,27.4,28.9,30.2,31.1,31.8,32.0,31.7,31.0,30.2,29.3,28.3,27.4,26.7,26.1,25.6,25.0,24.4],\"rain\":[0.00,0.00,0.00,0.00,0.00,0.00,0.00,0.00,0.00,0.00,0.00,0.00,0.00,0.00,0.00,0.00,0.00,0.00,0.00,0.00,0.00,0.00,0.00,0.00,0.00,0.00,0.00,0.00,0.00,0.00,0.00,0.00,0.00,0.00,0.00,0.00,0.00,0.00,0.00,0.00,0.00,0.00,0.00,0.00,0.00,0.00,0.00,0.00,0.00,0.00,0.00,0.00,0.00,0.00,0.00,0.00,0.00,0.00,0.00,0.00,0.00,0.00,0.00,0.00,0.00,0.00,0.00,0.00,0.00,0.00,0.00,0.00,0.00,0.00,0.00,0.00,0.00,0.00,0.00,0.00,0.00,0.00,0.00,0.00,0.00,0.00,0.00,0.00,0.00,0.00,0.00,0.00,0.00,0.00,0.00,0.00,0.00,0.00,0.00,0.00,0.00,0.00,0.00,0.00,0.00,0.00,0.00,0.00,0.00,0.00,0.00,0.00,0.00,0.00,0.00,0.00,0.00,0.00,0.00,0.00,0.00,0.00,0.00,0.00,0.00,0.00,0.00,0.00,0.00,0.00,0.00,0.00,0.00,0.00,0.00,0.00,0.00,0.00,0.00,0.00,0.00,0.00,0.00,0.00,0.00,0.00,0.00,0.00,0.00,0.00,0.00,0.00,0.00,0.00,0.00,0.00,0.00,0.00,0.00,0.00,0.00,0.00,0.00,0.00,0.00,0.00,0.00,0.00],\"precipitation\":[0.00,0.00,0.00,0.00,0.00,0.00,0.00,0.00,0.00,0.00,0.00,0.00,0.00,0.00,0.00,0.00,0.10,0.10,0.20,0.10,0.10,0.00,0.00,0.40,0.20,0.00,0.00,0.60,0.10,0.00,0.00,0.00,0.10,0.00,0.00,0.00,0.00,0.00,0.00,0.00,0.00,0.00,0.00,0.00,0.00,0.00,0.00,0.00,0.00,0.00,0.00,0.00,0.00,0.00,0.00,0.10,0.10,0.00,0.00,0.10,0.00,0.10,0.10,0.10,0.00,0.00,0.00,0.00,0.00,0.00,0.00,0.00,0.00,0.00,0.00,0.00,0.00,0.00,0.00,0.50,0.00,0.10,0.10,0.10,0.30,0.10,0.10,0.10,0.00,0.00,0.00,0.00,0.00,0.00,0.00,0.00,0.00,0.10,0.10,0.10,0.00,0.00,0.00,0.20,0.20,0.20,0.00,0.00,0.00,0.00,0.00,0.00,0.00,0.00,0.00,0.00,0.00,0.00,0.00,0.00,0.00,0.00,0.00,0.00,0.00,0.00,0.00,0.00,0.00,0.00,0.00,0.00,0.00,0.00,0.00,0.00,0.00,0.00,0.00,0.00,0.00,0.00,0.00,0.00,0.00,0.00,0.00,0.00,0.00,0.00,0.00,0.00,0.00,0.00,0.00,0.00,0.00,0.00,0.00,0.00,0.00,0.00,0.00,0.00,0.00,0.00,0.00,0.00],\"relative_humidity_2m\":[85,86,88,88,86,77,71,67,62,58,56,54,55,57,57,60,67,78,79,79,81,82,83,88,91,91,89,88,87,83,76,71,68,66,63,63,63,64,64,67,74,79,83,82,83,85,87,90,92,94,95,96,94,84,75,69,63,62,59,59,59,61,64,66,71,75,77,79,80,82,85,88,88,90,93,93,89,81,74,72,67,63,63,62,64,64,65,67,71,76,80,82,83,84,85,87,88,89,91,90,86,80,74,69,65,61,58,56,55,55,55,57,61,67,72,74,75,76,78,79,81,84,87,88,84,78,73,66,58,52,48,45,44,44,46,49,52,56,60,62,65,67,70,74,78,83,88,90,87,80,73,66,59,53,49,47,46,46,48,50,53,56,60,63,67,70,73,77]}}\n",
      "Aix en Provence OK (5.38086, 43.518436)\n",
      "Status code: 200\n",
      "URL: https://api.open-meteo.com/v1/forecast?latitude=4.848282&longitude=43.943164&hourly=temperature_2m&hourly=rain&hourly=precipitation&hourly=relative_humidity_2m\n",
      "Response: {\"latitude\":4.875,\"longitude\":44.0,\"generationtime_ms\":0.03540515899658203,\"utc_offset_seconds\":0,\"timezone\":\"GMT\",\"timezone_abbreviation\":\"GMT\",\"elevation\":552.0,\"hourly_units\":{\"time\":\"iso8601\",\"temperature_2m\":\"°C\",\"rain\":\"mm\",\"precipitation\":\"mm\",\"relative_humidity_2m\":\"%\"},\"hourly\":{\"time\":[\"2025-05-02T00:00\",\"2025-05-02T01:00\",\"2025-05-02T02:00\",\"2025-05-02T03:00\",\"2025-05-02T04:00\",\"2025-05-02T05:00\",\"2025-05-02T06:00\",\"2025-05-02T07:00\",\"2025-05-02T08:00\",\"2025-05-02T09:00\",\"2025-05-02T10:00\",\"2025-05-02T11:00\",\"2025-05-02T12:00\",\"2025-05-02T13:00\",\"2025-05-02T14:00\",\"2025-05-02T15:00\",\"2025-05-02T16:00\",\"2025-05-02T17:00\",\"2025-05-02T18:00\",\"2025-05-02T19:00\",\"2025-05-02T20:00\",\"2025-05-02T21:00\",\"2025-05-02T22:00\",\"2025-05-02T23:00\",\"2025-05-03T00:00\",\"2025-05-03T01:00\",\"2025-05-03T02:00\",\"2025-05-03T03:00\",\"2025-05-03T04:00\",\"2025-05-03T05:00\",\"2025-05-03T06:00\",\"2025-05-03T07:00\",\"2025-05-03T08:00\",\"2025-05-03T09:00\",\"2025-05-03T10:00\",\"2025-05-03T11:00\",\"2025-05-03T12:00\",\"2025-05-03T13:00\",\"2025-05-03T14:00\",\"2025-05-03T15:00\",\"2025-05-03T16:00\",\"2025-05-03T17:00\",\"2025-05-03T18:00\",\"2025-05-03T19:00\",\"2025-05-03T20:00\",\"2025-05-03T21:00\",\"2025-05-03T22:00\",\"2025-05-03T23:00\",\"2025-05-04T00:00\",\"2025-05-04T01:00\",\"2025-05-04T02:00\",\"2025-05-04T03:00\",\"2025-05-04T04:00\",\"2025-05-04T05:00\",\"2025-05-04T06:00\",\"2025-05-04T07:00\",\"2025-05-04T08:00\",\"2025-05-04T09:00\",\"2025-05-04T10:00\",\"2025-05-04T11:00\",\"2025-05-04T12:00\",\"2025-05-04T13:00\",\"2025-05-04T14:00\",\"2025-05-04T15:00\",\"2025-05-04T16:00\",\"2025-05-04T17:00\",\"2025-05-04T18:00\",\"2025-05-04T19:00\",\"2025-05-04T20:00\",\"2025-05-04T21:00\",\"2025-05-04T22:00\",\"2025-05-04T23:00\",\"2025-05-05T00:00\",\"2025-05-05T01:00\",\"2025-05-05T02:00\",\"2025-05-05T03:00\",\"2025-05-05T04:00\",\"2025-05-05T05:00\",\"2025-05-05T06:00\",\"2025-05-05T07:00\",\"2025-05-05T08:00\",\"2025-05-05T09:00\",\"2025-05-05T10:00\",\"2025-05-05T11:00\",\"2025-05-05T12:00\",\"2025-05-05T13:00\",\"2025-05-05T14:00\",\"2025-05-05T15:00\",\"2025-05-05T16:00\",\"2025-05-05T17:00\",\"2025-05-05T18:00\",\"2025-05-05T19:00\",\"2025-05-05T20:00\",\"2025-05-05T21:00\",\"2025-05-05T22:00\",\"2025-05-05T23:00\",\"2025-05-06T00:00\",\"2025-05-06T01:00\",\"2025-05-06T02:00\",\"2025-05-06T03:00\",\"2025-05-06T04:00\",\"2025-05-06T05:00\",\"2025-05-06T06:00\",\"2025-05-06T07:00\",\"2025-05-06T08:00\",\"2025-05-06T09:00\",\"2025-05-06T10:00\",\"2025-05-06T11:00\",\"2025-05-06T12:00\",\"2025-05-06T13:00\",\"2025-05-06T14:00\",\"2025-05-06T15:00\",\"2025-05-06T16:00\",\"2025-05-06T17:00\",\"2025-05-06T18:00\",\"2025-05-06T19:00\",\"2025-05-06T20:00\",\"2025-05-06T21:00\",\"2025-05-06T22:00\",\"2025-05-06T23:00\",\"2025-05-07T00:00\",\"2025-05-07T01:00\",\"2025-05-07T02:00\",\"2025-05-07T03:00\",\"2025-05-07T04:00\",\"2025-05-07T05:00\",\"2025-05-07T06:00\",\"2025-05-07T07:00\",\"2025-05-07T08:00\",\"2025-05-07T09:00\",\"2025-05-07T10:00\",\"2025-05-07T11:00\",\"2025-05-07T12:00\",\"2025-05-07T13:00\",\"2025-05-07T14:00\",\"2025-05-07T15:00\",\"2025-05-07T16:00\",\"2025-05-07T17:00\",\"2025-05-07T18:00\",\"2025-05-07T19:00\",\"2025-05-07T20:00\",\"2025-05-07T21:00\",\"2025-05-07T22:00\",\"2025-05-07T23:00\",\"2025-05-08T00:00\",\"2025-05-08T01:00\",\"2025-05-08T02:00\",\"2025-05-08T03:00\",\"2025-05-08T04:00\",\"2025-05-08T05:00\",\"2025-05-08T06:00\",\"2025-05-08T07:00\",\"2025-05-08T08:00\",\"2025-05-08T09:00\",\"2025-05-08T10:00\",\"2025-05-08T11:00\",\"2025-05-08T12:00\",\"2025-05-08T13:00\",\"2025-05-08T14:00\",\"2025-05-08T15:00\",\"2025-05-08T16:00\",\"2025-05-08T17:00\",\"2025-05-08T18:00\",\"2025-05-08T19:00\",\"2025-05-08T20:00\",\"2025-05-08T21:00\",\"2025-05-08T22:00\",\"2025-05-08T23:00\"],\"temperature_2m\":[23.7,23.6,23.3,23.2,24.0,26.0,28.3,29.8,30.8,31.2,31.5,31.8,31.6,31.3,30.0,28.3,27.2,26.4,25.9,25.4,25.0,24.5,24.1,23.8,23.5,23.3,23.1,22.8,23.6,24.5,25.5,27.8,29.0,29.6,29.9,29.7,29.5,29.0,27.1,26.3,25.6,25.2,25.1,24.7,24.4,24.1,23.9,23.5,23.2,23.0,22.8,22.5,23.5,25.5,27.5,28.6,29.4,30.7,31.2,30.9,30.0,28.5,28.2,27.6,26.7,26.0,25.4,25.2,24.8,24.7,24.5,24.2,24.0,23.7,23.6,23.6,24.2,26.1,28.0,29.1,30.0,30.2,29.4,29.0,29.2,28.7,28.1,27.5,26.7,25.9,25.3,25.0,24.8,24.6,24.4,24.2,24.1,23.8,23.4,23.6,24.4,25.8,27.1,28.3,29.6,30.6,31.1,31.3,31.2,30.7,29.9,29.0,27.9,26.8,25.9,25.5,25.4,25.3,25.0,24.6,24.3,23.8,23.4,23.4,24.3,25.7,26.8,28.1,29.6,30.8,31.7,32.2,32.3,31.8,30.9,29.9,28.7,27.4,26.4,26.0,25.9,25.7,25.3,24.8,24.4,23.9,23.4,23.5,24.6,26.3,27.8,29.2,30.4,31.4,32.0,32.4,32.5,32.1,31.3,30.4,29.2,28.0,26.9,26.4,26.0,25.7,25.2,24.7],\"rain\":[0.00,0.00,0.00,0.00,0.00,0.00,0.00,0.00,0.00,0.00,0.00,0.00,0.00,0.00,0.00,0.00,0.00,0.00,0.00,0.00,0.00,0.00,0.00,0.00,0.00,0.00,0.00,0.00,0.00,0.00,0.00,0.00,0.00,0.00,0.00,0.00,0.00,0.00,0.00,0.00,0.00,0.00,0.00,0.00,0.00,0.00,0.00,0.00,0.00,0.00,0.00,0.00,0.00,0.00,0.00,0.00,0.00,0.00,0.00,0.00,0.00,0.00,0.00,0.00,0.00,0.00,0.00,0.00,0.00,0.00,0.00,0.00,0.00,0.00,0.00,0.00,0.00,0.00,0.00,0.00,0.00,0.00,0.00,0.00,0.00,0.00,0.00,0.00,0.00,0.00,0.00,0.00,0.00,0.00,0.00,0.00,0.00,0.00,0.00,0.00,0.00,0.00,0.00,0.00,0.00,0.00,0.00,0.00,0.00,0.00,0.00,0.00,0.00,0.00,0.00,0.00,0.00,0.00,0.00,0.00,0.00,0.00,0.00,0.00,0.00,0.00,0.00,0.00,0.00,0.00,0.00,0.00,0.00,0.00,0.00,0.00,0.00,0.00,0.00,0.00,0.00,0.00,0.00,0.00,0.00,0.00,0.00,0.00,0.00,0.00,0.00,0.00,0.00,0.00,0.00,0.00,0.00,0.00,0.00,0.00,0.00,0.00,0.00,0.00,0.00,0.00,0.00,0.00],\"precipitation\":[0.30,0.00,0.00,0.00,0.00,0.00,0.00,0.00,0.00,0.00,0.00,0.00,0.10,0.10,0.00,0.10,0.00,0.00,0.00,0.00,0.00,0.10,0.70,0.70,0.00,0.00,0.00,0.00,0.00,0.30,0.30,0.10,0.10,0.00,0.00,0.00,0.10,0.00,0.20,0.00,0.00,0.00,0.00,0.00,0.00,0.00,0.00,0.00,0.00,0.00,0.00,0.00,0.00,0.00,0.00,0.10,0.20,0.00,0.00,0.10,0.40,1.00,0.30,0.00,0.00,0.00,0.00,0.00,0.00,0.00,0.00,0.00,0.00,0.00,0.00,0.00,0.00,0.00,0.00,0.10,0.10,0.20,0.60,1.20,0.30,0.10,0.10,0.10,0.00,0.00,0.00,0.00,0.00,0.00,0.00,0.00,0.00,0.00,0.00,0.00,0.00,0.00,0.00,0.00,0.00,0.00,0.10,0.10,0.10,0.00,0.00,0.00,0.00,0.00,0.00,0.00,0.00,0.00,0.00,0.00,0.00,0.00,0.00,0.00,0.00,0.00,0.00,0.00,0.00,0.00,0.00,0.00,0.00,0.00,0.00,0.00,0.00,0.00,0.00,0.00,0.00,0.00,0.00,0.00,0.00,0.00,0.00,0.00,0.00,0.00,0.00,0.00,0.00,0.00,0.00,0.00,0.00,0.00,0.00,0.00,0.00,0.00,0.00,0.00,0.00,0.00,0.00,0.00],\"relative_humidity_2m\":[84,85,87,89,87,82,75,65,61,59,58,56,56,57,60,68,74,76,75,75,80,84,86,87,88,88,89,91,88,84,80,70,67,66,63,62,63,66,75,79,82,83,84,85,86,86,87,90,92,92,93,94,92,83,74,68,64,59,58,58,63,69,69,73,77,80,83,83,86,85,83,81,81,83,86,86,85,80,71,66,64,63,66,69,65,67,69,72,76,80,83,84,85,85,86,86,87,88,90,89,85,79,73,67,61,57,55,55,55,56,58,61,66,72,76,77,77,77,78,79,81,84,87,88,83,76,70,63,56,51,48,46,45,46,48,51,56,62,66,67,67,67,70,74,77,80,83,83,78,70,63,58,53,50,47,45,45,46,49,52,56,61,65,68,70,73,76,79]}}\n",
      "Avignon OK (4.848282, 43.943164)\n",
      "Status code: 200\n",
      "URL: https://api.open-meteo.com/v1/forecast?latitude=4.411618&longitude=44.014792&hourly=temperature_2m&hourly=rain&hourly=precipitation&hourly=relative_humidity_2m\n",
      "Response: {\"latitude\":4.375,\"longitude\":44.0,\"generationtime_ms\":0.03337860107421875,\"utc_offset_seconds\":0,\"timezone\":\"GMT\",\"timezone_abbreviation\":\"GMT\",\"elevation\":672.0,\"hourly_units\":{\"time\":\"iso8601\",\"temperature_2m\":\"°C\",\"rain\":\"mm\",\"precipitation\":\"mm\",\"relative_humidity_2m\":\"%\"},\"hourly\":{\"time\":[\"2025-05-02T00:00\",\"2025-05-02T01:00\",\"2025-05-02T02:00\",\"2025-05-02T03:00\",\"2025-05-02T04:00\",\"2025-05-02T05:00\",\"2025-05-02T06:00\",\"2025-05-02T07:00\",\"2025-05-02T08:00\",\"2025-05-02T09:00\",\"2025-05-02T10:00\",\"2025-05-02T11:00\",\"2025-05-02T12:00\",\"2025-05-02T13:00\",\"2025-05-02T14:00\",\"2025-05-02T15:00\",\"2025-05-02T16:00\",\"2025-05-02T17:00\",\"2025-05-02T18:00\",\"2025-05-02T19:00\",\"2025-05-02T20:00\",\"2025-05-02T21:00\",\"2025-05-02T22:00\",\"2025-05-02T23:00\",\"2025-05-03T00:00\",\"2025-05-03T01:00\",\"2025-05-03T02:00\",\"2025-05-03T03:00\",\"2025-05-03T04:00\",\"2025-05-03T05:00\",\"2025-05-03T06:00\",\"2025-05-03T07:00\",\"2025-05-03T08:00\",\"2025-05-03T09:00\",\"2025-05-03T10:00\",\"2025-05-03T11:00\",\"2025-05-03T12:00\",\"2025-05-03T13:00\",\"2025-05-03T14:00\",\"2025-05-03T15:00\",\"2025-05-03T16:00\",\"2025-05-03T17:00\",\"2025-05-03T18:00\",\"2025-05-03T19:00\",\"2025-05-03T20:00\",\"2025-05-03T21:00\",\"2025-05-03T22:00\",\"2025-05-03T23:00\",\"2025-05-04T00:00\",\"2025-05-04T01:00\",\"2025-05-04T02:00\",\"2025-05-04T03:00\",\"2025-05-04T04:00\",\"2025-05-04T05:00\",\"2025-05-04T06:00\",\"2025-05-04T07:00\",\"2025-05-04T08:00\",\"2025-05-04T09:00\",\"2025-05-04T10:00\",\"2025-05-04T11:00\",\"2025-05-04T12:00\",\"2025-05-04T13:00\",\"2025-05-04T14:00\",\"2025-05-04T15:00\",\"2025-05-04T16:00\",\"2025-05-04T17:00\",\"2025-05-04T18:00\",\"2025-05-04T19:00\",\"2025-05-04T20:00\",\"2025-05-04T21:00\",\"2025-05-04T22:00\",\"2025-05-04T23:00\",\"2025-05-05T00:00\",\"2025-05-05T01:00\",\"2025-05-05T02:00\",\"2025-05-05T03:00\",\"2025-05-05T04:00\",\"2025-05-05T05:00\",\"2025-05-05T06:00\",\"2025-05-05T07:00\",\"2025-05-05T08:00\",\"2025-05-05T09:00\",\"2025-05-05T10:00\",\"2025-05-05T11:00\",\"2025-05-05T12:00\",\"2025-05-05T13:00\",\"2025-05-05T14:00\",\"2025-05-05T15:00\",\"2025-05-05T16:00\",\"2025-05-05T17:00\",\"2025-05-05T18:00\",\"2025-05-05T19:00\",\"2025-05-05T20:00\",\"2025-05-05T21:00\",\"2025-05-05T22:00\",\"2025-05-05T23:00\",\"2025-05-06T00:00\",\"2025-05-06T01:00\",\"2025-05-06T02:00\",\"2025-05-06T03:00\",\"2025-05-06T04:00\",\"2025-05-06T05:00\",\"2025-05-06T06:00\",\"2025-05-06T07:00\",\"2025-05-06T08:00\",\"2025-05-06T09:00\",\"2025-05-06T10:00\",\"2025-05-06T11:00\",\"2025-05-06T12:00\",\"2025-05-06T13:00\",\"2025-05-06T14:00\",\"2025-05-06T15:00\",\"2025-05-06T16:00\",\"2025-05-06T17:00\",\"2025-05-06T18:00\",\"2025-05-06T19:00\",\"2025-05-06T20:00\",\"2025-05-06T21:00\",\"2025-05-06T22:00\",\"2025-05-06T23:00\",\"2025-05-07T00:00\",\"2025-05-07T01:00\",\"2025-05-07T02:00\",\"2025-05-07T03:00\",\"2025-05-07T04:00\",\"2025-05-07T05:00\",\"2025-05-07T06:00\",\"2025-05-07T07:00\",\"2025-05-07T08:00\",\"2025-05-07T09:00\",\"2025-05-07T10:00\",\"2025-05-07T11:00\",\"2025-05-07T12:00\",\"2025-05-07T13:00\",\"2025-05-07T14:00\",\"2025-05-07T15:00\",\"2025-05-07T16:00\",\"2025-05-07T17:00\",\"2025-05-07T18:00\",\"2025-05-07T19:00\",\"2025-05-07T20:00\",\"2025-05-07T21:00\",\"2025-05-07T22:00\",\"2025-05-07T23:00\",\"2025-05-08T00:00\",\"2025-05-08T01:00\",\"2025-05-08T02:00\",\"2025-05-08T03:00\",\"2025-05-08T04:00\",\"2025-05-08T05:00\",\"2025-05-08T06:00\",\"2025-05-08T07:00\",\"2025-05-08T08:00\",\"2025-05-08T09:00\",\"2025-05-08T10:00\",\"2025-05-08T11:00\",\"2025-05-08T12:00\",\"2025-05-08T13:00\",\"2025-05-08T14:00\",\"2025-05-08T15:00\",\"2025-05-08T16:00\",\"2025-05-08T17:00\",\"2025-05-08T18:00\",\"2025-05-08T19:00\",\"2025-05-08T20:00\",\"2025-05-08T21:00\",\"2025-05-08T22:00\",\"2025-05-08T23:00\"],\"temperature_2m\":[22.1,21.8,21.7,21.6,22.5,24.4,26.4,28.4,29.6,30.1,30.1,26.9,26.2,25.9,25.8,25.3,24.3,24.0,23.7,23.3,23.0,22.7,22.5,22.3,22.2,22.2,22.0,21.8,22.6,24.1,25.6,27.1,26.9,27.5,28.7,29.1,27.9,27.7,27.0,26.0,25.1,24.5,23.8,23.4,23.1,22.8,22.4,22.2,21.9,21.7,21.8,22.0,22.9,24.8,26.5,27.7,28.4,29.4,29.5,29.0,29.0,28.7,28.3,26.7,25.9,25.3,24.6,23.9,23.4,23.0,22.7,22.4,22.2,22.1,21.9,21.7,22.7,24.0,25.7,27.1,28.3,28.7,28.4,27.2,27.2,26.7,26.2,25.7,25.2,24.7,24.2,23.8,23.4,23.1,22.9,22.8,22.7,22.3,22.0,22.1,22.9,24.2,25.4,26.5,27.6,28.4,28.9,29.2,29.1,28.7,28.1,27.3,26.5,25.5,24.8,24.3,24.1,23.8,23.4,22.9,22.6,22.3,22.0,22.1,22.8,23.9,24.6,25.9,27.5,28.9,29.8,30.5,30.7,30.3,29.3,28.3,27.3,26.1,25.2,24.6,24.2,23.8,23.3,22.8,22.4,22.0,21.6,21.8,22.7,24.0,25.4,26.9,28.5,29.8,30.5,30.9,30.9,30.4,29.6,28.7,27.7,26.6,25.6,25.0,24.5,24.1,23.5,22.9],\"rain\":[0.00,0.00,0.00,0.00,0.00,0.00,0.00,0.00,0.00,0.00,0.00,0.00,0.00,0.00,0.00,0.00,0.00,0.00,0.00,0.00,0.00,0.00,0.00,0.00,0.00,0.00,0.00,0.00,0.00,0.00,0.00,0.00,0.00,0.00,0.00,0.00,0.00,0.00,0.00,0.00,0.00,0.00,0.00,0.00,0.00,0.00,0.00,0.00,0.00,0.00,0.00,0.00,0.00,0.00,0.00,0.00,0.00,0.00,0.00,0.00,0.00,0.00,0.00,0.00,0.00,0.00,0.00,0.00,0.00,0.00,0.00,0.00,0.00,0.00,0.00,0.00,0.00,0.00,0.00,0.00,0.00,0.00,0.00,0.00,0.00,0.00,0.00,0.00,0.00,0.00,0.00,0.00,0.00,0.00,0.00,0.00,0.00,0.00,0.00,0.00,0.00,0.00,0.00,0.00,0.00,0.00,0.00,0.00,0.00,0.00,0.00,0.00,0.00,0.00,0.00,0.00,0.00,0.00,0.00,0.00,0.00,0.00,0.00,0.00,0.00,0.00,0.00,0.00,0.00,0.00,0.00,0.00,0.00,0.00,0.00,0.00,0.00,0.00,0.00,0.00,0.00,0.00,0.00,0.00,0.00,0.00,0.00,0.00,0.00,0.00,0.00,0.00,0.00,0.00,0.00,0.00,0.00,0.00,0.00,0.00,0.00,0.00,0.00,0.00,0.00,0.00,0.00,0.00],\"precipitation\":[0.00,0.00,0.00,0.00,0.00,0.00,0.00,0.00,0.00,0.00,0.00,2.50,4.80,0.60,0.30,0.10,0.00,0.00,0.40,0.30,0.00,0.00,0.00,0.00,0.00,0.00,0.00,0.00,0.00,0.00,0.20,0.00,0.20,0.10,0.00,0.00,0.20,0.10,0.10,0.50,0.10,0.00,0.00,0.00,0.00,0.00,0.00,0.00,0.00,0.00,0.00,0.00,0.00,0.00,0.00,0.00,0.00,0.10,0.10,0.20,0.20,0.10,0.10,0.40,0.10,0.00,0.00,0.00,0.10,1.00,0.70,0.60,0.50,0.00,0.00,0.00,0.00,0.00,0.00,0.30,0.10,0.20,0.30,2.10,1.10,0.20,0.20,0.20,0.00,0.00,0.00,0.00,0.00,0.00,0.00,0.00,0.00,0.00,0.00,0.00,0.00,0.00,0.00,0.10,0.10,0.10,0.10,0.10,0.10,0.00,0.00,0.00,0.00,0.00,0.00,0.00,0.00,0.00,0.00,0.00,0.00,0.00,0.00,0.00,0.00,0.00,0.00,0.00,0.00,0.00,0.00,0.00,0.00,0.00,0.00,0.00,0.00,0.00,0.00,0.00,0.00,0.00,0.00,0.00,0.00,0.00,0.00,0.00,0.00,0.00,0.00,0.00,0.00,0.00,0.00,0.00,0.00,0.00,0.00,0.00,0.00,0.00,0.00,0.00,0.00,0.00,0.00,0.00],\"relative_humidity_2m\":[94,96,97,98,95,87,81,69,63,60,61,74,75,76,77,78,83,86,89,92,91,91,92,93,93,94,95,96,94,89,82,75,75,72,67,64,69,70,72,76,82,86,89,90,92,96,98,98,98,97,96,94,92,83,75,67,64,64,62,63,64,65,67,76,81,85,87,89,90,90,90,92,93,94,96,97,94,88,80,73,68,66,68,73,74,76,78,80,83,86,88,90,91,92,93,94,95,96,98,97,92,85,79,74,70,67,64,62,61,61,63,66,71,77,81,82,82,83,85,88,90,93,95,95,90,83,78,71,63,57,53,50,49,50,53,56,60,66,70,72,74,76,80,85,89,92,95,94,89,81,73,66,59,54,51,49,48,49,52,55,60,65,70,74,77,81,86,91]}}\n",
      "Uzes OK (4.411618, 44.014792)\n",
      "Status code: 200\n",
      "URL: https://api.open-meteo.com/v1/forecast?latitude=4.351788&longitude=43.839648&hourly=temperature_2m&hourly=rain&hourly=precipitation&hourly=relative_humidity_2m\n",
      "Response: {\"latitude\":4.375,\"longitude\":43.875,\"generationtime_ms\":0.036597251892089844,\"utc_offset_seconds\":0,\"timezone\":\"GMT\",\"timezone_abbreviation\":\"GMT\",\"elevation\":615.0,\"hourly_units\":{\"time\":\"iso8601\",\"temperature_2m\":\"°C\",\"rain\":\"mm\",\"precipitation\":\"mm\",\"relative_humidity_2m\":\"%\"},\"hourly\":{\"time\":[\"2025-05-02T00:00\",\"2025-05-02T01:00\",\"2025-05-02T02:00\",\"2025-05-02T03:00\",\"2025-05-02T04:00\",\"2025-05-02T05:00\",\"2025-05-02T06:00\",\"2025-05-02T07:00\",\"2025-05-02T08:00\",\"2025-05-02T09:00\",\"2025-05-02T10:00\",\"2025-05-02T11:00\",\"2025-05-02T12:00\",\"2025-05-02T13:00\",\"2025-05-02T14:00\",\"2025-05-02T15:00\",\"2025-05-02T16:00\",\"2025-05-02T17:00\",\"2025-05-02T18:00\",\"2025-05-02T19:00\",\"2025-05-02T20:00\",\"2025-05-02T21:00\",\"2025-05-02T22:00\",\"2025-05-02T23:00\",\"2025-05-03T00:00\",\"2025-05-03T01:00\",\"2025-05-03T02:00\",\"2025-05-03T03:00\",\"2025-05-03T04:00\",\"2025-05-03T05:00\",\"2025-05-03T06:00\",\"2025-05-03T07:00\",\"2025-05-03T08:00\",\"2025-05-03T09:00\",\"2025-05-03T10:00\",\"2025-05-03T11:00\",\"2025-05-03T12:00\",\"2025-05-03T13:00\",\"2025-05-03T14:00\",\"2025-05-03T15:00\",\"2025-05-03T16:00\",\"2025-05-03T17:00\",\"2025-05-03T18:00\",\"2025-05-03T19:00\",\"2025-05-03T20:00\",\"2025-05-03T21:00\",\"2025-05-03T22:00\",\"2025-05-03T23:00\",\"2025-05-04T00:00\",\"2025-05-04T01:00\",\"2025-05-04T02:00\",\"2025-05-04T03:00\",\"2025-05-04T04:00\",\"2025-05-04T05:00\",\"2025-05-04T06:00\",\"2025-05-04T07:00\",\"2025-05-04T08:00\",\"2025-05-04T09:00\",\"2025-05-04T10:00\",\"2025-05-04T11:00\",\"2025-05-04T12:00\",\"2025-05-04T13:00\",\"2025-05-04T14:00\",\"2025-05-04T15:00\",\"2025-05-04T16:00\",\"2025-05-04T17:00\",\"2025-05-04T18:00\",\"2025-05-04T19:00\",\"2025-05-04T20:00\",\"2025-05-04T21:00\",\"2025-05-04T22:00\",\"2025-05-04T23:00\",\"2025-05-05T00:00\",\"2025-05-05T01:00\",\"2025-05-05T02:00\",\"2025-05-05T03:00\",\"2025-05-05T04:00\",\"2025-05-05T05:00\",\"2025-05-05T06:00\",\"2025-05-05T07:00\",\"2025-05-05T08:00\",\"2025-05-05T09:00\",\"2025-05-05T10:00\",\"2025-05-05T11:00\",\"2025-05-05T12:00\",\"2025-05-05T13:00\",\"2025-05-05T14:00\",\"2025-05-05T15:00\",\"2025-05-05T16:00\",\"2025-05-05T17:00\",\"2025-05-05T18:00\",\"2025-05-05T19:00\",\"2025-05-05T20:00\",\"2025-05-05T21:00\",\"2025-05-05T22:00\",\"2025-05-05T23:00\",\"2025-05-06T00:00\",\"2025-05-06T01:00\",\"2025-05-06T02:00\",\"2025-05-06T03:00\",\"2025-05-06T04:00\",\"2025-05-06T05:00\",\"2025-05-06T06:00\",\"2025-05-06T07:00\",\"2025-05-06T08:00\",\"2025-05-06T09:00\",\"2025-05-06T10:00\",\"2025-05-06T11:00\",\"2025-05-06T12:00\",\"2025-05-06T13:00\",\"2025-05-06T14:00\",\"2025-05-06T15:00\",\"2025-05-06T16:00\",\"2025-05-06T17:00\",\"2025-05-06T18:00\",\"2025-05-06T19:00\",\"2025-05-06T20:00\",\"2025-05-06T21:00\",\"2025-05-06T22:00\",\"2025-05-06T23:00\",\"2025-05-07T00:00\",\"2025-05-07T01:00\",\"2025-05-07T02:00\",\"2025-05-07T03:00\",\"2025-05-07T04:00\",\"2025-05-07T05:00\",\"2025-05-07T06:00\",\"2025-05-07T07:00\",\"2025-05-07T08:00\",\"2025-05-07T09:00\",\"2025-05-07T10:00\",\"2025-05-07T11:00\",\"2025-05-07T12:00\",\"2025-05-07T13:00\",\"2025-05-07T14:00\",\"2025-05-07T15:00\",\"2025-05-07T16:00\",\"2025-05-07T17:00\",\"2025-05-07T18:00\",\"2025-05-07T19:00\",\"2025-05-07T20:00\",\"2025-05-07T21:00\",\"2025-05-07T22:00\",\"2025-05-07T23:00\",\"2025-05-08T00:00\",\"2025-05-08T01:00\",\"2025-05-08T02:00\",\"2025-05-08T03:00\",\"2025-05-08T04:00\",\"2025-05-08T05:00\",\"2025-05-08T06:00\",\"2025-05-08T07:00\",\"2025-05-08T08:00\",\"2025-05-08T09:00\",\"2025-05-08T10:00\",\"2025-05-08T11:00\",\"2025-05-08T12:00\",\"2025-05-08T13:00\",\"2025-05-08T14:00\",\"2025-05-08T15:00\",\"2025-05-08T16:00\",\"2025-05-08T17:00\",\"2025-05-08T18:00\",\"2025-05-08T19:00\",\"2025-05-08T20:00\",\"2025-05-08T21:00\",\"2025-05-08T22:00\",\"2025-05-08T23:00\"],\"temperature_2m\":[22.5,22.2,22.1,22.0,22.9,24.8,26.8,28.8,30.0,30.5,30.5,27.3,26.6,26.3,26.2,25.7,24.7,24.4,24.1,23.7,23.4,23.1,22.9,22.7,22.6,22.6,22.4,22.2,23.0,24.5,26.0,27.5,27.3,27.9,29.1,29.5,28.3,28.1,27.4,26.4,25.5,24.9,24.2,23.8,23.5,23.2,22.8,22.6,22.3,22.1,22.2,22.4,23.3,25.2,26.9,28.1,28.8,29.8,29.9,29.4,29.4,29.1,28.7,27.1,26.3,25.7,25.0,24.3,23.8,23.4,23.1,22.8,22.6,22.5,22.3,22.1,23.1,24.4,26.1,27.5,28.7,29.1,28.8,27.6,27.6,27.1,26.6,26.1,25.6,25.1,24.6,24.2,23.8,23.5,23.3,23.2,23.1,22.7,22.4,22.5,23.3,24.6,25.8,26.9,28.0,28.8,29.3,29.6,29.5,29.1,28.5,27.7,26.9,25.9,25.2,24.7,24.5,24.2,23.8,23.3,23.0,22.7,22.4,22.5,23.2,24.3,25.0,26.3,27.9,29.3,30.2,30.9,31.1,30.7,29.7,28.7,27.7,26.5,25.6,25.0,24.6,24.2,23.7,23.2,22.8,22.4,22.0,22.2,23.1,24.4,25.8,27.3,28.9,30.2,30.9,31.3,31.3,30.8,30.0,29.1,28.1,27.0,26.0,25.4,24.9,24.5,23.9,23.3],\"rain\":[0.00,0.00,0.00,0.00,0.00,0.00,0.00,0.00,0.00,0.00,0.00,0.00,0.00,0.00,0.00,0.00,0.00,0.00,0.00,0.00,0.00,0.00,0.00,0.00,0.00,0.00,0.00,0.00,0.00,0.00,0.00,0.00,0.00,0.00,0.00,0.00,0.00,0.00,0.00,0.00,0.00,0.00,0.00,0.00,0.00,0.00,0.00,0.00,0.00,0.00,0.00,0.00,0.00,0.00,0.00,0.00,0.00,0.00,0.00,0.00,0.00,0.00,0.00,0.00,0.00,0.00,0.00,0.00,0.00,0.00,0.00,0.00,0.00,0.00,0.00,0.00,0.00,0.00,0.00,0.00,0.00,0.00,0.00,0.00,0.00,0.00,0.00,0.00,0.00,0.00,0.00,0.00,0.00,0.00,0.00,0.00,0.00,0.00,0.00,0.00,0.00,0.00,0.00,0.00,0.00,0.00,0.00,0.00,0.00,0.00,0.00,0.00,0.00,0.00,0.00,0.00,0.00,0.00,0.00,0.00,0.00,0.00,0.00,0.00,0.00,0.00,0.00,0.00,0.00,0.00,0.00,0.00,0.00,0.00,0.00,0.00,0.00,0.00,0.00,0.00,0.00,0.00,0.00,0.00,0.00,0.00,0.00,0.00,0.00,0.00,0.00,0.00,0.00,0.00,0.00,0.00,0.00,0.00,0.00,0.00,0.00,0.00,0.00,0.00,0.00,0.00,0.00,0.00],\"precipitation\":[0.00,0.00,0.00,0.00,0.00,0.00,0.00,0.00,0.00,0.00,0.00,2.50,4.80,0.60,0.30,0.10,0.00,0.00,0.40,0.30,0.00,0.00,0.00,0.00,0.00,0.00,0.00,0.00,0.00,0.00,0.20,0.00,0.20,0.10,0.00,0.00,0.20,0.10,0.10,0.50,0.10,0.00,0.00,0.00,0.00,0.00,0.00,0.00,0.00,0.00,0.00,0.00,0.00,0.00,0.00,0.00,0.00,0.10,0.10,0.20,0.20,0.10,0.10,0.40,0.10,0.00,0.00,0.00,0.10,1.00,0.70,0.60,0.50,0.00,0.00,0.00,0.00,0.00,0.00,0.30,0.10,0.20,0.30,2.10,1.10,0.20,0.20,0.20,0.00,0.00,0.00,0.00,0.00,0.00,0.00,0.00,0.00,0.00,0.00,0.00,0.00,0.00,0.00,0.10,0.10,0.10,0.10,0.10,0.10,0.00,0.00,0.00,0.00,0.00,0.00,0.00,0.00,0.00,0.00,0.00,0.00,0.00,0.00,0.00,0.00,0.00,0.00,0.00,0.00,0.00,0.00,0.00,0.00,0.00,0.00,0.00,0.00,0.00,0.00,0.00,0.00,0.00,0.00,0.00,0.00,0.00,0.00,0.00,0.00,0.00,0.00,0.00,0.00,0.00,0.00,0.00,0.00,0.00,0.00,0.00,0.00,0.00,0.00,0.00,0.00,0.00,0.00,0.00],\"relative_humidity_2m\":[94,96,97,98,95,87,81,69,63,60,61,74,75,76,77,78,83,86,89,92,91,91,92,93,93,94,95,96,94,89,82,75,75,72,67,64,69,70,72,76,82,86,89,90,92,96,98,98,98,97,96,94,92,83,75,67,64,64,62,63,64,65,67,76,81,85,87,89,90,90,90,92,93,94,96,97,94,88,80,73,68,66,68,73,74,76,78,80,83,86,88,90,91,92,93,94,95,96,98,97,92,85,79,74,70,67,64,62,61,61,63,66,71,77,81,82,82,83,85,88,90,93,95,95,90,83,78,71,63,57,53,50,49,50,53,56,60,66,70,72,74,76,80,85,89,92,95,94,89,81,73,66,59,54,51,49,48,49,52,55,60,65,70,74,77,81,86,91]}}\n",
      "Nimes OK (4.351788, 43.839648)\n",
      "Status code: 200\n",
      "URL: https://api.open-meteo.com/v1/forecast?latitude=4.175082&longitude=43.55451&hourly=temperature_2m&hourly=rain&hourly=precipitation&hourly=relative_humidity_2m\n",
      "Response: {\"latitude\":4.125,\"longitude\":43.5,\"generationtime_ms\":0.03647804260253906,\"utc_offset_seconds\":0,\"timezone\":\"GMT\",\"timezone_abbreviation\":\"GMT\",\"elevation\":470.0,\"hourly_units\":{\"time\":\"iso8601\",\"temperature_2m\":\"°C\",\"rain\":\"mm\",\"precipitation\":\"mm\",\"relative_humidity_2m\":\"%\"},\"hourly\":{\"time\":[\"2025-05-02T00:00\",\"2025-05-02T01:00\",\"2025-05-02T02:00\",\"2025-05-02T03:00\",\"2025-05-02T04:00\",\"2025-05-02T05:00\",\"2025-05-02T06:00\",\"2025-05-02T07:00\",\"2025-05-02T08:00\",\"2025-05-02T09:00\",\"2025-05-02T10:00\",\"2025-05-02T11:00\",\"2025-05-02T12:00\",\"2025-05-02T13:00\",\"2025-05-02T14:00\",\"2025-05-02T15:00\",\"2025-05-02T16:00\",\"2025-05-02T17:00\",\"2025-05-02T18:00\",\"2025-05-02T19:00\",\"2025-05-02T20:00\",\"2025-05-02T21:00\",\"2025-05-02T22:00\",\"2025-05-02T23:00\",\"2025-05-03T00:00\",\"2025-05-03T01:00\",\"2025-05-03T02:00\",\"2025-05-03T03:00\",\"2025-05-03T04:00\",\"2025-05-03T05:00\",\"2025-05-03T06:00\",\"2025-05-03T07:00\",\"2025-05-03T08:00\",\"2025-05-03T09:00\",\"2025-05-03T10:00\",\"2025-05-03T11:00\",\"2025-05-03T12:00\",\"2025-05-03T13:00\",\"2025-05-03T14:00\",\"2025-05-03T15:00\",\"2025-05-03T16:00\",\"2025-05-03T17:00\",\"2025-05-03T18:00\",\"2025-05-03T19:00\",\"2025-05-03T20:00\",\"2025-05-03T21:00\",\"2025-05-03T22:00\",\"2025-05-03T23:00\",\"2025-05-04T00:00\",\"2025-05-04T01:00\",\"2025-05-04T02:00\",\"2025-05-04T03:00\",\"2025-05-04T04:00\",\"2025-05-04T05:00\",\"2025-05-04T06:00\",\"2025-05-04T07:00\",\"2025-05-04T08:00\",\"2025-05-04T09:00\",\"2025-05-04T10:00\",\"2025-05-04T11:00\",\"2025-05-04T12:00\",\"2025-05-04T13:00\",\"2025-05-04T14:00\",\"2025-05-04T15:00\",\"2025-05-04T16:00\",\"2025-05-04T17:00\",\"2025-05-04T18:00\",\"2025-05-04T19:00\",\"2025-05-04T20:00\",\"2025-05-04T21:00\",\"2025-05-04T22:00\",\"2025-05-04T23:00\",\"2025-05-05T00:00\",\"2025-05-05T01:00\",\"2025-05-05T02:00\",\"2025-05-05T03:00\",\"2025-05-05T04:00\",\"2025-05-05T05:00\",\"2025-05-05T06:00\",\"2025-05-05T07:00\",\"2025-05-05T08:00\",\"2025-05-05T09:00\",\"2025-05-05T10:00\",\"2025-05-05T11:00\",\"2025-05-05T12:00\",\"2025-05-05T13:00\",\"2025-05-05T14:00\",\"2025-05-05T15:00\",\"2025-05-05T16:00\",\"2025-05-05T17:00\",\"2025-05-05T18:00\",\"2025-05-05T19:00\",\"2025-05-05T20:00\",\"2025-05-05T21:00\",\"2025-05-05T22:00\",\"2025-05-05T23:00\",\"2025-05-06T00:00\",\"2025-05-06T01:00\",\"2025-05-06T02:00\",\"2025-05-06T03:00\",\"2025-05-06T04:00\",\"2025-05-06T05:00\",\"2025-05-06T06:00\",\"2025-05-06T07:00\",\"2025-05-06T08:00\",\"2025-05-06T09:00\",\"2025-05-06T10:00\",\"2025-05-06T11:00\",\"2025-05-06T12:00\",\"2025-05-06T13:00\",\"2025-05-06T14:00\",\"2025-05-06T15:00\",\"2025-05-06T16:00\",\"2025-05-06T17:00\",\"2025-05-06T18:00\",\"2025-05-06T19:00\",\"2025-05-06T20:00\",\"2025-05-06T21:00\",\"2025-05-06T22:00\",\"2025-05-06T23:00\",\"2025-05-07T00:00\",\"2025-05-07T01:00\",\"2025-05-07T02:00\",\"2025-05-07T03:00\",\"2025-05-07T04:00\",\"2025-05-07T05:00\",\"2025-05-07T06:00\",\"2025-05-07T07:00\",\"2025-05-07T08:00\",\"2025-05-07T09:00\",\"2025-05-07T10:00\",\"2025-05-07T11:00\",\"2025-05-07T12:00\",\"2025-05-07T13:00\",\"2025-05-07T14:00\",\"2025-05-07T15:00\",\"2025-05-07T16:00\",\"2025-05-07T17:00\",\"2025-05-07T18:00\",\"2025-05-07T19:00\",\"2025-05-07T20:00\",\"2025-05-07T21:00\",\"2025-05-07T22:00\",\"2025-05-07T23:00\",\"2025-05-08T00:00\",\"2025-05-08T01:00\",\"2025-05-08T02:00\",\"2025-05-08T03:00\",\"2025-05-08T04:00\",\"2025-05-08T05:00\",\"2025-05-08T06:00\",\"2025-05-08T07:00\",\"2025-05-08T08:00\",\"2025-05-08T09:00\",\"2025-05-08T10:00\",\"2025-05-08T11:00\",\"2025-05-08T12:00\",\"2025-05-08T13:00\",\"2025-05-08T14:00\",\"2025-05-08T15:00\",\"2025-05-08T16:00\",\"2025-05-08T17:00\",\"2025-05-08T18:00\",\"2025-05-08T19:00\",\"2025-05-08T20:00\",\"2025-05-08T21:00\",\"2025-05-08T22:00\",\"2025-05-08T23:00\"],\"temperature_2m\":[23.7,23.4,23.2,22.9,23.6,25.3,27.7,29.6,31.1,31.8,32.2,32.1,31.8,31.7,27.9,26.7,25.3,24.9,24.1,24.0,23.9,23.8,23.6,23.3,23.2,23.2,23.1,23.1,23.6,24.7,25.4,26.3,27.4,28.8,29.4,29.4,29.4,29.5,28.7,27.6,26.7,26.2,25.6,25.0,24.6,24.3,23.9,23.6,23.3,23.0,22.8,22.7,23.5,25.3,27.2,28.2,29.0,30.2,31.1,31.4,31.3,31.1,30.5,29.5,27.8,26.7,26.0,25.4,25.0,24.7,24.3,23.9,23.6,23.4,23.2,23.1,23.7,25.2,26.5,28.1,29.4,30.0,29.9,29.6,29.6,28.9,27.9,27.1,26.4,25.8,25.3,25.0,24.8,24.6,24.4,24.1,23.9,23.4,22.9,22.8,23.7,25.0,26.3,27.4,28.4,29.2,29.9,30.4,30.6,30.4,29.8,29.2,28.4,27.4,26.6,26.0,25.6,25.1,24.6,24.2,23.8,23.4,23.2,23.3,23.9,24.8,25.4,27.0,28.7,30.2,31.2,32.0,32.3,32.0,31.2,30.2,29.1,27.8,26.8,26.1,25.6,25.2,24.6,24.1,23.7,23.2,22.9,23.0,23.9,25.2,26.7,28.2,29.8,31.1,31.9,32.3,32.4,32.1,31.3,30.5,29.4,28.3,27.3,26.6,26.0,25.5,24.9,24.4],\"rain\":[0.00,0.00,0.00,0.00,0.00,0.00,0.00,0.00,0.00,0.00,0.00,0.00,0.00,0.00,0.00,0.00,0.00,0.00,0.00,0.00,0.00,0.00,0.00,0.00,0.00,0.00,0.00,0.00,0.00,0.00,0.00,0.00,0.00,0.00,0.00,0.00,0.00,0.00,0.00,0.00,0.00,0.00,0.00,0.00,0.00,0.00,0.00,0.00,0.00,0.00,0.00,0.00,0.00,0.00,0.00,0.00,0.00,0.00,0.00,0.00,0.00,0.00,0.00,0.00,0.00,0.00,0.00,0.00,0.00,0.00,0.00,0.00,0.00,0.00,0.00,0.00,0.00,0.00,0.00,0.00,0.00,0.00,0.00,0.00,0.00,0.00,0.00,0.00,0.00,0.00,0.00,0.00,0.00,0.00,0.00,0.00,0.00,0.00,0.00,0.00,0.00,0.00,0.00,0.00,0.00,0.00,0.00,0.00,0.00,0.00,0.00,0.00,0.00,0.00,0.00,0.00,0.00,0.00,0.00,0.00,0.00,0.00,0.00,0.00,0.00,0.00,0.00,0.00,0.00,0.00,0.00,0.00,0.00,0.00,0.00,0.00,0.00,0.00,0.00,0.00,0.00,0.00,0.00,0.00,0.00,0.00,0.00,0.00,0.00,0.00,0.00,0.00,0.00,0.00,0.00,0.00,0.00,0.00,0.00,0.00,0.00,0.00,0.00,0.00,0.00,0.00,0.00,0.00],\"precipitation\":[0.00,0.00,0.00,0.00,0.00,0.00,0.00,0.00,0.00,0.00,0.00,0.00,0.00,0.00,5.40,1.40,1.40,0.00,1.60,0.80,0.60,0.50,0.30,1.00,1.20,0.30,0.00,0.00,0.00,0.30,0.60,0.40,0.40,0.20,0.10,0.10,0.10,0.00,0.10,0.20,0.10,0.00,0.00,0.00,0.00,0.00,0.00,0.00,0.00,0.00,0.00,0.00,0.00,0.00,0.00,0.10,0.30,0.00,0.00,0.00,0.00,0.00,0.10,0.10,0.10,0.00,0.00,0.00,0.00,0.00,0.70,0.70,0.70,0.30,0.00,0.00,0.00,0.00,0.20,0.20,0.10,0.10,0.10,0.20,0.20,0.00,0.00,0.00,0.00,0.00,0.00,0.00,0.00,0.00,0.00,0.00,0.00,0.00,0.00,0.00,0.00,0.00,0.00,0.10,0.10,0.10,0.00,0.00,0.00,0.00,0.00,0.00,0.00,0.00,0.00,0.00,0.00,0.00,0.00,0.00,0.00,0.00,0.00,0.00,0.00,0.00,0.00,0.00,0.00,0.00,0.00,0.00,0.00,0.00,0.00,0.00,0.00,0.00,0.00,0.00,0.00,0.00,0.00,0.00,0.00,0.00,0.00,0.00,0.00,0.00,0.00,0.00,0.00,0.00,0.00,0.00,0.00,0.00,0.00,0.00,0.00,0.00,0.00,0.00,0.00,0.00,0.00,0.00],\"relative_humidity_2m\":[89,91,92,93,91,85,77,66,60,56,54,53,55,57,74,77,81,81,83,83,85,86,88,89,91,91,93,94,94,90,87,82,76,72,68,67,65,65,68,75,81,83,84,87,88,88,89,90,91,92,93,93,92,83,74,68,65,61,59,58,56,56,58,62,71,76,79,83,83,83,83,86,89,91,93,95,93,85,79,73,67,63,63,65,65,67,71,74,78,82,85,87,87,88,89,89,90,92,94,94,90,83,77,72,69,65,62,59,57,57,59,61,65,69,73,75,77,79,81,84,86,89,92,92,88,82,77,68,60,54,50,46,45,46,48,51,55,60,65,68,70,73,77,82,86,89,91,90,85,78,70,63,56,50,47,45,45,46,48,51,55,60,65,69,72,76,81,87]}}\n",
      "Aigues Mortes OK (4.175082, 43.55451)\n",
      "Status code: 200\n",
      "URL: https://api.open-meteo.com/v1/forecast?latitude=4.394262&longitude=43.479513&hourly=temperature_2m&hourly=rain&hourly=precipitation&hourly=relative_humidity_2m\n",
      "Response: {\"latitude\":4.375,\"longitude\":43.5,\"generationtime_ms\":0.03314018249511719,\"utc_offset_seconds\":0,\"timezone\":\"GMT\",\"timezone_abbreviation\":\"GMT\",\"elevation\":496.0,\"hourly_units\":{\"time\":\"iso8601\",\"temperature_2m\":\"°C\",\"rain\":\"mm\",\"precipitation\":\"mm\",\"relative_humidity_2m\":\"%\"},\"hourly\":{\"time\":[\"2025-05-02T00:00\",\"2025-05-02T01:00\",\"2025-05-02T02:00\",\"2025-05-02T03:00\",\"2025-05-02T04:00\",\"2025-05-02T05:00\",\"2025-05-02T06:00\",\"2025-05-02T07:00\",\"2025-05-02T08:00\",\"2025-05-02T09:00\",\"2025-05-02T10:00\",\"2025-05-02T11:00\",\"2025-05-02T12:00\",\"2025-05-02T13:00\",\"2025-05-02T14:00\",\"2025-05-02T15:00\",\"2025-05-02T16:00\",\"2025-05-02T17:00\",\"2025-05-02T18:00\",\"2025-05-02T19:00\",\"2025-05-02T20:00\",\"2025-05-02T21:00\",\"2025-05-02T22:00\",\"2025-05-02T23:00\",\"2025-05-03T00:00\",\"2025-05-03T01:00\",\"2025-05-03T02:00\",\"2025-05-03T03:00\",\"2025-05-03T04:00\",\"2025-05-03T05:00\",\"2025-05-03T06:00\",\"2025-05-03T07:00\",\"2025-05-03T08:00\",\"2025-05-03T09:00\",\"2025-05-03T10:00\",\"2025-05-03T11:00\",\"2025-05-03T12:00\",\"2025-05-03T13:00\",\"2025-05-03T14:00\",\"2025-05-03T15:00\",\"2025-05-03T16:00\",\"2025-05-03T17:00\",\"2025-05-03T18:00\",\"2025-05-03T19:00\",\"2025-05-03T20:00\",\"2025-05-03T21:00\",\"2025-05-03T22:00\",\"2025-05-03T23:00\",\"2025-05-04T00:00\",\"2025-05-04T01:00\",\"2025-05-04T02:00\",\"2025-05-04T03:00\",\"2025-05-04T04:00\",\"2025-05-04T05:00\",\"2025-05-04T06:00\",\"2025-05-04T07:00\",\"2025-05-04T08:00\",\"2025-05-04T09:00\",\"2025-05-04T10:00\",\"2025-05-04T11:00\",\"2025-05-04T12:00\",\"2025-05-04T13:00\",\"2025-05-04T14:00\",\"2025-05-04T15:00\",\"2025-05-04T16:00\",\"2025-05-04T17:00\",\"2025-05-04T18:00\",\"2025-05-04T19:00\",\"2025-05-04T20:00\",\"2025-05-04T21:00\",\"2025-05-04T22:00\",\"2025-05-04T23:00\",\"2025-05-05T00:00\",\"2025-05-05T01:00\",\"2025-05-05T02:00\",\"2025-05-05T03:00\",\"2025-05-05T04:00\",\"2025-05-05T05:00\",\"2025-05-05T06:00\",\"2025-05-05T07:00\",\"2025-05-05T08:00\",\"2025-05-05T09:00\",\"2025-05-05T10:00\",\"2025-05-05T11:00\",\"2025-05-05T12:00\",\"2025-05-05T13:00\",\"2025-05-05T14:00\",\"2025-05-05T15:00\",\"2025-05-05T16:00\",\"2025-05-05T17:00\",\"2025-05-05T18:00\",\"2025-05-05T19:00\",\"2025-05-05T20:00\",\"2025-05-05T21:00\",\"2025-05-05T22:00\",\"2025-05-05T23:00\",\"2025-05-06T00:00\",\"2025-05-06T01:00\",\"2025-05-06T02:00\",\"2025-05-06T03:00\",\"2025-05-06T04:00\",\"2025-05-06T05:00\",\"2025-05-06T06:00\",\"2025-05-06T07:00\",\"2025-05-06T08:00\",\"2025-05-06T09:00\",\"2025-05-06T10:00\",\"2025-05-06T11:00\",\"2025-05-06T12:00\",\"2025-05-06T13:00\",\"2025-05-06T14:00\",\"2025-05-06T15:00\",\"2025-05-06T16:00\",\"2025-05-06T17:00\",\"2025-05-06T18:00\",\"2025-05-06T19:00\",\"2025-05-06T20:00\",\"2025-05-06T21:00\",\"2025-05-06T22:00\",\"2025-05-06T23:00\",\"2025-05-07T00:00\",\"2025-05-07T01:00\",\"2025-05-07T02:00\",\"2025-05-07T03:00\",\"2025-05-07T04:00\",\"2025-05-07T05:00\",\"2025-05-07T06:00\",\"2025-05-07T07:00\",\"2025-05-07T08:00\",\"2025-05-07T09:00\",\"2025-05-07T10:00\",\"2025-05-07T11:00\",\"2025-05-07T12:00\",\"2025-05-07T13:00\",\"2025-05-07T14:00\",\"2025-05-07T15:00\",\"2025-05-07T16:00\",\"2025-05-07T17:00\",\"2025-05-07T18:00\",\"2025-05-07T19:00\",\"2025-05-07T20:00\",\"2025-05-07T21:00\",\"2025-05-07T22:00\",\"2025-05-07T23:00\",\"2025-05-08T00:00\",\"2025-05-08T01:00\",\"2025-05-08T02:00\",\"2025-05-08T03:00\",\"2025-05-08T04:00\",\"2025-05-08T05:00\",\"2025-05-08T06:00\",\"2025-05-08T07:00\",\"2025-05-08T08:00\",\"2025-05-08T09:00\",\"2025-05-08T10:00\",\"2025-05-08T11:00\",\"2025-05-08T12:00\",\"2025-05-08T13:00\",\"2025-05-08T14:00\",\"2025-05-08T15:00\",\"2025-05-08T16:00\",\"2025-05-08T17:00\",\"2025-05-08T18:00\",\"2025-05-08T19:00\",\"2025-05-08T20:00\",\"2025-05-08T21:00\",\"2025-05-08T22:00\",\"2025-05-08T23:00\"],\"temperature_2m\":[23.9,23.7,23.4,23.1,23.8,25.6,27.8,29.3,30.8,31.4,31.4,31.7,31.2,28.1,27.5,26.1,25.4,25.1,24.8,24.1,23.6,23.4,23.2,22.8,22.8,22.8,22.8,22.7,23.3,24.6,25.3,26.4,27.7,28.9,29.6,29.0,29.0,29.2,28.6,27.8,26.6,25.8,25.3,25.0,24.6,24.2,23.9,23.7,23.4,23.2,23.1,22.9,23.6,25.3,26.9,27.8,29.0,30.3,30.5,30.5,30.6,30.4,29.8,28.9,27.5,26.8,26.0,25.4,25.0,24.7,24.3,24.0,23.6,23.2,22.9,22.7,23.5,25.0,26.0,27.4,28.8,28.9,29.1,29.3,29.1,28.7,28.1,27.4,26.6,25.8,25.1,24.7,24.5,24.3,24.1,23.9,23.7,23.3,22.9,22.9,23.6,24.8,25.9,27.1,28.3,29.2,29.9,30.3,30.4,30.1,29.6,28.9,28.1,27.2,26.4,25.8,25.3,24.9,24.4,24.1,23.7,23.4,23.1,23.1,23.9,25.0,25.8,26.9,28.5,29.9,30.9,31.7,32.0,31.6,30.8,29.8,28.7,27.5,26.4,25.8,25.3,24.9,24.4,23.9,23.5,23.0,22.7,22.8,23.6,24.8,26.2,27.8,29.4,30.8,31.7,32.3,32.4,32.1,31.3,30.4,29.3,28.0,27.0,26.4,26.0,25.5,24.9,24.2],\"rain\":[0.00,0.00,0.00,0.00,0.00,0.00,0.00,0.00,0.00,0.00,0.00,0.00,0.00,0.00,0.00,0.00,0.00,0.00,0.00,0.00,0.00,0.00,0.00,0.00,0.00,0.00,0.00,0.00,0.00,0.00,0.00,0.00,0.00,0.00,0.00,0.00,0.00,0.00,0.00,0.00,0.00,0.00,0.00,0.00,0.00,0.00,0.00,0.00,0.00,0.00,0.00,0.00,0.00,0.00,0.00,0.00,0.00,0.00,0.00,0.00,0.00,0.00,0.00,0.00,0.00,0.00,0.00,0.00,0.00,0.00,0.00,0.00,0.00,0.00,0.00,0.00,0.00,0.00,0.00,0.00,0.00,0.00,0.00,0.00,0.00,0.00,0.00,0.00,0.00,0.00,0.00,0.00,0.00,0.00,0.00,0.00,0.00,0.00,0.00,0.00,0.00,0.00,0.00,0.00,0.00,0.00,0.00,0.00,0.00,0.00,0.00,0.00,0.00,0.00,0.00,0.00,0.00,0.00,0.00,0.00,0.00,0.00,0.00,0.00,0.00,0.00,0.00,0.00,0.00,0.00,0.00,0.00,0.00,0.00,0.00,0.00,0.00,0.00,0.00,0.00,0.00,0.00,0.00,0.00,0.00,0.00,0.00,0.00,0.00,0.00,0.00,0.00,0.00,0.00,0.00,0.00,0.00,0.00,0.00,0.00,0.00,0.00,0.00,0.00,0.00,0.00,0.00,0.00],\"precipitation\":[0.00,0.00,0.00,0.00,0.00,0.00,0.00,0.10,0.00,0.00,0.00,0.00,0.10,2.50,2.70,1.90,0.50,0.50,0.20,0.50,1.10,1.20,1.30,1.30,1.30,0.10,0.00,0.00,0.00,0.10,0.20,0.30,0.10,0.00,0.10,0.20,0.20,0.10,0.10,0.00,0.00,0.00,0.00,0.00,0.00,0.00,0.00,0.00,0.00,0.00,0.00,0.00,0.00,0.00,0.00,0.10,0.10,0.10,0.10,0.10,0.00,0.10,0.00,0.10,0.10,0.00,0.00,0.00,0.00,0.00,0.50,0.40,0.50,0.10,0.00,0.00,0.00,0.00,0.70,0.40,0.10,0.10,0.20,0.20,0.30,0.00,0.00,0.00,0.00,0.00,0.00,0.00,0.00,0.00,0.00,0.00,0.00,0.00,0.00,0.00,0.10,0.10,0.10,0.20,0.20,0.20,0.00,0.00,0.00,0.00,0.00,0.00,0.00,0.00,0.00,0.10,0.10,0.10,0.00,0.00,0.00,0.00,0.00,0.00,0.00,0.00,0.00,0.00,0.00,0.00,0.00,0.00,0.00,0.00,0.00,0.00,0.00,0.00,0.00,0.00,0.00,0.00,0.00,0.00,0.00,0.00,0.00,0.00,0.00,0.00,0.00,0.00,0.00,0.00,0.00,0.00,0.00,0.00,0.00,0.00,0.00,0.00,0.00,0.00,0.00,0.00,0.00,0.00],\"relative_humidity_2m\":[86,87,89,91,89,83,76,67,61,59,57,56,58,73,75,78,83,86,85,84,85,85,87,89,90,91,91,92,92,88,86,81,76,70,66,68,68,66,67,70,78,82,86,87,88,89,90,91,92,92,93,93,91,83,75,71,67,62,61,60,60,60,63,68,75,77,80,82,85,87,88,87,88,89,92,94,93,85,81,77,69,69,67,66,66,67,69,72,76,82,86,88,88,89,90,90,91,93,94,94,90,85,79,74,69,65,62,59,58,59,60,63,67,71,75,77,79,81,83,84,86,89,92,92,88,81,76,68,60,54,50,47,46,47,49,52,56,61,66,69,71,74,78,82,85,88,91,91,87,79,72,65,57,51,47,46,45,46,48,51,56,62,67,70,71,74,79,85]}}\n",
      "Saintes Maries de la mer OK (4.394262, 43.479513)\n",
      "Status code: 200\n",
      "URL: https://api.open-meteo.com/v1/forecast?latitude=3.075825&longitude=42.515405&hourly=temperature_2m&hourly=rain&hourly=precipitation&hourly=relative_humidity_2m\n",
      "Response: {\"latitude\":3.125,\"longitude\":42.5,\"generationtime_ms\":0.047087669372558594,\"utc_offset_seconds\":0,\"timezone\":\"GMT\",\"timezone_abbreviation\":\"GMT\",\"elevation\":207.0,\"hourly_units\":{\"time\":\"iso8601\",\"temperature_2m\":\"°C\",\"rain\":\"mm\",\"precipitation\":\"mm\",\"relative_humidity_2m\":\"%\"},\"hourly\":{\"time\":[\"2025-05-02T00:00\",\"2025-05-02T01:00\",\"2025-05-02T02:00\",\"2025-05-02T03:00\",\"2025-05-02T04:00\",\"2025-05-02T05:00\",\"2025-05-02T06:00\",\"2025-05-02T07:00\",\"2025-05-02T08:00\",\"2025-05-02T09:00\",\"2025-05-02T10:00\",\"2025-05-02T11:00\",\"2025-05-02T12:00\",\"2025-05-02T13:00\",\"2025-05-02T14:00\",\"2025-05-02T15:00\",\"2025-05-02T16:00\",\"2025-05-02T17:00\",\"2025-05-02T18:00\",\"2025-05-02T19:00\",\"2025-05-02T20:00\",\"2025-05-02T21:00\",\"2025-05-02T22:00\",\"2025-05-02T23:00\",\"2025-05-03T00:00\",\"2025-05-03T01:00\",\"2025-05-03T02:00\",\"2025-05-03T03:00\",\"2025-05-03T04:00\",\"2025-05-03T05:00\",\"2025-05-03T06:00\",\"2025-05-03T07:00\",\"2025-05-03T08:00\",\"2025-05-03T09:00\",\"2025-05-03T10:00\",\"2025-05-03T11:00\",\"2025-05-03T12:00\",\"2025-05-03T13:00\",\"2025-05-03T14:00\",\"2025-05-03T15:00\",\"2025-05-03T16:00\",\"2025-05-03T17:00\",\"2025-05-03T18:00\",\"2025-05-03T19:00\",\"2025-05-03T20:00\",\"2025-05-03T21:00\",\"2025-05-03T22:00\",\"2025-05-03T23:00\",\"2025-05-04T00:00\",\"2025-05-04T01:00\",\"2025-05-04T02:00\",\"2025-05-04T03:00\",\"2025-05-04T04:00\",\"2025-05-04T05:00\",\"2025-05-04T06:00\",\"2025-05-04T07:00\",\"2025-05-04T08:00\",\"2025-05-04T09:00\",\"2025-05-04T10:00\",\"2025-05-04T11:00\",\"2025-05-04T12:00\",\"2025-05-04T13:00\",\"2025-05-04T14:00\",\"2025-05-04T15:00\",\"2025-05-04T16:00\",\"2025-05-04T17:00\",\"2025-05-04T18:00\",\"2025-05-04T19:00\",\"2025-05-04T20:00\",\"2025-05-04T21:00\",\"2025-05-04T22:00\",\"2025-05-04T23:00\",\"2025-05-05T00:00\",\"2025-05-05T01:00\",\"2025-05-05T02:00\",\"2025-05-05T03:00\",\"2025-05-05T04:00\",\"2025-05-05T05:00\",\"2025-05-05T06:00\",\"2025-05-05T07:00\",\"2025-05-05T08:00\",\"2025-05-05T09:00\",\"2025-05-05T10:00\",\"2025-05-05T11:00\",\"2025-05-05T12:00\",\"2025-05-05T13:00\",\"2025-05-05T14:00\",\"2025-05-05T15:00\",\"2025-05-05T16:00\",\"2025-05-05T17:00\",\"2025-05-05T18:00\",\"2025-05-05T19:00\",\"2025-05-05T20:00\",\"2025-05-05T21:00\",\"2025-05-05T22:00\",\"2025-05-05T23:00\",\"2025-05-06T00:00\",\"2025-05-06T01:00\",\"2025-05-06T02:00\",\"2025-05-06T03:00\",\"2025-05-06T04:00\",\"2025-05-06T05:00\",\"2025-05-06T06:00\",\"2025-05-06T07:00\",\"2025-05-06T08:00\",\"2025-05-06T09:00\",\"2025-05-06T10:00\",\"2025-05-06T11:00\",\"2025-05-06T12:00\",\"2025-05-06T13:00\",\"2025-05-06T14:00\",\"2025-05-06T15:00\",\"2025-05-06T16:00\",\"2025-05-06T17:00\",\"2025-05-06T18:00\",\"2025-05-06T19:00\",\"2025-05-06T20:00\",\"2025-05-06T21:00\",\"2025-05-06T22:00\",\"2025-05-06T23:00\",\"2025-05-07T00:00\",\"2025-05-07T01:00\",\"2025-05-07T02:00\",\"2025-05-07T03:00\",\"2025-05-07T04:00\",\"2025-05-07T05:00\",\"2025-05-07T06:00\",\"2025-05-07T07:00\",\"2025-05-07T08:00\",\"2025-05-07T09:00\",\"2025-05-07T10:00\",\"2025-05-07T11:00\",\"2025-05-07T12:00\",\"2025-05-07T13:00\",\"2025-05-07T14:00\",\"2025-05-07T15:00\",\"2025-05-07T16:00\",\"2025-05-07T17:00\",\"2025-05-07T18:00\",\"2025-05-07T19:00\",\"2025-05-07T20:00\",\"2025-05-07T21:00\",\"2025-05-07T22:00\",\"2025-05-07T23:00\",\"2025-05-08T00:00\",\"2025-05-08T01:00\",\"2025-05-08T02:00\",\"2025-05-08T03:00\",\"2025-05-08T04:00\",\"2025-05-08T05:00\",\"2025-05-08T06:00\",\"2025-05-08T07:00\",\"2025-05-08T08:00\",\"2025-05-08T09:00\",\"2025-05-08T10:00\",\"2025-05-08T11:00\",\"2025-05-08T12:00\",\"2025-05-08T13:00\",\"2025-05-08T14:00\",\"2025-05-08T15:00\",\"2025-05-08T16:00\",\"2025-05-08T17:00\",\"2025-05-08T18:00\",\"2025-05-08T19:00\",\"2025-05-08T20:00\",\"2025-05-08T21:00\",\"2025-05-08T22:00\",\"2025-05-08T23:00\"],\"temperature_2m\":[25.6,25.3,25.0,24.8,25.5,27.1,29.3,31.2,32.9,34.2,34.7,35.2,34.9,34.5,33.8,32.7,31.3,29.5,28.5,27.7,27.1,26.7,26.2,26.0,25.8,25.5,25.3,25.3,25.8,27.2,28.3,29.5,31.2,31.8,32.4,32.9,31.7,30.2,29.4,28.7,27.6,27.3,27.1,26.9,26.7,26.5,26.2,25.8,25.4,25.0,24.7,24.5,25.2,26.8,28.7,30.3,31.6,33.0,33.5,34.1,34.2,33.9,33.4,32.5,31.1,30.1,29.2,28.5,27.8,27.3,26.6,25.9,25.5,25.3,25.1,24.9,25.4,27.0,28.7,30.5,31.3,32.0,31.9,32.6,32.4,32.2,31.9,31.4,30.5,29.4,28.5,27.9,27.5,27.0,26.3,25.6,25.1,24.8,24.6,24.9,25.7,26.9,28.2,29.7,31.2,32.4,33.3,33.9,34.1,33.9,33.2,32.4,31.3,30.0,28.9,28.1,27.3,26.7,26.2,25.8,25.5,25.1,24.7,24.9,26.0,27.7,28.9,30.5,32.1,33.4,34.3,34.9,35.0,34.7,33.9,33.0,31.8,30.4,29.2,28.3,27.5,26.8,26.3,25.9,25.5,25.1,24.7,24.8,25.7,27.2,28.8,30.5,32.3,33.8,34.9,35.6,35.7,35.1,34.0,32.8,31.8,30.7,29.7,28.6,27.6,26.8,26.4,26.1],\"rain\":[0.00,0.00,0.00,0.00,0.00,0.00,0.00,0.00,0.00,0.00,0.00,0.00,0.00,0.00,0.00,0.00,0.00,0.00,0.00,0.00,0.00,0.00,0.00,0.00,0.00,0.00,0.00,0.00,0.00,0.00,0.00,0.00,0.00,0.00,0.00,0.00,0.00,0.00,0.00,0.00,0.00,0.00,0.00,0.00,0.00,0.00,0.00,0.00,0.00,0.00,0.00,0.00,0.00,0.00,0.00,0.00,0.00,0.00,0.00,0.00,0.00,0.00,0.00,0.00,0.00,0.00,0.00,0.00,0.00,0.00,0.00,0.00,0.00,0.00,0.00,0.00,0.00,0.00,0.00,0.00,0.00,0.00,0.00,0.00,0.00,0.00,0.00,0.00,0.00,0.00,0.00,0.00,0.00,0.00,0.00,0.00,0.00,0.00,0.00,0.00,0.00,0.00,0.00,0.00,0.00,0.00,0.00,0.00,0.00,0.00,0.00,0.00,0.00,0.00,0.00,0.00,0.00,0.00,0.00,0.00,0.00,0.00,0.00,0.00,0.00,0.00,0.00,0.00,0.00,0.00,0.00,0.00,0.00,0.00,0.00,0.00,0.00,0.00,0.00,0.00,0.00,0.00,0.00,0.00,0.00,0.00,0.00,0.00,0.00,0.00,0.00,0.00,0.00,0.00,0.00,0.00,0.00,0.00,0.00,0.00,0.00,0.00,0.00,0.00,0.00,0.00,0.00,0.00],\"precipitation\":[0.00,0.00,0.00,0.00,0.00,0.00,0.00,0.00,0.00,0.00,0.00,0.00,0.00,0.00,0.00,0.10,0.00,0.10,0.00,0.10,0.00,0.00,0.70,0.00,0.00,0.00,0.00,0.00,0.00,0.00,0.40,0.10,0.10,0.10,0.00,0.00,0.40,0.90,0.10,0.00,0.00,0.00,0.00,0.00,0.00,0.00,0.00,0.00,0.00,0.00,0.00,0.00,0.00,0.00,0.00,0.10,0.30,0.00,0.00,0.00,0.00,0.00,0.00,0.10,0.00,0.00,0.00,0.00,0.00,0.10,0.30,0.20,0.00,0.00,0.00,0.00,0.00,0.00,0.00,0.00,0.00,0.00,0.20,0.10,0.10,0.00,0.00,0.00,0.00,0.00,0.00,0.00,0.00,0.00,0.00,0.00,0.00,0.00,0.00,0.00,0.10,0.10,0.10,0.10,0.10,0.10,0.00,0.00,0.00,0.00,0.00,0.00,0.00,0.00,0.00,0.00,0.00,0.00,0.00,0.00,0.00,0.00,0.00,0.00,0.00,0.00,0.00,0.00,0.00,0.00,0.00,0.00,0.00,0.00,0.00,0.00,0.00,0.00,0.00,0.00,0.00,0.00,0.00,0.00,0.00,0.00,0.00,0.00,0.00,0.00,0.00,0.00,0.00,0.00,0.00,0.00,0.00,0.00,0.00,0.00,0.00,0.00,0.00,0.00,0.00,0.00,0.00,0.00],\"relative_humidity_2m\":[85,87,89,91,88,79,69,61,54,50,47,45,45,45,47,51,56,65,71,75,77,78,82,83,85,86,88,89,86,79,75,70,64,60,57,55,61,67,69,71,76,80,82,83,84,85,86,88,89,91,93,93,90,81,71,65,60,55,52,50,49,49,51,52,58,64,68,71,74,76,79,83,85,87,88,89,87,79,69,63,61,58,59,54,54,53,53,54,58,64,69,72,74,76,79,83,86,89,91,90,86,79,72,65,59,53,49,46,45,45,46,49,53,59,64,68,72,76,79,81,83,84,84,82,76,68,62,55,49,45,42,40,39,39,41,44,48,53,59,65,72,77,81,83,85,86,85,83,78,71,64,57,50,44,40,38,38,39,42,46,50,55,60,66,73,78,82,84]}}\n",
      "Collioure OK (3.075825, 42.515405)\n",
      "Status code: 200\n",
      "URL: https://api.open-meteo.com/v1/forecast?latitude=2.354437&longitude=43.209017&hourly=temperature_2m&hourly=rain&hourly=precipitation&hourly=relative_humidity_2m\n",
      "Response: {\"latitude\":2.375,\"longitude\":43.25,\"generationtime_ms\":0.04291534423828125,\"utc_offset_seconds\":0,\"timezone\":\"GMT\",\"timezone_abbreviation\":\"GMT\",\"elevation\":247.0,\"hourly_units\":{\"time\":\"iso8601\",\"temperature_2m\":\"°C\",\"rain\":\"mm\",\"precipitation\":\"mm\",\"relative_humidity_2m\":\"%\"},\"hourly\":{\"time\":[\"2025-05-02T00:00\",\"2025-05-02T01:00\",\"2025-05-02T02:00\",\"2025-05-02T03:00\",\"2025-05-02T04:00\",\"2025-05-02T05:00\",\"2025-05-02T06:00\",\"2025-05-02T07:00\",\"2025-05-02T08:00\",\"2025-05-02T09:00\",\"2025-05-02T10:00\",\"2025-05-02T11:00\",\"2025-05-02T12:00\",\"2025-05-02T13:00\",\"2025-05-02T14:00\",\"2025-05-02T15:00\",\"2025-05-02T16:00\",\"2025-05-02T17:00\",\"2025-05-02T18:00\",\"2025-05-02T19:00\",\"2025-05-02T20:00\",\"2025-05-02T21:00\",\"2025-05-02T22:00\",\"2025-05-02T23:00\",\"2025-05-03T00:00\",\"2025-05-03T01:00\",\"2025-05-03T02:00\",\"2025-05-03T03:00\",\"2025-05-03T04:00\",\"2025-05-03T05:00\",\"2025-05-03T06:00\",\"2025-05-03T07:00\",\"2025-05-03T08:00\",\"2025-05-03T09:00\",\"2025-05-03T10:00\",\"2025-05-03T11:00\",\"2025-05-03T12:00\",\"2025-05-03T13:00\",\"2025-05-03T14:00\",\"2025-05-03T15:00\",\"2025-05-03T16:00\",\"2025-05-03T17:00\",\"2025-05-03T18:00\",\"2025-05-03T19:00\",\"2025-05-03T20:00\",\"2025-05-03T21:00\",\"2025-05-03T22:00\",\"2025-05-03T23:00\",\"2025-05-04T00:00\",\"2025-05-04T01:00\",\"2025-05-04T02:00\",\"2025-05-04T03:00\",\"2025-05-04T04:00\",\"2025-05-04T05:00\",\"2025-05-04T06:00\",\"2025-05-04T07:00\",\"2025-05-04T08:00\",\"2025-05-04T09:00\",\"2025-05-04T10:00\",\"2025-05-04T11:00\",\"2025-05-04T12:00\",\"2025-05-04T13:00\",\"2025-05-04T14:00\",\"2025-05-04T15:00\",\"2025-05-04T16:00\",\"2025-05-04T17:00\",\"2025-05-04T18:00\",\"2025-05-04T19:00\",\"2025-05-04T20:00\",\"2025-05-04T21:00\",\"2025-05-04T22:00\",\"2025-05-04T23:00\",\"2025-05-05T00:00\",\"2025-05-05T01:00\",\"2025-05-05T02:00\",\"2025-05-05T03:00\",\"2025-05-05T04:00\",\"2025-05-05T05:00\",\"2025-05-05T06:00\",\"2025-05-05T07:00\",\"2025-05-05T08:00\",\"2025-05-05T09:00\",\"2025-05-05T10:00\",\"2025-05-05T11:00\",\"2025-05-05T12:00\",\"2025-05-05T13:00\",\"2025-05-05T14:00\",\"2025-05-05T15:00\",\"2025-05-05T16:00\",\"2025-05-05T17:00\",\"2025-05-05T18:00\",\"2025-05-05T19:00\",\"2025-05-05T20:00\",\"2025-05-05T21:00\",\"2025-05-05T22:00\",\"2025-05-05T23:00\",\"2025-05-06T00:00\",\"2025-05-06T01:00\",\"2025-05-06T02:00\",\"2025-05-06T03:00\",\"2025-05-06T04:00\",\"2025-05-06T05:00\",\"2025-05-06T06:00\",\"2025-05-06T07:00\",\"2025-05-06T08:00\",\"2025-05-06T09:00\",\"2025-05-06T10:00\",\"2025-05-06T11:00\",\"2025-05-06T12:00\",\"2025-05-06T13:00\",\"2025-05-06T14:00\",\"2025-05-06T15:00\",\"2025-05-06T16:00\",\"2025-05-06T17:00\",\"2025-05-06T18:00\",\"2025-05-06T19:00\",\"2025-05-06T20:00\",\"2025-05-06T21:00\",\"2025-05-06T22:00\",\"2025-05-06T23:00\",\"2025-05-07T00:00\",\"2025-05-07T01:00\",\"2025-05-07T02:00\",\"2025-05-07T03:00\",\"2025-05-07T04:00\",\"2025-05-07T05:00\",\"2025-05-07T06:00\",\"2025-05-07T07:00\",\"2025-05-07T08:00\",\"2025-05-07T09:00\",\"2025-05-07T10:00\",\"2025-05-07T11:00\",\"2025-05-07T12:00\",\"2025-05-07T13:00\",\"2025-05-07T14:00\",\"2025-05-07T15:00\",\"2025-05-07T16:00\",\"2025-05-07T17:00\",\"2025-05-07T18:00\",\"2025-05-07T19:00\",\"2025-05-07T20:00\",\"2025-05-07T21:00\",\"2025-05-07T22:00\",\"2025-05-07T23:00\",\"2025-05-08T00:00\",\"2025-05-08T01:00\",\"2025-05-08T02:00\",\"2025-05-08T03:00\",\"2025-05-08T04:00\",\"2025-05-08T05:00\",\"2025-05-08T06:00\",\"2025-05-08T07:00\",\"2025-05-08T08:00\",\"2025-05-08T09:00\",\"2025-05-08T10:00\",\"2025-05-08T11:00\",\"2025-05-08T12:00\",\"2025-05-08T13:00\",\"2025-05-08T14:00\",\"2025-05-08T15:00\",\"2025-05-08T16:00\",\"2025-05-08T17:00\",\"2025-05-08T18:00\",\"2025-05-08T19:00\",\"2025-05-08T20:00\",\"2025-05-08T21:00\",\"2025-05-08T22:00\",\"2025-05-08T23:00\"],\"temperature_2m\":[25.2,25.2,25.1,25.1,25.6,26.6,28.3,29.5,31.3,32.2,32.8,32.9,33.0,32.7,32.2,30.9,28.1,27.0,26.5,25.9,25.2,25.1,25.0,25.0,24.9,25.0,24.9,24.7,25.3,26.5,27.8,29.2,30.4,31.0,31.2,31.5,31.1,29.4,28.9,28.1,27.1,26.6,25.9,25.3,24.9,24.6,24.3,24.2,24.0,24.0,24.1,24.1,24.8,26.3,27.8,29.4,30.8,31.5,32.6,33.0,32.9,32.2,31.8,30.5,28.9,27.6,27.3,26.6,25.9,25.3,25.0,24.9,24.6,24.4,24.5,24.6,25.0,26.1,27.4,29.1,30.5,31.0,31.5,31.8,31.9,31.4,30.7,29.8,28.8,27.6,26.7,26.0,25.6,25.2,24.9,24.6,24.3,24.1,23.9,24.1,24.9,26.1,27.3,28.5,29.7,30.7,31.6,32.2,32.5,32.1,31.3,30.4,29.4,28.2,27.2,26.4,25.7,25.1,24.9,24.8,24.7,24.5,24.3,24.4,25.2,26.2,27.0,28.3,29.8,31.0,32.0,32.8,33.1,32.7,31.8,30.7,29.4,27.9,26.7,26.0,25.6,25.3,25.0,24.7,24.5,24.1,23.8,23.9,24.6,25.7,27.0,28.6,30.3,31.6,32.5,33.0,33.0,32.6,31.7,30.6,29.2,27.6,26.4,25.9,25.7,25.6,25.3,25.1],\"rain\":[0.00,0.00,0.00,0.00,0.00,0.00,0.00,0.00,0.00,0.00,0.00,0.00,0.00,0.00,0.00,0.00,0.00,0.00,0.00,0.00,0.00,0.00,0.00,0.00,0.00,0.00,0.00,0.00,0.00,0.00,0.00,0.00,0.00,0.00,0.00,0.00,0.00,0.00,0.00,0.00,0.00,0.00,0.00,0.00,0.00,0.00,0.00,0.00,0.00,0.00,0.00,0.00,0.00,0.00,0.00,0.00,0.00,0.00,0.00,0.00,0.00,0.00,0.00,0.00,0.00,0.00,0.00,0.00,0.00,0.00,0.00,0.00,0.00,0.00,0.00,0.00,0.00,0.00,0.00,0.00,0.00,0.00,0.00,0.00,0.00,0.00,0.00,0.00,0.00,0.00,0.00,0.00,0.00,0.00,0.00,0.00,0.00,0.00,0.00,0.00,0.00,0.00,0.00,0.00,0.00,0.00,0.00,0.00,0.00,0.00,0.00,0.00,0.00,0.00,0.00,0.00,0.00,0.00,0.00,0.00,0.00,0.00,0.00,0.00,0.00,0.00,0.00,0.00,0.00,0.00,0.00,0.00,0.00,0.00,0.00,0.00,0.00,0.00,0.00,0.00,0.00,0.00,0.00,0.00,0.00,0.00,0.00,0.00,0.00,0.00,0.00,0.00,0.00,0.00,0.00,0.00,0.00,0.00,0.00,0.00,0.00,0.00,0.00,0.00,0.00,0.00,0.00,0.00],\"precipitation\":[0.00,0.00,0.00,0.00,0.00,0.00,0.00,0.30,0.10,0.00,0.00,0.00,0.00,0.00,0.00,0.10,0.20,0.60,0.50,0.30,2.60,0.00,0.00,0.00,0.00,0.00,0.00,0.00,0.00,0.00,0.00,0.20,0.20,0.20,0.10,0.10,0.30,0.80,0.70,1.00,0.90,0.10,0.00,0.00,0.00,0.00,0.00,0.00,0.00,0.00,0.00,0.00,0.00,0.00,0.00,0.00,0.10,0.10,0.00,0.00,0.00,0.10,0.10,0.00,0.00,0.20,0.10,0.10,0.00,0.40,1.20,0.00,0.80,0.00,0.00,0.00,0.00,0.00,0.00,0.00,0.10,0.00,0.00,0.00,0.00,0.10,0.10,0.10,0.10,0.10,0.10,0.40,0.40,0.40,0.00,0.00,0.00,0.00,0.00,0.00,0.00,0.00,0.00,0.00,0.00,0.00,0.00,0.00,0.00,0.00,0.00,0.00,0.00,0.00,0.00,0.00,0.00,0.00,0.00,0.00,0.00,0.00,0.00,0.00,0.00,0.00,0.00,0.00,0.00,0.00,0.00,0.00,0.00,0.00,0.00,0.00,0.00,0.00,0.00,0.00,0.00,0.00,0.00,0.00,0.00,0.00,0.00,0.00,0.00,0.00,0.00,0.00,0.00,0.00,0.00,0.00,0.00,0.00,0.00,0.00,0.00,0.00,0.00,0.00,0.00,0.00,0.00,0.00],\"relative_humidity_2m\":[95,96,96,96,94,88,77,71,63,61,59,56,55,55,56,60,72,80,84,88,90,91,91,92,93,93,94,95,93,87,79,74,70,66,65,63,65,72,74,78,84,86,89,90,91,94,95,96,96,96,95,95,93,85,79,72,65,60,56,56,56,57,57,62,72,79,79,82,86,88,91,92,93,94,95,95,94,88,80,72,68,64,61,59,58,59,61,65,70,77,82,86,89,91,92,91,91,92,94,94,90,84,78,72,65,60,56,54,53,54,56,60,65,71,76,81,85,88,91,93,94,93,90,87,83,78,75,68,62,57,53,50,49,49,51,55,62,71,79,84,87,90,91,92,92,93,93,92,88,82,76,69,61,55,51,49,49,50,53,58,66,76,84,88,90,91,91,91]}}\n",
      "Carcassonne OK (2.354437, 43.209017)\n",
      "Status code: 200\n",
      "URL: https://api.open-meteo.com/v1/forecast?latitude=1.503476&longitude=42.956535&hourly=temperature_2m&hourly=rain&hourly=precipitation&hourly=relative_humidity_2m\n",
      "Response: {\"latitude\":1.5,\"longitude\":43.0,\"generationtime_ms\":0.3552436828613281,\"utc_offset_seconds\":0,\"timezone\":\"GMT\",\"timezone_abbreviation\":\"GMT\",\"elevation\":90.0,\"hourly_units\":{\"time\":\"iso8601\",\"temperature_2m\":\"°C\",\"rain\":\"mm\",\"precipitation\":\"mm\",\"relative_humidity_2m\":\"%\"},\"hourly\":{\"time\":[\"2025-05-02T00:00\",\"2025-05-02T01:00\",\"2025-05-02T02:00\",\"2025-05-02T03:00\",\"2025-05-02T04:00\",\"2025-05-02T05:00\",\"2025-05-02T06:00\",\"2025-05-02T07:00\",\"2025-05-02T08:00\",\"2025-05-02T09:00\",\"2025-05-02T10:00\",\"2025-05-02T11:00\",\"2025-05-02T12:00\",\"2025-05-02T13:00\",\"2025-05-02T14:00\",\"2025-05-02T15:00\",\"2025-05-02T16:00\",\"2025-05-02T17:00\",\"2025-05-02T18:00\",\"2025-05-02T19:00\",\"2025-05-02T20:00\",\"2025-05-02T21:00\",\"2025-05-02T22:00\",\"2025-05-02T23:00\",\"2025-05-03T00:00\",\"2025-05-03T01:00\",\"2025-05-03T02:00\",\"2025-05-03T03:00\",\"2025-05-03T04:00\",\"2025-05-03T05:00\",\"2025-05-03T06:00\",\"2025-05-03T07:00\",\"2025-05-03T08:00\",\"2025-05-03T09:00\",\"2025-05-03T10:00\",\"2025-05-03T11:00\",\"2025-05-03T12:00\",\"2025-05-03T13:00\",\"2025-05-03T14:00\",\"2025-05-03T15:00\",\"2025-05-03T16:00\",\"2025-05-03T17:00\",\"2025-05-03T18:00\",\"2025-05-03T19:00\",\"2025-05-03T20:00\",\"2025-05-03T21:00\",\"2025-05-03T22:00\",\"2025-05-03T23:00\",\"2025-05-04T00:00\",\"2025-05-04T01:00\",\"2025-05-04T02:00\",\"2025-05-04T03:00\",\"2025-05-04T04:00\",\"2025-05-04T05:00\",\"2025-05-04T06:00\",\"2025-05-04T07:00\",\"2025-05-04T08:00\",\"2025-05-04T09:00\",\"2025-05-04T10:00\",\"2025-05-04T11:00\",\"2025-05-04T12:00\",\"2025-05-04T13:00\",\"2025-05-04T14:00\",\"2025-05-04T15:00\",\"2025-05-04T16:00\",\"2025-05-04T17:00\",\"2025-05-04T18:00\",\"2025-05-04T19:00\",\"2025-05-04T20:00\",\"2025-05-04T21:00\",\"2025-05-04T22:00\",\"2025-05-04T23:00\",\"2025-05-05T00:00\",\"2025-05-05T01:00\",\"2025-05-05T02:00\",\"2025-05-05T03:00\",\"2025-05-05T04:00\",\"2025-05-05T05:00\",\"2025-05-05T06:00\",\"2025-05-05T07:00\",\"2025-05-05T08:00\",\"2025-05-05T09:00\",\"2025-05-05T10:00\",\"2025-05-05T11:00\",\"2025-05-05T12:00\",\"2025-05-05T13:00\",\"2025-05-05T14:00\",\"2025-05-05T15:00\",\"2025-05-05T16:00\",\"2025-05-05T17:00\",\"2025-05-05T18:00\",\"2025-05-05T19:00\",\"2025-05-05T20:00\",\"2025-05-05T21:00\",\"2025-05-05T22:00\",\"2025-05-05T23:00\",\"2025-05-06T00:00\",\"2025-05-06T01:00\",\"2025-05-06T02:00\",\"2025-05-06T03:00\",\"2025-05-06T04:00\",\"2025-05-06T05:00\",\"2025-05-06T06:00\",\"2025-05-06T07:00\",\"2025-05-06T08:00\",\"2025-05-06T09:00\",\"2025-05-06T10:00\",\"2025-05-06T11:00\",\"2025-05-06T12:00\",\"2025-05-06T13:00\",\"2025-05-06T14:00\",\"2025-05-06T15:00\",\"2025-05-06T16:00\",\"2025-05-06T17:00\",\"2025-05-06T18:00\",\"2025-05-06T19:00\",\"2025-05-06T20:00\",\"2025-05-06T21:00\",\"2025-05-06T22:00\",\"2025-05-06T23:00\",\"2025-05-07T00:00\",\"2025-05-07T01:00\",\"2025-05-07T02:00\",\"2025-05-07T03:00\",\"2025-05-07T04:00\",\"2025-05-07T05:00\",\"2025-05-07T06:00\",\"2025-05-07T07:00\",\"2025-05-07T08:00\",\"2025-05-07T09:00\",\"2025-05-07T10:00\",\"2025-05-07T11:00\",\"2025-05-07T12:00\",\"2025-05-07T13:00\",\"2025-05-07T14:00\",\"2025-05-07T15:00\",\"2025-05-07T16:00\",\"2025-05-07T17:00\",\"2025-05-07T18:00\",\"2025-05-07T19:00\",\"2025-05-07T20:00\",\"2025-05-07T21:00\",\"2025-05-07T22:00\",\"2025-05-07T23:00\",\"2025-05-08T00:00\",\"2025-05-08T01:00\",\"2025-05-08T02:00\",\"2025-05-08T03:00\",\"2025-05-08T04:00\",\"2025-05-08T05:00\",\"2025-05-08T06:00\",\"2025-05-08T07:00\",\"2025-05-08T08:00\",\"2025-05-08T09:00\",\"2025-05-08T10:00\",\"2025-05-08T11:00\",\"2025-05-08T12:00\",\"2025-05-08T13:00\",\"2025-05-08T14:00\",\"2025-05-08T15:00\",\"2025-05-08T16:00\",\"2025-05-08T17:00\",\"2025-05-08T18:00\",\"2025-05-08T19:00\",\"2025-05-08T20:00\",\"2025-05-08T21:00\",\"2025-05-08T22:00\",\"2025-05-08T23:00\"],\"temperature_2m\":[26.0,25.9,25.8,25.8,26.4,27.7,29.4,31.0,32.6,33.8,34.6,35.1,35.0,34.6,31.8,29.8,28.8,28.0,27.6,27.2,27.0,26.7,26.4,26.2,26.2,25.9,25.8,25.7,26.1,27.3,28.9,30.5,31.7,32.9,33.2,33.4,33.0,32.3,31.8,30.1,27.9,27.2,26.7,26.3,26.0,25.8,25.6,25.5,25.4,25.4,25.5,25.5,26.1,27.4,28.7,30.3,31.7,32.7,33.3,34.1,34.1,33.7,33.3,32.0,29.0,28.2,27.6,27.0,26.7,26.4,26.2,26.0,25.9,25.9,25.9,25.8,26.2,27.3,28.4,29.4,30.6,31.8,32.5,33.0,33.2,32.4,31.2,29.9,28.8,27.8,26.9,26.4,26.2,25.9,25.7,25.5,25.4,25.1,24.9,25.0,25.4,26.1,27.1,28.6,30.4,31.8,32.6,33.1,33.2,32.7,31.9,30.8,29.6,28.1,27.0,26.4,26.1,25.9,25.6,25.3,25.1,24.8,24.6,24.7,25.6,26.8,27.7,28.9,30.4,31.6,32.5,33.0,33.0,32.1,30.6,29.3,28.4,27.6,27.0,26.5,26.1,25.7,25.4,25.0,24.7,24.4,24.0,24.2,25.0,26.4,27.8,29.3,31.0,32.3,33.3,33.9,33.8,32.4,30.3,28.6,27.8,27.5,27.2,26.8,26.4,26.0,25.7,25.5],\"rain\":[0.00,0.00,0.00,0.00,0.00,0.00,0.00,0.00,0.00,0.00,0.00,0.00,0.00,0.00,0.00,0.00,0.00,0.00,0.00,0.00,0.00,0.00,0.00,0.00,0.00,0.00,0.00,0.00,0.00,0.00,0.00,0.00,0.00,0.00,0.00,0.00,0.00,0.00,0.00,0.00,0.00,0.00,0.00,0.00,0.00,0.00,0.00,0.00,0.00,0.00,0.00,0.00,0.00,0.00,0.00,0.00,0.00,0.00,0.00,0.00,0.00,0.00,0.00,0.00,0.00,0.00,0.00,0.00,0.00,0.00,0.00,0.00,0.00,0.00,0.00,0.00,0.00,0.00,0.00,0.00,0.00,0.00,0.00,0.00,0.00,0.00,0.00,0.00,0.00,0.00,0.00,0.00,0.00,0.00,0.00,0.00,0.00,0.00,0.00,0.00,0.00,0.00,0.00,0.00,0.00,0.00,0.00,0.00,0.00,0.00,0.00,0.00,0.00,0.00,0.00,0.00,0.00,0.00,0.00,0.00,0.00,0.00,0.00,0.00,0.00,0.00,0.00,0.00,0.00,0.00,0.00,0.00,0.00,0.00,0.00,0.00,0.00,0.00,0.00,0.00,0.00,0.00,0.00,0.00,0.00,0.00,0.00,0.00,0.00,0.00,0.00,0.00,0.00,0.00,0.00,0.00,0.00,0.00,0.00,0.00,0.00,0.00,0.00,0.00,0.00,0.00,0.00,0.00],\"precipitation\":[0.00,0.00,0.00,0.00,0.00,0.00,0.00,0.00,0.00,0.00,0.00,0.00,0.00,0.10,0.20,0.30,0.70,0.80,0.00,0.20,0.30,0.00,0.40,0.00,0.00,0.00,0.00,0.00,0.00,0.00,0.00,0.00,0.00,0.00,0.00,0.00,0.00,0.20,0.20,0.30,0.50,0.00,0.00,0.00,0.00,0.00,0.00,0.00,0.00,0.00,0.00,0.00,0.00,0.00,0.00,0.00,0.10,0.10,0.00,0.00,0.00,0.00,0.00,0.20,0.40,0.00,0.20,1.00,0.30,0.00,0.10,0.30,0.00,0.00,0.00,0.00,0.00,0.00,0.10,0.10,0.10,0.00,0.00,0.00,0.00,0.10,0.10,0.10,0.90,0.90,0.90,0.40,0.40,0.40,0.20,0.20,0.20,0.00,0.00,0.00,0.00,0.00,0.00,0.00,0.00,0.00,0.00,0.00,0.00,0.00,0.00,0.00,0.40,0.40,0.40,0.00,0.00,0.00,0.00,0.00,0.00,0.00,0.00,0.00,0.00,0.00,0.00,0.00,0.00,0.00,0.00,0.00,0.00,0.20,0.20,0.20,0.00,0.00,0.00,0.00,0.00,0.00,0.00,0.00,0.00,0.00,0.00,0.00,0.00,0.00,0.00,0.00,0.00,0.00,0.00,0.00,0.00,0.80,0.80,0.80,0.00,0.00,0.00,0.00,0.00,0.00,0.00,0.00],\"relative_humidity_2m\":[95,95,95,95,93,85,74,65,58,53,50,48,48,48,58,71,79,83,85,87,89,91,92,93,93,94,95,95,93,86,77,67,62,59,58,56,58,60,61,68,79,83,85,87,87,88,90,91,93,94,95,95,92,84,77,69,63,58,56,52,52,53,55,59,73,78,81,85,88,91,93,93,94,94,94,94,93,86,80,75,69,65,61,59,58,59,63,67,73,80,86,88,89,90,91,92,93,94,95,94,91,87,82,75,66,59,55,53,53,54,56,60,68,77,85,89,90,91,92,91,91,91,91,89,85,79,75,70,64,59,55,52,52,57,65,72,77,80,83,86,87,89,90,91,91,92,93,92,88,82,76,69,62,56,52,51,52,59,70,78,82,84,86,87,87,88,89,90]}}\n",
      "Ariege OK (1.503476, 42.956535)\n",
      "Status code: 200\n",
      "URL: https://api.open-meteo.com/v1/forecast?latitude=1.437487&longitude=43.60766&hourly=temperature_2m&hourly=rain&hourly=precipitation&hourly=relative_humidity_2m\n",
      "Response: {\"latitude\":1.375,\"longitude\":43.625,\"generationtime_ms\":0.0514984130859375,\"utc_offset_seconds\":0,\"timezone\":\"GMT\",\"timezone_abbreviation\":\"GMT\",\"elevation\":49.0,\"hourly_units\":{\"time\":\"iso8601\",\"temperature_2m\":\"°C\",\"rain\":\"mm\",\"precipitation\":\"mm\",\"relative_humidity_2m\":\"%\"},\"hourly\":{\"time\":[\"2025-05-02T00:00\",\"2025-05-02T01:00\",\"2025-05-02T02:00\",\"2025-05-02T03:00\",\"2025-05-02T04:00\",\"2025-05-02T05:00\",\"2025-05-02T06:00\",\"2025-05-02T07:00\",\"2025-05-02T08:00\",\"2025-05-02T09:00\",\"2025-05-02T10:00\",\"2025-05-02T11:00\",\"2025-05-02T12:00\",\"2025-05-02T13:00\",\"2025-05-02T14:00\",\"2025-05-02T15:00\",\"2025-05-02T16:00\",\"2025-05-02T17:00\",\"2025-05-02T18:00\",\"2025-05-02T19:00\",\"2025-05-02T20:00\",\"2025-05-02T21:00\",\"2025-05-02T22:00\",\"2025-05-02T23:00\",\"2025-05-03T00:00\",\"2025-05-03T01:00\",\"2025-05-03T02:00\",\"2025-05-03T03:00\",\"2025-05-03T04:00\",\"2025-05-03T05:00\",\"2025-05-03T06:00\",\"2025-05-03T07:00\",\"2025-05-03T08:00\",\"2025-05-03T09:00\",\"2025-05-03T10:00\",\"2025-05-03T11:00\",\"2025-05-03T12:00\",\"2025-05-03T13:00\",\"2025-05-03T14:00\",\"2025-05-03T15:00\",\"2025-05-03T16:00\",\"2025-05-03T17:00\",\"2025-05-03T18:00\",\"2025-05-03T19:00\",\"2025-05-03T20:00\",\"2025-05-03T21:00\",\"2025-05-03T22:00\",\"2025-05-03T23:00\",\"2025-05-04T00:00\",\"2025-05-04T01:00\",\"2025-05-04T02:00\",\"2025-05-04T03:00\",\"2025-05-04T04:00\",\"2025-05-04T05:00\",\"2025-05-04T06:00\",\"2025-05-04T07:00\",\"2025-05-04T08:00\",\"2025-05-04T09:00\",\"2025-05-04T10:00\",\"2025-05-04T11:00\",\"2025-05-04T12:00\",\"2025-05-04T13:00\",\"2025-05-04T14:00\",\"2025-05-04T15:00\",\"2025-05-04T16:00\",\"2025-05-04T17:00\",\"2025-05-04T18:00\",\"2025-05-04T19:00\",\"2025-05-04T20:00\",\"2025-05-04T21:00\",\"2025-05-04T22:00\",\"2025-05-04T23:00\",\"2025-05-05T00:00\",\"2025-05-05T01:00\",\"2025-05-05T02:00\",\"2025-05-05T03:00\",\"2025-05-05T04:00\",\"2025-05-05T05:00\",\"2025-05-05T06:00\",\"2025-05-05T07:00\",\"2025-05-05T08:00\",\"2025-05-05T09:00\",\"2025-05-05T10:00\",\"2025-05-05T11:00\",\"2025-05-05T12:00\",\"2025-05-05T13:00\",\"2025-05-05T14:00\",\"2025-05-05T15:00\",\"2025-05-05T16:00\",\"2025-05-05T17:00\",\"2025-05-05T18:00\",\"2025-05-05T19:00\",\"2025-05-05T20:00\",\"2025-05-05T21:00\",\"2025-05-05T22:00\",\"2025-05-05T23:00\",\"2025-05-06T00:00\",\"2025-05-06T01:00\",\"2025-05-06T02:00\",\"2025-05-06T03:00\",\"2025-05-06T04:00\",\"2025-05-06T05:00\",\"2025-05-06T06:00\",\"2025-05-06T07:00\",\"2025-05-06T08:00\",\"2025-05-06T09:00\",\"2025-05-06T10:00\",\"2025-05-06T11:00\",\"2025-05-06T12:00\",\"2025-05-06T13:00\",\"2025-05-06T14:00\",\"2025-05-06T15:00\",\"2025-05-06T16:00\",\"2025-05-06T17:00\",\"2025-05-06T18:00\",\"2025-05-06T19:00\",\"2025-05-06T20:00\",\"2025-05-06T21:00\",\"2025-05-06T22:00\",\"2025-05-06T23:00\",\"2025-05-07T00:00\",\"2025-05-07T01:00\",\"2025-05-07T02:00\",\"2025-05-07T03:00\",\"2025-05-07T04:00\",\"2025-05-07T05:00\",\"2025-05-07T06:00\",\"2025-05-07T07:00\",\"2025-05-07T08:00\",\"2025-05-07T09:00\",\"2025-05-07T10:00\",\"2025-05-07T11:00\",\"2025-05-07T12:00\",\"2025-05-07T13:00\",\"2025-05-07T14:00\",\"2025-05-07T15:00\",\"2025-05-07T16:00\",\"2025-05-07T17:00\",\"2025-05-07T18:00\",\"2025-05-07T19:00\",\"2025-05-07T20:00\",\"2025-05-07T21:00\",\"2025-05-07T22:00\",\"2025-05-07T23:00\",\"2025-05-08T00:00\",\"2025-05-08T01:00\",\"2025-05-08T02:00\",\"2025-05-08T03:00\",\"2025-05-08T04:00\",\"2025-05-08T05:00\",\"2025-05-08T06:00\",\"2025-05-08T07:00\",\"2025-05-08T08:00\",\"2025-05-08T09:00\",\"2025-05-08T10:00\",\"2025-05-08T11:00\",\"2025-05-08T12:00\",\"2025-05-08T13:00\",\"2025-05-08T14:00\",\"2025-05-08T15:00\",\"2025-05-08T16:00\",\"2025-05-08T17:00\",\"2025-05-08T18:00\",\"2025-05-08T19:00\",\"2025-05-08T20:00\",\"2025-05-08T21:00\",\"2025-05-08T22:00\",\"2025-05-08T23:00\"],\"temperature_2m\":[26.0,26.0,26.0,25.9,26.7,28.3,30.0,31.2,32.3,33.5,33.9,34.1,32.8,32.2,31.6,30.5,29.1,28.0,27.4,27.0,26.8,26.5,26.5,26.5,26.2,26.0,25.9,25.8,26.6,28.2,29.8,31.2,32.6,33.6,34.2,34.0,32.5,29.5,29.2,28.4,28.0,27.5,26.9,26.6,26.4,26.1,26.0,26.0,26.1,26.0,25.9,25.7,26.4,27.7,29.0,30.5,32.0,33.3,33.9,34.2,34.2,33.5,31.1,30.6,29.2,28.1,27.5,27.2,27.1,26.9,26.6,26.5,26.4,26.3,26.1,26.0,26.6,28.0,29.4,31.0,32.2,33.3,33.7,33.0,32.2,31.1,29.8,28.6,27.9,27.4,27.0,26.6,26.3,26.0,25.9,25.7,25.5,25.3,25.0,25.2,25.9,26.9,28.0,29.4,30.8,32.0,32.9,33.5,33.5,32.5,30.8,29.3,28.4,27.7,27.1,26.6,26.2,25.9,25.5,25.2,25.0,24.6,24.4,24.5,25.5,26.8,27.8,29.2,30.6,31.8,32.8,33.5,33.5,32.5,30.6,29.1,28.2,27.5,27.0,26.4,26.0,25.5,25.2,25.0,24.8,24.4,24.0,24.1,25.1,26.7,28.3,30.0,31.6,32.8,33.3,33.4,33.0,31.9,30.4,29.0,28.1,27.5,27.0,26.5,26.3,26.0,25.8,25.6],\"rain\":[0.00,0.00,0.00,0.00,0.00,0.00,0.00,0.00,0.00,0.00,0.00,0.00,0.00,0.00,0.00,0.00,0.00,0.00,0.00,0.00,0.00,0.00,0.00,0.00,0.00,0.00,0.00,0.00,0.00,0.00,0.00,0.00,0.00,0.00,0.00,0.00,0.00,0.00,0.00,0.00,0.00,0.00,0.00,0.00,0.00,0.00,0.00,0.00,0.00,0.00,0.00,0.00,0.00,0.00,0.00,0.00,0.00,0.00,0.00,0.00,0.00,0.00,0.00,0.00,0.00,0.00,0.00,0.00,0.00,0.00,0.00,0.00,0.00,0.00,0.00,0.00,0.00,0.00,0.00,0.00,0.00,0.00,0.00,0.00,0.00,0.00,0.00,0.00,0.00,0.00,0.00,0.00,0.00,0.00,0.00,0.00,0.00,0.00,0.00,0.00,0.00,0.00,0.00,0.00,0.00,0.00,0.00,0.00,0.00,0.00,0.00,0.00,0.00,0.00,0.00,0.00,0.00,0.00,0.00,0.00,0.00,0.00,0.00,0.00,0.00,0.00,0.00,0.00,0.00,0.00,0.00,0.00,0.00,0.00,0.00,0.00,0.00,0.00,0.00,0.00,0.00,0.00,0.00,0.00,0.00,0.00,0.00,0.00,0.00,0.00,0.00,0.00,0.00,0.00,0.00,0.00,0.00,0.00,0.00,0.00,0.00,0.00,0.00,0.00,0.00,0.00,0.00,0.00],\"precipitation\":[0.00,0.00,0.00,0.00,0.00,0.00,0.00,0.00,0.00,0.00,0.10,0.00,0.20,0.30,0.10,0.10,0.00,0.00,0.00,0.00,0.00,0.00,0.00,0.00,0.00,0.00,0.00,0.00,0.00,0.00,0.00,0.00,0.10,0.00,0.00,0.00,0.40,2.80,1.10,1.00,0.60,0.60,0.30,0.00,0.00,0.00,0.00,0.00,0.00,0.00,0.00,0.00,0.00,0.00,0.00,0.00,0.00,0.00,0.00,0.00,0.00,0.00,0.20,0.00,0.00,0.00,0.00,0.00,0.00,0.00,0.00,0.00,0.00,0.00,0.00,0.00,0.00,0.00,0.00,0.10,0.10,0.10,0.00,0.00,0.20,1.00,1.00,1.00,0.10,0.10,0.10,0.00,0.00,0.00,0.00,0.00,0.00,0.00,0.00,0.00,0.00,0.00,0.00,0.00,0.00,0.00,0.00,0.00,0.00,0.20,0.20,0.20,0.50,0.50,0.50,0.00,0.00,0.00,0.00,0.00,0.00,0.00,0.00,0.00,0.00,0.00,0.00,0.00,0.00,0.00,0.00,0.00,0.00,0.10,0.10,0.10,0.00,0.00,0.00,0.00,0.00,0.00,0.00,0.00,0.00,0.00,0.00,0.00,0.00,0.00,0.00,0.00,0.00,0.00,0.10,0.10,0.10,0.60,0.60,0.60,0.00,0.00,0.00,0.00,0.00,0.00,0.00,0.00],\"relative_humidity_2m\":[95,95,96,96,95,85,76,68,62,58,56,55,60,63,63,68,76,82,87,89,91,91,91,91,92,93,94,94,92,85,74,66,61,56,54,53,58,75,77,81,84,86,89,91,92,94,94,95,95,95,96,96,94,87,79,71,63,57,54,52,52,54,67,70,73,80,86,89,90,91,92,92,92,93,94,95,92,83,76,68,61,56,54,57,61,66,73,79,83,86,88,90,92,93,94,94,94,95,95,94,90,85,79,72,65,59,55,53,54,59,66,73,79,84,88,89,89,89,89,90,90,91,93,92,88,82,77,70,65,60,56,53,53,58,67,74,78,81,83,85,87,89,90,90,90,92,93,93,89,82,75,68,61,56,54,55,57,62,70,76,80,84,87,89,91,92,93,94]}}\n",
      "Toulouse OK (1.437487, 43.60766)\n",
      "Status code: 200\n",
      "URL: https://api.open-meteo.com/v1/forecast?latitude=1.366155&longitude=44.022919&hourly=temperature_2m&hourly=rain&hourly=precipitation&hourly=relative_humidity_2m\n",
      "Response: {\"latitude\":1.375,\"longitude\":44.0,\"generationtime_ms\":0.029325485229492188,\"utc_offset_seconds\":0,\"timezone\":\"GMT\",\"timezone_abbreviation\":\"GMT\",\"elevation\":50.0,\"hourly_units\":{\"time\":\"iso8601\",\"temperature_2m\":\"°C\",\"rain\":\"mm\",\"precipitation\":\"mm\",\"relative_humidity_2m\":\"%\"},\"hourly\":{\"time\":[\"2025-05-02T00:00\",\"2025-05-02T01:00\",\"2025-05-02T02:00\",\"2025-05-02T03:00\",\"2025-05-02T04:00\",\"2025-05-02T05:00\",\"2025-05-02T06:00\",\"2025-05-02T07:00\",\"2025-05-02T08:00\",\"2025-05-02T09:00\",\"2025-05-02T10:00\",\"2025-05-02T11:00\",\"2025-05-02T12:00\",\"2025-05-02T13:00\",\"2025-05-02T14:00\",\"2025-05-02T15:00\",\"2025-05-02T16:00\",\"2025-05-02T17:00\",\"2025-05-02T18:00\",\"2025-05-02T19:00\",\"2025-05-02T20:00\",\"2025-05-02T21:00\",\"2025-05-02T22:00\",\"2025-05-02T23:00\",\"2025-05-03T00:00\",\"2025-05-03T01:00\",\"2025-05-03T02:00\",\"2025-05-03T03:00\",\"2025-05-03T04:00\",\"2025-05-03T05:00\",\"2025-05-03T06:00\",\"2025-05-03T07:00\",\"2025-05-03T08:00\",\"2025-05-03T09:00\",\"2025-05-03T10:00\",\"2025-05-03T11:00\",\"2025-05-03T12:00\",\"2025-05-03T13:00\",\"2025-05-03T14:00\",\"2025-05-03T15:00\",\"2025-05-03T16:00\",\"2025-05-03T17:00\",\"2025-05-03T18:00\",\"2025-05-03T19:00\",\"2025-05-03T20:00\",\"2025-05-03T21:00\",\"2025-05-03T22:00\",\"2025-05-03T23:00\",\"2025-05-04T00:00\",\"2025-05-04T01:00\",\"2025-05-04T02:00\",\"2025-05-04T03:00\",\"2025-05-04T04:00\",\"2025-05-04T05:00\",\"2025-05-04T06:00\",\"2025-05-04T07:00\",\"2025-05-04T08:00\",\"2025-05-04T09:00\",\"2025-05-04T10:00\",\"2025-05-04T11:00\",\"2025-05-04T12:00\",\"2025-05-04T13:00\",\"2025-05-04T14:00\",\"2025-05-04T15:00\",\"2025-05-04T16:00\",\"2025-05-04T17:00\",\"2025-05-04T18:00\",\"2025-05-04T19:00\",\"2025-05-04T20:00\",\"2025-05-04T21:00\",\"2025-05-04T22:00\",\"2025-05-04T23:00\",\"2025-05-05T00:00\",\"2025-05-05T01:00\",\"2025-05-05T02:00\",\"2025-05-05T03:00\",\"2025-05-05T04:00\",\"2025-05-05T05:00\",\"2025-05-05T06:00\",\"2025-05-05T07:00\",\"2025-05-05T08:00\",\"2025-05-05T09:00\",\"2025-05-05T10:00\",\"2025-05-05T11:00\",\"2025-05-05T12:00\",\"2025-05-05T13:00\",\"2025-05-05T14:00\",\"2025-05-05T15:00\",\"2025-05-05T16:00\",\"2025-05-05T17:00\",\"2025-05-05T18:00\",\"2025-05-05T19:00\",\"2025-05-05T20:00\",\"2025-05-05T21:00\",\"2025-05-05T22:00\",\"2025-05-05T23:00\",\"2025-05-06T00:00\",\"2025-05-06T01:00\",\"2025-05-06T02:00\",\"2025-05-06T03:00\",\"2025-05-06T04:00\",\"2025-05-06T05:00\",\"2025-05-06T06:00\",\"2025-05-06T07:00\",\"2025-05-06T08:00\",\"2025-05-06T09:00\",\"2025-05-06T10:00\",\"2025-05-06T11:00\",\"2025-05-06T12:00\",\"2025-05-06T13:00\",\"2025-05-06T14:00\",\"2025-05-06T15:00\",\"2025-05-06T16:00\",\"2025-05-06T17:00\",\"2025-05-06T18:00\",\"2025-05-06T19:00\",\"2025-05-06T20:00\",\"2025-05-06T21:00\",\"2025-05-06T22:00\",\"2025-05-06T23:00\",\"2025-05-07T00:00\",\"2025-05-07T01:00\",\"2025-05-07T02:00\",\"2025-05-07T03:00\",\"2025-05-07T04:00\",\"2025-05-07T05:00\",\"2025-05-07T06:00\",\"2025-05-07T07:00\",\"2025-05-07T08:00\",\"2025-05-07T09:00\",\"2025-05-07T10:00\",\"2025-05-07T11:00\",\"2025-05-07T12:00\",\"2025-05-07T13:00\",\"2025-05-07T14:00\",\"2025-05-07T15:00\",\"2025-05-07T16:00\",\"2025-05-07T17:00\",\"2025-05-07T18:00\",\"2025-05-07T19:00\",\"2025-05-07T20:00\",\"2025-05-07T21:00\",\"2025-05-07T22:00\",\"2025-05-07T23:00\",\"2025-05-08T00:00\",\"2025-05-08T01:00\",\"2025-05-08T02:00\",\"2025-05-08T03:00\",\"2025-05-08T04:00\",\"2025-05-08T05:00\",\"2025-05-08T06:00\",\"2025-05-08T07:00\",\"2025-05-08T08:00\",\"2025-05-08T09:00\",\"2025-05-08T10:00\",\"2025-05-08T11:00\",\"2025-05-08T12:00\",\"2025-05-08T13:00\",\"2025-05-08T14:00\",\"2025-05-08T15:00\",\"2025-05-08T16:00\",\"2025-05-08T17:00\",\"2025-05-08T18:00\",\"2025-05-08T19:00\",\"2025-05-08T20:00\",\"2025-05-08T21:00\",\"2025-05-08T22:00\",\"2025-05-08T23:00\"],\"temperature_2m\":[26.7,26.6,26.6,26.4,27.2,28.6,30.1,31.3,32.4,33.2,32.7,33.1,33.1,32.2,31.1,29.9,28.7,28.2,27.9,27.7,27.5,27.2,27.0,26.9,26.7,26.5,26.1,26.0,26.9,28.5,30.2,31.6,32.7,33.7,33.8,31.9,30.6,31.1,30.0,29.3,28.5,27.7,27.4,27.1,26.9,26.6,26.3,26.0,25.8,25.7,25.6,25.5,26.4,28.0,29.4,30.8,32.4,33.4,34.1,33.8,31.7,31.5,31.1,30.0,28.6,27.9,27.6,27.4,27.3,27.2,27.0,26.8,26.6,26.3,26.2,26.0,26.8,28.2,29.6,31.3,32.5,33.3,33.9,31.7,30.6,30.0,29.5,29.0,28.3,27.7,27.1,26.8,26.6,26.5,26.3,26.2,26.0,25.7,25.3,25.4,26.0,27.1,28.3,29.7,31.2,32.4,33.2,33.7,33.5,32.4,30.7,29.3,28.3,27.6,27.0,26.7,26.5,26.3,26.0,25.5,25.2,24.8,24.5,24.7,25.6,27.0,28.0,29.5,31.1,32.3,33.2,33.8,33.8,32.7,30.9,29.4,28.4,27.6,26.9,26.4,26.0,25.7,25.4,25.2,25.0,24.6,24.2,24.4,25.4,27.0,28.6,30.3,32.1,33.1,33.0,32.2,31.3,30.6,29.7,29.0,28.3,27.6,27.1,26.8,26.5,26.3,26.1,25.8],\"rain\":[0.00,0.00,0.00,0.00,0.00,0.00,0.00,0.00,0.00,0.00,0.00,0.00,0.00,0.00,0.00,0.00,0.00,0.00,0.00,0.00,0.00,0.00,0.00,0.00,0.00,0.00,0.00,0.00,0.00,0.00,0.00,0.00,0.00,0.00,0.00,0.00,0.00,0.00,0.00,0.00,0.00,0.00,0.00,0.00,0.00,0.00,0.00,0.00,0.00,0.00,0.00,0.00,0.00,0.00,0.00,0.00,0.00,0.00,0.00,0.00,0.00,0.00,0.00,0.00,0.00,0.00,0.00,0.00,0.00,0.00,0.00,0.00,0.00,0.00,0.00,0.00,0.00,0.00,0.00,0.00,0.00,0.00,0.00,0.00,0.00,0.00,0.00,0.00,0.00,0.00,0.00,0.00,0.00,0.00,0.00,0.00,0.00,0.00,0.00,0.00,0.00,0.00,0.00,0.00,0.00,0.00,0.00,0.00,0.00,0.00,0.00,0.00,0.00,0.00,0.00,0.00,0.00,0.00,0.00,0.00,0.00,0.00,0.00,0.00,0.00,0.00,0.00,0.00,0.00,0.00,0.00,0.00,0.00,0.00,0.00,0.00,0.00,0.00,0.00,0.00,0.00,0.00,0.00,0.00,0.00,0.00,0.00,0.00,0.00,0.00,0.00,0.00,0.00,0.00,0.00,0.00,0.00,0.00,0.00,0.00,0.00,0.00,0.00,0.00,0.00,0.00,0.00,0.00],\"precipitation\":[0.00,0.00,0.00,0.00,0.00,0.00,0.00,0.10,0.10,0.00,0.10,0.00,0.00,0.00,0.10,0.00,0.00,0.00,0.00,0.00,0.00,0.00,0.00,0.00,0.00,0.00,0.00,0.00,0.00,0.00,0.00,0.00,0.10,0.00,0.00,0.70,1.60,0.10,0.90,0.30,0.40,1.30,0.10,0.10,0.00,0.00,0.00,0.00,0.00,0.00,0.00,0.00,0.00,0.00,0.00,0.00,0.00,0.00,0.00,0.00,1.10,0.50,0.20,0.00,0.00,0.00,0.00,0.00,0.00,0.00,0.00,0.00,0.00,0.00,0.00,0.00,0.00,0.00,0.00,0.00,0.10,0.10,0.00,0.50,1.10,0.10,0.10,0.10,0.00,0.00,0.00,0.00,0.00,0.00,0.00,0.00,0.00,0.00,0.00,0.00,0.00,0.00,0.00,0.00,0.00,0.00,0.00,0.00,0.00,0.30,0.30,0.30,0.00,0.00,0.00,0.00,0.00,0.00,0.00,0.00,0.00,0.00,0.00,0.00,0.00,0.00,0.00,0.00,0.00,0.00,0.00,0.00,0.00,0.30,0.30,0.30,0.00,0.00,0.00,0.00,0.00,0.00,0.00,0.00,0.00,0.00,0.00,0.00,0.00,0.00,0.00,0.00,0.00,0.00,0.50,0.50,0.50,0.40,0.40,0.40,0.00,0.00,0.00,0.00,0.00,0.00,0.00,0.00],\"relative_humidity_2m\":[91,92,92,93,92,83,74,68,62,60,61,59,58,61,67,73,81,84,86,87,88,89,90,91,92,93,95,95,91,81,71,64,59,56,55,65,73,69,73,77,81,84,86,89,91,93,94,95,95,95,95,95,93,84,77,70,61,56,55,57,69,69,68,72,80,85,88,90,90,89,90,91,92,93,93,93,91,83,76,67,61,56,55,64,71,73,73,75,79,85,89,91,91,92,93,94,94,95,95,94,90,83,77,70,63,58,54,52,53,59,69,77,82,86,88,89,89,89,89,89,89,90,92,92,87,81,76,69,62,57,53,51,52,58,66,74,79,82,85,87,89,90,91,91,91,92,94,93,88,81,74,66,58,54,56,62,67,70,73,76,80,84,87,89,91,92,93,94]}}\n",
      "Montauban OK (1.366155, 44.022919)\n",
      "Status code: 200\n",
      "URL: https://api.open-meteo.com/v1/forecast?latitude=-1.564367&longitude=43.479116&hourly=temperature_2m&hourly=rain&hourly=precipitation&hourly=relative_humidity_2m\n",
      "Response: {\"latitude\":-1.625,\"longitude\":43.5,\"generationtime_ms\":0.41675567626953125,\"utc_offset_seconds\":0,\"timezone\":\"GMT\",\"timezone_abbreviation\":\"GMT\",\"elevation\":0.0,\"hourly_units\":{\"time\":\"iso8601\",\"temperature_2m\":\"°C\",\"rain\":\"mm\",\"precipitation\":\"mm\",\"relative_humidity_2m\":\"%\"},\"hourly\":{\"time\":[\"2025-05-02T00:00\",\"2025-05-02T01:00\",\"2025-05-02T02:00\",\"2025-05-02T03:00\",\"2025-05-02T04:00\",\"2025-05-02T05:00\",\"2025-05-02T06:00\",\"2025-05-02T07:00\",\"2025-05-02T08:00\",\"2025-05-02T09:00\",\"2025-05-02T10:00\",\"2025-05-02T11:00\",\"2025-05-02T12:00\",\"2025-05-02T13:00\",\"2025-05-02T14:00\",\"2025-05-02T15:00\",\"2025-05-02T16:00\",\"2025-05-02T17:00\",\"2025-05-02T18:00\",\"2025-05-02T19:00\",\"2025-05-02T20:00\",\"2025-05-02T21:00\",\"2025-05-02T22:00\",\"2025-05-02T23:00\",\"2025-05-03T00:00\",\"2025-05-03T01:00\",\"2025-05-03T02:00\",\"2025-05-03T03:00\",\"2025-05-03T04:00\",\"2025-05-03T05:00\",\"2025-05-03T06:00\",\"2025-05-03T07:00\",\"2025-05-03T08:00\",\"2025-05-03T09:00\",\"2025-05-03T10:00\",\"2025-05-03T11:00\",\"2025-05-03T12:00\",\"2025-05-03T13:00\",\"2025-05-03T14:00\",\"2025-05-03T15:00\",\"2025-05-03T16:00\",\"2025-05-03T17:00\",\"2025-05-03T18:00\",\"2025-05-03T19:00\",\"2025-05-03T20:00\",\"2025-05-03T21:00\",\"2025-05-03T22:00\",\"2025-05-03T23:00\",\"2025-05-04T00:00\",\"2025-05-04T01:00\",\"2025-05-04T02:00\",\"2025-05-04T03:00\",\"2025-05-04T04:00\",\"2025-05-04T05:00\",\"2025-05-04T06:00\",\"2025-05-04T07:00\",\"2025-05-04T08:00\",\"2025-05-04T09:00\",\"2025-05-04T10:00\",\"2025-05-04T11:00\",\"2025-05-04T12:00\",\"2025-05-04T13:00\",\"2025-05-04T14:00\",\"2025-05-04T15:00\",\"2025-05-04T16:00\",\"2025-05-04T17:00\",\"2025-05-04T18:00\",\"2025-05-04T19:00\",\"2025-05-04T20:00\",\"2025-05-04T21:00\",\"2025-05-04T22:00\",\"2025-05-04T23:00\",\"2025-05-05T00:00\",\"2025-05-05T01:00\",\"2025-05-05T02:00\",\"2025-05-05T03:00\",\"2025-05-05T04:00\",\"2025-05-05T05:00\",\"2025-05-05T06:00\",\"2025-05-05T07:00\",\"2025-05-05T08:00\",\"2025-05-05T09:00\",\"2025-05-05T10:00\",\"2025-05-05T11:00\",\"2025-05-05T12:00\",\"2025-05-05T13:00\",\"2025-05-05T14:00\",\"2025-05-05T15:00\",\"2025-05-05T16:00\",\"2025-05-05T17:00\",\"2025-05-05T18:00\",\"2025-05-05T19:00\",\"2025-05-05T20:00\",\"2025-05-05T21:00\",\"2025-05-05T22:00\",\"2025-05-05T23:00\",\"2025-05-06T00:00\",\"2025-05-06T01:00\",\"2025-05-06T02:00\",\"2025-05-06T03:00\",\"2025-05-06T04:00\",\"2025-05-06T05:00\",\"2025-05-06T06:00\",\"2025-05-06T07:00\",\"2025-05-06T08:00\",\"2025-05-06T09:00\",\"2025-05-06T10:00\",\"2025-05-06T11:00\",\"2025-05-06T12:00\",\"2025-05-06T13:00\",\"2025-05-06T14:00\",\"2025-05-06T15:00\",\"2025-05-06T16:00\",\"2025-05-06T17:00\",\"2025-05-06T18:00\",\"2025-05-06T19:00\",\"2025-05-06T20:00\",\"2025-05-06T21:00\",\"2025-05-06T22:00\",\"2025-05-06T23:00\",\"2025-05-07T00:00\",\"2025-05-07T01:00\",\"2025-05-07T02:00\",\"2025-05-07T03:00\",\"2025-05-07T04:00\",\"2025-05-07T05:00\",\"2025-05-07T06:00\",\"2025-05-07T07:00\",\"2025-05-07T08:00\",\"2025-05-07T09:00\",\"2025-05-07T10:00\",\"2025-05-07T11:00\",\"2025-05-07T12:00\",\"2025-05-07T13:00\",\"2025-05-07T14:00\",\"2025-05-07T15:00\",\"2025-05-07T16:00\",\"2025-05-07T17:00\",\"2025-05-07T18:00\",\"2025-05-07T19:00\",\"2025-05-07T20:00\",\"2025-05-07T21:00\",\"2025-05-07T22:00\",\"2025-05-07T23:00\",\"2025-05-08T00:00\",\"2025-05-08T01:00\",\"2025-05-08T02:00\",\"2025-05-08T03:00\",\"2025-05-08T04:00\",\"2025-05-08T05:00\",\"2025-05-08T06:00\",\"2025-05-08T07:00\",\"2025-05-08T08:00\",\"2025-05-08T09:00\",\"2025-05-08T10:00\",\"2025-05-08T11:00\",\"2025-05-08T12:00\",\"2025-05-08T13:00\",\"2025-05-08T14:00\",\"2025-05-08T15:00\",\"2025-05-08T16:00\",\"2025-05-08T17:00\",\"2025-05-08T18:00\",\"2025-05-08T19:00\",\"2025-05-08T20:00\",\"2025-05-08T21:00\",\"2025-05-08T22:00\",\"2025-05-08T23:00\"],\"temperature_2m\":[28.5,28.5,28.5,28.6,28.6,28.7,28.9,29.0,29.1,29.1,29.0,28.9,28.8,28.9,28.9,28.8,28.8,28.8,28.6,28.5,28.3,28.1,28.0,28.2,28.1,28.1,28.2,28.2,28.3,28.4,28.4,28.4,28.2,28.1,28.0,28.0,28.0,28.1,28.0,28.1,28.3,28.4,28.5,28.6,28.6,28.8,28.7,28.6,28.5,28.5,28.5,28.5,28.5,28.6,28.6,28.6,28.7,28.6,28.6,28.2,28.1,28.1,28.0,28.1,28.2,28.2,28.2,28.5,28.3,28.1,28.3,28.4,28.3,28.3,28.2,28.2,28.1,28.0,28.0,28.2,28.1,28.0,27.9,27.9,27.9,27.9,27.9,28.0,28.0,27.9,27.9,28.0,28.0,28.0,28.0,28.0,28.0,27.8,27.6,27.5,27.6,27.7,27.8,27.9,28.0,28.1,28.0,27.8,27.6,27.6,27.5,27.5,27.5,27.5,27.5,27.5,27.5,27.5,27.6,27.6,27.7,27.7,27.6,27.6,27.6,27.5,27.5,27.6,27.6,27.6,27.6,27.5,27.4,27.4,27.5,27.5,27.5,27.5,27.5,27.5,27.8,27.9,27.9,27.8,27.8,27.6,27.5,27.5,27.6,28.0,28.1,28.2,28.2,28.2,28.2,28.2,28.3,28.4,28.4,28.5,28.4,28.3,28.2,28.3,28.4,28.4,28.3,28.1],\"rain\":[0.00,0.00,0.00,0.00,0.00,0.00,0.00,0.00,0.00,0.00,0.00,0.00,0.00,0.00,0.00,0.00,0.00,0.00,0.00,0.00,0.00,0.00,0.00,0.00,0.00,0.00,0.00,0.00,0.00,0.00,0.00,0.00,0.00,0.00,0.00,0.00,0.00,0.00,0.00,0.00,0.00,0.00,0.00,0.00,0.00,0.00,0.00,0.00,0.00,0.00,0.00,0.00,0.00,0.00,0.00,0.00,0.00,0.00,0.00,0.00,0.00,0.00,0.00,0.00,0.00,0.00,0.00,0.00,0.00,0.00,0.00,0.00,0.00,0.00,0.00,0.00,0.00,0.00,0.00,0.00,0.00,0.00,0.00,0.00,0.00,0.00,0.00,0.00,0.00,0.00,0.00,0.00,0.00,0.00,0.00,0.00,0.00,0.00,0.00,0.00,0.00,0.00,0.00,0.00,0.00,0.00,0.00,0.00,0.00,0.00,0.00,0.00,0.00,0.00,0.00,0.00,0.00,0.00,0.00,0.00,0.00,0.00,0.00,0.00,0.00,0.00,0.00,0.00,0.00,0.00,0.00,0.00,0.00,0.00,0.00,0.00,0.00,0.00,0.00,0.00,0.00,0.00,0.00,0.00,0.00,0.00,0.00,0.00,0.00,0.00,0.00,0.00,0.00,0.00,0.00,0.00,0.00,0.00,0.00,0.00,0.00,0.00,0.00,0.00,0.00,0.00,0.00,0.00],\"precipitation\":[0.00,0.00,0.00,0.00,0.00,0.00,0.00,0.00,0.00,0.00,0.00,0.00,0.00,0.10,0.10,0.10,0.10,0.10,0.10,0.10,0.10,0.10,0.10,0.10,0.10,0.00,0.00,0.00,0.00,0.10,0.10,0.10,0.20,0.30,0.60,0.50,0.10,0.10,0.10,0.30,0.00,0.00,0.00,0.00,0.00,0.00,0.00,0.00,0.00,0.00,0.00,0.00,0.00,0.00,0.00,0.00,0.00,0.00,0.10,0.10,0.10,0.00,0.10,0.00,0.00,0.00,0.00,0.00,0.00,0.10,0.00,0.10,0.10,0.00,0.00,0.10,0.20,0.40,0.60,0.00,0.10,0.30,0.40,0.80,1.10,0.70,0.70,0.70,0.80,0.80,0.80,0.40,0.40,0.40,0.00,0.00,0.00,1.00,1.00,1.00,1.10,1.10,1.10,0.00,0.00,0.00,1.00,1.00,1.00,1.90,1.90,1.90,1.10,1.10,1.10,0.10,0.10,0.10,0.10,0.10,0.10,0.60,0.60,0.60,1.40,1.40,1.40,0.60,0.60,0.60,0.70,0.70,0.70,0.90,0.90,0.90,0.20,0.20,0.20,0.00,0.00,0.00,0.20,0.20,0.20,1.00,1.00,1.00,0.00,0.00,0.00,0.00,0.00,0.00,0.20,0.20,0.20,0.00,0.00,0.00,0.20,0.20,0.20,0.00,0.00,0.00,0.30,0.30],\"relative_humidity_2m\":[82,82,81,80,80,80,79,78,78,78,79,81,82,82,82,82,82,83,83,84,85,86,86,84,85,85,84,84,84,84,83,84,84,85,86,85,84,83,86,85,83,81,81,80,80,80,80,81,81,82,82,82,82,82,82,82,82,82,83,85,85,85,86,85,84,85,84,83,83,84,83,82,82,82,83,83,85,86,85,83,83,84,85,86,86,86,86,86,86,85,85,85,84,84,83,83,83,84,86,87,86,85,84,83,82,82,83,85,86,87,87,87,87,86,86,86,86,86,86,85,85,85,86,86,86,86,86,85,85,85,85,86,86,86,86,86,86,86,86,85,84,83,83,83,84,85,86,86,85,83,82,82,82,82,82,82,82,82,82,82,82,83,83,83,82,82,83,84]}}\n",
      "Biarritz OK (-1.564367, 43.479116)\n",
      "Status code: 200\n",
      "URL: https://api.open-meteo.com/v1/forecast?latitude=-1.467888&longitude=43.48541&hourly=temperature_2m&hourly=rain&hourly=precipitation&hourly=relative_humidity_2m\n",
      "Response: {\"latitude\":-1.5,\"longitude\":43.5,\"generationtime_ms\":0.14960765838623047,\"utc_offset_seconds\":0,\"timezone\":\"GMT\",\"timezone_abbreviation\":\"GMT\",\"elevation\":0.0,\"hourly_units\":{\"time\":\"iso8601\",\"temperature_2m\":\"°C\",\"rain\":\"mm\",\"precipitation\":\"mm\",\"relative_humidity_2m\":\"%\"},\"hourly\":{\"time\":[\"2025-05-02T00:00\",\"2025-05-02T01:00\",\"2025-05-02T02:00\",\"2025-05-02T03:00\",\"2025-05-02T04:00\",\"2025-05-02T05:00\",\"2025-05-02T06:00\",\"2025-05-02T07:00\",\"2025-05-02T08:00\",\"2025-05-02T09:00\",\"2025-05-02T10:00\",\"2025-05-02T11:00\",\"2025-05-02T12:00\",\"2025-05-02T13:00\",\"2025-05-02T14:00\",\"2025-05-02T15:00\",\"2025-05-02T16:00\",\"2025-05-02T17:00\",\"2025-05-02T18:00\",\"2025-05-02T19:00\",\"2025-05-02T20:00\",\"2025-05-02T21:00\",\"2025-05-02T22:00\",\"2025-05-02T23:00\",\"2025-05-03T00:00\",\"2025-05-03T01:00\",\"2025-05-03T02:00\",\"2025-05-03T03:00\",\"2025-05-03T04:00\",\"2025-05-03T05:00\",\"2025-05-03T06:00\",\"2025-05-03T07:00\",\"2025-05-03T08:00\",\"2025-05-03T09:00\",\"2025-05-03T10:00\",\"2025-05-03T11:00\",\"2025-05-03T12:00\",\"2025-05-03T13:00\",\"2025-05-03T14:00\",\"2025-05-03T15:00\",\"2025-05-03T16:00\",\"2025-05-03T17:00\",\"2025-05-03T18:00\",\"2025-05-03T19:00\",\"2025-05-03T20:00\",\"2025-05-03T21:00\",\"2025-05-03T22:00\",\"2025-05-03T23:00\",\"2025-05-04T00:00\",\"2025-05-04T01:00\",\"2025-05-04T02:00\",\"2025-05-04T03:00\",\"2025-05-04T04:00\",\"2025-05-04T05:00\",\"2025-05-04T06:00\",\"2025-05-04T07:00\",\"2025-05-04T08:00\",\"2025-05-04T09:00\",\"2025-05-04T10:00\",\"2025-05-04T11:00\",\"2025-05-04T12:00\",\"2025-05-04T13:00\",\"2025-05-04T14:00\",\"2025-05-04T15:00\",\"2025-05-04T16:00\",\"2025-05-04T17:00\",\"2025-05-04T18:00\",\"2025-05-04T19:00\",\"2025-05-04T20:00\",\"2025-05-04T21:00\",\"2025-05-04T22:00\",\"2025-05-04T23:00\",\"2025-05-05T00:00\",\"2025-05-05T01:00\",\"2025-05-05T02:00\",\"2025-05-05T03:00\",\"2025-05-05T04:00\",\"2025-05-05T05:00\",\"2025-05-05T06:00\",\"2025-05-05T07:00\",\"2025-05-05T08:00\",\"2025-05-05T09:00\",\"2025-05-05T10:00\",\"2025-05-05T11:00\",\"2025-05-05T12:00\",\"2025-05-05T13:00\",\"2025-05-05T14:00\",\"2025-05-05T15:00\",\"2025-05-05T16:00\",\"2025-05-05T17:00\",\"2025-05-05T18:00\",\"2025-05-05T19:00\",\"2025-05-05T20:00\",\"2025-05-05T21:00\",\"2025-05-05T22:00\",\"2025-05-05T23:00\",\"2025-05-06T00:00\",\"2025-05-06T01:00\",\"2025-05-06T02:00\",\"2025-05-06T03:00\",\"2025-05-06T04:00\",\"2025-05-06T05:00\",\"2025-05-06T06:00\",\"2025-05-06T07:00\",\"2025-05-06T08:00\",\"2025-05-06T09:00\",\"2025-05-06T10:00\",\"2025-05-06T11:00\",\"2025-05-06T12:00\",\"2025-05-06T13:00\",\"2025-05-06T14:00\",\"2025-05-06T15:00\",\"2025-05-06T16:00\",\"2025-05-06T17:00\",\"2025-05-06T18:00\",\"2025-05-06T19:00\",\"2025-05-06T20:00\",\"2025-05-06T21:00\",\"2025-05-06T22:00\",\"2025-05-06T23:00\",\"2025-05-07T00:00\",\"2025-05-07T01:00\",\"2025-05-07T02:00\",\"2025-05-07T03:00\",\"2025-05-07T04:00\",\"2025-05-07T05:00\",\"2025-05-07T06:00\",\"2025-05-07T07:00\",\"2025-05-07T08:00\",\"2025-05-07T09:00\",\"2025-05-07T10:00\",\"2025-05-07T11:00\",\"2025-05-07T12:00\",\"2025-05-07T13:00\",\"2025-05-07T14:00\",\"2025-05-07T15:00\",\"2025-05-07T16:00\",\"2025-05-07T17:00\",\"2025-05-07T18:00\",\"2025-05-07T19:00\",\"2025-05-07T20:00\",\"2025-05-07T21:00\",\"2025-05-07T22:00\",\"2025-05-07T23:00\",\"2025-05-08T00:00\",\"2025-05-08T01:00\",\"2025-05-08T02:00\",\"2025-05-08T03:00\",\"2025-05-08T04:00\",\"2025-05-08T05:00\",\"2025-05-08T06:00\",\"2025-05-08T07:00\",\"2025-05-08T08:00\",\"2025-05-08T09:00\",\"2025-05-08T10:00\",\"2025-05-08T11:00\",\"2025-05-08T12:00\",\"2025-05-08T13:00\",\"2025-05-08T14:00\",\"2025-05-08T15:00\",\"2025-05-08T16:00\",\"2025-05-08T17:00\",\"2025-05-08T18:00\",\"2025-05-08T19:00\",\"2025-05-08T20:00\",\"2025-05-08T21:00\",\"2025-05-08T22:00\",\"2025-05-08T23:00\"],\"temperature_2m\":[28.4,28.4,28.5,28.5,28.6,28.6,28.8,28.8,28.9,29.0,29.0,29.0,29.0,29.0,29.0,29.0,28.9,28.9,28.7,28.5,28.3,28.1,28.0,28.0,28.1,28.2,28.2,28.2,28.2,28.2,28.4,28.5,28.2,28.0,27.9,27.9,28.0,28.2,28.3,28.3,28.4,28.4,28.4,28.5,28.6,28.6,28.6,28.6,28.6,28.5,28.5,28.6,28.6,28.6,28.6,28.6,28.7,28.8,28.9,28.6,28.2,28.0,28.2,28.2,28.2,28.4,28.3,28.2,28.3,28.4,28.2,28.3,28.4,28.4,28.4,28.4,28.3,28.0,27.9,28.0,28.1,28.1,28.0,28.0,28.0,28.0,28.0,28.0,28.0,28.0,28.0,28.0,28.0,27.9,28.0,28.0,28.0,27.9,27.7,27.6,27.6,27.8,27.9,28.0,28.0,28.1,28.0,27.8,27.6,27.5,27.6,27.6,27.6,27.5,27.5,27.5,27.5,27.6,27.6,27.7,27.8,27.7,27.6,27.6,27.5,27.5,27.5,27.7,27.7,27.6,27.5,27.5,27.4,27.4,27.4,27.4,27.5,27.5,27.6,27.7,27.8,27.9,27.9,28.0,27.9,27.8,27.5,27.5,27.6,27.9,28.1,28.2,28.2,28.2,28.2,28.2,28.2,28.4,28.5,28.5,28.5,28.4,28.4,28.4,28.4,28.4,28.4,28.3],\"rain\":[0.00,0.00,0.00,0.00,0.00,0.00,0.00,0.00,0.00,0.00,0.00,0.00,0.00,0.00,0.00,0.00,0.00,0.00,0.00,0.00,0.00,0.00,0.00,0.00,0.00,0.00,0.00,0.00,0.00,0.00,0.00,0.00,0.00,0.00,0.00,0.00,0.00,0.00,0.00,0.00,0.00,0.00,0.00,0.00,0.00,0.00,0.00,0.00,0.00,0.00,0.00,0.00,0.00,0.00,0.00,0.00,0.00,0.00,0.00,0.00,0.00,0.00,0.00,0.00,0.00,0.00,0.00,0.00,0.00,0.00,0.00,0.00,0.00,0.00,0.00,0.00,0.00,0.00,0.00,0.00,0.00,0.00,0.00,0.00,0.00,0.00,0.00,0.00,0.00,0.00,0.00,0.00,0.00,0.00,0.00,0.00,0.00,0.00,0.00,0.00,0.00,0.00,0.00,0.00,0.00,0.00,0.00,0.00,0.00,0.00,0.00,0.00,0.00,0.00,0.00,0.00,0.00,0.00,0.00,0.00,0.00,0.00,0.00,0.00,0.00,0.00,0.00,0.00,0.00,0.00,0.00,0.00,0.00,0.00,0.00,0.00,0.00,0.00,0.00,0.00,0.00,0.00,0.00,0.00,0.00,0.00,0.00,0.00,0.00,0.00,0.00,0.00,0.00,0.00,0.00,0.00,0.00,0.00,0.00,0.00,0.00,0.00,0.00,0.00,0.00,0.00,0.00,0.00],\"precipitation\":[0.00,0.00,0.00,0.00,0.00,0.00,0.00,0.00,0.00,0.00,0.00,0.00,0.00,0.00,0.00,0.00,0.10,0.10,0.10,0.10,0.10,0.20,0.20,0.10,0.00,0.00,0.10,0.10,0.10,0.10,0.00,0.00,0.10,0.20,0.50,0.50,0.30,0.00,0.00,0.10,0.00,0.00,0.00,0.00,0.00,0.00,0.00,0.00,0.00,0.00,0.00,0.00,0.00,0.00,0.00,0.00,0.00,0.00,0.00,0.10,0.10,0.10,0.00,0.00,0.00,0.00,0.00,0.10,0.20,0.00,0.00,0.00,0.00,0.10,0.00,0.00,0.00,0.30,0.60,0.10,0.10,0.30,0.40,0.50,0.70,0.60,0.60,0.60,0.50,0.50,0.50,0.10,0.10,0.10,0.00,0.00,0.00,0.80,0.80,0.80,1.00,1.00,1.00,0.00,0.00,0.00,0.90,0.90,0.90,1.90,1.90,1.90,1.10,1.10,1.10,0.00,0.00,0.00,0.10,0.10,0.10,0.50,0.50,0.50,1.20,1.20,1.20,1.00,1.00,1.00,0.80,0.80,0.80,0.80,0.80,0.80,0.20,0.20,0.20,0.00,0.00,0.00,0.00,0.00,0.00,0.60,0.60,0.60,0.00,0.00,0.00,0.00,0.00,0.00,0.30,0.30,0.30,0.00,0.00,0.00,0.10,0.10,0.10,0.00,0.00,0.00,0.00,0.00],\"relative_humidity_2m\":[84,84,82,81,80,80,80,80,80,79,79,79,80,80,80,80,81,82,82,84,85,87,87,86,85,84,84,84,84,84,83,83,84,85,86,86,85,83,82,82,82,82,82,82,81,81,81,81,81,81,82,80,81,82,83,83,82,81,80,81,84,85,84,84,84,84,84,85,84,82,83,82,82,82,82,82,83,86,86,85,85,84,84,85,85,85,85,85,85,84,84,84,84,84,84,83,83,84,86,87,86,85,84,83,82,82,83,85,86,87,87,87,87,86,86,86,86,86,86,85,85,85,86,86,86,86,86,85,85,85,85,86,86,86,87,87,87,86,85,85,84,84,84,84,84,85,86,86,85,83,82,82,82,82,82,82,82,82,82,82,82,83,83,83,83,83,83,84]}}\n",
      "Bayonne OK (-1.467888, 43.48541)\n",
      "Status code: 200\n",
      "URL: https://api.open-meteo.com/v1/forecast?latitude=-1.185842&longitude=46.157032&hourly=temperature_2m&hourly=rain&hourly=precipitation&hourly=relative_humidity_2m\n",
      "Response: {\"latitude\":-1.125,\"longitude\":46.125,\"generationtime_ms\":0.23436546325683594,\"utc_offset_seconds\":0,\"timezone\":\"GMT\",\"timezone_abbreviation\":\"GMT\",\"elevation\":0.0,\"hourly_units\":{\"time\":\"iso8601\",\"temperature_2m\":\"°C\",\"rain\":\"mm\",\"precipitation\":\"mm\",\"relative_humidity_2m\":\"%\"},\"hourly\":{\"time\":[\"2025-05-02T00:00\",\"2025-05-02T01:00\",\"2025-05-02T02:00\",\"2025-05-02T03:00\",\"2025-05-02T04:00\",\"2025-05-02T05:00\",\"2025-05-02T06:00\",\"2025-05-02T07:00\",\"2025-05-02T08:00\",\"2025-05-02T09:00\",\"2025-05-02T10:00\",\"2025-05-02T11:00\",\"2025-05-02T12:00\",\"2025-05-02T13:00\",\"2025-05-02T14:00\",\"2025-05-02T15:00\",\"2025-05-02T16:00\",\"2025-05-02T17:00\",\"2025-05-02T18:00\",\"2025-05-02T19:00\",\"2025-05-02T20:00\",\"2025-05-02T21:00\",\"2025-05-02T22:00\",\"2025-05-02T23:00\",\"2025-05-03T00:00\",\"2025-05-03T01:00\",\"2025-05-03T02:00\",\"2025-05-03T03:00\",\"2025-05-03T04:00\",\"2025-05-03T05:00\",\"2025-05-03T06:00\",\"2025-05-03T07:00\",\"2025-05-03T08:00\",\"2025-05-03T09:00\",\"2025-05-03T10:00\",\"2025-05-03T11:00\",\"2025-05-03T12:00\",\"2025-05-03T13:00\",\"2025-05-03T14:00\",\"2025-05-03T15:00\",\"2025-05-03T16:00\",\"2025-05-03T17:00\",\"2025-05-03T18:00\",\"2025-05-03T19:00\",\"2025-05-03T20:00\",\"2025-05-03T21:00\",\"2025-05-03T22:00\",\"2025-05-03T23:00\",\"2025-05-04T00:00\",\"2025-05-04T01:00\",\"2025-05-04T02:00\",\"2025-05-04T03:00\",\"2025-05-04T04:00\",\"2025-05-04T05:00\",\"2025-05-04T06:00\",\"2025-05-04T07:00\",\"2025-05-04T08:00\",\"2025-05-04T09:00\",\"2025-05-04T10:00\",\"2025-05-04T11:00\",\"2025-05-04T12:00\",\"2025-05-04T13:00\",\"2025-05-04T14:00\",\"2025-05-04T15:00\",\"2025-05-04T16:00\",\"2025-05-04T17:00\",\"2025-05-04T18:00\",\"2025-05-04T19:00\",\"2025-05-04T20:00\",\"2025-05-04T21:00\",\"2025-05-04T22:00\",\"2025-05-04T23:00\",\"2025-05-05T00:00\",\"2025-05-05T01:00\",\"2025-05-05T02:00\",\"2025-05-05T03:00\",\"2025-05-05T04:00\",\"2025-05-05T05:00\",\"2025-05-05T06:00\",\"2025-05-05T07:00\",\"2025-05-05T08:00\",\"2025-05-05T09:00\",\"2025-05-05T10:00\",\"2025-05-05T11:00\",\"2025-05-05T12:00\",\"2025-05-05T13:00\",\"2025-05-05T14:00\",\"2025-05-05T15:00\",\"2025-05-05T16:00\",\"2025-05-05T17:00\",\"2025-05-05T18:00\",\"2025-05-05T19:00\",\"2025-05-05T20:00\",\"2025-05-05T21:00\",\"2025-05-05T22:00\",\"2025-05-05T23:00\",\"2025-05-06T00:00\",\"2025-05-06T01:00\",\"2025-05-06T02:00\",\"2025-05-06T03:00\",\"2025-05-06T04:00\",\"2025-05-06T05:00\",\"2025-05-06T06:00\",\"2025-05-06T07:00\",\"2025-05-06T08:00\",\"2025-05-06T09:00\",\"2025-05-06T10:00\",\"2025-05-06T11:00\",\"2025-05-06T12:00\",\"2025-05-06T13:00\",\"2025-05-06T14:00\",\"2025-05-06T15:00\",\"2025-05-06T16:00\",\"2025-05-06T17:00\",\"2025-05-06T18:00\",\"2025-05-06T19:00\",\"2025-05-06T20:00\",\"2025-05-06T21:00\",\"2025-05-06T22:00\",\"2025-05-06T23:00\",\"2025-05-07T00:00\",\"2025-05-07T01:00\",\"2025-05-07T02:00\",\"2025-05-07T03:00\",\"2025-05-07T04:00\",\"2025-05-07T05:00\",\"2025-05-07T06:00\",\"2025-05-07T07:00\",\"2025-05-07T08:00\",\"2025-05-07T09:00\",\"2025-05-07T10:00\",\"2025-05-07T11:00\",\"2025-05-07T12:00\",\"2025-05-07T13:00\",\"2025-05-07T14:00\",\"2025-05-07T15:00\",\"2025-05-07T16:00\",\"2025-05-07T17:00\",\"2025-05-07T18:00\",\"2025-05-07T19:00\",\"2025-05-07T20:00\",\"2025-05-07T21:00\",\"2025-05-07T22:00\",\"2025-05-07T23:00\",\"2025-05-08T00:00\",\"2025-05-08T01:00\",\"2025-05-08T02:00\",\"2025-05-08T03:00\",\"2025-05-08T04:00\",\"2025-05-08T05:00\",\"2025-05-08T06:00\",\"2025-05-08T07:00\",\"2025-05-08T08:00\",\"2025-05-08T09:00\",\"2025-05-08T10:00\",\"2025-05-08T11:00\",\"2025-05-08T12:00\",\"2025-05-08T13:00\",\"2025-05-08T14:00\",\"2025-05-08T15:00\",\"2025-05-08T16:00\",\"2025-05-08T17:00\",\"2025-05-08T18:00\",\"2025-05-08T19:00\",\"2025-05-08T20:00\",\"2025-05-08T21:00\",\"2025-05-08T22:00\",\"2025-05-08T23:00\"],\"temperature_2m\":[28.9,28.9,29.0,29.0,29.0,29.0,29.0,29.0,29.0,29.1,29.2,29.2,29.2,29.2,29.2,29.2,29.2,29.2,29.2,29.1,29.1,29.0,29.0,29.0,29.0,29.0,29.0,28.9,28.9,28.9,28.9,28.8,28.6,28.6,28.7,28.8,28.8,28.9,28.9,28.8,28.8,28.7,28.6,28.5,28.6,28.6,28.6,28.6,28.6,28.8,28.8,28.9,28.9,29.0,29.0,29.0,29.1,29.2,29.3,29.3,29.4,29.4,29.4,29.4,29.2,29.1,28.9,28.7,28.6,28.5,28.5,28.5,28.5,28.6,28.6,28.6,28.5,28.6,28.9,29.0,29.0,29.0,29.0,29.0,29.0,28.9,28.8,28.7,28.6,28.6,28.5,28.4,28.1,28.0,28.0,28.1,28.2,28.2,28.2,28.2,28.2,28.2,28.2,28.1,28.0,28.0,28.0,28.2,28.3,28.3,28.2,28.2,28.1,28.1,28.1,28.1,28.1,28.1,28.1,28.2,28.4,28.5,28.5,28.6,28.7,28.8,28.9,29.0,28.9,28.8,28.6,28.4,28.2,28.3,28.5,28.6,28.6,28.5,28.5,28.3,28.1,28.0,27.9,27.9,27.9,28.0,28.2,28.4,28.4,28.2,28.2,28.3,28.5,28.6,28.7,28.6,28.6,28.7,28.8,28.8,28.9,28.9,29.0,29.0,29.0,29.0,28.8,28.5],\"rain\":[0.00,0.00,0.00,0.00,0.00,0.00,0.00,0.00,0.00,0.00,0.00,0.00,0.00,0.00,0.00,0.00,0.00,0.00,0.00,0.00,0.00,0.00,0.00,0.00,0.00,0.00,0.00,0.00,0.00,0.00,0.00,0.00,0.00,0.00,0.00,0.00,0.00,0.00,0.00,0.00,0.00,0.00,0.00,0.00,0.00,0.00,0.00,0.00,0.00,0.00,0.00,0.00,0.00,0.00,0.00,0.00,0.00,0.00,0.00,0.00,0.00,0.00,0.00,0.00,0.00,0.00,0.00,0.00,0.00,0.00,0.00,0.00,0.00,0.00,0.00,0.00,0.00,0.00,0.00,0.00,0.00,0.00,0.00,0.00,0.00,0.00,0.00,0.00,0.00,0.00,0.00,0.00,0.00,0.00,0.00,0.00,0.00,0.00,0.00,0.00,0.00,0.00,0.00,0.00,0.00,0.00,0.00,0.00,0.00,0.00,0.00,0.00,0.00,0.00,0.00,0.00,0.00,0.00,0.00,0.00,0.00,0.00,0.00,0.00,0.00,0.00,0.00,0.00,0.00,0.00,0.00,0.00,0.00,0.00,0.00,0.00,0.00,0.00,0.00,0.00,0.00,0.00,0.00,0.00,0.00,0.00,0.00,0.00,0.00,0.00,0.00,0.00,0.00,0.00,0.00,0.00,0.00,0.00,0.00,0.00,0.00,0.00,0.00,0.00,0.00,0.00,0.00,0.00],\"precipitation\":[0.00,0.00,0.00,0.00,0.00,0.00,0.00,0.10,0.00,0.00,0.00,0.00,0.00,0.00,0.00,0.00,0.00,0.00,0.00,0.00,0.00,0.00,0.10,0.00,0.10,0.00,0.00,0.00,0.10,0.10,0.10,0.10,0.10,0.10,0.00,0.00,0.10,0.00,0.00,0.10,0.10,0.10,0.10,0.10,0.10,0.00,0.10,0.00,0.00,0.00,0.00,0.00,0.00,0.00,0.00,0.00,0.00,0.00,0.00,0.00,0.00,0.00,0.00,0.00,0.00,0.00,0.10,0.20,0.10,0.10,0.10,0.10,0.00,0.00,0.00,0.10,0.10,0.10,0.10,0.00,0.00,0.00,0.00,0.00,0.10,0.30,0.30,0.30,1.00,1.00,1.00,1.00,1.00,1.00,0.10,0.10,0.10,0.10,0.10,0.10,0.50,0.50,0.50,1.60,1.60,1.60,0.30,0.30,0.30,0.40,0.40,0.40,1.20,1.20,1.20,0.50,0.50,0.50,0.00,0.00,0.00,0.00,0.00,0.00,0.00,0.00,0.00,0.10,0.10,0.10,1.00,1.00,1.00,0.00,0.00,0.00,0.10,0.10,0.10,0.30,0.30,0.30,0.20,0.20,0.20,0.10,0.10,0.10,1.00,1.00,1.00,0.00,0.00,0.00,0.30,0.30,0.30,0.10,0.10,0.10,0.10,0.10,0.10,0.00,0.00,0.00,0.40,0.40],\"relative_humidity_2m\":[80,80,80,80,80,80,80,81,81,80,80,80,80,80,80,81,81,81,81,81,81,82,81,81,81,81,81,81,81,81,81,81,82,82,82,82,82,82,82,83,83,83,84,84,84,82,82,81,81,80,80,80,81,81,81,82,81,78,78,78,78,78,78,78,79,80,82,83,83,83,83,83,82,81,81,82,83,82,81,80,80,80,80,80,81,82,82,83,83,84,84,84,85,85,84,84,83,83,84,84,84,84,84,85,86,86,85,84,83,83,84,84,84,84,84,84,84,84,83,83,82,82,82,82,81,81,80,78,79,80,81,83,84,84,83,82,82,82,83,84,84,85,86,86,86,85,83,82,83,84,85,84,83,82,82,82,82,82,81,81,81,81,81,81,81,81,82,84]}}\n",
      "La Rochelle OK (-1.185842, 46.157032)\n"
     ]
    },
    {
     "data": {
      "text/html": [
       "<div>\n",
       "<style scoped>\n",
       "    .dataframe tbody tr th:only-of-type {\n",
       "        vertical-align: middle;\n",
       "    }\n",
       "\n",
       "    .dataframe tbody tr th {\n",
       "        vertical-align: top;\n",
       "    }\n",
       "\n",
       "    .dataframe thead th {\n",
       "        text-align: right;\n",
       "    }\n",
       "</style>\n",
       "<table border=\"1\" class=\"dataframe\">\n",
       "  <thead>\n",
       "    <tr style=\"text-align: right;\">\n",
       "      <th></th>\n",
       "      <th>time</th>\n",
       "      <th>temperature_2m</th>\n",
       "      <th>rain</th>\n",
       "      <th>precipitation</th>\n",
       "      <th>relative_humidity_2m</th>\n",
       "      <th>city</th>\n",
       "      <th>latitude</th>\n",
       "      <th>longitude</th>\n",
       "    </tr>\n",
       "  </thead>\n",
       "  <tbody>\n",
       "    <tr>\n",
       "      <th>0</th>\n",
       "      <td>2025-05-02T00:00</td>\n",
       "      <td>22.2</td>\n",
       "      <td>0.0</td>\n",
       "      <td>0.0</td>\n",
       "      <td>86</td>\n",
       "      <td>Mont Saint Michel</td>\n",
       "      <td>7.0889</td>\n",
       "      <td>43.849841</td>\n",
       "    </tr>\n",
       "    <tr>\n",
       "      <th>1</th>\n",
       "      <td>2025-05-02T01:00</td>\n",
       "      <td>22.1</td>\n",
       "      <td>0.0</td>\n",
       "      <td>0.0</td>\n",
       "      <td>87</td>\n",
       "      <td>Mont Saint Michel</td>\n",
       "      <td>7.0889</td>\n",
       "      <td>43.849841</td>\n",
       "    </tr>\n",
       "    <tr>\n",
       "      <th>2</th>\n",
       "      <td>2025-05-02T02:00</td>\n",
       "      <td>21.8</td>\n",
       "      <td>0.0</td>\n",
       "      <td>0.0</td>\n",
       "      <td>88</td>\n",
       "      <td>Mont Saint Michel</td>\n",
       "      <td>7.0889</td>\n",
       "      <td>43.849841</td>\n",
       "    </tr>\n",
       "    <tr>\n",
       "      <th>3</th>\n",
       "      <td>2025-05-02T03:00</td>\n",
       "      <td>21.2</td>\n",
       "      <td>0.0</td>\n",
       "      <td>0.0</td>\n",
       "      <td>92</td>\n",
       "      <td>Mont Saint Michel</td>\n",
       "      <td>7.0889</td>\n",
       "      <td>43.849841</td>\n",
       "    </tr>\n",
       "    <tr>\n",
       "      <th>4</th>\n",
       "      <td>2025-05-02T04:00</td>\n",
       "      <td>21.8</td>\n",
       "      <td>0.0</td>\n",
       "      <td>0.0</td>\n",
       "      <td>92</td>\n",
       "      <td>Mont Saint Michel</td>\n",
       "      <td>7.0889</td>\n",
       "      <td>43.849841</td>\n",
       "    </tr>\n",
       "  </tbody>\n",
       "</table>\n",
       "</div>"
      ],
      "text/plain": [
       "               time  temperature_2m  rain  precipitation  \\\n",
       "0  2025-05-02T00:00            22.2   0.0            0.0   \n",
       "1  2025-05-02T01:00            22.1   0.0            0.0   \n",
       "2  2025-05-02T02:00            21.8   0.0            0.0   \n",
       "3  2025-05-02T03:00            21.2   0.0            0.0   \n",
       "4  2025-05-02T04:00            21.8   0.0            0.0   \n",
       "\n",
       "   relative_humidity_2m               city  latitude  longitude  \n",
       "0                    86  Mont Saint Michel    7.0889  43.849841  \n",
       "1                    87  Mont Saint Michel    7.0889  43.849841  \n",
       "2                    88  Mont Saint Michel    7.0889  43.849841  \n",
       "3                    92  Mont Saint Michel    7.0889  43.849841  \n",
       "4                    92  Mont Saint Michel    7.0889  43.849841  "
      ]
     },
     "execution_count": 79,
     "metadata": {},
     "output_type": "execute_result"
    }
   ],
   "source": [
    "def json_to_df(weather_data, city, lat, lon):\n",
    "    if weather_data and \"hourly\" in weather_data:\n",
    "        df = pd.DataFrame(weather_data[\"hourly\"])\n",
    "        df[\"city\"] = city\n",
    "        df[\"latitude\"] = lat\n",
    "        df[\"longitude\"] = lon\n",
    "        return df\n",
    "    else:\n",
    "        return pd.DataFrame()  # DataFrame vide\n",
    "\n",
    "# Génération du DataFrame final\n",
    "df_final = pd.DataFrame()\n",
    "\n",
    "for city in villes:\n",
    "    lat, lon = get_coordinates(city)\n",
    "    if lat is not None and lon is not None:\n",
    "        weather_data = get_weather(lat, lon)\n",
    "        df_city = json_to_df(weather_data, city, lat, lon)\n",
    "        df_final = pd.concat([df_final, df_city], ignore_index=True)\n",
    "        print(f\"{city} OK ({lat}, {lon})\")\n",
    "        \n",
    "\n",
    "df_final.reset_index(drop=True, inplace=True)\n",
    "df_final.head()"
   ]
  },
  {
   "cell_type": "code",
   "execution_count": 80,
   "metadata": {},
   "outputs": [
    {
     "data": {
      "text/plain": [
       "(5880, 8)"
      ]
     },
     "execution_count": 80,
     "metadata": {},
     "output_type": "execute_result"
    }
   ],
   "source": [
    "df_final.shape # on vérifie les dimensions du dataframe final. On a 5880 lignes, ce qui correspond aux 35 villes et 168 heures de prévisions météo (7 jours * 24 heures) pour chaque ville"
   ]
  },
  {
   "cell_type": "code",
   "execution_count": 83,
   "metadata": {},
   "outputs": [
    {
     "data": {
      "text/html": [
       "<div>\n",
       "<style scoped>\n",
       "    .dataframe tbody tr th:only-of-type {\n",
       "        vertical-align: middle;\n",
       "    }\n",
       "\n",
       "    .dataframe tbody tr th {\n",
       "        vertical-align: top;\n",
       "    }\n",
       "\n",
       "    .dataframe thead th {\n",
       "        text-align: right;\n",
       "    }\n",
       "</style>\n",
       "<table border=\"1\" class=\"dataframe\">\n",
       "  <thead>\n",
       "    <tr style=\"text-align: right;\">\n",
       "      <th></th>\n",
       "      <th>time</th>\n",
       "      <th>temperature_2m</th>\n",
       "      <th>rain</th>\n",
       "      <th>precipitation</th>\n",
       "      <th>relative_humidity_2m</th>\n",
       "      <th>city</th>\n",
       "      <th>latitude</th>\n",
       "      <th>longitude</th>\n",
       "    </tr>\n",
       "  </thead>\n",
       "  <tbody>\n",
       "    <tr>\n",
       "      <th>3360</th>\n",
       "      <td>2025-05-02T00:00</td>\n",
       "      <td>24.0</td>\n",
       "      <td>0.0</td>\n",
       "      <td>0.0</td>\n",
       "      <td>87</td>\n",
       "      <td>Marseille</td>\n",
       "      <td>5.367037</td>\n",
       "      <td>43.269776</td>\n",
       "    </tr>\n",
       "    <tr>\n",
       "      <th>3361</th>\n",
       "      <td>2025-05-02T01:00</td>\n",
       "      <td>23.7</td>\n",
       "      <td>0.0</td>\n",
       "      <td>0.0</td>\n",
       "      <td>87</td>\n",
       "      <td>Marseille</td>\n",
       "      <td>5.367037</td>\n",
       "      <td>43.269776</td>\n",
       "    </tr>\n",
       "    <tr>\n",
       "      <th>3362</th>\n",
       "      <td>2025-05-02T02:00</td>\n",
       "      <td>23.4</td>\n",
       "      <td>0.0</td>\n",
       "      <td>0.0</td>\n",
       "      <td>89</td>\n",
       "      <td>Marseille</td>\n",
       "      <td>5.367037</td>\n",
       "      <td>43.269776</td>\n",
       "    </tr>\n",
       "    <tr>\n",
       "      <th>3363</th>\n",
       "      <td>2025-05-02T03:00</td>\n",
       "      <td>23.1</td>\n",
       "      <td>0.0</td>\n",
       "      <td>0.0</td>\n",
       "      <td>89</td>\n",
       "      <td>Marseille</td>\n",
       "      <td>5.367037</td>\n",
       "      <td>43.269776</td>\n",
       "    </tr>\n",
       "    <tr>\n",
       "      <th>3364</th>\n",
       "      <td>2025-05-02T04:00</td>\n",
       "      <td>24.1</td>\n",
       "      <td>0.0</td>\n",
       "      <td>0.0</td>\n",
       "      <td>86</td>\n",
       "      <td>Marseille</td>\n",
       "      <td>5.367037</td>\n",
       "      <td>43.269776</td>\n",
       "    </tr>\n",
       "    <tr>\n",
       "      <th>...</th>\n",
       "      <td>...</td>\n",
       "      <td>...</td>\n",
       "      <td>...</td>\n",
       "      <td>...</td>\n",
       "      <td>...</td>\n",
       "      <td>...</td>\n",
       "      <td>...</td>\n",
       "      <td>...</td>\n",
       "    </tr>\n",
       "    <tr>\n",
       "      <th>3523</th>\n",
       "      <td>2025-05-08T19:00</td>\n",
       "      <td>27.3</td>\n",
       "      <td>0.0</td>\n",
       "      <td>0.0</td>\n",
       "      <td>62</td>\n",
       "      <td>Marseille</td>\n",
       "      <td>5.367037</td>\n",
       "      <td>43.269776</td>\n",
       "    </tr>\n",
       "    <tr>\n",
       "      <th>3524</th>\n",
       "      <td>2025-05-08T20:00</td>\n",
       "      <td>26.6</td>\n",
       "      <td>0.0</td>\n",
       "      <td>0.0</td>\n",
       "      <td>65</td>\n",
       "      <td>Marseille</td>\n",
       "      <td>5.367037</td>\n",
       "      <td>43.269776</td>\n",
       "    </tr>\n",
       "    <tr>\n",
       "      <th>3525</th>\n",
       "      <td>2025-05-08T21:00</td>\n",
       "      <td>26.0</td>\n",
       "      <td>0.0</td>\n",
       "      <td>0.0</td>\n",
       "      <td>69</td>\n",
       "      <td>Marseille</td>\n",
       "      <td>5.367037</td>\n",
       "      <td>43.269776</td>\n",
       "    </tr>\n",
       "    <tr>\n",
       "      <th>3526</th>\n",
       "      <td>2025-05-08T22:00</td>\n",
       "      <td>25.5</td>\n",
       "      <td>0.0</td>\n",
       "      <td>0.0</td>\n",
       "      <td>72</td>\n",
       "      <td>Marseille</td>\n",
       "      <td>5.367037</td>\n",
       "      <td>43.269776</td>\n",
       "    </tr>\n",
       "    <tr>\n",
       "      <th>3527</th>\n",
       "      <td>2025-05-08T23:00</td>\n",
       "      <td>25.0</td>\n",
       "      <td>0.0</td>\n",
       "      <td>0.0</td>\n",
       "      <td>75</td>\n",
       "      <td>Marseille</td>\n",
       "      <td>5.367037</td>\n",
       "      <td>43.269776</td>\n",
       "    </tr>\n",
       "  </tbody>\n",
       "</table>\n",
       "<p>168 rows × 8 columns</p>\n",
       "</div>"
      ],
      "text/plain": [
       "                  time  temperature_2m  rain  precipitation  \\\n",
       "3360  2025-05-02T00:00            24.0   0.0            0.0   \n",
       "3361  2025-05-02T01:00            23.7   0.0            0.0   \n",
       "3362  2025-05-02T02:00            23.4   0.0            0.0   \n",
       "3363  2025-05-02T03:00            23.1   0.0            0.0   \n",
       "3364  2025-05-02T04:00            24.1   0.0            0.0   \n",
       "...                ...             ...   ...            ...   \n",
       "3523  2025-05-08T19:00            27.3   0.0            0.0   \n",
       "3524  2025-05-08T20:00            26.6   0.0            0.0   \n",
       "3525  2025-05-08T21:00            26.0   0.0            0.0   \n",
       "3526  2025-05-08T22:00            25.5   0.0            0.0   \n",
       "3527  2025-05-08T23:00            25.0   0.0            0.0   \n",
       "\n",
       "      relative_humidity_2m       city  latitude  longitude  \n",
       "3360                    87  Marseille  5.367037  43.269776  \n",
       "3361                    87  Marseille  5.367037  43.269776  \n",
       "3362                    89  Marseille  5.367037  43.269776  \n",
       "3363                    89  Marseille  5.367037  43.269776  \n",
       "3364                    86  Marseille  5.367037  43.269776  \n",
       "...                    ...        ...       ...        ...  \n",
       "3523                    62  Marseille  5.367037  43.269776  \n",
       "3524                    65  Marseille  5.367037  43.269776  \n",
       "3525                    69  Marseille  5.367037  43.269776  \n",
       "3526                    72  Marseille  5.367037  43.269776  \n",
       "3527                    75  Marseille  5.367037  43.269776  \n",
       "\n",
       "[168 rows x 8 columns]"
      ]
     },
     "execution_count": 83,
     "metadata": {},
     "output_type": "execute_result"
    }
   ],
   "source": [
    "df_final[df_final['city'] == 'Marseille']"
   ]
  },
  {
   "cell_type": "code",
   "execution_count": 84,
   "metadata": {},
   "outputs": [
    {
     "data": {
      "text/plain": [
       "5.4"
      ]
     },
     "execution_count": 84,
     "metadata": {},
     "output_type": "execute_result"
    }
   ],
   "source": [
    "df_final['precipitation'].max()"
   ]
  },
  {
   "cell_type": "code",
   "execution_count": 85,
   "metadata": {},
   "outputs": [
    {
     "data": {
      "text/plain": [
       "time                    False\n",
       "temperature_2m          False\n",
       "rain                    False\n",
       "precipitation           False\n",
       "relative_humidity_2m    False\n",
       "city                    False\n",
       "latitude                False\n",
       "longitude               False\n",
       "dtype: bool"
      ]
     },
     "execution_count": 85,
     "metadata": {},
     "output_type": "execute_result"
    }
   ],
   "source": [
    "df_final.isnull().any() #verification des valeurs nulles"
   ]
  },
  {
   "cell_type": "code",
   "execution_count": 86,
   "metadata": {},
   "outputs": [
    {
     "data": {
      "text/plain": [
       "35"
      ]
     },
     "execution_count": 86,
     "metadata": {},
     "output_type": "execute_result"
    }
   ],
   "source": [
    "df_final['city'].nunique() # verification rapide du nombre de ville unique dans notre dataframe"
   ]
  },
  {
   "cell_type": "markdown",
   "metadata": {},
   "source": [
    "On choisit les 5 meilleures destinations en fonction des températures moyennes et precipitations moyennes"
   ]
  },
  {
   "cell_type": "code",
   "execution_count": null,
   "metadata": {},
   "outputs": [],
   "source": []
  }
 ],
 "metadata": {
  "kernelspec": {
   "display_name": "base",
   "language": "python",
   "name": "python3"
  },
  "language_info": {
   "codemirror_mode": {
    "name": "ipython",
    "version": 3
   },
   "file_extension": ".py",
   "mimetype": "text/x-python",
   "name": "python",
   "nbconvert_exporter": "python",
   "pygments_lexer": "ipython3",
   "version": "3.12.4"
  }
 },
 "nbformat": 4,
 "nbformat_minor": 2
}
